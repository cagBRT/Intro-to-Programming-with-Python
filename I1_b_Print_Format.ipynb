{
  "nbformat": 4,
  "nbformat_minor": 0,
  "metadata": {
    "colab": {
      "private_outputs": true,
      "provenance": [],
      "authorship_tag": "ABX9TyOHcqsUSlQ1V+IDmm4vN272",
      "include_colab_link": true
    },
    "kernelspec": {
      "name": "python3",
      "display_name": "Python 3"
    },
    "language_info": {
      "name": "python"
    }
  },
  "cells": [
    {
      "cell_type": "markdown",
      "metadata": {
        "id": "view-in-github",
        "colab_type": "text"
      },
      "source": [
        "<a href=\"https://colab.research.google.com/github/cagBRT/Intro-to-Programming-with-Python/blob/master/I1_b_Print_Format.ipynb\" target=\"_parent\"><img src=\"https://colab.research.google.com/assets/colab-badge.svg\" alt=\"Open In Colab\"/></a>"
      ]
    },
    {
      "cell_type": "markdown",
      "source": [
        "To do formatted output, you can use the .format function"
      ],
      "metadata": {
        "id": "3SpxNgn87bbh"
      }
    },
    {
      "cell_type": "code",
      "source": [
        "#basic print statement\n",
        "print(\"one\", \"two\")"
      ],
      "metadata": {
        "id": "cW8lWDeq7hxU"
      },
      "execution_count": null,
      "outputs": []
    },
    {
      "cell_type": "code",
      "execution_count": null,
      "metadata": {
        "id": "QhC58kwoqfUL"
      },
      "outputs": [],
      "source": [
        "print('{} {}'.format('one', 'two'))"
      ]
    },
    {
      "cell_type": "markdown",
      "source": [
        "**Assignment 1:**\n",
        "Using the format function, print your first and last name"
      ],
      "metadata": {
        "id": "WxM1yNqv7_eT"
      }
    },
    {
      "cell_type": "code",
      "source": [
        "#Assignment 1\n"
      ],
      "metadata": {
        "id": "vvz1gyw88GLd"
      },
      "execution_count": null,
      "outputs": []
    },
    {
      "cell_type": "code",
      "source": [
        "print('{} {}'.format(1, 2))"
      ],
      "metadata": {
        "id": "eOwB4pmj7qT-"
      },
      "execution_count": null,
      "outputs": []
    },
    {
      "cell_type": "markdown",
      "source": [
        "We can rearrange the order of the print by changing the order in the braces"
      ],
      "metadata": {
        "id": "0cSkcxxL73fh"
      }
    },
    {
      "cell_type": "code",
      "source": [
        "print('{1} {0}'.format(1, 2))"
      ],
      "metadata": {
        "id": "BRNlusFV7zvt"
      },
      "execution_count": null,
      "outputs": []
    },
    {
      "cell_type": "markdown",
      "source": [
        "**Assignment 2:**\n",
        "Print your last name, then your first name"
      ],
      "metadata": {
        "id": "x8o3wSbB8K1q"
      }
    },
    {
      "cell_type": "code",
      "source": [
        "#Assignment 2\n"
      ],
      "metadata": {
        "id": "XHa-Gx018RdK"
      },
      "execution_count": null,
      "outputs": []
    },
    {
      "cell_type": "markdown",
      "source": [
        "**Padding and Aligning String Output**<br>\n",
        "Notice the output text uses 10 spaces total for the text. Align right will put the extra spaces in front of the text."
      ],
      "metadata": {
        "id": "sM6EOwKV80BU"
      }
    },
    {
      "cell_type": "code",
      "source": [
        "#To align right\n",
        "print('{:>10}'.format('right'))"
      ],
      "metadata": {
        "id": "cmue0TnN9M5A"
      },
      "execution_count": null,
      "outputs": []
    },
    {
      "cell_type": "markdown",
      "source": [
        "Notice below that the string has 16 characters in it. If we request the output use 20 characters, the extra spaces are in front of the text."
      ],
      "metadata": {
        "id": "Zq7Slday9yN3"
      }
    },
    {
      "cell_type": "code",
      "source": [
        "print('{:>20}'.format('Catherine Gamboa'))"
      ],
      "metadata": {
        "id": "Ezf07J4d9T3B"
      },
      "execution_count": null,
      "outputs": []
    },
    {
      "cell_type": "code",
      "source": [
        "print('{:10}'.format(\"NAME:\"),  '{:>20}'.format('Catherine Gamboa'))"
      ],
      "metadata": {
        "id": "Frhyqa2GQxGm"
      },
      "execution_count": null,
      "outputs": []
    },
    {
      "cell_type": "markdown",
      "source": [
        "**Assignment 3:**<br>\n",
        "Write the following lines with this formatting:<br>\n",
        "(Indents are 4 spaces)\n",
        "\n",
        "Oceans:<br>\n",
        "\n",
        "\n",
        "> North Pacific<br>\n",
        "South Pacific<br>\n",
        "North Atlantic<br>\n",
        "South Atlatnic<br>\n",
        "Artic<br>\n",
        "Indian<br>\n",
        "Southern Ocean<br>\n",
        "\n"
      ],
      "metadata": {
        "id": "KhRkN9jF-Aks"
      }
    },
    {
      "cell_type": "code",
      "source": [
        "#Assignment 3"
      ],
      "metadata": {
        "id": "3GfRF-9cRc5W"
      },
      "execution_count": null,
      "outputs": []
    },
    {
      "cell_type": "code",
      "source": [
        "#@title\n",
        "#Assignment 3\n",
        "oceans_list=[\"North Pacific\", \"South Pacific\", \"North Atlantic\",\n",
        "             \"South Atlantic\", \"Artic\",\"Indian\",\"Southern Ocean\"]\n",
        "\n",
        "print('{:10}'.format(\"Oceans\"))\n",
        "for i in range(len(oceans_list)):\n",
        "  print('{:10}'.format(\" \"),'{:30}'.format(oceans_list[i]))"
      ],
      "metadata": {
        "cellView": "form",
        "id": "57ayiUEj-qb7"
      },
      "execution_count": null,
      "outputs": []
    },
    {
      "cell_type": "markdown",
      "source": [
        "**Let, Right, and Center Aligned**"
      ],
      "metadata": {
        "id": "ETGooJlLRvc7"
      }
    },
    {
      "cell_type": "code",
      "source": [
        "#LEFT Aligned\n",
        "print('{:10}'.format('text'))\n",
        "\n",
        "#CENTER Aligned\n",
        "print('{:^10}'.format('text'))\n",
        "\n",
        "#RIGHT Aligned\n",
        "print('{:>10}'.format('text'))"
      ],
      "metadata": {
        "id": "65MKhzBURzoW"
      },
      "execution_count": null,
      "outputs": []
    },
    {
      "cell_type": "markdown",
      "source": [
        "**Assignment 2:**<br>\n",
        "Print \"Column Header\" in three alignments:<br>\n",
        "\n",
        "\n",
        "*   Left Aligned\n",
        "*   Center Aligned\n",
        "*   Right Aligned<br>\n",
        "\n",
        "The column is 30 spaces wide"
      ],
      "metadata": {
        "id": "r1UgsZP6Sr8-"
      }
    },
    {
      "cell_type": "code",
      "source": [
        "#Assignment 2"
      ],
      "metadata": {
        "id": "3BjUdStiSsQk"
      },
      "execution_count": null,
      "outputs": []
    },
    {
      "cell_type": "markdown",
      "source": [
        "**Truncating Strings**<br>"
      ],
      "metadata": {
        "id": "raXC7VziTpX4"
      }
    },
    {
      "cell_type": "code",
      "source": [
        "#Truncate a string by alloting fewer spaces to the string\n",
        "#Note the decimal point before the 10\n",
        "'{:.10}'.format('This is a really long string')"
      ],
      "metadata": {
        "id": "FhV-mOq-TtVU"
      },
      "execution_count": null,
      "outputs": []
    },
    {
      "cell_type": "markdown",
      "source": [
        "**Assignment 3:**<br>\n",
        "Given the following string, only print the first 5 letters of it."
      ],
      "metadata": {
        "id": "WCO_q211T9nT"
      }
    },
    {
      "cell_type": "code",
      "source": [],
      "metadata": {
        "id": "PDCSTbIPUYIW"
      },
      "execution_count": null,
      "outputs": []
    },
    {
      "cell_type": "markdown",
      "source": [
        "**Format numbers**<br>"
      ],
      "metadata": {
        "id": "xRvjy2r7Uopu"
      }
    },
    {
      "cell_type": "code",
      "source": [
        "#d is for integer\n",
        "#f is for float\n",
        "print('{:d}'.format(98))\n",
        "print('{:f}'.format(98.456))"
      ],
      "metadata": {
        "id": "R9RbiMmqUxXm"
      },
      "execution_count": null,
      "outputs": []
    },
    {
      "cell_type": "markdown",
      "source": [
        "**Assignment 4:**<br>\n",
        "Print the following numbers<br>\n",
        "\n",
        "\n",
        "*   23\n",
        "*   45.32\n",
        "*   3.1415965\n",
        "*   56,567,567\n",
        "\n",
        "\n",
        "\n",
        "\n",
        "\n",
        "\n"
      ],
      "metadata": {
        "id": "mq570UKgVcyR"
      }
    },
    {
      "cell_type": "code",
      "source": [
        "#Assignment 4"
      ],
      "metadata": {
        "id": "jtEn98U_Vwbr"
      },
      "execution_count": null,
      "outputs": []
    },
    {
      "cell_type": "markdown",
      "source": [
        "**Padding Numbers**"
      ],
      "metadata": {
        "id": "N_kBZ2fPV8uu"
      }
    },
    {
      "cell_type": "code",
      "source": [
        "#To right justify numbers\n",
        "#note the extra spaces in front of the number\n",
        "print('{:4d}'.format(42))\n",
        "print('{:4d}'.format(442))\n",
        "print('{:4d}'.format(4442))"
      ],
      "metadata": {
        "id": "SQYGVrfZkRl2"
      },
      "execution_count": null,
      "outputs": []
    },
    {
      "cell_type": "markdown",
      "source": [
        "**Assignment 5**:\n",
        "Print the following list of numbers in a column. <br>The column is 15 spaces wide. <br>\n",
        "\n",
        "readings=[23,23.4,25.1,23.9,26.0,21.9]"
      ],
      "metadata": {
        "id": "XfZcPrmUk4b0"
      }
    },
    {
      "cell_type": "code",
      "source": [
        "#Assignment 5"
      ],
      "metadata": {
        "id": "Rz0KdJhflVlk"
      },
      "execution_count": null,
      "outputs": []
    },
    {
      "cell_type": "markdown",
      "source": [
        "**Padding with zeros**"
      ],
      "metadata": {
        "id": "PTttwk-UlYNk"
      }
    },
    {
      "cell_type": "code",
      "source": [
        "#Add zeros to the left side of numbers\n",
        "print('{:04d}'.format(16))\n",
        "print('{:04d}'.format(116))\n",
        "print('{:04d}'.format(1116))"
      ],
      "metadata": {
        "id": "28d1gQ8PllAo"
      },
      "execution_count": null,
      "outputs": []
    },
    {
      "cell_type": "markdown",
      "source": [
        "**Padding and Truncating**<br>\n",
        "The first number is for the of digits (including the decimal point)<br>\n",
        "The second number is for the number of values to the right of the decimal point"
      ],
      "metadata": {
        "id": "KH3ZS2Ull4nt"
      }
    },
    {
      "cell_type": "code",
      "source": [
        "print('{:06.1f}'.format(3.141592653589793))\n",
        "print('{:06.2f}'.format(3.141592653589793))\n",
        "print('{:06.3f}'.format(3.141592653589793))"
      ],
      "metadata": {
        "id": "WN9dKzO1l38L"
      },
      "execution_count": null,
      "outputs": []
    },
    {
      "cell_type": "markdown",
      "source": [
        "**Signed Numbers**"
      ],
      "metadata": {
        "id": "ZVK83sg7m5il"
      }
    },
    {
      "cell_type": "code",
      "source": [
        "#Note the space in before the d\n",
        "#You need this to align positive numbers\n",
        "print('{: d}'.format((-23)))\n",
        "print('{: d}'.format((23)))"
      ],
      "metadata": {
        "id": "CvCXal9Dm50i"
      },
      "execution_count": null,
      "outputs": []
    },
    {
      "cell_type": "code",
      "source": [
        "#If you want to align the sign of the numbers\n",
        "print('{:=5d}'.format((-23)))\n",
        "print('{:=5d}'.format((23)))\n",
        "print('{:=+5d}'.format((23)))"
      ],
      "metadata": {
        "id": "RD54hDC_nrvp"
      },
      "execution_count": null,
      "outputs": []
    },
    {
      "cell_type": "markdown",
      "source": [
        "**Parametrized Formats**"
      ],
      "metadata": {
        "id": "QmxEPvgSv55K"
      }
    },
    {
      "cell_type": "code",
      "source": [
        "ali='^'\n",
        "wide=20\n",
        "\n",
        "print('{:{align}{width}}'.format('text', align=ali, width=wide))\n",
        "print('{:.{prec}} = {:.{prec}f}'.format('Gibberish', 2.7182, prec=3))\n",
        "print('{:{width}.{prec}f}'.format(2.7182, width=10, prec=2))"
      ],
      "metadata": {
        "id": "uOItPalqnz_y"
      },
      "execution_count": null,
      "outputs": []
    },
    {
      "cell_type": "code",
      "source": [],
      "metadata": {
        "id": "msx794bguu1y"
      },
      "execution_count": null,
      "outputs": []
    },
    {
      "cell_type": "markdown",
      "source": [
        "[Format Method](https://www.w3schools.com/python/ref_string_format.asp)"
      ],
      "metadata": {
        "id": "vHuPAVC0xNcw"
      }
    }
  ]
}