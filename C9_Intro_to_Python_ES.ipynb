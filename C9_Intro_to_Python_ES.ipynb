{
  "nbformat": 4,
  "nbformat_minor": 0,
  "metadata": {
    "colab": {
      "provenance": [],
      "private_outputs": true,
      "include_colab_link": true
    },
    "kernelspec": {
      "name": "python3",
      "display_name": "Python 3"
    }
  },
  "cells": [
    {
      "cell_type": "markdown",
      "metadata": {
        "id": "view-in-github",
        "colab_type": "text"
      },
      "source": [
        "<a href=\"https://colab.research.google.com/github/cagBRT/Intro-to-Programming-with-Python/blob/master/C9_Intro_to_Python_ES.ipynb\" target=\"_parent\"><img src=\"https://colab.research.google.com/assets/colab-badge.svg\" alt=\"Open In Colab\"/></a>"
      ]
    },
    {
      "cell_type": "markdown",
      "metadata": {
        "id": "NvDQ-2TrMq5g"
      },
      "source": [
        "# **Tuplas**\n",
        "Una tupla es un tipo de dato inmutable en Python. <br>\n",
        "Las tuplas son secuencias de datos, al igual que las listas. La diferencia entre tuplas y listas es que las tuplas no pueden ser cambiadas; esto quiere decir que no se pueden agregar o modificar elementos a la tupla una vez declarada, por ende, las tuplas no tienen funciones para añadir o eliminar elementos.<br>\n",
        "Las tuplas usan paréntesis en lugar de corchetes."
      ]
    },
    {
      "cell_type": "markdown",
      "source": [
        "No se pueden agregar elementos a la tupla.<br>\n",
        "Las tuplas no tienen instrucciones de \"append\" o \"extend\", ni de \"remove\" o \"pop\", ya que estas no se pueden modificar.<br>\n",
        "Las tuplas si tienen una función para checar si tienen cierto valor en su interior. Como usando el operador \"in\"."
      ],
      "metadata": {
        "id": "qmDwufkSRebN"
      }
    },
    {
      "cell_type": "markdown",
      "metadata": {
        "id": "BCx-9eeaNt0Y"
      },
      "source": [
        "# **Crea una tupla**"
      ]
    },
    {
      "cell_type": "code",
      "metadata": {
        "id": "TTHOaGaeMp0O"
      },
      "source": [
        "# Crea una tupla\n",
        "tuple1 = (\"a\",\"b\",\"c\")\n",
        "print(\"tuple1 = \" ,tuple1)"
      ],
      "execution_count": null,
      "outputs": []
    },
    {
      "cell_type": "markdown",
      "metadata": {
        "id": "jjr7SznJOL5B"
      },
      "source": [
        "**Crea una tupla vacia**\n"
      ]
    },
    {
      "cell_type": "code",
      "metadata": {
        "id": "gpQltsSpOQmZ"
      },
      "source": [
        "# Crea una tupla vacia\n",
        "tuple1 = ()\n",
        "print(\"tuple1 = \" ,tuple1)"
      ],
      "execution_count": null,
      "outputs": []
    },
    {
      "cell_type": "markdown",
      "metadata": {
        "id": "40WuOdjnOteP"
      },
      "source": [
        "# **Actividad #1**\n",
        "Crea una tupla con el nombre de **tp1** que contenga los siguientes elementos: \n",
        "<br>CA, IA, IL, NY, VA, NC, SC, ND, SD, NM"
      ]
    },
    {
      "cell_type": "code",
      "metadata": {
        "id": "qbu1--ZKPGiw"
      },
      "source": [
        "# Actividad #1"
      ],
      "execution_count": null,
      "outputs": []
    },
    {
      "cell_type": "markdown",
      "metadata": {
        "id": "HO61e5FMOrYd"
      },
      "source": [
        "Una vez que la tupla ha sido creada, no puede ser cambiada."
      ]
    },
    {
      "cell_type": "code",
      "metadata": {
        "id": "pHA1QNL1Orib"
      },
      "source": [
        "tup_numb = (3.14, 42)\n",
        "tup_states = ('Iowa', 'Illinoise')\n",
        "\n",
        "# Esta línea no es válida para las tuplas\n",
        "tup_states[1] = \"Illinois\";"
      ],
      "execution_count": null,
      "outputs": []
    },
    {
      "cell_type": "code",
      "metadata": {
        "id": "MMQo0IAgPi69"
      },
      "source": [
        "# Se pueden crear nuevas tuplas combinándolas\n",
        "tup3 = tup_numb + tup_states\n",
        "print (tup3)"
      ],
      "execution_count": null,
      "outputs": []
    },
    {
      "cell_type": "code",
      "metadata": {
        "id": "U5Q4w7CETsjh"
      },
      "source": [
        "# Las tuplas tienen esu propio tipo de dato\n",
        "type(tup3)"
      ],
      "execution_count": null,
      "outputs": []
    },
    {
      "cell_type": "markdown",
      "metadata": {
        "id": "OKyPBpIST5cb"
      },
      "source": [
        "**Crear una tupla de un solo elemento**<br>\n",
        "Cuando se crea una tupla de un solo elemento se debe incluir una coma."
      ]
    },
    {
      "cell_type": "code",
      "metadata": {
        "id": "LWUo7RZDTzsF"
      },
      "source": [
        "# Esto NO creará una tupla\n",
        "tup1 = (\"d\")\n",
        "print(\"This is not a tuple: \",type(tup1))\n",
        "\n",
        "# Esto SI creará una tupla\n",
        "tup2 = (\"d\",)\n",
        "print(\"This is a tuple: \",type(tup2))"
      ],
      "execution_count": null,
      "outputs": []
    },
    {
      "cell_type": "markdown",
      "metadata": {
        "id": "lYMmbP9ARRQ7"
      },
      "source": [
        "# **Actividad #2**\n",
        "Crea una tupla que contenga 1000 elementos <br>\n",
        "Todos los elementos deben ser iguales. <br>\n",
        "<br>\n",
        "Pista: https://www.tutorialspoint.com/python/python_tuples.htm\n"
      ]
    },
    {
      "cell_type": "code",
      "metadata": {
        "id": "pPEvl_tIQaHR"
      },
      "source": [
        "# Actividad #2"
      ],
      "execution_count": null,
      "outputs": []
    },
    {
      "cell_type": "markdown",
      "metadata": {
        "id": "ecCVlM4neJiT"
      },
      "source": [
        "**Checar si un dato se encuentra en la tupla**"
      ]
    },
    {
      "cell_type": "code",
      "metadata": {
        "id": "BN4MZxFUeNK1"
      },
      "source": [
        "new_tup = (1,2,3,4,5,6,7,8,9)\n",
        "# Checar si un dato se encuentra en la tupla\n",
        "print(5 in new_tup)"
      ],
      "execution_count": null,
      "outputs": []
    },
    {
      "cell_type": "markdown",
      "metadata": {
        "id": "gVQjpf8iTJ-1"
      },
      "source": [
        "# **Actividad #3**\n",
        "1. Crea una tupla con 1000 elementos.  Todos los elementos deben tener el valor de \"John Deere\", a excepción del valor en la posición 500, ahí deberá tener el valor de \"Blue River Tech\". <br>\n",
        "2. Verifica si el valor de \"Blue River Tech\" se encuentra en la tupla."
      ]
    },
    {
      "cell_type": "code",
      "metadata": {
        "id": "W_BjmQVkesxq"
      },
      "source": [
        "# Actividad #3"
      ],
      "execution_count": null,
      "outputs": []
    },
    {
      "cell_type": "markdown",
      "metadata": {
        "id": "s6DMXtENe-ze"
      },
      "source": [
        "# **Actividad #4**\n",
        "1. Crea una función que acepte dos tuplas como parámetros.\n",
        "2. Añade las dos tuplas juntas.\n",
        "3. Regresa la tupla nueva."
      ]
    },
    {
      "cell_type": "code",
      "metadata": {
        "id": "B7nYUot1fQYq"
      },
      "source": [
        "# Actividad #4"
      ],
      "execution_count": null,
      "outputs": []
    },
    {
      "cell_type": "markdown",
      "metadata": {
        "id": "5tOie06UgUBC"
      },
      "source": [
        "# **Actividad #5**\n",
        "\n",
        "1. Crea una función que acepte una tupla y un número entero como parámetros. \n",
        "2. En la función, checar si el número entero es menor o igual a la longitud de la tupla. \n",
        "3. Si si lo es, cambia el valor de la misma posición del número entero a \"CHANGED\". \n",
        "4. Si el número entero es mayor que la longitud de la tupla, imprima un mensaje de error.\n",
        "5. Regresa la tupla (con cambios o sin cambios)"
      ]
    },
    {
      "cell_type": "code",
      "metadata": {
        "id": "VJ6EwAg5hfMX"
      },
      "source": [
        "# Actividad #5"
      ],
      "execution_count": null,
      "outputs": []
    }
  ]
}