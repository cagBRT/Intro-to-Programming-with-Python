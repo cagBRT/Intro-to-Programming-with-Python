{
  "nbformat": 4,
  "nbformat_minor": 0,
  "metadata": {
    "colab": {
      "name": "C 11 Intro to Python.ipynb",
      "provenance": [],
      "private_outputs": true,
      "authorship_tag": "ABX9TyM5huLMaeaiMb/I6f+sHDTD",
      "include_colab_link": true
    },
    "kernelspec": {
      "name": "python3",
      "display_name": "Python 3"
    }
  },
  "cells": [
    {
      "cell_type": "markdown",
      "metadata": {
        "id": "view-in-github",
        "colab_type": "text"
      },
      "source": [
        "<a href=\"https://colab.research.google.com/github/cagBRT/Intro-to-Programming-with-Python/blob/master/C_11_Intro_to_Python.ipynb\" target=\"_parent\"><img src=\"https://colab.research.google.com/assets/colab-badge.svg\" alt=\"Open In Colab\"/></a>"
      ]
    },
    {
      "cell_type": "markdown",
      "metadata": {
        "id": "mH8y1xA5IX18"
      },
      "source": [
        "# **Introduction to Seaborn**"
      ]
    },
    {
      "cell_type": "markdown",
      "metadata": {
        "id": "GNxwNykhFnva"
      },
      "source": [
        "**Pre-requisites**: <br>\n",
        "* Matplotlib\n",
        "* Pandas\n",
        "* Numpy\n",
        "* Python"
      ]
    },
    {
      "cell_type": "markdown",
      "metadata": {
        "id": "NTvS4W_04Dcx"
      },
      "source": [
        "Matplotlib is a 2D plotting library that allows you to create publication-quality figures. Seaborn,which is based on Matplotlib, provides a high-level interface to draw statistical graphics."
      ]
    },
    {
      "cell_type": "markdown",
      "metadata": {
        "id": "XcC7dsRlD1UE"
      },
      "source": [
        "Seaborn helps resolve the two major problems faced by Matplotlib; the problems are −<br>\n",
        "\n",
        "Default Matplotlib parameters<br>\n",
        "Working with data frames<br>\n",
        "\n",
        "**Seaborn is specially designed for statistical plotting.**"
      ]
    },
    {
      "cell_type": "markdown",
      "metadata": {
        "id": "sg-kkcu7ECde"
      },
      "source": [
        "Dependencies of Seaborn −\n",
        "\n",
        "Python <br>\n",
        "numpy<br>\n",
        "scipy<br>\n",
        "pandas<br>\n",
        "matplotlib<br>"
      ]
    },
    {
      "cell_type": "code",
      "metadata": {
        "id": "2CELpvTwD2i5"
      },
      "source": [
        "import pandas as pd\n",
        "import numpy as np\n",
        "import matplotlib.pyplot as plt\n",
        "import seaborn as sb\n",
        "from scipy import stats"
      ],
      "execution_count": null,
      "outputs": []
    },
    {
      "cell_type": "markdown",
      "metadata": {
        "id": "23CmD3kjHGOp"
      },
      "source": [
        "**List the Seaborn datasets** "
      ]
    },
    {
      "cell_type": "code",
      "metadata": {
        "id": "O6xL2mbxGms0"
      },
      "source": [
        "#List the datasets that are included with seaborn\n",
        "sb.get_dataset_names()"
      ],
      "execution_count": null,
      "outputs": []
    },
    {
      "cell_type": "markdown",
      "metadata": {
        "id": "G8wepB3oHAcq"
      },
      "source": [
        "**Load a dataset from the Seaborn library**"
      ]
    },
    {
      "cell_type": "code",
      "metadata": {
        "id": "ugk18YhXEiDG"
      },
      "source": [
        "df = sb.load_dataset('tips')\n",
        "print(df.head())"
      ],
      "execution_count": null,
      "outputs": []
    },
    {
      "cell_type": "markdown",
      "metadata": {
        "id": "1BM4VI31HNO0"
      },
      "source": [
        "# **Assignment 1**: \n",
        "Load the dots dataset from Seaborn"
      ]
    },
    {
      "cell_type": "code",
      "metadata": {
        "id": "PrWRDbEOErUV"
      },
      "source": [],
      "execution_count": null,
      "outputs": []
    },
    {
      "cell_type": "markdown",
      "metadata": {
        "id": "Vo8HMJygI1eG"
      },
      "source": [
        "# **Turn Matplotlib plots into Seaborn plots**"
      ]
    },
    {
      "cell_type": "markdown",
      "metadata": {
        "id": "qhr9dfYOJDwf"
      },
      "source": [
        "A matplotlib plot"
      ]
    },
    {
      "cell_type": "code",
      "metadata": {
        "id": "A8Poty_pHuED"
      },
      "source": [
        "#A matplotlib plot\n",
        "def sinplot(flip = 1):\n",
        "   x = np.linspace(0, 14, 100)\n",
        "   for i in range(1, 5): \n",
        "      plt.plot(x, np.sin(x + i * .5) * (7 - i) * flip)\n",
        "sinplot()\n",
        "plt.show()"
      ],
      "execution_count": null,
      "outputs": []
    },
    {
      "cell_type": "markdown",
      "metadata": {
        "id": "DBl2RssRJDGR"
      },
      "source": [
        "Add sb.set to make a Matplotlib plot into a Seaborn plot"
      ]
    },
    {
      "cell_type": "code",
      "metadata": {
        "id": "q8hEKv3_GJ-b"
      },
      "source": [
        "sb.set() #add to the matplotlib plot\n",
        "sinplot()\n",
        "plt.show()"
      ],
      "execution_count": null,
      "outputs": []
    },
    {
      "cell_type": "markdown",
      "metadata": {
        "id": "nPw_T8PXJbzj"
      },
      "source": [
        "Seaborn splits the Matplotlib parameters into two groups\n",
        "\n",
        "* Plot styles\n",
        "* Plot scale"
      ]
    },
    {
      "cell_type": "markdown",
      "metadata": {
        "id": "vvguyk0gJk6c"
      },
      "source": [
        "# **Seaborn Figure Styles**\n",
        "The interface for manipulating the styles is set_style(). <br>\n",
        "Using this function you can set the theme of the plot. \n",
        "\n",
        "The available themes:\n",
        "\n",
        "* Darkgrid\n",
        "* Whitegrid\n",
        "* Dark\n",
        "* White\n",
        "* Ticks"
      ]
    },
    {
      "cell_type": "markdown",
      "metadata": {
        "id": "myRHSUVXKAon"
      },
      "source": [
        "**Change the darkgrid to a light grid**"
      ]
    },
    {
      "cell_type": "code",
      "metadata": {
        "id": "JBUpkK1uJ930"
      },
      "source": [
        "sb.set_style(\"whitegrid\")\n",
        "sinplot()\n",
        "plt.show()\n"
      ],
      "execution_count": null,
      "outputs": []
    },
    {
      "cell_type": "markdown",
      "metadata": {
        "id": "Tn3Uq9mDKNkF"
      },
      "source": [
        "In the white and ticks themes, to remove the top and right axis spines using the \n",
        ">despine() function."
      ]
    },
    {
      "cell_type": "markdown",
      "metadata": {
        "id": "aT8rs1NAKEsG"
      },
      "source": [
        "# **Assignment 2**:\n",
        "Plot the sinplot using a white theme and depine the plot. "
      ]
    },
    {
      "cell_type": "code",
      "metadata": {
        "id": "2CuS3sT9Kk08"
      },
      "source": [
        "#Assignment 2"
      ],
      "execution_count": null,
      "outputs": []
    },
    {
      "cell_type": "code",
      "metadata": {
        "id": "hM6zwqyzLKZh",
        "cellView": "form"
      },
      "source": [
        "#@title \n",
        "def sinplot(flip=1):\n",
        "   x = np.linspace(0, 14, 100)\n",
        "   for i in range(1, 5):\n",
        "      plt.plot(x, np.sin(x + i * .5) * (7 - i) * flip)\n",
        "sb.set_style(\"white\")\n",
        "sb.despine()\n",
        "sinplot()\n",
        "plt.show()"
      ],
      "execution_count": null,
      "outputs": []
    },
    {
      "cell_type": "markdown",
      "metadata": {
        "id": "s2jYOMOdL2Z1"
      },
      "source": [
        "# **Customize Seaborn styles**\n",
        "If you want to customize the Seaborn styles, you can pass a dictionary of parameters to the **set_style()** function. <br>\n",
        "Parameters available are viewed using **axes_style()** function."
      ]
    },
    {
      "cell_type": "code",
      "metadata": {
        "id": "TQDEaMqdMIB_"
      },
      "source": [
        "#List the of setting of the styles\n",
        "sb.axes_style()"
      ],
      "execution_count": null,
      "outputs": []
    },
    {
      "cell_type": "markdown",
      "metadata": {
        "id": "GABhiU8ANiu3"
      },
      "source": [
        "**Put the grid on top of the plot**<br>\n",
        "Note: the '{' and '}' in the set_style method."
      ]
    },
    {
      "cell_type": "code",
      "metadata": {
        "id": "KCvgvpfqMOLs"
      },
      "source": [
        "sb.set_style(\"whitegrid\")\n",
        "sb.set_style({'axes.axisbelow':False})\n",
        "sinplot()\n",
        "plt.show()"
      ],
      "execution_count": null,
      "outputs": []
    },
    {
      "cell_type": "code",
      "metadata": {
        "id": "yWS12yMiOSnS"
      },
      "source": [
        "sb.set_style({'axes.axisbelow':True})"
      ],
      "execution_count": null,
      "outputs": []
    },
    {
      "cell_type": "markdown",
      "metadata": {
        "id": "uHsfcTeHNpbB"
      },
      "source": [
        "# **Assignment 3**:\n",
        "Experiment with different setting different styles. \n"
      ]
    },
    {
      "cell_type": "code",
      "metadata": {
        "id": "xf4m7EohN47A"
      },
      "source": [
        "#Set different styles from the list above\n",
        "sinplot()\n",
        "plt.show()"
      ],
      "execution_count": null,
      "outputs": []
    },
    {
      "cell_type": "markdown",
      "metadata": {
        "id": "-UsOAYxLO9BE"
      },
      "source": [
        "# **Scaling Plot Elements**\n",
        "Control the scale of plot using the <br>\n",
        ">set_context() function. \n",
        "\n",
        "There are four preset templates for contexts, based on relative size, the contexts are named as follows\n",
        "\n",
        "* paper\n",
        "* notebook\n",
        "* talk\n",
        "* poster\n",
        "\n",
        "By default, context is set to notebook"
      ]
    },
    {
      "cell_type": "code",
      "metadata": {
        "id": "UfbQh7s5PQSO"
      },
      "source": [
        "sb.set_context(\"talk\")\n",
        "sinplot()\n",
        "sb.despine()\n",
        "plt.show()"
      ],
      "execution_count": null,
      "outputs": []
    },
    {
      "cell_type": "code",
      "metadata": {
        "id": "b6Q9hG3gRNlu"
      },
      "source": [
        "sb.set_context(\"notebook\")\n",
        "sinplot()\n",
        "sb.despine()\n",
        "plt.show()"
      ],
      "execution_count": null,
      "outputs": []
    },
    {
      "cell_type": "markdown",
      "metadata": {
        "id": "zsmwe1axQSPW"
      },
      "source": [
        "# **Assignment 4:** \n",
        "Change the scale of the plot for: \n",
        "1. inclusion in a paper\n",
        "2. inclusion on a poster"
      ]
    },
    {
      "cell_type": "markdown",
      "metadata": {
        "id": "LXfwK8a5TAEI"
      },
      "source": [
        "# **Violin and Box Plots**\n",
        "Create violin plots with:\n",
        ">violinplot(data= )\n",
        "<br>\n",
        "\n",
        "Create box plots with:<br>\n",
        ">boxplot(data= )"
      ]
    },
    {
      "cell_type": "code",
      "metadata": {
        "id": "je_m4RFuQqHN"
      },
      "source": [
        "df = sb.load_dataset('titanic')\n",
        "print(df.columns)\n",
        "df.pop('fare')\n",
        "df.pop('age')\n",
        "df.pop('sibsp')\n",
        "df.pop('parch')\n",
        "sb.violinplot(data=df)\n",
        "sb.despine(offset=10, trim=True);"
      ],
      "execution_count": null,
      "outputs": []
    },
    {
      "cell_type": "markdown",
      "metadata": {
        "id": "8ooFOcxBTTus"
      },
      "source": [
        "# **Assignment 5:**\n",
        "1. Select a datset from the seaborn datasets\n",
        "2. Create a boxplot for the dataset"
      ]
    },
    {
      "cell_type": "markdown",
      "metadata": {
        "id": "OMmryEEFUM_M"
      },
      "source": [
        "# **Color Palettes**\n",
        "Seaborn allows user to modify colors of plots. <br><br>\n",
        "To modify the color of a plot use: \n",
        ">color_palette(palette= , n_colors= , desat= )<br>\n",
        "<br>\n",
        "\n",
        "**n_colors** - the number of colors in the palette. Default is 10 colors.  If none the it will fall back to the last palette specified. <br>\n",
        "<br>\n",
        "**desat**- desaturate each color<br>\n",
        "\n",
        "[Colorbrewer ](https://colorbrewer2.org/#type=qualitative&scheme=Accent&n=6)is a webpage to show what various color palettes\n"
      ]
    },
    {
      "cell_type": "markdown",
      "metadata": {
        "id": "ndhdwo39WChw"
      },
      "source": [
        "# **Palettes**\n",
        "The palette names are: <br>\n",
        "* Deep<br>\n",
        "* Muted<br>\n",
        "* Bright<br>\n",
        "* Pastel<br>\n",
        "* Dark<br>\n",
        "* Colorblind<br>\n",
        "\n",
        "Custom palettes can also be created. "
      ]
    },
    {
      "cell_type": "markdown",
      "metadata": {
        "id": "bFiscq7WWqJS"
      },
      "source": [
        "**Print the colors of the current palette in a line**"
      ]
    },
    {
      "cell_type": "code",
      "metadata": {
        "id": "nMBBkBvpVT-m"
      },
      "source": [
        "current_palette = sb.color_palette(\"bright\")\n",
        "sb.palplot(current_palette)\n",
        "plt.show()"
      ],
      "execution_count": null,
      "outputs": []
    },
    {
      "cell_type": "markdown",
      "metadata": {
        "id": "fmhM5jq1YLAU"
      },
      "source": [
        "# **Assignment 7**\n",
        "Print each of the Seaborn palettes "
      ]
    },
    {
      "cell_type": "markdown",
      "metadata": {
        "id": "gQxv3D4PXQWc"
      },
      "source": [
        "**Color palette types:** <br>\n",
        "\n",
        "color_palette() types\n",
        "\n",
        "* qualitative\n",
        "* sequential\n",
        "* diverging"
      ]
    },
    {
      "cell_type": "code",
      "metadata": {
        "id": "cM4M7G4kW2Do"
      },
      "source": [
        "current_palette = sb.color_palette()\n",
        "sb.palplot(sb.color_palette(\"Purples\"))\n",
        "plt.show()"
      ],
      "execution_count": null,
      "outputs": []
    },
    {
      "cell_type": "code",
      "metadata": {
        "id": "Kn-BS5J0be4R"
      },
      "source": [
        "diverging_colors = sb.color_palette(\"RdBu\",8)\n",
        "sb.palplot(diverging_colors)"
      ],
      "execution_count": null,
      "outputs": []
    },
    {
      "cell_type": "markdown",
      "metadata": {
        "id": "KYKrM-ULW6Nh"
      },
      "source": [
        "**Print the colors of a sequential color palette**<br>\n",
        "Some of the colors are:<br>\n",
        "> green, red, blue, orange, grey, purple"
      ]
    },
    {
      "cell_type": "markdown",
      "metadata": {
        "id": "a8-LeqXlXCFZ"
      },
      "source": [
        "# **Assignment 6**\n",
        "1. Print a sequential color palette with 10 shades of color. \n",
        "2. Print a diverging color palette with 8 shades of color.  "
      ]
    },
    {
      "cell_type": "markdown",
      "metadata": {
        "id": "-oWelklPellR"
      },
      "source": [
        "[Seaborn Bar charts](https://seaborn.pydata.org/generated/seaborn.barplot.htmls://)"
      ]
    },
    {
      "cell_type": "code",
      "metadata": {
        "id": "erhXOiM4cLOQ"
      },
      "source": [
        "df = sb.load_dataset('tips')\n",
        "current_palette = sb.color_palette(\"Blues\")\n",
        "sb.set_style(\"white\")\n",
        "sb.set_palette(current_palette)\n",
        "sb.barplot(x=\"day\", y=\"total_bill\", data=df)"
      ],
      "execution_count": null,
      "outputs": []
    },
    {
      "cell_type": "code",
      "metadata": {
        "id": "vCqiHZmqdeO1"
      },
      "source": [
        "current_palette = sb.color_palette(\"bright\")\n",
        "sb.set_style(\"white\")\n",
        "sb.set_palette(current_palette)\n",
        "sb.barplot(x=\"day\", y=\"total_bill\", hue=\"sex\", data=df)"
      ],
      "execution_count": null,
      "outputs": []
    },
    {
      "cell_type": "markdown",
      "metadata": {
        "id": "UJML1dndeCWR"
      },
      "source": [
        "# **Assignment 7**\n",
        "1. Pick one of the Seaborn datasets\n",
        "2. Select a color palette\n",
        "3. Create plots for the dataset\n"
      ]
    },
    {
      "cell_type": "markdown",
      "metadata": {
        "id": "FSsPowKzfMlI"
      },
      "source": [
        "# **Visualizing the distribution of a dataset**"
      ]
    },
    {
      "cell_type": "markdown",
      "metadata": {
        "id": "YL_GXVHKfxQw"
      },
      "source": [
        "**Distribution Plots**"
      ]
    },
    {
      "cell_type": "code",
      "metadata": {
        "id": "l4x-5g0EfFUH"
      },
      "source": [
        "sb.set(color_codes=True)\n",
        "x = np.random.normal(size=100)\n",
        "sb.distplot(x);"
      ],
      "execution_count": null,
      "outputs": []
    },
    {
      "cell_type": "markdown",
      "metadata": {
        "id": "yXEfiXBvf05p"
      },
      "source": [
        "# **Assignment 8:**\n",
        "1. Load the Titanic dataset\n",
        "2. Plot the distribution of the passenger's ages, use 5 bins for ages and add tick marks on the x axis for each data point. "
      ]
    },
    {
      "cell_type": "code",
      "metadata": {
        "id": "0yAelDWp8QUq"
      },
      "source": [
        "\n"
      ],
      "execution_count": null,
      "outputs": []
    },
    {
      "cell_type": "code",
      "metadata": {
        "id": "g7qyDMz58450"
      },
      "source": [
        "#@title \n",
        "df = sb.load_dataset('titanic')\n",
        "current_palette = sb.color_palette(\"bright\")\n",
        "sb.set_style(\"dark\")\n",
        "sb.set_palette(current_palette)\n",
        "x = df['age']\n",
        "sb.distplot(x, bins=5, rug=True);"
      ],
      "execution_count": null,
      "outputs": []
    },
    {
      "cell_type": "markdown",
      "metadata": {
        "id": "XcXURSxL88vq"
      },
      "source": [
        "# **Assignment 9:**\n",
        "1. Load the titanic dataset\n",
        "2. Create a bar chart\n",
        "3. Plot the embark_town vs survived"
      ]
    },
    {
      "cell_type": "code",
      "metadata": {
        "id": "3ooGbn4vgBcB"
      },
      "source": [],
      "execution_count": null,
      "outputs": []
    },
    {
      "cell_type": "code",
      "metadata": {
        "id": "1zgeNgt89WTx",
        "cellView": "form"
      },
      "source": [
        "#@title\n",
        "df = sb.load_dataset('titanic')\n",
        "current_palette = sb.color_palette(\"Greens\")\n",
        "sb.set_style(\"white\")\n",
        "sb.set_palette(current_palette)\n",
        "sb.barplot(x=\"survived\", y=\"embark_town\", data=df)"
      ],
      "execution_count": null,
      "outputs": []
    },
    {
      "cell_type": "markdown",
      "metadata": {
        "id": "pQlPi5w7HYWF"
      },
      "source": [
        "# **Scatterplots and Jointplots**\n",
        "To create a scatterplot: <br>\n",
        ">scatterplot(x=, y=, data=)\n",
        "<br>\n",
        "\n",
        "To create a jointplot:<br>\n",
        ">jointplot(x=,y=,data=)\n"
      ]
    },
    {
      "cell_type": "code",
      "metadata": {
        "id": "wYVhiWjYHj1y"
      },
      "source": [
        "df = sb.load_dataset('planets')\n",
        "sb.jointplot(x=\"orbital_period\", y=\"mass\", data=df)"
      ],
      "execution_count": null,
      "outputs": []
    },
    {
      "cell_type": "markdown",
      "metadata": {
        "id": "fwqWXGj2JAFj"
      },
      "source": [
        "# **Assignment 10:**<br>\n",
        "1. Load the car_crashes dataset\n",
        "2. Create a jointplot using speeding and alcohol \n"
      ]
    },
    {
      "cell_type": "code",
      "metadata": {
        "id": "4AlHQxe7ImEb"
      },
      "source": [],
      "execution_count": null,
      "outputs": []
    },
    {
      "cell_type": "markdown",
      "metadata": {
        "id": "3la3skF5ghYb"
      },
      "source": [
        "# **Visualizing Pairwise Relationships**\n",
        "To visualize a pair relationships in datasets, use:<br>\n",
        ">pairplot(dataset name)\n",
        "<br>\n",
        "\n",
        "This won't work for every dataset and every data column. "
      ]
    },
    {
      "cell_type": "code",
      "metadata": {
        "id": "gmfOFGJhhzEv"
      },
      "source": [
        "iris = sb.load_dataset(\"iris\")\n",
        "sb.pairplot(iris, hue='species');"
      ],
      "execution_count": null,
      "outputs": []
    },
    {
      "cell_type": "markdown",
      "metadata": {
        "id": "hr9Xr1D1i84Y"
      },
      "source": [
        "# **Assignment 10**\n",
        "1. Download the titanic dataset, \n",
        "2. Perform a pairplot comparison. Does it work on the titanic dataset? \n",
        "3. Select another dataset and see if the pairplot works on it. \n",
        "\n",
        "Why does pairplot not work on some datasets? \n"
      ]
    },
    {
      "cell_type": "markdown",
      "metadata": {
        "id": "FMXIr4VukTMp"
      },
      "source": [
        "# **Linear Regression**\n",
        "Two main functions in seaborn are used to visualize a linear relationship as determined through regression. <br>\n",
        "> regplot() <br>\n",
        "lmplot()<br> \n",
        "\n",
        "They are closely related, and share much of their core functionality. It is important to understand the ways they differ, however, so that you can quickly choose the correct tool for particular job."
      ]
    },
    {
      "cell_type": "code",
      "metadata": {
        "id": "aE_pGww6kttD"
      },
      "source": [
        "tips = sb.load_dataset(\"tips\")"
      ],
      "execution_count": null,
      "outputs": []
    },
    {
      "cell_type": "markdown",
      "metadata": {
        "id": "fU2X1Tmxk6Bh"
      },
      "source": [
        "In the simplest invocation, both functions draw a scatterplot of two variables, x and y, and then fit the regression model y ~ x and plot the resulting regression line and a 95% confidence interval for that regression:<br>\n",
        "The resulting plots are identical, except that the figure shapes are different."
      ]
    },
    {
      "cell_type": "markdown",
      "metadata": {
        "id": "GvBQBwJYlXXB"
      },
      "source": [
        "The main difference is:<br>\n",
        "regplot() accepts the x and y variables in a variety of formats including simple numpy arrays, pandas Series objects, or as references to variables in a pandas DataFrame object passed to data. <br>\n",
        "\n",
        "lmplot() has data as a required parameter and the x and y variables must be specified as strings. This data format is called “long-form” or “tidy” data. <br>\n",
        "\n",
        "Other than this input flexibility, regplot() possesses a subset of lmplot()’s features."
      ]
    },
    {
      "cell_type": "code",
      "metadata": {
        "id": "VOORYtkikzS7"
      },
      "source": [
        "sb.regplot(x=\"total_bill\", y=\"tip\", data=tips);"
      ],
      "execution_count": null,
      "outputs": []
    },
    {
      "cell_type": "code",
      "metadata": {
        "id": "CLOyCHrrk-7F"
      },
      "source": [
        "sb.lmplot(x=\"total_bill\", y=\"tip\", data=tips);"
      ],
      "execution_count": null,
      "outputs": []
    },
    {
      "cell_type": "markdown",
      "metadata": {
        "id": "rf0RZVx3mDZc"
      },
      "source": [
        "# **Assignment 11**\n",
        "1. Select a dataset\n",
        "2. Perform linear regression on two data columns in the dataset. "
      ]
    },
    {
      "cell_type": "markdown",
      "metadata": {
        "id": "JUYBw82emNmh"
      },
      "source": [
        "# **Ascombe's Quartet**\n",
        "Anscombe's quartet comprises four data sets that have nearly identical simple descriptive statistics, yet have very different distributions and appear very different when graphed. Each dataset consists of eleven (x,y) points. They were constructed in 1973 by the statistician Francis Anscombe to demonstrate both the importance of graphing data before analyzing it and the effect of outliers and other influential observations on statistical properties. (Wikipedia)"
      ]
    },
    {
      "cell_type": "code",
      "metadata": {
        "id": "b3MqiCsRmfI4"
      },
      "source": [
        "anscombe = sb.load_dataset(\"anscombe\")"
      ],
      "execution_count": null,
      "outputs": []
    },
    {
      "cell_type": "code",
      "metadata": {
        "id": "tbCqZ_j2mlDQ"
      },
      "source": [
        "sb.lmplot(x=\"x\", y=\"y\", data=anscombe.query(\"dataset == 'I'\"),\n",
        "           ci=None, scatter_kws={\"s\": 80});"
      ],
      "execution_count": null,
      "outputs": []
    },
    {
      "cell_type": "code",
      "metadata": {
        "id": "Y2-n4BSEmpp9"
      },
      "source": [
        "sb.lmplot(x=\"x\", y=\"y\", data=anscombe.query(\"dataset == 'II'\"),\n",
        "           ci=None, scatter_kws={\"s\": 80});"
      ],
      "execution_count": null,
      "outputs": []
    },
    {
      "cell_type": "markdown",
      "metadata": {
        "id": "Nus6_rqnnaM-"
      },
      "source": [
        "**Higher Order Relationships**\n",
        "In the presence of these kind of higher-order relationships, lmplot() and regplot() can fit a polynomial regression model to explore simple kinds of nonlinear trends in the dataset:"
      ]
    },
    {
      "cell_type": "code",
      "metadata": {
        "id": "1E5rpsOfmtvr"
      },
      "source": [
        "sb.lmplot(x=\"x\", y=\"y\", data=anscombe.query(\"dataset == 'II'\"),\n",
        "           order=2, ci=None, scatter_kws={\"s\": 80});"
      ],
      "execution_count": null,
      "outputs": []
    },
    {
      "cell_type": "markdown",
      "metadata": {
        "id": "fwYd0SNOn2iR"
      },
      "source": [
        "# **Handling outliers**<br>\n",
        "In the presence of outliers, it can be useful to fit a robust regression, which uses a different loss function to downweight relatively large residuals:"
      ]
    },
    {
      "cell_type": "code",
      "metadata": {
        "id": "PGdtA4wqmx-R"
      },
      "source": [
        "sb.lmplot(x=\"x\", y=\"y\", data=anscombe.query(\"dataset == 'III'\"),\n",
        "           ci=None, scatter_kws={\"s\": 80});"
      ],
      "execution_count": null,
      "outputs": []
    },
    {
      "cell_type": "code",
      "metadata": {
        "id": "IsWJVWQVorpu"
      },
      "source": [
        "sb.lmplot(x=\"x\", y=\"y\", data=anscombe.query(\"dataset == 'III'\"),\n",
        "           robust=True, ci=None, scatter_kws={\"s\": 80});\n"
      ],
      "execution_count": null,
      "outputs": []
    },
    {
      "cell_type": "markdown",
      "metadata": {
        "id": "R2jcmK1nouDD"
      },
      "source": [
        "When the y variable is binary, simple linear regression also “works” but provides implausible predictions"
      ]
    },
    {
      "cell_type": "code",
      "metadata": {
        "id": "8Hkhijdmm52K"
      },
      "source": [
        "tips[\"big_tip\"] = (tips.tip / tips.total_bill) > .15\n",
        "sb.lmplot(x=\"total_bill\", y=\"big_tip\", data=tips,\n",
        "           y_jitter=.03);"
      ],
      "execution_count": null,
      "outputs": []
    },
    {
      "cell_type": "markdown",
      "metadata": {
        "id": "YhXYFgJipDPA"
      },
      "source": [
        "The solution in this case is to fit a logistic regression, such that the regression line shows the estimated probability of y = 1 for a given value of x. <br>\n",
        "This is computationally expensive, use ci=None for faster performance. "
      ]
    },
    {
      "cell_type": "code",
      "metadata": {
        "id": "WCE1HHeym9in"
      },
      "source": [
        "sb.lmplot(x=\"total_bill\", y=\"big_tip\", data=tips,\n",
        "           logistic=True, y_jitter=.03);"
      ],
      "execution_count": null,
      "outputs": []
    },
    {
      "cell_type": "markdown",
      "metadata": {
        "id": "U4ELub1Hpjo8"
      },
      "source": [
        "# **Assignment 12**<br>\n",
        "1. Select a dataset\n",
        "2. Perform linear regression on two variables in the dataset. "
      ]
    },
    {
      "cell_type": "markdown",
      "metadata": {
        "id": "L9Bd7lXWpt8y"
      },
      "source": [
        "# **Conditioning on other variables**\n",
        "lmplot() combines regplot() with FacetGrid to provide an easy interface to show a linear regression on “faceted” plots that allow you to explore interactions with up to three additional categorical variables.\n",
        "\n",
        "The best way to separate out a relationship is to plot both levels on the same axes and to use color to distinguish them:"
      ]
    },
    {
      "cell_type": "code",
      "metadata": {
        "id": "xc2TF3yCqosu"
      },
      "source": [
        "sb.lmplot(x=\"total_bill\", y=\"tip\", hue=\"smoker\",\n",
        "           col=\"time\", row=\"sex\", data=tips);\n"
      ],
      "execution_count": null,
      "outputs": []
    },
    {
      "cell_type": "markdown",
      "metadata": {
        "id": "s9TYjd2wqrxt"
      },
      "source": [
        "# **Assignment 13:**\n",
        "1. Select a dataset\n",
        "2. Use implot to plot conditional relationships within the dataset"
      ]
    },
    {
      "cell_type": "code",
      "metadata": {
        "id": "ISm1_Fmht12J"
      },
      "source": [],
      "execution_count": null,
      "outputs": []
    },
    {
      "cell_type": "code",
      "metadata": {
        "id": "5OvctJh8m-Hi"
      },
      "source": [
        "df = sb.load_dataset('titanic')\n",
        "current_palette = sb.color_palette(\"bright\")\n",
        "sb.set_style(\"dark\")\n",
        "sb.set_palette(current_palette)\n",
        "x = df['age']\n",
        "y = df['alive']\n",
        "sb.distplot(x, bins=5, rug=True);"
      ],
      "execution_count": null,
      "outputs": []
    },
    {
      "cell_type": "code",
      "metadata": {
        "id": "wrgm0wVVm4dR"
      },
      "source": [
        "sb.boxenplot(x, hue=None) #standard data inputs, only x is required"
      ],
      "execution_count": null,
      "outputs": []
    },
    {
      "cell_type": "markdown",
      "metadata": {
        "id": "nInLRt_xrMX-"
      },
      "source": [
        "Check out the [Seaborn Official Tutorial](https://seaborn.pydata.org/tutorial.html) \n",
        "\n",
        "https://medium.com/analytics-vidhya/5-lesser-known-seaborn-plots-most-people-dont-know-82e5a54baea8\n"
      ]
    }
  ]
}