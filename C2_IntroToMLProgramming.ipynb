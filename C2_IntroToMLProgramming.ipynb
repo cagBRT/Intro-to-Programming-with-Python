{
  "nbformat": 4,
  "nbformat_minor": 0,
  "metadata": {
    "colab": {
      "name": "C2 IntroToMLProgramming.ipynb",
      "provenance": [],
      "private_outputs": true,
      "collapsed_sections": [],
      "include_colab_link": true
    },
    "kernelspec": {
      "name": "python3",
      "display_name": "Python 3"
    }
  },
  "cells": [
    {
      "cell_type": "markdown",
      "metadata": {
        "id": "view-in-github",
        "colab_type": "text"
      },
      "source": [
        "<a href=\"https://colab.research.google.com/github/cagBRT/Intro-to-Programming-with-Python/blob/master/C2_IntroToMLProgramming.ipynb\" target=\"_parent\"><img src=\"https://colab.research.google.com/assets/colab-badge.svg\" alt=\"Open In Colab\"/></a>"
      ]
    },
    {
      "cell_type": "markdown",
      "metadata": {
        "id": "8XMQKf29mulj"
      },
      "source": [
        "# Decision Making\n",
        "The real power of programming begins with decision making, which is also called flow control. \n",
        "<br>\n",
        "This is where we have the program perform tasks dependent upon the outcome of comparisons. "
      ]
    },
    {
      "cell_type": "code",
      "metadata": {
        "id": "LuAwW3PsnXF2"
      },
      "source": [
        "# Clone the entire repo.\n",
        "!git clone -l -s https://github.com/cagBRT/Intro-to-Programming-with-Python.git cloned-repo\n",
        "%cd cloned-repo\n",
        "!ls"
      ],
      "execution_count": null,
      "outputs": []
    },
    {
      "cell_type": "code",
      "metadata": {
        "id": "fYLD5EMd_IFt"
      },
      "source": [
        "from IPython.display import Image\n",
        "def page(num):\n",
        "    return Image(\"c2-content/c2PythonProgramming\"+str(num)+ \".png\" , width=640)"
      ],
      "execution_count": null,
      "outputs": []
    },
    {
      "cell_type": "markdown",
      "metadata": {
        "id": "BaflHhYYptgL"
      },
      "source": [
        "# if Statements"
      ]
    },
    {
      "cell_type": "code",
      "metadata": {
        "id": "RmJXNFYw_PD3"
      },
      "source": [
        "page(1)"
      ],
      "execution_count": null,
      "outputs": []
    },
    {
      "cell_type": "code",
      "metadata": {
        "id": "9F-JMa7LC7lb"
      },
      "source": [
        "page(2)"
      ],
      "execution_count": null,
      "outputs": []
    },
    {
      "cell_type": "code",
      "metadata": {
        "id": "6lGIFMX2lJYQ"
      },
      "source": [
        "#an example of an if statement\n",
        "\n",
        "x = 10\n",
        "#if the following condition is true\n",
        "#perform the tasks indented after the colon\n",
        "if x > 9:\n",
        "  print(\"X is greater than 9\")\n"
      ],
      "execution_count": null,
      "outputs": []
    },
    {
      "cell_type": "markdown",
      "metadata": {
        "id": "tv5H6xucp_cF"
      },
      "source": [
        "# **Assignment #1**\n",
        "1. create two variables: x = 6, y = 4\n",
        "2. Write a program if x >y, print \"X is bigger\""
      ]
    },
    {
      "cell_type": "code",
      "metadata": {
        "id": "_9dCHVP1p29Q"
      },
      "source": [
        "#Assignment #1\n",
        "#1. create two variables: x = 6, y = 4\n",
        "#2. Write a program that compares x and y \n",
        "#If x is greater than y,  print \"X is bigger\"\n",
        "\n",
        "#TODO\n",
        "\n"
      ],
      "execution_count": null,
      "outputs": []
    },
    {
      "cell_type": "markdown",
      "metadata": {
        "id": "Prtei-Iu59Sm"
      },
      "source": [
        "Another 'if' statement example"
      ]
    },
    {
      "cell_type": "code",
      "metadata": {
        "id": "LJJZBb-H57iK"
      },
      "source": [
        "# If the number is positive, we print an appropriate message\n",
        "\n",
        "num = 3\n",
        "if num > 0:\n",
        "    print(num, \"is a positive number.\")\n",
        "print(\"This is always printed.\")\n",
        "\n",
        "num = -1\n",
        "if num > 0:\n",
        "    print(num, \"is a positive number.\")\n",
        "print(\"This is also always printed.\")"
      ],
      "execution_count": null,
      "outputs": []
    },
    {
      "cell_type": "markdown",
      "metadata": {
        "id": "1_uUTFl0sxQA"
      },
      "source": [
        "If the conditional statement is true, all the indented code is executed. "
      ]
    },
    {
      "cell_type": "code",
      "metadata": {
        "id": "76hR1Ftfn2yH"
      },
      "source": [
        "#another example of an if statement\n",
        "#If the conditional statement is true\n",
        "#All the indented code is excuted\n",
        "\n",
        "print(\"in main program: before 'if'\")\n",
        "x= 9\n",
        "y = 0\n",
        "if x == 9:\n",
        "  #Do this code if x = 9\n",
        "   print(\"starting 'if' code\")\n",
        "   print(\"x==9\")\n",
        "   y = 5\n",
        "   print(\"y = \", y)\n",
        "   print(\"End of 'if' code\")\n",
        "\n",
        "#main program code is always executed\n",
        "print(\"in main program: after 'if'\")\n",
        "\n",
        "if y==0:\n",
        "  #Do this code if y = 0\n",
        "  print(\"In the second 'if' code \")\n",
        "  print(\"x != 9\")\n",
        "print(\"y = \", y)\n"
      ],
      "execution_count": null,
      "outputs": []
    },
    {
      "cell_type": "markdown",
      "metadata": {
        "id": "iUp3UTJOolqT"
      },
      "source": [
        "# **Assignment #2**\n",
        "1. create a variable: x = 6\n",
        "2. Write a program when x > 5, the program prints \"Greater than 5\"\n",
        "3. Also, if x < 5, the program prints \"Less than 5\"\n",
        "4. if x equals 5, the program prints \"Equal to 5\""
      ]
    },
    {
      "cell_type": "code",
      "metadata": {
        "id": "jqa64vdgokaE"
      },
      "source": [
        "#Assignment 2\n",
        "#1. create two variables: x = 6, y = 4\n",
        "#2. Write a program when x > 5, the program prints \"Greater than 5\"\n",
        "#3. Also, if x < 5, the program prints \"Less than 5\"\n",
        "#4. if x equals 5, the program prints \"Equal to 5\"\n",
        "\n",
        "#TODO"
      ],
      "execution_count": null,
      "outputs": []
    },
    {
      "cell_type": "markdown",
      "metadata": {
        "id": "iiqjuLw6prZN"
      },
      "source": [
        "# if-else statements\n",
        "\n",
        "There can only be one else statement for each if statement. "
      ]
    },
    {
      "cell_type": "code",
      "metadata": {
        "id": "93pRxOR1w8xX"
      },
      "source": [
        "page(8)"
      ],
      "execution_count": null,
      "outputs": []
    },
    {
      "cell_type": "code",
      "metadata": {
        "id": "Lan4-L0Mq6FT"
      },
      "source": [
        "#Examples of if-else statements\n",
        "x = 10\n",
        "if x%5 == 0:\n",
        "  print(\"x is a multiple of 5\")\n",
        "else: \n",
        "  print(\"x is not a multiple of 5\")\n",
        "\n",
        "y = 11\n",
        "if y%5 == 0:\n",
        "  print(\"y is a multiple of 5\")\n",
        "else: \n",
        "  print(\"y is not a multiple of 5\")"
      ],
      "execution_count": null,
      "outputs": []
    },
    {
      "cell_type": "markdown",
      "metadata": {
        "id": "T6aJUuFasB9K"
      },
      "source": [
        "# **Assignment #3**\n",
        "1. create a variable: x \n",
        "2. Write a program when a variable is divisible by 3 print  variable value is divisible by 3 \n",
        "3. Otherwise  write variable value is not divisible by 3\n",
        "\n",
        "For example\n",
        "\n",
        "23 is not divisible by 3<br>\n",
        "15 is divisible by 3\n"
      ]
    },
    {
      "cell_type": "code",
      "metadata": {
        "id": "X4dIWwPUrsUF"
      },
      "source": [
        "# **Assignment #3**\n",
        "#1. create two variables: x,y \n",
        "#2. Write a program when a variable is divisible by 3 print  \n",
        "#   variable value is divisible by 3 \n",
        "#3. Otherwise  write variable value is not divisible by 3 \n",
        "\n",
        "#TODO"
      ],
      "execution_count": null,
      "outputs": []
    },
    {
      "cell_type": "markdown",
      "metadata": {
        "id": "A1TgD4NIs9-A"
      },
      "source": [
        "# elif statements\n",
        "'elif' statements check for true conditions.<br>\n",
        "<br>\n",
        "If an 'if' statement is false, an elif statement checks for other true conditions. \n"
      ]
    },
    {
      "cell_type": "code",
      "metadata": {
        "id": "i7hk7LxD3nZt"
      },
      "source": [
        "page(9)"
      ],
      "execution_count": null,
      "outputs": []
    },
    {
      "cell_type": "code",
      "metadata": {
        "id": "KXlh28TStl4r"
      },
      "source": [
        "#Example of an elif statement\n",
        "\n",
        "name = 'Hari'\n",
        "\n",
        "if name ==  \"Hari\":\n",
        "  print(\"this is Hari's house\") \n",
        "elif name == \"Catherine\": \n",
        "  print(\"this is Catherine's house\")\n",
        "print(\"done\")"
      ],
      "execution_count": null,
      "outputs": []
    },
    {
      "cell_type": "markdown",
      "metadata": {
        "id": "uTTIKRt4qI3_"
      },
      "source": [
        "# **Assignment #4**\n",
        "Create a program that does the following: <br>\n",
        "1. Prompts a user to enter a vowel (a,e,i,o,u)<br>\n",
        "2.   if a variable is an a, print \"it's a\" and change the variabable value to e and print \"it's now e\"<br>\n",
        "    if a variable is an e, print \"it's e\" and change the variable value to i and print \"it's now i\"<br>\n",
        "    if a variable is an i, print \"it's i\" and change the variable value to o and print \"it's now o\"<br>\n",
        "    if a variable is an o, print \"it's o\" and change the variable value to u and print \"it's now u\"<br>\n",
        "    if a variable is an u, print \"it's u\" and change the variable value to a and print \"it's now a\"<br>\n",
        "    <br>\n",
        "In other words: <br>\n",
        "  a --> e<br>\n",
        "  e --> i<br>\n",
        "  i --> o<br>\n",
        "  o --> u<br>\n",
        "  u --> a<br>\n",
        "\n",
        "\n",
        "You can assign the values to the variable in the program or get user input. <br>\n",
        "Ask for an input from the user. The inputs will be assigned as strings<br><br>\n",
        "The code for user inputs: <br>\n",
        "letter1 = input(\"letter1 =  \")\n"
      ]
    },
    {
      "cell_type": "code",
      "metadata": {
        "id": "njYgeemfOTIl"
      },
      "source": [
        ""
      ],
      "execution_count": null,
      "outputs": []
    },
    {
      "cell_type": "markdown",
      "metadata": {
        "id": "k-5vUg7p4AV_"
      },
      "source": [
        "# else statements after elif statement(s)"
      ]
    },
    {
      "cell_type": "markdown",
      "metadata": {
        "id": "xVn2J53ub7rw"
      },
      "source": [
        "An else statement is the default action if no other action is taken. "
      ]
    },
    {
      "cell_type": "code",
      "metadata": {
        "id": "QvkzTpTFFn0I"
      },
      "source": [
        "page(3)"
      ],
      "execution_count": null,
      "outputs": []
    },
    {
      "cell_type": "code",
      "metadata": {
        "id": "yWZ0758ab-e7"
      },
      "source": [
        "#Example of an elif statement\n",
        "x = \"this is my house\"\n",
        "\n",
        "if x == \"this is not my house\": \n",
        "  print(\"Not my house\")\n",
        "elif x == \"this is catherine's house\": \n",
        "  print(\"Catherine's house\")\n",
        "elif x == \"this is Hari's house\":\n",
        "  print(\"Hari's house\")\n",
        "else: \n",
        "    print(\"This must be my house\")"
      ],
      "execution_count": null,
      "outputs": []
    },
    {
      "cell_type": "markdown",
      "metadata": {
        "id": "O5uCVc-ScFSC"
      },
      "source": [
        "# **Assignment #5**\n",
        "Create a program that does the following: <br>\n",
        "1. Prompt the user to enter a number between 1 - 10<br>\n",
        "    If the number is equal to 5, print \"it's 5\"<br>\n",
        "    If the number is equal to 4, print \"it's 4\"<br>\n",
        "    If the number is greater than 10, print \"over 10\"<br>\n",
        "    If the number is less than 3, print \"under 3\"<br>\n",
        "    Otherwise print \"it is a 6,7,8,or 9\"<br>"
      ]
    },
    {
      "cell_type": "code",
      "metadata": {
        "id": "j5kqA5Hdp5W9"
      },
      "source": [
        "#  **Assignment #5**\n",
        "#Create a program that does the following: <br>\n",
        "#1. Prompt the user to enter a number between 1 - 10<br>\n",
        "#    If the number is equal to 5, print \"it's 5\"<br>\n",
        "#    If the number is equal to 4, print \"it's 4\"<br>\n",
        "#    If the number is greater than 10, print \"over 10\"<br>\n",
        "#    If the number is less than 3, print \"under 3\"<br>\n",
        "#   Otherwise print \"it is a 3,6,7,8,or 9\"<br>\n",
        "\n",
        "#TODO"
      ],
      "execution_count": null,
      "outputs": []
    },
    {
      "cell_type": "markdown",
      "metadata": {
        "id": "CENn0_BVIiK3"
      },
      "source": [
        "# Quiz\n",
        "\n",
        "Test your Python skills with this quiz. "
      ]
    },
    {
      "cell_type": "code",
      "metadata": {
        "id": "oacDfJIbOdiZ"
      },
      "source": [
        "page(5)"
      ],
      "execution_count": null,
      "outputs": []
    },
    {
      "cell_type": "code",
      "metadata": {
        "id": "OyO_zm60PDZe",
        "cellView": "form"
      },
      "source": [
        "#@title Q1: What is the output of the above code? \n",
        "\n",
        "text = '' #@param {type:\"string\"}\n",
        "text = text.lower()\n",
        "if text == \"hello\" or text == \"hello!\" :\n",
        "  print(\"correct!\")\n",
        "else:\n",
        "  print(\"Try again\")\n",
        "  print(\"Remember, the first true statement is executed\")\n"
      ],
      "execution_count": null,
      "outputs": []
    },
    {
      "cell_type": "code",
      "metadata": {
        "id": "tVKayVozUKHQ"
      },
      "source": [
        "page(6)"
      ],
      "execution_count": null,
      "outputs": []
    },
    {
      "cell_type": "code",
      "metadata": {
        "id": "vbHmtpZuUUrq",
        "cellView": "form"
      },
      "source": [
        "#@title Q2: What is the output of the above code? \n",
        "\n",
        "text = '3' #@param {type:\"string\"}\n",
        "text = text.lower()\n",
        "if text == \"big\":\n",
        "  print(\"correct!\")\n",
        "else:\n",
        "  print(\"Try again\")\n",
        "  print(\"Remember, the first true statement is the one that is executed. \")\n"
      ],
      "execution_count": null,
      "outputs": []
    },
    {
      "cell_type": "markdown",
      "metadata": {
        "id": "Peh8gbcS6pcB"
      },
      "source": [
        "# Debugging Exercise\n",
        "The following code contains multiple errors. Your assignment is to fix the errors and execute the code. "
      ]
    },
    {
      "cell_type": "code",
      "metadata": {
        "id": "7nDKWOI26wAS"
      },
      "source": [
        "coursework = \"English\"\n",
        "score_theory = 53\n",
        "score_practical = 35\n",
        "\n",
        "if(coursework = \"Science\" or coursework == \"science\")\n",
        "    if(score_theory > 50\n",
        "        print(\"Please check the input score for 'Science: Theory.\")\n",
        "    elsif(score_practical > 50)\n",
        "            print(Please check the input score for 'Science: Practical'.)  \n",
        "    else\n",
        "        print(Score \"validated for Science. Your total is: \", score_theory + score_practical)             \n",
        "elfi(coursework == \"English\" or coursework == \"english\")\n",
        "    if(score_Theory > 60):\n",
        "        print(\"Please check the input score for 'English: Theory'.\"):\n",
        "    else(score_practical > 40):\n",
        "            print(\"Please check the input score for 'English: Practical'.\")  \n",
        "    else:\n",
        "        prnit(\"Score validated for English. Your total is: \",score_theory + score_practical)\n",
        "else print(\"Coursework not recognised. Please enter score for either Science or English.\")"
      ],
      "execution_count": null,
      "outputs": []
    },
    {
      "cell_type": "markdown",
      "metadata": {
        "id": "Cgh9GQP08IwY"
      },
      "source": [
        "# Assignment #6\n"
      ]
    },
    {
      "cell_type": "code",
      "metadata": {
        "id": "pHqr0wR58O6G"
      },
      "source": [
        "page(10)"
      ],
      "execution_count": null,
      "outputs": []
    },
    {
      "cell_type": "code",
      "metadata": {
        "id": "fEIneKq8CuRh"
      },
      "source": [
        "#Assignment 6\n",
        "#TODO"
      ],
      "execution_count": null,
      "outputs": []
    },
    {
      "cell_type": "code",
      "metadata": {
        "id": "89_W9kUs-NJ6",
        "cellView": "form"
      },
      "source": [
        "#@title Sample Solution\n",
        "a = 10\n",
        "b = 20\n",
        "c = 30\n",
        "\n",
        "avg = (a + b + c) / 3\n",
        "print(\"avg =\", avg)\n",
        "\n",
        "if avg > a and avg > b and avg > c:\n",
        "    print(avg,\" is higher than a, b, c\")\n",
        "elif avg > a and avg > b:\n",
        "    print(avg,\" is higher than \", a, b)\n",
        "elif avg > a and avg > c:\n",
        "    print(avg,\" is higher than \", a, c)\n",
        "elif avg > b and avg > c:\n",
        "    print(avg,\"  higher than \", b, c)\n",
        "elif avg > a:\n",
        "    print(avg, \" is just higher than \", a)\n",
        "elif avg > b:\n",
        "    print(avg, \" is just higher than \", b)\n",
        "elif avg > c:\n",
        "    print(avg,\" is just higher than \", c)"
      ],
      "execution_count": null,
      "outputs": []
    },
    {
      "cell_type": "markdown",
      "metadata": {
        "id": "idfrTqUgxNHw"
      },
      "source": [
        "# Challenge Concept: Nested if statements\n",
        "Sometimes you may want to check for a condition after you have satisfied a condition. <br>\n",
        "For example: <br>\n",
        "1. is a variable less than 100?<br>\n",
        "   2. is the variable an even number? <br>\n",
        "      3. is the variable greater than 20?<br>\n",
        "\n",
        "\n",
        "\n"
      ]
    },
    {
      "cell_type": "code",
      "metadata": {
        "id": "rTbDT49HyQqt"
      },
      "source": [
        "#Example of nested if statements\n",
        "variable1 = 110\n",
        "\n",
        "print(variable1, \" is \")\n",
        "if variable1 < 100:\n",
        "  #print(\"less\")\n",
        "  if variable1 % 2 == 0:\n",
        "    print(\"even\")\n",
        "    if variable1 > 20:\n",
        "      print(\"even and between 100 and 20 \")\n",
        "    else:\n",
        "      print(\"even and less than 20\")\n",
        "  else:\n",
        "    print(\"odd and less than 100\")\n",
        "else: \n",
        "  print(\"greater than 100\")\n",
        "\n"
      ],
      "execution_count": null,
      "outputs": []
    },
    {
      "cell_type": "markdown",
      "metadata": {
        "id": "VjL7cUfiVslu"
      },
      "source": [
        "# **Assignment #7**\n",
        "\n",
        "Write a program that performs the following tasks: \n",
        "<br>\n",
        "1. if variable is between 100 and 200 and it is odd, print \"an odd 100 -200\"\n",
        "2. if the variable is between 100 and 200 and it is even, print \"an even 100 - 200\"\n",
        "3. if the variable is less than 100 print \"too small\"\n",
        "4. if the variable is greater than 200 print \"too big\""
      ]
    },
    {
      "cell_type": "code",
      "metadata": {
        "id": "M7tjHyg_Wd9g"
      },
      "source": [
        "#Assignment #7\n",
        "\n",
        "#TODO"
      ],
      "execution_count": null,
      "outputs": []
    },
    {
      "cell_type": "markdown",
      "metadata": {
        "id": "bXOUBGlyn6cZ"
      },
      "source": [
        "Congrats! You finished another Python Module.\n",
        "Keep up the good work....start the next module\n",
        "\n",
        "C3 Intro to ML Programming with Python\n",
        "<br><br>\n",
        "Instructions to access the notebooks:<br> \n",
        "In a Chrome or Firefox Window type on the search bar: **Google CoLab**<br>\n",
        "\n",
        "On the orange menu bar, select the menu item: **GITHUB**<br>\n",
        "\n",
        "If the orange pop-up menu does not appear, <br>\n",
        "\n",
        "In the Notebook environment, select File>Open notebook <br>\n",
        "\n",
        "The orange pop-up menu should now appear.<br>\n",
        "\n",
        "Select:  GITHUB<br>\n",
        "\n",
        "On the search bar type in: **cagBRT**  This will bring up my gitHub repository. <br>\n",
        "\n",
        "On the drop down menu select: cagBRT/<br>**Intro-To-Programming-with-Python**<br>\n",
        "\n",
        "Then select: **Intro to C3 Intro to Python.ipynb**<br>"
      ]
    }
  ]
}