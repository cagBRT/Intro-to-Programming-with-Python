{
  "nbformat": 4,
  "nbformat_minor": 0,
  "metadata": {
    "colab": {
      "private_outputs": true,
      "provenance": [],
      "authorship_tag": "ABX9TyNGCTXETXsB8xH7XyZC0lc/",
      "include_colab_link": true
    },
    "kernelspec": {
      "name": "python3",
      "display_name": "Python 3"
    },
    "language_info": {
      "name": "python"
    }
  },
  "cells": [
    {
      "cell_type": "markdown",
      "metadata": {
        "id": "view-in-github",
        "colab_type": "text"
      },
      "source": [
        "<a href=\"https://colab.research.google.com/github/cagBRT/Intro-to-Programming-with-Python/blob/master/A8_Scope.ipynb\" target=\"_parent\"><img src=\"https://colab.research.google.com/assets/colab-badge.svg\" alt=\"Open In Colab\"/></a>"
      ]
    },
    {
      "cell_type": "markdown",
      "source": [
        "## The Concept of Scope<br>\n",
        "\n",
        "The Concept of Scope rules how variables and names are looked up in your code. It determines the visibility of a variable within the code. <br>\n",
        "\n",
        "The scope of a name or variable depends on the place in your code where you create that variable. <br>\n",
        "\n",
        "The Python scope concept is generally presented using a rule known as the LEGB rule."
      ],
      "metadata": {
        "id": "Mn7vOOekKrCd"
      }
    },
    {
      "cell_type": "markdown",
      "source": [
        "LEGB stand for:<br>\n",
        ">Local<br>\n",
        "Enclosing<br>\n",
        "Global<br>\n",
        "Built-in<br>"
      ],
      "metadata": {
        "id": "kFU0AL97K7T_"
      }
    },
    {
      "cell_type": "markdown",
      "source": [
        "In programming, the scope of a name defines the area of a program in which you can unambiguously access that name, such as variables, functions, objects, and so on. A name will only be visible to and accessible by the code in its scope."
      ],
      "metadata": {
        "id": "UM3Ztw00LL5T"
      }
    },
    {
      "cell_type": "markdown",
      "source": [
        "**Global scope**: The names that you define in this scope are available to all your code.<br>\n",
        "\n",
        "**Local scope**: The names that you define in this scope are only available or visible to the code within the scope."
      ],
      "metadata": {
        "id": "mjkizSytLPsB"
      }
    },
    {
      "cell_type": "markdown",
      "source": [
        "You can create Python names through one of the following operations:<br>\n",
        "\n",
        "**Assignments**:\tx = value<br>\n",
        "**Import operations**:\timport module or from module import name<br>\n",
        "**Function definitions:**\tdef my_func(): ...<br>\n",
        "**Argument definitions in the context of functions:**\tdef my_func(arg1, arg2,... argN): ...<br>\n",
        "**Class definitions:**\tclass MyClass: ...<br>"
      ],
      "metadata": {
        "id": "UjPvpUScLcvB"
      }
    },
    {
      "cell_type": "markdown",
      "source": [
        "## Example of local scope"
      ],
      "metadata": {
        "id": "-Q4C4DpuMRJP"
      }
    },
    {
      "cell_type": "code",
      "source": [
        "def func():\n",
        "    x = 10\n",
        "    print(x)"
      ],
      "metadata": {
        "id": "laW_NUGZMFNK"
      },
      "execution_count": null,
      "outputs": []
    },
    {
      "cell_type": "code",
      "execution_count": null,
      "metadata": {
        "id": "N0b2Ql21KGdH"
      },
      "outputs": [],
      "source": [
        "func() # 10"
      ]
    },
    {
      "cell_type": "markdown",
      "source": [
        "**Raises NameError**, x is only defined within the scope of func()"
      ],
      "metadata": {
        "id": "Ifio6BMzMNkF"
      }
    },
    {
      "cell_type": "code",
      "source": [
        "print(x) #"
      ],
      "metadata": {
        "id": "CYc7rKPCMJh-"
      },
      "execution_count": null,
      "outputs": []
    },
    {
      "cell_type": "markdown",
      "source": [
        "In the example below result is only defined in the function called square"
      ],
      "metadata": {
        "id": "qt9T1VpdRMVI"
      }
    },
    {
      "cell_type": "code",
      "source": [
        "def square(base):\n",
        "    result = base ** 2\n",
        "    print(f'The square of {base} is: {result}')\n",
        "\n",
        "square(10)\n",
        "print(result)\n"
      ],
      "metadata": {
        "id": "8OXq2xGKQm0U"
      },
      "execution_count": null,
      "outputs": []
    },
    {
      "cell_type": "markdown",
      "source": [
        "In the function below, notice we can use result as if it were a brand new variable."
      ],
      "metadata": {
        "id": "7uwsmdLkSFUn"
      }
    },
    {
      "cell_type": "code",
      "source": [
        "def cube(base):\n",
        "  result=base**3\n",
        "  print(f'The square of {base} is: {result}')"
      ],
      "metadata": {
        "id": "0-YkjkBKR4Q5"
      },
      "execution_count": null,
      "outputs": []
    },
    {
      "cell_type": "code",
      "source": [
        "cube(10)"
      ],
      "metadata": {
        "id": "IBAZOGLNSCPu"
      },
      "execution_count": null,
      "outputs": []
    },
    {
      "cell_type": "markdown",
      "source": [
        "x is only defined in the scope that is local to func. That's why it isn't accessible anywhere else in the script."
      ],
      "metadata": {
        "id": "i_uso5yrMYNo"
      }
    },
    {
      "cell_type": "markdown",
      "source": [
        "## Enclosing Scope<br>\n",
        "Enclosing scope is the intermediary scope between local and global scopes.<br>\n",
        "\n",
        "In the example below input is in the local scope of outer_func.\n",
        "\n",
        "On the other hand, input is in the enclosing scope relative to the nested inner_func function. <bf>\n",
        "\n",
        "Local scope always has read-only access to the enclosing scope."
      ],
      "metadata": {
        "id": "g0CIOrypMbAm"
      }
    },
    {
      "cell_type": "code",
      "source": [
        "def outer_func():\n",
        "    input=20\n",
        "    def inner_func():\n",
        "        print(\"input=\",input)\n",
        "    inner_func()"
      ],
      "metadata": {
        "id": "uGZcb0umMf2g"
      },
      "execution_count": null,
      "outputs": []
    },
    {
      "cell_type": "code",
      "source": [
        "outer_func()"
      ],
      "metadata": {
        "id": "Nk8ZrZxnMtbX"
      },
      "execution_count": null,
      "outputs": []
    },
    {
      "cell_type": "code",
      "source": [
        "print(input)"
      ],
      "metadata": {
        "id": "sEwOnt1sQWql"
      },
      "execution_count": null,
      "outputs": []
    },
    {
      "cell_type": "markdown",
      "source": [
        "When you call outer_func(), you’re also creating a local scope. <br>\n",
        "The local scope of outer_func() is, at the same time, the enclosing scope of inner_func(). <br>\n",
        "From inside inner_func(), this scope is neither the global scope nor the local scope. <br>\n",
        "It’s a special scope that lies in between those two scopes and is known as the enclosing scope.\n",
        "\n"
      ],
      "metadata": {
        "id": "RYlkahykTQ_W"
      }
    },
    {
      "cell_type": "code",
      "source": [
        "def outer_func():\n",
        "    var = 100\n",
        "    def inner_func():\n",
        "        print(f\"Printing var from inner_func(): {var}\")\n",
        "        print(f\"Printing another_var from inner_func(): {another_var}\")\n",
        "\n",
        "    inner_func()\n",
        "    another_var = 200  # This is defined after calling inner_func()\n",
        "    print(f\"Printing var from outer_func(): {var}\")\n",
        "\n",
        "outer_func()\n"
      ],
      "metadata": {
        "id": "KSbb2jQ0Qk2S"
      },
      "execution_count": null,
      "outputs": []
    },
    {
      "cell_type": "markdown",
      "source": [
        "## Global Scope<br>\n",
        "\n",
        "From the moment you start a Python program, you’re in the global Python scope."
      ],
      "metadata": {
        "id": "y_xtehDQTpVE"
      }
    },
    {
      "cell_type": "code",
      "source": [
        "__name__"
      ],
      "metadata": {
        "id": "RbJXHVP8TzhO"
      },
      "execution_count": null,
      "outputs": []
    },
    {
      "cell_type": "code",
      "source": [
        "dir()"
      ],
      "metadata": {
        "id": "hUJuW0IbUBTW"
      },
      "execution_count": null,
      "outputs": []
    },
    {
      "cell_type": "markdown",
      "source": [
        "You can access or reference the value of any global name from any place in your code. This includes functions and classes."
      ],
      "metadata": {
        "id": "BYPHk2IzUcFW"
      }
    },
    {
      "cell_type": "code",
      "source": [
        "var = 100\n",
        "def func():\n",
        "    return var  # You can access var from inside func()\n",
        "\n",
        "func()\n",
        "var  # Remains unchanged"
      ],
      "metadata": {
        "id": "81XKtNS1UdHv"
      },
      "execution_count": null,
      "outputs": []
    },
    {
      "cell_type": "markdown",
      "source": [
        "Inside func(), **you can freely access or reference the value of var**. <br>\n",
        "This has no effect on your global name var, but it shows you that var can be freely accessed from within func().<br>\n",
        "\n",
        " On the other hand, **you can’t assign global names inside functions unless you explicitly declare them** as global names using a global statement, which you’ll see later on.\n",
        "\n"
      ],
      "metadata": {
        "id": "3e5qg-5tVUso"
      }
    },
    {
      "cell_type": "code",
      "source": [
        "var = 100\n",
        "def func():\n",
        "  var=90      #you can't change var inside the function unless\n",
        "              #you pass it the variable\n",
        "  return var  # You can access var from inside func()\n",
        "\n",
        "func()\n",
        "var  # Remains unchanged"
      ],
      "metadata": {
        "id": "bWshyc6yU7Z-"
      },
      "execution_count": null,
      "outputs": []
    },
    {
      "cell_type": "code",
      "source": [
        "var = 100\n",
        "def func(var):\n",
        "  var=90      #you can't change var inside the function unless\n",
        "              #this var is different than the gobal var\n",
        "  print(\"var in the function is \", var)\n",
        "  return var  # You can access var from inside func()\n",
        "\n",
        "func(var)\n",
        "print(\"var outside the function is \",var)  # Remains unchanged"
      ],
      "metadata": {
        "id": "2ozCqNOaVl1k"
      },
      "execution_count": null,
      "outputs": []
    },
    {
      "cell_type": "markdown",
      "source": [
        "The code below won't work. <br>\n",
        "var is a global variable and you are trying to reassign it in a local scope."
      ],
      "metadata": {
        "id": "YsIA4GaLW6jQ"
      }
    },
    {
      "cell_type": "code",
      "source": [
        "var = 100  # A global variable\n",
        "def increment():\n",
        "    var = var + 1  # Try to update a global variable\n",
        "\n",
        "increment()\n"
      ],
      "metadata": {
        "id": "zJICjz7mWk4I"
      },
      "execution_count": null,
      "outputs": []
    },
    {
      "cell_type": "markdown",
      "source": [
        "The only way to change var is to assign it a new value in its scope."
      ],
      "metadata": {
        "id": "qU1Sh3tAWDjY"
      }
    },
    {
      "cell_type": "code",
      "source": [
        "var = 100\n",
        "def func(var):\n",
        "  var=90      #var was passed into the function\n",
        "  return var\n",
        "\n",
        "var = func(var)\n",
        "var             #var changes because it is assigned outside the function"
      ],
      "metadata": {
        "id": "XQlnzJYWV530"
      },
      "execution_count": null,
      "outputs": []
    },
    {
      "cell_type": "markdown",
      "source": [
        "**Note:** Global names can be updated or modified from any place in your global Python scope. Beyond that, the global statement can be used to modify global names from almost any place in your code, as you’ll see in The global Statement.<br>\n",
        "\n",
        "Modifying global names is generally considered bad programming practice because it can lead to code that is:\n",
        "\n",
        ">**Difficult to debug**: Almost any statement in the program can change the value of a global name.<br>\n",
        "**Hard to understand**: You need to be aware of all the statements that access and modify global names.<br>\n",
        "**Impossible to reuse**: The code is dependent on global names that are specific to a concrete program.<br>\n",
        "\n",
        "\n",
        "**Good programming practice recommends using local names rather than global names.** <br>\n",
        "\n",
        "Here are some tips:\n",
        "\n",
        "**Write self-contained functions** that rely on local names rather than global ones.<br>\n",
        "**Try to use unique objects names**, no matter what scope you’re in.<br>\n",
        "**Avoid global name modifications** throughout your programs.<br>\n",
        "**Avoid cross-module name modifications**.<br>\n",
        "**Use global names as constants** that don’t change during your program’s execution.<br>"
      ],
      "metadata": {
        "id": "0LF7qkKPeTBH"
      }
    },
    {
      "cell_type": "markdown",
      "source": [
        "## Scope Summary"
      ],
      "metadata": {
        "id": "el2budgDfEoH"
      }
    },
    {
      "cell_type": "code",
      "source": [
        "# This area is the global or module scope\n",
        "number = 100\n",
        "def outer_func():\n",
        "    # This block is the local scope of outer_func()\n",
        "    # It's also the enclosing scope of inner_func()\n",
        "    def inner_func():\n",
        "        # This block is the local scope of inner_func()\n",
        "        print(number)\n",
        "\n",
        "    inner_func()\n",
        "\n",
        "outer_func()"
      ],
      "metadata": {
        "id": "VPPxlSDBfBh_"
      },
      "execution_count": null,
      "outputs": []
    },
    {
      "cell_type": "markdown",
      "source": [
        "## Built In Scope\n",
        "\n",
        "The built-in scope is a special Python scope that’s implemented as a standard library module named builtins in Python 3.x.<br><br>\n",
        "All of Python’s built-in objects live in this module. They’re automatically loaded to the built-in scope when you run the Python interpreter. <br><br>\n",
        "Python searches builtins last in its LEGB lookup, so you get all the names it defines for free. This means that you can use them without importing any module."
      ],
      "metadata": {
        "id": "5QIx603mtHko"
      }
    },
    {
      "cell_type": "markdown",
      "source": [
        " The names in builtins are always loaded into your global Python scope with the special name __builtins__, as you can see in the following code:"
      ],
      "metadata": {
        "id": "4e8AiK_GtqC0"
      }
    },
    {
      "cell_type": "code",
      "source": [
        "dir(__builtins__)"
      ],
      "metadata": {
        "id": "YQ60DOzrtkBp"
      },
      "execution_count": null,
      "outputs": []
    },
    {
      "cell_type": "markdown",
      "source": [
        "Even though you can access all of these Python built-in objects for free (without importing anything),<br>\n",
        "you can also explicitly import builtins and access the names using the dot notation."
      ],
      "metadata": {
        "id": "G3_dRdpvt_rT"
      }
    },
    {
      "cell_type": "code",
      "source": [
        "import builtins  # Import builtins as a regular module\n",
        "dir(builtins)\n",
        "\n",
        "builtins.sum([1, 2, 3, 4, 5])\n",
        "\n",
        "builtins.max([1, 5, 8, 7, 3])\n",
        "\n",
        "builtins.sorted([1, 5, 8, 7, 3])\n",
        "\n",
        "builtins.pow(10, 2)"
      ],
      "metadata": {
        "id": "r2tWwiQ-uAhP"
      },
      "execution_count": null,
      "outputs": []
    },
    {
      "cell_type": "markdown",
      "source": [
        "You can override or redefine any built-in name in your global scope.<bR>\n",
        "\n",
        "If you do this, **then keep in mind that this will affect all your code**.<br>\n",
        "For example:\n",
        "\n"
      ],
      "metadata": {
        "id": "VQneRpEsuPdT"
      }
    },
    {
      "cell_type": "code",
      "source": [
        "abs(-15)  # Standard use of a built-in function\n",
        "\n",
        "abs = 20  # Redefine a built-in name in the global scope\n",
        "abs(-15)"
      ],
      "metadata": {
        "id": "-moJYpmzuPmc"
      },
      "execution_count": null,
      "outputs": []
    },
    {
      "cell_type": "markdown",
      "source": [
        "If you override or re-assign abs, then the original built-in abs() is affected all over your code."
      ],
      "metadata": {
        "id": "ywHn3d5jul2j"
      }
    },
    {
      "cell_type": "markdown",
      "source": [
        "**Accidentally or inadvertently overriding or redefining built-in names in your global scope can be a source of dangerous and hard-to-find bugs.** <br>\n",
        "\n",
        "**It’s better to avoid doing this.**"
      ],
      "metadata": {
        "id": "96x0k39XutpS"
      }
    },
    {
      "cell_type": "code",
      "source": [
        "del abs  # Remove the redefined abs from your global scope\n",
        "abs(-15)  # Restore the original abs()"
      ],
      "metadata": {
        "id": "3q8-NKRBur7Z"
      },
      "execution_count": null,
      "outputs": []
    },
    {
      "cell_type": "markdown",
      "source": [
        "## Global Statement<br>\n",
        "Use a global statement. With this statement, you can define a list of names that are going to be treated as global names.<br>\n",
        "\n",
        "The statement consists of the global keyword followed by one or more names separated by commas. You can also use multiple global statements with a name (or a list of names). All the names that you list in a global statement will be mapped to the global or module scope in which you define them."
      ],
      "metadata": {
        "id": "2FB_OroGvm1Q"
      }
    },
    {
      "cell_type": "code",
      "source": [
        "counter = 0  # A global name\n",
        "\n",
        "def update_counter():\n",
        "    global counter\n",
        "    counter = counter + 1  # Fail trying to update counter\n",
        "\n",
        "update_counter()\n",
        "print(counter)\n",
        "update_counter()\n",
        "print(counter)"
      ],
      "metadata": {
        "id": "AneGJuWovn88"
      },
      "execution_count": null,
      "outputs": []
    },
    {
      "cell_type": "markdown",
      "source": [
        "**The use of global is considered bad practice in general**. <br>\n",
        "\n",
        "If you find yourself using global to fix problems like the one above,<br>\n",
        "then stop and think if there is a better way to write your code."
      ],
      "metadata": {
        "id": "m9P9OlVhwspp"
      }
    },
    {
      "cell_type": "markdown",
      "source": [
        "**Assignment**:<br>\n",
        "Write the code above without using the global statement."
      ],
      "metadata": {
        "id": "AfIvR2tTw82e"
      }
    },
    {
      "cell_type": "code",
      "source": [
        "#Assignment"
      ],
      "metadata": {
        "id": "Oi9xvQf7wz8I"
      },
      "execution_count": null,
      "outputs": []
    }
  ]
}