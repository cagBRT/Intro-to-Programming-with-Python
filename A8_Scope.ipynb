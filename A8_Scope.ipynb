{
  "nbformat": 4,
  "nbformat_minor": 0,
  "metadata": {
    "colab": {
      "private_outputs": true,
      "provenance": [],
      "authorship_tag": "ABX9TyMXx058QK7bQgmQ74NuecZu",
      "include_colab_link": true
    },
    "kernelspec": {
      "name": "python3",
      "display_name": "Python 3"
    },
    "language_info": {
      "name": "python"
    }
  },
  "cells": [
    {
      "cell_type": "markdown",
      "metadata": {
        "id": "view-in-github",
        "colab_type": "text"
      },
      "source": [
        "<a href=\"https://colab.research.google.com/github/cagBRT/Intro-to-Programming-with-Python/blob/master/A8_Scope.ipynb\" target=\"_parent\"><img src=\"https://colab.research.google.com/assets/colab-badge.svg\" alt=\"Open In Colab\"/></a>"
      ]
    },
    {
      "cell_type": "markdown",
      "source": [
        "## The Concept of Scope<br>\n",
        "\n",
        "The Concept of Scope rules how variables and names are looked up in your code. It determines the visibility of a variable within the code. <br>\n",
        "\n",
        "The scope of a name or variable depends on the place in your code where you create that variable. <br>\n",
        "\n",
        "The Python scope concept is generally presented using a rule known as the LEGB rule."
      ],
      "metadata": {
        "id": "Mn7vOOekKrCd"
      }
    },
    {
      "cell_type": "markdown",
      "source": [
        "LEGB stand for:<br>\n",
        ">Local<br>\n",
        "Enclosing<br>\n",
        "Global<br>\n",
        "Built-in<br>"
      ],
      "metadata": {
        "id": "kFU0AL97K7T_"
      }
    },
    {
      "cell_type": "markdown",
      "source": [
        "In programming, the scope of a name defines the area of a program in which you can unambiguously access that name, such as variables, functions, objects, and so on. A name will only be visible to and accessible by the code in its scope."
      ],
      "metadata": {
        "id": "UM3Ztw00LL5T"
      }
    },
    {
      "cell_type": "markdown",
      "source": [
        "**Global scope**: The names that you define in this scope are available to all your code.<br>\n",
        "\n",
        "**Local scope**: The names that you define in this scope are only available or visible to the code within the scope."
      ],
      "metadata": {
        "id": "mjkizSytLPsB"
      }
    },
    {
      "cell_type": "markdown",
      "source": [
        "You can create Python names through one of the following operations:<br>\n",
        "\n",
        "**Assignments**:\tx = value<br>\n",
        "**Import operations**:\timport module or from module import name<br>\n",
        "**Function definitions:**\tdef my_func(): ...<br>\n",
        "**Argument definitions in the context of functions:**\tdef my_func(arg1, arg2,... argN): ...<br>\n",
        "**Class definitions:**\tclass MyClass: ...<br>"
      ],
      "metadata": {
        "id": "UjPvpUScLcvB"
      }
    },
    {
      "cell_type": "markdown",
      "source": [
        "## Example of local scope"
      ],
      "metadata": {
        "id": "-Q4C4DpuMRJP"
      }
    },
    {
      "cell_type": "code",
      "source": [
        "def func():\n",
        "    x = 10\n",
        "    print(x)"
      ],
      "metadata": {
        "id": "laW_NUGZMFNK"
      },
      "execution_count": null,
      "outputs": []
    },
    {
      "cell_type": "code",
      "execution_count": null,
      "metadata": {
        "id": "N0b2Ql21KGdH"
      },
      "outputs": [],
      "source": [
        "func() # 10"
      ]
    },
    {
      "cell_type": "markdown",
      "source": [
        "**Raises NameError**, x is only defined within the scope of func()"
      ],
      "metadata": {
        "id": "Ifio6BMzMNkF"
      }
    },
    {
      "cell_type": "code",
      "source": [
        "print(x) #"
      ],
      "metadata": {
        "id": "CYc7rKPCMJh-"
      },
      "execution_count": null,
      "outputs": []
    },
    {
      "cell_type": "code",
      "source": [
        "def square(base):\n",
        "    result = base ** 2\n",
        "    print(f'The square of {base} is: {result}')\n",
        "\n",
        "square(10)\n",
        "print(result)\n"
      ],
      "metadata": {
        "id": "8OXq2xGKQm0U"
      },
      "execution_count": null,
      "outputs": []
    },
    {
      "cell_type": "markdown",
      "source": [
        "x is only defined in the scope that is local to func. That's why it isn't accessible anywhere else in the script."
      ],
      "metadata": {
        "id": "i_uso5yrMYNo"
      }
    },
    {
      "cell_type": "markdown",
      "source": [
        "## Enclosing Scope<br>\n",
        "Enclosing scope is the intermediary scope between local and global scopes.<br>\n",
        "\n",
        "In the example below input is in the local scope of outer_func.\n",
        "\n",
        "On the other hand, input is in the enclosing scope relative to the nested inner_func function. <bf>\n",
        "\n",
        "Local scope always has read-only access to the enclosing scope."
      ],
      "metadata": {
        "id": "g0CIOrypMbAm"
      }
    },
    {
      "cell_type": "code",
      "source": [
        "def outer_func():\n",
        "    input=20\n",
        "    def inner_func():\n",
        "        print(\"input=\",input)\n",
        "    inner_func()"
      ],
      "metadata": {
        "id": "uGZcb0umMf2g"
      },
      "execution_count": null,
      "outputs": []
    },
    {
      "cell_type": "code",
      "source": [
        "outer_func()"
      ],
      "metadata": {
        "id": "Nk8ZrZxnMtbX"
      },
      "execution_count": null,
      "outputs": []
    },
    {
      "cell_type": "code",
      "source": [
        "print(input)"
      ],
      "metadata": {
        "id": "sEwOnt1sQWql"
      },
      "execution_count": null,
      "outputs": []
    },
    {
      "cell_type": "code",
      "source": [],
      "metadata": {
        "id": "KSbb2jQ0Qk2S"
      },
      "execution_count": null,
      "outputs": []
    }
  ]
}