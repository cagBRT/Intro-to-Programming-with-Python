{
  "nbformat": 4,
  "nbformat_minor": 0,
  "metadata": {
    "colab": {
      "private_outputs": true,
      "provenance": [],
      "authorship_tag": "ABX9TyP4swzgRhAs6Sd/H7roHmJ5",
      "include_colab_link": true
    },
    "kernelspec": {
      "name": "python3",
      "display_name": "Python 3"
    },
    "language_info": {
      "name": "python"
    }
  },
  "cells": [
    {
      "cell_type": "markdown",
      "metadata": {
        "id": "view-in-github",
        "colab_type": "text"
      },
      "source": [
        "<a href=\"https://colab.research.google.com/github/cagBRT/Intro-to-Programming-with-Python/blob/master/I1_f_Strings.ipynb\" target=\"_parent\"><img src=\"https://colab.research.google.com/assets/colab-badge.svg\" alt=\"Open In Colab\"/></a>"
      ]
    },
    {
      "cell_type": "markdown",
      "source": [
        "This notebook explains the Python changes for printing formated strings. <br>\n",
        "These changes are explained in [Python Enhancement Proposal ([PEP 498](https://peps.python.org/pep-0498/))]\n"
      ],
      "metadata": {
        "id": "B5CLfkp70CL4"
      }
    },
    {
      "cell_type": "markdown",
      "source": [
        "# Literal String Interpolation\n",
        "\n",
        "Literal String Interpolation or more commonly as F-strings (because of the leading f character preceding the string literal).\n",
        "\n",
        "The idea behind f-strings is to make string interpolation simpler.\n",
        "\n"
      ],
      "metadata": {
        "id": "ugPlq_qmn63f"
      }
    },
    {
      "cell_type": "markdown",
      "source": [
        "F-strings provide a way to embed expressions inside string literals, using a minimal syntax. It should be noted that an f-string is really an expression evaluated at run time, not a constant value. In Python source code, an f-string is a literal string, prefixed with ‘f’, which contains expressions inside braces. The expressions are replaced with their values."
      ],
      "metadata": {
        "id": "ULBBDu9-qEPo"
      }
    },
    {
      "cell_type": "markdown",
      "source": [
        "To create an f-string, prefix the string with the letter “ f ”.\n",
        "\n",
        "F-strings provide a concise and convenient way to embed python expressions inside string literals for formatting."
      ],
      "metadata": {
        "id": "z65Jx_mWoFBW"
      }
    },
    {
      "cell_type": "markdown",
      "source": [
        "**F-strings are faster** than the two most commonly used string formatting mechanisms: <br>\n",
        " > % formatting<br>\n",
        "  str.format() <br>"
      ],
      "metadata": {
        "id": "LTyJymkDocTN"
      }
    },
    {
      "cell_type": "code",
      "execution_count": null,
      "metadata": {
        "id": "tgYcunSGnevC"
      },
      "outputs": [],
      "source": [
        "name=\"Kalimotxo\"\n",
        "age=11"
      ]
    },
    {
      "cell_type": "code",
      "source": [
        "f'My name is {name}, my age is {age}.'"
      ],
      "metadata": {
        "id": "qSQj7DwRoWYl"
      },
      "execution_count": null,
      "outputs": []
    },
    {
      "cell_type": "markdown",
      "source": [
        "You can use f or F. <br>\n",
        "Either works"
      ],
      "metadata": {
        "id": "sQ7CPDJ0r5Hi"
      }
    },
    {
      "cell_type": "code",
      "source": [
        "F'My name is {name}, my age is {age}.'"
      ],
      "metadata": {
        "id": "zsXIOkIFrz5M"
      },
      "execution_count": null,
      "outputs": []
    },
    {
      "cell_type": "markdown",
      "source": [
        "**Assignment 1**<br>\n",
        "Write code to ask a user for their name and age<br>\n",
        "Then print the name and age of a user"
      ],
      "metadata": {
        "id": "85z_9gtPqpbn"
      }
    },
    {
      "cell_type": "code",
      "source": [
        "#Assignment 1"
      ],
      "metadata": {
        "id": "hEGW55X2q18-"
      },
      "execution_count": null,
      "outputs": []
    },
    {
      "cell_type": "code",
      "source": [
        "# @title\n",
        "name=input(\"what is your first name?\")\n",
        "age=int(input(\"what is your age?\"))\n",
        "\n",
        "f'hello {name}, are you really {age} years old?'\n"
      ],
      "metadata": {
        "cellView": "form",
        "id": "YjiaEZE1q304"
      },
      "execution_count": null,
      "outputs": []
    },
    {
      "cell_type": "markdown",
      "source": [
        "## Using expressions in f strings"
      ],
      "metadata": {
        "id": "F04uuwABr_qG"
      }
    },
    {
      "cell_type": "code",
      "source": [
        "print(f'{5*20}')"
      ],
      "metadata": {
        "id": "GUcQstdRrLDs"
      },
      "execution_count": null,
      "outputs": []
    },
    {
      "cell_type": "code",
      "source": [
        "in1=40\n",
        "in2=10\n",
        "\n",
        "print(f'{in1*in2}')"
      ],
      "metadata": {
        "id": "TIxoQLtAsUww"
      },
      "execution_count": null,
      "outputs": []
    },
    {
      "cell_type": "markdown",
      "source": [
        "**Assignment 2**<br>\n",
        "Ask the user for two input values<br>\n",
        "print them using an expression in an f statement"
      ],
      "metadata": {
        "id": "meq0-jl4skrr"
      }
    },
    {
      "cell_type": "code",
      "source": [
        "#Assign 2"
      ],
      "metadata": {
        "id": "HWbMKlfIsk1-"
      },
      "execution_count": null,
      "outputs": []
    },
    {
      "cell_type": "markdown",
      "source": [
        "## Calling a function in an f string"
      ],
      "metadata": {
        "id": "lEsS4AI5s7oP"
      }
    },
    {
      "cell_type": "code",
      "source": [
        "def add(in1, in2):\n",
        "  return in1+in2"
      ],
      "metadata": {
        "id": "vQ0uJ--Qs_ji"
      },
      "execution_count": null,
      "outputs": []
    },
    {
      "cell_type": "code",
      "source": [
        "num1=2\n",
        "num2=9\n",
        "print(f'{add(num1,num2)}')"
      ],
      "metadata": {
        "id": "kBBh50SxtUp_"
      },
      "execution_count": null,
      "outputs": []
    },
    {
      "cell_type": "markdown",
      "source": [
        "**Assignment 3**<br>\n",
        "- Ask the user for two inputs\n",
        "- Create a function using the two inputs that returns a value\n",
        "- Call the function inside an f string\n"
      ],
      "metadata": {
        "id": "09UMSMObtodz"
      }
    },
    {
      "cell_type": "code",
      "source": [
        "#Assignmnet 3"
      ],
      "metadata": {
        "id": "woRSLQpat8yv"
      },
      "execution_count": null,
      "outputs": []
    },
    {
      "cell_type": "markdown",
      "source": [
        "## Using builtin methods"
      ],
      "metadata": {
        "id": "llMDcgBQt_jR"
      }
    },
    {
      "cell_type": "code",
      "source": [
        "name_of_book=\"call of the wild\"\n",
        "print(f'{name_of_book.title()}')"
      ],
      "metadata": {
        "id": "LZ8NCycpuHcy"
      },
      "execution_count": null,
      "outputs": []
    },
    {
      "cell_type": "markdown",
      "source": [
        "**Assignment 4**<br>\n",
        "- create a string variable\n",
        "- call a builtin method in the f string\n",
        "- do this for four different methods<br>\n",
        "\n",
        "[String methods](https://www.w3schools.com/python/python_ref_string.asp)"
      ],
      "metadata": {
        "id": "TmBpbSCuucP9"
      }
    },
    {
      "cell_type": "code",
      "source": [
        "#Assignment 4"
      ],
      "metadata": {
        "id": "RlnZmB8ju6rR"
      },
      "execution_count": null,
      "outputs": []
    },
    {
      "cell_type": "markdown",
      "source": [
        "## Special Characters"
      ],
      "metadata": {
        "id": "DwYDTWzuvTfK"
      }
    },
    {
      "cell_type": "markdown",
      "source": [
        "**Special char: Quotes**"
      ],
      "metadata": {
        "id": "QFsuEWsxwadW"
      }
    },
    {
      "cell_type": "code",
      "source": [
        "name=\"School of ML\"\n",
        "\n",
        "#single quotes\n",
        "print(f\"The school is called \\'{name}\\'\")"
      ],
      "metadata": {
        "id": "471p0FhTvWHL"
      },
      "execution_count": null,
      "outputs": []
    },
    {
      "cell_type": "code",
      "source": [
        "#double quotes\n",
        "print(f\"The school is called \\\"{name}\\\"\")"
      ],
      "metadata": {
        "id": "L8N4soXhv4UO"
      },
      "execution_count": null,
      "outputs": []
    },
    {
      "cell_type": "markdown",
      "source": [
        "Backslashes *do not* go inside the curly braces"
      ],
      "metadata": {
        "id": "aGxcNGP6wJ6a"
      }
    },
    {
      "cell_type": "code",
      "source": [
        "print(f\"{\\\"name\"\\\"}\")"
      ],
      "metadata": {
        "id": "4JSibbXZwKFU"
      },
      "execution_count": null,
      "outputs": []
    },
    {
      "cell_type": "markdown",
      "source": [
        "**Special char: Printing Curly Braces**"
      ],
      "metadata": {
        "id": "FdsWaALUwTEY"
      }
    },
    {
      "cell_type": "code",
      "source": [
        "print(f\"{{name}}\")"
      ],
      "metadata": {
        "id": "aaL8-PlGwTW2"
      },
      "execution_count": null,
      "outputs": []
    }
  ]
}