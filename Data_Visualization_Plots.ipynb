{
  "nbformat": 4,
  "nbformat_minor": 0,
  "metadata": {
    "colab": {
      "private_outputs": true,
      "provenance": [],
      "authorship_tag": "ABX9TyO6dPf3eF0lWDbivd6Eqst4",
      "include_colab_link": true
    },
    "kernelspec": {
      "name": "python3",
      "display_name": "Python 3"
    },
    "language_info": {
      "name": "python"
    }
  },
  "cells": [
    {
      "cell_type": "markdown",
      "metadata": {
        "id": "view-in-github",
        "colab_type": "text"
      },
      "source": [
        "<a href=\"https://colab.research.google.com/github/cagBRT/Intro-to-Programming-with-Python/blob/master/Data_Visualization_Plots.ipynb\" target=\"_parent\"><img src=\"https://colab.research.google.com/assets/colab-badge.svg\" alt=\"Open In Colab\"/></a>"
      ]
    },
    {
      "cell_type": "markdown",
      "source": [
        "This notebook covers five charts and plots visualizing data in different ways."
      ],
      "metadata": {
        "id": "YMyS0NlKuQ5L"
      }
    },
    {
      "cell_type": "markdown",
      "source": [
        "## Chord Diagram\n",
        "\n",
        "The Chord diagram shows the connections and relationships between data in a matrix format.\n",
        "<br>\n",
        "The diagram consists of a circle whose circumference is divided into different segments that are connected using arcs (or chords) that represent the relationships between the segments.\n",
        "\n",
        "The thickness of the arc is proportional to the significance of the relationship."
      ],
      "metadata": {
        "id": "48fqeIY5uhRa"
      }
    },
    {
      "cell_type": "markdown",
      "source": [
        "![picture](https://miro.medium.com/v2/resize:fit:1400/format:webp/0*a8FAIkubQVMsyFCf.png)"
      ],
      "metadata": {
        "id": "kBDx0UoLvBVC"
      }
    },
    {
      "cell_type": "markdown",
      "source": [
        "Use Chord diagrams to demonstrate: <br>\n",
        ">Social networks<br>\n",
        "Genomics data<br>\n",
        "Traffic flow data<br>\n",
        "Trade relationships data<br>"
      ],
      "metadata": {
        "id": "48AWRNQ2vwkC"
      }
    },
    {
      "cell_type": "markdown",
      "source": [
        "### Create a Chord Diagram"
      ],
      "metadata": {
        "id": "cLRkqCSEvRMi"
      }
    },
    {
      "cell_type": "markdown",
      "source": [
        "Holoviews & Bokeh libraries to create a beautiful Chord diagram.\n",
        "\n"
      ],
      "metadata": {
        "id": "0yiTIXztwBre"
      }
    },
    {
      "cell_type": "code",
      "execution_count": null,
      "metadata": {
        "id": "zZQhv_qytGdt"
      },
      "outputs": [],
      "source": [
        "import holoviews as hv\n",
        "from holoviews import opts\n",
        "import pandas as pd\n",
        "import numpy as np\n",
        "hv.extension('bokeh')\n",
        "\n",
        "# Sample matrix representing the export volumes between 5 countries\n",
        "export_data = np.array([[0, 50, 30, 20, 10],\n",
        "                        [10, 0, 40, 30, 20],\n",
        "                        [20, 10, 0, 35, 25],\n",
        "                        [30, 20, 10, 0, 40],\n",
        "                        [25, 15, 30, 20, 0]])\n",
        "\n",
        "labels = ['USA', 'China', 'Germany', 'Japan', 'India']\n",
        "\n",
        "# Creating a pandas DataFrame\n",
        "df = pd.DataFrame(export_data, index=labels, columns=labels)\n",
        "df = df.stack().reset_index()\n",
        "\n",
        "df.columns = ['source', 'target', 'value']\n",
        "\n",
        "# Creating a Chord object\n",
        "chord = hv.Chord(df)\n",
        "\n",
        "# Styling the Chord diagram\n",
        "chord.opts(\n",
        "    opts.Chord(\n",
        "        cmap='Category20', edge_cmap='Category20',\n",
        "        labels='source', label_text_font_size='10pt',\n",
        "        edge_color='source', node_color='index',\n",
        "        width=700, height=700\n",
        "    )\n",
        ").select(value=(5, None))\n",
        "\n",
        "# Display the plot\n",
        "chord"
      ]
    },
    {
      "cell_type": "markdown",
      "source": [
        "## Sunburst Chart\n",
        "The Sunburst chart is used to plot and visualise hierarchical data/ tree-like data in a circular layout.<br>\n",
        "\n",
        "The chart is in the form of multiple rings where each represents a level in the hierarchy.<br>\n",
        "\n",
        "The centre of the chart is the root / top level in the hierarchy.<br>\n",
        "\n",
        "Each segment or sector of a ring represents a node at that level of hierarchy.<br>\n",
        "\n",
        "The size of each segment/sector is proportional to its value relative to its siblings."
      ],
      "metadata": {
        "id": "VsFVl_cPvo1M"
      }
    },
    {
      "cell_type": "markdown",
      "source": [
        "Use Sunburst charts to plot hierarchical data for:<br>\n",
        "\n",
        ">File systems<br>\n",
        "Website navigation paths<br>\n",
        "Market segmentation<br>\n",
        "Genomic data<br>"
      ],
      "metadata": {
        "id": "6S_w5NrwwZ7c"
      }
    },
    {
      "cell_type": "code",
      "source": [
        "import plotly.express as px\n",
        "import numpy as np\n",
        "\n",
        "df = px.data.gapminder().query(\"year == 2007\")\n",
        "\n",
        "fig = px.sunburst(df, path=['continent', 'country'],\n",
        "                  values='pop',\n",
        "                  color='lifeExp',\n",
        "                  hover_data=['iso_alpha'],\n",
        "                  color_continuous_scale='RdBu',\n",
        "                  color_continuous_midpoint=np.average(df['lifeExp'], weights=df['pop']))\n",
        "fig.show()"
      ],
      "metadata": {
        "id": "xL4shs09tpfC"
      },
      "execution_count": null,
      "outputs": []
    },
    {
      "cell_type": "markdown",
      "source": [
        "## Hexbin Plot<br>\n",
        "This is a 2D Histogram plot where the bins are hexagons and different colours are used to represent the number of data points in each bin.br>\n",
        "\n",
        "The plot is used to analyze the relationship between two data variables (or Bivariate data).br>\n",
        "\n",
        "It is a great alternative to Scatter plots when plotting large amounts of data points.br>\n",
        "\n",
        "When one has a lot of data points to plot, a Hexbin plot helps in better visualisation as these data points would otherwise overlap and obscure each other in a traditional scatter plot.br>"
      ],
      "metadata": {
        "id": "kdzHALD1w1_z"
      }
    },
    {
      "cell_type": "code",
      "source": [
        "import matplotlib.pyplot as plt\n",
        "import numpy as np\n",
        "\n",
        "# Simulating environmental data\n",
        "aqi = np.random.uniform(0, 300, 10000)\n",
        "hospital_visits = aqi * np.random.uniform(0.5, 1.5, 10000)\n",
        "\n",
        "# Creating the hexbin plot\n",
        "plt.hexbin(aqi, hospital_visits, gridsize=30, cmap='Purples')\n",
        "\n",
        "# Adding a color bar on the right\n",
        "cb = plt.colorbar(label='Count')\n",
        "\n",
        "# Setting labels and title\n",
        "plt.xlabel('Air Quality Index (AQI)')\n",
        "plt.ylabel('Respiratory-related Hospital Visits')\n",
        "plt.title('Environmental Health Impact Analysis')\n",
        "\n",
        "# Show the plot\n",
        "plt.show()"
      ],
      "metadata": {
        "id": "ImyxlmJttvKk"
      },
      "execution_count": null,
      "outputs": []
    },
    {
      "cell_type": "markdown",
      "source": [
        "## Sankey Diagram<br>\n",
        "This diagram represents the movement/ flow of quantities between different stages or parts of a system.<br>\n",
        "\n",
        "A Sanket Diagram consists of Nodes and links between them.<br>\n",
        "\n",
        "The width of each link is proportional to the flow quantity.<br>\n",
        "\n",
        "The diagram also represents the direction of flow.<br>\n",
        "\n",
        "\n"
      ],
      "metadata": {
        "id": "3x4280wOxKxF"
      }
    },
    {
      "cell_type": "markdown",
      "source": [
        "The plot can be used to visualise data such as follows:<br>\n",
        "\n",
        ">Supply chain/ Logistics data<br>\n",
        "Traffic flow data<br>\n",
        "Data flow<br>\n",
        "Energy flow data<br>\n"
      ],
      "metadata": {
        "id": "5eefCkY0xWzt"
      }
    },
    {
      "cell_type": "code",
      "source": [
        "import plotly.graph_objects as go\n",
        "\n",
        "labels = [\"Coal\", \"Solar\", \"Wind\", \"Nuclear\", \"Residential\", \"Industrial\", \"Commercial\"]\n",
        "\n",
        "source = [0, 1, 2, 3, 0, 1, 2, 3]\n",
        "target = [4, 4, 4, 4, 5, 5, 5, 5]\n",
        "value = [25, 10, 40, 20, 30, 15, 25, 35]\n",
        "\n",
        "# Create the Sankey diagram object\n",
        "fig = go.Figure(data=[go.Sankey(\n",
        "    node=dict(\n",
        "        pad=15,\n",
        "        thickness=20,\n",
        "        line=dict(color=\"black\", width=0.5),\n",
        "        label=labels\n",
        "    ),\n",
        "    link=dict(\n",
        "        source=source,\n",
        "        target=target,\n",
        "        value=value\n",
        "    ))])\n",
        "\n",
        "fig.update_layout(title_text=\"Energy Flow in Model City\", font_size=12)\n",
        "fig.show()"
      ],
      "metadata": {
        "id": "8guYNuSXt09w"
      },
      "execution_count": null,
      "outputs": []
    },
    {
      "cell_type": "markdown",
      "source": [
        "## Stream Graph\n",
        "A Stream Graph (also called Theme River) is a form of stacked area graph created around a central axis that results in a flowing shape.<br>\n",
        "\n",
        "Each stream on the graph represents a time series associated with a category and is differently color-coded.<bR>"
      ],
      "metadata": {
        "id": "xvGTJJT13F4-"
      }
    },
    {
      "cell_type": "markdown",
      "source": [
        "The plot can be used to visualise Time series data such as follows:<br>\n",
        "\n",
        ">Popularity trends<br>\n",
        "Financial data<br>\n",
        "Website traffic data<br>\n",
        "Sales/ Marketing data<br>"
      ],
      "metadata": {
        "id": "gwXhqg1p3RFy"
      }
    },
    {
      "cell_type": "code",
      "source": [
        "!pip install vega_datasets altair"
      ],
      "metadata": {
        "id": "qQ0fV6_8t9In"
      },
      "execution_count": null,
      "outputs": []
    },
    {
      "cell_type": "code",
      "source": [
        "import altair as alt\n",
        "from vega_datasets import data\n",
        "\n",
        "source = data.unemployment_across_industries.url\n",
        "\n",
        "alt.Chart(source).mark_area().encode(\n",
        "    alt.X('yearmonth(date):T',\n",
        "        axis=alt.Axis(format='%Y', domain=False, tickSize=0)\n",
        "    ),\n",
        "    alt.Y('sum(count):Q', stack='center', axis=None),\n",
        "    alt.Color('series:N',\n",
        "        scale=alt.Scale(scheme='category20b')\n",
        "    )\n",
        ").interactive()"
      ],
      "metadata": {
        "id": "dhJAoNYet_rt"
      },
      "execution_count": null,
      "outputs": []
    }
  ]
}