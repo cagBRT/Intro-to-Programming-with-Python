{
  "nbformat": 4,
  "nbformat_minor": 0,
  "metadata": {
    "colab": {
      "private_outputs": true,
      "provenance": [],
      "include_colab_link": true
    },
    "kernelspec": {
      "name": "python3",
      "display_name": "Python 3"
    }
  },
  "cells": [
    {
      "cell_type": "markdown",
      "metadata": {
        "id": "view-in-github",
        "colab_type": "text"
      },
      "source": [
        "<a href=\"https://colab.research.google.com/github/cagBRT/Intro-to-Programming-with-Python/blob/master/C3_Intro_To_Python_ES.ipynb\" target=\"_parent\"><img src=\"https://colab.research.google.com/assets/colab-badge.svg\" alt=\"Open In Colab\"/></a>"
      ]
    },
    {
      "cell_type": "code",
      "metadata": {
        "id": "yHKg9HA-Tzq8"
      },
      "source": [
        "# Clone the entire repo.\n",
        "!git clone -l -s https://github.com/cagBRT/Intro-to-Programming-with-Python.git cloned-repo\n",
        "%cd cloned-repo\n",
        "!ls"
      ],
      "execution_count": null,
      "outputs": []
    },
    {
      "cell_type": "code",
      "metadata": {
        "id": "f4n4z-QTT5Sl"
      },
      "source": [
        "from IPython.display import Image\n",
        "def page(num):\n",
        "    return Image(\"c3-content/c3PythonProgramming\"+str(num)+ \".png\" , width=640)"
      ],
      "execution_count": null,
      "outputs": []
    },
    {
      "cell_type": "markdown",
      "metadata": {
        "id": "GEFERGOX1w8Z"
      },
      "source": [
        "# Colecciones de Datos\n",
        "Hay veces en los que queremos almacenar una serie de datos en una sola variable. <br>\n",
        "Por ejemplo: <br>\n",
        "\n",
        "Tenemos 3 estudiantes en un grupo y 2 estudiantes en otro grupo. <br>\n",
        "En algunas ocasiones será más sencillo tratar con ese grupo en una sola variable. <br>\n",
        "group1 = [\"Joe\",\"Susan\",\"Bob\"] <br>\n",
        "group2 = [\"Tommy\",\"Chandler\"]<br>\n",
        "\n",
        "<br>group1 es un arreglo de 3 elementos. <br>\n",
        "group2 es un arreglo de 2 elementos. \n",
        "\n",
        "<br>-Los arreglos pueden hacer nuestro trabajo más sencillo cuando tenemos mucha información que manejar. "
      ]
    },
    {
      "cell_type": "markdown",
      "metadata": {
        "id": "qHImY66tzzxB"
      },
      "source": [
        "# Data Collections (Arrays)\n",
        "\n",
        "En Python existen las listas, que se pueden usar como arreglos.\n",
        "\n"
      ]
    },
    {
      "cell_type": "code",
      "source": [
        "Image(\"c3-content/arraysAndLists.png\" , width=640)"
      ],
      "metadata": {
        "id": "KnllDVm6k0FE"
      },
      "execution_count": null,
      "outputs": []
    },
    {
      "cell_type": "markdown",
      "metadata": {
        "id": "KdPzMt3KPV-O"
      },
      "source": [
        "# Listas/Lists<br>\n",
        "\n",
        "Una lista es una colección de información que es modificable o intercambiable y que también tiene un orden."
      ]
    },
    {
      "cell_type": "code",
      "metadata": {
        "id": "qbmcgPgYUB24"
      },
      "source": [
        "page(1)"
      ],
      "execution_count": null,
      "outputs": []
    },
    {
      "cell_type": "markdown",
      "metadata": {
        "id": "pY15MUFuRJpM"
      },
      "source": [
        "Para poder ver el porque el uso de las listas es mejor en algunos casos, veamos como hacer una actividad de ordenamiento sin usar listas.<br>\n",
        "Escribe el código que ordene las 5 variables de menor a mayor."
      ]
    },
    {
      "cell_type": "code",
      "metadata": {
        "id": "zVo__yj-RinX"
      },
      "source": [
        "# Crea las variables\n",
        "score1 = 96\n",
        "score2 = 88\n",
        "score3 = 97\n",
        "score4 = 99\n",
        "score5 = 76"
      ],
      "execution_count": null,
      "outputs": []
    },
    {
      "cell_type": "code",
      "metadata": {
        "id": "am48qGun6J6Y"
      },
      "source": [
        "# Utilizando condiciones if, escribe un programa para ordernar los valores"
      ],
      "execution_count": null,
      "outputs": []
    },
    {
      "cell_type": "code",
      "metadata": {
        "id": "OG4IJIqQS1cR",
        "cellView": "form"
      },
      "source": [
        "#@title \n",
        "#write code to put the scores in numerical order\n",
        "if score1 > score2:\n",
        "  temp = score1\n",
        "  score1 = score2\n",
        "  score2 = temp\n",
        "\n",
        "if score1 > score3:\n",
        "  temp = score1\n",
        "  score1 = score3\n",
        "  score3 = temp\n",
        "\n",
        "if score1 > score4:\n",
        "  temp = score1\n",
        "  score1 = score4\n",
        "  score4 = temp\n",
        "\n",
        "if score1 > score5:\n",
        "  temp = score1\n",
        "  score1 = score5\n",
        "  score5 = temp\n",
        "\n",
        "#---\n",
        "\n",
        "if score2 > score3:\n",
        "  temp = score2\n",
        "  score2 = score3\n",
        "  score3 = temp\n",
        "\n",
        "if score2 > score4:\n",
        "  temp = score2\n",
        "  score2 = score4\n",
        "  score4 = temp\n",
        "\n",
        "if score2 > score5:\n",
        "  temp = score2\n",
        "  score2 = score5\n",
        "  score5 = temp\n",
        "\n",
        "#---\n",
        "\n",
        "if score3 > score4:\n",
        "  temp = score3\n",
        "  score3 = score4\n",
        "  score4 = temp\n",
        "\n",
        "if score3 > score5:\n",
        "  temp = score3\n",
        "  score3 = score5\n",
        "  score5 = temp\n",
        "\n",
        "#---\n",
        "\n",
        "if score4 > score5:\n",
        "  temp = score4\n",
        "  score4 = score5\n",
        "  score5 = temp\n",
        "\n",
        "#---\n",
        "print(score1)\n",
        "print(score2)\n",
        "print(score3)\n",
        "print(score4)\n",
        "print(score5)"
      ],
      "execution_count": null,
      "outputs": []
    },
    {
      "cell_type": "markdown",
      "metadata": {
        "id": "I9mJoC8phWo1"
      },
      "source": [
        "Ordenar los valores de esta manera requiere mucha codificación. Si se quiere añadir una variable extra como un \"score6\", el programa tendrá que ser modificado para acomodar la nueva variable.<br>\n",
        "Ahora intentemos usar una lista para ordenar las variables."
      ]
    },
    {
      "cell_type": "markdown",
      "metadata": {
        "id": "qbmxt-sXUWiO"
      },
      "source": [
        "# Crea una lista\n",
        "1. De la siguiente manera se puede crear una lista en Python:<br>\n",
        "      list_name = [value, value, value, value,..., value, value]<br>\n",
        "      Por ejemplo: cat_names = [\"Belle\",\"Callie\",\"Bootsie\",\"Spot\"]<br>\n",
        "\n",
        "2. Para ordenar una lista podemos usar la función sort() que incluye Python por defecto<br>\n",
        "      Por ejemplo: cat_names.sort()"
      ]
    },
    {
      "cell_type": "code",
      "metadata": {
        "id": "KKNmg5sgh_Zi"
      },
      "source": [
        "# Crea una lista\n",
        "score = [96,88,97,99,76]\n",
        "print(score)"
      ],
      "execution_count": null,
      "outputs": []
    },
    {
      "cell_type": "markdown",
      "metadata": {
        "id": "E32m-37UizJw"
      },
      "source": [
        "# **Actividad #1**\n",
        "\n",
        "1. Crea una lista llamada *grades* que incluya los siguientes valores: \n",
        "2,43,76,98,10,33,25,37,44,33,100,1,90,23, 27, 11\n",
        "2. Imprima la lista."
      ]
    },
    {
      "cell_type": "code",
      "metadata": {
        "id": "GyxccAnqmhR2"
      },
      "source": [
        "# Crea una lista que incluya lo siguiente: \n",
        "#2, 43, 76, 98, 10, 33, 25, 37, 44, 33, 100, 1, 90 ,23, 27, 11\n",
        "#TODO"
      ],
      "execution_count": null,
      "outputs": []
    },
    {
      "cell_type": "markdown",
      "metadata": {
        "id": "5HtybzdvQKld"
      },
      "source": [
        "# Tomar un elemento de la lista\n",
        "Para poder tomar un solo elemento de la lista se utiliza la siguiente sintaxis:<br>\n",
        "*nombre_de_la_lista[índice]*<br>\n",
        "Por ejemplo: \n",
        "*   averages[0] ... esto toma el **primer** elemento en la lista\n",
        "*   averages[4] . ... esto toma el **quinto** elemento en la lista\n",
        "\n",
        "En Python y en la mayoría de otros lenguajes de programación se empieza a contar desde el 0. Es decir, si queremos el elemento 8 será de la forma siguiente:\n",
        "***averages[7]***; dando a entender que sería de la manera **n-1**.\n",
        "\n",
        "\n",
        "\n"
      ]
    },
    {
      "cell_type": "code",
      "metadata": {
        "id": "azVTDnV-Qzt2"
      },
      "source": [
        "# Crea una lista\n",
        "score = [96,88,97,99,76]\n",
        "print(\"the first element in score is \",score[0])\n",
        "print(\"the second element in score is \",score[1])\n",
        "print(\"the third element in score is \",score[2])\n",
        "print(\"the fourth element in score is \",score[3])\n",
        "print(\"the fifth element in score is \",score[4])"
      ],
      "execution_count": null,
      "outputs": []
    },
    {
      "cell_type": "markdown",
      "metadata": {
        "id": "27GZ9HcCRQkz"
      },
      "source": [
        "# **Actividad #2**\n",
        "\n",
        "1. Crea una lista con el nombre de *grades* que tenga los siguientes valores: \n",
        "2,43,76,98,10,33,25,37,44,33,100,1,90,23, 27, 11\n",
        "2. Imprime la lista.\n",
        "3. Imprime los siguientes elementos de la lista:<br>\n",
        "el primer elemento, el cuarto elemento, el décimo elemento y el último elemento"
      ]
    },
    {
      "cell_type": "code",
      "metadata": {
        "id": "uxHaeIR2Ri-0"
      },
      "source": [
        "# Actividad #2\n",
        "\n",
        "# Crea una lista con el nombre de grades que tenga los siguientes valores: \n",
        "# 2, 43, 76, 98, 10, 33, 25, 37, 44, 33, 100, 1, 90 ,23, 27, 11\n",
        "# Imprime la lista.\n",
        "# Imprime los siguientes elementos de la lista:\n",
        "#el primer elemento, el cuarto elemento, el décimo elemento y el último elemento\n",
        "\n",
        "#TODO"
      ],
      "execution_count": null,
      "outputs": []
    },
    {
      "cell_type": "markdown",
      "metadata": {
        "id": "fSZE4lQA50NM"
      },
      "source": [
        "# Ordenamiento de Listas\n",
        "Como pudimos ver al principio de esta lectura, ordenar listas no es una tarea cualquiera. De hecho, los estudiantes de ciencias computacionales suelen dedicar un tanto de su tiempo en aprender diferentes métodos de ordenamiento por ser una tarea importante y pesada computacionalmente.<br>\n",
        "Usar Python para ordenar una lista es bastante fácil, solo hay que usar la función *sort()* que ya está incluida. <br>\n",
        "Para poder usar la función *sort()* es de la siguiente manera:\n",
        "*nombre_de_la_lista*.**sort()**"
      ]
    },
    {
      "cell_type": "code",
      "metadata": {
        "id": "xG_Uuiuo53vg"
      },
      "source": [
        "# Crea una lista\n",
        "score = [96,88,97,99,76]\n",
        "\n",
        "# Ordernar la lista\n",
        "score.sort()\n",
        "print(score)"
      ],
      "execution_count": null,
      "outputs": []
    },
    {
      "cell_type": "markdown",
      "metadata": {
        "id": "CHQvZT4TmpYg"
      },
      "source": [
        "# **Actividad #3**\n",
        "1. Crea una lista con el nombre de *grades* con los siguientes valores:<br>\n",
        "  23, 54, 87, 56, 99, 87, 32, 9, 29, 76, 75, 45\n",
        "1. Ordena la lista de menor a mayor\n",
        "2. Imprime la lista"
      ]
    },
    {
      "cell_type": "code",
      "metadata": {
        "id": "pDnuhr7_m4GY"
      },
      "source": [
        "# Actividad 3\n",
        "# Ordena la lista\n",
        "# TODO"
      ],
      "execution_count": null,
      "outputs": []
    },
    {
      "cell_type": "markdown",
      "metadata": {
        "id": "DHCasCEvnCsw"
      },
      "source": [
        "Las listas en Python ya tienen funciones listas para usarse. <br>\n",
        "No es necesario memorizar las funciones... ¡para eso tenemos Internet!<br>\n",
        "Visita [este link](https://www.w3schools.com/python/python_ref_list.asp) para ver las funciones disponibles que hay para las listas. "
      ]
    },
    {
      "cell_type": "markdown",
      "metadata": {
        "id": "e5iwsTZ4rjwd"
      },
      "source": [
        "# **Actividad #4**\n",
        "1. Crea una lista que contenga 10 valores flotantes. \n",
        "2. Ordena la lista en orden ascendente. \n",
        "3. Ordena la lista en orden descendente. \n",
        "4. Imprime la lista."
      ]
    },
    {
      "cell_type": "code",
      "metadata": {
        "id": "OpZvIRF5sL90"
      },
      "source": [
        "# Crea una lista de flotantes\n",
        "# Ordena la lista en orden ascendente\n",
        "# Y luego en orden descendente\n",
        "# TODO"
      ],
      "execution_count": null,
      "outputs": []
    },
    {
      "cell_type": "markdown",
      "metadata": {
        "id": "pOX8BkM6sXm6"
      },
      "source": [
        "# **Actividad #5**\n",
        "1. Crea una lista que contenga al menos 10 nombres de Estados. \n",
        "2. Imprime la lista.\n",
        "3. Borra el nombre del Estado que se encuentra en la 5ta posición de la lista. <br>**Recuerda que las listas empiezan a contar desde 0**.\n",
        "4. Imprime la lista.\n",
        "5. Añade \"Hawaii\" a la lista. "
      ]
    },
    {
      "cell_type": "code",
      "metadata": {
        "id": "-fuz4CsQtEoK"
      },
      "source": [
        "\n",
        "# 1. Crea una lista que contenga al menos 10 nombres de Estados. \n",
        "# 2. Imprime la lista.\n",
        "# 3. Borra el nombre del Estado que se encuentra en la 5ta posición de la lista. <br>**Recuerda que las listas empiezan a contar desde 0**.\n",
        "# 4. Imprime la lista.\n",
        "# 5. Añade \"Hawaii\" a la lista. \n",
        "\n",
        "#TODO "
      ],
      "execution_count": null,
      "outputs": []
    },
    {
      "cell_type": "markdown",
      "metadata": {
        "id": "-_crEztc6qgM"
      },
      "source": [
        "# **Actividad #6**\n",
        "1. Crea una lista con 10 valores flotantes. <br>\n",
        "Usa las funciones de las listas que ya incluye Python https://www.tutorialspoint.com/python/python_lists.htm para realizar los siguientes puntos:\n",
        "2. Imprime la lista\n",
        "3. Imprime el número con mayor valor numérico de la lista\n",
        "4. Imprime el número con menor valor numérico de la lista\n",
        "5. Imprime cuantos números hay en total de la lista"
      ]
    },
    {
      "cell_type": "code",
      "metadata": {
        "id": "NLPlnq-wHp4H"
      },
      "source": [
        "# **Actividad #6**\n",
        "# 1. Crea una lista con 10 valores flotantes. <br>\n",
        "# Usa las funciones de las listas que ya incluye Python https://www.tutorialspoint.com/python/python_lists.htm para realizar los siguientes puntos:\n",
        "# 2. Imprime la lista\n",
        "# 3. Imprime el número con mayor valor numérico de la lista\n",
        "# 4. Imprime el número con menor valor numérico de la lista\n",
        "# 5. Imprime cuantos números hay en total de la lista\n",
        "\n",
        "#TODO\n"
      ],
      "execution_count": null,
      "outputs": []
    },
    {
      "cell_type": "markdown",
      "metadata": {
        "id": "I3jyHrr2W2R7"
      },
      "source": [
        "# Preguntas"
      ]
    },
    {
      "cell_type": "code",
      "metadata": {
        "id": "YaC9J8rGTWzW"
      },
      "source": [
        "page(2)"
      ],
      "execution_count": null,
      "outputs": []
    },
    {
      "cell_type": "code",
      "metadata": {
        "id": "MrrJKqAbUEfn"
      },
      "source": [
        "#@title Q1: ¿Cuál es la salida del código? \n",
        "variable_name = \"name\" #@param {type:\"string\"}\n",
        "variable_name = variable_name.lower()\n",
        "if variable_name == \"tim\":\n",
        "  print(\"correct!\")\n",
        "else:\n",
        "  print(\"Try again. Remember List indexes start with 0\")\n"
      ],
      "execution_count": null,
      "outputs": []
    },
    {
      "cell_type": "code",
      "metadata": {
        "id": "cnSLMl2lWQJc"
      },
      "source": [
        "page(3)"
      ],
      "execution_count": null,
      "outputs": []
    },
    {
      "cell_type": "code",
      "metadata": {
        "id": "L6EuckYsWZtg"
      },
      "source": [
        "#@title Q2: ¿Cuál es el resultado del código? \n",
        "\n",
        "pick_me = \"pick one\"  #@param ['pick one','77 is above 50', '77 is above 75', '77 is above 100', '77 is too small to count']\n",
        "if pick_me == \"77 is above 50\":\n",
        "  print(\"correct!\")\n",
        "else:\n",
        "  print(\"Try again, remember the first true 'elif' statement is executed\" )\n"
      ],
      "execution_count": null,
      "outputs": []
    },
    {
      "cell_type": "code",
      "metadata": {
        "id": "i560Bp3vaRRw"
      },
      "source": [
        "page(4)"
      ],
      "execution_count": null,
      "outputs": []
    },
    {
      "cell_type": "code",
      "metadata": {
        "id": "Zj5Eez0_aFu6"
      },
      "source": [
        "#@title Q3: ¿Cuál es la salida del código?\n",
        "pick_me = \"77 is above 25\"  #@param ['77 is above 25', '77 is above 50', '77 is above 75', 'is to large to count']\n",
        "if pick_me == \"77 is above 25\": \n",
        "  print(\"correct!\")\n",
        "else:\n",
        "  print(\"Try again, remember the first true 'elif' statement is executed\" )"
      ],
      "execution_count": null,
      "outputs": []
    },
    {
      "cell_type": "markdown",
      "metadata": {
        "id": "aduvcAS8bG_t"
      },
      "source": [
        "# **Actividad #7**\n",
        "Crea un programa que realice lo siguiente:\n",
        "1. Crea una lista con el nombre de *scores* que contenga lo siguiente:\n",
        "   5, 4, 8, 7, 2, 2, 4, 9, 1, 3, 8, 6, 9, 8\n",
        "2. Checa los valores de los índices 1, 3, 5 y 10. Si los 4 valores son mayor que 2 y menor que 7, imprime \"**PASS**\".\n",
        "3. Si solo 3 valores son mayores que 2 y menores que 7, imprime \"**ALMOST PASS**\".\n",
        "4. Si solo 2 valores son mayores que 2 y menores que 7, imprime \"**ALMOST FAIL**\".\n",
        "5. Si solo 1 valor es mayor que 2 y menor que 7, imprimir \"**FAIL**\"."
      ]
    },
    {
      "cell_type": "code",
      "metadata": {
        "id": "WhwYroMYbGWo"
      },
      "source": [
        "# **Actividad #7**\n",
        "# Crea un programa que realice lo siguiente:\n",
        "# 1. Crea una lista con el nombre de *scores* que contenga lo siguiente:\n",
        "#   5, 4, 8, 7, 2, 2, 4, 9, 1, 3, 8, 6, 9, 8\n",
        "# 2. Checa los valores de los índices 1, 3, 5 y 10. Si los 4 valores son mayor que 2 y menor que 7, imprime \"**PASS**\".\n",
        "# 3. Si solo 3 valores son mayores que 2 y menores que 7, imprime \"**ALMOST PASS**\".\n",
        "# 4. Si solo 2 valores son mayores que 2 y menores que 7, imprime \"**ALMOST FAIL**\".\n",
        "# 5. Si solo 1 valor es mayor que 2 y menor que 7, imprimir \"**FAIL**\".\n",
        "\n",
        "#TODO"
      ],
      "execution_count": null,
      "outputs": []
    },
    {
      "cell_type": "markdown",
      "metadata": {
        "id": "laiImYAAXjX3"
      },
      "source": [
        "# Lista de listas\n",
        "https://www.dataquest.io/blog/python-list-tutorial/\n",
        "\n",
        "Vamos a crear varias listas y experimentemos que podemos hacer con ellas.<br>\n",
        "\n"
      ]
    },
    {
      "cell_type": "code",
      "metadata": {
        "id": "zr3dnd5aXMiL"
      },
      "source": [
        "# Título de la película, semanas pasadas desde el lanzamiento, ganancias, rating\n",
        "row_1 = ['Star Wars: Rise of Skywalker',3,34.5, 54]\n",
        "row_2 = ['Jumanji: The Next Level', 4, 26.2, 70 ]\n",
        "row_3 = ['Little Women', 3, 26.2, 95]\n",
        "row_4 = ['The Grudge', 1, 11.4, 16]\n",
        "\n",
        "# Imprime cuantos elementos hay en la variable row_1\n",
        "print(\"Row length \",len(row_1))\n",
        "\n",
        "# Imprime el nombre de las películas\n",
        "print(\"Row 1 Movie Name \", row_1[0])\n",
        "print(\"Row 2 Movie Name \",row_2[0])\n",
        "print(\"Row 3 Movie Name \",row_3[0])\n",
        "print(\"Row 4 Movie Name \",row_4[0])\n",
        "\n",
        "# Imprime el rating promedio de las 4 películas\n",
        "average = (row_1[3] + row_2[3] + row_3[3] + row_4[3] )/4\n",
        "print(\"rotten tomatoes average = \", average)\n",
        "\n",
        "# Crea una lista de listas\n",
        "data_set = [row_1, row_2, row_3, row_4]\n",
        "\n",
        "#p Imprime el dataset\n",
        "print(\"The data set \",data_set)\n",
        "# Nota como hay dobles corchetes en la salida denotando listas dentro de una lista\n",
        "\n",
        "# Imprime el rating de una película\n",
        "print(row_3[3], \"is the rotten tomatoes rating for \", row_3[0])"
      ],
      "execution_count": null,
      "outputs": []
    },
    {
      "cell_type": "markdown",
      "metadata": {
        "id": "SnmkC0mQaQRK"
      },
      "source": [
        "# **Actividad #8**\n",
        "Crea una lista de listas (llamado *dataset*) con la información siguiente: \n",
        "<br>\n",
        "  Nota: T-Meter es el rating en rotten tomatoes\n",
        "<br>\n",
        "<br>\n",
        "Nombre <br>\n",
        "T-Meter <br>\n",
        "Ganancias (Weekend Gross) <br>\n",
        "Rating\n",
        "<br><br>\n",
        "Despues imprime el promedio de las ganancias de todas las películas."
      ]
    },
    {
      "cell_type": "code",
      "metadata": {
        "id": "xXwmWqP2bHmW"
      },
      "source": [
        "page(5)"
      ],
      "execution_count": null,
      "outputs": []
    },
    {
      "cell_type": "code",
      "metadata": {
        "id": "68JjjAlybW-2"
      },
      "source": [
        "#TODO"
      ],
      "execution_count": null,
      "outputs": []
    },
    {
      "cell_type": "markdown",
      "metadata": {
        "id": "AHBcEGqvoKzh"
      },
      "source": [
        "¡Felicidades! Haz terminado tu otro módulo de Python, ¡sigue continuando con el siguiente módulo para que seas todo un experto!\n",
        "\n",
        "\n",
        "Instrucciones para acceder a los notebooks:<br>\n",
        "En una ventana de Chrome o Firefox, en la barra de búsqueda escribre: **Google Colab**<br>\n",
        "En el pop-up naranja, selecciona el apartado: **Github**\n",
        "\n",
        "*Si el pop-up naranja no aparece...*<br>\n",
        "En la barra de herramientas del Notebook, selecciona Archivo > Abrir Notebook; el pop-up naranja ya debería aparecer en pantalla.\n",
        "\n",
        "Selecciona el apartado de GITHUB<br>\n",
        "\n",
        "En la barra de búsqueda escribre: **cagBRT**. En los resultados aparecerá el repositorio de Github<br>\n",
        "\n",
        "En el menú drop-down selecciona: cagBRT/**Intro-To-Programming-with-Python**<br>\n",
        "\n",
        "Y luego selecciona: **C4 Intro to Python.ipynb**<br> "
      ]
    }
  ]
}