{
  "nbformat": 4,
  "nbformat_minor": 0,
  "metadata": {
    "colab": {
      "private_outputs": true,
      "provenance": [],
      "authorship_tag": "ABX9TyMyDj6ZEmlQFj3c+5lWST6l",
      "include_colab_link": true
    },
    "kernelspec": {
      "name": "python3",
      "display_name": "Python 3"
    },
    "language_info": {
      "name": "python"
    }
  },
  "cells": [
    {
      "cell_type": "markdown",
      "metadata": {
        "id": "view-in-github",
        "colab_type": "text"
      },
      "source": [
        "<a href=\"https://colab.research.google.com/github/cagBRT/Intro-to-Programming-with-Python/blob/master/I4_Map%2CFilter%2CReduce.ipynb\" target=\"_parent\"><img src=\"https://colab.research.google.com/assets/colab-badge.svg\" alt=\"Open In Colab\"/></a>"
      ]
    },
    {
      "cell_type": "markdown",
      "source": [
        "# Map, Filter, Reduce\n",
        "\n",
        "They allow the programmer to write simpler, shorter code, without neccessarily needing to bother about intricacies like loops and branching.<br>\n",
        "\n",
        "These three functions allow you to apply a function across a number of iterables, in one fell swoop. map and filter come built-in with Python (in the __builtins__ module) and require no importing. reduce, however, needs to be imported as it resides in the functools module\n",
        "\n"
      ],
      "metadata": {
        "id": "wn7m9UOC08HB"
      }
    },
    {
      "cell_type": "markdown",
      "source": [
        "## Map<br>\n",
        "\n",
        "The map() function in python has the following syntax:\n",
        "\n",
        ">map(func, *iterables)<br>\n",
        "\n",
        "func is the function on which each element in which the iterables (as many as they are) would be applied<br>\n",
        "\n",
        "The map() function returns a map object which is a generator object\n",
        "\n"
      ],
      "metadata": {
        "id": "HFbk2gy31jbK"
      }
    },
    {
      "cell_type": "markdown",
      "source": [
        "**Example 1**"
      ],
      "metadata": {
        "id": "EGNncta16xmh"
      }
    },
    {
      "cell_type": "code",
      "execution_count": null,
      "metadata": {
        "id": "hBwWwn6u07TJ"
      },
      "outputs": [],
      "source": [
        "my_pets = ['kali', 'momo', 'bailey', 'kinsey']\n",
        "uppered_pets = []\n",
        "\n",
        "for pet in my_pets:\n",
        "    pet_ = pet.capitalize()\n",
        "    uppered_pets.append(pet_)\n",
        "\n",
        "print(uppered_pets)"
      ]
    },
    {
      "cell_type": "markdown",
      "source": [
        "In the defined map() syntax below:<br>\n",
        "\n",
        "func in this case is str.upper<br>\n",
        "iterables is the my_pets list -- just one iterable. <br>\n",
        "\n",
        "Also note that we did not call the str.upper function (doing this: str.upper()), as the map function does that for us on each element in the my_pets list."
      ],
      "metadata": {
        "id": "Vqy2WUGk7hMb"
      }
    },
    {
      "cell_type": "code",
      "source": [
        "my_pets = ['kali', 'momo', 'bailey', 'kinsey']\n",
        "uppered_pets = list(map(str.capitalize, my_pets))\n",
        "\n",
        "print(uppered_pets)"
      ],
      "metadata": {
        "id": "bGPFi-av6tVG"
      },
      "execution_count": null,
      "outputs": []
    },
    {
      "cell_type": "markdown",
      "source": [
        "**Assignment 1:**<br>\n",
        "Change the code above to make all the letters in my_pets to be uppercase"
      ],
      "metadata": {
        "id": "eHEfOEyA7ECZ"
      }
    },
    {
      "cell_type": "code",
      "source": [
        "#Assignment 1"
      ],
      "metadata": {
        "id": "FdN4hCgM7XbY"
      },
      "execution_count": null,
      "outputs": []
    },
    {
      "cell_type": "markdown",
      "source": [
        "str.upper function requires only one argument by definition and so we passed just one iterable to it. <br>\n",
        "\n",
        "So, if the function you're passing requires two, or three, or n arguments, then you need to pass in two, three or n iterables to it"
      ],
      "metadata": {
        "id": "E7YPLF-n78DG"
      }
    },
    {
      "cell_type": "markdown",
      "source": [
        "The round() built-in function that takes two arguments --\n",
        "- the number to round up\n",
        "- the number of decimal places to round the number up to. <br>\n",
        "\n",
        "Since the function requires two arguments, we need to pass in two iterables."
      ],
      "metadata": {
        "id": "294EB3PO8MSg"
      }
    },
    {
      "cell_type": "markdown",
      "source": [
        "**The round() function** returns a floating point number that is a rounded version of the specified number, with the specified number of decimals.<br>\n",
        "\n",
        "The default number of decimals is 0, meaning that the function will return the nearest integer."
      ],
      "metadata": {
        "id": "iY79rd_u-RJB"
      }
    },
    {
      "cell_type": "code",
      "source": [
        "output = round(3.56773856,1)\n",
        "print(output)\n",
        "output = round(5.576688790,2)\n",
        "print(output)"
      ],
      "metadata": {
        "id": "FuEZYA2Q8WPx"
      },
      "execution_count": null,
      "outputs": []
    },
    {
      "cell_type": "code",
      "source": [
        "circle_areas = [3.56773856, 5.576688790, 4.009145678, 56.242414356, 9.013442345, 32.000136345]\n",
        "\n",
        "result = list(map(round, circle_areas, range(1, 7)))\n",
        "\n",
        "print(result)"
      ],
      "metadata": {
        "id": "ffhlXBuW8GKz"
      },
      "execution_count": null,
      "outputs": []
    },
    {
      "cell_type": "markdown",
      "source": [
        "**Assignment 2**<br>\n",
        "In the above code, change the range values<br>\n",
        "What is printed out?"
      ],
      "metadata": {
        "id": "rSiN7MWNCsWL"
      }
    },
    {
      "cell_type": "markdown",
      "source": [
        "**Assignment 3:**<br>\n",
        "\n",
        "Split each string into words. <br>\n",
        "Create a list of all the lists of words<br>\n",
        "\n",
        "https://www.w3schools.com/python/python_ref_string.asp"
      ],
      "metadata": {
        "id": "D6QweubN-mjh"
      }
    },
    {
      "cell_type": "code",
      "source": [
        "#Assignment 3\n",
        "sentences=[\"Help, I need somebody\",\n",
        "           \"She's climbing the stairway to heaven\",\n",
        "           \"She's addicted to love\",\n",
        "           \"London's calling\",\n",
        "           \"Rock around the clock tonight\",\n",
        "           \"Is this the real life\",\n",
        "           \"Caught in a bad romance\",\n",
        "           \"As I walk through the valley of the shadow of death\",\n",
        "           \"I saw a werewolf with a Chinese menu in his hand\",\n",
        "           \"Old man, look at my life / I'm a lot like you were\",\n",
        "           \"Hello darkness, my old friend\"]\n",
        "\n"
      ],
      "metadata": {
        "id": "Lp4H39v7-qam"
      },
      "execution_count": null,
      "outputs": []
    },
    {
      "cell_type": "code",
      "source": [
        "# @title\n",
        "sentences[0].split()\n",
        "result=list(map(str.split,sentences))\n",
        "print(result)"
      ],
      "metadata": {
        "cellView": "form",
        "id": "BjNZL9dgCKS1"
      },
      "execution_count": null,
      "outputs": []
    },
    {
      "cell_type": "markdown",
      "source": [
        "**Two lists into a list tuples**"
      ],
      "metadata": {
        "id": "U32Fqn4NGQaF"
      }
    },
    {
      "cell_type": "code",
      "source": [
        "my_strings = ['a', 'b', 'c', 'd', 'e']\n",
        "my_numbers = [1, 2, 3, 4, 5]\n",
        "\n",
        "results = list(map(lambda x, y: (x, y), my_strings, my_numbers))\n",
        "print(results)"
      ],
      "metadata": {
        "id": "qqLuSu4AI9Sv"
      },
      "execution_count": null,
      "outputs": []
    },
    {
      "cell_type": "markdown",
      "source": [
        "**Assignment #4**<br>\n",
        "What happens with different length lists"
      ],
      "metadata": {
        "id": "Sm8Y2w-DM9TI"
      }
    },
    {
      "cell_type": "code",
      "source": [
        "#Assignment #4"
      ],
      "metadata": {
        "id": "RsXjqw7sNLLh"
      },
      "execution_count": null,
      "outputs": []
    },
    {
      "cell_type": "markdown",
      "source": [
        "# Filter"
      ],
      "metadata": {
        "id": "fYSUehZ7N2fI"
      }
    },
    {
      "cell_type": "markdown",
      "source": [
        "1. Unlike map(), only one iterable is required.<br>\n",
        "2. The func argument is required to return a boolean type. If it doesn't, filter simply returns the iterable passed to it. Also, as only one iterable is required, it's implicit that func must only take one argument.<br>\n",
        "3. filter passes each element in the iterable through func and returns only the ones that evaluate to true. I mean, it's right there in the name -- a \"filter\".\n"
      ],
      "metadata": {
        "id": "7UEUI32HN4kv"
      }
    },
    {
      "cell_type": "code",
      "source": [
        "scores = [66, 90, 68, 59, 76, 60, 88, 74, 81, 65]\n",
        "\n",
        "def is_A_student(score):\n",
        "    return score > 75\n",
        "\n",
        "over_75 = list(filter(is_A_student, scores))\n",
        "\n",
        "print(over_75)"
      ],
      "metadata": {
        "id": "UyiTP_4eORKk"
      },
      "execution_count": null,
      "outputs": []
    },
    {
      "cell_type": "code",
      "source": [
        "dromes = (\"demigod\", \"rewire\", \"madam\", \"freer\", \"anutforajaroftuna\", \"kiosk\")\n",
        "\n",
        "palindromes = list(filter(lambda word: word == word[::-1], dromes))\n",
        "\n",
        "print(palindromes)"
      ],
      "metadata": {
        "id": "yeaxV3tVOmDN"
      },
      "execution_count": null,
      "outputs": []
    },
    {
      "cell_type": "markdown",
      "source": [
        "# Reduce"
      ],
      "metadata": {
        "id": "p6XiQ8_IOtdt"
      }
    },
    {
      "cell_type": "markdown",
      "source": [
        "reduce applies a function of two arguments cumulatively to the elements of an iterable, optionally starting with an initial argument. It has the following syntax:<br>\n",
        "\n",
        "reduce(func, iterable[, initial])<br>\n",
        "\n",
        "Where func is the function on which each element in the iterable gets cumulatively applied to, and initial is the optional value that gets placed before the elements of the iterable in the calculation, and serves as a default when the iterable is empty. The following should be noted about reduce(): 1. func requires two arguments, the first of which is the first element in iterable (if initial is not supplied) and the second element in iterable. If initial is supplied, then it becomes the first argument to func and the first element in iterable becomes the second element. 2. reduce \"reduces\" (I know, forgive me) iterable into a single value.<br>\n",
        "\n",
        "As usual, let's see some examples.<br>\n",
        "\n",
        "Let's create our own version of Python's built-in sum() function. The sum() function returns the sum of all the items in the iterable passed to it.\n",
        "\n"
      ],
      "metadata": {
        "id": "q6gYzKy_Ozsc"
      }
    },
    {
      "cell_type": "code",
      "source": [
        "from functools import reduce\n",
        "\n",
        "numbers = [3, 4, 6, 9, 34, 12]\n",
        "\n",
        "def custom_sum(first, second):\n",
        "    return first + second\n",
        "\n",
        "result = reduce(custom_sum, numbers)\n",
        "print(result)"
      ],
      "metadata": {
        "id": "dlFBf1GPPAFy"
      },
      "execution_count": null,
      "outputs": []
    },
    {
      "cell_type": "code",
      "source": [
        "from functools import reduce\n",
        "\n",
        "numbers = [3, 4, 6, 9, 34, 12]\n",
        "\n",
        "def custom_sum(first, second):\n",
        "    return first + second\n",
        "\n",
        "result = reduce(custom_sum, numbers, 10) #using an initial number\n",
        "print(result)"
      ],
      "metadata": {
        "id": "EQ0fl6uMTZiJ"
      },
      "execution_count": null,
      "outputs": []
    },
    {
      "cell_type": "markdown",
      "source": [
        "**Assignment #5**<br>\n",
        "Use map, filter, and reduce to debug the broken code."
      ],
      "metadata": {
        "id": "uG_PmOPLP1Eg"
      }
    },
    {
      "cell_type": "code",
      "source": [
        "from functools import reduce\n",
        "\n",
        "# Use map to print the square of each numbers rounded\n",
        "# to three decimal places\n",
        "my_floats = [4.35, 6.09, 3.25, 9.77, 2.16, 8.88, 4.59]\n",
        "\n",
        "# Use filter to print only the names that are less than\n",
        "# or equal to seven letters\n",
        "my_names = [\"olumide\", \"akinremi\", \"josiah\", \"temidayo\", \"omoseun\"]\n",
        "\n",
        "# Use reduce to print the product of these numbers\n",
        "my_numbers = [4, 6, 9, 23, 5]\n",
        "\n",
        "# Fix all three respectively.\n",
        "map_result = list(map(lambda x: x, my_floats))\n",
        "filter_result = list(filter(lambda name: name, my_names, my_names))\n",
        "reduce_result = reduce(lambda num1, num2: num1 * num2, my_numbers, 0)\n",
        "\n",
        "print(map_result)\n",
        "print(filter_result)\n",
        "print(reduce_result)"
      ],
      "metadata": {
        "id": "k2mNuk6MPt6p"
      },
      "execution_count": null,
      "outputs": []
    },
    {
      "cell_type": "code",
      "source": [
        "# @title\n",
        "#### Map\n",
        "from functools import reduce\n",
        "\n",
        "my_floats = [4.35, 6.09, 3.25, 9.77, 2.16, 8.88, 4.59]\n",
        "my_names = [\"olumide\", \"akinremi\", \"josiah\", \"temidayo\", \"omoseun\"]\n",
        "my_numbers = [4, 6, 9, 23, 5]\n",
        "\n",
        "map_result = list(map(lambda x: round(x ** 2, 3), my_floats))\n",
        "filter_result = list(filter(lambda name: len(name) <= 7, my_names))\n",
        "reduce_result = reduce(lambda num1, num2: num1 * num2, my_numbers)\n",
        "\n",
        "print(map_result)\n",
        "print(filter_result)\n",
        "print(reduce_result)"
      ],
      "metadata": {
        "cellView": "form",
        "id": "M3tWMZb0QDqO"
      },
      "execution_count": null,
      "outputs": []
    },
    {
      "cell_type": "markdown",
      "source": [
        "**Assignment 6**<br>\n",
        "1. Sort randomlist in ascending order\n",
        "2. Then add 10 to each value\n",
        "3. Then put the odd values in one list and the even values in another list"
      ],
      "metadata": {
        "id": "EwqtuNoHQ05Z"
      }
    },
    {
      "cell_type": "code",
      "source": [
        "#assignment 6\n",
        "import random\n",
        "randomlist = random.sample(range(10, 3000), 500)\n",
        "print(randomlist)"
      ],
      "metadata": {
        "id": "2PEJnuIzRn0I"
      },
      "execution_count": null,
      "outputs": []
    },
    {
      "cell_type": "code",
      "source": [
        "# @title Homework hint\n",
        "# result contains odd numbers of the list\n",
        "seq = [0, 1, 2, 3, 5, 8, 13]\n",
        "result = filter(lambda x: x % 2 != 0, seq)\n",
        "print(list(result))\n",
        "\n",
        "# result contains even numbers of the list\n",
        "result = filter(lambda x: x % 2 == 0, seq)\n",
        "print(list(result))"
      ],
      "metadata": {
        "cellView": "form",
        "id": "QqtrA5ChSf2H"
      },
      "execution_count": null,
      "outputs": []
    }
  ]
}