{
  "nbformat": 4,
  "nbformat_minor": 0,
  "metadata": {
    "colab": {
      "private_outputs": true,
      "provenance": [],
      "authorship_tag": "ABX9TyNuj887X2bcd6ICIZb4rVXC",
      "include_colab_link": true
    },
    "kernelspec": {
      "name": "python3",
      "display_name": "Python 3"
    },
    "language_info": {
      "name": "python"
    }
  },
  "cells": [
    {
      "cell_type": "markdown",
      "metadata": {
        "id": "view-in-github",
        "colab_type": "text"
      },
      "source": [
        "<a href=\"https://colab.research.google.com/github/cagBRT/Intro-to-Programming-with-Python/blob/master/I4_Map%2CFilter%2CReduce.ipynb\" target=\"_parent\"><img src=\"https://colab.research.google.com/assets/colab-badge.svg\" alt=\"Open In Colab\"/></a>"
      ]
    },
    {
      "cell_type": "markdown",
      "source": [
        "# Map, Filter, Reduce\n",
        "\n",
        "They allow the programmer to write simpler, shorter code, without neccessarily needing to bother about intricacies like loops and branching.<br>\n",
        "\n",
        "These three functions allow you to apply a function across a number of iterables, in one fell swoop. map and filter come built-in with Python (in the __builtins__ module) and require no importing. reduce, however, needs to be imported as it resides in the functools module\n",
        "\n"
      ],
      "metadata": {
        "id": "wn7m9UOC08HB"
      }
    },
    {
      "cell_type": "markdown",
      "source": [
        "## Map<br>\n",
        "\n",
        "The map() function in python has the following syntax:\n",
        "\n",
        ">map(func, *iterables)<br>\n",
        "\n",
        "func is the function on which each element in which the iterables (as many as they are) would be applied<br>\n",
        "\n",
        "The map() function returns a map object which is a generator object\n",
        "\n"
      ],
      "metadata": {
        "id": "HFbk2gy31jbK"
      }
    },
    {
      "cell_type": "markdown",
      "source": [
        "**Example 1**"
      ],
      "metadata": {
        "id": "EGNncta16xmh"
      }
    },
    {
      "cell_type": "code",
      "execution_count": null,
      "metadata": {
        "id": "hBwWwn6u07TJ"
      },
      "outputs": [],
      "source": [
        "my_pets = ['kali', 'momo', 'bailey', 'kinsey']\n",
        "uppered_pets = []\n",
        "\n",
        "for pet in my_pets:\n",
        "    pet_ = pet.capitalize()\n",
        "    uppered_pets.append(pet_)\n",
        "\n",
        "print(uppered_pets)"
      ]
    },
    {
      "cell_type": "markdown",
      "source": [
        "In the defined map() syntax below:<br>\n",
        "\n",
        "func in this case is str.upper<br>\n",
        "iterables is the my_pets list -- just one iterable. <br>\n",
        "\n",
        "Also note that we did not call the str.upper function (doing this: str.upper()), as the map function does that for us on each element in the my_pets list."
      ],
      "metadata": {
        "id": "Vqy2WUGk7hMb"
      }
    },
    {
      "cell_type": "code",
      "source": [
        "my_pets = ['kali', 'momo', 'bailey', 'kinsey']\n",
        "uppered_pets = list(map(str.capitalize, my_pets))\n",
        "\n",
        "print(uppered_pets)"
      ],
      "metadata": {
        "id": "bGPFi-av6tVG"
      },
      "execution_count": null,
      "outputs": []
    },
    {
      "cell_type": "markdown",
      "source": [
        "**Assignment 1:**<br>\n",
        "Change the code above to make all the letters in my_pets to be uppercase"
      ],
      "metadata": {
        "id": "eHEfOEyA7ECZ"
      }
    },
    {
      "cell_type": "code",
      "source": [
        "#Assignment 1"
      ],
      "metadata": {
        "id": "FdN4hCgM7XbY"
      },
      "execution_count": null,
      "outputs": []
    },
    {
      "cell_type": "markdown",
      "source": [
        "str.upper function requires only one argument by definition and so we passed just one iterable to it. <br>\n",
        "\n",
        "So, if the function you're passing requires two, or three, or n arguments, then you need to pass in two, three or n iterables to it"
      ],
      "metadata": {
        "id": "E7YPLF-n78DG"
      }
    },
    {
      "cell_type": "markdown",
      "source": [
        "The round() built-in function that takes two arguments --\n",
        "- the number to round up\n",
        "- the number of decimal places to round the number up to. <br>\n",
        "\n",
        "Since the function requires two arguments, we need to pass in two iterables."
      ],
      "metadata": {
        "id": "294EB3PO8MSg"
      }
    },
    {
      "cell_type": "markdown",
      "source": [
        "**The round() function** returns a floating point number that is a rounded version of the specified number, with the specified number of decimals.<br>\n",
        "\n",
        "The default number of decimals is 0, meaning that the function will return the nearest integer."
      ],
      "metadata": {
        "id": "iY79rd_u-RJB"
      }
    },
    {
      "cell_type": "code",
      "source": [
        "output = round(3.56773856,1)\n",
        "print(output)\n",
        "output = round(5.576688790,2)\n",
        "print(output)"
      ],
      "metadata": {
        "id": "FuEZYA2Q8WPx"
      },
      "execution_count": null,
      "outputs": []
    },
    {
      "cell_type": "code",
      "source": [
        "circle_areas = [3.56773856, 5.576688790, 4.009145678, 56.242414356, 9.013442345, 32.000136345]\n",
        "\n",
        "result = list(map(round, circle_areas, range(1, 7)))\n",
        "\n",
        "print(result)"
      ],
      "metadata": {
        "id": "ffhlXBuW8GKz"
      },
      "execution_count": null,
      "outputs": []
    },
    {
      "cell_type": "markdown",
      "source": [
        "**Assignment 2**<br>\n",
        "In the above code, change the range values<br>\n",
        "What is printed out?"
      ],
      "metadata": {
        "id": "rSiN7MWNCsWL"
      }
    },
    {
      "cell_type": "markdown",
      "source": [
        "**Assignment 3:**<br>\n",
        "\n",
        "Split each string into words. <br>\n",
        "Create a list of all the lists of words<br>\n",
        "\n",
        "https://www.w3schools.com/python/python_ref_string.asp"
      ],
      "metadata": {
        "id": "D6QweubN-mjh"
      }
    },
    {
      "cell_type": "code",
      "source": [
        "sentences=[\"Help, I need somebody\",\n",
        "           \"She's climbing the stairway to heaven\",\n",
        "           \"She's addicted to love\",\n",
        "           \"London's calling\",\n",
        "           \"Rock around the clock tonight\",\n",
        "           \"Is this the real life\",\n",
        "           \"Caught in a bad romance\",\n",
        "           \"As I walk through the valley of the shadow of death\",\n",
        "           \"I saw a werewolf with a Chinese menu in his hand\",\n",
        "           \"Old man, look at my life / I'm a lot like you were\",\n",
        "           \"Hello darkness, my old friend\"]\n",
        "\n"
      ],
      "metadata": {
        "id": "Lp4H39v7-qam"
      },
      "execution_count": null,
      "outputs": []
    },
    {
      "cell_type": "code",
      "source": [
        "# @title\n",
        "sentences[0].split()\n",
        "result=list(map(str.split,sentences))\n",
        "print(result)"
      ],
      "metadata": {
        "cellView": "form",
        "id": "BjNZL9dgCKS1"
      },
      "execution_count": null,
      "outputs": []
    }
  ]
}