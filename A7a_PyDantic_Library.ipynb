{
  "nbformat": 4,
  "nbformat_minor": 0,
  "metadata": {
    "colab": {
      "private_outputs": true,
      "provenance": [],
      "authorship_tag": "ABX9TyMyUeZRx1ylKl9TkKLtJmLR",
      "include_colab_link": true
    },
    "kernelspec": {
      "name": "python3",
      "display_name": "Python 3"
    },
    "language_info": {
      "name": "python"
    }
  },
  "cells": [
    {
      "cell_type": "markdown",
      "metadata": {
        "id": "view-in-github",
        "colab_type": "text"
      },
      "source": [
        "<a href=\"https://colab.research.google.com/github/cagBRT/Intro-to-Programming-with-Python/blob/master/A7a_PyDantic_Library.ipynb\" target=\"_parent\"><img src=\"https://colab.research.google.com/assets/colab-badge.svg\" alt=\"Open In Colab\"/></a>"
      ]
    },
    {
      "cell_type": "markdown",
      "source": [
        "**Creating a Python Class**"
      ],
      "metadata": {
        "id": "P5n6ag_RHJpM"
      }
    },
    {
      "cell_type": "code",
      "source": [
        "#creating a class called patient\n",
        "class Patient:\n",
        "  def __init__(self, name, pet_name,phone,payment_method):\n",
        "    self.name=name\n",
        "    self.pet_name=pet_name\n",
        "    self.phone=phone\n",
        "    self.payment_method=payment_method\n",
        "\n",
        "  def __repr__(self):\n",
        "    return (\"employee (name={}, pet_name={}, phone={}, payment_method={} )\"\n",
        "            .format(self.name, self.pet_name, self.phone, self.payment_method))\n",
        "\n",
        "  def __eq__(self, check):\n",
        "    return ((self.name, self.pet_name, self.phone, self.payment_method) ==\n",
        "           ((check.name, check.pet_name, check.phone, check.payment_method)))"
      ],
      "metadata": {
        "id": "h73q6MkHFo44"
      },
      "execution_count": null,
      "outputs": []
    },
    {
      "cell_type": "code",
      "source": [
        "p1=Patient(\"Sam\",\"Spot\",\"408-555-4321\",\"Visa\")\n",
        "p2=Patient(\"Toby\",\"Rover\",\"408-434-4321\",\"Check\")\n",
        "p3=Patient(\"Carl\",\"Lassie\",\"408-666-4321\",\"PayPal\")\n",
        "\n",
        "print(p1)\n",
        "print(p1==p2)"
      ],
      "metadata": {
        "id": "gP3CDDmQFrAT"
      },
      "execution_count": null,
      "outputs": []
    },
    {
      "cell_type": "markdown",
      "source": [
        "**Creating a dataclass**"
      ],
      "metadata": {
        "id": "TM4yufHZHNbI"
      }
    },
    {
      "cell_type": "code",
      "source": [
        "from dataclasses import dataclass\n",
        "@dataclass\n",
        "class Patient1:\n",
        "  name: str\n",
        "  pet_name: str\n",
        "  phone:str\n",
        "  payment_method:str"
      ],
      "metadata": {
        "id": "b_1GAd1JFuzC"
      },
      "execution_count": null,
      "outputs": []
    },
    {
      "cell_type": "code",
      "source": [
        "p1=Patient1(\"Sam\",\"Spot\",\"408-555-4321\",\"Visa\")\n",
        "p2=Patient1(\"Toby\",\"Rover\",\"408-434-4321\",\"Check\")\n",
        "p3=Patient1(\"Carl\",\"Lassie\",\"408-666-4321\",\"PayPal\")\n",
        "\n",
        "print(p1)\n",
        "print(p1==p2)"
      ],
      "metadata": {
        "id": "vKugliXeF0Bt"
      },
      "execution_count": null,
      "outputs": []
    },
    {
      "cell_type": "markdown",
      "source": [
        "**Creating a BaseModel from PyDantic**"
      ],
      "metadata": {
        "id": "jRnc-WreHP2o"
      }
    },
    {
      "cell_type": "code",
      "execution_count": null,
      "metadata": {
        "id": "LQzqTV84FNa8"
      },
      "outputs": [],
      "source": [
        "from pydantic import BaseModel, ValidationError\n",
        "\n",
        "class Customer(BaseModel):\n",
        "    name: str\n",
        "    credit_limit: float\n",
        "    number_cards: int\n",
        "\n",
        "# Creating a valid customer instance\n",
        "valid_customer = Customer(name=\"Valid Customer\", credit_limit=1000.2, number_cards=2)\n",
        "print(valid_customer)\n",
        "\n",
        "# Attempting to create an invalid customer instance and catching the error\n",
        "try:\n",
        "    invalid_customer = Customer(name=\"Should be invalid, but..\", credit_limit=1000.2, number_cards=\"a\")\n",
        "except ValidationError as e:\n",
        "    print(\"Validation Error:\", e)"
      ]
    }
  ]
}