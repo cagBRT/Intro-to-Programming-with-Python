{
  "nbformat": 4,
  "nbformat_minor": 0,
  "metadata": {
    "colab": {
      "private_outputs": true,
      "provenance": [],
      "authorship_tag": "ABX9TyOyDzkg8JuqfH6GYfWZTorm",
      "include_colab_link": true
    },
    "kernelspec": {
      "name": "python3",
      "display_name": "Python 3"
    },
    "language_info": {
      "name": "python"
    }
  },
  "cells": [
    {
      "cell_type": "markdown",
      "metadata": {
        "id": "view-in-github",
        "colab_type": "text"
      },
      "source": [
        "<a href=\"https://colab.research.google.com/github/cagBRT/Intro-to-Programming-with-Python/blob/master/A7a_PyDantic_Library.ipynb\" target=\"_parent\"><img src=\"https://colab.research.google.com/assets/colab-badge.svg\" alt=\"Open In Colab\"/></a>"
      ]
    },
    {
      "cell_type": "markdown",
      "source": [
        "## PyDantic\n",
        "Pydantic is the most widely used data validation library for Python.\n",
        "\n",
        "Fast and extensible, Pydantic plays nicely with your linters/IDE/brain. Define how data should be in pure, canonical Python 3.8+; validate it with Pydantic."
      ],
      "metadata": {
        "id": "2mRpHmZQN-7G"
      }
    },
    {
      "cell_type": "code",
      "source": [
        "#Pydantic Example\n",
        "\n",
        "from datetime import datetime\n",
        "from typing import Tuple\n",
        "\n",
        "from pydantic import BaseModel\n",
        "\n",
        "\n",
        "class Delivery(BaseModel):\n",
        "    timestamp: datetime\n",
        "    dimensions: Tuple[int, int]"
      ],
      "metadata": {
        "id": "uqQ4D3i4OIW1"
      },
      "execution_count": null,
      "outputs": []
    },
    {
      "cell_type": "code",
      "source": [
        "m = Delivery(timestamp='2020-01-02T03:04:05Z', dimensions=['10', '20'])\n",
        "print(m)\n",
        "print(repr(m.timestamp))\n",
        "print(m.dimensions)"
      ],
      "metadata": {
        "id": "F1oyyhljOLXE"
      },
      "execution_count": null,
      "outputs": []
    },
    {
      "cell_type": "code",
      "source": [
        "from datetime import datetime\n",
        "\n",
        "from pydantic import BaseModel, PositiveInt\n",
        "\n",
        "#id is of type int; the annotation-only declaration tells Pydantic that this field is required.\n",
        "#Strings, bytes, or floats will be coerced to ints if possible; otherwise an exception will be raised.\n",
        "\n",
        "#name is a string; because it has a default, it is not required.\n",
        "\n",
        "#signup_ts is a datetime field that is required, but the value None may be provided;\n",
        "#Pydantic will process either a unix timestamp int (e.g. 1496498400) or\n",
        "#a string representing the date and time.\n",
        "\n",
        "#tastes is a dictionary with string keys and positive integer values.\n",
        "#The PositiveInt type is shorthand for Annotated[int, annotated_types.Gt(0)].\n",
        "\n",
        "class User(BaseModel):\n",
        "    id: int\n",
        "    name: str = 'John Doe'\n",
        "    signup_ts: datetime | None\n",
        "    tastes: dict[str, PositiveInt]\n",
        "\n",
        "#=====\n",
        "#The input here is an ISO8601 formatted datetime, Pydantic will convert it to a datetime object.\n",
        "#The key here is bytes, but Pydantic will take care of coercing it to a string.\n",
        "#Similarly, Pydantic will coerce the string '1' to an integer 1.\n",
        "\n",
        "external_data = {\n",
        "    'id': 123,\n",
        "    'signup_ts': '2019-06-01 12:22',\n",
        "    'tastes': {\n",
        "        'wine': 9,\n",
        "        b'cheese': 7,\n",
        "        'cabbage': '1',\n",
        "    },\n",
        "}\n",
        "\n",
        "#Here we create instance of User by passing our external data to User as keyword arguments\n",
        "user = User(**external_data)\n",
        "\n",
        "#We can access fields as attributes of the model\n",
        "print(user.id)\n",
        "print(user.model_dump())"
      ],
      "metadata": {
        "id": "-0_z2L_1Oxmr"
      },
      "execution_count": null,
      "outputs": []
    },
    {
      "cell_type": "markdown",
      "source": [
        "If validation fails, Pydantic will raise an error with a breakdown of what was wrong:"
      ],
      "metadata": {
        "id": "dcIB9PrzP7Wq"
      }
    },
    {
      "cell_type": "code",
      "source": [
        "class User(BaseModel):\n",
        "    id: int\n",
        "    name: str = 'John Doe'\n",
        "    signup_ts: datetime | None\n",
        "    tastes: dict[str, PositiveInt]\n",
        "\n",
        "external_data = {'id': 'not an int', 'tastes': {}}\n",
        "\n",
        "try:\n",
        "    User(**external_data)\n",
        "except ValidationError as e:\n",
        "    print(e.errors())\n"
      ],
      "metadata": {
        "id": "nUY1VR9nP8D1"
      },
      "execution_count": null,
      "outputs": []
    },
    {
      "cell_type": "markdown",
      "source": [
        "**Creating a Python Class**"
      ],
      "metadata": {
        "id": "P5n6ag_RHJpM"
      }
    },
    {
      "cell_type": "code",
      "source": [
        "#creating a class called patient\n",
        "class Patient:\n",
        "  def __init__(self, name, pet_name,phone,payment_method):\n",
        "    if type(name)!= str:\n",
        "      raise ValidationError(\"Name must be string\")\n",
        "    self.name=name\n",
        "    self.pet_name=pet_name\n",
        "    self.phone=phone\n",
        "    self.payment_method=payment_method\n",
        "\n",
        "  def __repr__(self):\n",
        "    return (\"employee (name={}, pet_name={}, phone={}, payment_method={} )\"\n",
        "            .format(self.name, self.pet_name, self.phone, self.payment_method))\n",
        "\n",
        "  def __eq__(self, check):\n",
        "    return ((self.name, self.pet_name, self.phone, self.payment_method) ==\n",
        "           ((check.name, check.pet_name, check.phone, check.payment_method)))"
      ],
      "metadata": {
        "id": "h73q6MkHFo44"
      },
      "execution_count": null,
      "outputs": []
    },
    {
      "cell_type": "code",
      "source": [
        "p1=Patient(\"Sam\",\"Spot\",\"408-555-4321\",\"Visa\")\n",
        "p2=Patient(\"Toby\",\"Rover\",\"408-434-4321\",\"Check\")\n",
        "p3=Patient(\"Carl\",\"Lassie\",\"408-666-4321\",\"PayPal\")\n",
        "\n",
        "print(p1)\n",
        "print(p1==p2)"
      ],
      "metadata": {
        "id": "gP3CDDmQFrAT"
      },
      "execution_count": null,
      "outputs": []
    },
    {
      "cell_type": "code",
      "source": [
        "#input incorrect type\n",
        "p4=Patient(333,\"Lassie\",\"408-666-4321\",\"PayPal\")"
      ],
      "metadata": {
        "id": "GvVVk43rL44T"
      },
      "execution_count": null,
      "outputs": []
    },
    {
      "cell_type": "markdown",
      "source": [
        "**Creating a dataclass**"
      ],
      "metadata": {
        "id": "TM4yufHZHNbI"
      }
    },
    {
      "cell_type": "code",
      "source": [
        "from dataclasses import dataclass\n",
        "@dataclass\n",
        "class Patient1:\n",
        "  name: str\n",
        "  pet_name: str\n",
        "  phone:str\n",
        "  payment_method:str"
      ],
      "metadata": {
        "id": "b_1GAd1JFuzC"
      },
      "execution_count": null,
      "outputs": []
    },
    {
      "cell_type": "code",
      "source": [
        "p1=Patient1(\"Sam\",\"Spot\",\"408-555-4321\",\"Visa\")\n",
        "p2=Patient1(\"Toby\",\"Rover\",\"408-434-4321\",\"Check\")\n",
        "p3=Patient1(\"Carl\",\"Lassie\",\"408-666-4321\",\"PayPal\")\n",
        "\n",
        "print(p1)\n",
        "print(p1==p2)"
      ],
      "metadata": {
        "id": "vKugliXeF0Bt"
      },
      "execution_count": null,
      "outputs": []
    },
    {
      "cell_type": "markdown",
      "source": [
        "**Creating a BaseModel from PyDantic**"
      ],
      "metadata": {
        "id": "jRnc-WreHP2o"
      }
    },
    {
      "cell_type": "code",
      "execution_count": null,
      "metadata": {
        "id": "LQzqTV84FNa8"
      },
      "outputs": [],
      "source": [
        "from pydantic import BaseModel, ValidationError\n",
        "\n",
        "class Customer(BaseModel):\n",
        "    name: str\n",
        "    credit_limit: float\n",
        "    number_cards: int\n",
        "\n",
        "# Creating a valid customer instance\n",
        "valid_customer = Customer(name=\"Valid Customer\", credit_limit=1000.2, number_cards=2)\n",
        "print(valid_customer)\n",
        "\n",
        "# Attempting to create an invalid customer instance and catching the error\n",
        "try:\n",
        "    invalid_customer = Customer(name=\"Should be invalid, but..\", credit_limit=1000.2, number_cards=\"a\")\n",
        "except ValidationError as e:\n",
        "    print(\"Validation Error:\", e)"
      ]
    }
  ]
}