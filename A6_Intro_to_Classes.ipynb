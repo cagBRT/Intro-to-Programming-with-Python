{
  "nbformat": 4,
  "nbformat_minor": 0,
  "metadata": {
    "colab": {
      "name": "A6 Intro to Classes.ipynb",
      "private_outputs": true,
      "provenance": [],
      "authorship_tag": "ABX9TyNGs/jTMZnPkJEI6prbiYnh",
      "include_colab_link": true
    },
    "kernelspec": {
      "name": "python3",
      "display_name": "Python 3"
    },
    "language_info": {
      "name": "python"
    }
  },
  "cells": [
    {
      "cell_type": "markdown",
      "metadata": {
        "id": "view-in-github",
        "colab_type": "text"
      },
      "source": [
        "<a href=\"https://colab.research.google.com/github/cagBRT/Intro-to-Programming-with-Python/blob/master/A6_Intro_to_Classes.ipynb\" target=\"_parent\"><img src=\"https://colab.research.google.com/assets/colab-badge.svg\" alt=\"Open In Colab\"/></a>"
      ]
    },
    {
      "cell_type": "markdown",
      "metadata": {
        "id": "qMF2yqbu7kua"
      },
      "source": [
        "# **Public, Private, and Protected Members**"
      ]
    },
    {
      "cell_type": "markdown",
      "metadata": {
        "id": "MOQJTIPV7uyK"
      },
      "source": [
        "All members of a Python class are public. <br>\n",
        "The members can be acccessed and modified from outside the class."
      ]
    },
    {
      "cell_type": "markdown",
      "metadata": {
        "id": "hj627MhU7koG"
      },
      "source": [
        "**Protected Members of a Class**\n",
        "Classes can have protected members. <br>\n",
        "This means that the member can only be accessed or modified from within the class and by it members."
      ]
    },
    {
      "cell_type": "markdown",
      "metadata": {
        "id": "nhc8jfVe8vSI"
      },
      "source": [
        "**Creating a Protected Class Member**<br>\n",
        "Add a single underscore to the name of the prefix to make it a protected member<br>\n",
        ">_member_name"
      ]
    },
    {
      "cell_type": "code",
      "metadata": {
        "id": "gkJq_5t-69Pd"
      },
      "source": [
        "class Customer:\n",
        "  _credit_card_company='VISA' #this is a protected class attribute\n",
        "\n",
        "  def __init__(self, name, card_no, credit_limit, loan_balance):\n",
        "    #these are protected classs members (instance attributes)\n",
        "    self._card_no=card_no\n",
        "    self._name=name\n",
        "    self.credit_limit=credit_limit\n",
        "    self.loan_balance=loan_balance\n",
        "\n",
        "  def print_info(self):\n",
        "    print(self._name,self._card_no, self.credit_limit, self.loan_balance)\n"
      ],
      "execution_count": null,
      "outputs": []
    },
    {
      "cell_type": "markdown",
      "metadata": {
        "id": "anIhuomU-Dyc"
      },
      "source": [
        "We can still read the values of the member variables<br>\n",
        "*Note: the underscore is part of the name*"
      ]
    },
    {
      "cell_type": "code",
      "metadata": {
        "id": "Xcg59uQj9tS7"
      },
      "source": [
        "c1=Customer(\"tim\",555555555555, 25000,10234)\n",
        "print(c1._name)"
      ],
      "execution_count": null,
      "outputs": []
    },
    {
      "cell_type": "code",
      "source": [
        "c1.print_info()"
      ],
      "metadata": {
        "id": "9IeZRIiy7DCO"
      },
      "execution_count": null,
      "outputs": []
    },
    {
      "cell_type": "markdown",
      "metadata": {
        "id": "Dk85tv-U-RSo"
      },
      "source": [
        "Being protected does not prevent the member from being modified"
      ]
    },
    {
      "cell_type": "code",
      "metadata": {
        "id": "SdM1boOz-Rc4"
      },
      "source": [
        "c1.credit_limit=50000\n",
        "c1.credit_limit"
      ],
      "execution_count": null,
      "outputs": []
    },
    {
      "cell_type": "code",
      "metadata": {
        "id": "CGG08mcv-6wA"
      },
      "source": [
        "c1._credit_card_company=\"MASTERCARD\"\n",
        "c1._credit_card_company"
      ],
      "execution_count": null,
      "outputs": []
    },
    {
      "cell_type": "markdown",
      "metadata": {
        "id": "oDcO0sA8-ww7"
      },
      "source": [
        "We will see the purpose of Protected members when we discuss class inheritance"
      ]
    },
    {
      "cell_type": "markdown",
      "metadata": {
        "id": "1cd3niDO3s1I"
      },
      "source": [
        "**Assignment 1**<br>\n",
        "1. Create a class for holding student information\n",
        "2. Make the student's name and ID public\n",
        "3. Make all other student information protected\n",
        "4. Instantiate 5 instances of the class"
      ]
    },
    {
      "cell_type": "code",
      "metadata": {
        "id": "HILFmD1_4CDJ"
      },
      "source": [
        "#Assignment 1\n"
      ],
      "execution_count": null,
      "outputs": []
    },
    {
      "cell_type": "markdown",
      "metadata": {
        "id": "XZBCcybd-5ps"
      },
      "source": [
        "# **Property Decorators**<br>\n",
        "Property decorators can be used to make protected members"
      ]
    },
    {
      "cell_type": "code",
      "metadata": {
        "id": "ztiddCrV_oWj"
      },
      "source": [
        "class Customers:\n",
        "  _credit_card_company='VISA' #this is a protected class attribute\n",
        "\n",
        "  def __init__(self, name, card_no, credit_limit, loan_balance):\n",
        "    #these are protected classs members (instance attributes)\n",
        "    self._name=name\n",
        "    self._card_no=card_no\n",
        "    self.credit_limit=credit_limit\n",
        "    self.loan_balance=loan_balance"
      ],
      "execution_count": null,
      "outputs": []
    },
    {
      "cell_type": "markdown",
      "metadata": {
        "id": "0Yu76kCYBFdY"
      },
      "source": [
        "You can still access the member"
      ]
    },
    {
      "cell_type": "code",
      "metadata": {
        "id": "0-qfjjZSA0cb"
      },
      "source": [
        "c22=Customers(\"bob\",333333333333,10000,33)\n",
        "c22._name"
      ],
      "execution_count": null,
      "outputs": []
    },
    {
      "cell_type": "markdown",
      "metadata": {
        "id": "16XCZ-RCBJy9"
      },
      "source": [
        "And you can still change it without using a class method"
      ]
    },
    {
      "cell_type": "code",
      "metadata": {
        "id": "pwlEDHi9A_XM"
      },
      "source": [
        "c22._name=\"kit\"\n",
        "c22._name\n"
      ],
      "execution_count": null,
      "outputs": []
    },
    {
      "cell_type": "markdown",
      "metadata": {
        "id": "gmzU2koQ4SLY"
      },
      "source": [
        "**Assignment 2**<br>\n",
        "Change the some of the values of the student instances you created in assignment 1"
      ]
    },
    {
      "cell_type": "code",
      "metadata": {
        "id": "xmYWPW-U4I30"
      },
      "source": [
        "#Assignment 2\n"
      ],
      "execution_count": null,
      "outputs": []
    },
    {
      "cell_type": "markdown",
      "metadata": {
        "id": "a-LnB3hnBkVs"
      },
      "source": [
        "**Notice that we had to use the underscore to access and change the member value**"
      ]
    },
    {
      "cell_type": "markdown",
      "metadata": {
        "id": "mGCsQAsxB3Y4"
      },
      "source": [
        "We can add a property decorator to protect the members of the class.<br>\n",
        "A property decorator is done as:<br>\n",
        ">@property\n",
        "\n",
        "This means use the following method as if it were the property"
      ]
    },
    {
      "cell_type": "code",
      "metadata": {
        "id": "lds4nGX0B8yc"
      },
      "source": [
        "class Customers:\n",
        "  _credit_card_company='VISA' #this is a protected class attribute\n",
        "\n",
        "  def __init__(self, name, card_no, credit_limit, loan_balance):\n",
        "    #these are protected classs members (instance attributes)\n",
        "    self._name=name\n",
        "    self._card_no=card_no\n",
        "    self.credit_limit=credit_limit\n",
        "    self.loan_balance=loan_balance\n",
        "\n",
        "  @property #use this method as if it were a property\n",
        "  def name(self):\n",
        "    return self._name\n",
        "\n",
        "  @name.setter\n",
        "  def name(self, newname):\n",
        "    self._name=newname\n",
        "\n",
        "  def print_info(self):\n",
        "    print(self.name,self._card_no, self.credit_limit, self.loan_balance)"
      ],
      "execution_count": null,
      "outputs": []
    },
    {
      "cell_type": "markdown",
      "metadata": {
        "id": "RXsbFIr9DgG6"
      },
      "source": [
        "We no longer have to use the underscore to access the class member"
      ]
    },
    {
      "cell_type": "code",
      "metadata": {
        "id": "WRJBdwuFDMt4"
      },
      "source": [
        "c33=Customers(\"bob\",333333333333,10000,33)\n",
        "c33.name"
      ],
      "execution_count": null,
      "outputs": []
    },
    {
      "cell_type": "code",
      "source": [
        "c33.print_info()"
      ],
      "metadata": {
        "id": "IsjJbwQV7wkk"
      },
      "execution_count": null,
      "outputs": []
    },
    {
      "cell_type": "markdown",
      "metadata": {
        "id": "3r15wvCzDmn1"
      },
      "source": [
        "And we no longer have to use the underscore to change the name."
      ]
    },
    {
      "cell_type": "code",
      "metadata": {
        "id": "sui78HQsDV9_"
      },
      "source": [
        "c33=Customers(\"bob\",333333333333,10000,33)\n",
        "c33.name=\"tommy\"\n",
        "c33.name"
      ],
      "execution_count": null,
      "outputs": []
    },
    {
      "cell_type": "markdown",
      "metadata": {
        "id": "Jn8snB7DDtsB"
      },
      "source": [
        "**Assignment 3**<br>\n",
        "1. Use property decorators on the class members you created in Assignment 1.\n",
        "2. Instantiate instances of the class\n",
        "3. Change the class values of the instances\n"
      ]
    },
    {
      "cell_type": "code",
      "metadata": {
        "id": "fHo3For34-ud"
      },
      "source": [
        "#Assignment\n"
      ],
      "execution_count": null,
      "outputs": []
    },
    {
      "cell_type": "markdown",
      "source": [
        "\n",
        "\n",
        "---\n",
        "\n",
        "\n",
        "\n",
        "---\n",
        "\n"
      ],
      "metadata": {
        "id": "GqhnbXYNXlZj"
      }
    },
    {
      "cell_type": "markdown",
      "source": [
        "# Understanding *args and *kwargs"
      ],
      "metadata": {
        "id": "gR8jr4HfW02a"
      }
    },
    {
      "cell_type": "markdown",
      "source": [
        "*args and **kwargs allow you to pass multiple arguments or keyword arguments to a function"
      ],
      "metadata": {
        "id": "NHr_qGBPW9wO"
      }
    },
    {
      "cell_type": "markdown",
      "source": [
        "This function works well for two arguments.<br>\n",
        "What if you want more arguments?"
      ],
      "metadata": {
        "id": "Q3qqfjutXB2B"
      }
    },
    {
      "cell_type": "code",
      "source": [
        "def my_sum(a, b):\n",
        "    return a + b"
      ],
      "metadata": {
        "id": "sYajKlzDW6gM"
      },
      "execution_count": null,
      "outputs": []
    },
    {
      "cell_type": "markdown",
      "source": [
        "*args can be really useful, because it allows you to pass a varying number of positional arguments."
      ],
      "metadata": {
        "id": "BEqvQYOGXO9c"
      }
    },
    {
      "cell_type": "code",
      "source": [
        "def my_sum(*args):\n",
        "    result = 0\n",
        "    # Iterating over the Python args tuple\n",
        "    for x in args:\n",
        "        result += x\n",
        "    return result"
      ],
      "metadata": {
        "id": "ei_T_P29XQKC"
      },
      "execution_count": null,
      "outputs": []
    },
    {
      "cell_type": "code",
      "source": [
        "print(my_sum(1, 2, 3, 4, 5))"
      ],
      "metadata": {
        "id": "RWuOHT65XVKn"
      },
      "execution_count": null,
      "outputs": []
    },
    {
      "cell_type": "markdown",
      "source": [
        "Note that args is just a name. <br>\n",
        "You’re not required to use the name args, you can use any name you like.<br>\n",
        "Just make sure you use the unpacking operator (*)<br><br>\n",
        "\n",
        "(*args is standard Python)"
      ],
      "metadata": {
        "id": "ZWoIEBITXo5P"
      }
    },
    {
      "cell_type": "markdown",
      "source": [
        "**Assignment**<br>\n",
        "Write a function that uses *args<br>\n",
        "Test it with different numbers of inputs"
      ],
      "metadata": {
        "id": "NJdo_RmrXyif"
      }
    },
    {
      "cell_type": "code",
      "source": [],
      "metadata": {
        "id": "rC3lh_mdX0I2"
      },
      "execution_count": null,
      "outputs": []
    },
    {
      "cell_type": "markdown",
      "source": [
        "**kwargs works just like *args, but instead of accepting positional arguments it accepts keyword (or named) arguments"
      ],
      "metadata": {
        "id": "diWF6e9gZ9cS"
      }
    },
    {
      "cell_type": "markdown",
      "source": [
        "**Use a single asterisk to unpack iterables** <br>\n",
        "**Use two asterisks to unpack dictionaries**\n"
      ],
      "metadata": {
        "id": "88PmdGSPb2sg"
      }
    },
    {
      "cell_type": "markdown",
      "source": [
        "Create a function that accepts a dictionary of keys and values<br>\n",
        "Then takes these values and concatenates them"
      ],
      "metadata": {
        "id": "ooa2Q4G9aXRE"
      }
    },
    {
      "cell_type": "code",
      "source": [
        "def concatenate(**kwargs):\n",
        "    result = \"\"\n",
        "    # Iterating over the Python kwargs dictionary\n",
        "    for arg in kwargs.values():\n",
        "        result += arg\n",
        "    return result"
      ],
      "metadata": {
        "id": "q1CEvR2saHLh"
      },
      "execution_count": null,
      "outputs": []
    },
    {
      "cell_type": "markdown",
      "source": [
        "Notice above you need to use .values to get the values of the dictionary."
      ],
      "metadata": {
        "id": "g_ZrOUU-ahlk"
      }
    },
    {
      "cell_type": "code",
      "source": [
        "print(concatenate(a=\"Real\", b=\"Python\", c=\"Is\", d=\"Great\", e=\"!\"))"
      ],
      "metadata": {
        "id": "lVyGFEpAaEko"
      },
      "execution_count": null,
      "outputs": []
    },
    {
      "cell_type": "markdown",
      "source": [
        "If you forget the .values, as shown below"
      ],
      "metadata": {
        "id": "wQHV96_SareO"
      }
    },
    {
      "cell_type": "code",
      "source": [
        "def concatenate(**kwargs):\n",
        "    result = \"\"\n",
        "    # Iterating over the Python kwargs dictionary\n",
        "    for arg in kwargs:\n",
        "        result += arg\n",
        "    return result"
      ],
      "metadata": {
        "id": "y-wrDUxFaro2"
      },
      "execution_count": null,
      "outputs": []
    },
    {
      "cell_type": "markdown",
      "source": [
        "You get the keys, not the values"
      ],
      "metadata": {
        "id": "Na_MTRTSa4uI"
      }
    },
    {
      "cell_type": "code",
      "source": [
        "print(concatenate(a=\"Real\", b=\"Python\", c=\"Is\", d=\"Great\", e=\"!\"))"
      ],
      "metadata": {
        "id": "KI8hDIjrazC5"
      },
      "execution_count": null,
      "outputs": []
    },
    {
      "cell_type": "markdown",
      "source": [
        "## The correct order for your parameters:\n",
        "\n",
        "Standard arguments<br>\n",
        "*args arguments<br>\n",
        "**kwargs arguments<br>"
      ],
      "metadata": {
        "id": "fzO-Awv1bWOr"
      }
    },
    {
      "cell_type": "code",
      "source": [
        "def my_function(a, b, *args, **kwargs):\n",
        "    pass"
      ],
      "metadata": {
        "id": "V89Il816bhZW"
      },
      "execution_count": null,
      "outputs": []
    },
    {
      "cell_type": "markdown",
      "source": [
        "\n",
        "\n",
        "---\n",
        "\n",
        "\n",
        "\n",
        "---\n",
        "\n"
      ],
      "metadata": {
        "id": "04YRl2FoXnGo"
      }
    },
    {
      "cell_type": "markdown",
      "source": [
        "# Decorators can Modify Behavior\n",
        "Using decorators to wrap another function in order to extend behavior of the wrapped function"
      ],
      "metadata": {
        "id": "PHTM6onKjje3"
      }
    },
    {
      "cell_type": "code",
      "source": [
        "# Python program to illustrate functions\n",
        "# can be treated as objects\n",
        "def shout(text):\n",
        "\treturn text.upper()\n",
        "\n",
        "print(shout('Hello'))"
      ],
      "metadata": {
        "id": "zaMRNhXGjjpA"
      },
      "execution_count": null,
      "outputs": []
    },
    {
      "cell_type": "markdown",
      "source": [
        "## A function assigned to a variable<br>\n",
        "In the example below, we have assigned the function shout to a variable.<br>\n",
        "This will not call the function instead it takes the function object referenced by a shout<br>\n",
        "and creates a second name pointing to it, yell."
      ],
      "metadata": {
        "id": "5EKa5v3Jk74i"
      }
    },
    {
      "cell_type": "code",
      "source": [
        "yell = shout\n",
        "print(yell('Hello'))"
      ],
      "metadata": {
        "id": "muLPSX6Vko8s"
      },
      "execution_count": null,
      "outputs": []
    },
    {
      "cell_type": "markdown",
      "source": [
        "**Function as an input to another function**"
      ],
      "metadata": {
        "id": "LLFezV77lXQj"
      }
    },
    {
      "cell_type": "markdown",
      "source": [
        "We have three functions. <br>\n",
        "Depending upon which function is used as an input to the function, determines the output"
      ],
      "metadata": {
        "id": "2lj6V5kvlxcw"
      }
    },
    {
      "cell_type": "code",
      "source": [
        "def shout(text):\n",
        "    return text.upper()\n",
        "\n",
        "def whisper(text):\n",
        "    return text.lower()"
      ],
      "metadata": {
        "id": "yaUrQ84VlRdb"
      },
      "execution_count": null,
      "outputs": []
    },
    {
      "cell_type": "code",
      "source": [
        "def greet(func):\n",
        "    # storing the function in a variable\n",
        "    greeting = func(\"\"\"Hi, I am created by a function passed as an argument.\"\"\")\n",
        "    print (greeting)"
      ],
      "metadata": {
        "id": "qaUq5z1Tlvun"
      },
      "execution_count": null,
      "outputs": []
    },
    {
      "cell_type": "code",
      "source": [
        "greet(shout)\n",
        "greet(whisper)"
      ],
      "metadata": {
        "id": "9HCjzkkdlNiW"
      },
      "execution_count": null,
      "outputs": []
    },
    {
      "cell_type": "markdown",
      "source": [
        "## Returning functions from another function"
      ],
      "metadata": {
        "id": "e0sW584Ml9E3"
      }
    },
    {
      "cell_type": "markdown",
      "source": [
        "A function returns another function"
      ],
      "metadata": {
        "id": "FeqldU46mZSw"
      }
    },
    {
      "cell_type": "code",
      "source": [
        "def create_adder(x):\n",
        "\tdef adder(y):\n",
        "\t\treturn x+y\n",
        "\treturn adder"
      ],
      "metadata": {
        "id": "vHYJ-P52mFLX"
      },
      "execution_count": null,
      "outputs": []
    },
    {
      "cell_type": "code",
      "source": [
        "add_15 = create_adder(15)\n",
        "\n",
        "print(add_15(10))"
      ],
      "metadata": {
        "id": "W1CJVtEkmBLX"
      },
      "execution_count": null,
      "outputs": []
    },
    {
      "cell_type": "markdown",
      "source": [
        "Decorators are used to modify the behaviour of function or class. <br>\n",
        "\n",
        "In Decorators, functions are taken as the argument into another function and then called inside the wrapper function."
      ],
      "metadata": {
        "id": "lKt3YoVHmoDI"
      }
    },
    {
      "cell_type": "code",
      "source": [
        "# defining a decorator\n",
        "def hello_decorator(func):\n",
        "    def inner1():\n",
        "        print(\"Hello, this is before function execution\")\n",
        "\n",
        "        # calling the actual function now\n",
        "        # inside the wrapper function.\n",
        "        func()\n",
        "\n",
        "        print(\"This is after function execution\")\n",
        "\n",
        "    return inner1\n",
        "\n",
        "def function_to_be_used():\n",
        "    print(\"This is inside the function !!\")"
      ],
      "metadata": {
        "id": "FasCNEXNm8hZ"
      },
      "execution_count": null,
      "outputs": []
    },
    {
      "cell_type": "code",
      "source": [
        "function_to_be_used()"
      ],
      "metadata": {
        "id": "IJQq_jbEnNjW"
      },
      "execution_count": null,
      "outputs": []
    },
    {
      "cell_type": "code",
      "source": [
        "function_to_call = hello_decorator(function_to_be_used)\n",
        "\n",
        "\n",
        "# calling the function\n",
        "function_to_call()"
      ],
      "metadata": {
        "id": "C0SC3psnnHXe"
      },
      "execution_count": null,
      "outputs": []
    },
    {
      "cell_type": "markdown",
      "source": [
        "## Using '@'"
      ],
      "metadata": {
        "id": "Pq26JpnEUnza"
      }
    },
    {
      "cell_type": "code",
      "source": [
        "import time\n",
        "import math"
      ],
      "metadata": {
        "id": "VwGTeg-OUqeU"
      },
      "execution_count": null,
      "outputs": []
    },
    {
      "cell_type": "code",
      "source": [
        "#This function calculates how long it takes\n",
        "#func to execute\n",
        "def calculate_time(func):\n",
        "\t# added arguments inside the inner1,\n",
        "\t# if function takes any arguments,\n",
        "\t# can be added like this.\n",
        "\tdef inner1(*args, **kwargs):\n",
        "\t\t# storing time before function execution\n",
        "\t\tbegin = time.time()\n",
        "\n",
        "\t\tfunc(*args, **kwargs)\n",
        "\n",
        "\t\t# storing time after function execution\n",
        "\t\tend = time.time()\n",
        "\t\tprint(\"Total time taken in : \", func.__name__, end - begin)\n",
        "\n",
        "\treturn inner1"
      ],
      "metadata": {
        "id": "6Lzw0IkjUuwA"
      },
      "execution_count": null,
      "outputs": []
    },
    {
      "cell_type": "code",
      "source": [
        "# this can be added to any function present,\n",
        "# in this case to calculate a factorial\n",
        "@calculate_time\n",
        "def factorial(num):\n",
        "\n",
        "\t# sleep 2 seconds because it takes very less time\n",
        "\t# so that you can see the actual difference\n",
        "\ttime.sleep(2)\n",
        "\tprint(math.factorial(num))"
      ],
      "metadata": {
        "id": "daeGef9dUn-Z"
      },
      "execution_count": null,
      "outputs": []
    },
    {
      "cell_type": "code",
      "source": [
        "# calling the function.\n",
        "factorial(10)"
      ],
      "metadata": {
        "id": "bOGIluCCWaoM"
      },
      "execution_count": null,
      "outputs": []
    }
  ]
}