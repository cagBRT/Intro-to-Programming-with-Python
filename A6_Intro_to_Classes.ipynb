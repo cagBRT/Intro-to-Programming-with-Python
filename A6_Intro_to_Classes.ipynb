{
  "nbformat": 4,
  "nbformat_minor": 0,
  "metadata": {
    "colab": {
      "name": "A6 Intro to Classes.ipynb",
      "private_outputs": true,
      "provenance": [],
      "authorship_tag": "ABX9TyNhNtJYdvJg2poSPini3zhY",
      "include_colab_link": true
    },
    "kernelspec": {
      "name": "python3",
      "display_name": "Python 3"
    },
    "language_info": {
      "name": "python"
    }
  },
  "cells": [
    {
      "cell_type": "markdown",
      "metadata": {
        "id": "view-in-github",
        "colab_type": "text"
      },
      "source": [
        "<a href=\"https://colab.research.google.com/github/cagBRT/Intro-to-Programming-with-Python/blob/master/A6_Intro_to_Classes.ipynb\" target=\"_parent\"><img src=\"https://colab.research.google.com/assets/colab-badge.svg\" alt=\"Open In Colab\"/></a>"
      ]
    },
    {
      "cell_type": "markdown",
      "metadata": {
        "id": "qMF2yqbu7kua"
      },
      "source": [
        "# **Public, Private, and Protected Members**"
      ]
    },
    {
      "cell_type": "markdown",
      "metadata": {
        "id": "MOQJTIPV7uyK"
      },
      "source": [
        "All members of a Python class are public. <br>\n",
        "The members can be acccessed and modified from outside the class."
      ]
    },
    {
      "cell_type": "markdown",
      "metadata": {
        "id": "hj627MhU7koG"
      },
      "source": [
        "**Protected Members of a Class**\n",
        "Classes can have protected members. <br>\n",
        "This means that the member can only be accessed or modified from within the class and by it members."
      ]
    },
    {
      "cell_type": "markdown",
      "metadata": {
        "id": "nhc8jfVe8vSI"
      },
      "source": [
        "**Creating a Protected Class Member**<br>\n",
        "Add a single underscore to the name of the prefix to make it a protected member<br>\n",
        ">_member_name"
      ]
    },
    {
      "cell_type": "code",
      "metadata": {
        "id": "gkJq_5t-69Pd"
      },
      "source": [
        "class Customer:\n",
        "  _credit_card_company='VISA' #this is a protected class attribute\n",
        "\n",
        "  def __init__(self, name, card_no, credit_limit, loan_balance):\n",
        "    #these are protected classs members (instance attributes)\n",
        "    self._card_no=card_no\n",
        "    self._name=name\n",
        "    self.credit_limit=credit_limit\n",
        "    self.loan_balance=loan_balance\n",
        "\n",
        "  def print_info(self):\n",
        "    print(self._name,self._card_no, self.credit_limit, self.loan_balance)\n"
      ],
      "execution_count": null,
      "outputs": []
    },
    {
      "cell_type": "markdown",
      "metadata": {
        "id": "anIhuomU-Dyc"
      },
      "source": [
        "We can still read the values of the member variables<br>\n",
        "*Note: the underscore is part of the name*"
      ]
    },
    {
      "cell_type": "code",
      "metadata": {
        "id": "Xcg59uQj9tS7"
      },
      "source": [
        "c1=Customer(\"tim\",555555555555, 25000,10234)\n",
        "print(c1._name)"
      ],
      "execution_count": null,
      "outputs": []
    },
    {
      "cell_type": "code",
      "source": [
        "c1.print_info()"
      ],
      "metadata": {
        "id": "9IeZRIiy7DCO"
      },
      "execution_count": null,
      "outputs": []
    },
    {
      "cell_type": "markdown",
      "metadata": {
        "id": "Dk85tv-U-RSo"
      },
      "source": [
        "Being protected does not prevent the member from being modified"
      ]
    },
    {
      "cell_type": "code",
      "metadata": {
        "id": "SdM1boOz-Rc4"
      },
      "source": [
        "c1.credit_limit=50000\n",
        "c1.credit_limit"
      ],
      "execution_count": null,
      "outputs": []
    },
    {
      "cell_type": "code",
      "metadata": {
        "id": "CGG08mcv-6wA"
      },
      "source": [
        "c1._credit_card_company=\"MASTERCARD\"\n",
        "c1._credit_card_company"
      ],
      "execution_count": null,
      "outputs": []
    },
    {
      "cell_type": "markdown",
      "metadata": {
        "id": "oDcO0sA8-ww7"
      },
      "source": [
        "We will see the purpose of Protected members when we discuss class inheritance"
      ]
    },
    {
      "cell_type": "markdown",
      "metadata": {
        "id": "1cd3niDO3s1I"
      },
      "source": [
        "**Assignment 1**<br>\n",
        "1. Create a class for holding student information\n",
        "2. Make the student's name and ID public\n",
        "3. Make all other student information protected\n",
        "4. Instantiate 5 instances of the class"
      ]
    },
    {
      "cell_type": "code",
      "metadata": {
        "id": "HILFmD1_4CDJ"
      },
      "source": [
        "#Assignment 1\n"
      ],
      "execution_count": null,
      "outputs": []
    },
    {
      "cell_type": "markdown",
      "metadata": {
        "id": "XZBCcybd-5ps"
      },
      "source": [
        "# **Property Decorators**<br>\n",
        "Property decorators can be used to make protected members"
      ]
    },
    {
      "cell_type": "code",
      "metadata": {
        "id": "ztiddCrV_oWj"
      },
      "source": [
        "class Customers:\n",
        "  _credit_card_company='VISA' #this is a protected class attribute\n",
        "\n",
        "  def __init__(self, name, card_no, credit_limit, loan_balance):\n",
        "    #these are protected classs members (instance attributes)\n",
        "    self._name=name\n",
        "    self._card_no=card_no\n",
        "    self.credit_limit=credit_limit\n",
        "    self.loan_balance=loan_balance"
      ],
      "execution_count": null,
      "outputs": []
    },
    {
      "cell_type": "markdown",
      "metadata": {
        "id": "0Yu76kCYBFdY"
      },
      "source": [
        "You can still access the member"
      ]
    },
    {
      "cell_type": "code",
      "metadata": {
        "id": "0-qfjjZSA0cb"
      },
      "source": [
        "c22=Customers(\"bob\",333333333333,10000,33)\n",
        "c22._name"
      ],
      "execution_count": null,
      "outputs": []
    },
    {
      "cell_type": "markdown",
      "metadata": {
        "id": "16XCZ-RCBJy9"
      },
      "source": [
        "And you can still change it without using a class method"
      ]
    },
    {
      "cell_type": "code",
      "metadata": {
        "id": "pwlEDHi9A_XM"
      },
      "source": [
        "c22._name=\"kit\"\n",
        "c22._name\n"
      ],
      "execution_count": null,
      "outputs": []
    },
    {
      "cell_type": "markdown",
      "metadata": {
        "id": "gmzU2koQ4SLY"
      },
      "source": [
        "**Assignment 2**<br>\n",
        "Change the some of the values of the student instances you created in assignment 1"
      ]
    },
    {
      "cell_type": "code",
      "metadata": {
        "id": "xmYWPW-U4I30"
      },
      "source": [
        "#Assignment 2\n"
      ],
      "execution_count": null,
      "outputs": []
    },
    {
      "cell_type": "markdown",
      "metadata": {
        "id": "a-LnB3hnBkVs"
      },
      "source": [
        "**Notice that we had to use the underscore to access and change the member value**"
      ]
    },
    {
      "cell_type": "markdown",
      "metadata": {
        "id": "mGCsQAsxB3Y4"
      },
      "source": [
        "We can add a property decorator to protect the members of the class.<br>\n",
        "A property decorator is done as:<br>\n",
        ">@property\n",
        "\n",
        "This means use the following method as if it were the property"
      ]
    },
    {
      "cell_type": "code",
      "metadata": {
        "id": "lds4nGX0B8yc"
      },
      "source": [
        "class Customers:\n",
        "  _credit_card_company='VISA' #this is a protected class attribute\n",
        "\n",
        "  def __init__(self, name, card_no, credit_limit, loan_balance):\n",
        "    #these are protected classs members (instance attributes)\n",
        "    self._name=name\n",
        "    self._card_no=card_no\n",
        "    self.credit_limit=credit_limit\n",
        "    self.loan_balance=loan_balance\n",
        "\n",
        "  @property #use this method as if it were a property\n",
        "  def name(self):\n",
        "    return self._name\n",
        "\n",
        "  @name.setter\n",
        "  def name(self, newname):\n",
        "    self._name=newname\n",
        "\n",
        "  def print_info(self):\n",
        "    print(self.name,self._card_no, self.credit_limit, self.loan_balance)"
      ],
      "execution_count": null,
      "outputs": []
    },
    {
      "cell_type": "markdown",
      "metadata": {
        "id": "RXsbFIr9DgG6"
      },
      "source": [
        "We no longer have to use the underscore to access the class member"
      ]
    },
    {
      "cell_type": "code",
      "metadata": {
        "id": "WRJBdwuFDMt4"
      },
      "source": [
        "c33=Customers(\"bob\",333333333333,10000,33)\n",
        "c33.name"
      ],
      "execution_count": null,
      "outputs": []
    },
    {
      "cell_type": "code",
      "source": [
        "c33.print_info()"
      ],
      "metadata": {
        "id": "IsjJbwQV7wkk"
      },
      "execution_count": null,
      "outputs": []
    },
    {
      "cell_type": "markdown",
      "metadata": {
        "id": "3r15wvCzDmn1"
      },
      "source": [
        "And we no longer have to use the underscore to change the name."
      ]
    },
    {
      "cell_type": "code",
      "metadata": {
        "id": "sui78HQsDV9_"
      },
      "source": [
        "c33=Customers(\"bob\",333333333333,10000,33)\n",
        "c33.name=\"tommy\"\n",
        "c33.name"
      ],
      "execution_count": null,
      "outputs": []
    },
    {
      "cell_type": "markdown",
      "metadata": {
        "id": "Jn8snB7DDtsB"
      },
      "source": [
        "**Assignment 3**<br>\n",
        "1. Use property decorators on the class members you created in Assignment 1.\n",
        "2. Instantiate instances of the class\n",
        "3. Change the class values of the instances\n"
      ]
    },
    {
      "cell_type": "code",
      "metadata": {
        "id": "fHo3For34-ud"
      },
      "source": [
        "#Assignment\n"
      ],
      "execution_count": null,
      "outputs": []
    }
  ]
}