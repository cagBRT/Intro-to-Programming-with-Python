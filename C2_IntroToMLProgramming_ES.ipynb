{
  "nbformat": 4,
  "nbformat_minor": 0,
  "metadata": {
    "colab": {
      "provenance": [],
      "private_outputs": true,
      "include_colab_link": true
    },
    "kernelspec": {
      "name": "python3",
      "display_name": "Python 3"
    }
  },
  "cells": [
    {
      "cell_type": "markdown",
      "metadata": {
        "id": "view-in-github",
        "colab_type": "text"
      },
      "source": [
        "<a href=\"https://colab.research.google.com/github/cagBRT/Intro-to-Programming-with-Python/blob/master/C2_IntroToMLProgramming_ES.ipynb\" target=\"_parent\"><img src=\"https://colab.research.google.com/assets/colab-badge.svg\" alt=\"Open In Colab\"/></a>"
      ]
    },
    {
      "cell_type": "markdown",
      "metadata": {
        "id": "8XMQKf29mulj"
      },
      "source": [
        "# Toma de desiciones (Decision Making)\n",
        "El verdadero poder de la programación empieza con la toma desiciones, tambien llamado flujo de control (control flow)\n",
        "<br>\n",
        "Aqui es donde donde hacemos que el programa realice tareas que dependen del resultado de comparaciones"
      ]
    },
    {
      "cell_type": "code",
      "metadata": {
        "id": "LuAwW3PsnXF2"
      },
      "source": [
        "# Clona el respositorio completo\n",
        "!git clone -l -s https://github.com/cagBRT/Intro-to-Programming-with-Python.git cloned-repo\n",
        "%cd cloned-repo\n",
        "!ls"
      ],
      "execution_count": null,
      "outputs": []
    },
    {
      "cell_type": "code",
      "metadata": {
        "id": "fYLD5EMd_IFt"
      },
      "source": [
        "from IPython.display import Image\n",
        "def page(num):\n",
        "    return Image(\"c2-content/c2PythonProgramming\"+str(num)+ \".png\" , width=640)"
      ],
      "execution_count": null,
      "outputs": []
    },
    {
      "cell_type": "markdown",
      "metadata": {
        "id": "BaflHhYYptgL"
      },
      "source": [
        "# Sentencia if (if statements)"
      ]
    },
    {
      "cell_type": "code",
      "metadata": {
        "id": "RmJXNFYw_PD3"
      },
      "source": [
        "page(1)"
      ],
      "execution_count": null,
      "outputs": []
    },
    {
      "cell_type": "code",
      "metadata": {
        "id": "9F-JMa7LC7lb"
      },
      "source": [
        "page(2)"
      ],
      "execution_count": null,
      "outputs": []
    },
    {
      "cell_type": "code",
      "metadata": {
        "id": "6lGIFMX2lJYQ"
      },
      "source": [
        "#un ejemplo de una sentencia if\n",
        "\n",
        "x = 10\n",
        "#si la siguiente condicion es verdadera\n",
        "#realiza la tarea indentada despues del doble punto\n",
        "if x > 9:\n",
        "  print(\"X is greater than 9\")\n"
      ],
      "execution_count": null,
      "outputs": []
    },
    {
      "cell_type": "markdown",
      "metadata": {
        "id": "tv5H6xucp_cF"
      },
      "source": [
        "# **Actividad #1**\n",
        "1. Crea dos variables: x = 6, y = 4\n",
        "2. Escribe un programa tal que: si x > y, imprime \"X es mas grande\""
      ]
    },
    {
      "cell_type": "code",
      "metadata": {
        "id": "_9dCHVP1p29Q"
      },
      "source": [
        "#Actividad #1\n",
        "#1. crea dos variables: x = 6, y = 4\n",
        "#2. Escribe un programa que compare \"x\" y \"y\" \n",
        "#Si x es mayor que y, imprime \"X es mas grande\"\n",
        "\n",
        "#TODO\n",
        "\n"
      ],
      "execution_count": null,
      "outputs": []
    },
    {
      "cell_type": "markdown",
      "metadata": {
        "id": "Prtei-Iu59Sm"
      },
      "source": [
        "Otro ejemplo de una sentencia \"if\""
      ]
    },
    {
      "cell_type": "code",
      "metadata": {
        "id": "LJJZBb-H57iK"
      },
      "source": [
        "# Si el numero es positivo, imprimimos el mensaje correspondiente\n",
        "num = 3\n",
        "if num > 0:\n",
        "    print(num, \"is a positive number.\")\n",
        "print(\"This is always printed.\")\n",
        "\n",
        "num = -1\n",
        "if num > 0:\n",
        "    print(num, \"is a positive number.\")\n",
        "print(\"This is also always printed.\")"
      ],
      "execution_count": null,
      "outputs": []
    },
    {
      "cell_type": "markdown",
      "metadata": {
        "id": "1_uUTFl0sxQA"
      },
      "source": [
        "Si la condición dentro del if es verdadera, entonces todo el código identado es ejecutado. "
      ]
    },
    {
      "cell_type": "code",
      "metadata": {
        "id": "76hR1Ftfn2yH"
      },
      "source": [
        "#another example of an if statement\n",
        "#If the conditional statement is true\n",
        "#All the indented code is excuted\n",
        "\n",
        "print(\"En el programa principal: antes del 'if'\")\n",
        "x= 9\n",
        "y = 0\n",
        "if x == 9:\n",
        "  #Ejeculta este codigo si x = 9\n",
        "   print(\"Inciando codigo 'if'\")\n",
        "   print(\"x==9\")\n",
        "   y = 5\n",
        "   print(\"y = \", y)\n",
        "   print(\"Fin del codigo 'if'\")\n",
        "\n",
        "#El codigo de programa principal siempre es ejecutado\n",
        "print(\"En el programa principal: despues del 'if'\")\n",
        "\n",
        "if y==0:\n",
        "  #Ejecuta este codigo si y = 0\n",
        "  print(\"En el segundo codigo 'if'\")\n",
        "  print(\"x != 9\")\n",
        "print(\"y = \", y)\n"
      ],
      "execution_count": null,
      "outputs": []
    },
    {
      "cell_type": "markdown",
      "metadata": {
        "id": "iUp3UTJOolqT"
      },
      "source": [
        "# **Actividad #2**\n",
        "1. Crea una variable: x = 6\n",
        "2. Escribe un programa: cuando x > 5, el programa imprime \"Mayor que 5\"\n",
        "3. Ademas, si x < 5, el programa imprime \"Menor que 5\"\n",
        "4. Si x es igual a 5, el programa imprime \"Igual a 5\""
      ]
    },
    {
      "cell_type": "code",
      "metadata": {
        "id": "jqa64vdgokaE"
      },
      "source": [
        "#Actividad 2\n",
        "#1. Crea una variable: x = 6\n",
        "#2. Escribe un programa: cuando x > 5, el programa imprime \"Mayor que 5\"\n",
        "#3. Ademas, si x < 5, el programa imprime \"Menor que 5\"\n",
        "#4. Si x es igual a 5, el progrma imprime \"Igual a 5\"\n",
        "\n",
        "#TODO"
      ],
      "execution_count": null,
      "outputs": []
    },
    {
      "cell_type": "markdown",
      "metadata": {
        "id": "iiqjuLw6prZN"
      },
      "source": [
        "# Sentencias if-else\n",
        "\n",
        "Solo puede haber una unica sentencia \"else\" para sentencia de \"if\""
      ]
    },
    {
      "cell_type": "code",
      "metadata": {
        "id": "93pRxOR1w8xX"
      },
      "source": [
        "page(8)"
      ],
      "execution_count": null,
      "outputs": []
    },
    {
      "cell_type": "code",
      "metadata": {
        "id": "Lan4-L0Mq6FT"
      },
      "source": [
        "#Ejemplo de sentencias if-else\n",
        "x = 10\n",
        "if x%5 == 0:\n",
        "  print(\"x es un multiplo de 5\")\n",
        "else: \n",
        "  print(\"x no es un multiplo de 5\")\n",
        "\n",
        "y = 11\n",
        "if y%5 == 0:\n",
        "  print(\"y es un multiplo de 5\")\n",
        "else: \n",
        "  print(\"y no es un multiplo de 5\")"
      ],
      "execution_count": null,
      "outputs": []
    },
    {
      "cell_type": "markdown",
      "metadata": {
        "id": "T6aJUuFasB9K"
      },
      "source": [
        "# **Assignment #3**\n",
        "\n",
        "1. Crea una variable: x \n",
        "2. Escribe un programa: cuando una variable es divisible entre 3, escribe \"El valor de la variable es divisible entre 3\"\n",
        "3. De otro modo, escibe \"El valor de la variable no es divisible entre 3\"\n",
        "\n",
        "Por ejempo:\n",
        "*   23 no es divisible entre 3\n",
        "*   15 es divisible entre 3\n",
        "\n",
        "\n"
      ]
    },
    {
      "cell_type": "code",
      "metadata": {
        "id": "X4dIWwPUrsUF"
      },
      "source": [
        "# **Actividad #3**\n",
        "#1. Crea una variable: x \n",
        "#2. Escribe un programa: cuando una variable es divisible entre 3, \n",
        "#   imprime \"El valor de la variable es divisible entre 3\"\n",
        "#3. De otro modo, escibe \"El valor de la variable no es divisible entre 3\"\n",
        "\n",
        "#TODO"
      ],
      "execution_count": null,
      "outputs": []
    },
    {
      "cell_type": "markdown",
      "metadata": {
        "id": "A1TgD4NIs9-A"
      },
      "source": [
        "# Sentencias \"elif\"\n",
        "Las sentencias \"elif\" buscan condiciones verdaderas\n",
        "<br>\n",
        "Si una sentencia \"if\" es falsa, una sentencia \"elif\" busca otras posibles condiciones verdaderas\n"
      ]
    },
    {
      "cell_type": "code",
      "metadata": {
        "id": "i7hk7LxD3nZt"
      },
      "source": [
        "page(9)"
      ],
      "execution_count": null,
      "outputs": []
    },
    {
      "cell_type": "code",
      "metadata": {
        "id": "KXlh28TStl4r"
      },
      "source": [
        "#Ejemplo de una sentencia elif\n",
        "\n",
        "name = 'Hari'\n",
        "\n",
        "if name ==  \"Hari\":\n",
        "  print(\"Es es la casa de Hari\") \n",
        "elif name == \"Catherine\": \n",
        "  print(\"Esta es la casa de Catherine\")\n",
        "print(\"Fin\")"
      ],
      "execution_count": null,
      "outputs": []
    },
    {
      "cell_type": "markdown",
      "metadata": {
        "id": "uTTIKRt4qI3_"
      },
      "source": [
        "# **Actividad #4**\n",
        "Crea un programa que haga lo siguiente: <br>\n",
        "1. Indica al usuario que introduza una vocal (a,e,i,o,u)<br>\n",
        "2. Si una variable es una a, imprime \"es una a\" y cambia el valor de la variable a \"e\", e imprime \"ahora es una e\"<br>\n",
        "    si la variable es una e, imprime \"es una e\" y cambia el valor de la variable a \"i\", e imprime \"ahora es una i\"<br>\n",
        "    si la variable es una i, imprime \"es una i\" y cambia el valor de la variable a \"o\", e imprime \"ahora es una o\"<br>\n",
        "    si la variable es una o, imprime \"es una o\" y cambia el valor de la variable a \"u\", e imprime \"ahora es una u\"<br>\n",
        "    si la variable es una u, imprime \"es una u\" y cambia el varlor de la variable a \"a\", e imprime \"ahora es una a\"<br>\n",
        "    <br>\n",
        "    \n",
        "En otras palabras: <br>\n",
        "  a --> e<br>\n",
        "  e --> i<br>\n",
        "  i --> o<br>\n",
        "  o --> u<br>\n",
        "  u --> a<br>\n",
        "\n",
        "\n",
        "Puedes asingar los valores de la variable en programa u obtener un input del usuario. <br>\n",
        "Pide el input del usuario. Los inputs seran asignados como strings<br>\n",
        "El codigo para los inputs de usuario:<br>\n",
        "letter1 = input(\"letter1 =  \")\n"
      ]
    },
    {
      "cell_type": "code",
      "metadata": {
        "id": "njYgeemfOTIl"
      },
      "source": [],
      "execution_count": null,
      "outputs": []
    },
    {
      "cell_type": "markdown",
      "metadata": {
        "id": "k-5vUg7p4AV_"
      },
      "source": [
        "\n",
        "# Sentencias \"else\" despues de sentencias \"elif\""
      ]
    },
    {
      "cell_type": "markdown",
      "metadata": {
        "id": "xVn2J53ub7rw"
      },
      "source": [
        "\n",
        "Una sentencia \"else\" es la accion por defecto si ninguna otra accion es tomada."
      ]
    },
    {
      "cell_type": "code",
      "metadata": {
        "id": "QvkzTpTFFn0I"
      },
      "source": [
        "page(3)"
      ],
      "execution_count": null,
      "outputs": []
    },
    {
      "cell_type": "code",
      "metadata": {
        "id": "yWZ0758ab-e7"
      },
      "source": [
        "#Ejemplo de una sentencia \"else/elif\"\n",
        "x = \"Esta es mi casa\"\n",
        "\n",
        "if x == \"Esta no es mi casa\": \n",
        "  print(\"No es mi casa\")\n",
        "elif x == \"Esta es la casa de Catherine\": \n",
        "  print(\"Casa de Catherine\")\n",
        "elif x == \"Esta es la casa de Hari\":\n",
        "  print(\"Casa de Hari\")\n",
        "else: \n",
        "    print(\"Esta debe de ser mi casa\")"
      ],
      "execution_count": null,
      "outputs": []
    },
    {
      "cell_type": "markdown",
      "metadata": {
        "id": "O5uCVc-ScFSC"
      },
      "source": [
        "# **Actividad #5**\n",
        "Crea un programa que haga lo siguiente: <br>\n",
        "\n",
        "Indica al usuario que introduzca un numero entre 1-10<br>\n",
        "\n",
        "*   Si el numero es igual a 5, imprime \"es 5\"\n",
        "*   Si el numero es igua a 4, imprime \"es 4\"\n",
        "*   Si el numero es mayor que 10, imprime \"mayor que 10\"\n",
        "*   Si el numero es menor que 3, imprime \"menor que 3\"\n",
        "*   De otro modo, imprime \"es un 6,7,8, o 9\"\n"
      ]
    },
    {
      "cell_type": "code",
      "metadata": {
        "id": "j5kqA5Hdp5W9"
      },
      "source": [
        "#  **Actividad #5**\n",
        "#Crea un programa que haga lo siguiente:\n",
        "#   Indica al usuario que introduzca un numero entr 1-10\n",
        "#   If the number is equal to 5, print \"it's 5\"\n",
        "#   Si el numero es igual a 5, imprime \"es 5\"\n",
        "#   Si el numero es igua a 4, imprime \"es 4\"\n",
        "#   Si el numero es mayor que 10, imprime \"mayor que 10\"\n",
        "#   Si el numero es menor que 3, imprime \"menor que 3\"\n",
        "#   De otro modo, imprime \"es un 6,7,8, o 9\"\n",
        "\n",
        "#TODO"
      ],
      "execution_count": null,
      "outputs": []
    },
    {
      "cell_type": "markdown",
      "metadata": {
        "id": "CENn0_BVIiK3"
      },
      "source": [
        "# Quiz\n",
        "\n",
        "Pon aprueba tus habilidades en Python con este quiz "
      ]
    },
    {
      "cell_type": "code",
      "metadata": {
        "id": "oacDfJIbOdiZ"
      },
      "source": [
        "page(5)"
      ],
      "execution_count": null,
      "outputs": []
    },
    {
      "cell_type": "code",
      "metadata": {
        "id": "OyO_zm60PDZe"
      },
      "source": [
        "#@title Q1: Cual es la salida del siguiente codigo? \n",
        "\n",
        "text = '' #@param {type:\"string\"}\n",
        "text = text.lower()\n",
        "if text == \"Hola\" or text == \"Hola!\" :\n",
        "  print(\"Correcto!\")\n",
        "else:\n",
        "  print(\"Intenta de nuevo\")\n",
        "  print(\"Recuerda, la primera sentencia verdadera es ejecutada\")\n"
      ],
      "execution_count": null,
      "outputs": []
    },
    {
      "cell_type": "code",
      "metadata": {
        "id": "tVKayVozUKHQ"
      },
      "source": [
        "page(6)"
      ],
      "execution_count": null,
      "outputs": []
    },
    {
      "cell_type": "code",
      "metadata": {
        "id": "vbHmtpZuUUrq"
      },
      "source": [
        "#@title Q2: Cual sera la salida del siguiente codigo? \n",
        "\n",
        "text = '3' #@param {type:\"string\"}\n",
        "text = text.lower()\n",
        "if text == \"grande\":\n",
        "  print(\"correcto!\")\n",
        "else:\n",
        "  print(\"Intenta de nuevo\")\n",
        "  print(\"Recuerda, la primera sentencia verdadera es ejecutda. \")\n"
      ],
      "execution_count": null,
      "outputs": []
    },
    {
      "cell_type": "markdown",
      "metadata": {
        "id": "Peh8gbcS6pcB"
      },
      "source": [
        "# Ejercicio de Debugging \n",
        "El siguiente codigo contiene varios errores. Tu actividad será arreglar los errores y ejecutar el codigo. "
      ]
    },
    {
      "cell_type": "code",
      "metadata": {
        "id": "7nDKWOI26wAS"
      },
      "source": [
        "coursework = \"Ingles\"\n",
        "score_theory = 53\n",
        "score_practical = 35\n",
        "\n",
        "if(coursework = \"Ciencia\" or coursework == \"ciencia\")\n",
        "    if(score_theory > 50\n",
        "        print(\"Por favor revisa la calificacion introducidad para 'Ciencias: Teoria'\")\n",
        "    elsif(score_practical > 50)\n",
        "            print(Por favor revisa la calificacion introducida para 'Ciencias: Practica'.)  \n",
        "    else\n",
        "        print(Calificacion \"validada para ciencia. Tu total es de: \", score_theory + score_practical)             \n",
        "elfi(coursework == \"Ingles\" or coursework == \"ingles\")\n",
        "    if(score_Theory > 60):\n",
        "        print(\"Por favor, revisa la calificacion introducida para 'Ingles: Teoria'.\"):\n",
        "    else(score_practical > 40):\n",
        "            print(\"Por favor, revisa la calificacion introducida para 'Ingles: Practica'.\")  \n",
        "    else:\n",
        "        prnit(\"Calificacion validad para Ingles. Su total es de: \",score_theory + score_practical)\n",
        "else print(\"Curso no reconocido. Por favor, introduzca una calificacion para Ciencias o Ingles\")"
      ],
      "execution_count": null,
      "outputs": []
    },
    {
      "cell_type": "markdown",
      "metadata": {
        "id": "Cgh9GQP08IwY"
      },
      "source": [
        "# Actividad #6\n"
      ]
    },
    {
      "cell_type": "code",
      "metadata": {
        "id": "pHqr0wR58O6G"
      },
      "source": [
        "page(10)"
      ],
      "execution_count": null,
      "outputs": []
    },
    {
      "cell_type": "code",
      "metadata": {
        "id": "fEIneKq8CuRh"
      },
      "source": [
        "#Actividad 6\n",
        "#TODO"
      ],
      "execution_count": null,
      "outputs": []
    },
    {
      "cell_type": "code",
      "metadata": {
        "id": "89_W9kUs-NJ6"
      },
      "source": [
        "#@title Solucion de muestra\n",
        "a = 10\n",
        "b = 20\n",
        "c = 30\n",
        "\n",
        "avg = (a + b + c) / 3\n",
        "print(\"promedio =\", avg)\n",
        "\n",
        "if avg > a and avg > b and avg > c:\n",
        "    print(avg,\" es mayor que a, b, c\")\n",
        "elif avg > a and avg > b:\n",
        "    print(avg,\" es mayor que \", a, b)\n",
        "elif avg > a and avg > c:\n",
        "    print(avg,\" es mayor que \", a, c)\n",
        "elif avg > b and avg > c:\n",
        "    print(avg,\"  es mayor que \", b, c)\n",
        "elif avg > a:\n",
        "    print(avg, \" solo es mayor que \", a)\n",
        "elif avg > b:\n",
        "    print(avg, \" solo es mayor que \", b)\n",
        "elif avg > c:\n",
        "    print(avg,\" solo es mayor que \", c)"
      ],
      "execution_count": null,
      "outputs": []
    },
    {
      "cell_type": "markdown",
      "metadata": {
        "id": "idfrTqUgxNHw"
      },
      "source": [
        "\n",
        "# Concepto retador: Sentencias \"if\" anidadas\n",
        "A veces puedes querer revisar una condicion despues de haber cumplido otra condicion <br>\n",
        "Por ejemplo: <br>\n",
        "1. ¿Es una variable menor que 100?<br>\n",
        "   2. ¿La variable es un numero par? <br>\n",
        "      3. ¿La variable es mayor que 20?<br>\n",
        "\n",
        "\n",
        "\n"
      ]
    },
    {
      "cell_type": "code",
      "metadata": {
        "id": "rTbDT49HyQqt"
      },
      "source": [
        "#Ejempo de setencias if anidadas\n",
        "variable1 = 110\n",
        "\n",
        "print(variable1, \" es \")\n",
        "if variable1 < 100:\n",
        "  #print(\"menor\")\n",
        "  if variable1 % 2 == 0:\n",
        "    print(\"par\")\n",
        "    if variable1 > 20:\n",
        "      print(\"par y esta entre 100 and 20 \")\n",
        "    else:\n",
        "      print(\"par y menor que 20\")\n",
        "  else:\n",
        "    print(\"impar y menor que 100\")\n",
        "else: \n",
        "  print(\"mayor que 100\")\n",
        "\n"
      ],
      "execution_count": null,
      "outputs": []
    },
    {
      "cell_type": "markdown",
      "metadata": {
        "id": "VjL7cUfiVslu"
      },
      "source": [
        "# **Actividad #7**\n",
        "\n",
        "Ejecuta un programa que realice las siguientes tareas: \n",
        "<br>\n",
        "1. Si la variable esta entre 100 y 200, y es impar, imprime \"un impar 100-200\"\n",
        "2. Si la variable esta entre 100 y 200, y es par; imprime \"un par 100-200\"\n",
        "3. Si la variable es menor que 100, imprime \"muy pequeño\"\n",
        "4. Si la variable es mayor que 200, imprime \"muy grande\""
      ]
    },
    {
      "cell_type": "code",
      "metadata": {
        "id": "M7tjHyg_Wd9g"
      },
      "source": [
        "#Actividad #7\n",
        "\n",
        "#TODO"
      ],
      "execution_count": null,
      "outputs": []
    },
    {
      "cell_type": "markdown",
      "metadata": {
        "id": "bXOUBGlyn6cZ"
      },
      "source": [
        "\n",
        "¡Felicidades! Has terminado otro Modulo de Python.\n",
        "Continua con el buen trabajo...empieza el siguiente modulo\n",
        "\n",
        "C3 Introduccion a Programacion de ML con Python\n",
        "<br><br>\n",
        "Instrucciones para acceder a los notebooks:<br> \n",
        "\n",
        "En una ventana de Chrome o Firefox introduce en la barra de busqueda: **Google CoLab**<br>\n",
        "\n",
        "En la barra del menu naranaja, selecciona el opcino del menu: **GITHUB**<br>\n",
        "\n",
        "Si el pop-up naranja no aparece, en el entorno del Notebook, seleciona File>Open notebook (Archivo>Abrir notebook)<br>\n",
        "\n",
        "El pop-up naranaja ahora deberia aparecer <br>\n",
        "\n",
        "Selecciona:  GITHUB<br>\n",
        "\n",
        "En la barra de busqueda escribe en: **cagBRT** . Esto te llevara al repositorio de GitHub <br>\n",
        "\n",
        "En el menu desplegable seleciona: cagBRT/**Intro-To-Programming-with-Python**<br>\n",
        "\n",
        "Luego selecciona: **Intro to C3 Intro to Python.ipynb**<br>"
      ]
    }
  ]
}