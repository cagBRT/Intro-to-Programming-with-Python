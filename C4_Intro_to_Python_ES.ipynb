{
  "nbformat": 4,
  "nbformat_minor": 0,
  "metadata": {
    "colab": {
      "private_outputs": true,
      "provenance": [],
      "include_colab_link": true
    },
    "kernelspec": {
      "name": "python3",
      "display_name": "Python 3"
    }
  },
  "cells": [
    {
      "cell_type": "markdown",
      "metadata": {
        "id": "view-in-github",
        "colab_type": "text"
      },
      "source": [
        "<a href=\"https://colab.research.google.com/github/cagBRT/Intro-to-Programming-with-Python/blob/master/C4_Intro_to_Python_ES.ipynb\" target=\"_parent\"><img src=\"https://colab.research.google.com/assets/colab-badge.svg\" alt=\"Open In Colab\"/></a>"
      ]
    },
    {
      "cell_type": "code",
      "metadata": {
        "id": "wzaZwT_u5LIM"
      },
      "source": [
        "# Clona el repo\n",
        "!git clone -l -s https://github.com/cagBRT/Intro-to-Programming-with-Python.git cloned-repo\n",
        "%cd cloned-repo"
      ],
      "execution_count": null,
      "outputs": []
    },
    {
      "cell_type": "markdown",
      "metadata": {
        "id": "0LCJUYrC7uI7"
      },
      "source": [
        "# For Loops / Bucles For\n",
        "\n",
        "Hay momentos en los cuales podrías querer efecturar la misma tarea multiples veces. En vez de escribir el codigo una y otra vez, puedes usar un bucle \"for\" o \"for loop\".\n"
      ]
    },
    {
      "cell_type": "markdown",
      "source": [
        "![picture](https://github.com/cagBRT/Intro-to-Programming-with-Python/blob/master/c4-content/c4PythonProgramming1.png?raw=1)"
      ],
      "metadata": {
        "id": "6vYXCkQdvR6n"
      }
    },
    {
      "cell_type": "markdown",
      "source": [
        "![picture](https://github.com/cagBRT/Intro-to-Programming-with-Python/blob/master/c4-content/c4PythonProgramming2.png?raw=1)"
      ],
      "metadata": {
        "id": "jf0NqZDGvTyf"
      }
    },
    {
      "cell_type": "markdown",
      "metadata": {
        "id": "_2uXQpJoA7Vq"
      },
      "source": [
        "Un bucle \"for\" en python tiene la forma:\n",
        "\n",
        "**for** variable_iterativa **in** secuencia: <br>\n",
        ">   instruccion(es)\n"
      ]
    },
    {
      "cell_type": "code",
      "metadata": {
        "id": "fHRltgUW-LKD"
      },
      "source": [
        "for letter in 'Python':\n",
        "   print ('Letra actual : ', letter)"
      ],
      "execution_count": null,
      "outputs": []
    },
    {
      "cell_type": "markdown",
      "metadata": {
        "id": "XO9aI9ngBLgV"
      },
      "source": [
        "# **Actividad #1**\n",
        "\n",
        "Escribe un programa que haga lo siguiente:\n",
        "1. Por cada letra de tu nombre, usa un bucle \"for\" para:\n",
        "\n",
        "  >print(\"La letra es \", letra)"
      ]
    },
    {
      "cell_type": "code",
      "metadata": {
        "id": "RSuvbTg3-LL5"
      },
      "source": [
        "#Actividad #1\n",
        "\n",
        "#TODO"
      ],
      "execution_count": null,
      "outputs": []
    },
    {
      "cell_type": "markdown",
      "metadata": {
        "id": "eqMpJh59SXG_"
      },
      "source": [
        "**Los bucles for pueden ser usados con numeros**"
      ]
    },
    {
      "cell_type": "code",
      "metadata": {
        "id": "W3hJkCzVSujN"
      },
      "source": [
        "#ejemplo de for loop / bucle for\n",
        "for x in range(6):\n",
        "  print(x)"
      ],
      "execution_count": null,
      "outputs": []
    },
    {
      "cell_type": "markdown",
      "metadata": {
        "id": "JqXaUNuOTqFE"
      },
      "source": [
        "# **Actividad #2**\n",
        "Usa un bucle \"for\" para imprimir los enteros de 0 - 9"
      ]
    },
    {
      "cell_type": "code",
      "metadata": {
        "id": "q4P23vXcT8Qx"
      },
      "source": [
        "# **Actividad #2**\n",
        "\n",
        "#TODO"
      ],
      "execution_count": null,
      "outputs": []
    },
    {
      "cell_type": "markdown",
      "metadata": {
        "id": "oyHqUKKOUK7I"
      },
      "source": [
        "\n",
        "**Es posible asignarle un rango y un valor de incremento a los bucles for**"
      ]
    },
    {
      "cell_type": "code",
      "metadata": {
        "id": "kv5ypFUlVQZk"
      },
      "source": [
        "#Ejemplo de un bucle for con rango\n",
        "#y valor de incremento\n",
        "\n",
        "#Imprime cada 5to entero de 10 - 50\n",
        "for x in range(10,50,5):\n",
        "  print(x)"
      ],
      "execution_count": null,
      "outputs": []
    },
    {
      "cell_type": "markdown",
      "metadata": {
        "id": "3F3n77FhVhxg"
      },
      "source": [
        "# **Actividad #3<br>**\n",
        "\n",
        "Usa un bucle \"for\" para imprimer cada tercer entero desde 30 hasta 60, incluyendo este"
      ]
    },
    {
      "cell_type": "code",
      "metadata": {
        "id": "z0B34x0SV6Xo"
      },
      "source": [
        "#Actividad #3\n",
        "\n",
        "#TODO\n"
      ],
      "execution_count": null,
      "outputs": []
    },
    {
      "cell_type": "markdown",
      "metadata": {
        "id": "lSotk3Z0pKde"
      },
      "source": [
        "**Ejercicio de debug**<br>\n",
        "Arregla el codigo de abajo"
      ]
    },
    {
      "cell_type": "code",
      "metadata": {
        "id": "8Vn5pqiOo5JW"
      },
      "source": [
        "for x in range(10, 20.5, 2.5):\n",
        "  print(x)"
      ],
      "execution_count": null,
      "outputs": []
    },
    {
      "cell_type": "markdown",
      "metadata": {
        "id": "nOUJULL8V-jm"
      },
      "source": [
        "**Usando una sentencia \"else\" con un bucle \"for\"**<br>\n",
        "\n",
        "Una sentencia \"else\" puede ser usada junto con un bucle for<br>\n",
        "El ejemplo de abajo usa una sentencia else, pero no es un buen ejemplo ¿Por qué?"
      ]
    },
    {
      "cell_type": "code",
      "metadata": {
        "id": "Xx2ZI6ZKWoCR"
      },
      "source": [
        "for number in range(5):\n",
        "  print(number)\n",
        "else:\n",
        "  print(\"Done\")"
      ],
      "execution_count": null,
      "outputs": []
    },
    {
      "cell_type": "markdown",
      "metadata": {
        "id": "jEWAsF6DjIP3"
      },
      "source": [
        "\n",
        "Un mejor ejemplo usando una sentencia \"else\" con un bucle for:"
      ]
    },
    {
      "cell_type": "code",
      "metadata": {
        "id": "iQ1GWqpkjfuo"
      },
      "source": [
        "number_of_a = 0\n",
        "number_of_others = 0\n",
        "sentence = \"Voy a hacerle una oferta que no pueda rechazar\"\n",
        "for x in sentence:\n",
        "  if x== 'a':\n",
        "    number_of_a  = number_of_a  + 1\n",
        "  else:\n",
        "    number_of_others = number_of_others + 1\n",
        "print(\"Hay \", number_of_a, \"a's en esta oracion\")\n",
        "print(\"Hay \", number_of_others, \"otros caracteres\")"
      ],
      "execution_count": null,
      "outputs": []
    },
    {
      "cell_type": "markdown",
      "metadata": {
        "id": "Fssiz_Mkb89W"
      },
      "source": [
        "# **Acitividad #4**\n",
        "\n",
        "Modifica el codigo para imprimir el numero total de caracteres en la oracion\n"
      ]
    },
    {
      "cell_type": "code",
      "metadata": {
        "id": "A9s7JZH6cK8A"
      },
      "source": [
        "#Actividad #4\n",
        "\n"
      ],
      "execution_count": null,
      "outputs": []
    },
    {
      "cell_type": "markdown",
      "metadata": {
        "id": "W849Ytrfpe1L"
      },
      "source": [
        "# **Actividad #5**\n",
        "1. Imprime los caracteres en esta oracion:\n",
        ">The rain in Spain falls mainly in the plain.\n",
        "2. Cuenta todas las letras, ignorando los espacios en blanco\n",
        "3. Imprime el numero de letras en la oracion"
      ]
    },
    {
      "cell_type": "code",
      "metadata": {
        "id": "T-xIFEdsp7Nn"
      },
      "source": [
        "#Actividad 5\n",
        "\n",
        "#TODO\n"
      ],
      "execution_count": null,
      "outputs": []
    },
    {
      "cell_type": "markdown",
      "metadata": {
        "id": "zGbaj0YSbPtY"
      },
      "source": [
        "# **Quiz**"
      ]
    },
    {
      "cell_type": "code",
      "metadata": {
        "id": "E2x_KYAMc3VC"
      },
      "source": [
        "page(5)"
      ],
      "execution_count": null,
      "outputs": []
    },
    {
      "cell_type": "code",
      "metadata": {
        "id": "IrIOe6N3dOHg",
        "cellView": "form"
      },
      "source": [
        "#@title Q1\n",
        "variable_name = \"Multiplos de tres\" #@param [\"Cada tercer numero dentro de scores\", \"Multiplos de tres\", \"Nada, hay un error en el codigo\", \"Nada, ninguno de los valores de scores satisface el condicional\"]\n",
        "if(variable_name == \"Multiplos de tres\"):\n",
        "  print(\"Correcto\")\n",
        "else:\n",
        "  print(\"Intenta de nuevo\")"
      ],
      "execution_count": null,
      "outputs": []
    },
    {
      "cell_type": "markdown",
      "metadata": {
        "id": "pF9JO7rup_G3"
      },
      "source": [
        "**Ejercicio de debug**\n",
        "Arregla el codigo de abajo\n"
      ]
    },
    {
      "cell_type": "code",
      "metadata": {
        "id": "JFkydWANqFUV"
      },
      "source": [
        "vowel_counts = {}\n",
        "count = 0\n",
        "\n",
        "sentence = \"El veloz zorro cafe salta sobre un perro flojo\"\n",
        "for letter in sentence:\n",
        "  letter = letter.lower()\n",
        "  if vowel in \"aeiou\":\n",
        "    count = count + 1\n",
        "    vowel_counts[count] = vowel\n",
        "else:\n",
        "  print(\"\\n\",vowel_counts)"
      ],
      "execution_count": null,
      "outputs": []
    },
    {
      "cell_type": "markdown",
      "metadata": {
        "id": "VVKbTP32qeZA"
      },
      "source": [
        "# **Actividad #6**\n",
        "1. Crea una lista con las siguientes palabras:\n",
        ">perro, gato, conejo, cabra, vaca, jirafa, cerdo, pollo\n",
        "2. Cuenta todos los animales en la lista\n",
        "3. Si la palabra \"jirafa\" esta en la lista, imprime \"La jirafa no esta domesticada!\"\n",
        "\n"
      ]
    },
    {
      "cell_type": "code",
      "metadata": {
        "id": "GO8VmfkWmgPo"
      },
      "source": [
        "#Actividad #6\n"
      ],
      "execution_count": null,
      "outputs": []
    },
    {
      "cell_type": "markdown",
      "metadata": {
        "id": "kuIHQNrZmm0D"
      },
      "source": [
        "**La sentencia \"pass\"**\n",
        "\n",
        "Cuando se entra en una condicion externa, la sentencia de \"pass\" permite manejar dicha condicion sin que el loop se vea afectado de alguna forma; todo el codigo seguira siendo leido a menos que un \"break\" u otra sentencia ocurra.\n",
        "\n",
        "La sentencia pass puede funcionar como placeholder(algo que toma el lugar de otra instruccion) cuando se esta trabajando en nuevo codigo y se piensa a un nivel algoritmico antes de entrar en detalles"
      ]
    },
    {
      "cell_type": "code",
      "metadata": {
        "id": "fUct8_ytbje7"
      },
      "source": [
        "#Ejemplo de condigo usando PASS\n",
        "number = 0\n",
        "\n",
        "for number in range(10):\n",
        "    if number == 5:\n",
        "        pass    # pass aqui\n",
        "    print('Number is ' + str(number))\n",
        "print('Out of loop')\n"
      ],
      "execution_count": null,
      "outputs": []
    },
    {
      "cell_type": "code",
      "metadata": {
        "id": "TIvjpmGTmnAQ"
      },
      "source": [
        "#example of a pass statement\n",
        "for i in range(20, 30):\n",
        "  pass\n",
        "print(\"done\")"
      ],
      "execution_count": null,
      "outputs": []
    },
    {
      "cell_type": "code",
      "metadata": {
        "id": "BLEeJsBIwC6n"
      },
      "source": [
        "#Ejemplo de la sentencia pass\n",
        "sentence = \"They call him the Spaniard\"\n",
        "count_l = 0\n",
        "count_t = 0\n",
        "\n",
        "for letter in sentence:\n",
        "  if letter == \"l\":\n",
        "    count_l = count_l + 1\n",
        "  elif letter == \"t\":\n",
        "    count_t = count_t + 1\n",
        "  else:\n",
        "    pass\n",
        "print(\"numero de ls = \", count_l)\n",
        "print(\"numero de ts = \", count_t)\n",
        "\n"
      ],
      "execution_count": null,
      "outputs": []
    },
    {
      "cell_type": "markdown",
      "metadata": {
        "id": "Y1WmnT_gxjjb"
      },
      "source": [
        "\n",
        "El conteo del numero de \"t\"s es incorrecto. Hay 2 \"t\". ¿Que ha pasado?\n"
      ]
    },
    {
      "cell_type": "markdown",
      "metadata": {
        "id": "YBcl5OQSx8iG"
      },
      "source": [
        "# **Actividad #7**\n",
        "Crea una variable que contenga: <br>\n",
        ">\"Four score and seven years ago our fathers brought forth on this continent, a new nation, conceived in Liberty, and dedicated to the proposition that all men are created equal.\n",
        "\n",
        ">Now we are engaged in a great civil war, testing whether that nation, or any nation so conceived and so dedicated, can long endure. We are met on a great battle-field of that war. We have come to dedicate a portion of that field, as a final resting place for those who here gave their lives that that nation might live. It is altogether fitting and proper that we should do this.\"\n",
        "\n",
        "Cuenta las veces que la palabra\"we\" se encuentra en la variable del string. <br><br>\n",
        "\n",
        "FYI: alguien lo hizo con 2 lineas de codigo."
      ]
    },
    {
      "cell_type": "code",
      "metadata": {
        "id": "c-78pBrhzI2A"
      },
      "source": [
        "address = (\"Four score and seven years ago our fathers brought forth \" +\n",
        "          \"on this continent, a new nation, conceived in Liberty,\" +\n",
        "          \" and dedicated to the proposition that all men are created\" +\n",
        "          \" equal.Now we are engaged in a great civil war, testing\" +\n",
        "          \" whether that nation, or any nation so conceived and so \" +\n",
        "          \"dedicated, can long endure. We are met on a great \" +\n",
        "          \"battle-field of that war. We have come to dedicate a portion\" +\n",
        "          \" of that field, as a final resting place for those who here\" +\n",
        "          \" gave their lives that that nation might live. It is \" +\n",
        "          \"altogether fitting and proper that we should do this.\")\n",
        "\n",
        ""
      ],
      "execution_count": null,
      "outputs": []
    },
    {
      "cell_type": "markdown",
      "metadata": {
        "id": "J8wHx6KkZe-P"
      },
      "source": [
        "# **Actividad #8**\n",
        "\n",
        "Encuentra todos los numeros entre 1000 y 3000 (incluyendolos) que sean divisibles tanto por 5 como por 9"
      ]
    },
    {
      "cell_type": "code",
      "metadata": {
        "id": "HoqVdQUXZyjS"
      },
      "source": [
        "#Actividad #8\n"
      ],
      "execution_count": null,
      "outputs": []
    },
    {
      "cell_type": "markdown",
      "metadata": {
        "id": "Kmq4TbxKZ1tT"
      },
      "source": [
        "# **Actividad #9**\n",
        "1. Encuentra todos los numeros entre 0-100 (incluyendolos) que sean multiplos de 3.\n",
        ">Reemplaza el numero con la palabra FIZZ.\n",
        "2. Encuentra todos los numeros entre 0 - 100 (incluyendolos) que sean multiplos de 7.<br>\n",
        ">Remplaza elnumero con la palabras BUZZ\n",
        "3. Encuentra todos los numeros entre 0 - 100 (inclusive) que sean multiplos de 3 and 7. <br>\n",
        ">Remplaza el numero con la palabra FIZZBUZZ"
      ]
    },
    {
      "cell_type": "markdown",
      "metadata": {
        "id": "EFjNl3uIccTI"
      },
      "source": [
        "**Bucles for anidados**\n",
        "\n",
        "Los bucles anidados son utiles cuando por cada iteracion dentro del bucle externo, necesitas repetir alguna accion en los datos del bucle externo."
      ]
    },
    {
      "cell_type": "code",
      "metadata": {
        "id": "j2ro8TMKcrtX"
      },
      "source": [
        "n=5;\n",
        "#Crea i renglones\n",
        "for i in range(n):\n",
        "    #Por cada renglon, agrega otro caracter\n",
        "    for j in range(i):\n",
        "        print ('j ', end=\"\")\n",
        "    print('')"
      ],
      "execution_count": null,
      "outputs": []
    },
    {
      "cell_type": "markdown",
      "metadata": {
        "id": "75B_GA0rd7xw"
      },
      "source": [
        "# **Actividad #10**\n",
        "Usa un bucle for anidado para crear la siguiente forma:\n",
        "\n",
        "\n",
        "bbbbbbbbbb<br>\n",
        "bbbbbbbbb<br>\n",
        "bbbbbbbb<br>\n",
        "bbbbbbb<br>\n",
        "bbbbbb<br>\n",
        "bbbbb<br>\n",
        "bbbb<br>\n",
        "bbb<br>\n",
        "bb<br>\n",
        "b<br>"
      ]
    },
    {
      "cell_type": "code",
      "metadata": {
        "id": "0_veLUoolkyl"
      },
      "source": [
        "#Actividad #10"
      ],
      "execution_count": null,
      "outputs": []
    },
    {
      "cell_type": "markdown",
      "metadata": {
        "id": "3AE4EsQYl_43"
      },
      "source": [
        "# **Actividad #11**\n",
        "\n",
        "1. Escribe un programa que tome 2 digitos, m y n, del usuario\n",
        "2. Create a two dimensional list matrix[m][n]\n",
        "2. Crea una lista de 2 dimensiones matrix[m][n]\n",
        "3. Cada valor de matrix[m][n] debera ser m*n en ese posicion.\n",
        "\n",
        "Por ejemplo: <br>\n",
        "m = 4<br>\n",
        "n = 2<br>\n",
        "\n",
        "matrix[0][0] = 0<br>\n",
        "matrix[0][1] = 0<br>\n",
        "\n",
        "matrix[1][0] = 0<br>\n",
        "matrix[1][1] = 1<br>\n",
        "\n",
        "matrix[2][0] = 0<br>\n",
        "matrix[2][1] = 2<br>\n",
        "\n",
        "matrix[3][0] = 0<br>\n",
        "matrix[3][1] = 3<br>\n",
        "\n",
        "[0,0],[0,1],[0,2],[0,3]"
      ]
    },
    {
      "cell_type": "code",
      "metadata": {
        "id": "-ud3du8ynZ8s"
      },
      "source": [
        "#Actividad #11"
      ],
      "execution_count": null,
      "outputs": []
    },
    {
      "cell_type": "markdown",
      "metadata": {
        "id": "8_EVyrLYY1G5"
      },
      "source": [
        "# **Actividad #12**\n",
        "Encuentra todas las palabras con mas de 3 letras en el siguiente texto\n",
        "\n",
        "(Yo conté 159)\n",
        "\n",
        "Four score and seven years ago our fathers brought forth on this continent, a new nation, conceived in Liberty, and dedicated to the proposition that all men are created equal.\n",
        "\n",
        "Now we are engaged in a great civil war, testing whether that nation, or any nation so conceived and so dedicated, can long endure. We are met on a great battle-field of that war. We have come to dedicate a portion of that field, as a final resting place for those who here gave their lives that that nation might live. It is altogether fitting and proper that we should do this.\n",
        "\n",
        "But, in a larger sense, we can not dedicate -- we can not consecrate -- we can not hallow -- this ground. The brave men, living and dead, who struggled here, have consecrated it, far above our poor power to add or detract. The world will little note, nor long remember what we say here, but it can never forget what they did here. It is for us the living, rather, to be dedicated here to the unfinished work which they who fought here have thus far so nobly advanced. It is rather for us to be here dedicated to the great task remaining before us -- that from these honored dead we take increased devotion to that cause for which they gave the last full measure of devotion -- that we here highly resolve that these dead shall not have died in vain -- that this nation, under God, shall have a new birth of freedom -- and that government of the people, by the people, for the people, shall not perish from the earth.<br><br>\n",
        "\n",
        "Pistas: <br>\n",
        "1. Usa \"\"\" (triples comillas dobles) al inicio y al final del texto para crear un string de varias lineas. <br>\n",
        "2. Usa la funcion split para separar el texto en palabras."
      ]
    },
    {
      "cell_type": "code",
      "metadata": {
        "id": "hH8MdgzHY452"
      },
      "source": [
        "#Assignment 12"
      ],
      "execution_count": null,
      "outputs": []
    },
    {
      "cell_type": "markdown",
      "metadata": {
        "id": "2t3PD1NvZAJi"
      },
      "source": [
        "# **Actividad #13**\n",
        "\n",
        "Encuentra todas las palabras unicas en el texto de la Actividad #12 (The Gettysburg Address).\n",
        "<br>\n",
        "Pista: <br>\n",
        "Usa la funcion \"set\" de Python<br>\n",
        "unique = set(text_in)"
      ]
    },
    {
      "cell_type": "code",
      "metadata": {
        "id": "zyRFn8jnY_rK"
      },
      "source": [
        "#Actividad 13\n"
      ],
      "execution_count": null,
      "outputs": []
    },
    {
      "cell_type": "markdown",
      "metadata": {
        "id": "8-EsABJmoZph"
      },
      "source": [
        "¡Felicidades! Haz terminado otro mdodulo de python. Continua con el buen trabajo . . . empieza el siguiente modulo:\n",
        "\n",
        "C5 Intro to ML Programming with Python\n",
        "<br><br>\n",
        "Instrucciones para acceder a los notebooks:\n",
        "En una ventana de Chrome o Firefox introduce en la barra de busqueda: Google CoLab\n",
        "\n",
        "En la barra del menu naranaja, selecciona el opcino del menu: GITHUB\n",
        "\n",
        "Si el pop-up naranja no aparece, en el entorno del Notebook, seleciona File>Open notebook (Archivo>Abrir notebook)\n",
        "\n",
        "El pop-up naranaja ahora deberia aparecer\n",
        "\n",
        "Selecciona: GITHUB\n",
        "\n",
        "En la barra de busqueda escribe en: cagBRT . Esto te llevara al repositorio de GitHub\n",
        "\n",
        "En el menu desplegable seleciona: cagBRT/Intro-To-Programming-with-Python\n",
        "\n",
        "Entonces selecciona: **Intro to C5 Intro to Python.ipynb**<br>"
      ]
    },
    {
      "cell_type": "code",
      "metadata": {
        "id": "Os5BzlJg92PA",
        "cellView": "form"
      },
      "source": [
        "#@title\n",
        "r = int(input(\"Ingresa el numero de filas :\"))\n",
        "c = int(input(\"Ingresa el numero de columnas :\"))\n",
        "\n",
        "a=[[0 for i in range(c)] for j in range(r)]\n",
        "print(a)\n",
        "\n",
        "for i in range(r):\n",
        "  for j in range(c):\n",
        "    a[i][j]=i*j\n",
        "print(a)"
      ],
      "execution_count": null,
      "outputs": []
    }
  ]
}