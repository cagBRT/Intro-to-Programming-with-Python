{
  "nbformat": 4,
  "nbformat_minor": 0,
  "metadata": {
    "colab": {
      "provenance": [],
      "private_outputs": true,
      "include_colab_link": true
    },
    "kernelspec": {
      "name": "python3",
      "display_name": "Python 3"
    }
  },
  "cells": [
    {
      "cell_type": "markdown",
      "metadata": {
        "id": "view-in-github",
        "colab_type": "text"
      },
      "source": [
        "<a href=\"https://colab.research.google.com/github/cagBRT/Intro-to-Programming-with-Python/blob/master/C6_Intro_to_Python_ES.ipynb\" target=\"_parent\"><img src=\"https://colab.research.google.com/assets/colab-badge.svg\" alt=\"Open In Colab\"/></a>"
      ]
    },
    {
      "cell_type": "code",
      "metadata": {
        "id": "GZ91CgKbAeXq"
      },
      "source": [
        "# Clona el repositiorio\n",
        "!git clone -l -s https://github.com/cagBRT/Intro-to-Programming-with-Python.git cloned-repo\n",
        "%cd cloned-repo\n",
        "!ls"
      ],
      "execution_count": null,
      "outputs": []
    },
    {
      "cell_type": "code",
      "metadata": {
        "id": "25-twnkSAiLT"
      },
      "source": [
        "from IPython.display import Image\n",
        "def page(num):\n",
        "    return Image(\"c6-content/c6PythonProgramming\"+str(num)+ \".png\" , width=640)"
      ],
      "execution_count": null,
      "outputs": []
    },
    {
      "cell_type": "markdown",
      "metadata": {
        "id": "ybjZc5f10yl3"
      },
      "source": [
        "# **Funciones**\n",
        "\n",
        "Una función es un bloque de código que solamente es ejecutado cuando es llamado.\n",
        "\n",
        "La ventaja de las funciones es que puedes llamarlas una y otra vez, y usarlas en diferentes programas."
      ]
    },
    {
      "cell_type": "code",
      "metadata": {
        "id": "8fJhi2-O0vqY"
      },
      "source": [
        "page(1)"
      ],
      "execution_count": null,
      "outputs": []
    },
    {
      "cell_type": "code",
      "metadata": {
        "id": "u2Is_pcSAwMn"
      },
      "source": [
        "page(2)"
      ],
      "execution_count": null,
      "outputs": []
    },
    {
      "cell_type": "markdown",
      "metadata": {
        "id": "fyVQeyFaAyn-"
      },
      "source": [
        "# **Creando una función**\n",
        "\n",
        "Es posible crear una función usando el siguiente formato: \n",
        ">def nombre_de_funcion():\n",
        "> > *//Código de la función*"
      ]
    },
    {
      "cell_type": "code",
      "metadata": {
        "id": "u1YlwGImBFXP"
      },
      "source": [
        "#Crea una sencilla funcion que imprime\n",
        "#una oracion cuando es llamada\n",
        "\n",
        "def print_function():\n",
        "  print(\"La funcion dice hola\")"
      ],
      "execution_count": null,
      "outputs": []
    },
    {
      "cell_type": "markdown",
      "metadata": {
        "id": "Oj_x-_VBBTu5"
      },
      "source": [
        "# **Llamada a Funcion**\n",
        "Llama a una funcion usando su nombre. "
      ]
    },
    {
      "cell_type": "code",
      "metadata": {
        "id": "QMO6AtU0BeM2"
      },
      "source": [
        "print(\"Hola desde el programa principal\")\n",
        "print_function()\n",
        "print_function()\n",
        "print(\"Adios desde el programa principal\")"
      ],
      "execution_count": null,
      "outputs": []
    },
    {
      "cell_type": "markdown",
      "metadata": {
        "id": "nxHSnIQFBtor"
      },
      "source": [
        "# **Actividad #1**\n",
        "1. Crea una función que imprima: \n",
        ">\"Bienvenido al mundo de las funciones!\"\n",
        "2. Llama a la función en un programa.\n",
        "\n"
      ]
    },
    {
      "cell_type": "code",
      "metadata": {
        "id": "Axb9lJ8vB4c2"
      },
      "source": [
        "#Actividad #1"
      ],
      "execution_count": null,
      "outputs": []
    },
    {
      "cell_type": "markdown",
      "metadata": {
        "id": "QEZT0q_qB7pO"
      },
      "source": [
        "# **Parametros de una función**\n",
        "\n",
        "A veces puedes querer enviar información en la función. Es posible hacer esto mediante los parametros de la función\n",
        "\n",
        ">def nombre_de_funcion( los_parametros, van, aquí ) :\n",
        "> > *//Codigo de la función*"
      ]
    },
    {
      "cell_type": "code",
      "metadata": {
        "id": "lykhxC00B4id"
      },
      "source": [
        "#Ejemplo de una función con parametros\n",
        "def print_name(name):\n",
        "  print(\"Mi nombre es \", name)"
      ],
      "execution_count": null,
      "outputs": []
    },
    {
      "cell_type": "markdown",
      "metadata": {
        "id": "F6E_jQBlCvvV"
      },
      "source": [
        "Llamando funciones con parametros"
      ]
    },
    {
      "cell_type": "code",
      "metadata": {
        "id": "TSvg6HoXCu_Q"
      },
      "source": [
        "#Una funcion con un parametro string\n",
        "print(\"Hola desde el programa principal\")\n",
        "print_name(\"John Deere\")\n",
        "print_name(\"Catherine\")"
      ],
      "execution_count": null,
      "outputs": []
    },
    {
      "cell_type": "code",
      "metadata": {
        "id": "NDUYmKnaDxLn"
      },
      "source": [
        "#Una funcion con 2 parametros string\n",
        "def print_name(name, address):\n",
        "  print(\"Mi nombre es \", name)\n",
        "  print(\"Vivo en: \", address)"
      ],
      "execution_count": null,
      "outputs": []
    },
    {
      "cell_type": "code",
      "metadata": {
        "id": "X4WanXuQD7bJ"
      },
      "source": [
        "print_name(\"Catherine\", \"Borgwood Court, San Jose, CA\")"
      ],
      "execution_count": null,
      "outputs": []
    },
    {
      "cell_type": "markdown",
      "metadata": {
        "id": "7Fb5uxzDESYS"
      },
      "source": [
        "# **Actividad #2**\n",
        "1. Crea una función llamada \"Informacion Personal\"\n",
        "2. Debe de tener 3 parametros de entrada: nombre, color de ojos, color de cabello.\n",
        "3. La función debe imprimir: \n",
        ">\"NOMBRE: \" parametro nombre<br>\n",
        ">COLOR DE OJOS: parametro de color de ojos<br>\n",
        ">COLOR DE CABELLO: parametro de color de cabello<br>\n",
        "4. Llama a la función varias veces con diferentes parametros\n"
      ]
    },
    {
      "cell_type": "code",
      "metadata": {
        "id": "1SUINUYDFZfh"
      },
      "source": [
        "#Actividad #2"
      ],
      "execution_count": null,
      "outputs": []
    },
    {
      "cell_type": "markdown",
      "metadata": {
        "id": "fYagmoWjYMeB"
      },
      "source": [
        "# **Depura(Debug) la funcion**\n",
        "\n",
        "El depurar (debuggear) funciones debe de ser hecho de forma separada de la depuración de los programas principales.\n",
        " \n",
        "Depura la función y quita cualquiera de los errores antes de llamarla en tu programa.\n"
      ]
    },
    {
      "cell_type": "code",
      "metadata": {
        "id": "kG1aYTWeYogq"
      },
      "source": [
        "#Depura la función y quita cualquiera de los errores antes de llamarla \n",
        "# en tu programa.\n",
        "function\n",
        "def print_function(dog_name, owner_name owner_phone owner_Address):\n",
        "  #El caracter '\\t' agrega un tap a tu output\n",
        "  print(\"Dog:, dog_name)\n",
        "  print(\"t\",owner_name)\n",
        "  print(\"t\",owner_phone)\n",
        "  print(\"t\",owner_address)\n",
        "\n",
        "#Llama a la funcion y corrige a los errores\n",
        "print_Function(\"Rover\", Bob Smith, \"408-662-9898\" \"San Jose, CA\")"
      ],
      "execution_count": null,
      "outputs": []
    },
    {
      "cell_type": "markdown",
      "metadata": {
        "id": "M0Bbwi7za1p8"
      },
      "source": [
        "# **Actividad #3**\n",
        "1. Escribe una función que acepte 4 parametros de entrada. \n",
        "2. Imprime los 4 parametros. \n",
        "3. Llama a la función para probarla. "
      ]
    },
    {
      "cell_type": "code",
      "metadata": {
        "id": "DjRk0kmcbPgg"
      },
      "source": [
        "#Actividad #3"
      ],
      "execution_count": null,
      "outputs": []
    },
    {
      "cell_type": "markdown",
      "metadata": {
        "id": "IrwtPM3ZcQZn"
      },
      "source": [
        "**Lista como parametro de entrada**\n",
        "\n",
        "También es posible usar una lista como un parámetro. "
      ]
    },
    {
      "cell_type": "code",
      "metadata": {
        "id": "JeSe-3sxcc3T"
      },
      "source": [
        "def print_list(input_list):\n",
        "  length = len(input_list) \n",
        "  print(\"Hay \", length, \"elementos en la lista\")\n",
        "  for x in input_list:\n",
        "    print (x)\n",
        "\n",
        "number_list = [1,2,3,4,5]\n",
        "print_list(number_list)"
      ],
      "execution_count": null,
      "outputs": []
    },
    {
      "cell_type": "markdown",
      "metadata": {
        "id": "jTix_KulGOmK"
      },
      "source": [
        "# **Actividad #4**\n",
        "\n",
        "1. Pide al usuario por los nombres de sus animales favoritos\n",
        "2. El usario introducirá \"q\" cuando haya terminado. \n",
        "3. Escribe una función que imprima el último nombre introducido por el usuario"
      ]
    },
    {
      "cell_type": "code",
      "metadata": {
        "id": "m6kpI0F7JvHQ"
      },
      "source": [
        "#Actividad #4\n",
        "#Define la funcion"
      ],
      "execution_count": null,
      "outputs": []
    },
    {
      "cell_type": "code",
      "metadata": {
        "id": "p2h0IuV5IqQv"
      },
      "source": [
        "#Assignment #4\n"
      ],
      "execution_count": null,
      "outputs": []
    },
    {
      "cell_type": "markdown",
      "metadata": {
        "id": "VE6rLRI-YJ3x"
      },
      "source": [
        "# **Funciones que retornan parametros**\n",
        "\n",
        "A veces puedes querer que la función ejecute una tarea y retorne un valor\n",
        "\n",
        "Usa **return** para enviar un valor de vuelta al programa principal"
      ]
    },
    {
      "cell_type": "code",
      "metadata": {
        "id": "Y_tGUErueQJw"
      },
      "source": [
        "#Ejemplo de una funcion que retorna un valor\n",
        "\n",
        "def sum_num(a, b):\n",
        "  addition = a + b\n",
        "  return addition\n",
        "\n",
        "#Revisa la funcion\n",
        "\n",
        "total = sum_num(6, 5)\n",
        "#total es igual al valor retornado de la funcion\n",
        "print(total)\n",
        "#o usando una sola linea:\n",
        "print(sum(4,2))"
      ],
      "execution_count": null,
      "outputs": []
    },
    {
      "cell_type": "code",
      "metadata": {
        "id": "s5T4i4O1evr5"
      },
      "source": [
        "#Ejemplo de la anterior función escrita de forma diferente\n",
        "def sum_num(a, b):\n",
        "  return a + b\n",
        "\n",
        "#Revisa la funcion\n",
        "\n",
        "total = sum_num(6, 5)\n",
        "#total es igual al valor retornado de la funcion\n",
        "print(total)\n",
        "#or \n",
        "print(sum_num(66,2))"
      ],
      "execution_count": null,
      "outputs": []
    },
    {
      "cell_type": "markdown",
      "metadata": {
        "id": "7yUTjHlkesg7"
      },
      "source": [
        "# **Actividad #5**\n",
        "\n",
        "1. Escribe algunas funciones que realizan las siguientes tareas(una función por tarea)\n",
        "Retorna la respuesta al programa principal \n",
        "> Suma de dos números<br>\n",
        ">Resta de dos números<br>\n",
        ">Multiplicar dos numeros<br>\n",
        ">Dividir dos números<br>\n",
        "2. Prueba que las funciones funcionen\n",
        "3. Escribe el programa de una calculadora\n",
        ">Pide al usuario que introduzca '+' '-' '*' '/'\n",
        ">Pide 2 números\n",
        "4. Imprime la respuesta\n"
      ]
    },
    {
      "cell_type": "code",
      "metadata": {
        "id": "9ITLyZIukevs"
      },
      "source": [
        "#Actividad #5"
      ],
      "execution_count": null,
      "outputs": []
    },
    {
      "cell_type": "markdown",
      "metadata": {
        "id": "S0mZk-ZpmSH3"
      },
      "source": [
        "# **Ejercicio de debug**\n",
        "\n"
      ]
    },
    {
      "cell_type": "code",
      "metadata": {
        "id": "G3-uQTLWm3Xu"
      },
      "source": [
        "#Ejercicios de debu\n",
        "def square(number)\n",
        "  return number * number\n",
        "\n",
        "def cube(number):\n",
        "  return number * number  number\n",
        "\n",
        "def slope_of_line(y2, y1, x2, x1):\n",
        "  return (y2-y1) (x2-x1)\n",
        "\n",
        "def quad(a, b, c x):\n",
        "  return a*x*x + b*x + c\n",
        "\n",
        "print(squares(4))\n",
        "print(cubes(3))\n",
        "print(slopeof_line(4,1,3,2))\n",
        "print(Quad(3,5,7,4))"
      ],
      "execution_count": null,
      "outputs": []
    },
    {
      "cell_type": "code",
      "metadata": {
        "id": "X1SM0iHEpytT"
      },
      "source": [
        "#Ejercicio de debug\n",
        "#Programa de calculadora\n",
        "\n",
        "#raiz cuadrada 43\n",
        "#cubo de 8\n",
        "#Encuentra la pendiente entre point1 = (8.7, 4.3) y point2 = (9.2, -5)\n",
        "#formula cuadratica de y = 34x^2 + 9x + 95.32 \n",
        "\n",
        "print(\"the square of 43 is \", square(4,3))\n",
        "print(\"the cube of 8 is \", cube(8)\n",
        "print(\"the slope of point1 = (8.7, 4.3) point2 = (9.2, -5) is \", slope_of_line(8,7, 9.2, 4.3, -5))\n",
        "print(\"y = 34x^2 + 9x + 95.32 =, quad(34,9,95.3,2,4))\n"
      ],
      "execution_count": null,
      "outputs": []
    },
    {
      "cell_type": "markdown",
      "metadata": {
        "id": "8G-D9zG3s0KR"
      },
      "source": [
        "# **Actividad #6**\n",
        "\n",
        "Escribe una funcion que retorne el valor mayor de 3 parametros de entrada.\n",
        "\n",
        "https://www.w3resource.com/python-exercises/python-functions-exercise-8.php\n"
      ]
    },
    {
      "cell_type": "code",
      "metadata": {
        "id": "UOz_DbT45aeI"
      },
      "source": [
        "#Actividad #6\n"
      ],
      "execution_count": null,
      "outputs": []
    },
    {
      "cell_type": "markdown",
      "metadata": {
        "id": "b3daaq7A5nCX"
      },
      "source": [
        "# **Actividad #7**\n",
        "\n",
        "Escribe una función que invierte un string\n",
        "\n",
        "Por ejemplo: \n",
        ">input string = \"HelloToEveryone2020\"\n",
        "\n",
        ">return string = \"0202enoyrevEoTolleH\"\n"
      ]
    },
    {
      "cell_type": "code",
      "metadata": {
        "id": "yIV1wmJR6M3H"
      },
      "source": [],
      "execution_count": null,
      "outputs": []
    },
    {
      "cell_type": "markdown",
      "metadata": {
        "id": "QirXP7OC6lE5"
      },
      "source": [
        "# **Actividad #8**\n",
        "Crea una función la cual: \n",
        "1. Acepte un string como entrada de cualquier tamaño\n",
        "2. Cuenta el número de letras mayúsculas\n",
        "3. Cuenta el número de letras minúsculas\n",
        "4. Imprime el total de mayúsculas y minúsculas"
      ]
    },
    {
      "cell_type": "code",
      "metadata": {
        "id": "auiFp2be62SL"
      },
      "source": [],
      "execution_count": null,
      "outputs": []
    },
    {
      "cell_type": "markdown",
      "metadata": {
        "id": "ZOQ8ynqg7ESE"
      },
      "source": [
        "# **Actividad #9**\n",
        "\n",
        "\n",
        "Escribe una función que acepte una lista que tiene valores duplicados en ella.\n",
        "\n",
        "Luego retornará una lista sin los duplicados.\n",
        "Por ejemplo: \n",
        ">input list = [4,4,3,5,6,7,6,3]\n",
        "\n",
        ">returned list = [4,3,5,6,7]\n",
        "\n"
      ]
    },
    {
      "cell_type": "code",
      "source": [
        "#Actividad #9"
      ],
      "metadata": {
        "id": "yWG6GWHqo9B_"
      },
      "execution_count": null,
      "outputs": []
    },
    {
      "cell_type": "markdown",
      "metadata": {
        "id": "fj5UW9Rk8I7V"
      },
      "source": [
        "# **Actividad #10**\n",
        "Escribie una función que: \n",
        "1. Acepte una lista de números\n",
        "2. Coloque cada número par en una nueva lista\n",
        "3. Coloque los números impares en otra lista\n",
        "4. Imprime ambas listas"
      ]
    },
    {
      "cell_type": "code",
      "metadata": {
        "id": "tc3svLW883jN"
      },
      "source": [],
      "execution_count": null,
      "outputs": []
    }
  ]
}