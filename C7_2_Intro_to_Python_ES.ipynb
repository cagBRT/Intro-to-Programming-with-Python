{
  "nbformat": 4,
  "nbformat_minor": 0,
  "metadata": {
    "colab": {
      "provenance": [],
      "private_outputs": true,
      "include_colab_link": true
    },
    "kernelspec": {
      "name": "python3",
      "display_name": "Python 3"
    },
    "accelerator": "GPU"
  },
  "cells": [
    {
      "cell_type": "markdown",
      "metadata": {
        "id": "view-in-github",
        "colab_type": "text"
      },
      "source": [
        "<a href=\"https://colab.research.google.com/github/cagBRT/Intro-to-Programming-with-Python/blob/master/C7_2_Intro_to_Python_ES.ipynb\" target=\"_parent\"><img src=\"https://colab.research.google.com/assets/colab-badge.svg\" alt=\"Open In Colab\"/></a>"
      ]
    },
    {
      "cell_type": "markdown",
      "metadata": {
        "id": "TM5zaZimbs77"
      },
      "source": [
        "https://people.sc.fsu.edu/~jburkardt/data/csv/csv.html"
      ]
    },
    {
      "cell_type": "code",
      "metadata": {
        "id": "YxtF92RT1CyW"
      },
      "source": [
        "# Clone the entire repo.\n",
        "!git clone -l -s https://github.com/cagBRT/Intro-to-Programming-with-Python.git cloned-repo\n",
        "%cd cloned-repo\n",
        "#https://realpython.com/python-csv/"
      ],
      "execution_count": null,
      "outputs": []
    },
    {
      "cell_type": "markdown",
      "metadata": {
        "id": "JG4_Kb0a1GGa"
      },
      "source": [
        "# **Interactuando con archivos**"
      ]
    },
    {
      "cell_type": "markdown",
      "metadata": {
        "id": "55S0rYXN-KTF"
      },
      "source": [
        "# **Leyendo archivos CSV**\n",
        "\n",
        "https://people.sc.fsu.edu/~jburkardt/data/csv/csv.html\n",
        "\n",
        "Un archivo CSV (Comma Separated Value File o Archivo Separado por Comas) es un tipo de texto que usa una estructura específica de acomodar información de manera tabulada. Por su naturaleza de que es un archivo de texto plano, solo puede estar conformado de caracteres existentes, ya sea proveniente de la tabla ASCII o caracteres Unicode<br><br>\n",
        "\n",
        "CSV = Comma Separated Values<br>\n",
        "For example: <br>\n",
        ">John,Doe,120 jefferson st.,Riverside, NJ, 08075<br>\n",
        "\n",
        "Este es un ejemplo de un archivo separado por comas (CSV File). <br>\n"
      ]
    },
    {
      "cell_type": "markdown",
      "metadata": {
        "id": "oJLBHoE-_DWf"
      },
      "source": [
        "**Librerías de Python**<br>\n",
        "Python tiene muchas librerías que te pueden ayudar a la hora de programar. <br>\n",
        "Una **libería** es una colección de funciones específicas. <br>\n",
        "Por ejemplo:\n",
        "> Hay una librería que contiene funciones que nos pueden ayudar para leer archivos CSV."
      ]
    },
    {
      "cell_type": "markdown",
      "metadata": {
        "id": "50FgcTXj_bcR"
      },
      "source": [
        "Para usar la librería tienes que importarla"
      ]
    },
    {
      "cell_type": "code",
      "metadata": {
        "id": "6TpfsrQX_BPG"
      },
      "source": [
        "import csv\n",
        "print(\"done\")"
      ],
      "execution_count": null,
      "outputs": []
    },
    {
      "cell_type": "markdown",
      "metadata": {
        "id": "K5M8fyKl_zYQ"
      },
      "source": [
        "Ahora puedes usar la librería que contiene las funciones para poder interacturar  con archivos CSV.<br>\n",
        "[csv library](https://docs.python.org/3/library/csv.html)"
      ]
    },
    {
      "cell_type": "markdown",
      "metadata": {
        "id": "8NU_zxuwAeci"
      },
      "source": [
        "**Paso 1:** obtener el archivo CSV<br>\n",
        "Se ha cargado un archivo CSV con el nombre de **grades.csv** en Google Drive.\n",
        "Haz clic en el link para mirar el archivo:\n",
        "[grades](https://people.sc.fsu.edu/~jburkardt/data/csv/grades.csv)"
      ]
    },
    {
      "cell_type": "markdown",
      "metadata": {
        "id": "VSKOgIALzNdL"
      },
      "source": [
        "**Ver el contenido del Drive**<br>\n",
        "\n",
        "Hay dos maneras de ver los contenidor del drive:\n",
        "1. Extiende el menú de la izquierda > Selecciona **Archivos**\n",
        "2. Utiliza comandos del Sistema Operativo<br>\n",
        "Para usar comandos del sistema operativo, antes de usar cualquier comando se usa con un prefijo de '!'\n",
        "\n"
      ]
    },
    {
      "cell_type": "code",
      "metadata": {
        "id": "mqFI_iu4Jnys"
      },
      "source": [
        "# Para obtener un listado del contenido del directorio actual\n",
        "!ls"
      ],
      "execution_count": null,
      "outputs": []
    },
    {
      "cell_type": "code",
      "metadata": {
        "id": "OOdit1011cjR"
      },
      "source": [
        "# Para obtener un listado del contenido de un directorio en específico\n",
        "!ls c7-content"
      ],
      "execution_count": null,
      "outputs": []
    },
    {
      "cell_type": "code",
      "metadata": {
        "id": "ooMi25qyvIXa"
      },
      "source": [
        "# Imprime la ruta del directorio actual\n",
        "!pwd"
      ],
      "execution_count": null,
      "outputs": []
    },
    {
      "cell_type": "markdown",
      "metadata": {
        "id": "d2TlR1cGhag6"
      },
      "source": [
        "# **Actividad #1**\n",
        "1. Imprime el listado del directorio llamado \"data_files\""
      ]
    },
    {
      "cell_type": "code",
      "metadata": {
        "id": "kFYPf943hj06"
      },
      "source": [],
      "execution_count": null,
      "outputs": []
    },
    {
      "cell_type": "markdown",
      "metadata": {
        "id": "ifxvb_Zr2ch8"
      },
      "source": [
        "**Examinar la información**<br>\n",
        "Se utiliza el siguiente bloque de código para poder mirar el contenido del archivo."
      ]
    },
    {
      "cell_type": "code",
      "metadata": {
        "id": "ACtGXJLkvO4K"
      },
      "source": [
        "import csv\n",
        "with open('/content/cloned-repo/c7-content/grades.csv') as csvfile:\n",
        "  file_reader = csv.reader(csvfile, delimiter=',', quotechar='|')\n",
        "  for row in file_reader:\n",
        "    print(', '.join(row))"
      ],
      "execution_count": null,
      "outputs": []
    },
    {
      "cell_type": "markdown",
      "metadata": {
        "id": "2k-gLKnDjsUy"
      },
      "source": [
        "# **Pregunta**"
      ]
    },
    {
      "cell_type": "code",
      "metadata": {
        "id": "5epwO7IZjuRe"
      },
      "source": [
        "#@title Cual de las siguientes ciudades no se encuentra en el archivo **cities.csv**?\n",
        "variable_name = \"Reading, PA\" #@param [\"Santa Ana, CA\",\"Victoria, TX\", \"Los Angeles, CA\", \"Reading, PA\"]\n",
        "if(variable_name == \"Los Angeles, CA\"):\n",
        "  print(\"Correct!\")\n",
        "else:\n",
        "  print(\"Try again\")"
      ],
      "execution_count": null,
      "outputs": []
    },
    {
      "cell_type": "markdown",
      "metadata": {
        "id": "jY7ZGyl7l-4y"
      },
      "source": [
        "# **Lee un archivo como una variable de tipo Lista.**"
      ]
    },
    {
      "cell_type": "code",
      "metadata": {
        "id": "VBBTU6R42-jN"
      },
      "source": [
        "import csv\n",
        "\n",
        "with open('/content/cloned-repo/c7-content/grades.csv') as csvfile:\n",
        "  file_reader = csv.reader(csvfile, delimiter=',', quotechar='|')\n",
        "  grades_list = list(file_reader)\n",
        "  print(\"done\")"
      ],
      "execution_count": null,
      "outputs": []
    },
    {
      "cell_type": "markdown",
      "metadata": {
        "id": "wsxXHcak9zLT"
      },
      "source": [
        "El archivo CSV es ahora una Lista en Python. <br>\n",
        "Puedes acceder a la información del archivo usando las funciones de las listas."
      ]
    },
    {
      "cell_type": "code",
      "metadata": {
        "id": "3r3Et8-99pPh"
      },
      "source": [
        "print(grades_list[0])"
      ],
      "execution_count": null,
      "outputs": []
    },
    {
      "cell_type": "code",
      "metadata": {
        "id": "yqTHWmjq-GId"
      },
      "source": [
        "print(grades_list[1])"
      ],
      "execution_count": null,
      "outputs": []
    },
    {
      "cell_type": "markdown",
      "metadata": {
        "id": "VySmw2Yu-NVx"
      },
      "source": [
        "# **Actividad #1**\n",
        "Escribe un programa que calcule el valor promedio para Test1."
      ]
    },
    {
      "cell_type": "code",
      "metadata": {
        "id": "lGF6PNub-Jrr"
      },
      "source": [
        "# Actividad #1"
      ],
      "execution_count": null,
      "outputs": []
    },
    {
      "cell_type": "markdown",
      "metadata": {
        "id": "p1mTg8vZ-d_1"
      },
      "source": [
        "# **Actividad #2**\n",
        "1. Lee el archivo **freshman_lbs.csv**. Está en el mismo directorio que grades.csv\n",
        "2. Carga el archivo en una lista.\n",
        "3. Calcula: <br>\n",
        "el peso promedio de las mujeres estudiantes de primer año en Septiembre y el peso promedio en April. <br>\n",
        "4. Calcula el promedio de ganancia o pérdida de peso de estudiantes de primer año."
      ]
    },
    {
      "cell_type": "code",
      "metadata": {
        "id": "DBHxXlgyWybk"
      },
      "source": [],
      "execution_count": null,
      "outputs": []
    },
    {
      "cell_type": "markdown",
      "metadata": {
        "id": "mzMYN3zsF2dp"
      },
      "source": [
        " **Lee el nombre de las columnas y cuenta cuantas lineas fueron procesadas**\n",
        "\n",
        "\n"
      ]
    },
    {
      "cell_type": "code",
      "metadata": {
        "id": "m_EFzxGbWR_2"
      },
      "source": [
        "with open('/content/cloned-repo/c7-content/addresses.csv') as csv_file:\n",
        "    csv_reader = csv.reader(csv_file, delimiter=',')\n",
        "    line_count = 0\n",
        "    for row in csv_reader:\n",
        "        if line_count == 0:\n",
        "            print(f'Column names are {\", \".join(row)}')\n",
        "            line_count += 1\n",
        "        else:\n",
        "            print(f'\\t{row[0]}  {row[1]}  {row[2]} {row[3]} {row[4]} {row[5]}')\n",
        "            line_count += 1\n",
        "    print(f'Processed {line_count} lines.')"
      ],
      "execution_count": null,
      "outputs": []
    },
    {
      "cell_type": "markdown",
      "metadata": {
        "id": "ABXEki5OiYaL"
      },
      "source": [
        "# **Quiz**\n",
        "¿Cuántas ciudades hay en el archivo cities.csv?"
      ]
    },
    {
      "cell_type": "code",
      "metadata": {
        "id": "4X3EDC3gikf_"
      },
      "source": [
        "#@title ¿Cuántas ciudades hay en el archivo cities.csv?\n",
        "variable_name =  0#@param {type:\"integer\"}\n",
        "if(variable_name == 128):\n",
        "  print(\"Correct!\")\n",
        "else:\n",
        "  print(\"Try again\")\n"
      ],
      "execution_count": null,
      "outputs": []
    },
    {
      "cell_type": "markdown",
      "metadata": {
        "id": "ht1HgneC7NWJ"
      },
      "source": [
        "# **Actividad #3**\n",
        "\n",
        "1. Lee el archivo CSV llamado **faithful.csv** Está en el mismo directorio que los otros archivos.\n",
        "2. Mientras se lee el archivo, <br>\n",
        "imprime el nombre de las columnas<br>\n",
        "cuenta e imprime el número de líneas que hay en el archivo\n"
      ]
    },
    {
      "cell_type": "code",
      "metadata": {
        "id": "m88v4iI6ar-A"
      },
      "source": [],
      "execution_count": null,
      "outputs": []
    },
    {
      "cell_type": "markdown",
      "metadata": {
        "id": "q0V0t-suiPxT"
      },
      "source": [
        "# **Escribir archivos CSV**\n",
        "\n"
      ]
    },
    {
      "cell_type": "code",
      "metadata": {
        "id": "1Y9KxqaZER2h"
      },
      "source": [
        "import csv\n",
        "\n",
        "with open ('student_data.csv', mode = 'w+') as student_data:\n",
        "  file_writer = csv.writer(student_data, delimiter=',', quotechar = '\"', quoting = csv.QUOTE_MINIMAL)\n",
        "  file_writer.writerow(['Jack','Smith', 90, 45, 89])\n",
        "  file_writer.writerow(['Bob','Steen', 67, 77, 89])\n",
        "  file_writer.writerow(['Sandy', 'Calhoun', 58, 96, 71])\n",
        "  file_writer.writerow(['Tom','Brown', 23, 57, 85])\n",
        "  file_writer.writerow(['Sandy', 'Calhoun', 65, 69, 69])\n",
        "  file_writer.writerow(['Tim', 'James', 98, 77, 89])"
      ],
      "execution_count": null,
      "outputs": []
    },
    {
      "cell_type": "code",
      "metadata": {
        "id": "pBwV-mQzKTDd"
      },
      "source": [
        "#To view the file, use the linux command 'cat'\n",
        "!cat student_data.csv"
      ],
      "execution_count": null,
      "outputs": []
    },
    {
      "cell_type": "markdown",
      "metadata": {
        "id": "L4S2lojtNtaF"
      },
      "source": [
        "# **Actividad #4**\n",
        "\n",
        "1. Crea un archivo llamado \"test_file.csv\"\n",
        "2. Escribe en 5 renglones cualquier tipo de información, pero cada renglón deberá tener 6 valores separados por coma.\n",
        "3. Utiliza el comando **cat** para ver el contenido del archivo."
      ]
    },
    {
      "cell_type": "code",
      "metadata": {
        "id": "hsL4UtmUNrhR"
      },
      "source": [],
      "execution_count": null,
      "outputs": []
    }
  ]
}