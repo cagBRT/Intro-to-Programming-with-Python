{
  "nbformat": 4,
  "nbformat_minor": 0,
  "metadata": {
    "colab": {
      "name": "Python Cheatsheet 1.ipynb",
      "private_outputs": true,
      "provenance": [],
      "authorship_tag": "ABX9TyNRc8AmyroYEl00y3Bgj741",
      "include_colab_link": true
    },
    "kernelspec": {
      "name": "python3",
      "display_name": "Python 3"
    },
    "language_info": {
      "name": "python"
    }
  },
  "cells": [
    {
      "cell_type": "markdown",
      "metadata": {
        "id": "view-in-github",
        "colab_type": "text"
      },
      "source": [
        "<a href=\"https://colab.research.google.com/github/cagBRT/Intro-to-Programming-with-Python/blob/master/Python_Cheatsheet_1.ipynb\" target=\"_parent\"><img src=\"https://colab.research.google.com/assets/colab-badge.svg\" alt=\"Open In Colab\"/></a>"
      ]
    },
    {
      "cell_type": "markdown",
      "source": [
        "**Variables**<br>"
      ],
      "metadata": {
        "id": "WW7kRQRKdUkO"
      }
    },
    {
      "cell_type": "code",
      "execution_count": null,
      "metadata": {
        "id": "nYHF_VMDdRJx"
      },
      "outputs": [],
      "source": [
        "#strings\n",
        "variable_name1 = \"this is a string\"\n",
        "variable_name2 = \"this is also a string\"\n",
        "#integers\n",
        "variable_name3 = 345\n",
        "#floats\n",
        "variable_name4 = 3.14\n",
        "#lists\n",
        "list_name = [1,2,3,4,5,6]\n",
        "#boolean\n",
        "boolean_variable = True"
      ]
    },
    {
      "cell_type": "markdown",
      "source": [
        "**Determine the type of each variable**"
      ],
      "metadata": {
        "id": "mZyWt5hud_Yt"
      }
    },
    {
      "cell_type": "code",
      "source": [
        "print(\"variable_name1: \", type(variable_name1))\n",
        "print(\"variable_name2: \", type(variable_name2))\n",
        "print(\"variable_name3: \", type(variable_name3))\n",
        "print(\"variable_name4: \", type(variable_name4))\n",
        "print(\"list_name: \", type(list_name))\n",
        "print(\"boolean_variable: \", type(boolean_variable))"
      ],
      "metadata": {
        "id": "ZFKpc-iSeOPK"
      },
      "execution_count": null,
      "outputs": []
    },
    {
      "cell_type": "markdown",
      "source": [
        "**Change a variable type**"
      ],
      "metadata": {
        "id": "0P018QRiqsJb"
      }
    },
    {
      "cell_type": "code",
      "source": [
        "#Change a variable type\n",
        "x = \"50\"\n",
        "y = \"50\"\n",
        "print(\"strings x+y=\",x+y)\n",
        "\n",
        "#convert strings to integers\n",
        "xx=int(x)\n",
        "yy=int(y)\n",
        "print(\"integers xx+yy=\",xx+yy)\n",
        "\n",
        "#convert strings to floats\n",
        "xxx=float(x)\n",
        "yyy=float(y)\n",
        "print(\"integers xxx+yyy=\",xxx+yyy)"
      ],
      "metadata": {
        "id": "UqKxAK0QqmWi"
      },
      "execution_count": null,
      "outputs": []
    },
    {
      "cell_type": "markdown",
      "source": [
        "**Math Operators**"
      ],
      "metadata": {
        "id": "WIiE2jP9ewTU"
      }
    },
    {
      "cell_type": "code",
      "source": [
        "a = 4\n",
        "b = 5\n",
        "print(\"multiply: \", a*b)\n",
        "print(\"add: \", a+b)\n",
        "print(\"divide: \", a/b)\n",
        "print(\"subtract: \", a-b)\n",
        "print(\"modulus: \", a%b)\n",
        "print(\"floor: \", a//b )\n",
        "print(\"exponent: \", a**b)"
      ],
      "metadata": {
        "id": "g8sICSBge162"
      },
      "execution_count": null,
      "outputs": []
    },
    {
      "cell_type": "markdown",
      "source": [
        "**Assignment Operators**"
      ],
      "metadata": {
        "id": "EkUcke-vfvkq"
      }
    },
    {
      "cell_type": "code",
      "source": [
        "#set the value\n",
        "x=5\n",
        "# +=\n",
        "x=5\n",
        "x+=5\n",
        "print(\"x+=5 :\", x)\n",
        "x=5\n",
        "x=x+5\n",
        "print(\"x= x+5 :\", x)\n",
        "\n",
        "# -=\n",
        "x=5\n",
        "x-=5\n",
        "print(\"x-=5 :\", x)\n",
        "x=5\n",
        "x=x-5\n",
        "print(\"x= x-5 :\", x)\n",
        "\n",
        "# x*=\n",
        "x=5\n",
        "x*=5\n",
        "print(\"x*=5 :\", x)\n",
        "x=5\n",
        "x=x*5\n",
        "print(\"x= x*5 :\", x)\n",
        "\n",
        "# /=\n",
        "x=5\n",
        "x/=5\n",
        "print(\"x/=5 :\", x)\n",
        "x=5\n",
        "x=x/5\n",
        "print(\"x= x/5 :\", x)\n",
        "\n",
        "#%=\n",
        "x=5\n",
        "x%=5\n",
        "print(\"x %=5 :\", x)\n",
        "x=5\n",
        "x=x%5\n",
        "print(\"x= x%5 :\", x)\n",
        "\n",
        "# x//=\n",
        "x=5\n",
        "x//=5\n",
        "print(\"x//=5 :\", x)\n",
        "x=5\n",
        "x=x//5\n",
        "print(\"x= x//5 :\", x)\n",
        "\n",
        "# x**=\n",
        "x=5\n",
        "x**=5\n",
        "print(\"x**=5 :\", x)\n",
        "x=5\n",
        "x=x**5\n",
        "print(\"x= x**5 :\", x)"
      ],
      "metadata": {
        "id": "vQ2pSMDPfzNh"
      },
      "execution_count": null,
      "outputs": []
    },
    {
      "cell_type": "markdown",
      "source": [
        "**Comparison Operators**"
      ],
      "metadata": {
        "id": "WsBIOLN-hNKk"
      }
    },
    {
      "cell_type": "code",
      "source": [
        "x=6\n",
        "y=1\n",
        "\n",
        "# ==\n",
        "print(\"x==y\", x==y)\n",
        "\n",
        "# !=\n",
        "print(\"x!=y\", x!=y)\n",
        "\n",
        "# >\n",
        "print(\"x>y\", x>y)\n",
        "\n",
        "# >=\n",
        "print(\"x>=y\", x>=y)\n",
        "\n",
        "# <\n",
        "print(\"x<y\", x<y)\n",
        "\n",
        "# <=\n",
        "print(\"x<=y\", x<=y)"
      ],
      "metadata": {
        "id": "gBLvI2jBhP1_"
      },
      "execution_count": null,
      "outputs": []
    },
    {
      "cell_type": "markdown",
      "source": [
        "**Logical Operators**"
      ],
      "metadata": {
        "id": "A8rAH5H-h5rP"
      }
    },
    {
      "cell_type": "code",
      "source": [
        "#and: true if both statements must be true\n",
        "x=5\n",
        "y=20\n",
        "print(\"x==5 and x==20 :\", x==5 and y==20)\n",
        "\n",
        "#or true if at least one statement is true\n",
        "x=3\n",
        "y=23\n",
        "print(\"x==3 or y==3 :\", x==3 or y==3)\n",
        "print(\"x==33 or y==33 :\", x==33 or y==33)\n",
        "\n",
        "#not reverses the result of a statement\n",
        "x=3\n",
        "y=23\n",
        "print(\"not(x==3 or y==3) :\", not(x==3 or y==3))\n",
        "print(\"not(x==33 or y==33) :\", not(x==33 or y==33))"
      ],
      "metadata": {
        "id": "hLQwAFDwh8i8"
      },
      "execution_count": null,
      "outputs": []
    }
  ]
}