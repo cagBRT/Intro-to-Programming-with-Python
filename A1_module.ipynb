{
  "nbformat": 4,
  "nbformat_minor": 0,
  "metadata": {
    "colab": {
      "name": "A1 module.ipynb",
      "private_outputs": true,
      "provenance": [],
      "authorship_tag": "ABX9TyMiMfrYGWGyXRfIqGVv0a1L",
      "include_colab_link": true
    },
    "kernelspec": {
      "name": "python3",
      "display_name": "Python 3"
    },
    "language_info": {
      "name": "python"
    }
  },
  "cells": [
    {
      "cell_type": "markdown",
      "metadata": {
        "id": "view-in-github",
        "colab_type": "text"
      },
      "source": [
        "<a href=\"https://colab.research.google.com/github/cagBRT/Intro-to-Programming-with-Python/blob/master/A1_module.ipynb\" target=\"_parent\"><img src=\"https://colab.research.google.com/assets/colab-badge.svg\" alt=\"Open In Colab\"/></a>"
      ]
    },
    {
      "cell_type": "markdown",
      "metadata": {
        "id": "Kb7gmjEt5rfX"
      },
      "source": [
        "# **Review of Functions**"
      ]
    },
    {
      "cell_type": "markdown",
      "metadata": {
        "id": "ksjlwD4w5w1s"
      },
      "source": [
        "Notebook 6 covers functions.<br>\n",
        "This notebook will review those concepts"
      ]
    },
    {
      "cell_type": "markdown",
      "metadata": {
        "id": "g3mlvrgT6AY2"
      },
      "source": [
        "Defining a function:<br>\n",
        ">def function_name(optional parameter1, optional parameter2, etc):<br>\n",
        ">>function statements<br>\n",
        "return statement(optional)\n"
      ]
    },
    {
      "cell_type": "markdown",
      "metadata": {
        "id": "eStM7bAR8Wt0"
      },
      "source": [
        "**Assignment 1:**<br>\n",
        "Create a function that:<br>\n",
        ">accepts a list<br>\n",
        "prints the length of the list<br>\n",
        "prints every other index in the list\n",
        "\n"
      ]
    },
    {
      "cell_type": "code",
      "metadata": {
        "id": "Mo8I53wVi7Jj"
      },
      "source": [
        ""
      ],
      "execution_count": null,
      "outputs": []
    },
    {
      "cell_type": "markdown",
      "metadata": {
        "id": "g8kq6ziF7y-5"
      },
      "source": [
        "**Assignment 2:**<br>\n",
        "Create a function that accepts a list of floats<br>\n",
        "The function returns a list that has:<br>\n",
        ">the max from the input list<br>\n",
        ">the min from the input list<br>"
      ]
    },
    {
      "cell_type": "code",
      "metadata": {
        "id": "Cdv2nZ845nY-"
      },
      "source": [
        ""
      ],
      "execution_count": null,
      "outputs": []
    },
    {
      "cell_type": "markdown",
      "metadata": {
        "id": "O6Fp4hKx-X47"
      },
      "source": [
        "**Single Line for Loops**"
      ]
    },
    {
      "cell_type": "code",
      "metadata": {
        "id": "RdpxjwOzIjWA"
      },
      "source": [
        "for i in range(5):\n",
        "  print(i)"
      ],
      "execution_count": null,
      "outputs": []
    },
    {
      "cell_type": "code",
      "metadata": {
        "id": "l1ijdRuvIn-R"
      },
      "source": [
        "for i in range(5):print(i)"
      ],
      "execution_count": null,
      "outputs": []
    },
    {
      "cell_type": "markdown",
      "metadata": {
        "id": "eoM-oybnJEWl"
      },
      "source": [
        "**Assignment 3**:<br>\n",
        "Write a single line for loop that prints a list of strings"
      ]
    },
    {
      "cell_type": "code",
      "metadata": {
        "id": "ReuY6XSyJDhG"
      },
      "source": [
        ""
      ],
      "execution_count": null,
      "outputs": []
    },
    {
      "cell_type": "markdown",
      "metadata": {
        "id": "1lNU8epNJT7Y"
      },
      "source": [
        "**More complex single line for loops**"
      ]
    },
    {
      "cell_type": "code",
      "metadata": {
        "id": "wFtWUpjpI70C"
      },
      "source": [
        "for i in range(8):\n",
        "  if i<3:\n",
        "    j=i*4\n",
        "  else:\n",
        "    j= 88\n",
        "  print(i,j)"
      ],
      "execution_count": null,
      "outputs": []
    },
    {
      "cell_type": "code",
      "metadata": {
        "id": "I45bMl1BJpy7"
      },
      "source": [
        "for i in range(5):\n",
        "  print(i*4 if i<3 else -1)"
      ],
      "execution_count": null,
      "outputs": []
    },
    {
      "cell_type": "code",
      "metadata": {
        "id": "tPR6mt9CJ-d5"
      },
      "source": [
        "for i in range(5):print(i*4 if i<3 else -1)"
      ],
      "execution_count": null,
      "outputs": []
    },
    {
      "cell_type": "code",
      "metadata": {
        "id": "k7SNecYa_bpF"
      },
      "source": [
        "numbers = [8,34,54,67,66,98,2,4,3,45,123,234,345,52]\n",
        "even_numbers = [num for num in numbers if not num % 2]\n",
        "print(even_numbers)"
      ],
      "execution_count": null,
      "outputs": []
    },
    {
      "cell_type": "markdown",
      "metadata": {
        "id": "_n5xxevL6TZq"
      },
      "source": [
        "**Assignment 4** <br>\n",
        "Using a single line for loop,<br>\n",
        ">read a list<br>\n",
        "remove any non-numbers from the list<br>\n"
      ]
    },
    {
      "cell_type": "code",
      "metadata": {
        "id": "jm2zWzl76NIN"
      },
      "source": [
        ""
      ],
      "execution_count": null,
      "outputs": []
    },
    {
      "cell_type": "markdown",
      "metadata": {
        "id": "8fO7fiNU7Jud"
      },
      "source": [
        "**List Comprehension**<br>\n",
        "List comprehension is a concise way of creating lists.<br>\n",
        "<br>\n",
        "\n",
        "list_name = [\\<expression> for \\<item> in \\<collection> if \\<expression>] "
      ]
    },
    {
      "cell_type": "code",
      "metadata": {
        "id": "cvlSBwhl7OoJ"
      },
      "source": [
        "cubes=[]\n",
        "for i in range(5):\n",
        "  cubes.append(i**3)\n",
        "print(cubes)"
      ],
      "execution_count": null,
      "outputs": []
    },
    {
      "cell_type": "code",
      "metadata": {
        "id": "zA9T6VXV7cy7"
      },
      "source": [
        "cubes = [i**3 for i in range(5)]\n",
        "print(cubes)"
      ],
      "execution_count": null,
      "outputs": []
    },
    {
      "cell_type": "markdown",
      "metadata": {
        "id": "ew9hqLYA874K"
      },
      "source": [
        "**Assignment 5**<br>\n",
        "Create a list using a single line for loop"
      ]
    },
    {
      "cell_type": "code",
      "metadata": {
        "id": "qRk2OECa9W2O"
      },
      "source": [
        ""
      ],
      "execution_count": null,
      "outputs": []
    },
    {
      "cell_type": "markdown",
      "source": [
        "**Single Line Nested For Loops**"
      ],
      "metadata": {
        "id": "s1hMFCEGZYU3"
      }
    },
    {
      "cell_type": "code",
      "metadata": {
        "id": "neAbqcWX9xzt"
      },
      "source": [
        "numbers = [1,2,3,4,5,6]\n",
        "coordinates = []\n",
        "for i in numbers:\n",
        "  for j in numbers:\n",
        "    if i != j:\n",
        "      coordinates.append((i,j))\n",
        "print(coordinates)"
      ],
      "execution_count": null,
      "outputs": []
    },
    {
      "cell_type": "code",
      "metadata": {
        "id": "bUqdmLfx-QHe"
      },
      "source": [
        "coordinates = [(i,j) for i in numbers for j in numbers if i != j]\n",
        "print(coordinates)"
      ],
      "execution_count": null,
      "outputs": []
    },
    {
      "cell_type": "markdown",
      "metadata": {
        "id": "QSl7_Yw59Voq"
      },
      "source": [
        "**Assignment 6**<br>\n",
        "Create a two dimensional list using a single line nested for loop"
      ]
    },
    {
      "cell_type": "code",
      "metadata": {
        "id": "FU07_E8P9hln"
      },
      "source": [
        ""
      ],
      "execution_count": null,
      "outputs": []
    },
    {
      "cell_type": "markdown",
      "metadata": {
        "id": "MNH0-gMx-1a8"
      },
      "source": [
        "**Assignment 7**<br>\n",
        "Convert the single line for loop into a multiline for loop\n"
      ]
    },
    {
      "cell_type": "code",
      "metadata": {
        "id": "p_CyfEJb_uI_"
      },
      "source": [
        "mylist = [1,4,5,8,9,11,13,12]\n",
        "newlist = [x for x in mylist if x%2 == 1]\n",
        "print(newlist)"
      ],
      "execution_count": null,
      "outputs": []
    },
    {
      "cell_type": "code",
      "source": [
        ""
      ],
      "metadata": {
        "id": "5na23UA-agDH"
      },
      "execution_count": null,
      "outputs": []
    },
    {
      "cell_type": "markdown",
      "source": [
        "**Use caution with 'else' statements in single line for loops**"
      ],
      "metadata": {
        "id": "hBS1e_HRak-l"
      }
    },
    {
      "cell_type": "code",
      "metadata": {
        "id": "9lI83U_0_YyB"
      },
      "source": [
        "integers=[]\n",
        "for x in range(15):\n",
        "  if x%2 == 0:\n",
        "    integers.append(x)\n",
        "  else:\n",
        "    integers.append(x-1)\n",
        "\n",
        "print(integers)"
      ],
      "execution_count": null,
      "outputs": []
    },
    {
      "cell_type": "markdown",
      "metadata": {
        "id": "EN9rLqvNJcue"
      },
      "source": [
        "However, you can not use the else statement within the context part. When I executed this code snippet, I was surprised that it throws an error:"
      ]
    },
    {
      "cell_type": "code",
      "metadata": {
        "id": "XT_q7K_uJgsk"
      },
      "source": [
        "# WRONG (INVALID SYNTAX)\n",
        "lst = [x for x in range(10) if x%2==0 else x-1]\n",
        "print(lst)"
      ],
      "execution_count": null,
      "outputs": []
    },
    {
      "cell_type": "markdown",
      "source": [
        "**Correct syntax if using else statement**"
      ],
      "metadata": {
        "id": "FKQIF0oGbpHt"
      }
    },
    {
      "cell_type": "code",
      "source": [
        "lst = [x if x%2==0 else x-1 for x in range(10)]\n",
        "print(lst)"
      ],
      "metadata": {
        "id": "1MQyn-79bdT_"
      },
      "execution_count": null,
      "outputs": []
    }
  ]
}