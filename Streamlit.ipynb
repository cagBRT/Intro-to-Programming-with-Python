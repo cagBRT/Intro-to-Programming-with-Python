{
  "nbformat": 4,
  "nbformat_minor": 0,
  "metadata": {
    "colab": {
      "private_outputs": true,
      "provenance": [],
      "authorship_tag": "ABX9TyNuZkwFJNHJyWc1cayc2m9T",
      "include_colab_link": true
    },
    "kernelspec": {
      "name": "python3",
      "display_name": "Python 3"
    },
    "language_info": {
      "name": "python"
    }
  },
  "cells": [
    {
      "cell_type": "markdown",
      "metadata": {
        "id": "view-in-github",
        "colab_type": "text"
      },
      "source": [
        "<a href=\"https://colab.research.google.com/github/cagBRT/Intro-to-Programming-with-Python/blob/master/Streamlit.ipynb\" target=\"_parent\"><img src=\"https://colab.research.google.com/assets/colab-badge.svg\" alt=\"Open In Colab\"/></a>"
      ]
    },
    {
      "cell_type": "markdown",
      "source": [
        "https://colab.research.google.com/github/mrm8488/shared_colab_notebooks/blob/master/Create_streamlit_app.ipynb#scrollTo=XTGAizLhOIgC"
      ],
      "metadata": {
        "id": "bF4e2jTzdRCA"
      }
    },
    {
      "cell_type": "code",
      "source": [
        "!pip install -q streamlit"
      ],
      "metadata": {
        "id": "C6SsRIY_LOef"
      },
      "execution_count": null,
      "outputs": []
    },
    {
      "cell_type": "code",
      "execution_count": null,
      "metadata": {
        "id": "FqS-9FauLDZg"
      },
      "outputs": [],
      "source": [
        "!npm install localtunnel"
      ]
    },
    {
      "cell_type": "code",
      "source": [
        "%%writefile app.py\n",
        "#The import statement must be in the same code cell as the app\n",
        "import streamlit as st\n",
        "# Title\n",
        "st.title(\"Hello GeeksForGeeks !!!\")\n",
        "x = st.slider('Select a value')\n",
        "st.write(x, 'squared is', x * x)\n",
        "# Markdown\n",
        "st.markdown(\"### This is a markdown\")\n",
        "#success\n",
        "st.success(\"Success\")\n",
        " \n",
        "# success\n",
        "st.info(\"Information\")\n",
        " \n",
        "# success\n",
        "st.warning(\"Warning\")\n",
        " \n",
        "# success\n",
        "st.error(\"Error\")\n",
        "\n",
        "# Write text\n",
        "st.write(\"Text with write\")\n",
        " \n",
        "# Writing python inbuilt function range()\n",
        "st.write(range(10))\n",
        "\n",
        "# checkbox\n",
        "# check if the checkbox is checked\n",
        "# title of the checkbox is 'Show/Hide'\n",
        "if st.checkbox(\"Show/Hide\"):\n",
        " \n",
        "    # display the text if the checkbox returns True value\n",
        "    st.text(\"Showing the widget\")"
      ],
      "metadata": {
        "id": "kmt2Eq6gbIJK"
      },
      "execution_count": null,
      "outputs": []
    },
    {
      "cell_type": "code",
      "source": [
        "!streamlit run /content/app.py &>/content/logs.txt &"
      ],
      "metadata": {
        "id": "T68VrSbMLVMv"
      },
      "execution_count": null,
      "outputs": []
    },
    {
      "cell_type": "code",
      "source": [
        "!npx localtunnel --port 8501"
      ],
      "metadata": {
        "id": "uCOKbfiQL6HQ"
      },
      "execution_count": null,
      "outputs": []
    },
    {
      "cell_type": "code",
      "source": [],
      "metadata": {
        "id": "_RlQWW42dN08"
      },
      "execution_count": null,
      "outputs": []
    }
  ]
}