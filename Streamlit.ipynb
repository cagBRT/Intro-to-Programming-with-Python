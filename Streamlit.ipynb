{
  "nbformat": 4,
  "nbformat_minor": 0,
  "metadata": {
    "colab": {
      "private_outputs": true,
      "provenance": [],
      "authorship_tag": "ABX9TyPW/opsHNqFX6WSxI+fx4KV",
      "include_colab_link": true
    },
    "kernelspec": {
      "name": "python3",
      "display_name": "Python 3"
    },
    "language_info": {
      "name": "python"
    }
  },
  "cells": [
    {
      "cell_type": "markdown",
      "metadata": {
        "id": "view-in-github",
        "colab_type": "text"
      },
      "source": [
        "<a href=\"https://colab.research.google.com/github/cagBRT/Intro-to-Programming-with-Python/blob/master/Streamlit.ipynb\" target=\"_parent\"><img src=\"https://colab.research.google.com/assets/colab-badge.svg\" alt=\"Open In Colab\"/></a>"
      ]
    },
    {
      "cell_type": "markdown",
      "source": [
        "https://colab.research.google.com/github/mrm8488/shared_colab_notebooks/blob/master/Create_streamlit_app.ipynb#scrollTo=XTGAizLhOIgC"
      ],
      "metadata": {
        "id": "bF4e2jTzdRCA"
      }
    },
    {
      "cell_type": "markdown",
      "source": [
        "https://docs.streamlit.io/library/api-reference"
      ],
      "metadata": {
        "id": "LAv-CsTmptAb"
      }
    },
    {
      "cell_type": "code",
      "source": [
        "!pip install -q streamlit"
      ],
      "metadata": {
        "id": "C6SsRIY_LOef"
      },
      "execution_count": null,
      "outputs": []
    },
    {
      "cell_type": "code",
      "execution_count": null,
      "metadata": {
        "id": "FqS-9FauLDZg"
      },
      "outputs": [],
      "source": [
        "!npm install localtunnel"
      ]
    },
    {
      "cell_type": "code",
      "source": [
        "%%writefile app.py\n",
        "#The import statement must be in the same code cell as the app\n",
        "import streamlit as st\n",
        "import pandas as pd\n",
        "\n",
        "# Title\n",
        "nameString = \"hello all\" \n",
        "st.title(nameString)\n",
        "\n",
        "# Text Input\n",
        "# save the input text in the variable 'name'\n",
        "# first argument shows the title of the text input box\n",
        "# second argument displays a default text inside the text input area\n",
        "name = st.text_input(\"Enter Your name\", \"Type Here ...\")\n",
        " \n",
        "# display the name when the submit button is clicked\n",
        "# .title() is used to get the input text string\n",
        "if(st.button('Submit')):\n",
        "    result = name.title()\n",
        "    st.success(result)\n",
        "\n",
        "x = st.slider('Select a value')\n",
        "st.write(x, 'squared is', x * x)\n",
        "# Markdown\n",
        "st.markdown(\"### This is a markdown\")\n",
        "#success\n",
        "st.success(\"Success\")\n",
        " \n",
        "# success\n",
        "st.info(\"Information\")\n",
        " \n",
        "# success\n",
        "st.warning(\"Warning\")\n",
        " \n",
        "# success\n",
        "st.error(\"Error\")\n",
        "\n",
        "# Write text\n",
        "st.write(\"Text with write\")\n",
        " \n",
        "# Writing python inbuilt function range()\n",
        "st.write(range(10))\n",
        "\n",
        "# checkbox\n",
        "# check if the checkbox is checked\n",
        "# title of the checkbox is 'Show/Hide'\n",
        "if st.checkbox(\"Show/Hide\"):\n",
        " \n",
        "    # display the text if the checkbox returns True value\n",
        "    st.text(\"Showing the widget\")\n",
        "\n",
        "# multi select box\n",
        " \n",
        "# first argument takes the box title\n",
        "# second argument takes the options to show\n",
        "hobbies = st.multiselect(\"Hobbies: \",\n",
        "                         ['Dancing', 'Reading', 'Sports'])\n",
        " \n",
        "# write the selected options\n",
        "st.write(\"You selected\", len(hobbies), 'hobbies')\n",
        "\n",
        "st.write('Hello, *World!* :sunglasses:')\n",
        "\n",
        "dataframe=pd.DataFrame({\n",
        "    'first column': [1, 2, 3, 4],\n",
        "    'second column': [10, 20, 30, 40],\n",
        "})\n",
        "st.write(1234)\n",
        "st.write(pd.DataFrame({\n",
        "    'first column': [1, 2, 3, 4],\n",
        "    'second column': [10, 20, 30, 40],\n",
        "}))\n",
        "\n",
        "st.write('1 + 1 = ', 2)\n",
        "st.write('Below is a DataFrame:', dataframe, 'Above is a dataframe.')\n",
        "\n",
        "import pandas as pd\n",
        "import numpy as np\n",
        "import altair as alt\n",
        "\n",
        "df = pd.DataFrame(\n",
        "    np.random.randn(200, 3),\n",
        "    columns=['a', 'b', 'c'])\n",
        "\n",
        "c = alt.Chart(df).mark_circle().encode(\n",
        "    x='a', y='b', size='c', color='c', tooltip=['a', 'b', 'c'])\n",
        "\n",
        "st.write(c)\n",
        "\n",
        "uploaded_file = st.file_uploader(\"Choose a file\")\n",
        "if uploaded_file is not None:\n",
        "    # To read file as bytes:\n",
        "    bytes_data = uploaded_file.getvalue()\n",
        "    st.write(bytes_data)\n",
        "\n",
        "    # To convert to a string based IO:\n",
        "    stringio = StringIO(uploaded_file.getvalue().decode(\"utf-8\"))\n",
        "    st.write(stringio)\n",
        "\n",
        "    # To read file as string:\n",
        "    string_data = stringio.read()\n",
        "    st.write(string_data)\n",
        "\n",
        "    # Can be used wherever a \"file-like\" object is accepted:\n",
        "    dataframe = pd.read_csv(uploaded_file)\n",
        "    st.write(dataframe)\n",
        "#==============\n",
        "#Example\n",
        "#==============\n",
        "# give a title to our app\n",
        "st.title('Welcome to BMI Calculator')\n",
        "\n",
        "# TAKE WEIGHT INPUT in kgs\n",
        "weight = st.number_input(\"Enter your weight (in kgs)\")\n",
        "\n",
        "# TAKE HEIGHT INPUT\n",
        "# radio button to choose height format\n",
        "status = st.radio('Select your height format: ',\n",
        "\t\t\t\t('cms', 'meters', 'feet'))\n",
        "\n",
        "# compare status value\n",
        "if(status == 'cms'):\n",
        "\t# take height input in centimeters\n",
        "\theight = st.number_input('Centimeters')\n",
        "\n",
        "\ttry:\n",
        "\t\tbmi = weight / ((height/100)**2)\n",
        "\texcept:\n",
        "\t\tst.text(\"Enter some value of height\")\n",
        "\n",
        "elif(status == 'meters'):\n",
        "\t# take height input in meters\n",
        "\theight = st.number_input('Meters')\n",
        "\n",
        "\ttry:\n",
        "\t\tbmi = weight / (height ** 2)\n",
        "\texcept:\n",
        "\t\tst.text(\"Enter some value of height\")\n",
        "\n",
        "else:\n",
        "\t# take height input in feet\n",
        "\theight = st.number_input('Feet')\n",
        "\n",
        "\t# 1 meter = 3.28\n",
        "\ttry:\n",
        "\t\tbmi = weight / (((height/3.28))**2)\n",
        "\texcept:\n",
        "\t\tst.text(\"Enter some value of height\")\n",
        "\n",
        "# check if the button is pressed or not\n",
        "if(st.button('Calculate BMI')):\n",
        "\n",
        "\t# print the BMI INDEX\n",
        "\tst.text(\"Your BMI Index is {}.\".format(bmi))\n",
        "\n",
        "\t# give the interpretation of BMI index\n",
        "\tif(bmi < 16):\n",
        "\t\tst.error(\"You are Extremely Underweight\")\n",
        "\telif(bmi >= 16 and bmi < 18.5):\n",
        "\t\tst.warning(\"You are Underweight\")\n",
        "\telif(bmi >= 18.5 and bmi < 25):\n",
        "\t\tst.success(\"Healthy\")\n",
        "\telif(bmi >= 25 and bmi < 30):\n",
        "\t\tst.warning(\"Overweight\")\n",
        "\telif(bmi >= 30):\n",
        "\t\tst.error(\"Extremely Overweight\")\n"
      ],
      "metadata": {
        "id": "kmt2Eq6gbIJK"
      },
      "execution_count": null,
      "outputs": []
    },
    {
      "cell_type": "code",
      "source": [
        "!streamlit run /content/app.py &>/content/logs.txt &"
      ],
      "metadata": {
        "id": "T68VrSbMLVMv"
      },
      "execution_count": null,
      "outputs": []
    },
    {
      "cell_type": "code",
      "source": [
        "!npx localtunnel --port 8501"
      ],
      "metadata": {
        "id": "uCOKbfiQL6HQ"
      },
      "execution_count": null,
      "outputs": []
    },
    {
      "cell_type": "code",
      "source": [],
      "metadata": {
        "id": "_RlQWW42dN08"
      },
      "execution_count": null,
      "outputs": []
    }
  ]
}