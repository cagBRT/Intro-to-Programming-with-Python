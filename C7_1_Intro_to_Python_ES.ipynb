{
  "nbformat": 4,
  "nbformat_minor": 0,
  "metadata": {
    "colab": {
      "private_outputs": true,
      "provenance": [],
      "include_colab_link": true
    },
    "kernelspec": {
      "name": "python3",
      "display_name": "Python 3"
    }
  },
  "cells": [
    {
      "cell_type": "markdown",
      "metadata": {
        "id": "view-in-github",
        "colab_type": "text"
      },
      "source": [
        "<a href=\"https://colab.research.google.com/github/cagBRT/Intro-to-Programming-with-Python/blob/master/C7_1_Intro_to_Python_ES.ipynb\" target=\"_parent\"><img src=\"https://colab.research.google.com/assets/colab-badge.svg\" alt=\"Open In Colab\"/></a>"
      ]
    },
    {
      "cell_type": "code",
      "metadata": {
        "id": "gL7Fj-3aOmBE"
      },
      "source": [
        "# Clone the entire repo.\n",
        "!git clone -l -s https://github.com/cagBRT/Intro-to-Programming-with-Python.git cloned-repo\n",
        "%cd cloned-repo\n",
        "#https://www.guru99.com/reading-and-writing-files-in-python.html"
      ],
      "execution_count": null,
      "outputs": []
    },
    {
      "cell_type": "code",
      "metadata": {
        "id": "1YzzXiITO3HX"
      },
      "source": [
        "from IPython.display import Image\n",
        "def page(num):\n",
        "    return Image(\"c7-content/c7PythonProgramming\"+str(num)+ \".png\" , width=640)"
      ],
      "execution_count": null,
      "outputs": []
    },
    {
      "cell_type": "markdown",
      "metadata": {
        "id": "UScJNYhlOsn8"
      },
      "source": [
        "# **Interactuando con archivos de texto**\n",
        "\n",
        "Con Python podemos crear, añadir contenido o leer archivos de texto."
      ]
    },
    {
      "cell_type": "markdown",
      "metadata": {
        "id": "onI1wt1OPY9m"
      },
      "source": [
        "# **Creando un archivo de texto** <br>\n",
        " **Paso 1**: Abre un archivo<br>\n",
        ">Abre un archivo con su nombre y sus opciones de permiso.<br>\n",
        "Por ejemplo:<br>\n",
        ">f = open(\"filename.txt\", \"w+\")\n",
        "\n",
        "Las opciones de permisos son: <br>\n",
        ">w = escribir (write)<br>\n",
        ">w+ = escribir y leer<br>\n",
        ">r = leer (read)<br>\n",
        ">a = añadir (append) (añadir contenido al final del archivo)<br>"
      ]
    },
    {
      "cell_type": "code",
      "metadata": {
        "id": "vRqpgo47PW8U"
      },
      "source": [
        "# Abre un archivo con su nombre y sus opciones de permiso\n",
        "f = open(\"textfile.txt\", \"w+\")"
      ],
      "execution_count": null,
      "outputs": []
    },
    {
      "cell_type": "markdown",
      "metadata": {
        "id": "YMWED_nVRKHk"
      },
      "source": [
        "**Paso 2**: Añade contenido al archivo"
      ]
    },
    {
      "cell_type": "code",
      "metadata": {
        "id": "9mQ_gDTBRxvu"
      },
      "source": [
        "# Puedes escribir lo que quieras al final del archivo\n",
        "# El carácter '\\n' significa un salto de línea\n",
        "f.write(\"This is the first line for the file\\n\")\n",
        "f.write(\"This is the second line for the file\\n\")\n",
        "f.write(\"a\")"
      ],
      "execution_count": null,
      "outputs": []
    },
    {
      "cell_type": "code",
      "metadata": {
        "id": "OsvdxkQ3SJfU"
      },
      "source": [
        "#O puedes usar un ciclo para escribir en el archivo\n",
        "for i in range(3,20):\n",
        "  f.write(\"This is line %d\\n\" %i)"
      ],
      "execution_count": null,
      "outputs": []
    },
    {
      "cell_type": "markdown",
      "metadata": {
        "id": "sB4KhSMSUkr8"
      },
      "source": [
        "**Archivo 3: Cierra el archivo**"
      ]
    },
    {
      "cell_type": "code",
      "metadata": {
        "id": "SGDQy0AcUocx"
      },
      "source": [
        "f.close()"
      ],
      "execution_count": null,
      "outputs": []
    },
    {
      "cell_type": "code",
      "metadata": {
        "id": "litkvyHPUq9A"
      },
      "source": [
        "!cat textfile.txt"
      ],
      "execution_count": null,
      "outputs": []
    },
    {
      "cell_type": "markdown",
      "metadata": {
        "id": "gtML1ZbsVPd4"
      },
      "source": [
        "# **Añadir información al archivo**\n",
        "Puedes añadir información al final de un archivo.\n",
        "<br>\n",
        "a+ = abre el archivo si existe, o crea un archivo si es que no existe.\n"
      ]
    },
    {
      "cell_type": "markdown",
      "metadata": {
        "id": "4-O5gHGAWD1M"
      },
      "source": [
        "**Paso 1**: Abre o crea un archivo\n",
        "\n"
      ]
    },
    {
      "cell_type": "code",
      "metadata": {
        "id": "LVbBtK-CVzLP"
      },
      "source": [
        "# Abre el archivo si es que existe\n",
        "# Crea el archivo si es que no existe\n",
        "f = open(\"textfile.txt\", \"a+\")"
      ],
      "execution_count": null,
      "outputs": []
    },
    {
      "cell_type": "markdown",
      "metadata": {
        "id": "eC397-T3YcDn"
      },
      "source": [
        "**Paso 2**: Escribe información. Esta información se añade al final del archivo"
      ]
    },
    {
      "cell_type": "code",
      "metadata": {
        "id": "V5FFzthUYh3y"
      },
      "source": [
        "for i in range(20,25):\n",
        "  f.write(\"added line %d\\n\" %i)"
      ],
      "execution_count": null,
      "outputs": []
    },
    {
      "cell_type": "markdown",
      "metadata": {
        "id": "NGP8YCF1ZFJJ"
      },
      "source": [
        "**Paso 3**: Cierra el archivo"
      ]
    },
    {
      "cell_type": "code",
      "metadata": {
        "id": "_dj2K2YnZN8_"
      },
      "source": [
        "f.close()"
      ],
      "execution_count": null,
      "outputs": []
    },
    {
      "cell_type": "code",
      "metadata": {
        "id": "qyr5s4OmYyzy"
      },
      "source": [
        "!cat textfile.txt"
      ],
      "execution_count": null,
      "outputs": []
    },
    {
      "cell_type": "markdown",
      "metadata": {
        "id": "Lj9JOty2ZfLJ"
      },
      "source": [
        "# **Leer un archivo de texto**\n",
        "Puedes abrir un archivo solamente para leer su contenido."
      ]
    },
    {
      "cell_type": "markdown",
      "metadata": {
        "id": "pXMu7n4waAmV"
      },
      "source": [
        "**Paso 1**: Abre el archivo con el permiso de leer (r)"
      ]
    },
    {
      "cell_type": "code",
      "metadata": {
        "id": "higyz_AjaFGk"
      },
      "source": [
        "f=open(\"textfile.txt\", \"r\")"
      ],
      "execution_count": null,
      "outputs": []
    },
    {
      "cell_type": "markdown",
      "metadata": {
        "id": "PRkGRztFaJ9E"
      },
      "source": [
        "**Paso 2**: Lee el archivo y almacénalo en una variable."
      ]
    },
    {
      "cell_type": "code",
      "metadata": {
        "id": "lRBzOm6laSha"
      },
      "source": [
        "file_content = f.read()"
      ],
      "execution_count": null,
      "outputs": []
    },
    {
      "cell_type": "markdown",
      "metadata": {
        "id": "mvg-1Z4FaZXq"
      },
      "source": [
        "**Paso 3**: Cierra el archivo"
      ]
    },
    {
      "cell_type": "code",
      "metadata": {
        "id": "YjMMGtQBac2-"
      },
      "source": [
        "f.close()"
      ],
      "execution_count": null,
      "outputs": []
    },
    {
      "cell_type": "markdown",
      "metadata": {
        "id": "jXkHCF52aodR"
      },
      "source": [
        "Mira el contenido del archivo. Puedes hacer esto antes o después de cerrar el archivo"
      ]
    },
    {
      "cell_type": "code",
      "metadata": {
        "id": "pItsxV5zanyk"
      },
      "source": [
        "print(file_content)"
      ],
      "execution_count": null,
      "outputs": []
    },
    {
      "cell_type": "markdown",
      "metadata": {
        "id": "F-65Po3GbKES"
      },
      "source": [
        "# **Leer el archivo de texto línea por línea**\n",
        "A veces el archivo es demasiado grande como para poder abrirlo y almacenarlo en una sola variable.<br>\n",
        "En ese caso, podemos leer el archivo línea por línea. <br>\n"
      ]
    },
    {
      "cell_type": "code",
      "metadata": {
        "id": "dQQUWl4bbiJ8"
      },
      "source": [
        "#Paso 1: abrir el archivo\n",
        "f = open(\"textfile.txt\", \"r\")\n",
        "\n",
        "#Paso 2: leer el archivo línea por línea\n",
        "f1 = f.readlines()\n",
        "for x in f1:\n",
        "  print(x)\n",
        "\n",
        "\n",
        "#Paso 3: cierra el archivo\n",
        "f.close()"
      ],
      "execution_count": null,
      "outputs": []
    },
    {
      "cell_type": "markdown",
      "metadata": {
        "id": "wwyZS9xnciym"
      },
      "source": [
        "# **Actividad #1**\n",
        "1. Crea un archivo con el nombre: \"jabberwocky.txt\"\n",
        "2. Añade las siguientes líneas de texto al archivo:\n",
        ">’Twas brillig, and the slithy toves\n",
        "      Did gyre and gimble in the wabe:<br>\n",
        "All mimsy were the borogoves,\n",
        "      And the mome raths outgrabe.\n",
        "\n",
        ">>“Beware the Jabberwock, my son!\n",
        "      The jaws that bite, the claws that catch!<br>\n",
        "Beware the Jubjub bird, and shun\n",
        "      The frumious Bandersnatch!”\n",
        "\n",
        ">>He took his vorpal sword in hand;\n",
        "      Long time the manxome foe he sought—<br>\n",
        "So rested he by the Tumtum tree\n",
        "      And stood awhile in thought.\n",
        "\n",
        "<br><br>\n",
        "3. No olvides cerrar el archivo."
      ]
    },
    {
      "cell_type": "code",
      "metadata": {
        "id": "6nnk7zqpdRlF"
      },
      "source": [
        "# Actividad #1"
      ],
      "execution_count": null,
      "outputs": []
    },
    {
      "cell_type": "markdown",
      "metadata": {
        "id": "1MjfV_EkdhES"
      },
      "source": [
        "# **Actividad #2**\n",
        "\n",
        "1. Abre el archivo: \"jabberwocky.txt\"\n",
        "2. Añade las siguientes líneas de texto al archivo: <br>\n",
        "\n",
        "> And, as in uffish thought he stood,\n",
        "      The Jabberwock, with eyes of flame,<br>\n",
        "Came whiffling through the tulgey wood,\n",
        "      And burbled as it came!\n",
        "\n",
        ">One, two! One, two! And through and through\n",
        "      The vorpal blade went snicker-snack!<br>\n",
        "He left it dead, and with its head\n",
        "      He went galumphing back.\n",
        "\n",
        "3. No olvides cerrar el archivo."
      ]
    },
    {
      "cell_type": "code",
      "metadata": {
        "id": "TernGr4oe9jI"
      },
      "source": [
        "# Actividad #2"
      ],
      "execution_count": null,
      "outputs": []
    },
    {
      "cell_type": "markdown",
      "metadata": {
        "id": "6k3Boj_WfAb0"
      },
      "source": [
        "# **Actividad #3**\n",
        "1. Abre el archivo jabberwocky.txt\n",
        "2. Cuenta el número de caracteres que hay en el archivo."
      ]
    },
    {
      "cell_type": "code",
      "metadata": {
        "id": "dCHT4g4Cfh3O"
      },
      "source": [
        "# Actividad #3"
      ],
      "execution_count": null,
      "outputs": []
    },
    {
      "cell_type": "markdown",
      "metadata": {
        "id": "-wCqBCf4mfSH"
      },
      "source": [
        "# **Debug Exercise**"
      ]
    },
    {
      "cell_type": "code",
      "metadata": {
        "id": "i-zu4wrKmhjv"
      },
      "source": [
        "f= open(\"guru99.txt\",\"w+\")\n",
        "f = open(\"guru99.txt\", \"a+\")\n",
        "for i in range(10)\n",
        "  f.write(\"This is line %d\\r\\n\" % (i+1))\n",
        "\n",
        "#Open the file and read the contents\n",
        "f=open(\"guru99.txt\")\n",
        "if f.mode == 'r':\n",
        "  contents = f.read()\n",
        "  print (contents)\n",
        "#or, readlines reads the individual line into a list\n",
        "else:\n",
        "  f.write(\"Hey, I'm in the else statement\")\n",
        "\n",
        "\n",
        "!cat guru99.txt\n"
      ],
      "execution_count": null,
      "outputs": []
    },
    {
      "cell_type": "code",
      "source": [],
      "metadata": {
        "id": "c3STKGp2z91H"
      },
      "execution_count": null,
      "outputs": []
    }
  ]
}