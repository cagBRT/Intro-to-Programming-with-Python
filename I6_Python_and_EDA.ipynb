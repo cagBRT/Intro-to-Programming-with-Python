{
  "nbformat": 4,
  "nbformat_minor": 0,
  "metadata": {
    "colab": {
      "private_outputs": true,
      "provenance": [],
      "authorship_tag": "ABX9TyMS5V/vcKPGcHkW3g0QIwfk",
      "include_colab_link": true
    },
    "kernelspec": {
      "name": "python3",
      "display_name": "Python 3"
    },
    "language_info": {
      "name": "python"
    }
  },
  "cells": [
    {
      "cell_type": "markdown",
      "metadata": {
        "id": "view-in-github",
        "colab_type": "text"
      },
      "source": [
        "<a href=\"https://colab.research.google.com/github/cagBRT/Intro-to-Programming-with-Python/blob/master/I6_Python_and_EDA.ipynb\" target=\"_parent\"><img src=\"https://colab.research.google.com/assets/colab-badge.svg\" alt=\"Open In Colab\"/></a>"
      ]
    },
    {
      "cell_type": "markdown",
      "source": [
        "In this notebook we look at several Python libraries that can help with Exploratory Data Analysis"
      ],
      "metadata": {
        "id": "kO-LTeqnzE2Z"
      }
    },
    {
      "cell_type": "markdown",
      "source": [
        "The libraries we will look at are: <br>\n",
        ">SummaryTools<br>\n",
        "Skimpy<br>\n",
        "YData-Profiling<br>\n",
        "DTale<br>\n",
        "Data Table<br>\n",
        "SweetViz<br>"
      ],
      "metadata": {
        "id": "xKnuLeOizQZw"
      }
    },
    {
      "cell_type": "markdown",
      "source": [
        "## SummaryTools"
      ],
      "metadata": {
        "id": "U0yD93WMzwaL"
      }
    },
    {
      "cell_type": "code",
      "execution_count": null,
      "metadata": {
        "id": "NyzoHtN9bx2k"
      },
      "outputs": [],
      "source": [
        "!pip install summarytools"
      ]
    },
    {
      "cell_type": "code",
      "source": [
        "!pip install skimpy"
      ],
      "metadata": {
        "id": "3PJXrXyP8iDi"
      },
      "execution_count": null,
      "outputs": []
    },
    {
      "cell_type": "code",
      "source": [
        "#!pip install ydata-profiling\n",
        "!pip install -U ydata-profiling==4.0.0 matplotlib==3.5.1"
      ],
      "metadata": {
        "id": "-nPQjkaa9DVN"
      },
      "execution_count": null,
      "outputs": []
    },
    {
      "cell_type": "markdown",
      "source": [
        "**We use the Iris dataset**"
      ],
      "metadata": {
        "id": "bGLQ1lJm0Cyj"
      }
    },
    {
      "cell_type": "markdown",
      "source": [
        "Need to import MatPlotLib after installing SummaryTools and Skimpy"
      ],
      "metadata": {
        "id": "D3TpZ0ma8nfe"
      }
    },
    {
      "cell_type": "code",
      "source": [
        "import pandas as pd\n",
        "import seaborn as sns\n",
        "import matplotlib.pyplot as plt\n",
        "\n",
        "\n",
        "from summarytools import dfSummary"
      ],
      "metadata": {
        "id": "uD-XPaiIcARi"
      },
      "execution_count": null,
      "outputs": []
    },
    {
      "cell_type": "markdown",
      "source": [
        "**df_pd is the Iris dataset as a Pandas dataset**"
      ],
      "metadata": {
        "id": "ND9dDVFM0KFU"
      }
    },
    {
      "cell_type": "code",
      "source": [
        "df_pd = sns.load_dataset('iris')"
      ],
      "metadata": {
        "id": "qJkW2VRFcCGP"
      },
      "execution_count": null,
      "outputs": []
    },
    {
      "cell_type": "code",
      "source": [
        "df_pd.describe()"
      ],
      "metadata": {
        "id": "vPKv1x6Hc1Wy"
      },
      "execution_count": null,
      "outputs": []
    },
    {
      "cell_type": "markdown",
      "source": [
        "### dfSummary<br>\n",
        "Creates a summary of the dataframe"
      ],
      "metadata": {
        "id": "YxwB1Y0F0QXL"
      }
    },
    {
      "cell_type": "code",
      "source": [
        "dfSummary(df_pd)"
      ],
      "metadata": {
        "id": "RzO4HvJ8cD0o"
      },
      "execution_count": null,
      "outputs": []
    },
    {
      "cell_type": "markdown",
      "source": [
        "## Skimpy"
      ],
      "metadata": {
        "id": "up66CON70buC"
      }
    },
    {
      "cell_type": "code",
      "source": [
        "from skimpy import skim"
      ],
      "metadata": {
        "id": "sKvsy-DXz9cn"
      },
      "execution_count": null,
      "outputs": []
    },
    {
      "cell_type": "markdown",
      "source": [
        "### skim(dataframe)"
      ],
      "metadata": {
        "id": "S8x4X7Mh0hfY"
      }
    },
    {
      "cell_type": "code",
      "source": [
        "skim(df_pd)"
      ],
      "metadata": {
        "id": "njC-kd5ncGgh"
      },
      "execution_count": null,
      "outputs": []
    },
    {
      "cell_type": "markdown",
      "source": [
        "## YData-profiling"
      ],
      "metadata": {
        "id": "zcLxoNSr0m00"
      }
    },
    {
      "cell_type": "markdown",
      "source": [
        "### YData-profiling Report"
      ],
      "metadata": {
        "id": "Y2fK_O4d0r7L"
      }
    },
    {
      "cell_type": "code",
      "source": [
        "import pandas as pd\n",
        "from ydata_profiling import ProfileReport\n",
        "import matplotlib\n",
        "\n",
        "ProfileReport(df_pd)\n"
      ],
      "metadata": {
        "id": "eXK7eirKpO95"
      },
      "execution_count": null,
      "outputs": []
    },
    {
      "cell_type": "markdown",
      "source": [
        "## DTale"
      ],
      "metadata": {
        "id": "cbo13peE0z3h"
      }
    },
    {
      "cell_type": "code",
      "source": [
        "!pip install dtale"
      ],
      "metadata": {
        "id": "ogq2fphVplj6"
      },
      "execution_count": null,
      "outputs": []
    },
    {
      "cell_type": "markdown",
      "source": [
        "Create the dtale"
      ],
      "metadata": {
        "id": "C1eD5QQU05Zt"
      }
    },
    {
      "cell_type": "code",
      "source": [
        "import dtale\n",
        "import dtale.app as dtale_app\n",
        "dtale_app.USE_COLAB = True\n",
        "\n",
        "dtale.show(df_pd)"
      ],
      "metadata": {
        "id": "i4zkXxAlpxPI"
      },
      "execution_count": null,
      "outputs": []
    },
    {
      "cell_type": "code",
      "source": [
        "from google.colab import data_table\n",
        "from vega_datasets import data\n",
        "\n",
        "data_table.enable_dataframe_formatter()\n",
        "\n",
        "data.airports()"
      ],
      "metadata": {
        "id": "ScBAf6RNqPqu"
      },
      "execution_count": null,
      "outputs": []
    },
    {
      "cell_type": "code",
      "source": [
        "!pip install sweetviz"
      ],
      "metadata": {
        "id": "dlN_TRqsqzgY"
      },
      "execution_count": null,
      "outputs": []
    },
    {
      "cell_type": "code",
      "source": [
        "import sweetviz as sv\n",
        "\n",
        "df = pd.read_csv('https://raw.githubusercontent.com/Data-Centric-AI-Community/awesome-data-centric-ai/master/medium/data-profiling-tools/data/hcc.csv')\n",
        "report = sv.analyze(df)\n",
        "report.show_html()"
      ],
      "metadata": {
        "id": "fS1Gg4RUrLfl"
      },
      "execution_count": null,
      "outputs": []
    },
    {
      "cell_type": "code",
      "source": [
        "report.show_notebook()"
      ],
      "metadata": {
        "id": "UKNxZElPrsoX"
      },
      "execution_count": null,
      "outputs": []
    },
    {
      "cell_type": "code",
      "source": [
        "df.Outcome = pd.Categorical(df.Outcome)\n",
        "df['Survival'] = df.Outcome.cat.codes"
      ],
      "metadata": {
        "id": "g9zit2yasGFM"
      },
      "execution_count": null,
      "outputs": []
    },
    {
      "cell_type": "code",
      "source": [
        "df.head()"
      ],
      "metadata": {
        "id": "zniR7zR9sI6N"
      },
      "execution_count": null,
      "outputs": []
    },
    {
      "cell_type": "code",
      "source": [
        "comparison_report = sv.compare_intra(df, df[\"Gender\"] == 'Male', [\"Male\", \"Female\"], 'Survival')\n",
        "comparison_report.show_notebook()"
      ],
      "metadata": {
        "id": "WV9IImCKsLV7"
      },
      "execution_count": null,
      "outputs": []
    }
  ]
}