{
  "nbformat": 4,
  "nbformat_minor": 0,
  "metadata": {
    "colab": {
      "private_outputs": true,
      "provenance": [],
      "authorship_tag": "ABX9TyNPO5xXx5zA/ewclenpfm1l",
      "include_colab_link": true
    },
    "kernelspec": {
      "name": "python3",
      "display_name": "Python 3"
    },
    "language_info": {
      "name": "python"
    }
  },
  "cells": [
    {
      "cell_type": "markdown",
      "metadata": {
        "id": "view-in-github",
        "colab_type": "text"
      },
      "source": [
        "<a href=\"https://colab.research.google.com/github/cagBRT/Intro-to-Programming-with-Python/blob/master/I6_Python_and_EDA.ipynb\" target=\"_parent\"><img src=\"https://colab.research.google.com/assets/colab-badge.svg\" alt=\"Open In Colab\"/></a>"
      ]
    },
    {
      "cell_type": "markdown",
      "source": [
        "In this notebook we look at several Python libraries that can help with Exploratory Data Analysis"
      ],
      "metadata": {
        "id": "kO-LTeqnzE2Z"
      }
    },
    {
      "cell_type": "markdown",
      "source": [
        "The libraries we will look at are: <br>\n",
        ">SummaryTools<br>\n",
        "Skimpy<br>\n",
        "YData-Profiling<br>\n",
        "DTale<br>\n",
        "Data Table<br>\n",
        "SweetViz<br>"
      ],
      "metadata": {
        "id": "xKnuLeOizQZw"
      }
    },
    {
      "cell_type": "markdown",
      "source": [
        "We will also look at several datasets:<br>\n",
        ">Iris<br>\n",
        "HCC<br>\n",
        "Airports"
      ],
      "metadata": {
        "id": "biCNOlY3Etbo"
      }
    },
    {
      "cell_type": "markdown",
      "source": [
        "## SummaryTools"
      ],
      "metadata": {
        "id": "U0yD93WMzwaL"
      }
    },
    {
      "cell_type": "code",
      "execution_count": null,
      "metadata": {
        "id": "NyzoHtN9bx2k"
      },
      "outputs": [],
      "source": [
        "!pip install summarytools"
      ]
    },
    {
      "cell_type": "code",
      "source": [
        "!pip install skimpy"
      ],
      "metadata": {
        "id": "3PJXrXyP8iDi"
      },
      "execution_count": null,
      "outputs": []
    },
    {
      "cell_type": "code",
      "source": [
        "#!pip install ydata-profiling\n",
        "!pip install -U ydata-profiling==4.0.0 matplotlib==3.5.1"
      ],
      "metadata": {
        "id": "-nPQjkaa9DVN"
      },
      "execution_count": null,
      "outputs": []
    },
    {
      "cell_type": "markdown",
      "source": [
        "**Use the Iris dataset**"
      ],
      "metadata": {
        "id": "bGLQ1lJm0Cyj"
      }
    },
    {
      "cell_type": "markdown",
      "source": [
        "Need to import MatPlotLib after installing SummaryTools and Skimpy"
      ],
      "metadata": {
        "id": "D3TpZ0ma8nfe"
      }
    },
    {
      "cell_type": "code",
      "source": [
        "import pandas as pd\n",
        "import seaborn as sns\n",
        "import matplotlib.pyplot as plt\n",
        "\n",
        "from summarytools import dfSummary"
      ],
      "metadata": {
        "id": "uD-XPaiIcARi"
      },
      "execution_count": null,
      "outputs": []
    },
    {
      "cell_type": "markdown",
      "source": [
        "**df_pd is the Iris dataset as a Pandas dataset**"
      ],
      "metadata": {
        "id": "ND9dDVFM0KFU"
      }
    },
    {
      "cell_type": "code",
      "source": [
        "df_iris = sns.load_dataset('iris')"
      ],
      "metadata": {
        "id": "qJkW2VRFcCGP"
      },
      "execution_count": null,
      "outputs": []
    },
    {
      "cell_type": "code",
      "source": [
        "df_iris.describe()"
      ],
      "metadata": {
        "id": "vPKv1x6Hc1Wy"
      },
      "execution_count": null,
      "outputs": []
    },
    {
      "cell_type": "markdown",
      "source": [
        "### dfSummary<br>\n",
        "Creates a summary of the dataframe"
      ],
      "metadata": {
        "id": "YxwB1Y0F0QXL"
      }
    },
    {
      "cell_type": "code",
      "source": [
        "dfSummary(df_iris)"
      ],
      "metadata": {
        "id": "RzO4HvJ8cD0o"
      },
      "execution_count": null,
      "outputs": []
    },
    {
      "cell_type": "markdown",
      "source": [
        "## Skimpy"
      ],
      "metadata": {
        "id": "up66CON70buC"
      }
    },
    {
      "cell_type": "code",
      "source": [
        "from skimpy import skim"
      ],
      "metadata": {
        "id": "sKvsy-DXz9cn"
      },
      "execution_count": null,
      "outputs": []
    },
    {
      "cell_type": "markdown",
      "source": [
        "### skim(dataframe)<br>\n",
        "Use the Iris dataset"
      ],
      "metadata": {
        "id": "S8x4X7Mh0hfY"
      }
    },
    {
      "cell_type": "code",
      "source": [
        "skim(df_iris)"
      ],
      "metadata": {
        "id": "njC-kd5ncGgh"
      },
      "execution_count": null,
      "outputs": []
    },
    {
      "cell_type": "markdown",
      "source": [
        "## YData-profiling"
      ],
      "metadata": {
        "id": "zcLxoNSr0m00"
      }
    },
    {
      "cell_type": "markdown",
      "source": [
        "### YData-profiling Report<br>\n",
        "\n",
        "Use hcc dataset"
      ],
      "metadata": {
        "id": "Y2fK_O4d0r7L"
      }
    },
    {
      "cell_type": "markdown",
      "source": [
        "**Hepatocellular Carcinoma dataset (HCC)** was obtained at a University Hospital in Portugal and contais several demographic, risk factors, laboratory and overall survival features of 165 real patients diagnosed with HCC. This dataset contains 13 features, 1 outcome column"
      ],
      "metadata": {
        "id": "B5sTS00ZAb2g"
      }
    },
    {
      "cell_type": "code",
      "source": [
        "import pandas as pd\n",
        "from ydata_profiling import ProfileReport\n",
        "import matplotlib\n",
        "\n",
        "df_hcc=pd.read_csv('https://raw.githubusercontent.com/Data-Centric-AI-Community/awesome-data-centric-ai/master/medium/data-profiling-tools/data/hcc.csv')\n",
        "df_hcc.head()"
      ],
      "metadata": {
        "id": "eXK7eirKpO95"
      },
      "execution_count": null,
      "outputs": []
    },
    {
      "cell_type": "code",
      "source": [
        "df_hcc.shape"
      ],
      "metadata": {
        "id": "EThrRDvGAm4C"
      },
      "execution_count": null,
      "outputs": []
    },
    {
      "cell_type": "code",
      "source": [
        "ProfileReport(df_hcc)"
      ],
      "metadata": {
        "id": "NZ-9AKJM__u0"
      },
      "execution_count": null,
      "outputs": []
    },
    {
      "cell_type": "markdown",
      "source": [
        "## DTale"
      ],
      "metadata": {
        "id": "cbo13peE0z3h"
      }
    },
    {
      "cell_type": "code",
      "source": [
        "!pip install dtale"
      ],
      "metadata": {
        "id": "ogq2fphVplj6"
      },
      "execution_count": null,
      "outputs": []
    },
    {
      "cell_type": "markdown",
      "source": [
        "Create the dtale<br>\n",
        "Click on the link when it is generated, you can then explore the data table"
      ],
      "metadata": {
        "id": "C1eD5QQU05Zt"
      }
    },
    {
      "cell_type": "markdown",
      "source": [
        "The link will take you to the DTale app, and you can explore your data. <br>\n",
        "\n",
        "Check out the menu at the top of the DTale app<BR>\n",
        "The menu will appear when you move your cursor to the upper left corner of the app"
      ],
      "metadata": {
        "id": "rFtrBWzEGn2S"
      }
    },
    {
      "cell_type": "code",
      "source": [
        "import dtale\n",
        "import dtale.app as dtale_app\n",
        "\n",
        "dtale_app.USE_COLAB = True\n",
        "\n",
        "dtale.show(df_iris)"
      ],
      "metadata": {
        "id": "i4zkXxAlpxPI"
      },
      "execution_count": null,
      "outputs": []
    },
    {
      "cell_type": "markdown",
      "source": [
        "## SweetViz"
      ],
      "metadata": {
        "id": "lj-Wf1OqDR1y"
      }
    },
    {
      "cell_type": "code",
      "source": [
        "!pip install sweetviz"
      ],
      "metadata": {
        "id": "dlN_TRqsqzgY"
      },
      "execution_count": null,
      "outputs": []
    },
    {
      "cell_type": "code",
      "source": [
        "import sweetviz as sv\n",
        "\n",
        "df_hcc.shape"
      ],
      "metadata": {
        "id": "fS1Gg4RUrLfl"
      },
      "execution_count": null,
      "outputs": []
    },
    {
      "cell_type": "code",
      "source": [
        "df_hcc.columns"
      ],
      "metadata": {
        "id": "xy0_l19ZCIeg"
      },
      "execution_count": null,
      "outputs": []
    },
    {
      "cell_type": "code",
      "source": [
        "report = sv.analyze(df_hcc)\n",
        "report.show_html()"
      ],
      "metadata": {
        "id": "0jiQANskBTkd"
      },
      "execution_count": null,
      "outputs": []
    },
    {
      "cell_type": "code",
      "source": [
        "report.show_notebook()"
      ],
      "metadata": {
        "id": "UKNxZElPrsoX"
      },
      "execution_count": null,
      "outputs": []
    },
    {
      "cell_type": "code",
      "source": [
        "df_hcc.Outcome = pd.Categorical(df_hcc.Outcome)\n",
        "df_hcc['Survival'] = df_hcc.Outcome.cat.codes"
      ],
      "metadata": {
        "id": "g9zit2yasGFM"
      },
      "execution_count": null,
      "outputs": []
    },
    {
      "cell_type": "code",
      "source": [
        "df_hcc.head()"
      ],
      "metadata": {
        "id": "zniR7zR9sI6N"
      },
      "execution_count": null,
      "outputs": []
    },
    {
      "cell_type": "code",
      "source": [
        "comparison_report = sv.compare_intra(df_hcc, df_hcc[\"Gender\"] == 'Male', [\"Male\", \"Female\"], 'Survival')\n",
        "comparison_report.show_notebook()"
      ],
      "metadata": {
        "id": "WV9IImCKsLV7"
      },
      "execution_count": null,
      "outputs": []
    },
    {
      "cell_type": "markdown",
      "source": [
        "## MissingNo<br>\n",
        "\n",
        "If you are interested in using a lightweight library to explore the completeness of your data, then missingno is one you should definitely consider for your EDA toolbox."
      ],
      "metadata": {
        "id": "5dBgcm4yHr-O"
      }
    },
    {
      "cell_type": "code",
      "source": [
        "!pip install missingno"
      ],
      "metadata": {
        "id": "ZfcX5ua1H0H9"
      },
      "execution_count": null,
      "outputs": []
    },
    {
      "cell_type": "code",
      "source": [
        "import pandas as pd\n",
        "import missingno as msno"
      ],
      "metadata": {
        "id": "9GmPxwCsH4td"
      },
      "execution_count": null,
      "outputs": []
    },
    {
      "cell_type": "markdown",
      "source": [
        "### How complete each is column within the dataframe"
      ],
      "metadata": {
        "id": "PGbQ648AJDI6"
      }
    },
    {
      "cell_type": "code",
      "source": [
        "msno.bar(df_hcc)"
      ],
      "metadata": {
        "id": "M-S9TBLvH_xD"
      },
      "execution_count": null,
      "outputs": []
    },
    {
      "cell_type": "markdown",
      "source": [
        "###Where the missing data occurs"
      ],
      "metadata": {
        "id": "4KGSwTwnJJl_"
      }
    },
    {
      "cell_type": "code",
      "source": [
        " msno.matrix(df_hcc)"
      ],
      "metadata": {
        "id": "95xSPgtZIi46"
      },
      "execution_count": null,
      "outputs": []
    },
    {
      "cell_type": "markdown",
      "source": [
        "###How correlated the missing values are"
      ],
      "metadata": {
        "id": "TTmXLmQ6JOYh"
      }
    },
    {
      "cell_type": "code",
      "source": [
        "msno.dendrogram(df_hcc)"
      ],
      "metadata": {
        "id": "YLpbLYBuIkMx"
      },
      "execution_count": null,
      "outputs": []
    },
    {
      "cell_type": "markdown",
      "source": [
        "###How correlated the missing values are"
      ],
      "metadata": {
        "id": "OVRNHZD7JRvY"
      }
    },
    {
      "cell_type": "code",
      "source": [
        "msno.heatmap(df_hcc)"
      ],
      "metadata": {
        "id": "H_B48qKTIlbK"
      },
      "execution_count": null,
      "outputs": []
    }
  ]
}