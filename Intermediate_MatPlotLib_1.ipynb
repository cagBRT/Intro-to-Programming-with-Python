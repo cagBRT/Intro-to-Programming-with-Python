{
  "nbformat": 4,
  "nbformat_minor": 0,
  "metadata": {
    "colab": {
      "private_outputs": true,
      "provenance": [],
      "authorship_tag": "ABX9TyM7FtlhLdp/Qd1CLah7Z9Wm",
      "include_colab_link": true
    },
    "kernelspec": {
      "name": "python3",
      "display_name": "Python 3"
    },
    "language_info": {
      "name": "python"
    }
  },
  "cells": [
    {
      "cell_type": "markdown",
      "metadata": {
        "id": "view-in-github",
        "colab_type": "text"
      },
      "source": [
        "<a href=\"https://colab.research.google.com/github/cagBRT/Intro-to-Programming-with-Python/blob/master/Intermediate_MatPlotLib_1.ipynb\" target=\"_parent\"><img src=\"https://colab.research.google.com/assets/colab-badge.svg\" alt=\"Open In Colab\"/></a>"
      ]
    },
    {
      "cell_type": "code",
      "source": [
        "# Clone the entire repo.\n",
        "!git clone -l -s https://github.com/cagBRT/Intro-to-Programming-with-Python.git cloned-repo\n",
        "%cd cloned-repo"
      ],
      "metadata": {
        "id": "Ril2HqYweYgM"
      },
      "execution_count": null,
      "outputs": []
    },
    {
      "cell_type": "markdown",
      "source": [
        "This notebook asks the student to use the Titanic Dataset to implement some of the intermediate Matplotlib techniques demonstrated in the notebook [Intermediate MatPlotLib](https://colab.research.google.com/github/cagBRT/Intro-to-Programming-with-Python/blob/master/Intermediate_MatPlotLib.ipynb)"
      ],
      "metadata": {
        "id": "addtjqUv0AA0"
      }
    },
    {
      "cell_type": "markdown",
      "source": [
        "This notebook is based on the Kaggle notebook [\"Awesome Visualization with the Titanic Dataset\"](https://www.kaggle.com/code/subinium/awesome-visualization-with-titanic-dataset/notebook)\n"
      ],
      "metadata": {
        "id": "2RvY0D_5zyr4"
      }
    },
    {
      "cell_type": "markdown",
      "source": [
        "The goal of this notebook is to create The Economist-style visualization material with only python basic library matplotlib & seaborn"
      ],
      "metadata": {
        "id": "oK91LkRz14Qb"
      }
    },
    {
      "cell_type": "markdown",
      "source": [
        "### Table of Contents\n",
        "\n",
        "- **Timeline visualization** : Matplotlib Techniques\n",
        "- **Ridgeplot** : Effective Multi Distribution\n",
        "- **Barplot** : How to Customize Bar?\n",
        "- **Stripplot** : Effective distribution plot\n",
        "- **Heatmap** : How t Custom Heatmap?\n",
        "- **Dimension Reduction + Scatter**"
      ],
      "metadata": {
        "id": "L3rHD5qt6AC2"
      }
    },
    {
      "cell_type": "markdown",
      "source": [
        "## Visualization with Titanic Dataset📊\n",
        "\n",
        "\n",
        "![](https://images.squarespace-cdn.com/content/v1/5006453fe4b09ef2252ba068/1351392437993-BV9HK0L2V72X9FA05IOP/ke17ZwdGBToddI8pDm48kNWCohGJSet_CTOduKgSq_IUqsxRUqqbr1mOJYKfIPR7LoDQ9mXPOjoJoqy81S2I8N_N4V1vUb5AoIIIbLZhVYxCRW4BPu10St3TBAUQYVKcq9E8CIbGv7FsN6c8xqWQM05n26OV6V51zLkOg8VQq3jPVEm2DFIE48zJj5Gl4vDf/Titanic_Blueprints_Design+%2815%29.gif)\n",
        "\n",
        "\n"
      ],
      "metadata": {
        "id": "Mvk_XBHJ2vA5"
      }
    },
    {
      "cell_type": "code",
      "source": [
        "!pip install seaborn"
      ],
      "metadata": {
        "id": "PxGWcdj43Gvz"
      },
      "execution_count": null,
      "outputs": []
    },
    {
      "cell_type": "code",
      "source": [
        "import matplotlib as mpl\n",
        "import matplotlib.pyplot as plt\n",
        "import matplotlib.gridspec as grid_spec\n",
        "from matplotlib.ticker import FuncFormatter\n",
        "\n",
        "import seaborn as sns\n",
        "\n",
        "import numpy as np\n",
        "import pandas as pd"
      ],
      "metadata": {
        "id": "U3Tzyl0N3Q4s"
      },
      "execution_count": null,
      "outputs": []
    },
    {
      "cell_type": "markdown",
      "source": [
        "# Timelines"
      ],
      "metadata": {
        "id": "0JbzCRI0507D"
      }
    },
    {
      "cell_type": "markdown",
      "source": [
        "##Timeline Visualization\n",
        "\n",
        "- A **Timeline** is a graphical way of displaying a list of events in chronological order.\n",
        "- line + scatter + **stem plot**\n",
        "\n",
        "---\n",
        "\n",
        "### Simple Explanation\n",
        "\n",
        "- First of all, the ingredients are:\n",
        "    - a line\n",
        "    - 3 data points\n",
        "        - 2 point set of date\n",
        "            - black one, white one\n",
        "        - 1 point set of time\n",
        "    - vertical lines which matching with time (stem plot)\n",
        "\n",
        "- The downside is that the process of adjusting text position is heuristic."
      ],
      "metadata": {
        "id": "MpYNiyoE53JR"
      }
    },
    {
      "cell_type": "code",
      "source": [
        "data = pd.read_csv('data_files/train.csv')\n",
        "data.shape"
      ],
      "metadata": {
        "id": "3q5RGI6n6Hsz"
      },
      "execution_count": null,
      "outputs": []
    },
    {
      "cell_type": "code",
      "source": [
        "#set the palette for the plots\n",
        "sns.palplot(['#fafafa', '#4a4a4a', '#e3120b'])"
      ],
      "metadata": {
        "id": "865CU7NF7DN7"
      },
      "execution_count": null,
      "outputs": []
    },
    {
      "cell_type": "code",
      "source": [
        "from datetime import datetime\n",
        "\n",
        "tl_dates = [\n",
        "    \"WED April 10\",\n",
        "    \"SUN April 14\",\n",
        "    \"MON April 15\",\n",
        "    \"THU April 18\"\n",
        "]\n",
        "\n",
        "tl_x = [1, 2, 6, 9]\n",
        "\n",
        "tl_sub_x = [1.5, 2.4, 2.9, 3.4, 3.8, 4.5, 5.0, 6.5, 7, 7.6, 8]\n",
        "tl_sub_times = [\n",
        "    \"1:30 PM\",\n",
        "    \"9:00 AM\",\n",
        "    \"1:42 PM\",\n",
        "    \"7:15 PM\",\n",
        "    \"10:00 PM\",\n",
        "    \"11:30 PM\",\n",
        "    \"11:40 PM\",\n",
        "    \"12:20 AM\",\n",
        "    \"12:45 AM\",\n",
        "    \"2:00 AM\",\n",
        "    \"2:20 AM\",\n",
        "]\n",
        "\n",
        "tl_text = [\n",
        "    \"Titanic sets sail.\",\n",
        "    \"Recieve Message.\",\n",
        "    \"Baltic Warns Titanic\\nof icebergs.\",\n",
        "    \"Smith requests the\\n return of the message.\",\n",
        "    \"Second Officer\\n Lightroller is\\n relievced from duty.\",\n",
        "    \"Warning bells, iceberg\\n sighting.\",\n",
        "    \"Titanic hits an iceberg.\",\n",
        "    \"Life boats are being\\n lowered.\",\n",
        "    \"Passengers slowly arrive\\n on deck.\",\n",
        "    \"Rear of boat begins to\\n raise.\",\n",
        "    \"Titanic sinks.\"\n",
        "]"
      ],
      "metadata": {
        "id": "5FGZXXuD7YMD"
      },
      "execution_count": null,
      "outputs": []
    },
    {
      "cell_type": "code",
      "source": [
        "# Set figure & Axes\n",
        "fig, ax = plt.subplots(figsize=(15, 5), constrained_layout=True)\n",
        "ax.set_ylim(-2, 2)\n",
        "ax.set_xlim(0, 10)\n",
        "\n",
        "\n",
        "# Timeline : line\n",
        "ax.axhline(0, xmin=0.1, xmax=0.95, c='#4a4a4a', zorder=1)\n",
        "# Timeline : Date Points\n",
        "ax.scatter(tl_x, np.zeros(len(tl_x)), s=120, c='#4a4a4a', zorder=2)\n",
        "ax.scatter(tl_x, np.zeros(len(tl_x)), s=30, c='#fafafa', zorder=3)\n",
        "# Timeline : Time Points\n",
        "ax.scatter(tl_sub_x, np.zeros(len(tl_sub_x)), s=50, c='#4a4a4a',zorder=4)\n",
        "\n",
        "# Date Text\n",
        "for x, date in zip(tl_x, tl_dates):\n",
        "    ax.text(x, -0.2, date, ha='center',\n",
        "            fontfamily='serif', fontweight='bold',\n",
        "            color='#4a4a4a')\n",
        "\n",
        "\n",
        "# Stemplot : vertical line\n",
        "levels = np.zeros(len(tl_sub_x))\n",
        "levels[::2] = 0.3\n",
        "levels[1::2] = -0.3\n",
        "markerline, stemline, baseline = ax.stem(tl_sub_x, levels, use_line_collection=True)\n",
        "plt.setp(baseline, zorder=0)\n",
        "plt.setp(markerline, marker=',', color='#4a4a4a')\n",
        "plt.setp(stemline, color='#4a4a4a')\n",
        "\n",
        "# Text\n",
        "for idx, x, time, txt in zip(range(1, len(tl_sub_x)+1), tl_sub_x, tl_sub_times, tl_text):\n",
        "    ax.text(x, 1.3*(idx%2)-0.5, time, ha='center',\n",
        "            fontfamily='serif', fontweight='bold',\n",
        "            color='#4a4a4a' if idx!=len(tl_sub_x) else '#e3120b', fontsize=11)\n",
        "\n",
        "    ax.text(x, 1.3*(idx%2)-0.6, txt, va='top', ha='center',\n",
        "        fontfamily='serif',color='#4a4a4a' if idx!=len(tl_sub_x) else '#e3120b')\n",
        "\n",
        "# Spine\n",
        "for spine in [\"left\", \"top\", \"right\", \"bottom\"]:\n",
        "    ax.spines[spine].set_visible(False)\n",
        "\n",
        "# Ticks\n",
        "ax.set_xticks([])\n",
        "ax.set_yticks([])\n",
        "\n",
        "# Title\n",
        "ax.set_title(\"Titanic Timeline\", fontweight=\"bold\", fontfamily='serif', fontsize=16, color='#4a4a4a')\n",
        "\n",
        "plt.show()"
      ],
      "metadata": {
        "id": "p8Sn4TaU7fWH"
      },
      "execution_count": null,
      "outputs": []
    },
    {
      "cell_type": "markdown",
      "source": [
        "## Distribution Visualization (Ridgeplot)\n",
        "\n",
        " - A **Ridgeline** plot (sometimes called Joyplot) shows the distribution of a numeric value for several groups.\n",
        "- **library** : matplotlib, seaborn\n",
        "- **colortheme** from movie \"Snowpiercer\" (because of *class*)\n",
        "\n",
        "---\n",
        "\n",
        "### Simple Explanation\n",
        "\n",
        "- **Step1** : Use Gridspec\n",
        "- **Step2** : Create density plot using seaborn's kdeplot\n",
        "    - `bw` : bandwidth\n",
        "    - `edgecolor` : to separate each density plot\n",
        "    - `alpha` : remove transparency\n",
        "    - `cut` : clear meaning\n",
        "- **Step3** : Remove ticks & labels except last xticks\n",
        "- **Step4** : Remove Spine\n",
        "- **Step5** : Make plots closer & Make the background transparent\n",
        "- **Step6** : add subtext (figure title, axes title)"
      ],
      "metadata": {
        "id": "sBkyvSOx7xny"
      }
    },
    {
      "cell_type": "code",
      "source": [
        "sns.palplot([\"#022133\", \"#5c693b\", \"#51371c\", \"lightgray\"])"
      ],
      "metadata": {
        "id": "7Q9a5T8E8Cir"
      },
      "execution_count": null,
      "outputs": []
    },
    {
      "cell_type": "code",
      "source": [
        "fig = plt.figure(figsize=(12, 8))\n",
        "gs = fig.add_gridspec(3,1)\n",
        "gs.update(hspace= -0.55)\n",
        "\n",
        "axes = list()\n",
        "colors = [\"#022133\", \"#5c693b\", \"#51371c\"]\n",
        "\n",
        "for idx, cls, c in zip(range(3), sorted(data['Pclass'].unique()), colors):\n",
        "    axes.append(fig.add_subplot(gs[idx, 0]))\n",
        "\n",
        "    # you can also draw density plot with matplotlib + scipy.\n",
        "    sns.kdeplot(x='Age', data=data[data['Pclass']==cls],\n",
        "                fill=True, ax=axes[idx], cut=0, bw_method=0.25,\n",
        "                lw=1.4, edgecolor='lightgray',color=c, alpha=1)\n",
        "\n",
        "    axes[idx].set_ylim(0, 0.04)\n",
        "    axes[idx].set_xlim(0, 85)\n",
        "\n",
        "    axes[idx].set_yticks([])\n",
        "    if idx != 2 : axes[idx].set_xticks([])\n",
        "    axes[idx].set_ylabel('')\n",
        "    axes[idx].set_xlabel('')\n",
        "\n",
        "    spines = [\"top\",\"right\",\"left\",\"bottom\"]\n",
        "    for s in spines:\n",
        "        axes[idx].spines[s].set_visible(False)\n",
        "\n",
        "    axes[idx].patch.set_alpha(0)\n",
        "    axes[idx].text(-0.2,0,f'Pclass {cls}',fontweight=\"light\", fontfamily='serif', fontsize=11,ha=\"right\")\n",
        "\n",
        "fig.text(0.13,0.81,\"Age distribution by Pclass in Titanic\", fontweight=\"bold\", fontfamily='serif', fontsize=16)\n",
        "plt.show()"
      ],
      "metadata": {
        "id": "roiLlLEp8GxM"
      },
      "execution_count": null,
      "outputs": []
    },
    {
      "cell_type": "code",
      "source": [
        "sns.color_palette(sns.color_palette(\"PuBu\", 2))"
      ],
      "metadata": {
        "id": "F4Zj-xBv8Gyz"
      },
      "execution_count": null,
      "outputs": []
    },
    {
      "cell_type": "code",
      "source": [
        "fig = plt.figure(figsize=(12, 8))\n",
        "gs = fig.add_gridspec(3,1)\n",
        "gs.update(hspace= -0.55)\n",
        "\n",
        "axes = list()\n",
        "colors = [\"#022133\", \"#5c693b\", \"#51371c\"]\n",
        "\n",
        "for idx, cls, c in zip(range(3), sorted(data['Pclass'].unique()), colors):\n",
        "    axes.append(fig.add_subplot(gs[idx, 0]))\n",
        "\n",
        "    # you can also draw density plot with matplotlib + scipy.\n",
        "    sns.kdeplot(x='Age', data=data[data['Pclass']==cls],\n",
        "                fill=True, ax=axes[idx], cut=0, bw_method=0.25,\n",
        "                lw=1.4, edgecolor='lightgray', hue='Survived',\n",
        "                multiple=\"stack\", palette='PuBu', alpha=0.7\n",
        "               )\n",
        "\n",
        "    axes[idx].set_ylim(0, 0.04)\n",
        "    axes[idx].set_xlim(0, 85)\n",
        "\n",
        "    axes[idx].set_yticks([])\n",
        "    if idx != 2 : axes[idx].set_xticks([])\n",
        "    axes[idx].set_ylabel('')\n",
        "    axes[idx].set_xlabel('')\n",
        "\n",
        "    spines = [\"top\",\"right\",\"left\",\"bottom\"]\n",
        "    for s in spines:\n",
        "        axes[idx].spines[s].set_visible(False)\n",
        "\n",
        "    axes[idx].patch.set_alpha(0)\n",
        "    axes[idx].text(-0.2,0,f'Pclass {cls}',fontweight=\"light\", fontfamily='serif', fontsize=11,ha=\"right\")\n",
        "    if idx != 1 : axes[idx].get_legend().remove()\n",
        "\n",
        "fig.text(0.13,0.81,\"Age distribution by Pclass in Titanic\", fontweight=\"bold\", fontfamily='serif', fontsize=16)\n",
        "\n",
        "plt.show()"
      ],
      "metadata": {
        "id": "tPsZA_uj8LnL"
      },
      "execution_count": null,
      "outputs": []
    },
    {
      "cell_type": "code",
      "source": [
        "sns.palplot(['#d4dddd', '#244747', '#efe8d1', '#4a4a4a'])"
      ],
      "metadata": {
        "id": "dvh1whvI8ZsE"
      },
      "execution_count": null,
      "outputs": []
    },
    {
      "cell_type": "markdown",
      "source": [
        "## Barplot Visualization\n",
        "\n",
        "- **library** : matplotlib, seaborn\n",
        "- **colortheme** from [The Economist Colors](https://pattern-library.economist.com/color.html)\n",
        "\n",
        "---\n",
        "\n",
        "### Simple Explanation\n",
        "\n",
        "1. Grid\n",
        "2. Color difference in the bar you want to emphasize\n",
        "3. Average line and text annotations for it\n",
        "4. Minimize the y-axis information and add it as an annotation to each bar"
      ],
      "metadata": {
        "id": "nrazip6S8WG5"
      }
    },
    {
      "cell_type": "code",
      "source": [
        "sns.palplot(['#d4dddd', '#244747', '#efe8d1', '#4a4a4a'])"
      ],
      "metadata": {
        "id": "zcKRK70X8bGt"
      },
      "execution_count": null,
      "outputs": []
    },
    {
      "cell_type": "code",
      "source": [
        "def age_band(num):\n",
        "    for i in range(1, 100):\n",
        "        if num < 10*i :  return f'{(i-1) * 10} ~ {i*10}'\n",
        "\n",
        "data['age_band'] = data['Age'].apply(age_band)\n",
        "titanic_age = data[['age_band', 'Survived']].groupby('age_band')['Survived'].value_counts().sort_index().unstack().fillna(0)\n",
        "titanic_age['Survival rate'] = titanic_age[1] / (titanic_age[0] + titanic_age[1]) * 100\n",
        "\n",
        "fig, ax = plt.subplots(1, 1, figsize=(10, 7))\n",
        "\n",
        "color_map = ['#d4dddd' for _ in range(9)]\n",
        "color_map[0] = color_map[8] = '#244747' # color highlight\n",
        "\n",
        "ax.bar(titanic_age['Survival rate'].index, titanic_age['Survival rate'],\n",
        "       color=color_map, width=0.55,\n",
        "       edgecolor='black',\n",
        "       linewidth=0.7)\n",
        "\n",
        "\n",
        "\n",
        "for s in [\"top\",\"right\",\"left\"]:\n",
        "    ax.spines[s].set_visible(False)\n",
        "\n",
        "\n",
        "# Annotation Part\n",
        "for i in titanic_age['Survival rate'].index:\n",
        "    ax.annotate(f\"{titanic_age['Survival rate'][i]:.02f}%\",\n",
        "                   xy=(i, titanic_age['Survival rate'][i] + 2.3),\n",
        "                   va = 'center', ha='center',fontweight='light',\n",
        "                   color='#4a4a4a')\n",
        "\n",
        "\n",
        "# mean line + annotation\n",
        "mean = data['Survived'].mean() *100\n",
        "ax.axhline(mean ,color='black', linewidth=0.4, linestyle='dashdot')\n",
        "ax.annotate(f\"mean : {mean :.4}%\",\n",
        "            xy=('70 ~ 80', mean + 4),\n",
        "            va = 'center', ha='center',\n",
        "            color='#4a4a4a',\n",
        "            bbox=dict(boxstyle='round', pad=0.4, facecolor='#efe8d1', linewidth=0))\n",
        "\n",
        "\n",
        "# Title & Subtitle\n",
        "fig.text(0.06, 1, 'Age Band & Survival Rate', fontsize=15, fontweight='bold', fontfamily='serif')\n",
        "fig.text(0.06, 0.96, 'It can be seen that the survival rate of young children and the elderly is high.', fontsize=12, fontweight='light', fontfamily='serif')\n",
        "\n",
        "grid_y_ticks = np.arange(0, 101, 20)\n",
        "ax.set_yticks(grid_y_ticks)\n",
        "ax.grid(axis='y', linestyle='-', alpha=0.4)\n",
        "\n",
        "plt.tight_layout()\n",
        "plt.show()"
      ],
      "metadata": {
        "id": "qOXaKL9z8ern"
      },
      "execution_count": null,
      "outputs": []
    },
    {
      "cell_type": "markdown",
      "source": [
        "## Bar+Scatter Plot (Stripplot)\n",
        "\n",
        "- A **strip plot** is a scatter plot where one of the variables is categorical.\n",
        "- **color theme** : Pantone 1805, Pantone 540\n",
        "\n",
        "---\n",
        "\n",
        "### Simple Explanation\n",
        "\n",
        "- Calculate mean first\n",
        "- Generate Uniform Distribution\n",
        "    - Survived = 1, Survived = 0\n",
        "- Make a difference using color or luminance or transparency.\n",
        "- (tips) Add legend\n",
        "- (tips) Add explanation under the title."
      ],
      "metadata": {
        "id": "oUmgw_Kd8jK6"
      }
    },
    {
      "cell_type": "code",
      "source": [
        "survival_rate = data.groupby(['Sex']).mean()[['Survived']]\n",
        "male_rate = survival_rate.loc['male']\n",
        "female_rate = survival_rate.loc['female']\n",
        "display(survival_rate)"
      ],
      "metadata": {
        "id": "4C8ocr7b8lFm"
      },
      "execution_count": null,
      "outputs": []
    },
    {
      "cell_type": "code",
      "source": [
        "male_pos = np.random.uniform(0, male_rate, len(data[(data['Sex']=='male') & (data['Survived']==1)]))\n",
        "male_neg = np.random.uniform(male_rate, 1, len(data[(data['Sex']=='male') & (data['Survived']==0)]))\n",
        "female_pos = np.random.uniform(0, female_rate, len(data[(data['Sex']=='female') & (data['Survived']==1)]))\n",
        "female_neg = np.random.uniform(female_rate, 1, len(data[(data['Sex']=='female') & (data['Survived']==0)]))"
      ],
      "metadata": {
        "id": "ez5hauxS8o9y"
      },
      "execution_count": null,
      "outputs": []
    },
    {
      "cell_type": "code",
      "source": [
        "sns.palplot(['#004c70', '#990000', 'lightgray'])"
      ],
      "metadata": {
        "id": "Kx3uF3478sKP"
      },
      "execution_count": null,
      "outputs": []
    },
    {
      "cell_type": "code",
      "source": [
        "fig, ax = plt.subplots(1, 1, figsize=(9, 7))\n",
        "\n",
        "np.random.seed(42)\n",
        "\n",
        "# Male Stripplot\n",
        "ax.scatter(np.random.uniform(-0.3, 0.3, len(male_pos)), male_pos, color='#004c70', edgecolor='lightgray', label='Male(Survived=1)')\n",
        "ax.scatter(np.random.uniform(-0.3, 0.3, len(male_neg)), male_neg, color='#004c70', edgecolor='lightgray', alpha=0.2, label='Male(Survived=0)')\n",
        "\n",
        "# Female Stripplot\n",
        "ax.scatter(1+np.random.uniform(-0.3, 0.3, len(female_pos)), female_pos, color='#990000', edgecolor='lightgray', label='Female(Survived=1)')\n",
        "ax.scatter(1+np.random.uniform(-0.3, 0.3, len(female_neg)), female_neg, color='#990000', edgecolor='lightgray', alpha=0.2, label='Female(Survived=0)')\n",
        "\n",
        "# Set Figure & Axes\n",
        "ax.set_xlim(-0.5, 2.0)\n",
        "ax.set_ylim(-0.03, 1.1)\n",
        "\n",
        "# Ticks\n",
        "ax.set_xticks([0, 1])\n",
        "ax.set_xticklabels(['Male', 'Female'], fontweight='bold', fontfamily='serif', fontsize=13)\n",
        "ax.set_yticks([], minor=False)\n",
        "ax.set_ylabel('')\n",
        "\n",
        "# Spines\n",
        "for s in [\"top\",\"right\",\"left\", 'bottom']:\n",
        "    ax.spines[s].set_visible(False)\n",
        "\n",
        "\n",
        "# Title & Explanation\n",
        "fig.text(0.1, 1, 'Distribution of Survivors by Gender', fontweight='bold', fontfamily='serif', fontsize=15)\n",
        "fig.text(0.1, 0.96, 'As is known, the survival rate for female is high, with 19% of male and 74% of female.', fontweight='light', fontfamily='serif', fontsize=12)\n",
        "\n",
        "ax.legend(loc=(0.8, 0.5), edgecolor='None')\n",
        "plt.tight_layout()\n",
        "plt.show()"
      ],
      "metadata": {
        "id": "G51Iqp2N8xGo"
      },
      "execution_count": null,
      "outputs": []
    },
    {
      "cell_type": "code",
      "source": [
        "# You can also make this meta data using for-loop\n",
        "survival_rate = data.groupby(['Pclass']).mean()[['Survived']]\n",
        "p1_rate = survival_rate.loc[1]\n",
        "p2_rate = survival_rate.loc[2]\n",
        "p3_rate = survival_rate.loc[3]\n",
        "\n",
        "p1_pos = np.random.uniform(0, p1_rate, len(data[(data['Pclass']==1) & (data['Survived']==1)]))\n",
        "p1_neg = np.random.uniform(p1_rate, 1, len(data[(data['Pclass']==1) & (data['Survived']==0)]))\n",
        "p2_pos = np.random.uniform(0, p2_rate, len(data[(data['Pclass']==2) & (data['Survived']==1)]))\n",
        "p2_neg = np.random.uniform(p2_rate, 1, len(data[(data['Pclass']==2) & (data['Survived']==0)]))\n",
        "p3_pos = np.random.uniform(0, p3_rate, len(data[(data['Pclass']==3) & (data['Survived']==1)]))\n",
        "p3_neg = np.random.uniform(p3_rate, 1, len(data[(data['Pclass']==3) & (data['Survived']==0)]))\n",
        "\n",
        "\n",
        "\n",
        "\n",
        "fig, ax = plt.subplots(1, 1, figsize=(12, 7))\n",
        "\n",
        "np.random.seed(42)\n",
        "\n",
        "ax.scatter(np.random.uniform(-0.3, 0.3, len(p1_pos)), p1_pos, color='#022133', edgecolor='lightgray', label='P1(Survived=1)')\n",
        "ax.scatter(np.random.uniform(-0.3, 0.3, len(p1_neg)), p1_neg, color='#022133', edgecolor='lightgray', alpha=0.2, label='P1(Survived=0)')\n",
        "ax.scatter(np.random.uniform(1-0.3, 1+0.3, len(p2_pos)), p2_pos, color='#5c693b', edgecolor='lightgray', label='P2(Survived=1)')\n",
        "ax.scatter(np.random.uniform(1-0.3, 1+0.3, len(p2_neg)), p2_neg, color='#5c693b', edgecolor='lightgray', alpha=0.2, label='P2(Survived=0)')\n",
        "ax.scatter(np.random.uniform(2-0.3, 2+0.3, len(p3_pos)), p3_pos, color='#51371c', edgecolor='lightgray', label='P3(Survived=1)')\n",
        "ax.scatter(np.random.uniform(2-0.3, 2+0.3, len(p3_neg)), p3_neg, color='#51371c', edgecolor='lightgray', alpha=0.2, label='P3(Survived=0)')\n",
        "\n",
        "\n",
        "\n",
        "# # Set Figure & Axes\n",
        "ax.set_xlim(-0.5, 4.0)\n",
        "ax.set_ylim(-0.03, 1.1)\n",
        "\n",
        "# # Ticks\n",
        "ax.set_xticks([0, 1, 2])\n",
        "ax.set_xticklabels(['Pclass 1', 'Pclass 2', 'Pclass 3'], fontweight='bold', fontfamily='serif', fontsize=13)\n",
        "ax.set_yticks([], minor=False)\n",
        "ax.set_ylabel('')\n",
        "\n",
        "# Spines\n",
        "for s in [\"top\",\"right\",\"left\", 'bottom']:\n",
        "    ax.spines[s].set_visible(False)\n",
        "\n",
        "\n",
        "# Title & Explanation\n",
        "fig.text(0.06, 0.95, 'Distribution of Survivors by Pclass', fontweight='bold', fontfamily='serif', fontsize=15, ha='left')\n",
        "\n",
        "\n",
        "ax.legend(loc=(0.67, 0.5), edgecolor='None')\n",
        "plt.tight_layout()\n",
        "plt.show()"
      ],
      "metadata": {
        "id": "FxJOiVMf85bB"
      },
      "execution_count": null,
      "outputs": []
    },
    {
      "cell_type": "markdown",
      "source": [
        "## Heatmap\n",
        "\n",
        "- A **heat map (or heatmap)** is a data visualization technique that shows magnitude of a phenomenon as color in two dimensions.\n",
        "\n",
        "---\n",
        "\n",
        "### Simple Explanation\n",
        "\n",
        "- (tip) `mask` (remove symetric)\n",
        "- (tip) `square` (to make x-y scale same)\n",
        "- (tip) `colormap (diverging colormap)\n",
        "- (tip) text as watermark"
      ],
      "metadata": {
        "id": "okl6m-kr_aUI"
      }
    },
    {
      "cell_type": "code",
      "source": [
        "data['Sex'] = data['Sex'].map({'male':0, 'female':1})\n",
        "data['Embarked'] = data['Embarked'].fillna('S')\n",
        "data['Embarked'] = data['Embarked'].map({'S':0, 'C':1, 'Q':2})\n",
        "data['Family'] = data['SibSp'] + data['Parch']\n",
        "data = data[[col for col in data.columns if col !='Survived']+ ['Survived']]\n",
        "corr = data.corr()\n",
        "corr"
      ],
      "metadata": {
        "id": "taHCAHMm_cMc"
      },
      "execution_count": null,
      "outputs": []
    },
    {
      "cell_type": "code",
      "source": [
        "sns.color_palette(sns.diverging_palette(230, 20))"
      ],
      "metadata": {
        "id": "pnPv1Cw5_gsx"
      },
      "execution_count": null,
      "outputs": []
    },
    {
      "cell_type": "code",
      "source": [
        "fig, ax = plt.subplots(1, 1, figsize=(7, 7))\n",
        "\n",
        "mask = np.zeros_like(corr, dtype=np.bool)\n",
        "mask[np.triu_indices_from(mask)] = True\n",
        "\n",
        "cmap = sns.diverging_palette(230, 20, as_cmap=True)\n",
        "\n",
        "sns.heatmap(corr,\n",
        "            square=True,\n",
        "            mask=mask,\n",
        "            linewidth=2.5,\n",
        "            vmax=0.4, vmin=-0.4,\n",
        "            cmap=cmap,\n",
        "            cbar=False,\n",
        "            ax=ax)\n",
        "\n",
        "ax.set_yticklabels(ax.get_xticklabels(), fontfamily='serif', rotation = 0, fontsize=11)\n",
        "ax.set_xticklabels(ax.get_xticklabels(), fontfamily='serif', rotation=90, fontsize=11)\n",
        "\n",
        "ax.spines['top'].set_visible(True)\n",
        "\n",
        "fig.text(0.97, 1, 'Correlation Heatmap Visualization', fontweight='bold', fontfamily='serif', fontsize=15, ha='right')\n",
        "fig.text(0.97, 0.92, 'Dataset : Titanic\\nAuthor : Subin An', fontweight='light', fontfamily='serif', fontsize=12, ha='right')\n",
        "\n",
        "plt.tight_layout()\n",
        "plt.show()"
      ],
      "metadata": {
        "id": "kBsvna8K_jj1"
      },
      "execution_count": null,
      "outputs": []
    },
    {
      "cell_type": "markdown",
      "source": [
        "## Dimension Reduction + Scatter Plot\n",
        "\n",
        "- UMAP(Dimension Reduction) + Scatterplot\n",
        "\n",
        "### Simple Explanation\n",
        "\n",
        "In the past, **dimensional reduction** has been widely used in multidimensional data analysis.\n",
        "\n",
        "However, it is seldom used to analyze it after clustering.\n",
        "\n",
        "This visualization draws separate graphs based on gender and Pclass based on the clustering results according to survival, so that the distribution of survivors according to the criteria can be viewed differently."
      ],
      "metadata": {
        "id": "qUu0_8ZHCOtX"
      }
    },
    {
      "cell_type": "code",
      "source": [
        "!pip install umap-learn\n",
        "from umap import UMAP"
      ],
      "metadata": {
        "id": "I0FMUpPKCZvs"
      },
      "execution_count": null,
      "outputs": []
    },
    {
      "cell_type": "code",
      "source": [
        "# Dimension Reduction\n",
        "survived = data['Survived']\n",
        "data_sub = data.drop(['Survived', 'Ticket', 'Name', 'Cabin', 'age_band'], axis=1).fillna(0)\n",
        "\n",
        "umap = UMAP(random_state=0)\n",
        "titanic_umap = umap.fit_transform(data_sub, survived)\n"
      ],
      "metadata": {
        "id": "yEYrQ2I6CR6m"
      },
      "execution_count": null,
      "outputs": []
    },
    {
      "cell_type": "code",
      "source": [
        "fig, axes = plt.subplots(3, 3, figsize=(12, 12))\n",
        "\n",
        "# Survived\n",
        "axes[0][0].scatter(titanic_umap[data['Survived']==1][:,0], titanic_umap[data['Survived']==1][:,1], c='#8abbd0', alpha=0.25, label='Survived:1')\n",
        "axes[0][0].scatter(titanic_umap[data['Survived']==0][:,0], titanic_umap[data['Survived']==0][:,1], c='#4a4a4a', alpha=0.25, label='Survived:0')\n",
        "\n",
        "# Gender\n",
        "axes[1][0].scatter(titanic_umap[data['Sex']==0][:,0], titanic_umap[data['Sex']==0][:,1], c='#004c70', alpha=0.1, label='Male')\n",
        "axes[1][1].scatter(titanic_umap[data['Sex']==1][:,0], titanic_umap[data['Sex']==1][:,1], c='#990000', alpha=0.1, label='Female')\n",
        "\n",
        "# Pclass\n",
        "axes[2][0].scatter(titanic_umap[data['Pclass']==1][:,0], titanic_umap[data['Pclass']==1][:,1], c=\"#022133\", alpha=0.1, label='Pclass:1')\n",
        "axes[2][1].scatter(titanic_umap[data['Pclass']==2][:,0], titanic_umap[data['Pclass']==2][:,1], c='#5c693b', alpha=0.1, label='Pclass:2')\n",
        "axes[2][2].scatter(titanic_umap[data['Pclass']==3][:,0], titanic_umap[data['Pclass']==3][:,1], c='#51371c', alpha=0.1, label='Pclass:3')\n",
        "\n",
        "for i in range(3):\n",
        "    for j in range(3):\n",
        "        axes[i][j].set_xticks([])\n",
        "        axes[i][j].set_yticks([])\n",
        "        for s in [\"top\",\"right\",\"left\", 'bottom']:\n",
        "            axes[i][j].spines[s].set_visible(False)\n",
        "        if j <= i : axes[i][j].legend()\n",
        "\n",
        "\n",
        "\n",
        "# Text Part\n",
        "fig.text(0.97, 1, 'Explore Embedding Space', fontweight='bold', fontfamily='serif', fontsize=20, ha='right')\n",
        "fig.text(0.97, 0.975, 'Author : Subin An', fontweight='light', fontfamily='serif', fontsize=12, ha='right')\n",
        "\n",
        "fig.text(0.97, 0.94, '''\n",
        "In the past, dimensional reduction has been widely\n",
        "used in multidimensional data analysis.\n",
        "However, it is seldom used to analyze it after clustering.\n",
        "\n",
        "This visualization draws separate graphs based on gender and\n",
        "Pclass based on the clustering results according to survival,\n",
        "so that the distribution of survivors according to the criteria\n",
        "can be viewed differently.''',\n",
        "         fontweight='light', fontfamily='serif', fontsize=12, va='top', ha='right')\n",
        "\n",
        "\n",
        "plt.tight_layout()\n",
        "plt.show()\n"
      ],
      "metadata": {
        "id": "-6AIqknDCfG9"
      },
      "execution_count": null,
      "outputs": []
    }
  ]
}