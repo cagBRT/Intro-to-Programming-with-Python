{
  "cells": [
    {
      "cell_type": "markdown",
      "metadata": {
        "id": "view-in-github",
        "colab_type": "text"
      },
      "source": [
        "<a href=\"https://colab.research.google.com/github/cagBRT/Intro-to-Programming-with-Python/blob/master/Bubble_Charts.ipynb\" target=\"_parent\"><img src=\"https://colab.research.google.com/assets/colab-badge.svg\" alt=\"Open In Colab\"/></a>"
      ]
    },
    {
      "cell_type": "markdown",
      "id": "4e22b1a1",
      "metadata": {
        "id": "4e22b1a1"
      },
      "source": [
        "# Bubble Chart vs Bar Chart\n",
        "\n",
        "In this notebook we learn to create a bubble chart as opposed to a bar chart. <br>\n",
        "\n",
        "Visually a bubble chart is more eye catching and conveys more information"
      ]
    },
    {
      "cell_type": "code",
      "source": [
        "!git clone -l -s https://github.com/cagBRT/Intro-to-Programming-with-Python.git cloned-repo\n",
        "%cd cloned-repo"
      ],
      "metadata": {
        "colab": {
          "base_uri": "https://localhost:8080/"
        },
        "id": "qaU9QPOO6pd-",
        "outputId": "bb1fb144-d441-43bb-a057-f30bb7eb1034"
      },
      "id": "qaU9QPOO6pd-",
      "execution_count": 5,
      "outputs": [
        {
          "output_type": "stream",
          "name": "stdout",
          "text": [
            "Cloning into 'cloned-repo'...\n",
            "warning: --local is ignored\n",
            "remote: Enumerating objects: 1571, done.\u001b[K\n",
            "remote: Counting objects: 100% (667/667), done.\u001b[K\n",
            "remote: Compressing objects: 100% (226/226), done.\u001b[K\n",
            "remote: Total 1571 (delta 553), reused 498 (delta 441), pack-reused 904\u001b[K\n",
            "Receiving objects: 100% (1571/1571), 21.60 MiB | 24.38 MiB/s, done.\n",
            "Resolving deltas: 100% (915/915), done.\n",
            "/content/cloned-repo\n"
          ]
        }
      ]
    },
    {
      "cell_type": "code",
      "execution_count": 1,
      "id": "f4301f4a",
      "metadata": {
        "id": "f4301f4a"
      },
      "outputs": [],
      "source": [
        "import pandas as pd\n",
        "import plotly.express as px"
      ]
    },
    {
      "cell_type": "code",
      "execution_count": 6,
      "id": "04add0e6",
      "metadata": {
        "colab": {
          "base_uri": "https://localhost:8080/",
          "height": 206
        },
        "id": "04add0e6",
        "outputId": "20eefcf6-4df1-4176-ddee-fd1485c8dd6d"
      },
      "outputs": [
        {
          "output_type": "execute_result",
          "data": {
            "text/plain": [
              "     Country  Year    Exports\n",
              "0  Country O  2008  28.688525\n",
              "1  Country O  2002  17.094017\n",
              "2  Country O  1992  18.727915\n",
              "3  Country O  1986  20.664207\n",
              "4  Country O  2004  25.688073"
            ],
            "text/html": [
              "\n",
              "  <div id=\"df-9b70c3f5-f19d-491f-9478-858ba84b4127\" class=\"colab-df-container\">\n",
              "    <div>\n",
              "<style scoped>\n",
              "    .dataframe tbody tr th:only-of-type {\n",
              "        vertical-align: middle;\n",
              "    }\n",
              "\n",
              "    .dataframe tbody tr th {\n",
              "        vertical-align: top;\n",
              "    }\n",
              "\n",
              "    .dataframe thead th {\n",
              "        text-align: right;\n",
              "    }\n",
              "</style>\n",
              "<table border=\"1\" class=\"dataframe\">\n",
              "  <thead>\n",
              "    <tr style=\"text-align: right;\">\n",
              "      <th></th>\n",
              "      <th>Country</th>\n",
              "      <th>Year</th>\n",
              "      <th>Exports</th>\n",
              "    </tr>\n",
              "  </thead>\n",
              "  <tbody>\n",
              "    <tr>\n",
              "      <th>0</th>\n",
              "      <td>Country O</td>\n",
              "      <td>2008</td>\n",
              "      <td>28.688525</td>\n",
              "    </tr>\n",
              "    <tr>\n",
              "      <th>1</th>\n",
              "      <td>Country O</td>\n",
              "      <td>2002</td>\n",
              "      <td>17.094017</td>\n",
              "    </tr>\n",
              "    <tr>\n",
              "      <th>2</th>\n",
              "      <td>Country O</td>\n",
              "      <td>1992</td>\n",
              "      <td>18.727915</td>\n",
              "    </tr>\n",
              "    <tr>\n",
              "      <th>3</th>\n",
              "      <td>Country O</td>\n",
              "      <td>1986</td>\n",
              "      <td>20.664207</td>\n",
              "    </tr>\n",
              "    <tr>\n",
              "      <th>4</th>\n",
              "      <td>Country O</td>\n",
              "      <td>2004</td>\n",
              "      <td>25.688073</td>\n",
              "    </tr>\n",
              "  </tbody>\n",
              "</table>\n",
              "</div>\n",
              "    <div class=\"colab-df-buttons\">\n",
              "\n",
              "  <div class=\"colab-df-container\">\n",
              "    <button class=\"colab-df-convert\" onclick=\"convertToInteractive('df-9b70c3f5-f19d-491f-9478-858ba84b4127')\"\n",
              "            title=\"Convert this dataframe to an interactive table.\"\n",
              "            style=\"display:none;\">\n",
              "\n",
              "  <svg xmlns=\"http://www.w3.org/2000/svg\" height=\"24px\" viewBox=\"0 -960 960 960\">\n",
              "    <path d=\"M120-120v-720h720v720H120Zm60-500h600v-160H180v160Zm220 220h160v-160H400v160Zm0 220h160v-160H400v160ZM180-400h160v-160H180v160Zm440 0h160v-160H620v160ZM180-180h160v-160H180v160Zm440 0h160v-160H620v160Z\"/>\n",
              "  </svg>\n",
              "    </button>\n",
              "\n",
              "  <style>\n",
              "    .colab-df-container {\n",
              "      display:flex;\n",
              "      gap: 12px;\n",
              "    }\n",
              "\n",
              "    .colab-df-convert {\n",
              "      background-color: #E8F0FE;\n",
              "      border: none;\n",
              "      border-radius: 50%;\n",
              "      cursor: pointer;\n",
              "      display: none;\n",
              "      fill: #1967D2;\n",
              "      height: 32px;\n",
              "      padding: 0 0 0 0;\n",
              "      width: 32px;\n",
              "    }\n",
              "\n",
              "    .colab-df-convert:hover {\n",
              "      background-color: #E2EBFA;\n",
              "      box-shadow: 0px 1px 2px rgba(60, 64, 67, 0.3), 0px 1px 3px 1px rgba(60, 64, 67, 0.15);\n",
              "      fill: #174EA6;\n",
              "    }\n",
              "\n",
              "    .colab-df-buttons div {\n",
              "      margin-bottom: 4px;\n",
              "    }\n",
              "\n",
              "    [theme=dark] .colab-df-convert {\n",
              "      background-color: #3B4455;\n",
              "      fill: #D2E3FC;\n",
              "    }\n",
              "\n",
              "    [theme=dark] .colab-df-convert:hover {\n",
              "      background-color: #434B5C;\n",
              "      box-shadow: 0px 1px 3px 1px rgba(0, 0, 0, 0.15);\n",
              "      filter: drop-shadow(0px 1px 2px rgba(0, 0, 0, 0.3));\n",
              "      fill: #FFFFFF;\n",
              "    }\n",
              "  </style>\n",
              "\n",
              "    <script>\n",
              "      const buttonEl =\n",
              "        document.querySelector('#df-9b70c3f5-f19d-491f-9478-858ba84b4127 button.colab-df-convert');\n",
              "      buttonEl.style.display =\n",
              "        google.colab.kernel.accessAllowed ? 'block' : 'none';\n",
              "\n",
              "      async function convertToInteractive(key) {\n",
              "        const element = document.querySelector('#df-9b70c3f5-f19d-491f-9478-858ba84b4127');\n",
              "        const dataTable =\n",
              "          await google.colab.kernel.invokeFunction('convertToInteractive',\n",
              "                                                    [key], {});\n",
              "        if (!dataTable) return;\n",
              "\n",
              "        const docLinkHtml = 'Like what you see? Visit the ' +\n",
              "          '<a target=\"_blank\" href=https://colab.research.google.com/notebooks/data_table.ipynb>data table notebook</a>'\n",
              "          + ' to learn more about interactive tables.';\n",
              "        element.innerHTML = '';\n",
              "        dataTable['output_type'] = 'display_data';\n",
              "        await google.colab.output.renderOutput(dataTable, element);\n",
              "        const docLink = document.createElement('div');\n",
              "        docLink.innerHTML = docLinkHtml;\n",
              "        element.appendChild(docLink);\n",
              "      }\n",
              "    </script>\n",
              "  </div>\n",
              "\n",
              "\n",
              "<div id=\"df-4163f255-bb8a-41bd-a5d8-d0d897dc5f69\">\n",
              "  <button class=\"colab-df-quickchart\" onclick=\"quickchart('df-4163f255-bb8a-41bd-a5d8-d0d897dc5f69')\"\n",
              "            title=\"Suggest charts\"\n",
              "            style=\"display:none;\">\n",
              "\n",
              "<svg xmlns=\"http://www.w3.org/2000/svg\" height=\"24px\"viewBox=\"0 0 24 24\"\n",
              "     width=\"24px\">\n",
              "    <g>\n",
              "        <path d=\"M19 3H5c-1.1 0-2 .9-2 2v14c0 1.1.9 2 2 2h14c1.1 0 2-.9 2-2V5c0-1.1-.9-2-2-2zM9 17H7v-7h2v7zm4 0h-2V7h2v10zm4 0h-2v-4h2v4z\"/>\n",
              "    </g>\n",
              "</svg>\n",
              "  </button>\n",
              "\n",
              "<style>\n",
              "  .colab-df-quickchart {\n",
              "      --bg-color: #E8F0FE;\n",
              "      --fill-color: #1967D2;\n",
              "      --hover-bg-color: #E2EBFA;\n",
              "      --hover-fill-color: #174EA6;\n",
              "      --disabled-fill-color: #AAA;\n",
              "      --disabled-bg-color: #DDD;\n",
              "  }\n",
              "\n",
              "  [theme=dark] .colab-df-quickchart {\n",
              "      --bg-color: #3B4455;\n",
              "      --fill-color: #D2E3FC;\n",
              "      --hover-bg-color: #434B5C;\n",
              "      --hover-fill-color: #FFFFFF;\n",
              "      --disabled-bg-color: #3B4455;\n",
              "      --disabled-fill-color: #666;\n",
              "  }\n",
              "\n",
              "  .colab-df-quickchart {\n",
              "    background-color: var(--bg-color);\n",
              "    border: none;\n",
              "    border-radius: 50%;\n",
              "    cursor: pointer;\n",
              "    display: none;\n",
              "    fill: var(--fill-color);\n",
              "    height: 32px;\n",
              "    padding: 0;\n",
              "    width: 32px;\n",
              "  }\n",
              "\n",
              "  .colab-df-quickchart:hover {\n",
              "    background-color: var(--hover-bg-color);\n",
              "    box-shadow: 0 1px 2px rgba(60, 64, 67, 0.3), 0 1px 3px 1px rgba(60, 64, 67, 0.15);\n",
              "    fill: var(--button-hover-fill-color);\n",
              "  }\n",
              "\n",
              "  .colab-df-quickchart-complete:disabled,\n",
              "  .colab-df-quickchart-complete:disabled:hover {\n",
              "    background-color: var(--disabled-bg-color);\n",
              "    fill: var(--disabled-fill-color);\n",
              "    box-shadow: none;\n",
              "  }\n",
              "\n",
              "  .colab-df-spinner {\n",
              "    border: 2px solid var(--fill-color);\n",
              "    border-color: transparent;\n",
              "    border-bottom-color: var(--fill-color);\n",
              "    animation:\n",
              "      spin 1s steps(1) infinite;\n",
              "  }\n",
              "\n",
              "  @keyframes spin {\n",
              "    0% {\n",
              "      border-color: transparent;\n",
              "      border-bottom-color: var(--fill-color);\n",
              "      border-left-color: var(--fill-color);\n",
              "    }\n",
              "    20% {\n",
              "      border-color: transparent;\n",
              "      border-left-color: var(--fill-color);\n",
              "      border-top-color: var(--fill-color);\n",
              "    }\n",
              "    30% {\n",
              "      border-color: transparent;\n",
              "      border-left-color: var(--fill-color);\n",
              "      border-top-color: var(--fill-color);\n",
              "      border-right-color: var(--fill-color);\n",
              "    }\n",
              "    40% {\n",
              "      border-color: transparent;\n",
              "      border-right-color: var(--fill-color);\n",
              "      border-top-color: var(--fill-color);\n",
              "    }\n",
              "    60% {\n",
              "      border-color: transparent;\n",
              "      border-right-color: var(--fill-color);\n",
              "    }\n",
              "    80% {\n",
              "      border-color: transparent;\n",
              "      border-right-color: var(--fill-color);\n",
              "      border-bottom-color: var(--fill-color);\n",
              "    }\n",
              "    90% {\n",
              "      border-color: transparent;\n",
              "      border-bottom-color: var(--fill-color);\n",
              "    }\n",
              "  }\n",
              "</style>\n",
              "\n",
              "  <script>\n",
              "    async function quickchart(key) {\n",
              "      const quickchartButtonEl =\n",
              "        document.querySelector('#' + key + ' button');\n",
              "      quickchartButtonEl.disabled = true;  // To prevent multiple clicks.\n",
              "      quickchartButtonEl.classList.add('colab-df-spinner');\n",
              "      try {\n",
              "        const charts = await google.colab.kernel.invokeFunction(\n",
              "            'suggestCharts', [key], {});\n",
              "      } catch (error) {\n",
              "        console.error('Error during call to suggestCharts:', error);\n",
              "      }\n",
              "      quickchartButtonEl.classList.remove('colab-df-spinner');\n",
              "      quickchartButtonEl.classList.add('colab-df-quickchart-complete');\n",
              "    }\n",
              "    (() => {\n",
              "      let quickchartButtonEl =\n",
              "        document.querySelector('#df-4163f255-bb8a-41bd-a5d8-d0d897dc5f69 button');\n",
              "      quickchartButtonEl.style.display =\n",
              "        google.colab.kernel.accessAllowed ? 'block' : 'none';\n",
              "    })();\n",
              "  </script>\n",
              "</div>\n",
              "    </div>\n",
              "  </div>\n"
            ],
            "application/vnd.google.colaboratory.intrinsic+json": {
              "type": "dataframe",
              "variable_name": "df",
              "summary": "{\n  \"name\": \"df\",\n  \"rows\": 180,\n  \"fields\": [\n    {\n      \"column\": \"Country\",\n      \"properties\": {\n        \"dtype\": \"category\",\n        \"num_unique_values\": 15,\n        \"samples\": [\n          \"Country F\",\n          \"Country D\",\n          \"Country O\"\n        ],\n        \"semantic_type\": \"\",\n        \"description\": \"\"\n      }\n    },\n    {\n      \"column\": \"Year\",\n      \"properties\": {\n        \"dtype\": \"number\",\n        \"std\": 6,\n        \"min\": 1986,\n        \"max\": 2008,\n        \"num_unique_values\": 12,\n        \"samples\": [\n          1990,\n          1988,\n          2008\n        ],\n        \"semantic_type\": \"\",\n        \"description\": \"\"\n      }\n    },\n    {\n      \"column\": \"Exports\",\n      \"properties\": {\n        \"dtype\": \"number\",\n        \"std\": 6.228043723681334,\n        \"min\": 0.0,\n        \"max\": 28.688524590163933,\n        \"num_unique_values\": 144,\n        \"samples\": [\n          0.7067137809187279,\n          14.982578397212544,\n          6.920415224913495\n        ],\n        \"semantic_type\": \"\",\n        \"description\": \"\"\n      }\n    }\n  ]\n}"
            }
          },
          "metadata": {},
          "execution_count": 6
        }
      ],
      "source": [
        "df = pd.read_csv(\"data_files/bubble_data.csv\")\n",
        "df.head()"
      ]
    },
    {
      "cell_type": "markdown",
      "id": "6ab8119f",
      "metadata": {
        "id": "6ab8119f"
      },
      "source": [
        "## Bar chart\n"
      ]
    },
    {
      "cell_type": "code",
      "execution_count": 7,
      "id": "67330742",
      "metadata": {
        "scrolled": false,
        "colab": {
          "base_uri": "https://localhost:8080/",
          "height": 542
        },
        "id": "67330742",
        "outputId": "3ce4187e-2564-48ef-dbd2-3d7d53688ad2"
      },
      "outputs": [
        {
          "output_type": "display_data",
          "data": {
            "text/html": [
              "<html>\n",
              "<head><meta charset=\"utf-8\" /></head>\n",
              "<body>\n",
              "    <div>            <script src=\"https://cdnjs.cloudflare.com/ajax/libs/mathjax/2.7.5/MathJax.js?config=TeX-AMS-MML_SVG\"></script><script type=\"text/javascript\">if (window.MathJax && window.MathJax.Hub && window.MathJax.Hub.Config) {window.MathJax.Hub.Config({SVG: {font: \"STIX-Web\"}});}</script>                <script type=\"text/javascript\">window.PlotlyConfig = {MathJaxConfig: 'local'};</script>\n",
              "        <script charset=\"utf-8\" src=\"https://cdn.plot.ly/plotly-2.24.1.min.js\"></script>                <div id=\"ddde7cbd-58fe-4cc2-9542-9b2c3b857cdb\" class=\"plotly-graph-div\" style=\"height:525px; width:100%;\"></div>            <script type=\"text/javascript\">                                    window.PLOTLYENV=window.PLOTLYENV || {};                                    if (document.getElementById(\"ddde7cbd-58fe-4cc2-9542-9b2c3b857cdb\")) {                    Plotly.newPlot(                        \"ddde7cbd-58fe-4cc2-9542-9b2c3b857cdb\",                        [{\"alignmentgroup\":\"True\",\"hovertemplate\":\"Country=Country A\\u003cbr\\u003eYear=%{x}\\u003cbr\\u003eExports=%{y}\\u003cextra\\u003e\\u003c\\u002fextra\\u003e\",\"legendgroup\":\"Country A\",\"marker\":{\"color\":\"#636efa\",\"pattern\":{\"shape\":\"\"}},\"name\":\"Country A\",\"offsetgroup\":\"Country A\",\"orientation\":\"v\",\"showlegend\":true,\"textposition\":\"auto\",\"x\":[1996,2006,1994,2004,1990,1988,2008,2000,1998,1992,1986,2002],\"xaxis\":\"x\",\"y\":[3.603603603603604,0.9433962264150944,0.0,2.293577981651376,0.3484320557491289,0.3389830508474576,0.819672131147541,8.080808080808081,5.343511450381679,0.7067137809187279,0.7380073800738007,5.128205128205129],\"yaxis\":\"y\",\"type\":\"bar\"},{\"alignmentgroup\":\"True\",\"hovertemplate\":\"Country=Country B\\u003cbr\\u003eYear=%{x}\\u003cbr\\u003eExports=%{y}\\u003cextra\\u003e\\u003c\\u002fextra\\u003e\",\"legendgroup\":\"Country B\",\"marker\":{\"color\":\"#EF553B\",\"pattern\":{\"shape\":\"\"}},\"name\":\"Country B\",\"offsetgroup\":\"Country B\",\"orientation\":\"v\",\"showlegend\":true,\"textposition\":\"auto\",\"x\":[1996,1998,2004,1986,2006,2008,2002,2000,1994,1988,1990,1992],\"xaxis\":\"x\",\"y\":[6.906906906906907,11.450381679389311,3.669724770642202,0.0,0.9433962264150944,2.459016393442623,7.264957264957265,8.754208754208754,1.7301038062283738,0.3389830508474576,0.0,1.060070671378092],\"yaxis\":\"y\",\"type\":\"bar\"},{\"alignmentgroup\":\"True\",\"hovertemplate\":\"Country=Country C\\u003cbr\\u003eYear=%{x}\\u003cbr\\u003eExports=%{y}\\u003cextra\\u003e\\u003c\\u002fextra\\u003e\",\"legendgroup\":\"Country C\",\"marker\":{\"color\":\"#00cc96\",\"pattern\":{\"shape\":\"\"}},\"name\":\"Country C\",\"offsetgroup\":\"Country C\",\"orientation\":\"v\",\"showlegend\":true,\"textposition\":\"auto\",\"x\":[1992,1996,2002,2006,2008,1986,1998,1988,2000,1990,2004,1994],\"xaxis\":\"x\",\"y\":[2.826855123674912,0.3003003003003003,0.8547008547008547,2.358490566037736,0.819672131147541,3.321033210332103,2.6717557251908395,3.0508474576271185,1.6835016835016836,4.181184668989547,0.9174311926605504,1.3840830449826989],\"yaxis\":\"y\",\"type\":\"bar\"},{\"alignmentgroup\":\"True\",\"hovertemplate\":\"Country=Country D\\u003cbr\\u003eYear=%{x}\\u003cbr\\u003eExports=%{y}\\u003cextra\\u003e\\u003c\\u002fextra\\u003e\",\"legendgroup\":\"Country D\",\"marker\":{\"color\":\"#ab63fa\",\"pattern\":{\"shape\":\"\"}},\"name\":\"Country D\",\"offsetgroup\":\"Country D\",\"orientation\":\"v\",\"showlegend\":true,\"textposition\":\"auto\",\"x\":[1990,1998,1992,2004,2002,2008,2006,1988,1986,1994,2000,1996],\"xaxis\":\"x\",\"y\":[0.6968641114982579,4.580152671755725,0.7067137809187279,2.293577981651376,2.5641025641025643,1.2295081967213115,0.9433962264150944,0.3389830508474576,0.7380073800738007,2.422145328719723,6.734006734006734,5.7057057057057055],\"yaxis\":\"y\",\"type\":\"bar\"},{\"alignmentgroup\":\"True\",\"hovertemplate\":\"Country=Country E\\u003cbr\\u003eYear=%{x}\\u003cbr\\u003eExports=%{y}\\u003cextra\\u003e\\u003c\\u002fextra\\u003e\",\"legendgroup\":\"Country E\",\"marker\":{\"color\":\"#FFA15A\",\"pattern\":{\"shape\":\"\"}},\"name\":\"Country E\",\"offsetgroup\":\"Country E\",\"orientation\":\"v\",\"showlegend\":true,\"textposition\":\"auto\",\"x\":[2002,1994,1990,2008,1988,1996,2004,1998,2006,1992,2000,1986],\"xaxis\":\"x\",\"y\":[5.982905982905983,7.958477508650519,0.0,0.819672131147541,0.3389830508474576,14.114114114114114,2.752293577981652,16.03053435114504,1.4150943396226414,1.7667844522968197,13.804713804713804,0.3690036900369003],\"yaxis\":\"y\",\"type\":\"bar\"},{\"alignmentgroup\":\"True\",\"hovertemplate\":\"Country=Country F\\u003cbr\\u003eYear=%{x}\\u003cbr\\u003eExports=%{y}\\u003cextra\\u003e\\u003c\\u002fextra\\u003e\",\"legendgroup\":\"Country F\",\"marker\":{\"color\":\"#19d3f3\",\"pattern\":{\"shape\":\"\"}},\"name\":\"Country F\",\"offsetgroup\":\"Country F\",\"orientation\":\"v\",\"showlegend\":true,\"textposition\":\"auto\",\"x\":[1990,2002,1998,2004,1988,2006,1986,2000,1994,2008,1992,1996],\"xaxis\":\"x\",\"y\":[0.0,1.2820512820512822,3.435114503816794,1.3761467889908257,0.3389830508474576,0.0,0.7380073800738007,5.05050505050505,2.7681660899653977,1.639344262295082,1.413427561837456,6.006006006006006],\"yaxis\":\"y\",\"type\":\"bar\"},{\"alignmentgroup\":\"True\",\"hovertemplate\":\"Country=Country G\\u003cbr\\u003eYear=%{x}\\u003cbr\\u003eExports=%{y}\\u003cextra\\u003e\\u003c\\u002fextra\\u003e\",\"legendgroup\":\"Country G\",\"marker\":{\"color\":\"#FF6692\",\"pattern\":{\"shape\":\"\"}},\"name\":\"Country G\",\"offsetgroup\":\"Country G\",\"orientation\":\"v\",\"showlegend\":true,\"textposition\":\"auto\",\"x\":[1996,1998,1988,2000,1994,1990,2006,1992,1986,2002,2004,2008],\"xaxis\":\"x\",\"y\":[6.606606606606607,4.961832061068702,2.711864406779661,3.367003367003367,3.460207612456748,3.1358885017421603,1.8867924528301887,1.060070671378092,1.845018450184502,3.418803418803418,2.752293577981652,2.459016393442623],\"yaxis\":\"y\",\"type\":\"bar\"},{\"alignmentgroup\":\"True\",\"hovertemplate\":\"Country=Country H\\u003cbr\\u003eYear=%{x}\\u003cbr\\u003eExports=%{y}\\u003cextra\\u003e\\u003c\\u002fextra\\u003e\",\"legendgroup\":\"Country H\",\"marker\":{\"color\":\"#B6E880\",\"pattern\":{\"shape\":\"\"}},\"name\":\"Country H\",\"offsetgroup\":\"Country H\",\"orientation\":\"v\",\"showlegend\":true,\"textposition\":\"auto\",\"x\":[2004,2008,1992,2006,1990,1986,1996,2002,1988,1994,1998,2000],\"xaxis\":\"x\",\"y\":[4.128440366972477,3.278688524590164,4.240282685512367,2.830188679245283,0.3484320557491289,1.1070110701107012,9.60960960960961,8.547008547008547,1.3559322033898304,6.920415224913495,12.213740458015268,12.457912457912458],\"yaxis\":\"y\",\"type\":\"bar\"},{\"alignmentgroup\":\"True\",\"hovertemplate\":\"Country=Country I\\u003cbr\\u003eYear=%{x}\\u003cbr\\u003eExports=%{y}\\u003cextra\\u003e\\u003c\\u002fextra\\u003e\",\"legendgroup\":\"Country I\",\"marker\":{\"color\":\"#FF97FF\",\"pattern\":{\"shape\":\"\"}},\"name\":\"Country I\",\"offsetgroup\":\"Country I\",\"orientation\":\"v\",\"showlegend\":true,\"textposition\":\"auto\",\"x\":[1988,2004,2000,1996,1990,1992,2002,2008,2006,1986,1994,1998],\"xaxis\":\"x\",\"y\":[4.406779661016949,11.009174311926603,10.774410774410777,14.414414414414416,6.620209059233449,9.187279151943462,9.401709401709402,4.918032786885246,8.962264150943396,5.166051660516605,8.996539792387543,8.396946564885496],\"yaxis\":\"y\",\"type\":\"bar\"},{\"alignmentgroup\":\"True\",\"hovertemplate\":\"Country=Country J\\u003cbr\\u003eYear=%{x}\\u003cbr\\u003eExports=%{y}\\u003cextra\\u003e\\u003c\\u002fextra\\u003e\",\"legendgroup\":\"Country J\",\"marker\":{\"color\":\"#FECB52\",\"pattern\":{\"shape\":\"\"}},\"name\":\"Country J\",\"offsetgroup\":\"Country J\",\"orientation\":\"v\",\"showlegend\":true,\"textposition\":\"auto\",\"x\":[2002,1986,1992,1994,2000,1998,2006,1996,2008,1988,1990,2004],\"xaxis\":\"x\",\"y\":[7.6923076923076925,21.03321033210332,18.374558303886925,12.456747404844291,5.723905723905724,6.106870229007634,13.679245283018869,11.411411411411413,7.377049180327869,21.35593220338983,19.16376306620209,10.55045871559633],\"yaxis\":\"y\",\"type\":\"bar\"},{\"alignmentgroup\":\"True\",\"hovertemplate\":\"Country=Country K\\u003cbr\\u003eYear=%{x}\\u003cbr\\u003eExports=%{y}\\u003cextra\\u003e\\u003c\\u002fextra\\u003e\",\"legendgroup\":\"Country K\",\"marker\":{\"color\":\"#636efa\",\"pattern\":{\"shape\":\"\"}},\"name\":\"Country K\",\"offsetgroup\":\"Country K\",\"orientation\":\"v\",\"showlegend\":true,\"textposition\":\"auto\",\"x\":[2002,1988,2000,1990,1998,1986,2004,1992,2006,2008,1994,1996],\"xaxis\":\"x\",\"y\":[10.256410256410255,15.932203389830509,8.754208754208754,15.331010452961673,8.396946564885496,16.236162361623617,12.844036697247706,15.19434628975265,10.37735849056604,7.786885245901639,10.034602076124568,5.105105105105105],\"yaxis\":\"y\",\"type\":\"bar\"},{\"alignmentgroup\":\"True\",\"hovertemplate\":\"Country=Country L\\u003cbr\\u003eYear=%{x}\\u003cbr\\u003eExports=%{y}\\u003cextra\\u003e\\u003c\\u002fextra\\u003e\",\"legendgroup\":\"Country L\",\"marker\":{\"color\":\"#EF553B\",\"pattern\":{\"shape\":\"\"}},\"name\":\"Country L\",\"offsetgroup\":\"Country L\",\"orientation\":\"v\",\"showlegend\":true,\"textposition\":\"auto\",\"x\":[1988,2002,1990,1994,2000,2004,1986,2008,1996,1998,2006,1992],\"xaxis\":\"x\",\"y\":[12.88135593220339,9.82905982905983,12.89198606271777,14.878892733564014,4.377104377104377,12.385321100917432,9.59409594095941,13.114754098360656,6.006006006006006,3.435114503816794,11.79245283018868,14.840989399293289],\"yaxis\":\"y\",\"type\":\"bar\"},{\"alignmentgroup\":\"True\",\"hovertemplate\":\"Country=Country M\\u003cbr\\u003eYear=%{x}\\u003cbr\\u003eExports=%{y}\\u003cextra\\u003e\\u003c\\u002fextra\\u003e\",\"legendgroup\":\"Country M\",\"marker\":{\"color\":\"#00cc96\",\"pattern\":{\"shape\":\"\"}},\"name\":\"Country M\",\"offsetgroup\":\"Country M\",\"orientation\":\"v\",\"showlegend\":true,\"textposition\":\"auto\",\"x\":[2002,2004,1988,2008,1986,1990,2006,1996,1992,2000,1998,1994],\"xaxis\":\"x\",\"y\":[4.273504273504273,2.293577981651376,0.3389830508474576,13.114754098360656,0.0,0.0,5.660377358490566,3.603603603603604,0.3533568904593639,5.05050505050505,9.541984732824428,2.7681660899653977],\"yaxis\":\"y\",\"type\":\"bar\"},{\"alignmentgroup\":\"True\",\"hovertemplate\":\"Country=Country N\\u003cbr\\u003eYear=%{x}\\u003cbr\\u003eExports=%{y}\\u003cextra\\u003e\\u003c\\u002fextra\\u003e\",\"legendgroup\":\"Country N\",\"marker\":{\"color\":\"#ab63fa\",\"pattern\":{\"shape\":\"\"}},\"name\":\"Country N\",\"offsetgroup\":\"Country N\",\"orientation\":\"v\",\"showlegend\":true,\"textposition\":\"auto\",\"x\":[1998,2004,2006,2002,1986,1994,1996,1990,1988,2008,2000,1992],\"xaxis\":\"x\",\"y\":[1.1450381679389312,5.045871559633028,10.37735849056604,6.410256410256411,18.45018450184502,8.996539792387543,1.2012012012012012,14.982578397212544,15.59322033898305,11.475409836065571,1.0101010101010102,9.540636042402827],\"yaxis\":\"y\",\"type\":\"bar\"},{\"alignmentgroup\":\"True\",\"hovertemplate\":\"Country=Country O\\u003cbr\\u003eYear=%{x}\\u003cbr\\u003eExports=%{y}\\u003cextra\\u003e\\u003c\\u002fextra\\u003e\",\"legendgroup\":\"Country O\",\"marker\":{\"color\":\"#FFA15A\",\"pattern\":{\"shape\":\"\"}},\"name\":\"Country O\",\"offsetgroup\":\"Country O\",\"orientation\":\"v\",\"showlegend\":true,\"textposition\":\"auto\",\"x\":[2002,1992,1986,2004,1994,2006,1996,1988,1990,1998,2000,2008],\"xaxis\":\"x\",\"y\":[17.094017094017094,18.72791519434629,20.66420664206642,25.68807339449541,15.22491349480969,27.83018867924528,5.405405405405405,20.67796610169492,22.29965156794425,2.2900763358778624,4.377104377104377,28.688524590163933],\"yaxis\":\"y\",\"type\":\"bar\"}],                        {\"template\":{\"data\":{\"histogram2dcontour\":[{\"type\":\"histogram2dcontour\",\"colorbar\":{\"outlinewidth\":0,\"ticks\":\"\"},\"colorscale\":[[0.0,\"#0d0887\"],[0.1111111111111111,\"#46039f\"],[0.2222222222222222,\"#7201a8\"],[0.3333333333333333,\"#9c179e\"],[0.4444444444444444,\"#bd3786\"],[0.5555555555555556,\"#d8576b\"],[0.6666666666666666,\"#ed7953\"],[0.7777777777777778,\"#fb9f3a\"],[0.8888888888888888,\"#fdca26\"],[1.0,\"#f0f921\"]]}],\"choropleth\":[{\"type\":\"choropleth\",\"colorbar\":{\"outlinewidth\":0,\"ticks\":\"\"}}],\"histogram2d\":[{\"type\":\"histogram2d\",\"colorbar\":{\"outlinewidth\":0,\"ticks\":\"\"},\"colorscale\":[[0.0,\"#0d0887\"],[0.1111111111111111,\"#46039f\"],[0.2222222222222222,\"#7201a8\"],[0.3333333333333333,\"#9c179e\"],[0.4444444444444444,\"#bd3786\"],[0.5555555555555556,\"#d8576b\"],[0.6666666666666666,\"#ed7953\"],[0.7777777777777778,\"#fb9f3a\"],[0.8888888888888888,\"#fdca26\"],[1.0,\"#f0f921\"]]}],\"heatmap\":[{\"type\":\"heatmap\",\"colorbar\":{\"outlinewidth\":0,\"ticks\":\"\"},\"colorscale\":[[0.0,\"#0d0887\"],[0.1111111111111111,\"#46039f\"],[0.2222222222222222,\"#7201a8\"],[0.3333333333333333,\"#9c179e\"],[0.4444444444444444,\"#bd3786\"],[0.5555555555555556,\"#d8576b\"],[0.6666666666666666,\"#ed7953\"],[0.7777777777777778,\"#fb9f3a\"],[0.8888888888888888,\"#fdca26\"],[1.0,\"#f0f921\"]]}],\"heatmapgl\":[{\"type\":\"heatmapgl\",\"colorbar\":{\"outlinewidth\":0,\"ticks\":\"\"},\"colorscale\":[[0.0,\"#0d0887\"],[0.1111111111111111,\"#46039f\"],[0.2222222222222222,\"#7201a8\"],[0.3333333333333333,\"#9c179e\"],[0.4444444444444444,\"#bd3786\"],[0.5555555555555556,\"#d8576b\"],[0.6666666666666666,\"#ed7953\"],[0.7777777777777778,\"#fb9f3a\"],[0.8888888888888888,\"#fdca26\"],[1.0,\"#f0f921\"]]}],\"contourcarpet\":[{\"type\":\"contourcarpet\",\"colorbar\":{\"outlinewidth\":0,\"ticks\":\"\"}}],\"contour\":[{\"type\":\"contour\",\"colorbar\":{\"outlinewidth\":0,\"ticks\":\"\"},\"colorscale\":[[0.0,\"#0d0887\"],[0.1111111111111111,\"#46039f\"],[0.2222222222222222,\"#7201a8\"],[0.3333333333333333,\"#9c179e\"],[0.4444444444444444,\"#bd3786\"],[0.5555555555555556,\"#d8576b\"],[0.6666666666666666,\"#ed7953\"],[0.7777777777777778,\"#fb9f3a\"],[0.8888888888888888,\"#fdca26\"],[1.0,\"#f0f921\"]]}],\"surface\":[{\"type\":\"surface\",\"colorbar\":{\"outlinewidth\":0,\"ticks\":\"\"},\"colorscale\":[[0.0,\"#0d0887\"],[0.1111111111111111,\"#46039f\"],[0.2222222222222222,\"#7201a8\"],[0.3333333333333333,\"#9c179e\"],[0.4444444444444444,\"#bd3786\"],[0.5555555555555556,\"#d8576b\"],[0.6666666666666666,\"#ed7953\"],[0.7777777777777778,\"#fb9f3a\"],[0.8888888888888888,\"#fdca26\"],[1.0,\"#f0f921\"]]}],\"mesh3d\":[{\"type\":\"mesh3d\",\"colorbar\":{\"outlinewidth\":0,\"ticks\":\"\"}}],\"scatter\":[{\"fillpattern\":{\"fillmode\":\"overlay\",\"size\":10,\"solidity\":0.2},\"type\":\"scatter\"}],\"parcoords\":[{\"type\":\"parcoords\",\"line\":{\"colorbar\":{\"outlinewidth\":0,\"ticks\":\"\"}}}],\"scatterpolargl\":[{\"type\":\"scatterpolargl\",\"marker\":{\"colorbar\":{\"outlinewidth\":0,\"ticks\":\"\"}}}],\"bar\":[{\"error_x\":{\"color\":\"#2a3f5f\"},\"error_y\":{\"color\":\"#2a3f5f\"},\"marker\":{\"line\":{\"color\":\"#E5ECF6\",\"width\":0.5},\"pattern\":{\"fillmode\":\"overlay\",\"size\":10,\"solidity\":0.2}},\"type\":\"bar\"}],\"scattergeo\":[{\"type\":\"scattergeo\",\"marker\":{\"colorbar\":{\"outlinewidth\":0,\"ticks\":\"\"}}}],\"scatterpolar\":[{\"type\":\"scatterpolar\",\"marker\":{\"colorbar\":{\"outlinewidth\":0,\"ticks\":\"\"}}}],\"histogram\":[{\"marker\":{\"pattern\":{\"fillmode\":\"overlay\",\"size\":10,\"solidity\":0.2}},\"type\":\"histogram\"}],\"scattergl\":[{\"type\":\"scattergl\",\"marker\":{\"colorbar\":{\"outlinewidth\":0,\"ticks\":\"\"}}}],\"scatter3d\":[{\"type\":\"scatter3d\",\"line\":{\"colorbar\":{\"outlinewidth\":0,\"ticks\":\"\"}},\"marker\":{\"colorbar\":{\"outlinewidth\":0,\"ticks\":\"\"}}}],\"scattermapbox\":[{\"type\":\"scattermapbox\",\"marker\":{\"colorbar\":{\"outlinewidth\":0,\"ticks\":\"\"}}}],\"scatterternary\":[{\"type\":\"scatterternary\",\"marker\":{\"colorbar\":{\"outlinewidth\":0,\"ticks\":\"\"}}}],\"scattercarpet\":[{\"type\":\"scattercarpet\",\"marker\":{\"colorbar\":{\"outlinewidth\":0,\"ticks\":\"\"}}}],\"carpet\":[{\"aaxis\":{\"endlinecolor\":\"#2a3f5f\",\"gridcolor\":\"white\",\"linecolor\":\"white\",\"minorgridcolor\":\"white\",\"startlinecolor\":\"#2a3f5f\"},\"baxis\":{\"endlinecolor\":\"#2a3f5f\",\"gridcolor\":\"white\",\"linecolor\":\"white\",\"minorgridcolor\":\"white\",\"startlinecolor\":\"#2a3f5f\"},\"type\":\"carpet\"}],\"table\":[{\"cells\":{\"fill\":{\"color\":\"#EBF0F8\"},\"line\":{\"color\":\"white\"}},\"header\":{\"fill\":{\"color\":\"#C8D4E3\"},\"line\":{\"color\":\"white\"}},\"type\":\"table\"}],\"barpolar\":[{\"marker\":{\"line\":{\"color\":\"#E5ECF6\",\"width\":0.5},\"pattern\":{\"fillmode\":\"overlay\",\"size\":10,\"solidity\":0.2}},\"type\":\"barpolar\"}],\"pie\":[{\"automargin\":true,\"type\":\"pie\"}]},\"layout\":{\"autotypenumbers\":\"strict\",\"colorway\":[\"#636efa\",\"#EF553B\",\"#00cc96\",\"#ab63fa\",\"#FFA15A\",\"#19d3f3\",\"#FF6692\",\"#B6E880\",\"#FF97FF\",\"#FECB52\"],\"font\":{\"color\":\"#2a3f5f\"},\"hovermode\":\"closest\",\"hoverlabel\":{\"align\":\"left\"},\"paper_bgcolor\":\"white\",\"plot_bgcolor\":\"#E5ECF6\",\"polar\":{\"bgcolor\":\"#E5ECF6\",\"angularaxis\":{\"gridcolor\":\"white\",\"linecolor\":\"white\",\"ticks\":\"\"},\"radialaxis\":{\"gridcolor\":\"white\",\"linecolor\":\"white\",\"ticks\":\"\"}},\"ternary\":{\"bgcolor\":\"#E5ECF6\",\"aaxis\":{\"gridcolor\":\"white\",\"linecolor\":\"white\",\"ticks\":\"\"},\"baxis\":{\"gridcolor\":\"white\",\"linecolor\":\"white\",\"ticks\":\"\"},\"caxis\":{\"gridcolor\":\"white\",\"linecolor\":\"white\",\"ticks\":\"\"}},\"coloraxis\":{\"colorbar\":{\"outlinewidth\":0,\"ticks\":\"\"}},\"colorscale\":{\"sequential\":[[0.0,\"#0d0887\"],[0.1111111111111111,\"#46039f\"],[0.2222222222222222,\"#7201a8\"],[0.3333333333333333,\"#9c179e\"],[0.4444444444444444,\"#bd3786\"],[0.5555555555555556,\"#d8576b\"],[0.6666666666666666,\"#ed7953\"],[0.7777777777777778,\"#fb9f3a\"],[0.8888888888888888,\"#fdca26\"],[1.0,\"#f0f921\"]],\"sequentialminus\":[[0.0,\"#0d0887\"],[0.1111111111111111,\"#46039f\"],[0.2222222222222222,\"#7201a8\"],[0.3333333333333333,\"#9c179e\"],[0.4444444444444444,\"#bd3786\"],[0.5555555555555556,\"#d8576b\"],[0.6666666666666666,\"#ed7953\"],[0.7777777777777778,\"#fb9f3a\"],[0.8888888888888888,\"#fdca26\"],[1.0,\"#f0f921\"]],\"diverging\":[[0,\"#8e0152\"],[0.1,\"#c51b7d\"],[0.2,\"#de77ae\"],[0.3,\"#f1b6da\"],[0.4,\"#fde0ef\"],[0.5,\"#f7f7f7\"],[0.6,\"#e6f5d0\"],[0.7,\"#b8e186\"],[0.8,\"#7fbc41\"],[0.9,\"#4d9221\"],[1,\"#276419\"]]},\"xaxis\":{\"gridcolor\":\"white\",\"linecolor\":\"white\",\"ticks\":\"\",\"title\":{\"standoff\":15},\"zerolinecolor\":\"white\",\"automargin\":true,\"zerolinewidth\":2},\"yaxis\":{\"gridcolor\":\"white\",\"linecolor\":\"white\",\"ticks\":\"\",\"title\":{\"standoff\":15},\"zerolinecolor\":\"white\",\"automargin\":true,\"zerolinewidth\":2},\"scene\":{\"xaxis\":{\"backgroundcolor\":\"#E5ECF6\",\"gridcolor\":\"white\",\"linecolor\":\"white\",\"showbackground\":true,\"ticks\":\"\",\"zerolinecolor\":\"white\",\"gridwidth\":2},\"yaxis\":{\"backgroundcolor\":\"#E5ECF6\",\"gridcolor\":\"white\",\"linecolor\":\"white\",\"showbackground\":true,\"ticks\":\"\",\"zerolinecolor\":\"white\",\"gridwidth\":2},\"zaxis\":{\"backgroundcolor\":\"#E5ECF6\",\"gridcolor\":\"white\",\"linecolor\":\"white\",\"showbackground\":true,\"ticks\":\"\",\"zerolinecolor\":\"white\",\"gridwidth\":2}},\"shapedefaults\":{\"line\":{\"color\":\"#2a3f5f\"}},\"annotationdefaults\":{\"arrowcolor\":\"#2a3f5f\",\"arrowhead\":0,\"arrowwidth\":1},\"geo\":{\"bgcolor\":\"white\",\"landcolor\":\"#E5ECF6\",\"subunitcolor\":\"white\",\"showland\":true,\"showlakes\":true,\"lakecolor\":\"white\"},\"title\":{\"x\":0.05},\"mapbox\":{\"style\":\"light\"}}},\"xaxis\":{\"anchor\":\"y\",\"domain\":[0.0,1.0],\"title\":{\"text\":\"Year\"}},\"yaxis\":{\"anchor\":\"x\",\"domain\":[0.0,1.0],\"title\":{\"text\":\"Exports\"}},\"legend\":{\"title\":{\"text\":\"Country\"},\"tracegroupgap\":0},\"margin\":{\"t\":60},\"barmode\":\"group\"},                        {\"responsive\": true}                    ).then(function(){\n",
              "                            \n",
              "var gd = document.getElementById('ddde7cbd-58fe-4cc2-9542-9b2c3b857cdb');\n",
              "var x = new MutationObserver(function (mutations, observer) {{\n",
              "        var display = window.getComputedStyle(gd).display;\n",
              "        if (!display || display === 'none') {{\n",
              "            console.log([gd, 'removed!']);\n",
              "            Plotly.purge(gd);\n",
              "            observer.disconnect();\n",
              "        }}\n",
              "}});\n",
              "\n",
              "// Listen for the removal of the full notebook cells\n",
              "var notebookContainer = gd.closest('#notebook-container');\n",
              "if (notebookContainer) {{\n",
              "    x.observe(notebookContainer, {childList: true});\n",
              "}}\n",
              "\n",
              "// Listen for the clearing of the current output cell\n",
              "var outputEl = gd.closest('.output');\n",
              "if (outputEl) {{\n",
              "    x.observe(outputEl, {childList: true});\n",
              "}}\n",
              "\n",
              "                        })                };                            </script>        </div>\n",
              "</body>\n",
              "</html>"
            ]
          },
          "metadata": {}
        }
      ],
      "source": [
        "df = df.sort_values(\"Country\")\n",
        "fig = px.bar(df, color='Country', y='Exports', x='Year', barmode='group')\n",
        "\n",
        "fig.show()"
      ]
    },
    {
      "cell_type": "markdown",
      "id": "a0094409",
      "metadata": {
        "id": "a0094409"
      },
      "source": [
        "## Bubble chart"
      ]
    },
    {
      "cell_type": "code",
      "execution_count": 8,
      "id": "7045a42e",
      "metadata": {
        "colab": {
          "base_uri": "https://localhost:8080/",
          "height": 537
        },
        "id": "7045a42e",
        "outputId": "7ee01603-33fa-4ea4-bf37-8af12109a1d2"
      },
      "outputs": [
        {
          "output_type": "display_data",
          "data": {
            "text/html": [
              "<html>\n",
              "<head><meta charset=\"utf-8\" /></head>\n",
              "<body>\n",
              "    <div>            <script src=\"https://cdnjs.cloudflare.com/ajax/libs/mathjax/2.7.5/MathJax.js?config=TeX-AMS-MML_SVG\"></script><script type=\"text/javascript\">if (window.MathJax && window.MathJax.Hub && window.MathJax.Hub.Config) {window.MathJax.Hub.Config({SVG: {font: \"STIX-Web\"}});}</script>                <script type=\"text/javascript\">window.PlotlyConfig = {MathJaxConfig: 'local'};</script>\n",
              "        <script charset=\"utf-8\" src=\"https://cdn.plot.ly/plotly-2.24.1.min.js\"></script>                <div id=\"36783c5e-8949-4ba4-bd25-c08606c2e3f1\" class=\"plotly-graph-div\" style=\"height:500px; width:1000px;\"></div>            <script type=\"text/javascript\">                                    window.PLOTLYENV=window.PLOTLYENV || {};                                    if (document.getElementById(\"36783c5e-8949-4ba4-bd25-c08606c2e3f1\")) {                    Plotly.newPlot(                        \"36783c5e-8949-4ba4-bd25-c08606c2e3f1\",                        [{\"hovertemplate\":\"Year=%{x}\\u003cbr\\u003eCountry=%{y}\\u003cbr\\u003eExports=%{marker.color}\\u003cextra\\u003e\\u003c\\u002fextra\\u003e\",\"legendgroup\":\"\",\"marker\":{\"color\":[28.688524590163933,27.83018867924528,17.094017094017094,18.72791519434629,20.66420664206642,15.22491349480969,25.68807339449541,5.405405405405405,20.67796610169492,22.29965156794425,2.2900763358778624,4.377104377104377,1.2012012012012012,1.1450381679389312,5.045871559633028,10.37735849056604,18.45018450184502,8.996539792387543,6.410256410256411,14.982578397212544,15.59322033898305,11.475409836065571,1.0101010101010102,9.540636042402827,4.273504273504273,2.293577981651376,0.3389830508474576,13.114754098360656,0.0,0.0,5.660377358490566,3.603603603603604,0.3533568904593639,5.05050505050505,9.541984732824428,2.7681660899653977,9.59409594095941,12.88135593220339,9.82905982905983,12.89198606271777,14.878892733564014,12.385321100917432,4.377104377104377,13.114754098360656,6.006006006006006,3.435114503816794,11.79245283018868,14.840989399293289,16.236162361623617,10.256410256410255,15.932203389830509,8.754208754208754,15.331010452961673,8.396946564885496,12.844036697247706,15.19434628975265,10.37735849056604,7.786885245901639,10.034602076124568,5.105105105105105,6.106870229007634,7.6923076923076925,21.03321033210332,18.374558303886925,12.456747404844291,5.723905723905724,13.679245283018869,7.377049180327869,21.35593220338983,19.16376306620209,10.55045871559633,11.411411411411413,9.401709401709402,9.187279151943462,4.406779661016949,11.009174311926603,10.774410774410777,14.414414414414416,6.620209059233449,8.962264150943396,4.918032786885246,5.166051660516605,8.996539792387543,8.396946564885496,12.213740458015268,6.920415224913495,8.547008547008547,12.457912457912458,1.3559322033898304,9.60960960960961,1.1070110701107012,0.3484320557491289,2.830188679245283,4.240282685512367,3.278688524590164,4.128440366972477,6.606606606606607,4.961832061068702,2.711864406779661,3.367003367003367,3.460207612456748,3.1358885017421603,1.8867924528301887,1.060070671378092,1.845018450184502,3.418803418803418,2.752293577981652,2.459016393442623,0.0,1.2820512820512822,3.435114503816794,1.3761467889908257,0.3389830508474576,0.0,0.7380073800738007,5.05050505050505,2.7681660899653977,1.639344262295082,1.413427561837456,6.006006006006006,2.752293577981652,5.982905982905983,0.0,0.819672131147541,0.3389830508474576,14.114114114114114,7.958477508650519,16.03053435114504,1.4150943396226414,1.7667844522968197,13.804713804713804,0.3690036900369003,0.6968641114982579,4.580152671755725,0.7067137809187279,1.2295081967213115,2.293577981651376,2.5641025641025643,2.422145328719723,0.9433962264150944,0.7380073800738007,6.734006734006734,5.7057057057057055,0.3389830508474576,2.6717557251908395,0.3003003003003003,0.8547008547008547,2.358490566037736,0.819672131147541,3.321033210332103,2.826855123674912,3.0508474576271185,1.6835016835016836,4.181184668989547,0.9174311926605504,1.3840830449826989,6.906906906906907,11.450381679389311,3.669724770642202,0.0,0.9433962264150944,2.459016393442623,7.264957264957265,8.754208754208754,1.7301038062283738,0.3389830508474576,0.0,1.060070671378092,0.819672131147541,0.0,2.293577981651376,0.3484320557491289,0.3389830508474576,0.9433962264150944,8.080808080808081,5.343511450381679,0.7067137809187279,0.7380073800738007,5.128205128205129,3.603603603603604],\"coloraxis\":\"coloraxis\",\"size\":[28.688524590163933,27.83018867924528,17.094017094017094,18.72791519434629,20.66420664206642,15.22491349480969,25.68807339449541,5.405405405405405,20.67796610169492,22.29965156794425,2.2900763358778624,4.377104377104377,1.2012012012012012,1.1450381679389312,5.045871559633028,10.37735849056604,18.45018450184502,8.996539792387543,6.410256410256411,14.982578397212544,15.59322033898305,11.475409836065571,1.0101010101010102,9.540636042402827,4.273504273504273,2.293577981651376,0.3389830508474576,13.114754098360656,0.0,0.0,5.660377358490566,3.603603603603604,0.3533568904593639,5.05050505050505,9.541984732824428,2.7681660899653977,9.59409594095941,12.88135593220339,9.82905982905983,12.89198606271777,14.878892733564014,12.385321100917432,4.377104377104377,13.114754098360656,6.006006006006006,3.435114503816794,11.79245283018868,14.840989399293289,16.236162361623617,10.256410256410255,15.932203389830509,8.754208754208754,15.331010452961673,8.396946564885496,12.844036697247706,15.19434628975265,10.37735849056604,7.786885245901639,10.034602076124568,5.105105105105105,6.106870229007634,7.6923076923076925,21.03321033210332,18.374558303886925,12.456747404844291,5.723905723905724,13.679245283018869,7.377049180327869,21.35593220338983,19.16376306620209,10.55045871559633,11.411411411411413,9.401709401709402,9.187279151943462,4.406779661016949,11.009174311926603,10.774410774410777,14.414414414414416,6.620209059233449,8.962264150943396,4.918032786885246,5.166051660516605,8.996539792387543,8.396946564885496,12.213740458015268,6.920415224913495,8.547008547008547,12.457912457912458,1.3559322033898304,9.60960960960961,1.1070110701107012,0.3484320557491289,2.830188679245283,4.240282685512367,3.278688524590164,4.128440366972477,6.606606606606607,4.961832061068702,2.711864406779661,3.367003367003367,3.460207612456748,3.1358885017421603,1.8867924528301887,1.060070671378092,1.845018450184502,3.418803418803418,2.752293577981652,2.459016393442623,0.0,1.2820512820512822,3.435114503816794,1.3761467889908257,0.3389830508474576,0.0,0.7380073800738007,5.05050505050505,2.7681660899653977,1.639344262295082,1.413427561837456,6.006006006006006,2.752293577981652,5.982905982905983,0.0,0.819672131147541,0.3389830508474576,14.114114114114114,7.958477508650519,16.03053435114504,1.4150943396226414,1.7667844522968197,13.804713804713804,0.3690036900369003,0.6968641114982579,4.580152671755725,0.7067137809187279,1.2295081967213115,2.293577981651376,2.5641025641025643,2.422145328719723,0.9433962264150944,0.7380073800738007,6.734006734006734,5.7057057057057055,0.3389830508474576,2.6717557251908395,0.3003003003003003,0.8547008547008547,2.358490566037736,0.819672131147541,3.321033210332103,2.826855123674912,3.0508474576271185,1.6835016835016836,4.181184668989547,0.9174311926605504,1.3840830449826989,6.906906906906907,11.450381679389311,3.669724770642202,0.0,0.9433962264150944,2.459016393442623,7.264957264957265,8.754208754208754,1.7301038062283738,0.3389830508474576,0.0,1.060070671378092,0.819672131147541,0.0,2.293577981651376,0.3484320557491289,0.3389830508474576,0.9433962264150944,8.080808080808081,5.343511450381679,0.7067137809187279,0.7380073800738007,5.128205128205129,3.603603603603604],\"sizemode\":\"area\",\"sizeref\":0.09,\"symbol\":\"circle\"},\"mode\":\"markers\",\"name\":\"\",\"orientation\":\"h\",\"showlegend\":false,\"x\":[2008,2006,2002,1992,1986,1994,2004,1996,1988,1990,1998,2000,1996,1998,2004,2006,1986,1994,2002,1990,1988,2008,2000,1992,2002,2004,1988,2008,1986,1990,2006,1996,1992,2000,1998,1994,1986,1988,2002,1990,1994,2004,2000,2008,1996,1998,2006,1992,1986,2002,1988,2000,1990,1998,2004,1992,2006,2008,1994,1996,1998,2002,1986,1992,1994,2000,2006,2008,1988,1990,2004,1996,2002,1992,1988,2004,2000,1996,1990,2006,2008,1986,1994,1998,1998,1994,2002,2000,1988,1996,1986,1990,2006,1992,2008,2004,1996,1998,1988,2000,1994,1990,2006,1992,1986,2002,2004,2008,1990,2002,1998,2004,1988,2006,1986,2000,1994,2008,1992,1996,2004,2002,1990,2008,1988,1996,1994,1998,2006,1992,2000,1986,1990,1998,1992,2008,2004,2002,1994,2006,1986,2000,1996,1988,1998,1996,2002,2006,2008,1986,1992,1988,2000,1990,2004,1994,1996,1998,2004,1986,2006,2008,2002,2000,1994,1988,1990,1992,2008,1994,2004,1990,1988,2006,2000,1998,1992,1986,2002,1996],\"xaxis\":\"x\",\"y\":[\"Country O\",\"Country O\",\"Country O\",\"Country O\",\"Country O\",\"Country O\",\"Country O\",\"Country O\",\"Country O\",\"Country O\",\"Country O\",\"Country O\",\"Country N\",\"Country N\",\"Country N\",\"Country N\",\"Country N\",\"Country N\",\"Country N\",\"Country N\",\"Country N\",\"Country N\",\"Country N\",\"Country N\",\"Country M\",\"Country M\",\"Country M\",\"Country M\",\"Country M\",\"Country M\",\"Country M\",\"Country M\",\"Country M\",\"Country M\",\"Country M\",\"Country M\",\"Country L\",\"Country L\",\"Country L\",\"Country L\",\"Country L\",\"Country L\",\"Country L\",\"Country L\",\"Country L\",\"Country L\",\"Country L\",\"Country L\",\"Country K\",\"Country K\",\"Country K\",\"Country K\",\"Country K\",\"Country K\",\"Country K\",\"Country K\",\"Country K\",\"Country K\",\"Country K\",\"Country K\",\"Country J\",\"Country J\",\"Country J\",\"Country J\",\"Country J\",\"Country J\",\"Country J\",\"Country J\",\"Country J\",\"Country J\",\"Country J\",\"Country J\",\"Country I\",\"Country I\",\"Country I\",\"Country I\",\"Country I\",\"Country I\",\"Country I\",\"Country I\",\"Country I\",\"Country I\",\"Country I\",\"Country I\",\"Country H\",\"Country H\",\"Country H\",\"Country H\",\"Country H\",\"Country H\",\"Country H\",\"Country H\",\"Country H\",\"Country H\",\"Country H\",\"Country H\",\"Country G\",\"Country G\",\"Country G\",\"Country G\",\"Country G\",\"Country G\",\"Country G\",\"Country G\",\"Country G\",\"Country G\",\"Country G\",\"Country G\",\"Country F\",\"Country F\",\"Country F\",\"Country F\",\"Country F\",\"Country F\",\"Country F\",\"Country F\",\"Country F\",\"Country F\",\"Country F\",\"Country F\",\"Country E\",\"Country E\",\"Country E\",\"Country E\",\"Country E\",\"Country E\",\"Country E\",\"Country E\",\"Country E\",\"Country E\",\"Country E\",\"Country E\",\"Country D\",\"Country D\",\"Country D\",\"Country D\",\"Country D\",\"Country D\",\"Country D\",\"Country D\",\"Country D\",\"Country D\",\"Country D\",\"Country D\",\"Country C\",\"Country C\",\"Country C\",\"Country C\",\"Country C\",\"Country C\",\"Country C\",\"Country C\",\"Country C\",\"Country C\",\"Country C\",\"Country C\",\"Country B\",\"Country B\",\"Country B\",\"Country B\",\"Country B\",\"Country B\",\"Country B\",\"Country B\",\"Country B\",\"Country B\",\"Country B\",\"Country B\",\"Country A\",\"Country A\",\"Country A\",\"Country A\",\"Country A\",\"Country A\",\"Country A\",\"Country A\",\"Country A\",\"Country A\",\"Country A\",\"Country A\"],\"yaxis\":\"y\",\"type\":\"scatter\"}],                        {\"template\":{\"data\":{\"histogram2dcontour\":[{\"type\":\"histogram2dcontour\",\"colorbar\":{\"outlinewidth\":0,\"ticks\":\"\"},\"colorscale\":[[0.0,\"#0d0887\"],[0.1111111111111111,\"#46039f\"],[0.2222222222222222,\"#7201a8\"],[0.3333333333333333,\"#9c179e\"],[0.4444444444444444,\"#bd3786\"],[0.5555555555555556,\"#d8576b\"],[0.6666666666666666,\"#ed7953\"],[0.7777777777777778,\"#fb9f3a\"],[0.8888888888888888,\"#fdca26\"],[1.0,\"#f0f921\"]]}],\"choropleth\":[{\"type\":\"choropleth\",\"colorbar\":{\"outlinewidth\":0,\"ticks\":\"\"}}],\"histogram2d\":[{\"type\":\"histogram2d\",\"colorbar\":{\"outlinewidth\":0,\"ticks\":\"\"},\"colorscale\":[[0.0,\"#0d0887\"],[0.1111111111111111,\"#46039f\"],[0.2222222222222222,\"#7201a8\"],[0.3333333333333333,\"#9c179e\"],[0.4444444444444444,\"#bd3786\"],[0.5555555555555556,\"#d8576b\"],[0.6666666666666666,\"#ed7953\"],[0.7777777777777778,\"#fb9f3a\"],[0.8888888888888888,\"#fdca26\"],[1.0,\"#f0f921\"]]}],\"heatmap\":[{\"type\":\"heatmap\",\"colorbar\":{\"outlinewidth\":0,\"ticks\":\"\"},\"colorscale\":[[0.0,\"#0d0887\"],[0.1111111111111111,\"#46039f\"],[0.2222222222222222,\"#7201a8\"],[0.3333333333333333,\"#9c179e\"],[0.4444444444444444,\"#bd3786\"],[0.5555555555555556,\"#d8576b\"],[0.6666666666666666,\"#ed7953\"],[0.7777777777777778,\"#fb9f3a\"],[0.8888888888888888,\"#fdca26\"],[1.0,\"#f0f921\"]]}],\"heatmapgl\":[{\"type\":\"heatmapgl\",\"colorbar\":{\"outlinewidth\":0,\"ticks\":\"\"},\"colorscale\":[[0.0,\"#0d0887\"],[0.1111111111111111,\"#46039f\"],[0.2222222222222222,\"#7201a8\"],[0.3333333333333333,\"#9c179e\"],[0.4444444444444444,\"#bd3786\"],[0.5555555555555556,\"#d8576b\"],[0.6666666666666666,\"#ed7953\"],[0.7777777777777778,\"#fb9f3a\"],[0.8888888888888888,\"#fdca26\"],[1.0,\"#f0f921\"]]}],\"contourcarpet\":[{\"type\":\"contourcarpet\",\"colorbar\":{\"outlinewidth\":0,\"ticks\":\"\"}}],\"contour\":[{\"type\":\"contour\",\"colorbar\":{\"outlinewidth\":0,\"ticks\":\"\"},\"colorscale\":[[0.0,\"#0d0887\"],[0.1111111111111111,\"#46039f\"],[0.2222222222222222,\"#7201a8\"],[0.3333333333333333,\"#9c179e\"],[0.4444444444444444,\"#bd3786\"],[0.5555555555555556,\"#d8576b\"],[0.6666666666666666,\"#ed7953\"],[0.7777777777777778,\"#fb9f3a\"],[0.8888888888888888,\"#fdca26\"],[1.0,\"#f0f921\"]]}],\"surface\":[{\"type\":\"surface\",\"colorbar\":{\"outlinewidth\":0,\"ticks\":\"\"},\"colorscale\":[[0.0,\"#0d0887\"],[0.1111111111111111,\"#46039f\"],[0.2222222222222222,\"#7201a8\"],[0.3333333333333333,\"#9c179e\"],[0.4444444444444444,\"#bd3786\"],[0.5555555555555556,\"#d8576b\"],[0.6666666666666666,\"#ed7953\"],[0.7777777777777778,\"#fb9f3a\"],[0.8888888888888888,\"#fdca26\"],[1.0,\"#f0f921\"]]}],\"mesh3d\":[{\"type\":\"mesh3d\",\"colorbar\":{\"outlinewidth\":0,\"ticks\":\"\"}}],\"scatter\":[{\"fillpattern\":{\"fillmode\":\"overlay\",\"size\":10,\"solidity\":0.2},\"type\":\"scatter\"}],\"parcoords\":[{\"type\":\"parcoords\",\"line\":{\"colorbar\":{\"outlinewidth\":0,\"ticks\":\"\"}}}],\"scatterpolargl\":[{\"type\":\"scatterpolargl\",\"marker\":{\"colorbar\":{\"outlinewidth\":0,\"ticks\":\"\"}}}],\"bar\":[{\"error_x\":{\"color\":\"#2a3f5f\"},\"error_y\":{\"color\":\"#2a3f5f\"},\"marker\":{\"line\":{\"color\":\"#E5ECF6\",\"width\":0.5},\"pattern\":{\"fillmode\":\"overlay\",\"size\":10,\"solidity\":0.2}},\"type\":\"bar\"}],\"scattergeo\":[{\"type\":\"scattergeo\",\"marker\":{\"colorbar\":{\"outlinewidth\":0,\"ticks\":\"\"}}}],\"scatterpolar\":[{\"type\":\"scatterpolar\",\"marker\":{\"colorbar\":{\"outlinewidth\":0,\"ticks\":\"\"}}}],\"histogram\":[{\"marker\":{\"pattern\":{\"fillmode\":\"overlay\",\"size\":10,\"solidity\":0.2}},\"type\":\"histogram\"}],\"scattergl\":[{\"type\":\"scattergl\",\"marker\":{\"colorbar\":{\"outlinewidth\":0,\"ticks\":\"\"}}}],\"scatter3d\":[{\"type\":\"scatter3d\",\"line\":{\"colorbar\":{\"outlinewidth\":0,\"ticks\":\"\"}},\"marker\":{\"colorbar\":{\"outlinewidth\":0,\"ticks\":\"\"}}}],\"scattermapbox\":[{\"type\":\"scattermapbox\",\"marker\":{\"colorbar\":{\"outlinewidth\":0,\"ticks\":\"\"}}}],\"scatterternary\":[{\"type\":\"scatterternary\",\"marker\":{\"colorbar\":{\"outlinewidth\":0,\"ticks\":\"\"}}}],\"scattercarpet\":[{\"type\":\"scattercarpet\",\"marker\":{\"colorbar\":{\"outlinewidth\":0,\"ticks\":\"\"}}}],\"carpet\":[{\"aaxis\":{\"endlinecolor\":\"#2a3f5f\",\"gridcolor\":\"white\",\"linecolor\":\"white\",\"minorgridcolor\":\"white\",\"startlinecolor\":\"#2a3f5f\"},\"baxis\":{\"endlinecolor\":\"#2a3f5f\",\"gridcolor\":\"white\",\"linecolor\":\"white\",\"minorgridcolor\":\"white\",\"startlinecolor\":\"#2a3f5f\"},\"type\":\"carpet\"}],\"table\":[{\"cells\":{\"fill\":{\"color\":\"#EBF0F8\"},\"line\":{\"color\":\"white\"}},\"header\":{\"fill\":{\"color\":\"#C8D4E3\"},\"line\":{\"color\":\"white\"}},\"type\":\"table\"}],\"barpolar\":[{\"marker\":{\"line\":{\"color\":\"#E5ECF6\",\"width\":0.5},\"pattern\":{\"fillmode\":\"overlay\",\"size\":10,\"solidity\":0.2}},\"type\":\"barpolar\"}],\"pie\":[{\"automargin\":true,\"type\":\"pie\"}]},\"layout\":{\"autotypenumbers\":\"strict\",\"colorway\":[\"#636efa\",\"#EF553B\",\"#00cc96\",\"#ab63fa\",\"#FFA15A\",\"#19d3f3\",\"#FF6692\",\"#B6E880\",\"#FF97FF\",\"#FECB52\"],\"font\":{\"color\":\"#2a3f5f\"},\"hovermode\":\"closest\",\"hoverlabel\":{\"align\":\"left\"},\"paper_bgcolor\":\"white\",\"plot_bgcolor\":\"#E5ECF6\",\"polar\":{\"bgcolor\":\"#E5ECF6\",\"angularaxis\":{\"gridcolor\":\"white\",\"linecolor\":\"white\",\"ticks\":\"\"},\"radialaxis\":{\"gridcolor\":\"white\",\"linecolor\":\"white\",\"ticks\":\"\"}},\"ternary\":{\"bgcolor\":\"#E5ECF6\",\"aaxis\":{\"gridcolor\":\"white\",\"linecolor\":\"white\",\"ticks\":\"\"},\"baxis\":{\"gridcolor\":\"white\",\"linecolor\":\"white\",\"ticks\":\"\"},\"caxis\":{\"gridcolor\":\"white\",\"linecolor\":\"white\",\"ticks\":\"\"}},\"coloraxis\":{\"colorbar\":{\"outlinewidth\":0,\"ticks\":\"\"}},\"colorscale\":{\"sequential\":[[0.0,\"#0d0887\"],[0.1111111111111111,\"#46039f\"],[0.2222222222222222,\"#7201a8\"],[0.3333333333333333,\"#9c179e\"],[0.4444444444444444,\"#bd3786\"],[0.5555555555555556,\"#d8576b\"],[0.6666666666666666,\"#ed7953\"],[0.7777777777777778,\"#fb9f3a\"],[0.8888888888888888,\"#fdca26\"],[1.0,\"#f0f921\"]],\"sequentialminus\":[[0.0,\"#0d0887\"],[0.1111111111111111,\"#46039f\"],[0.2222222222222222,\"#7201a8\"],[0.3333333333333333,\"#9c179e\"],[0.4444444444444444,\"#bd3786\"],[0.5555555555555556,\"#d8576b\"],[0.6666666666666666,\"#ed7953\"],[0.7777777777777778,\"#fb9f3a\"],[0.8888888888888888,\"#fdca26\"],[1.0,\"#f0f921\"]],\"diverging\":[[0,\"#8e0152\"],[0.1,\"#c51b7d\"],[0.2,\"#de77ae\"],[0.3,\"#f1b6da\"],[0.4,\"#fde0ef\"],[0.5,\"#f7f7f7\"],[0.6,\"#e6f5d0\"],[0.7,\"#b8e186\"],[0.8,\"#7fbc41\"],[0.9,\"#4d9221\"],[1,\"#276419\"]]},\"xaxis\":{\"gridcolor\":\"white\",\"linecolor\":\"white\",\"ticks\":\"\",\"title\":{\"standoff\":15},\"zerolinecolor\":\"white\",\"automargin\":true,\"zerolinewidth\":2},\"yaxis\":{\"gridcolor\":\"white\",\"linecolor\":\"white\",\"ticks\":\"\",\"title\":{\"standoff\":15},\"zerolinecolor\":\"white\",\"automargin\":true,\"zerolinewidth\":2},\"scene\":{\"xaxis\":{\"backgroundcolor\":\"#E5ECF6\",\"gridcolor\":\"white\",\"linecolor\":\"white\",\"showbackground\":true,\"ticks\":\"\",\"zerolinecolor\":\"white\",\"gridwidth\":2},\"yaxis\":{\"backgroundcolor\":\"#E5ECF6\",\"gridcolor\":\"white\",\"linecolor\":\"white\",\"showbackground\":true,\"ticks\":\"\",\"zerolinecolor\":\"white\",\"gridwidth\":2},\"zaxis\":{\"backgroundcolor\":\"#E5ECF6\",\"gridcolor\":\"white\",\"linecolor\":\"white\",\"showbackground\":true,\"ticks\":\"\",\"zerolinecolor\":\"white\",\"gridwidth\":2}},\"shapedefaults\":{\"line\":{\"color\":\"#2a3f5f\"}},\"annotationdefaults\":{\"arrowcolor\":\"#2a3f5f\",\"arrowhead\":0,\"arrowwidth\":1},\"geo\":{\"bgcolor\":\"white\",\"landcolor\":\"#E5ECF6\",\"subunitcolor\":\"white\",\"showland\":true,\"showlakes\":true,\"lakecolor\":\"white\"},\"title\":{\"x\":0.05},\"mapbox\":{\"style\":\"light\"}}},\"xaxis\":{\"anchor\":\"y\",\"domain\":[0.0,1.0],\"title\":{\"text\":\"Year\"},\"showgrid\":true,\"gridwidth\":1,\"gridcolor\":\"LightGray\"},\"yaxis\":{\"anchor\":\"x\",\"domain\":[0.0,1.0],\"title\":{\"text\":\"Country\"},\"showgrid\":true,\"gridwidth\":1,\"gridcolor\":\"LightGray\"},\"coloraxis\":{\"colorbar\":{\"title\":{\"text\":\"Exports\"}},\"colorscale\":[[0.0,\"rgb(103,0,31)\"],[0.1,\"rgb(178,24,43)\"],[0.2,\"rgb(214,96,77)\"],[0.3,\"rgb(244,165,130)\"],[0.4,\"rgb(253,219,199)\"],[0.5,\"rgb(247,247,247)\"],[0.6,\"rgb(209,229,240)\"],[0.7,\"rgb(146,197,222)\"],[0.8,\"rgb(67,147,195)\"],[0.9,\"rgb(33,102,172)\"],[1.0,\"rgb(5,48,97)\"]]},\"legend\":{\"tracegroupgap\":0,\"itemsizing\":\"constant\"},\"margin\":{\"t\":60},\"paper_bgcolor\":\"white\",\"plot_bgcolor\":\"white\",\"height\":500,\"width\":1000,\"showlegend\":false},                        {\"responsive\": true}                    ).then(function(){\n",
              "                            \n",
              "var gd = document.getElementById('36783c5e-8949-4ba4-bd25-c08606c2e3f1');\n",
              "var x = new MutationObserver(function (mutations, observer) {{\n",
              "        var display = window.getComputedStyle(gd).display;\n",
              "        if (!display || display === 'none') {{\n",
              "            console.log([gd, 'removed!']);\n",
              "            Plotly.purge(gd);\n",
              "            observer.disconnect();\n",
              "        }}\n",
              "}});\n",
              "\n",
              "// Listen for the removal of the full notebook cells\n",
              "var notebookContainer = gd.closest('#notebook-container');\n",
              "if (notebookContainer) {{\n",
              "    x.observe(notebookContainer, {childList: true});\n",
              "}}\n",
              "\n",
              "// Listen for the clearing of the current output cell\n",
              "var outputEl = gd.closest('.output');\n",
              "if (outputEl) {{\n",
              "    x.observe(outputEl, {childList: true});\n",
              "}}\n",
              "\n",
              "                        })                };                            </script>        </div>\n",
              "</body>\n",
              "</html>"
            ]
          },
          "metadata": {}
        }
      ],
      "source": [
        "df = df.sort_values(\"Country\", ascending = False)\n",
        "\n",
        "fig = px.scatter(\n",
        "    df, y='Country', x='Year', color='Exports', size='Exports', size_max=20,\n",
        "    color_continuous_scale = px.colors.sequential.RdBu,\n",
        ")\n",
        "fig.update_layout(\n",
        "        paper_bgcolor=\"white\",\n",
        "        plot_bgcolor=\"white\",\n",
        "    )\n",
        "fig.update_yaxes(showgrid=True, gridwidth=1, gridcolor='LightGray')\n",
        "fig.update_xaxes(showgrid=True, gridwidth=1, gridcolor='LightGray')\n",
        "fig.update_layout(height=500, width=1000)\n",
        "fig.update_coloraxes(colorbar=dict(title='Exports'))\n",
        "fig.update_traces(marker=dict(sizeref=0.09))\n",
        "fig.update_yaxes(title=\"Country\")\n",
        "fig.update_xaxes(title='Year')\n",
        "fig.update_layout(showlegend=False)\n",
        "fig.show()"
      ]
    },
    {
      "cell_type": "markdown",
      "source": [
        "**Assignment:** <br>\n",
        "1. Select a data file from the data_files directory.\n",
        "\n",
        "2. Create bubble chart and a bar chart with the data\n"
      ],
      "metadata": {
        "id": "e5fOv0B97ODH"
      },
      "id": "e5fOv0B97ODH"
    },
    {
      "cell_type": "code",
      "execution_count": null,
      "id": "131e06f6",
      "metadata": {
        "id": "131e06f6"
      },
      "outputs": [],
      "source": []
    }
  ],
  "metadata": {
    "kernelspec": {
      "display_name": "Python 3 (ipykernel)",
      "language": "python",
      "name": "python3"
    },
    "language_info": {
      "codemirror_mode": {
        "name": "ipython",
        "version": 3
      },
      "file_extension": ".py",
      "mimetype": "text/x-python",
      "name": "python",
      "nbconvert_exporter": "python",
      "pygments_lexer": "ipython3",
      "version": "3.9.13"
    },
    "toc": {
      "base_numbering": 1,
      "nav_menu": {},
      "number_sections": true,
      "sideBar": true,
      "skip_h1_title": false,
      "title_cell": "Table of Contents",
      "title_sidebar": "Contents",
      "toc_cell": false,
      "toc_position": {},
      "toc_section_display": true,
      "toc_window_display": false
    },
    "colab": {
      "provenance": [],
      "include_colab_link": true
    }
  },
  "nbformat": 4,
  "nbformat_minor": 5
}