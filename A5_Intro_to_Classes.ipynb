{
  "nbformat": 4,
  "nbformat_minor": 0,
  "metadata": {
    "colab": {
      "name": "A5 Intro to Classes.ipynb",
      "private_outputs": true,
      "provenance": [],
      "authorship_tag": "ABX9TyOB/c1g/FzF9qV0T6PX3nR/",
      "include_colab_link": true
    },
    "kernelspec": {
      "name": "python3",
      "display_name": "Python 3"
    },
    "language_info": {
      "name": "python"
    }
  },
  "cells": [
    {
      "cell_type": "markdown",
      "metadata": {
        "id": "view-in-github",
        "colab_type": "text"
      },
      "source": [
        "<a href=\"https://colab.research.google.com/github/cagBRT/Intro-to-Programming-with-Python/blob/master/A5_Intro_to_Classes.ipynb\" target=\"_parent\"><img src=\"https://colab.research.google.com/assets/colab-badge.svg\" alt=\"Open In Colab\"/></a>"
      ]
    },
    {
      "cell_type": "markdown",
      "source": [
        "In this notebook we explore Inheritance of parent and child classes\n"
      ],
      "metadata": {
        "id": "7uEgX-SiST6J"
      }
    },
    {
      "cell_type": "markdown",
      "metadata": {
        "id": "ZdLlc-JCPUiW"
      },
      "source": [
        "# **Inheritance**<br>\n",
        "With object oriented programming our classes can have relationships with each other. This is done by creating base and derived classes. <br>\n",
        "Python supports inheritance and it’s one of the few languages that supports multiple inheritance"
      ]
    },
    {
      "cell_type": "markdown",
      "metadata": {
        "id": "nX8vjSYWQhgY"
      },
      "source": [
        "- Classes that inherit from another are called derived classes, subclasses, or subtypes.<br>\n",
        "- Classes from which other classes are derived are called base classes or super classes.<br>\n",
        "- A derived class is said to derive, inherit, or extend a base class."
      ]
    },
    {
      "cell_type": "markdown",
      "source": [
        "![picture](https://github.com/cagBRT/Intro-to-Programming-with-Python/blob/master/advanced_content/Inheritance1.png?raw=1)"
      ],
      "metadata": {
        "id": "nSutI7ttxuCM"
      }
    },
    {
      "cell_type": "markdown",
      "metadata": {
        "id": "9h-n6Fpu7Wfb"
      },
      "source": [
        "A base or parent class is the class being inherited from, also called base class.\n",
        "\n",
        "A derived or child class is the class that inherits from another class, also called derived class.\n",
        "\n"
      ]
    },
    {
      "cell_type": "markdown",
      "metadata": {
        "id": "FX-Vl1DZ7YwT"
      },
      "source": [
        "**Create a Class**<br>\n",
        "We'll create a class called University_Person and when we derive a class from it, it will become a parent class.  "
      ]
    },
    {
      "cell_type": "markdown",
      "source": [
        "![picture](https://github.com/cagBRT/Intro-to-Programming-with-Python/blob/master/advanced_content/Inheritance2.png?raw=1)"
      ],
      "metadata": {
        "id": "gAIQ178RyYeX"
      }
    },
    {
      "cell_type": "code",
      "metadata": {
        "id": "AeDBDJPE7KXF"
      },
      "source": [
        "class University_Person:\n",
        "  def __init__(self, name, id):\n",
        "    self.name = name\n",
        "    self.id = id\n",
        "    print(\"in University_Person constructor\")\n",
        "\n",
        "  def print_info(self):\n",
        "    print(\"University Person:\",self.name, self.id)"
      ],
      "execution_count": null,
      "outputs": []
    },
    {
      "cell_type": "code",
      "metadata": {
        "id": "BvflofQf7yIm"
      },
      "source": [
        "u1=University_Person(\"John Doe\", 777)\n",
        "u1.print_info()"
      ],
      "execution_count": null,
      "outputs": []
    },
    {
      "cell_type": "markdown",
      "metadata": {
        "id": "HeJuuulBwhaC"
      },
      "source": [
        "**Assignment 1**<br>\n",
        "Create a class called Payroll with the following:\n",
        "1. Class members for name, Employeed Id number\n",
        "2. A print_info function that prints all the information in the class"
      ]
    },
    {
      "cell_type": "code",
      "metadata": {
        "id": "oX7MjEnLx3RF"
      },
      "source": [
        "#Assignment 1\n",
        "class Payroll:\n",
        "  def __init__(self, name, employee_id):\n",
        "    self.name = name\n",
        "    self.employee_id = employee_id\n",
        "\n",
        "  def print_info(self):\n",
        "    print(\"Payroll:\",self.name, self.employee_id)"
      ],
      "execution_count": null,
      "outputs": []
    },
    {
      "cell_type": "markdown",
      "metadata": {
        "id": "LRENKnxZ79wa"
      },
      "source": [
        "**Create a child class**<br>\n",
        "Create a child class by using University_Person as a parent class. <br>\n",
        "To create a class that inherits the functionality from another class, send the parent class as a parameter when creating the child class:"
      ]
    },
    {
      "cell_type": "markdown",
      "source": [
        "![picture](https://github.com/cagBRT/Intro-to-Programming-with-Python/blob/master/advanced_content/Inheritance3.png?raw=1)"
      ],
      "metadata": {
        "id": "ZjQVuq6qydlP"
      }
    },
    {
      "cell_type": "code",
      "metadata": {
        "id": "GxRHvlLN8SKP"
      },
      "source": [
        "class Student(University_Person):\n",
        "  pass"
      ],
      "execution_count": null,
      "outputs": []
    },
    {
      "cell_type": "markdown",
      "metadata": {
        "id": "qjjr9hDEttsS"
      },
      "source": [
        "The student class inherits all the class members and methods from the parent class"
      ]
    },
    {
      "cell_type": "code",
      "metadata": {
        "id": "fv07Gt_88n8B"
      },
      "source": [
        "s1=Student(\"Tommy Smith\",888)\n",
        "s1.print_info()"
      ],
      "execution_count": null,
      "outputs": []
    },
    {
      "cell_type": "markdown",
      "metadata": {
        "id": "W1uwrn4mx7se"
      },
      "source": [
        "**Assignment 2**<br>\n",
        "Create a class called employee_salaried<br>\n",
        "It should be the child of the Payroll class"
      ]
    },
    {
      "cell_type": "code",
      "metadata": {
        "id": "zUpMiyAjyNgl"
      },
      "source": [
        "#Assignment 2\n",
        "class Employee_salaried(Payroll):\n",
        "  pass\n",
        "\n",
        "emp_sal1=Employee_salaried(\"Evan\",5557)\n",
        "emp_sal1.print_info()"
      ],
      "execution_count": null,
      "outputs": []
    },
    {
      "cell_type": "markdown",
      "metadata": {
        "id": "gaa8ISqMsTPH"
      },
      "source": [
        "**Adding class members to the child class**"
      ]
    },
    {
      "cell_type": "markdown",
      "metadata": {
        "id": "JEkAhIMK9Lnw"
      },
      "source": [
        "If we add the init fuction to the child class it will no longer inherit from the parent. <br>\n",
        "\n",
        "The child constructor overrides the parent constructor"
      ]
    },
    {
      "cell_type": "code",
      "metadata": {
        "id": "6SpGujTN9Khx"
      },
      "source": [
        "#An error is generated with this method\n",
        "\n",
        "class Student(University_Person):\n",
        "  def __init__(self, major):\n",
        "    self.major=major"
      ],
      "execution_count": null,
      "outputs": []
    },
    {
      "cell_type": "code",
      "metadata": {
        "id": "MaNeUWNtGxwU"
      },
      "source": [
        "s2=Student(\"Bill\", 3323,\"Art\")"
      ],
      "execution_count": null,
      "outputs": []
    },
    {
      "cell_type": "markdown",
      "metadata": {
        "id": "clcqRmEluXyF"
      },
      "source": [
        "The student class calls the parent constructor.<br>\n",
        "The members and functions of the parent class can now be accessed by the child class"
      ]
    },
    {
      "cell_type": "code",
      "metadata": {
        "id": "Y5BdLvyqHB0u"
      },
      "source": [
        "class Student(University_Person):\n",
        "  def __init__(self, name, id):\n",
        "    University_Person.__init__(self, name, id)"
      ],
      "execution_count": null,
      "outputs": []
    },
    {
      "cell_type": "code",
      "metadata": {
        "id": "V_mvvSX9HnFe"
      },
      "source": [
        "s2=Student(\"Bill\", 3323)\n",
        "s2.print_info()"
      ],
      "execution_count": null,
      "outputs": []
    },
    {
      "cell_type": "markdown",
      "metadata": {
        "id": "7rol5Kw8Hxqj"
      },
      "source": [
        "**Using the super() function**<br>\n",
        "super() function that will make the child class inherit all the methods and properties from its parent<br>\n",
        "The super function means you do not have to use the name of the parent element, it will automatically inherit the methods and properties from its parent"
      ]
    },
    {
      "cell_type": "code",
      "metadata": {
        "id": "SQ8HW9JyH4_B"
      },
      "source": [
        "class Student(University_Person):\n",
        "  def __init__(self,name, id):\n",
        "    super().__init__(name, id)"
      ],
      "execution_count": null,
      "outputs": []
    },
    {
      "cell_type": "code",
      "metadata": {
        "id": "NTQTmuEDHx2x"
      },
      "source": [
        "s3=Student(\"joe\",4444)\n",
        "s3.print_info()"
      ],
      "execution_count": null,
      "outputs": []
    },
    {
      "cell_type": "markdown",
      "metadata": {
        "id": "svS0LB5ys8pP"
      },
      "source": [
        "**Adding a class member to the child class**<br>\n",
        "We can add properties to the child class in the constructor"
      ]
    },
    {
      "cell_type": "markdown",
      "source": [
        "![picture](https://github.com/cagBRT/Intro-to-Programming-with-Python/blob/master/advanced_content/Inheritance4.png?raw=1)"
      ],
      "metadata": {
        "id": "F9DjF3KqyjtM"
      }
    },
    {
      "cell_type": "code",
      "metadata": {
        "id": "XyqnoJbGIYQ8"
      },
      "source": [
        "#Add a major to the Student classs\n",
        "class Student(University_Person):\n",
        "  def __init__(self, name, id, major):\n",
        "    super().__init__(name, id)\n",
        "    print(\"in Student constructor\")\n",
        "    self.major=major\n",
        "\n",
        "s1=Student(\"Kali\", 66666,\"barking\")\n",
        "s1.print_info()"
      ],
      "execution_count": null,
      "outputs": []
    },
    {
      "cell_type": "markdown",
      "metadata": {
        "id": "YFPEd_eAycCl"
      },
      "source": [
        "**Assignment 3**<br>\n",
        "Add these members to the employee_salaried class:\n",
        "\n",
        "1. Type of employee (full time, part time, intern, etc.)\n",
        "2. Pay rate per hour\n"
      ]
    },
    {
      "cell_type": "code",
      "metadata": {
        "id": "rtWumc0YYbKq"
      },
      "source": [
        "#Assignment 3\n"
      ],
      "execution_count": null,
      "outputs": []
    },
    {
      "cell_type": "markdown",
      "metadata": {
        "id": "yJ-ghpsxu1jX"
      },
      "source": [
        "Fist the parent constructor is called, then the child constructor is continues."
      ]
    },
    {
      "cell_type": "code",
      "metadata": {
        "id": "1TNcHjl8I-7K"
      },
      "source": [
        "s4=Student(\"may\",3432,\"math\")\n",
        "s4.print_info()"
      ],
      "execution_count": null,
      "outputs": []
    },
    {
      "cell_type": "markdown",
      "metadata": {
        "id": "tSPwzFh6JPWN"
      },
      "source": [
        "To create a print_info for Student"
      ]
    },
    {
      "cell_type": "code",
      "metadata": {
        "id": "U_EeO468JPgx"
      },
      "source": [
        "class Student(University_Person):\n",
        "  def __init__(self,name, id,major):\n",
        "    super().__init__(name, id)\n",
        "    self.major = major\n",
        "\n",
        "  def print_info(self):\n",
        "    print(\"Student information:\",self.name, self.id, self.major)"
      ],
      "execution_count": null,
      "outputs": []
    },
    {
      "cell_type": "code",
      "metadata": {
        "id": "sJYOmBj5Jq-N"
      },
      "source": [
        "s5=Student(\"Lee\",3434,\"PE\")\n",
        "s5.print_info()"
      ],
      "execution_count": null,
      "outputs": []
    },
    {
      "cell_type": "markdown",
      "metadata": {
        "id": "gyMDuwy6Yjyp"
      },
      "source": [
        "**Assignment 4**<br>\n",
        "1. Create a print_info function for the Payroll class and for the Employee_salaried class"
      ]
    },
    {
      "cell_type": "code",
      "metadata": {
        "id": "9u-aj07UZC3k"
      },
      "source": [
        "#Assignment 4"
      ],
      "execution_count": null,
      "outputs": []
    },
    {
      "cell_type": "markdown",
      "metadata": {
        "id": "5fz0_sKaKIRt"
      },
      "source": [
        "Why do we create classes?"
      ]
    },
    {
      "cell_type": "code",
      "metadata": {
        "id": "5k87YHbBKLSI"
      },
      "source": [
        "class University_Person:\n",
        "  population_u = 0\n",
        "\n",
        "  def __init__(self, name, id):\n",
        "    self.name = name\n",
        "    self.id = id\n",
        "    University_Person.population_u += 1\n",
        "    print(\"in University Person constructor\")\n",
        "\n",
        "  def print_info(self):\n",
        "    print(self.name, self.id)\n",
        "\n",
        "  def print_population(self):\n",
        "    print(\"University Person population:\",University_Person.population_u)"
      ],
      "execution_count": null,
      "outputs": []
    },
    {
      "cell_type": "code",
      "metadata": {
        "id": "h9_Rj70XKrWd"
      },
      "source": [
        "class Student(University_Person):\n",
        "  population_s = 0\n",
        "  def __init__(self,name, id,major):\n",
        "    super().__init__(name, id)\n",
        "    print(\"in Student constructor\")\n",
        "    self.major = major\n",
        "    Student.population_s += 1\n",
        "\n",
        "  def print_info(self):\n",
        "    print(self.name, self.id, self.major)\n",
        "\n",
        "  def print_population(self):\n",
        "    print(\"Student population:\",Student.population_s)"
      ],
      "execution_count": null,
      "outputs": []
    },
    {
      "cell_type": "code",
      "metadata": {
        "id": "g_qtlTkXKspD"
      },
      "source": [
        "u1=University_Person(\"joe\",11111)\n",
        "s1=Student(\"karen\",99999,\"Art\")"
      ],
      "execution_count": null,
      "outputs": []
    },
    {
      "cell_type": "code",
      "metadata": {
        "id": "4zwCNnMcLHjT"
      },
      "source": [
        "u1.print_population()"
      ],
      "execution_count": null,
      "outputs": []
    },
    {
      "cell_type": "code",
      "metadata": {
        "id": "aPIxuIgyLlIb"
      },
      "source": [
        "s1.print_population()"
      ],
      "execution_count": null,
      "outputs": []
    },
    {
      "cell_type": "code",
      "metadata": {
        "id": "KIm4S50VNVJI"
      },
      "source": [
        "class Professor(University_Person):\n",
        "  population_p = 0\n",
        "  def __init__(self,name, id,subject):\n",
        "    super().__init__(name, id)\n",
        "    self.subject = subject\n",
        "    Professor.population_p += 1\n",
        "\n",
        "  def print_info(self):\n",
        "    print(self.name, self.id, \"teaches:\",self.subject)\n",
        "\n",
        "  def print_population(self):\n",
        "    print(\"Professor population:\",Professor.population_p)"
      ],
      "execution_count": null,
      "outputs": []
    },
    {
      "cell_type": "code",
      "metadata": {
        "id": "jba9OZufNfwo"
      },
      "source": [
        "p1=Professor(\"dr smith\",2343,\"Ancient Arts\")"
      ],
      "execution_count": null,
      "outputs": []
    },
    {
      "cell_type": "code",
      "metadata": {
        "id": "qQiZEqKYNp_f"
      },
      "source": [
        "p1.print_info()"
      ],
      "execution_count": null,
      "outputs": []
    },
    {
      "cell_type": "code",
      "metadata": {
        "id": "QVvyakuVNtSv"
      },
      "source": [
        "print(u1.population_u)\n",
        "print(s1.population_s)\n",
        "print(p1.population_p)"
      ],
      "execution_count": null,
      "outputs": []
    },
    {
      "cell_type": "markdown",
      "metadata": {
        "id": "y60aOZncZIQH"
      },
      "source": [
        "**Assignment 5**<br>\n",
        "1. Create a new class called: employee_hourly. It should be a child of the Payroll class.\n",
        "2. Add:\n",
        "- hourly pay\n",
        "- type of employee\n"
      ]
    },
    {
      "cell_type": "code",
      "metadata": {
        "id": "ADlZuHOGyxU1"
      },
      "source": [
        "#Assignment 5\n"
      ],
      "execution_count": null,
      "outputs": []
    },
    {
      "cell_type": "markdown",
      "metadata": {
        "id": "NTNMKpfVy0RY"
      },
      "source": [
        "**Assignment 6**<br>\n",
        "1. Create 5 employee_salaried and 5 employee_hourly instances.\n",
        "\n",
        "2. Sort employees by type: full time, part time, intern, etc.\n",
        "3. List eveyone on the company Payroll in alphabetical order"
      ]
    },
    {
      "cell_type": "code",
      "metadata": {
        "id": "pPlIb8CxzV71"
      },
      "source": [
        "#Assignment 6"
      ],
      "execution_count": null,
      "outputs": []
    }
  ]
}