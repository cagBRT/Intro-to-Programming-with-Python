{
  "nbformat": 4,
  "nbformat_minor": 0,
  "metadata": {
    "colab": {
      "name": "Python Cheatsheet 2.ipynb",
      "private_outputs": true,
      "provenance": [],
      "authorship_tag": "ABX9TyNAuNRY5bAhB9cam1V7zCpa",
      "include_colab_link": true
    },
    "kernelspec": {
      "name": "python3",
      "display_name": "Python 3"
    },
    "language_info": {
      "name": "python"
    }
  },
  "cells": [
    {
      "cell_type": "markdown",
      "metadata": {
        "id": "view-in-github",
        "colab_type": "text"
      },
      "source": [
        "<a href=\"https://colab.research.google.com/github/cagBRT/Intro-to-Programming-with-Python/blob/master/Python_Cheatsheet_2.ipynb\" target=\"_parent\"><img src=\"https://colab.research.google.com/assets/colab-badge.svg\" alt=\"Open In Colab\"/></a>"
      ]
    },
    {
      "cell_type": "markdown",
      "source": [
        "**if statements**<br>\n",
        "The indented code will only execute when the if statement is true\n"
      ],
      "metadata": {
        "id": "E_dUzHY-xFzh"
      }
    },
    {
      "cell_type": "code",
      "execution_count": null,
      "metadata": {
        "id": "W2Yag_tCxBZ3"
      },
      "outputs": [],
      "source": [
        "#if statement\n",
        "x=5\n",
        "if x==5:\n",
        "  print(\"x==5 is true\")\n",
        "  \n",
        "print(\"this is outside the if statment\")"
      ]
    },
    {
      "cell_type": "markdown",
      "source": [
        "**if/else statements**<br>\n",
        "The indented 'if code' will execute when the if statement is true. <br>\n",
        "The else statement code will execute when the if statement is false"
      ],
      "metadata": {
        "id": "XPnALGpkxehO"
      }
    },
    {
      "cell_type": "code",
      "source": [
        "#an if/else statement \n",
        "x=90\n",
        "if x%2==0:\n",
        "  print(x,\"%2 is true\") #execute this when if statement is true\n",
        "else:\n",
        "  print(x,\" is not divisible by 2\")#execute this when if statement is false\n",
        "\n",
        "#try with a different value for x\n",
        "x=91\n",
        "if x%2==0:\n",
        "  print(x,\"%2 is true\")#execute this when if statement is true\n",
        "else:\n",
        "  print(x,\"is not divisible by 2\")#execute this when if statement is false"
      ],
      "metadata": {
        "id": "71Plu-38xevC"
      },
      "execution_count": null,
      "outputs": []
    },
    {
      "cell_type": "markdown",
      "source": [
        "**if/elif statements**<br>\n",
        "When the if statement is true, the indented if code will execute. All the elif statements and code will NOT execute.<br>\n",
        "When the if statement is false, the first elif statement will be checked. If it is true, the elif code will be executed and the other elif statements will be ignored. "
      ],
      "metadata": {
        "id": "5lDXssDAy2F7"
      }
    },
    {
      "cell_type": "code",
      "source": [
        "x=int(input(\"Enter an integer: \"))\n",
        "\n",
        "if x%3==0:\n",
        "  print(x,\"is divisible by 3\")\n",
        "elif x%7==0:\n",
        "  print(x,\"is divisible by 7\")\n",
        "elif x%9==0:\n",
        "  print(x,\"is divisible by 9\")\n",
        "elif x%10==0:\n",
        "  print(x,\"is divisible by 10\")\n",
        "#an else statement is not required, but it is good practice\n",
        "else: \n",
        "  print(x,\"is not divisible by 3,7,9,10\")"
      ],
      "metadata": {
        "id": "I643-VWhy2S_"
      },
      "execution_count": null,
      "outputs": []
    },
    {
      "cell_type": "markdown",
      "source": [
        "**Data Collections: lists**"
      ],
      "metadata": {
        "id": "MyiOcs9xLD8K"
      }
    },
    {
      "cell_type": "code",
      "source": [
        "#create a list\n",
        "list_name = [\"element1\",\"element2\",\"element3\"]\n",
        "\n",
        "#print the full list\n",
        "print(list_name)\n",
        "\n",
        "#print an element in a list\n",
        "print(\"first element=\",list_name[0])\n",
        "print(\"first element=\",list_name[1])\n",
        "print(\"first element=\",list_name[2])"
      ],
      "metadata": {
        "id": "LTD6eVs3LJLB"
      },
      "execution_count": null,
      "outputs": []
    },
    {
      "cell_type": "markdown",
      "source": [
        "**lists built in functions**"
      ],
      "metadata": {
        "id": "uciGC-I3Lsz5"
      }
    },
    {
      "cell_type": "code",
      "source": [
        "#sort a list\n",
        "list_name = [22,33,55,11,21,68,32,99,67]\n",
        "print(list_name)\n",
        "list_name.sort()\n",
        "print(list_name)"
      ],
      "metadata": {
        "id": "dVoh0-JSLwdN"
      },
      "execution_count": null,
      "outputs": []
    },
    {
      "cell_type": "code",
      "source": [
        "#add to the end of a list\n",
        "print(list_name)\n",
        "list_name.append(-88)\n",
        "print(list_name)"
      ],
      "metadata": {
        "id": "NpFaGFNOMCsq"
      },
      "execution_count": null,
      "outputs": []
    },
    {
      "cell_type": "code",
      "source": [
        "#removing an element from a list\n",
        "print(list_name)\n",
        "#the function parameter uses the index of the element\n",
        "#to remove the element at index 1\n",
        "list_name.pop(1) \n",
        "print(list_name)"
      ],
      "metadata": {
        "id": "n8-1vrs5MP7F"
      },
      "execution_count": null,
      "outputs": []
    },
    {
      "cell_type": "code",
      "source": [
        "#length of a list\n",
        "print(\"length=\",len(list_name))"
      ],
      "metadata": {
        "id": "TAzlehxzNO8H"
      },
      "execution_count": null,
      "outputs": []
    },
    {
      "cell_type": "markdown",
      "source": [
        "**Two dimensional lists**<br>"
      ],
      "metadata": {
        "id": "0wPQRnp9Nf_5"
      }
    },
    {
      "cell_type": "code",
      "source": [
        "#create a 2D list\n",
        "row1 = [1,-1,'a']\n",
        "row2 = [5,-5,'c']\n",
        "row3 = [21,-23,'d']\n",
        "\n",
        "#make a list of the lists\n",
        "dataset = [row1,row2,row3]\n",
        "\n",
        "#print the dataset\n",
        "print(dataset)\n",
        "#select by rows\n",
        "print(\"row1 = \",dataset[0])\n",
        "print(\"row2 = \",dataset[1])\n",
        "print(\"row3 = \",dataset[2])\n",
        "\n",
        "#select by elements in the dataset\n",
        "print(\"row1, element1 = \",dataset[0][0])\n",
        "print(\"row2, element2 = \",dataset[1][1])\n",
        "print(\"row3, element3 = \",dataset[2][2])"
      ],
      "metadata": {
        "id": "YjBNXupwS7TI"
      },
      "execution_count": null,
      "outputs": []
    },
    {
      "cell_type": "markdown",
      "source": [
        "**For loops**"
      ],
      "metadata": {
        "id": "816tdTNJUhCv"
      }
    },
    {
      "cell_type": "code",
      "source": [
        "#Create a for loop\n",
        "for iterating_variable in range(10):\n",
        "  print(iterating_variable)"
      ],
      "metadata": {
        "id": "UcOk-6A3Vgk-"
      },
      "execution_count": null,
      "outputs": []
    },
    {
      "cell_type": "code",
      "source": [
        "#For loop with start, stop, increment values\n",
        "start=3\n",
        "stop=11\n",
        "increment=2\n",
        "for iterating_variable in range(start,stop,increment):\n",
        "  print(iterating_variable)"
      ],
      "metadata": {
        "id": "jiQfLwykVuvj"
      },
      "execution_count": null,
      "outputs": []
    },
    {
      "cell_type": "code",
      "source": [
        "#looping through a string\n",
        "for iterating_variable in \"winter\":\n",
        "  print(iterating_variable)"
      ],
      "metadata": {
        "id": "OXk4M8K8WGVP"
      },
      "execution_count": null,
      "outputs": []
    },
    {
      "cell_type": "code",
      "source": [
        "#looping through a list\n",
        "list_name = [2,4,6,8,10]\n",
        "for i in range(len(list_name)):\n",
        "  print(i)"
      ],
      "metadata": {
        "id": "Jf4lBhDwWceo"
      },
      "execution_count": null,
      "outputs": []
    },
    {
      "cell_type": "code",
      "source": [
        "#nested for loops\n",
        "for i in range(5):\n",
        "  for j in range(2,5,2):\n",
        "    print(\"i=\",i,\"j=\",j)"
      ],
      "metadata": {
        "id": "VFIXt5t_Wx9h"
      },
      "execution_count": null,
      "outputs": []
    }
  ]
}