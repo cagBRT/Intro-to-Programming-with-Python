{
  "nbformat": 4,
  "nbformat_minor": 0,
  "metadata": {
    "colab": {
      "private_outputs": true,
      "provenance": [],
      "include_colab_link": true
    },
    "kernelspec": {
      "name": "python3",
      "display_name": "Python 3"
    }
  },
  "cells": [
    {
      "cell_type": "markdown",
      "metadata": {
        "id": "view-in-github",
        "colab_type": "text"
      },
      "source": [
        "<a href=\"https://colab.research.google.com/github/cagBRT/Intro-to-Programming-with-Python/blob/master/C10_Intro_to_Python_ES.ipynb\" target=\"_parent\"><img src=\"https://colab.research.google.com/assets/colab-badge.svg\" alt=\"Open In Colab\"/></a>"
      ]
    },
    {
      "cell_type": "markdown",
      "metadata": {
        "id": "I4CnEl6niUkn"
      },
      "source": [
        "# **Diccionarios en Python** \n",
        "Un diccionario es usado para mapear y asociar cosas con las claves(keys) que necesitas para obtenerla. Un diccionario en Python es justo como un diccionario en la vida real\n",
        "\n",
        "<br>Los Diccionarios en python están compuestos por dos elementos: llaves(keys) y valores(values)\n",
        "\n",
        "Las llaves serán un solo elemento<br>\n",
        "Los valores pueden ser cualquier tipo de dato en python<br>"
      ]
    },
    {
      "cell_type": "markdown",
      "metadata": {
        "id": "W9PISo2bzq7z"
      },
      "source": [
        "# **Creando un diccionario en python** <br>\n",
        "nombre-de-diccionario = {llave:valor, llave:valor, ...., llave:valor}<br>\n",
        "<br>\n",
        "Es escrito más comunmente de la siguiente manera: <br>\n",
        "d = {\n",
        " >   llave: valor,<br>\n",
        "    llave: valor,<br>\n",
        "      .<br>\n",
        "      .<br>\n",
        "      .<br>\n",
        "    llave: valor<br>\n",
        " }<br>"
      ]
    },
    {
      "cell_type": "code",
      "metadata": {
        "id": "h8jC0dKOiQgW"
      },
      "source": [
        "released = {\n",
        "\t\t\"iphone\" : 2007,\n",
        "\t\t\"iphone 3G\" : 2008,\n",
        "\t\t\"iphone 3GS\" : 2009,\n",
        "\t\t\"iphone 4\" : 2010,\n",
        "\t\t\"iphone 4S\" : 2011,\n",
        "\t\t\"iphone 5\" : 2012\n",
        "\t}\n",
        "print (released)"
      ],
      "execution_count": null,
      "outputs": []
    },
    {
      "cell_type": "code",
      "metadata": {
        "id": "j2zCemowzM6W"
      },
      "source": [
        "#Imprime las keys(llaves) del diccionario\n",
        "print (released.keys())"
      ],
      "execution_count": null,
      "outputs": []
    },
    {
      "cell_type": "code",
      "metadata": {
        "id": "4K9Cx5xbzl3J"
      },
      "source": [
        "#Imprime los valores del diccionario\n",
        "print (released.values())"
      ],
      "execution_count": null,
      "outputs": []
    },
    {
      "cell_type": "markdown",
      "metadata": {
        "id": "X_2W2jlB0VWV"
      },
      "source": [
        "# **Actividad #1**<br>\n",
        "\n",
        ">Crea un diccionario llamando MLB_team.\n",
        "\n",
        "1. Escoge 10 equipos de la lista.\n",
        "2. Usa el nombre de la ciudad o estado como llave.\n",
        "3. Usa el nombre del equipo como valor.\n",
        "4. Usa la siguiente información.\n",
        "\n",
        "**Liga Nacional**<br>\n",
        "\n",
        "Este<br>\n",
        "\n",
        ">Atlanta Braves<br>\n",
        "Miami Marlins<br>\n",
        "New York Mets<br>\n",
        "Philadelphia Phillies<br>\n",
        "Washington Nationals<br>\n",
        "Central<br>\n",
        "Chicago Cubs<br>\n",
        "Cincinnati Reds<br>\n",
        "Milwaukee Brewers<br>\n",
        "Pittsburgh Pirates<br>\n",
        "St. Louis Cardinals<br>\n",
        "\n",
        "Oeste<br>\n",
        ">Arizona Diamondbacks<br>\n",
        "Colorado Rockies<br>\n",
        "Los Angeles Dodgers<br>\n",
        "San Diego Padres<br>\n",
        "San Francisco Giants<br>\n",
        "\n",
        "**Liga Americana**<br>\n",
        "\n",
        "Este<br>\n",
        ">Baltimore Orioles<br>\n",
        "Boston Red Sox<br>\n",
        "New York Yankees<br>\n",
        "Tampa Bay Rays<br>\n",
        "Toronto Blue Jays<br>\n",
        "\n",
        "Centro<br>\n",
        ">Chicago White Sox<br>\n",
        "Cleveland Indians<br>\n",
        "Detroit Tigers<br>\n",
        "Kansas City Royals<br>\n",
        "Minnesota Twins<br>\n",
        "\n",
        "Oeste<br>\n",
        ">Houston Astros<br>\n",
        "Los Angeles Angels<br>\n",
        "Oakland Athletics<br>\n",
        "Seattle Mariners<br>\n",
        "Texas Rangers<br>"
      ]
    },
    {
      "cell_type": "code",
      "metadata": {
        "id": "Mql7uCHq0X52"
      },
      "source": [
        "#Actividad #1\n"
      ],
      "execution_count": null,
      "outputs": []
    },
    {
      "cell_type": "markdown",
      "metadata": {
        "id": "uUR7IZUHlETn"
      },
      "source": [
        "Imprime un valor específico del diccionario<br>\n",
        ">print(nombre_de_diccionario[\"key\"]"
      ]
    },
    {
      "cell_type": "code",
      "metadata": {
        "id": "wSQyCNOvltuM"
      },
      "source": [
        "#Imprime los valores del diccionario\n",
        "print (released[\"iphone\"])"
      ],
      "execution_count": null,
      "outputs": []
    },
    {
      "cell_type": "markdown",
      "metadata": {
        "id": "O5PYpQB_mEMb"
      },
      "source": [
        "\n",
        "Para la version de Python 3.7, los diccionarios están ordenados.\n",
        "\n",
        "En Python 3.6 y anteriores, los diccionarios están desordenados.\n",
        "\n",
        "Tener un diccionario ordenado, significa que los objetos dentro de él tiene un orden definido, y que este orden no pueden cambiar.\n",
        "\n",
        "Un diccionario desordenado significa que los objetos no tienen un orden definido y no puedes referencialos usando un índice."
      ]
    },
    {
      "cell_type": "markdown",
      "metadata": {
        "id": "q_ICq4JPmp47"
      },
      "source": [
        "### **Los diccionarios no pueden tener dos objetos con la misma key**"
      ]
    },
    {
      "cell_type": "markdown",
      "metadata": {
        "id": "fT8xQhUq3PHG"
      },
      "source": [
        "#**Actividad #2**\n",
        "Qué pasa cuando dos o más valores tienen la misma key?\n",
        "<br>\n",
        "Escribe un código para checar tu respuesta."
      ]
    },
    {
      "cell_type": "code",
      "metadata": {
        "id": "-K-iKAzf3PVn"
      },
      "source": [
        "#Assignment #2"
      ],
      "execution_count": null,
      "outputs": []
    },
    {
      "cell_type": "code",
      "metadata": {
        "id": "UvFd6t89m9Ki"
      },
      "source": [
        "#@title \n",
        "carListing = {\n",
        "  \"brand\": \"Ford\",\n",
        "  \"model\": \"Bronco\",\n",
        "  \"year\": 1975,\n",
        "  \"year\": 2021\n",
        "}\n",
        "print(carListing)"
      ],
      "execution_count": null,
      "outputs": []
    },
    {
      "cell_type": "markdown",
      "metadata": {
        "id": "Gs17l6-qz_Qi"
      },
      "source": [
        "\n",
        "#**Ordena el diccionario por key o valor usando un \"for\" loop**"
      ]
    },
    {
      "cell_type": "code",
      "metadata": {
        "id": "z80m__r2z_Y4"
      },
      "source": [
        "for key, value in sorted(released.items()):\n",
        "    print (key, value)"
      ],
      "execution_count": null,
      "outputs": []
    },
    {
      "cell_type": "markdown",
      "metadata": {
        "id": "ZtqFAiN0CqU4"
      },
      "source": [
        "**Actividad #3**<br>\n",
        "Crea un diccionario con los equipos de la MLB listados arriba <br>\n",
        "Crea una función para que ordenar los diccionarios por valor o por key<br>"
      ]
    },
    {
      "cell_type": "code",
      "metadata": {
        "id": "NNJuwznqENTw"
      },
      "source": [
        "#Actividad 3"
      ],
      "execution_count": null,
      "outputs": []
    },
    {
      "cell_type": "markdown",
      "metadata": {
        "id": "4pjbNjVo3gXe"
      },
      "source": [
        "#**Accediendo a los elementos del diccionario**<br>\n",
        "No se puede acceder a los elementos de diccionario por su índice <br>\n",
        "Se accede a los elementos de un diccionario por su llave<br>"
      ]
    },
    {
      "cell_type": "code",
      "metadata": {
        "id": "cm9i97Tg3giz"
      },
      "source": [
        "#Acceder a los elementos del diccionario por su llave\n",
        "released['iphone 5']"
      ],
      "execution_count": null,
      "outputs": []
    },
    {
      "cell_type": "markdown",
      "metadata": {
        "id": "7h3eloiHDWoO"
      },
      "source": [
        "**Actividad #4**<br>\n",
        "\n",
        "Usando el diccionario que creaste llamando MLB_team,\n",
        "1. Ordenalo por llave\n",
        "2. Pide al usuario introducir una ubicación<br>\n",
        "3. Usa una función para encontrar al equipo asociado con esa ubicación"
      ]
    },
    {
      "cell_type": "code",
      "metadata": {
        "id": "vTgZj9IGDWx1"
      },
      "source": [
        "#Actividad #4"
      ],
      "execution_count": null,
      "outputs": []
    },
    {
      "cell_type": "markdown",
      "metadata": {
        "id": "nADVdGW1AmU6"
      },
      "source": [
        "Nota: <br>\n",
        "Aunque el acceso a los objetos en un diccionario no depende del orden **Python garantiza que el orden de los objetos es conservado**\n",
        " \n",
        "Cuando son mostrados, los objetos aparecerán en el orden en el que fueron definidos, y la iteración por cada clave ocurrirá en el mismo orden también. \n",
        "\n",
        "**Objetos añadidos al diccionario se colocan siempre al final**. Si los objetos son removidos, el orden permanece en los objetos restantes \n"
      ]
    },
    {
      "cell_type": "markdown",
      "metadata": {
        "id": "kKHh16LuEGaF"
      },
      "source": [
        "#**Agregando valores al diccionario**<br>\n",
        "Añade objetos al diccionario solamente escribiendo una nueva key y su valor <br>\n",
        "Por ejemplo:<br>\n",
        ">MLB_team[new_key] = value"
      ]
    },
    {
      "cell_type": "markdown",
      "metadata": {
        "id": "81q0qOQrD7ot"
      },
      "source": [
        "**Actividad #5**<br>\n",
        "\n",
        "1. Crea un programa que pide a los usuarios sus equipos favortios de la MLB.\n",
        "2. Añade estos favoritos al diccionario.\n",
        "3. Usa el orden en que son introducidos como llave\n",
        "\n",
        "Por ejemplo:\n",
        "\n",
        "**Usuario introduce:** Athletics, Angels, Giants, Padres\n",
        ">La llave para Athletics será 1\n",
        "\n",
        ">La llave para Angels será 2\n",
        "\n",
        ">La llave para Giants será 3\n",
        "\n",
        ">La llave para Padres será 4"
      ]
    },
    {
      "cell_type": "code",
      "metadata": {
        "id": "_BmVY1FAAw6Y"
      },
      "source": [
        "#Actividad #5"
      ],
      "execution_count": null,
      "outputs": []
    },
    {
      "cell_type": "markdown",
      "metadata": {
        "id": "s4Ef82g6iuKa"
      },
      "source": [
        "# **Funciones integradas**"
      ]
    },
    {
      "cell_type": "code",
      "metadata": {
        "id": "DaiptlB1iuot"
      },
      "source": [
        "#crea un diccionario\n",
        "my_dictionary = {'dog':1, 'cat':2, 'rabbit':3, 'fish':4, 'hampster':5}\n",
        "my_dictionary"
      ],
      "execution_count": null,
      "outputs": []
    },
    {
      "cell_type": "code",
      "metadata": {
        "id": "u1O1gOnlpNIL"
      },
      "source": [
        "#vacia todo el diccionario de llaves y valores\n",
        "print(my_dictionary)\n",
        "my_dictionary.clear()\n",
        "print(my_dictionary)"
      ],
      "execution_count": null,
      "outputs": []
    },
    {
      "cell_type": "markdown",
      "metadata": {
        "id": "fM8Hh9Guprl9"
      },
      "source": [
        "**Actividad 6**<br>\n",
        "\n",
        ">Crea un diccionario pidiendo al usuario que introduzca llaves y valores<br>\n",
        ">Pide al usuario que introduzca una llave para removerla y después remuevela<br>\n",
        ">Pide al usuario que introduzca un par llave-valor para remover, después remuevela<br>\n"
      ]
    },
    {
      "cell_type": "code",
      "metadata": {
        "id": "xF-hTKl7ph_M"
      },
      "source": [
        "#Actividad 6"
      ],
      "execution_count": null,
      "outputs": []
    },
    {
      "cell_type": "markdown",
      "metadata": {
        "id": "7es8D0kLqpmG"
      },
      "source": [
        "**Actividad 7**<br>\n",
        "Crea dos diccionarios, d1 Y d2<br>\n",
        "Combina ambos en d1<br>\n",
        "\n",
        "*Pista: usa la función update*"
      ]
    },
    {
      "cell_type": "code",
      "metadata": {
        "id": "Lv8Kjw8HrCr4"
      },
      "source": [
        "#Actividad 7"
      ],
      "execution_count": null,
      "outputs": []
    }
  ]
}