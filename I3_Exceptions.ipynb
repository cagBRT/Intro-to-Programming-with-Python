{
  "nbformat": 4,
  "nbformat_minor": 0,
  "metadata": {
    "colab": {
      "private_outputs": true,
      "provenance": [],
      "authorship_tag": "ABX9TyO+FBT+9+upC92mHhoutHxq",
      "include_colab_link": true
    },
    "kernelspec": {
      "name": "python3",
      "display_name": "Python 3"
    },
    "language_info": {
      "name": "python"
    }
  },
  "cells": [
    {
      "cell_type": "markdown",
      "metadata": {
        "id": "view-in-github",
        "colab_type": "text"
      },
      "source": [
        "<a href=\"https://colab.research.google.com/github/cagBRT/Intro-to-Programming-with-Python/blob/master/I3_Exceptions.ipynb\" target=\"_parent\"><img src=\"https://colab.research.google.com/assets/colab-badge.svg\" alt=\"Open In Colab\"/></a>"
      ]
    },
    {
      "cell_type": "markdown",
      "source": [
        "# Exception Handling"
      ],
      "metadata": {
        "id": "Tz6VGrbjDaBk"
      }
    },
    {
      "cell_type": "markdown",
      "source": [
        "Python raises an exception when your code encounters an occasional but not unexpected error. <br>\n",
        "\n",
        "Exceptions *may* occur, so you should write code to deal with, or handle, them. <br>\n",
        "\n",
        "In contrast, a bug happens when your code does something illogical, like a miscalculation. Bugs should be fixed, not handled."
      ],
      "metadata": {
        "id": "nJZH7kDwGpDn"
      }
    },
    {
      "cell_type": "markdown",
      "source": [
        "Example of a ZeroDivisionError exception"
      ],
      "metadata": {
        "id": "RuNHq6n2GtZt"
      }
    },
    {
      "cell_type": "code",
      "execution_count": null,
      "metadata": {
        "id": "ElE-41zmo34j"
      },
      "outputs": [],
      "source": [
        "first = float(input(\"What is your first number? \"))\n",
        "second = float(input(\"What is your second number? \"))\n",
        "print(f\"{first} divided by {second} is {first / second}\")"
      ]
    },
    {
      "cell_type": "markdown",
      "source": [
        "# Exception Handling<br>\n",
        "\n",
        "Exception handling is code written to catch exceptions and deal with them.<br>\n",
        "\n",
        "Exception handling will keep your code from crashing while also giving the user an explanation of the problem."
      ],
      "metadata": {
        "id": "1-9m8h4pHa-w"
      }
    },
    {
      "cell_type": "markdown",
      "source": [
        "try....except blocks are used to handle exceptions"
      ],
      "metadata": {
        "id": "OFAIUK4iIDgt"
      }
    },
    {
      "cell_type": "code",
      "source": [
        "try:\n",
        "    first = float(input(\"What is your first number? \"))\n",
        "    second = float(input(\"What is your second number? \"))\n",
        "    print(f\"{first} divided by {second} is {first / second}\")\n",
        "except ZeroDivisionError:\n",
        "    print(\"You can't divide by zero\")"
      ],
      "metadata": {
        "id": "gzu5McwXICMh"
      },
      "execution_count": null,
      "outputs": []
    },
    {
      "cell_type": "markdown",
      "source": [
        "## Try Block\n",
        "What goes in the try block is important"
      ],
      "metadata": {
        "id": "P1SkXCQRLqpN"
      }
    },
    {
      "cell_type": "code",
      "source": [
        "try:\n",
        "    first = float(input(\"What is your first number? \"))\n",
        "    second = float(input(\"What is your second number? \"))\n",
        "    answer=first/second\n",
        "    print(f\"{first} divided by {second} is {first / second}\")\n",
        "except ZeroDivisionError:\n",
        "    print(\"You can't divide by zero\")\n",
        "\n",
        "print(\"continue with you program\")"
      ],
      "metadata": {
        "id": "tRNlqyc7Lq5W"
      },
      "execution_count": null,
      "outputs": []
    },
    {
      "cell_type": "markdown",
      "source": [
        "- If there are no exceptions, the code continues.\n",
        "- If there are exceptions, an error message is displayed, and the program can continue"
      ],
      "metadata": {
        "id": "hU4SLKloL8u7"
      }
    },
    {
      "cell_type": "markdown",
      "source": [
        "What happens when you continue after an exception?"
      ],
      "metadata": {
        "id": "oYjFykZpMNG8"
      }
    },
    {
      "cell_type": "code",
      "source": [
        "try:\n",
        "    first = float(input(\"What is your first number? \"))\n",
        "    second = float(input(\"What is your second number? \"))\n",
        "    answer1=first/second\n",
        "    print(f\"{first} divided by {second} is {answer1}\")\n",
        "except ZeroDivisionError:\n",
        "    print(\"You can't divide by zero\")\n",
        "\n",
        "print(\"continue with you program\")\n",
        "answer_list=[]\n",
        "answer_list.append(answer1)\n",
        "print(answer_list)\n",
        "\n",
        "#After an exception, the answer1 variable is wrong or you get an error"
      ],
      "metadata": {
        "id": "gMVyXvyzML4N"
      },
      "execution_count": null,
      "outputs": []
    },
    {
      "cell_type": "markdown",
      "source": [
        "A try block can have more than one exception"
      ],
      "metadata": {
        "id": "tqVezrSOI1o4"
      }
    },
    {
      "cell_type": "code",
      "source": [
        "try:\n",
        "    first = float(input(\"What is your first number? \"))\n",
        "    second = float(input(\"What is your second number? \"))\n",
        "    print(f\"{first} divided by {second} is {first / second}\")\n",
        "except ValueError:\n",
        "    print(\"You must enter a number\")\n",
        "except ZeroDivisionError:\n",
        "    print(\"You can't divide by zero\")\n",
        "\n",
        "print(\"Now you can continue with your program\")"
      ],
      "metadata": {
        "id": "ZnyHsK6PI4o1"
      },
      "execution_count": null,
      "outputs": []
    },
    {
      "cell_type": "markdown",
      "source": [
        "You can combine exceptions into a single except block. The downside is you will not know which error caused the exception"
      ],
      "metadata": {
        "id": "baeXuatlKLDU"
      }
    },
    {
      "cell_type": "code",
      "source": [
        "try:\n",
        "    first = float(input(\"What is your first number? \"))\n",
        "    second = float(input(\"What is your second number? \"))\n",
        "    print(f\"{first} divided by {second} is {first / second}\")\n",
        "except (ValueError,ZeroDivisionError):\n",
        "    print(\"There was a problem with your input values\")\n",
        "\n",
        "print(\"Now you can continue with your program\")"
      ],
      "metadata": {
        "id": "IuB8D5_vJVBt"
      },
      "execution_count": null,
      "outputs": []
    }
  ]
}