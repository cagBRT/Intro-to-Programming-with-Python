{
  "nbformat": 4,
  "nbformat_minor": 0,
  "metadata": {
    "colab": {
      "private_outputs": true,
      "provenance": [],
      "authorship_tag": "ABX9TyON1ogcGeW4H2d3lUlg0H3s",
      "include_colab_link": true
    },
    "kernelspec": {
      "name": "python3",
      "display_name": "Python 3"
    },
    "language_info": {
      "name": "python"
    }
  },
  "cells": [
    {
      "cell_type": "markdown",
      "metadata": {
        "id": "view-in-github",
        "colab_type": "text"
      },
      "source": [
        "<a href=\"https://colab.research.google.com/github/cagBRT/Intro-to-Programming-with-Python/blob/master/GeoSpatial_Visualization.ipynb\" target=\"_parent\"><img src=\"https://colab.research.google.com/assets/colab-badge.svg\" alt=\"Open In Colab\"/></a>"
      ]
    },
    {
      "cell_type": "markdown",
      "source": [
        "In this notebook we use the Ames housing dataset to demonstrate how to do geospatial visualization."
      ],
      "metadata": {
        "id": "UiIiCCZOXNGc"
      }
    },
    {
      "cell_type": "code",
      "source": [
        "# Clone the entire repo.\n",
        "!git clone -l -s https://github.com/cagBRT/Intro-to-Programming-with-Python.git cloned-repo\n",
        "%cd cloned-repo"
      ],
      "metadata": {
        "id": "ZsRR66rOPgMt"
      },
      "execution_count": null,
      "outputs": []
    },
    {
      "cell_type": "code",
      "execution_count": null,
      "metadata": {
        "id": "DtZEJ6zTQN9i"
      },
      "outputs": [],
      "source": [
        "#!pip install geopandas\n",
        "!pip install contextily\n",
        "!pip install shapely"
      ]
    },
    {
      "cell_type": "code",
      "source": [
        "import pandas as pd\n",
        "import geopandas as gpd\n",
        "import matplotlib.pyplot as plt\n",
        "import contextily as ctx\n",
        "from shapely.geometry import Point"
      ],
      "metadata": {
        "id": "SnwtxPUCQRtm"
      },
      "execution_count": null,
      "outputs": []
    },
    {
      "cell_type": "markdown",
      "source": [
        "**Get the data**<br>\n",
        "\n",
        "The Ames dataset listing information on houses in Ames, Iowa.\n"
      ],
      "metadata": {
        "id": "dpK6JzZlXqkD"
      }
    },
    {
      "cell_type": "code",
      "source": [
        "# Load the dataset\n",
        "Ames = pd.read_csv('/content/Ames (1).csv', on_bad_lines='skip')"
      ],
      "metadata": {
        "id": "08X2HaPaRekq"
      },
      "execution_count": null,
      "outputs": []
    },
    {
      "cell_type": "markdown",
      "source": [
        "We list the columns of the dataset. <br>\n",
        "For this demonstration we will only use Latitude and Longitude."
      ],
      "metadata": {
        "id": "dY5QCE1tX7jZ"
      }
    },
    {
      "cell_type": "code",
      "source": [
        "Ames.columns"
      ],
      "metadata": {
        "id": "tq-HIxI8V7lV"
      },
      "execution_count": null,
      "outputs": []
    },
    {
      "cell_type": "markdown",
      "source": [
        "## **Convert the DataFrame to a GeoDataFrame**\n",
        "\n",
        "Converting to a GeoDataFrame, means we can access the geospatial functionalities on our <br>\n",
        "dataset, transforming the raw data into a format suitable for geospatial analysis and visualization."
      ],
      "metadata": {
        "id": "T7B5krwBYL67"
      }
    },
    {
      "cell_type": "code",
      "source": [
        "# Convert the DataFrame to a GeoDataFrame\n",
        "geometry = [Point(xy) for xy in zip(Ames['Longitude'], Ames['Latitude'])]\n",
        "geo_df = gpd.GeoDataFrame(Ames, geometry=geometry)"
      ],
      "metadata": {
        "id": "nZSjOZ3oQlGi"
      },
      "execution_count": null,
      "outputs": []
    },
    {
      "cell_type": "markdown",
      "source": [
        "## Set the CRS<br>\n",
        "\n",
        "**CRS=Coordinate Reference System**<br>\n",
        "\n",
        "A Coordinate reference system (CRS) defines,  how the two-dimensional, projected map is related to real locations on the earth. There are two different types of coordinate reference systems: Geographic Coordinate Systems and Projected Coordinate Systems.<br>\n",
        "\n",
        "**The distance between two points will differ under a different CRS**, and the map will look different. <br>\n",
        "\n",
        "In this notebook, the CRS for the GeoDataFrame is using the notation “EPSG:4326,” which corresponds to the widely-used WGS 84 (or [World Geodetic System 1984](https://en.wikipedia.org/wiki/World_Geodetic_System)) latitude-longitude coordinate system.<br><br>\n",
        "\n",
        "\n",
        "WGS 84 is the de facto standard for satellite positioning, GPS, and various mapping applications.<br>\n",
        "\n",
        "Selecting an appropriate CRS depends on factors like scale, accuracy, and the geographic scope of your data, ensuring precision in geospatial analysis and visualization."
      ],
      "metadata": {
        "id": "WEy_DOiRYSNR"
      }
    },
    {
      "cell_type": "code",
      "source": [
        "# Set the CRS for the GeoDataFrame\n",
        "geo_df.crs = \"EPSG:4326\""
      ],
      "metadata": {
        "id": "SAmOkW8xWir3"
      },
      "execution_count": null,
      "outputs": []
    },
    {
      "cell_type": "markdown",
      "source": [
        "We create a convex hull around all the points. This will give us a visual representation of the data."
      ],
      "metadata": {
        "id": "bezReJAemwdO"
      }
    },
    {
      "cell_type": "code",
      "source": [
        "# Create a convex hull around the points\n",
        "convex_hull = geo_df.unary_union.convex_hull\n",
        "convex_hull_geo = gpd.GeoSeries(convex_hull, crs=\"EPSG:4326\")\n",
        "convex_hull_transformed = convex_hull_geo.to_crs(epsg=3857)\n",
        "buffered_hull = convex_hull_transformed.buffer(500)"
      ],
      "metadata": {
        "id": "aEJbNaI_XDvc"
      },
      "execution_count": null,
      "outputs": []
    },
    {
      "cell_type": "markdown",
      "source": [
        "To plot the data we switch to CRS= epsg=3875, which is optimized for web based mapping applications."
      ],
      "metadata": {
        "id": "wvhKPReLnc6Y"
      }
    },
    {
      "cell_type": "code",
      "source": [
        "# Plotting the map with Sale Prices, a basemap, and the buffered convex hull as a border\n",
        "fig, ax = plt.subplots(figsize=(12, 8))\n",
        "\n",
        "#Change the CRS to epsg\n",
        "geo_df.to_crs(epsg=3857).plot(column='SalePrice', cmap='coolwarm', ax=ax, legend=True,\n",
        "                              markersize=20)\n",
        "\n",
        "#The buffer operation adds a buffer area around the convex hull\n",
        "#In this case the buffer is 500 meters\n",
        "buffered_hull.boundary.plot(ax=ax, color='black', label='Buffered Boundary of Ames')\n",
        "ctx.add_basemap(ax, source=ctx.providers.CartoDB.Positron)\n",
        "ax.set_axis_off()\n",
        "ax.legend(loc='upper right')\n",
        "colorbar = ax.get_figure().get_axes()[1]\n",
        "colorbar.set_ylabel('Sale Price', rotation=270, labelpad=20, fontsize=15)\n",
        "plt.title('Sale Prices of Individual Houses in Ames, Iowa with Buffered Boundary',\n",
        "          fontsize=18)\n",
        "plt.show()"
      ],
      "metadata": {
        "id": "C3LY2_iGXGh4"
      },
      "execution_count": null,
      "outputs": []
    }
  ]
}