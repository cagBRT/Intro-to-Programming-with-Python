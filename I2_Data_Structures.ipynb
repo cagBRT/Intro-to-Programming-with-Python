{
  "nbformat": 4,
  "nbformat_minor": 0,
  "metadata": {
    "colab": {
      "private_outputs": true,
      "provenance": [],
      "authorship_tag": "ABX9TyMqCf4Dars/KenMBqopslNw",
      "include_colab_link": true
    },
    "kernelspec": {
      "name": "python3",
      "display_name": "Python 3"
    },
    "language_info": {
      "name": "python"
    }
  },
  "cells": [
    {
      "cell_type": "markdown",
      "metadata": {
        "id": "view-in-github",
        "colab_type": "text"
      },
      "source": [
        "<a href=\"https://colab.research.google.com/github/cagBRT/Intro-to-Programming-with-Python/blob/master/I2_Data_Structures.ipynb\" target=\"_parent\"><img src=\"https://colab.research.google.com/assets/colab-badge.svg\" alt=\"Open In Colab\"/></a>"
      ]
    },
    {
      "cell_type": "markdown",
      "source": [
        "In this notebook we:<br>\n",
        "- review lists<br>\n",
        "- introduce<br>\n",
        "\n",
        ">*   tuples\n",
        ">*   dictionaries\n",
        ">*   sets\n",
        "\n",
        "\n"
      ],
      "metadata": {
        "id": "32LZpF2u--9t"
      }
    },
    {
      "cell_type": "markdown",
      "source": [
        "# Review of Lists\n",
        ">sort() - Sorts list in-place<br>\n",
        "append() - Adds element to end of list<br>\n",
        "insert() - Inserts element at index<br>\n",
        "pop() - Removes element at index<br>\n",
        "remove() - Removes first occurrence of value<br>\n",
        "reverse() - Reverses list in-place<br>"
      ],
      "metadata": {
        "id": "L6oQQyU30OAk"
      }
    },
    {
      "cell_type": "code",
      "execution_count": null,
      "metadata": {
        "id": "sED_yr5kz8x_"
      },
      "outputs": [],
      "source": [
        "#Create a list\n",
        "ints=[8,56,43,2,1,99,72,3453245,3]"
      ]
    },
    {
      "cell_type": "code",
      "source": [
        "#Manipulate lists\n",
        "\n",
        "#Access one element\n",
        "print(f\"Fifth element is '{ints[5]}'\")\n",
        "\n",
        "#Change one element\n",
        "ints[4]=-909090\n",
        "print(f\"Changed one element '{ints[5]}'\")\n",
        "\n",
        "#Remove an element\n",
        "ints.pop()\n",
        "print(f\"popped element {ints}\")\n",
        "\n",
        "ints.remove(43)\n",
        "print(f\"removed element {ints}\")"
      ],
      "metadata": {
        "id": "xJso972I0cXX"
      },
      "execution_count": null,
      "outputs": []
    },
    {
      "cell_type": "markdown",
      "source": [
        "**Assignment 1**<br>\n",
        "1. Ask a user for three animals\n",
        "2. Print the list\n",
        "3. Ask the user which animal to remove\n",
        "4. Ask the user to name another animal\n",
        "5. Print the new list"
      ],
      "metadata": {
        "id": "s3pYcp1m2IN6"
      }
    },
    {
      "cell_type": "code",
      "source": [
        "#Assignment 1\n"
      ],
      "metadata": {
        "id": "zqzOdsDs2gAq"
      },
      "execution_count": null,
      "outputs": []
    },
    {
      "cell_type": "markdown",
      "source": [
        "# Tuples\n",
        "\n",
        "Tuples are another type of sequence data type in Python, similar to lists. <br>\n",
        "Unlike lists, tuples are immutable, meaning their elements cannot be altered once created.<br>\n",
        " They are defined by enclosing elements in parentheses ( )."
      ],
      "metadata": {
        "id": "zSdRyXEZ2mkT"
      }
    },
    {
      "cell_type": "markdown",
      "source": [
        "Tuples are generally used for collections of items that should not be modified.<br>\n",
        "\n",
        " **Tuples are faster than lists, which makes them great for read-only operations**"
      ],
      "metadata": {
        "id": "p3bIjccA24U3"
      }
    },
    {
      "cell_type": "code",
      "source": [
        "#Defining a tuple\n",
        "tuple1=(\"dog\",\"cat\",\"horse\",\"snake\",\"lizard\")"
      ],
      "metadata": {
        "id": "9bz430Cc2sec"
      },
      "execution_count": null,
      "outputs": []
    },
    {
      "cell_type": "markdown",
      "source": [
        "Use tuples for the following:\n",
        "- Storing constants or configuration data\n",
        "- Function return values with multiple components\n",
        "- Dictionary keys, since they are hashable"
      ],
      "metadata": {
        "id": "7wCIsSZu3MSX"
      }
    },
    {
      "cell_type": "markdown",
      "source": [
        "**Example of use case for tuples**"
      ],
      "metadata": {
        "id": "9KM1A-XA4XiB"
      }
    },
    {
      "cell_type": "code",
      "source": [
        "#List method\n",
        "all_files=['rhino1.jpg','rhino2.jpg','rhino3.png','rhino.data','rhino.csv','rhino_data.xls']\n",
        "#find all jpg and png files\n",
        "image_files=[]\n",
        "extensions=['jpg','png']\n",
        "for file in all_files:\n",
        "  if file.endswith(extensions[1]) or file.endswith(extensions[0]):\n",
        "    image_files.append(file)\n",
        "print(image_files)\n"
      ],
      "metadata": {
        "id": "GHNjcNN73TIZ"
      },
      "execution_count": null,
      "outputs": []
    },
    {
      "cell_type": "code",
      "source": [
        "#Tuple method\n",
        "all_files=['rhino1.jpg','rhino2.jpg','rhino3.png','rhino.data','rhino.csv','rhino_data.xls']\n",
        "#find all jpg and png files\n",
        "image_files=[]\n",
        "extensions=('jpg','png')#Tuple\n",
        "for file in all_files:\n",
        "  if file.endswith(extensions[1]) or file.endswith(extensions[0]):\n",
        "    image_files.append(file)\n",
        "print(image_files)"
      ],
      "metadata": {
        "id": "G1bQ_juH5_41"
      },
      "execution_count": null,
      "outputs": []
    },
    {
      "cell_type": "markdown",
      "source": [
        "**Use indexing on a tuple**"
      ],
      "metadata": {
        "id": "IUDFBuUd8j6k"
      }
    },
    {
      "cell_type": "markdown",
      "source": [
        "There are only two builtin functions for Tuples<br>\n",
        ">index: returns the index of the value<br>\n",
        "count: returns the number of instances of the value"
      ],
      "metadata": {
        "id": "eUp6WiZC-P4c"
      }
    },
    {
      "cell_type": "code",
      "source": [
        "people_data=[(\"Kali\", 11), (\"Momo\",2),(\"Kinsey\",5)]\n",
        "for i in range (len(people_data)):\n",
        "   print(people_data[i][1])"
      ],
      "metadata": {
        "id": "ygskEv5N6RSg"
      },
      "execution_count": null,
      "outputs": []
    },
    {
      "cell_type": "code",
      "source": [
        "limerick=(\"There\",\"once\", \"was\",\"a\",\"man\",\"from\",\"Nantucket\",\n",
        "          \"who\",\"kept\", \"all\", \"his\", \"cash\", \"in\",\"a\",\"bucket\",\n",
        "          \"his\",\"daughter\",\"named\",\"Nan\",\n",
        "          \"ran\",\"away\", \"with\",\"a\",\"man\",\n",
        "          \"And\",\"as\",\"for\",\"the\",\"bucket,\",\"...\")"
      ],
      "metadata": {
        "id": "YRtBFfHR8q22"
      },
      "execution_count": null,
      "outputs": []
    },
    {
      "cell_type": "code",
      "source": [
        "limerick.index('Nan')"
      ],
      "metadata": {
        "id": "08dkmpdF-ZrJ"
      },
      "execution_count": null,
      "outputs": []
    },
    {
      "cell_type": "code",
      "source": [
        "limerick.count('a')"
      ],
      "metadata": {
        "id": "HUVa_gv6-cRu"
      },
      "execution_count": null,
      "outputs": []
    },
    {
      "cell_type": "markdown",
      "source": [
        "**Assignment 2**<br>\n",
        "1. Print the last words in each line of limerick.<br>\n",
        "2. Write code to determine how many times does the letter series \"ucket\" appear in the tuple?"
      ],
      "metadata": {
        "id": "6Jr6Qhwg-0fN"
      }
    },
    {
      "cell_type": "code",
      "source": [
        "#Assignment"
      ],
      "metadata": {
        "id": "dVKBvfX9-q6k"
      },
      "execution_count": null,
      "outputs": []
    },
    {
      "cell_type": "markdown",
      "source": [
        "## Adding values to a tuple\n",
        "tuples are immutable, meaning that once they are created, their elements cannot be modified. <br>\n",
        "However, there may be times when you need to add elements to a tuple.\n",
        "\n"
      ],
      "metadata": {
        "id": "AmayW1Bx--ca"
      }
    },
    {
      "cell_type": "code",
      "source": [
        "names=(\"andy\",\"juan\",\"hari\",\"bea\")\n",
        "print(f\"the elements of names: {names}\")"
      ],
      "metadata": {
        "id": "r7acqdme_SQx"
      },
      "execution_count": null,
      "outputs": []
    },
    {
      "cell_type": "markdown",
      "source": [
        "**Add an element to the tuple**"
      ],
      "metadata": {
        "id": "ug99OZCB_0T-"
      }
    },
    {
      "cell_type": "code",
      "source": [
        "names += (\"raj\",)\n",
        "print(f\"the elements of names: {names}\")"
      ],
      "metadata": {
        "id": "uW63ykFH_yaG"
      },
      "execution_count": null,
      "outputs": []
    },
    {
      "cell_type": "markdown",
      "source": [
        "**Add two tuples**"
      ],
      "metadata": {
        "id": "2yjJklYUAJrT"
      }
    },
    {
      "cell_type": "code",
      "source": [
        "more_names=(\"kali\", \"kinsey\")\n",
        "names+=more_names\n",
        "print(f\"the elements of names: {names}\")"
      ],
      "metadata": {
        "id": "Eo_5czEcANf2"
      },
      "execution_count": null,
      "outputs": []
    },
    {
      "cell_type": "markdown",
      "source": [
        "**Convert a tuple to a list, then convert back to a tuple**"
      ],
      "metadata": {
        "id": "8v3ckjkMAbLR"
      }
    },
    {
      "cell_type": "code",
      "source": [
        "names=list(names)\n",
        "names.append('maria')\n",
        "names=tuple(names)\n",
        "print(f\"the elements of names: {names}\")"
      ],
      "metadata": {
        "id": "gGZ1bNxrAgrl"
      },
      "execution_count": null,
      "outputs": []
    },
    {
      "cell_type": "markdown",
      "source": [
        "Use '*' to add elements to a tuple"
      ],
      "metadata": {
        "id": "aH7_0Tr_A0tQ"
      }
    },
    {
      "cell_type": "code",
      "source": [
        "names=(*names,'jose','sam')\n",
        "print(f\"the elements of names: {names}\")"
      ],
      "metadata": {
        "id": "U3n8R_AYBDRV"
      },
      "execution_count": null,
      "outputs": []
    },
    {
      "cell_type": "markdown",
      "source": [
        "**Assignment 3**<br>\n",
        "1. print out the even elements in values<br>\n",
        "2. add 5 more elements to values<br>\n",
        "3. print out all elements of values that are divisible by 6\n",
        "4. print out the elements of values in ascending order"
      ],
      "metadata": {
        "id": "ohXjW2tsEFds"
      }
    },
    {
      "cell_type": "code",
      "source": [
        "#Assignment 3"
      ],
      "metadata": {
        "id": "J1Okvds1ERuJ"
      },
      "execution_count": null,
      "outputs": []
    },
    {
      "cell_type": "markdown",
      "source": [
        "## Deleting Elements from a Tuple"
      ],
      "metadata": {
        "id": "VWaX7DpxGlk7"
      }
    },
    {
      "cell_type": "markdown",
      "source": [
        "1. Modify the length of the tuple"
      ],
      "metadata": {
        "id": "6-iMNh4RKgBv"
      }
    },
    {
      "cell_type": "code",
      "source": [
        "numbers=(4,5,6,7,8,9,10,11,12,13,14,15)\n",
        "print(f\"the elements of numbers: {numbers}\")\n",
        "\n",
        "numbers_length=len(numbers)\n",
        "numbers=numbers[3:numbers_length-3]\n",
        "numbers=tuple(numbers)\n",
        "print(f\"the elements of numbers: {numbers}\")"
      ],
      "metadata": {
        "id": "WdCy3moaKbBJ"
      },
      "execution_count": null,
      "outputs": []
    },
    {
      "cell_type": "code",
      "source": [
        "print(f\"the elements of numbers: {numbers}\")\n",
        "left=numbers[0:2]\n",
        "right=numbers[4:5]\n",
        "numbers=left+(999,)+right\n",
        "numbers=tuple(numbers)\n",
        "print(f\"the elements of numbers: {numbers}\")"
      ],
      "metadata": {
        "id": "YbmgbyvSKvEI"
      },
      "execution_count": null,
      "outputs": []
    },
    {
      "cell_type": "markdown",
      "source": [
        "**Assignment 4**<br>\n",
        "Given the following tuple<br>\n",
        "1. remove all even values\n",
        "2. add an odd value for each removed even value"
      ],
      "metadata": {
        "id": "x5DRvevTL6ev"
      }
    },
    {
      "cell_type": "code",
      "source": [
        "#Assignment 4\n",
        "numbers=(42,5,64,73,8,99,10,33,12,13,24,15,16,17,18,19,20,21,24,56,888)"
      ],
      "metadata": {
        "id": "s4AHjLiBMJg8"
      },
      "execution_count": null,
      "outputs": []
    },
    {
      "cell_type": "markdown",
      "source": [
        "# Dictionaries"
      ],
      "metadata": {
        "id": "dK97Q4nfMtcg"
      }
    },
    {
      "cell_type": "markdown",
      "source": [
        "A dictionary in Python is an unordered, mutable data type that stores mappings of unique keys to values. Dictionaries are written with curly braces { } and consist of key-value pairs separated by commas."
      ],
      "metadata": {
        "id": "YDPbi1RMQXHC"
      }
    },
    {
      "cell_type": "markdown",
      "source": [
        "Dictionaries are useful for storing data in a structured manner and accessing values by keys."
      ],
      "metadata": {
        "id": "zZvW9q0nQuwP"
      }
    },
    {
      "cell_type": "markdown",
      "source": [
        "**A dictionary is faster than a list in Python.** <br>\n",
        "\n",
        "It is more efficient to use dictionaries for the lookup of elements as it is faster than a list and takes less time to traverse.\n",
        "\n",
        "Moreover, lists keep the order of the elements while dictionary does not."
      ],
      "metadata": {
        "id": "YzTNPN-7V8HL"
      }
    },
    {
      "cell_type": "markdown",
      "source": [
        "**Create a dictionary**<br>\n",
        "\n",
        "Dictionary keys must be immutable objects like strings, numbers, or tuples. <br>\n",
        "\n",
        "Dictionary values can be any object.<br>\n",
        "\n",
        "**As of Python version 3.7, dictionaries are ordered** <br>This means that the items have a defined order, and that order will not change."
      ],
      "metadata": {
        "id": "cI5I2huLQbYl"
      }
    },
    {
      "cell_type": "markdown",
      "source": [
        "**There are two ways to create a dictionary**"
      ],
      "metadata": {
        "id": "hJTSrrBcVcFd"
      }
    },
    {
      "cell_type": "code",
      "source": [
        "#METHOD 1\n",
        "#name,id, and address cannot change, but the values assigned to them can change\n",
        "student_dictionary={\n",
        "    \"name\":\"Kali\",\n",
        "    \"id\": 3343234,\n",
        "    \"address\":\"32 Main St, DeMoine, IOWA\",\n",
        "}\n",
        "\n",
        "print(student_dictionary)"
      ],
      "metadata": {
        "id": "GbWKqGBaQaVD"
      },
      "execution_count": null,
      "outputs": []
    },
    {
      "cell_type": "code",
      "source": [
        "#METHOD 2\n",
        "other_dictionary=dict(name=\"baby\",movie=\"dirty dancing\")\n",
        "print(other_dictionary)"
      ],
      "metadata": {
        "id": "G5W70gbTVNn4"
      },
      "execution_count": null,
      "outputs": []
    },
    {
      "cell_type": "markdown",
      "source": [
        "**Dictionary items can be referred to by their key**"
      ],
      "metadata": {
        "id": "WIDvpSXRRxU2"
      }
    },
    {
      "cell_type": "code",
      "source": [
        "print(student_dictionary[\"id\"])"
      ],
      "metadata": {
        "id": "gy1N0eH3R3KY"
      },
      "execution_count": null,
      "outputs": []
    },
    {
      "cell_type": "markdown",
      "source": [
        "**Duplicate key values are not allowed**<br>\n",
        "Dulpicate values overwrite existing values"
      ],
      "metadata": {
        "id": "dXTEMqsdSeRe"
      }
    },
    {
      "cell_type": "code",
      "source": [
        "student_dictionary={\n",
        "    \"name\":\"Kali\",\n",
        "    \"id\": 3343234,\n",
        "    \"address\":\"32 Main St, DeMoine, IOWA\",\n",
        "    \"name\":\"Toby\",\n",
        "    \"id\": 44,\n",
        "    \"address\":\"43 Lava St, Honolulu, Hawaii\",\n",
        "}\n",
        "\n",
        "print(student_dictionary)"
      ],
      "metadata": {
        "id": "5TizuxfySilX"
      },
      "execution_count": null,
      "outputs": []
    },
    {
      "cell_type": "markdown",
      "source": [
        "Dictionary keys must be strings or integers<br>\n",
        "Dictionary values can be any type of object"
      ],
      "metadata": {
        "id": "xpu6MgpfTijg"
      }
    },
    {
      "cell_type": "code",
      "source": [
        "example_dictionary={\n",
        "    \"name\":\"sensor 1\",\n",
        "    1:34,\n",
        "    2:36,\n",
        "    3:39,\n",
        "    4:45,\n",
        "    5:60\n",
        "}\n",
        "print(example_dictionary)"
      ],
      "metadata": {
        "id": "U50LzISmTiuK"
      },
      "execution_count": null,
      "outputs": []
    },
    {
      "cell_type": "markdown",
      "source": [
        "**Assignment 5**<br>\n",
        "Create a dictionary to store pet name, species, phone number"
      ],
      "metadata": {
        "id": "zq_0sxiKSzgP"
      }
    },
    {
      "cell_type": "code",
      "source": [
        "#Assignment 5"
      ],
      "metadata": {
        "id": "6ETaNP5PTcKL"
      },
      "execution_count": null,
      "outputs": []
    },
    {
      "cell_type": "markdown",
      "source": [
        "**Using zip to create a dictionary**<br>\n",
        "The zip() function makes an iterator that aggregates elements from each of the iterables<br>\n",
        "We can create a dictionary when it is used in dict() method"
      ],
      "metadata": {
        "id": "I90gj-7BW1Mt"
      }
    },
    {
      "cell_type": "code",
      "source": [
        "# 1. create a list for keys and a list for values\n",
        "keys = [\"IST\", \"SAW\", \"STN\"]\n",
        "values = [\"Istanbul Airport\", \"Sabiha Gokcen International Airport\", \"London Stansted Airport\"]\n",
        "\n",
        "#2. zip the lists together\n",
        "zip_dictionary = dict(zip(keys, values))\n",
        "print(zip_dictionary)"
      ],
      "metadata": {
        "id": "KfcbYoF1W1lx"
      },
      "execution_count": null,
      "outputs": []
    },
    {
      "cell_type": "markdown",
      "source": [
        "**Using fromkeys to create a dictionary**<br>\n",
        "The fromkeys() method returns a dictionary with the specified keys and the specified value."
      ],
      "metadata": {
        "id": "f91jQ37-Xj_4"
      }
    },
    {
      "cell_type": "markdown",
      "source": [
        "**With a common value**"
      ],
      "metadata": {
        "id": "gdnrXolwYZ7D"
      }
    },
    {
      "cell_type": "code",
      "source": [
        "# specify the keys of the new dictionary\n",
        "keys = [\"IST\", \"SAW\", \"STN\"]\n",
        "\n",
        "# the value for all keys as an optional parameter\n",
        "# default value is None\n",
        "value =\"to_be_defined\"\n",
        "\n",
        "fromkeys_dictionary = dict.fromkeys(keys, value)\n",
        "print(fromkeys_dictionary)"
      ],
      "metadata": {
        "id": "ktKFdeQ5XkOZ"
      },
      "execution_count": null,
      "outputs": []
    },
    {
      "cell_type": "markdown",
      "source": [
        "**With the default value**"
      ],
      "metadata": {
        "id": "kIqXjHDgYdap"
      }
    },
    {
      "cell_type": "code",
      "source": [
        "# specify the keys of the new dictionary\n",
        "keys = [\"IST\", \"SAW\", \"STN\"]\n",
        "\n",
        "# the value for all keys as an optional parameter\n",
        "# default value is None\n",
        "\n",
        "fromkeys_dictionary = dict.fromkeys(keys)\n",
        "print(fromkeys_dictionary)"
      ],
      "metadata": {
        "id": "hmSGkTuPYVSl"
      },
      "execution_count": null,
      "outputs": []
    },
    {
      "cell_type": "markdown",
      "source": [
        "**Assignment 6**<br>\n",
        "\n",
        "1. Create a dictionary using the zip method\n",
        "2, Create a dictionary using the fromkeys method"
      ],
      "metadata": {
        "id": "2wIKB0rRaKfX"
      }
    },
    {
      "cell_type": "code",
      "source": [
        "#Assignment 6"
      ],
      "metadata": {
        "id": "bfNzyCpyaV_V"
      },
      "execution_count": null,
      "outputs": []
    },
    {
      "cell_type": "markdown",
      "source": [
        "## Accessing values in a dictionary\n",
        "\n",
        "If you try to access an element with a key which does not exist in your dictionary, you get a KeyError.\n",
        "\n",
        "To avoid the KeyError, access the elements of a dictionary with get() method.\n",
        "\n",
        "Alternatively, you can check the existence of the key with ‘in’ keyword.\n",
        "\n"
      ],
      "metadata": {
        "id": "Mi4zDZSmaZ9r"
      }
    },
    {
      "cell_type": "code",
      "source": [
        "currency = {'Pound': 0.091, 'Euro': 0.11, 'Usd': 0.12, 'Afghani': 9.15, 'Bangladeshi Taka': 10.0 }\n",
        "\n",
        "# simple lookup with []\n",
        "print(currency['Pound'])"
      ],
      "metadata": {
        "id": "83HoRU4ybNnK"
      },
      "execution_count": null,
      "outputs": []
    },
    {
      "cell_type": "code",
      "source": [
        "#THIS WILL CAUSE AN ERROR\n",
        "# simple lookup with [] when the key does not exist\n",
        "print(currency['Dinar']) # trows KeyError"
      ],
      "metadata": {
        "id": "bUY2iUnobR_Z"
      },
      "execution_count": null,
      "outputs": []
    },
    {
      "cell_type": "code",
      "source": [
        "# avoiding KeyError with get() method\n",
        "print(currency.get('Dinar'))"
      ],
      "metadata": {
        "id": "n6dSQkrbbWXp"
      },
      "execution_count": null,
      "outputs": []
    },
    {
      "cell_type": "code",
      "source": [
        "# avoiding KeyError with 'in' operator\n",
        "print(currency['Dinar']) if 'Dinar' in currency else print(\"key does not exist\")"
      ],
      "metadata": {
        "id": "16Eqf4ETa7uw"
      },
      "execution_count": null,
      "outputs": []
    },
    {
      "cell_type": "markdown",
      "source": [
        "**Assignment 7**<br>\n",
        "\n",
        "Given the dictionary below, write code to determine if an animal is in the dictionary."
      ],
      "metadata": {
        "id": "DokGWwRobwVK"
      }
    },
    {
      "cell_type": "code",
      "source": [
        "#Assignment 7\n",
        "animals={\"mammals\":20,\"reptiles\":32,\"amphibians\":45,\"birds\":87, \"fish\":20, \"invertebrates\":66}"
      ],
      "metadata": {
        "id": "nLOQ-NKycZiH"
      },
      "execution_count": null,
      "outputs": []
    },
    {
      "cell_type": "markdown",
      "source": [
        "## Inserting an item into a dictionary<br>\n",
        "There is no add(), insert()or append()methods that you can use to add items into your dictionary.\n",
        "\n",
        "Instead, you must create a new key to store the value in your dictionary.\n",
        "\n",
        "If the key already exists in the dictionary, then the value will be overwritten."
      ],
      "metadata": {
        "id": "hL1TDbofcpRg"
      }
    },
    {
      "cell_type": "markdown",
      "source": [
        "**Adding key:value pairs**"
      ],
      "metadata": {
        "id": "EMFQZk0i9pK4"
      }
    },
    {
      "cell_type": "code",
      "source": [
        "employees = {\"id01\": \"George\", \"id02\": \"Nell\", \"id03\": \"Jasper\"}\n",
        "\n",
        "employees[\"id04\"] = \"Friedman\"\n",
        "employees[\"id05\"] = \"Lindsay\"\n",
        "employees[\"id06\"] = \"Burnett\"\n",
        "\n",
        "print(employees)"
      ],
      "metadata": {
        "id": "HAu60vRp9keb"
      },
      "execution_count": null,
      "outputs": []
    },
    {
      "cell_type": "code",
      "source": [
        "#Create a dictionary\n",
        "currency = {'Pound': 0.091, 'Euro': 0.11, 'Usd': 0.12}\n",
        "print(currency)"
      ],
      "metadata": {
        "id": "kTftP4j_eNAs"
      },
      "execution_count": null,
      "outputs": []
    },
    {
      "cell_type": "markdown",
      "source": [
        "**Add a key and value to the dictionary**"
      ],
      "metadata": {
        "id": "05ZkaN7zeTyk"
      }
    },
    {
      "cell_type": "code",
      "source": [
        "# using assignment operator with key\n",
        "# dict[key] = value\n",
        "currency['Bangladeshi_Taka'] = 10.0\n",
        "print(currency)"
      ],
      "metadata": {
        "id": "3sf5vzRzeQzI"
      },
      "execution_count": null,
      "outputs": []
    },
    {
      "cell_type": "markdown",
      "source": [
        "**Change a value in a dictionary**"
      ],
      "metadata": {
        "id": "kfiQB84oehOh"
      }
    },
    {
      "cell_type": "code",
      "source": [
        "# if the key already exists in the dictionary,\n",
        "# then the value will be overwritten\n",
        "currency['Euro'] = 0.09\n",
        "print(currency)\n",
        "\n",
        "#use update method\n",
        "peso=[(\"peso\",989)]\n",
        "currency.update(peso)\n",
        "print(currency)"
      ],
      "metadata": {
        "id": "PwokHIi3ef2i"
      },
      "execution_count": null,
      "outputs": []
    },
    {
      "cell_type": "markdown",
      "source": [
        "**Adding a value only if key does not exist**"
      ],
      "metadata": {
        "id": "B3nsb-_ve0VU"
      }
    },
    {
      "cell_type": "code",
      "source": [
        "if 'Afghani' not in currency:\n",
        "    currency['Afghani'] = 9.12\n",
        "print(currency)"
      ],
      "metadata": {
        "id": "KAqx1eAPexab"
      },
      "execution_count": null,
      "outputs": []
    },
    {
      "cell_type": "markdown",
      "source": [
        "**Adding key and value pair as a tuple**"
      ],
      "metadata": {
        "id": "B7h1cprsfBmE"
      }
    },
    {
      "cell_type": "code",
      "source": [
        "new_items = [('romanian_leu', 2.08), ('quatari_rial', 2.34)]\n",
        "currency.update(new_items)\n",
        "print(currency)"
      ],
      "metadata": {
        "id": "x3sm4TJvfBy2"
      },
      "execution_count": null,
      "outputs": []
    },
    {
      "cell_type": "markdown",
      "source": [
        "**Adding two dictionaries**"
      ],
      "metadata": {
        "id": "WJzS7Be2fPZA"
      }
    },
    {
      "cell_type": "code",
      "source": [
        "more_currency = {\n",
        "    \"Somali_Shilling\": 0.01,\n",
        "    \"Serbian_Dinar\": 0.08,\n",
        "}\n",
        "# adding elements from dict2 to dict_YTL_currency\n",
        "currency.update(more_currency)\n",
        "print(currency)"
      ],
      "metadata": {
        "id": "pybq4lpRcpgp"
      },
      "execution_count": null,
      "outputs": []
    },
    {
      "cell_type": "markdown",
      "source": [
        "**Assignment 9**<br>\n",
        "Given the dictionary shown below\n",
        "1. Add: Columbus, Ohio and Austin, Texas to the dictionary<br>\n",
        "2. If Salem, Oregon is not in the list add it<br>\n",
        "\n",
        "\n"
      ],
      "metadata": {
        "id": "PDrVHvA_9evI"
      }
    },
    {
      "cell_type": "code",
      "source": [
        "states={\"alabama\":\"montgomery\",\n",
        "        \"alaska\":\"juneau\",\n",
        "        \"colorado\":\"denver\",\n",
        "        \"delaware\":\"dover\",\n",
        "        \"maine\":\"augusta\",\n",
        "        \"mississippi\":\"jackson\",\n",
        "        \"new york\":\"albany\"\n",
        "}"
      ],
      "metadata": {
        "id": "l29Gi1Rn-JqP"
      },
      "execution_count": null,
      "outputs": []
    },
    {
      "cell_type": "markdown",
      "source": [
        "**Removing Items from dictionaries**<br>\n",
        "\n",
        "To remove an item from a dictionary object, you can use ‘del’ keyword or pop() method. In addition, you can use dictionary comprehensions to remove items of a dictionary."
      ],
      "metadata": {
        "id": "Q-lw2jbwhOaa"
      }
    },
    {
      "cell_type": "code",
      "source": [
        "currency = {'Pound': 0.091, 'Euro': 0.11, 'Usd': 0.12, 'Afghani': 9.15, 'Bangladeshi Taka': 10.0 }\n",
        "print (f\"dictionary: {currency}\")"
      ],
      "metadata": {
        "id": "cOs4UluhhxrF"
      },
      "execution_count": null,
      "outputs": []
    },
    {
      "cell_type": "markdown",
      "source": [
        "**Using del to remove a dictionary key:value**<br>\n",
        "\n",
        "Using del to remove a dict raises exception if the key does not exist"
      ],
      "metadata": {
        "id": "QCIY0mGeh5j2"
      }
    },
    {
      "cell_type": "code",
      "source": [
        "del currency['Pound']\n",
        "print (f\"dict original : {currency}\")"
      ],
      "metadata": {
        "id": "ZyC-6mouh8NK"
      },
      "execution_count": null,
      "outputs": []
    },
    {
      "cell_type": "code",
      "source": [
        "del currency['Bermudan_Dollar']"
      ],
      "metadata": {
        "id": "kLFtyqtlidB8"
      },
      "execution_count": null,
      "outputs": []
    },
    {
      "cell_type": "code",
      "source": [
        "# using pop() to remove an element\n",
        "removed_value = currency.pop('Euro')\n",
        "print (f\"removed value : {removed_value}\")\n",
        "print (f\"dictionary : {currency}\")"
      ],
      "metadata": {
        "id": "JajC1uPYihgy"
      },
      "execution_count": null,
      "outputs": []
    },
    {
      "cell_type": "markdown",
      "source": [
        "**Using pop()** doesn't raise exception 'No Key' is assigned to the removed_value"
      ],
      "metadata": {
        "id": "ylm-nGENjTyH"
      }
    },
    {
      "cell_type": "code",
      "source": [
        "removed_value = currency.pop('Bermudan_Dollar', 'No Key' )\n",
        "print (f\"removed value : {removed_value}\")\n",
        "print (f\"dictionary : {currency}\")"
      ],
      "metadata": {
        "id": "F4Vz6Hv5jRIV"
      },
      "execution_count": null,
      "outputs": []
    },
    {
      "cell_type": "markdown",
      "source": [
        "**Removing dictionary elements using comprehension**   \n"
      ],
      "metadata": {
        "id": "AFZrtw-pjmKv"
      }
    },
    {
      "cell_type": "code",
      "source": [
        "currency = {'Pound': 0.087, 'Euro': 0.09, 'Usd': 0.12, 'Bangladeshi_Taka': 10.0, 'Afghani': 9.12, 'romanian_leu': 2.08, 'quatari_rial': 2.34, 'Somali_Shilling': 68.01, 'Serbian_Dinar': 11.62}\n",
        "print (f\"dictionary before removal : {currency}\")\n",
        "\n",
        "new_currency = {key:val for key, val in currency.items() if val < 1.0}\n",
        "\n",
        "print (f\"dictionary after removal : {new_currency}\")"
      ],
      "metadata": {
        "id": "RNbN1q48hOkz"
      },
      "execution_count": null,
      "outputs": []
    },
    {
      "cell_type": "markdown",
      "source": [
        "**Assignment 10**<br>\n",
        "Given the dictionary shown below,\n",
        "1. Remove Juneau, Alaska and Augusta, Maine\n"
      ],
      "metadata": {
        "id": "Wl8SVsd6_Oeo"
      }
    },
    {
      "cell_type": "code",
      "source": [
        "states={\"alabama\":\"montgomery\",\n",
        "        \"alaska\":\"juneau\",\n",
        "        \"colorado\":\"denver\",\n",
        "        \"delaware\":\"dover\",\n",
        "        \"maine\":\"augusta\",\n",
        "        \"mississippi\":\"jackson\",\n",
        "        \"new york\":\"albany\"\n",
        "}"
      ],
      "metadata": {
        "id": "uMfwupAq_VIi"
      },
      "execution_count": null,
      "outputs": []
    },
    {
      "cell_type": "markdown",
      "source": [
        "**Copy a dictionary**<br>\n",
        "\n",
        "**copy() method** makes a copy of an existing dictionary.\n",
        "\n",
        "**To create a deep copy**: ‘copy.deepcopy(dict)’ method should be used."
      ],
      "metadata": {
        "id": "s4PFYl5hkyWu"
      }
    },
    {
      "cell_type": "code",
      "source": [
        "import copy\n",
        "currency = {'Pound': [0.091, 0.087], 'Euro': 0.093, 'Usd': 0.121}\n",
        "\n",
        "# create a copy of the original dictionary\n",
        "currancy_copy = currency.copy()\n",
        "\n",
        "# modify the primitive datatype value in the new dictionary\n",
        "currancy_copy  [\"Euro\"] = 0.081\n",
        "print (f\"original :{currency}\")\n",
        "print (f\"copy  : {currancy_copy }\")\n",
        "\n",
        "# modify the primitive datatype value in the new dictionary\n",
        "currency [\"Pound\"] = [9]\n",
        "print (f\"\\noriginal :{currency}\")\n",
        "print (f\"copy  : {currancy_copy}\")\n",
        "\n",
        "# modify the list or user defined object value in the new dictionary\n",
        "currancy_copy [\"Pound\"].append(0.078)\n",
        "print (f\"\\noriginal :{currency}\")\n",
        "print (f\"copy  : {currancy_copy }\")"
      ],
      "metadata": {
        "id": "bOBe68gPkyi_"
      },
      "execution_count": null,
      "outputs": []
    },
    {
      "cell_type": "code",
      "source": [
        "currency = {'Pound': [0.091, 0.087], 'Euro': 0.093, 'Usd': 0.121}\n",
        "\n",
        "# create a copy of the dictionary\n",
        "deepCopycurrency = copy.deepcopy(currency)\n",
        "\n",
        "# modify the list or user defined object value in the new dictionary\n",
        "deepCopycurrency[\"Pound\"].append(0.078)\n",
        "print (f\"\\noriginal :{currency}\")\n",
        "print (f\"copy  : {deepCopycurrency}\")"
      ],
      "metadata": {
        "id": "87NvHVLboNTp"
      },
      "execution_count": null,
      "outputs": []
    },
    {
      "cell_type": "markdown",
      "source": [
        "**Assignment 11**\n",
        "Make two copies of the dictionary\n",
        "1. a independent copy<br>\n",
        "2. a dependent copy"
      ],
      "metadata": {
        "id": "yffLBEpn_pDi"
      }
    },
    {
      "cell_type": "code",
      "source": [
        "states={\"alabama\":\"montgomery\",\n",
        "        \"alaska\":\"juneau\",\n",
        "        \"colorado\":\"denver\",\n",
        "        \"delaware\":\"dover\",\n",
        "        \"maine\":\"augusta\",\n",
        "        \"mississippi\":\"jackson\",\n",
        "        \"new york\":\"albany\"\n",
        "}"
      ],
      "metadata": {
        "id": "b1nlduAO_pPh"
      },
      "execution_count": null,
      "outputs": []
    },
    {
      "cell_type": "markdown",
      "source": [
        "## Merging Dictionaries"
      ],
      "metadata": {
        "id": "u4__DgtuxY-G"
      }
    },
    {
      "cell_type": "code",
      "source": [
        "currency_1 = {'Pound': 0.091, 'Euro': 0.093, 'Usd': 0.121}\n",
        "currency_2 = {'Pound': 0.083, 'Afghani': 9.12, 'Romanian_Leu': 2.08}\n",
        "\n",
        "currency = currency_1 | currency_2\n",
        "print(currency)"
      ],
      "metadata": {
        "id": "eecf_wdixZKn"
      },
      "execution_count": null,
      "outputs": []
    },
    {
      "cell_type": "markdown",
      "source": [
        "**Assignment 12**<br>\n",
        "1. Create two dictionaries<br>\n",
        "2. Merge the two dictionaries into one"
      ],
      "metadata": {
        "id": "IMrEvcpE_6tX"
      }
    },
    {
      "cell_type": "code",
      "source": [
        "#Assigbment 12"
      ],
      "metadata": {
        "id": "FoqbZyp1AD2y"
      },
      "execution_count": null,
      "outputs": []
    },
    {
      "cell_type": "markdown",
      "source": [
        "## Sorting Dictionaries"
      ],
      "metadata": {
        "id": "2kNriwMN2ebT"
      }
    },
    {
      "cell_type": "markdown",
      "source": [
        "**Sort by key**"
      ],
      "metadata": {
        "id": "ahmUIshK4mLp"
      }
    },
    {
      "cell_type": "code",
      "source": [
        "import collections\n",
        "\n",
        "# sort a dictionary by key\n",
        "currency = {'Pound': 0.087, 'Euro': 0.09, 'Usd': 0.12, 'Bangladeshi_Taka': 10.0,\n",
        "            'Afghani': 9.12, 'Romanian_leu': 2.08, 'Quatari_rial': 2.34,\n",
        "            'Somali_Shilling': 0.01, 'Serbian_Dinar': 0.08}\n",
        "\n",
        "print(f\"Sorted on key:{sorted(currency.items())}\")\n",
        "print(f\"Resverse sorted:{sorted(currency.items(), reverse = True)}\")"
      ],
      "metadata": {
        "id": "zg0kgCdn4DBG"
      },
      "execution_count": null,
      "outputs": []
    },
    {
      "cell_type": "markdown",
      "source": [
        "**Sort by value**"
      ],
      "metadata": {
        "id": "sIJGNNH34oW8"
      }
    },
    {
      "cell_type": "code",
      "source": [
        "sorted_currency = {k: v for k, v in sorted(currency.items(), key=lambda item: item[1])}\n",
        "\n",
        "reversed_sorted_currency = {k: v for k, v in sorted(currency.items(), key=lambda item: item[1], reverse = True)}\n",
        "\n",
        "print(f\"\\noriginal                :{currency}\")\n",
        "print(f\"sorted by value         :{sorted_currency}\")\n",
        "print(f\"reversed sorted by value:{reversed_sorted_currency}\")"
      ],
      "metadata": {
        "id": "QRIkMcKk2elN"
      },
      "execution_count": null,
      "outputs": []
    },
    {
      "cell_type": "markdown",
      "source": [
        "**Assignment 13**<br>\n",
        "Given the dictionary shown below<br>\n",
        "1. Sort on the keys\n",
        "2. Sort on the value"
      ],
      "metadata": {
        "id": "GrOL7Hc3AHhy"
      }
    },
    {
      "cell_type": "code",
      "source": [
        "#Assignment 13\n",
        "states={\"alabama\":\"montgomery\",\n",
        "        \"alaska\":\"juneau\",\n",
        "        \"colorado\":\"denver\",\n",
        "        \"delaware\":\"dover\",\n",
        "        \"maine\":\"augusta\",\n",
        "        \"mississippi\":\"jackson\",\n",
        "        \"new york\":\"albany\",\n",
        "        \"utah\":\"salt lake city\",\n",
        "        \"south dakota\":\"pierre\",\n",
        "        \"ohio\":\"columbus\",\n",
        "        \"maryland\":\"anapolis\",\n",
        "        \"florida\":\"tallahassee\",\n",
        "        \"wisconsin\":\"madison\"\n",
        "}"
      ],
      "metadata": {
        "id": "s-EZTN4nAKbc"
      },
      "execution_count": null,
      "outputs": []
    },
    {
      "cell_type": "markdown",
      "source": [
        "## Looping through a dictionary"
      ],
      "metadata": {
        "id": "6hCk_4wf8Hp_"
      }
    },
    {
      "cell_type": "markdown",
      "source": [
        "**Loop using values**"
      ],
      "metadata": {
        "id": "smikRq6f8eED"
      }
    },
    {
      "cell_type": "code",
      "source": [
        "currency = {'Pound': 0.08, 'Euro': 0.09, 'Usd': 0.12}\n",
        "\n",
        "# iterating using .values()\n",
        "for value in currency.values():\n",
        "    print(value)"
      ],
      "metadata": {
        "id": "tqHzGzh88eN4"
      },
      "execution_count": null,
      "outputs": []
    },
    {
      "cell_type": "markdown",
      "source": [
        "**Loop using keys**"
      ],
      "metadata": {
        "id": "SiZR-fEM8pn_"
      }
    },
    {
      "cell_type": "code",
      "source": [
        "# iterating using .keys()\n",
        "for key in currency.keys():\n",
        "    print(key)"
      ],
      "metadata": {
        "id": "Xfw9ajxb8pxh"
      },
      "execution_count": null,
      "outputs": []
    },
    {
      "cell_type": "code",
      "source": [
        "# iterating using  keys directly\n",
        "for key in currency:\n",
        "    print(key)"
      ],
      "metadata": {
        "id": "fYqqaESA9Hvn"
      },
      "execution_count": null,
      "outputs": []
    },
    {
      "cell_type": "markdown",
      "source": [
        "**Looping using items**"
      ],
      "metadata": {
        "id": "QPeKNwPg9AYz"
      }
    },
    {
      "cell_type": "code",
      "source": [
        "# iterating using .items()\n",
        "for key, value in currency.items():\n",
        "    print('Key:' + str(key) + ', Value :' + str(value))"
      ],
      "metadata": {
        "id": "8mp7v2yE9Ait"
      },
      "execution_count": null,
      "outputs": []
    },
    {
      "cell_type": "markdown",
      "source": [
        "**Loop using compresions**"
      ],
      "metadata": {
        "id": "w-Fh9lbm9OCx"
      }
    },
    {
      "cell_type": "code",
      "source": [
        "# iterating using dicctionary comprehensions\n",
        "print( {(key,val) for key, val in currency.items()})"
      ],
      "metadata": {
        "id": "03VOt8ru8Osh"
      },
      "execution_count": null,
      "outputs": []
    },
    {
      "cell_type": "markdown",
      "source": [
        "**Assignment 14**<br>\n",
        "Using the dictionary shown below<BR>\n",
        "1. count the number of letters in the city\n",
        "2. count the number of letters in the state\n",
        "3. Rank in ascending order the number of letters in the state."
      ],
      "metadata": {
        "id": "jWXS7qshBqvm"
      }
    },
    {
      "cell_type": "code",
      "source": [
        "#Assignment 14\n",
        "#a for loop is not required\n",
        "#Example of sorting\n",
        "currency = {'Pound': 0.087, 'Euro': 0.09, 'Usd': 0.12, 'Bangladeshi_Taka': 10.0,\n",
        "            'Afghani': 9.12, 'Romanian_leu': 2.08, 'Quatari_rial': 2.34,\n",
        "            'Somali_Shilling': 0.01, 'Serbian_Dinar': 0.08}\n",
        "\n",
        "print(f\"Sorted on key:{sorted(currency.items())}\")\n",
        "#---------------\n",
        "states={\"alabama\":\"montgomery\",\n",
        "        \"alaska\":\"juneau\",\n",
        "        \"colorado\":\"denver\",\n",
        "        \"delaware\":\"dover\",\n",
        "        \"maine\":\"augusta\",\n",
        "        \"mississippi\":\"jackson\",\n",
        "        \"new york\":\"albany\",\n",
        "        \"utah\":\"salt lake city\",\n",
        "        \"south dakota\":\"pierre\",\n",
        "        \"ohio\":\"columbus\",\n",
        "        \"maryland\":\"anapolis\",\n",
        "        \"florida\":\"tallahassee\",\n",
        "        \"wisconsin\":\"madison\"\n",
        "}"
      ],
      "metadata": {
        "id": "CEGymDhEBq67"
      },
      "execution_count": null,
      "outputs": []
    },
    {
      "cell_type": "code",
      "source": [
        "# @title\n",
        "for key,value in states.items():\n",
        "  print(\"Letters in city:\",value,len(value),\"and in state:\",key,len(key))\n",
        "\n",
        "print(\"Sorted by state length\",sorted(states,key=len))"
      ],
      "metadata": {
        "cellView": "form",
        "id": "o_NtBC7JmQ_D"
      },
      "execution_count": null,
      "outputs": []
    },
    {
      "cell_type": "markdown",
      "source": [
        "## Dictionary builtin functions"
      ],
      "metadata": {
        "id": "ggav-gnJkbdU"
      }
    },
    {
      "cell_type": "markdown",
      "source": [
        "- popitem(): Remove the last item from the dictionary<br>\n",
        "- pop(key, defaultvalue): Removes and returns an element from a dictionary for the given key\n",
        "- keys(): Return the keys\n",
        "- values(): Return the values\n",
        "- items(): Return the dictionary’s key-value pairs\n",
        "- get(key[, value]): Returns the value for the specified key if the key is in a dictionary\n",
        "- fromkeys(keys, value): Returns a dictionary with the specified keys and the specified value\n",
        "- setdefault(key, value): Returns the value of the item with the specified key. If the key does not exist, inserts the key with the specified value\n",
        "- update(iterable): Inserts the specified items to the dictionary if the key is not in the dictionary, otherwise it updates the value\n",
        "- copy(): Returns a shallow copy of the dictionary\n",
        "- clear(): Removes all items from the dictionary\n"
      ],
      "metadata": {
        "id": "Dm6wdzybkgyd"
      }
    },
    {
      "cell_type": "markdown",
      "source": [
        "# Sets<br>\n",
        "\n",
        "The Python sets are highly useful to efficiently remove duplicate values from a collection like a list and to perform common math operations like unions and intersections."
      ],
      "metadata": {
        "id": "bVeeyKT7xQws"
      }
    },
    {
      "cell_type": "markdown",
      "source": [
        "A set is a collection of unique data. That is, elements of a set cannot be duplicates<br>\n",
        "\n",
        "## To create a set:<br>\n",
        ">set_name={element1, element 2,...,elementN}\n",
        "\n",
        "\n",
        "\n"
      ],
      "metadata": {
        "id": "S3a3uM9HxmB7"
      }
    },
    {
      "cell_type": "markdown",
      "source": [
        "Note: When you run this code, you might get output in a different order.<br>\n",
        "\n",
        "This is because the set has no particular order."
      ],
      "metadata": {
        "id": "wz-a8pNpzFX9"
      }
    },
    {
      "cell_type": "code",
      "source": [
        "#Strings\n",
        "student={\"abby\",\"barry\",\"clio\",\"danny\"}\n",
        "print(student)"
      ],
      "metadata": {
        "id": "f5CfQQ2kxyTi"
      },
      "execution_count": null,
      "outputs": []
    },
    {
      "cell_type": "code",
      "source": [
        "#numbers\n",
        "student_id={1,2,3,4}\n",
        "print(student_id)"
      ],
      "metadata": {
        "id": "YhQd2zVCym2n"
      },
      "execution_count": null,
      "outputs": []
    },
    {
      "cell_type": "code",
      "source": [
        "#mixed\n",
        "student_major={\"Art\",123,4.34}\n",
        "print(student_major)"
      ],
      "metadata": {
        "id": "SjBEkfIMysNs"
      },
      "execution_count": null,
      "outputs": []
    },
    {
      "cell_type": "markdown",
      "source": [
        "**Assignment #1**<br>\n",
        "1. Create a set of at least 10 elements\n",
        "2. Print out the set"
      ],
      "metadata": {
        "id": "Mln_HV4yzJ9Y"
      }
    },
    {
      "cell_type": "code",
      "source": [
        "#Assignment 1"
      ],
      "metadata": {
        "id": "MJAFdBOtzSL2"
      },
      "execution_count": null,
      "outputs": []
    },
    {
      "cell_type": "markdown",
      "source": [
        "## Sets with duplicates<br>\n",
        "Notice only of the two \"abby\" elements is listed"
      ],
      "metadata": {
        "id": "MfyvAat5zYw-"
      }
    },
    {
      "cell_type": "code",
      "source": [
        "student={\"abby\",\"barry\",\"clio\",\"danny\",\"abby\"}\n",
        "print(student)"
      ],
      "metadata": {
        "id": "Nhj6mj-tzbfb"
      },
      "execution_count": null,
      "outputs": []
    },
    {
      "cell_type": "markdown",
      "source": [
        "## Create an empty set<br>"
      ],
      "metadata": {
        "id": "_lQCUheEzuc5"
      }
    },
    {
      "cell_type": "code",
      "source": [
        "student_address=set()\n",
        "print(student_address)"
      ],
      "metadata": {
        "id": "E2TpS-dezuoF"
      },
      "execution_count": null,
      "outputs": []
    },
    {
      "cell_type": "markdown",
      "source": [
        "**Assignment 2**<br>\n",
        "Create an empty set<br>\n",
        "Create an empty dictionary<br>\n",
        "Create an empty list<br>\n",
        "\n",
        "Print out each data structure and its type"
      ],
      "metadata": {
        "id": "cmA61ph5z5C6"
      }
    },
    {
      "cell_type": "code",
      "source": [
        "#Assignment 2"
      ],
      "metadata": {
        "id": "fA545bA10M62"
      },
      "execution_count": null,
      "outputs": []
    },
    {
      "cell_type": "markdown",
      "source": [
        "##Adding elements to a set"
      ],
      "metadata": {
        "id": "wKSHeLtl1FQc"
      }
    },
    {
      "cell_type": "code",
      "source": [
        "student_address={\"112 main st\", \"34 high st\", \"56 washington st\"}\n",
        "print(f\"Address: {student_address}\")\n",
        "\n",
        "student_address.add(\"114 main st\")\n",
        "print(f\"Address: {student_address}\")\n",
        "\n",
        "student_address.add(\"56 washington st\")\n",
        "print(f\"Address: {student_address}\")"
      ],
      "metadata": {
        "id": "u9aAw8-p1Irx"
      },
      "execution_count": null,
      "outputs": []
    },
    {
      "cell_type": "markdown",
      "source": [
        "**Assignment 3**<br>\n",
        "Create a set of at least 10 elements<br>\n",
        "Add two more elements to the set<br>\n",
        "Add a duplicate element to the set"
      ],
      "metadata": {
        "id": "VowvmAJB191d"
      }
    },
    {
      "cell_type": "code",
      "source": [
        "#Assignment 3"
      ],
      "metadata": {
        "id": "WNVvvuhF2J1O"
      },
      "execution_count": null,
      "outputs": []
    },
    {
      "cell_type": "markdown",
      "source": [
        "## Updating a set"
      ],
      "metadata": {
        "id": "HEha56KJ2LeK"
      }
    },
    {
      "cell_type": "markdown",
      "source": [
        "To add values to a set trt are from other collection types, use update"
      ],
      "metadata": {
        "id": "unjvz-Pu2SPU"
      }
    },
    {
      "cell_type": "markdown",
      "source": [
        "**Add list**"
      ],
      "metadata": {
        "id": "k8hKQpt73M-D"
      }
    },
    {
      "cell_type": "code",
      "source": [
        "animals={\"dog\",\"cat\",\"mole\",\"owl\"}\n",
        "list_of_animals=[\"mouse\", \"fish\",\"fish\", \" fish\",\"elephant\",\"sloth\"]\n",
        "animals.update(list_of_animals)\n",
        "print(animals)"
      ],
      "metadata": {
        "id": "n6AWNQin2ctb"
      },
      "execution_count": null,
      "outputs": []
    },
    {
      "cell_type": "markdown",
      "source": [
        "**Add tuple**"
      ],
      "metadata": {
        "id": "MTKcW5gD3PE-"
      }
    },
    {
      "cell_type": "code",
      "source": [
        "animals={\"dog\",\"cat\",\"mole\",\"owl\"}\n",
        "tuple_of_animals=(\"mouse\", \"fish\",\"fish\", \" fish\",\"elephant\",\"sloth\")\n",
        "animals.update(tuple_of_animals)\n",
        "print(animals)"
      ],
      "metadata": {
        "id": "f0PM6-M83AbN"
      },
      "execution_count": null,
      "outputs": []
    },
    {
      "cell_type": "markdown",
      "source": [
        "Notice in the above printouts, there are two fish in the set. Why?"
      ],
      "metadata": {
        "id": "d4ALPEht25Nm"
      }
    },
    {
      "cell_type": "markdown",
      "source": [
        "**Add set**"
      ],
      "metadata": {
        "id": "r5vnNGte3SEq"
      }
    },
    {
      "cell_type": "code",
      "source": [
        "animals={\"dog\",\"cat\",\"mole\",\"owl\"}\n",
        "set_of_animals={\"mouse\", \"fish\",\"elephant\",\"sloth\"}\n",
        "animals.update(set_of_animals)\n",
        "print(animals)"
      ],
      "metadata": {
        "id": "BK5NxdFx3VFx"
      },
      "execution_count": null,
      "outputs": []
    },
    {
      "cell_type": "markdown",
      "source": [
        "**Assignment 4**<br>\n",
        "Create a set<br>\n",
        "Add a list to the set<br>\n",
        "Add a tuple to the set<br>\n",
        "Add a dictonary to the set<br>\n",
        "Add a set to the set"
      ],
      "metadata": {
        "id": "YJbMCHK930Wr"
      }
    },
    {
      "cell_type": "code",
      "source": [
        "#Assignment 4\n"
      ],
      "metadata": {
        "id": "GeomcZkI4AtG"
      },
      "execution_count": null,
      "outputs": []
    },
    {
      "cell_type": "markdown",
      "source": [
        "## Remove elements from a set<br>\n",
        "\n",
        "Use discard to remove elements from a set"
      ],
      "metadata": {
        "id": "781WJdfQ4MIp"
      }
    },
    {
      "cell_type": "code",
      "source": [
        "enrollment={\"John\",\"Hari\",\"Carlos\",\"Camila\",\"Eli\"}\n",
        "print(enrollment)\n",
        "enrollment.discard(\"John\")\n",
        "print(enrollment)"
      ],
      "metadata": {
        "id": "d6_U32FJ4MU6"
      },
      "execution_count": null,
      "outputs": []
    },
    {
      "cell_type": "markdown",
      "source": [
        "## Built-in Functions of sets<br>\n",
        "<br>\n",
        "\n",
        "**all()**\tReturns True if all elements of the set are true (or if the set is empty).<br>\n",
        "\n",
        "**any()**\tReturns True if any element of the set is true. If the set is empty, returns False.<br>\n",
        "\n",
        "**enumerate()**\tReturns an enumerate object. It contains the index and value for all the items of the set as a pair.<br>\n",
        "\n",
        "**len(**)\tReturns the length (the number of items) in the set.<br>\n",
        "\n",
        "**max()**\tReturns the largest item in the set.<br>\n",
        "\n",
        "**min()**\tReturns the smallest item in the set.<br>\n",
        "\n",
        "**sorted()**\tReturns a new sorted list from elements in the set(does not sort the set itself).<br>\n",
        "\n",
        "**sum()**\tReturns the sum of all elements in the set.<br>\n"
      ],
      "metadata": {
        "id": "jMD1kDdq43rh"
      }
    },
    {
      "cell_type": "markdown",
      "source": [
        "**Asignment 5**<br>\n",
        "\n",
        "Use each of the built-in functions on the sets shown below"
      ],
      "metadata": {
        "id": "BaMzvxzl5yi2"
      }
    },
    {
      "cell_type": "code",
      "source": [],
      "metadata": {
        "id": "ltyaNu_X48G1"
      },
      "execution_count": null,
      "outputs": []
    },
    {
      "cell_type": "code",
      "source": [
        "# @title\n",
        "#Thanks to Andres Gonzalez\n",
        "set1={2,4,6,8,10}\n",
        "set2={\"Tiger\",\"bat\",\"aardvark\",\"Zebra\"}\n",
        "set3={3,4.3,\"4.3\",\"3\"}\n",
        "set4={True,False,True,False}\n",
        "set5={5>4,6>7,88>99}\n",
        "\n",
        "print(all(set1))\n",
        "print(any(set2))\n",
        "print(enumerate(set2))\n",
        "print(len(set4))\n",
        "print(\"max\",max(set2))\n",
        "print(min(set2))\n",
        "print(sorted(set4))\n",
        "print(sum(set1))\n",
        "print(set5)"
      ],
      "metadata": {
        "cellView": "form",
        "id": "Z90vsYestZRY"
      },
      "execution_count": null,
      "outputs": []
    },
    {
      "cell_type": "markdown",
      "source": [
        "**Assignment 6**<br>\n",
        "1.Ask the user to enter a value<br>\n",
        "2.Add the value to a set<br>\n",
        "3.Ask the user for 4 more values and add them to a set<br>\n",
        "4.Go thorugh the set, if the value is a string-remove it from the set<br>\n",
        "5.If the value is a float, round to the nearest integer\n",
        "6. print out the set\n",
        "\n",
        "\n"
      ],
      "metadata": {
        "id": "2p4pX96s68Mb"
      }
    },
    {
      "cell_type": "code",
      "source": [],
      "metadata": {
        "id": "HOUmhCXb7OeK"
      },
      "execution_count": null,
      "outputs": []
    },
    {
      "cell_type": "markdown",
      "source": [
        "## Set Operations"
      ],
      "metadata": {
        "id": "j-oDtbotJeRQ"
      }
    },
    {
      "cell_type": "markdown",
      "source": [
        "### Union<br>\n",
        "The union of two sets A and B include all the elements of set A and B.<br>\n",
        "\n",
        "Use the | operator or the union() method to perform the set union operation"
      ],
      "metadata": {
        "id": "Bekgbbt_JjxQ"
      }
    },
    {
      "cell_type": "code",
      "source": [
        "set_a={1,2,3,4}\n",
        "set_b={\"A\",\"B\",\"C\",\"D\"}\n",
        "\n",
        "#Using the | symbol\n",
        "union_a_b=set_a |set_b\n",
        "print(union_a_b)\n",
        "\n",
        "#Using the union function\n",
        "set\n",
        "union_a_b= set_a.union(set_b)\n",
        "print(union_a_b)"
      ],
      "metadata": {
        "id": "Q7wZOEJcJedQ"
      },
      "execution_count": null,
      "outputs": []
    },
    {
      "cell_type": "markdown",
      "source": [
        "### Set Intersection<br>\n",
        "\n",
        "The intersection of two sets A and B include the common elements between set A and B.<br>\n",
        "\n",
        "Use the & operator or the intersection() method to perform the set intersection operation."
      ],
      "metadata": {
        "id": "ZtTgidahQVxC"
      }
    },
    {
      "cell_type": "code",
      "source": [
        "set_a={1,2,3,4,5}\n",
        "set_b={\"A\",\"B\",\"C\",\"D\",5}\n",
        "\n",
        "#Using the & symbol\n",
        "intersection_a_b=set_a & set_b\n",
        "print(intersection_a_b)\n",
        "\n",
        "#Using the intersection function\n",
        "set\n",
        "union_a_b= set_a.intersection(set_b)\n",
        "print(intersection_a_b)"
      ],
      "metadata": {
        "id": "kGCHIR11QV7x"
      },
      "execution_count": null,
      "outputs": []
    },
    {
      "cell_type": "markdown",
      "source": [
        "### Difference between Two Sets<br>\n",
        "The difference between two sets A and B include elements of set A that are not present on set B.<br>\n",
        "\n",
        "Use the - operator or the difference() method to perform the difference between two sets"
      ],
      "metadata": {
        "id": "XUT21YhQRReO"
      }
    },
    {
      "cell_type": "code",
      "source": [
        "set_a={1,2,3,4,5}\n",
        "set_b={\"A\",\"B\",\"C\",\"D\",5}\n",
        "\n",
        "#Using the - symbol\n",
        "difference_a_b= set_a - set_b\n",
        "print(difference_a_b)\n",
        "\n",
        "#Using the intersection function\n",
        "set\n",
        "difference_a_b= set_a.difference(set_b)\n",
        "print(difference_a_b)"
      ],
      "metadata": {
        "id": "h8uH29fwRRtF"
      },
      "execution_count": null,
      "outputs": []
    },
    {
      "cell_type": "markdown",
      "source": [
        "### The symmetric difference <br>\n",
        "Symmetric difference between two sets A and B includes all elements of A and B without the common elements.<br>\n",
        "\n",
        "use the ^ operator or the symmetric_difference() method to perform symmetric difference between two sets.\n"
      ],
      "metadata": {
        "id": "bljzUX2VSmy2"
      }
    },
    {
      "cell_type": "code",
      "source": [
        "set_a={1,2,3,4,5}\n",
        "set_b={\"A\",\"B\",\"C\",\"D\",5}\n",
        "\n",
        "#Using the ^ symbol\n",
        "sym_a_b= set_a ^ set_b\n",
        "print(sym_a_b)\n",
        "\n",
        "#Using the symmetric_difference function\n",
        "set\n",
        "sym_a_b= set_a.symmetric_difference(set_b)\n",
        "print(sym_a_b)"
      ],
      "metadata": {
        "id": "bW5bIbkrSm9U"
      },
      "execution_count": null,
      "outputs": []
    },
    {
      "cell_type": "markdown",
      "source": [
        "### Check for equality of sets\n",
        "\n",
        " Use the == operator to check whether two sets are equal"
      ],
      "metadata": {
        "id": "hypzVv9nZDai"
      }
    },
    {
      "cell_type": "code",
      "source": [
        "set_a={1,2,3,4,5}\n",
        "set_b={\"A\",\"B\",\"C\",\"D\",5}\n",
        "\n",
        "#Using the == symbol\n",
        "sym_a_b= set_a == set_b\n",
        "print(sym_a_b)"
      ],
      "metadata": {
        "id": "I7EBf2uwZDmP"
      },
      "execution_count": null,
      "outputs": []
    },
    {
      "cell_type": "markdown",
      "source": [
        "**Assignment 7**\n",
        "\n",
        "Given:\n",
        "set_a={1,2,3,4,5,6,7,8,9}<br>\n",
        "set_b={2,4,6,8,10,12,14}<br>\n",
        "set_c={1,3,5,7,9}<br>\n",
        "\n",
        "Given: ^,&,|,-,==\n",
        "\n",
        "Given: ()\n",
        "\n",
        "Write functions to find the following sets\n"
      ],
      "metadata": {
        "id": "_kx0SvQbZaNh"
      }
    },
    {
      "cell_type": "code",
      "source": [
        "set_a={1,2,3,4,5,6,7,8,9}\n",
        "set_b={2,4,6,8,10,12,14}\n",
        "set_c={1,3,5,7,9,11,13,15}\n",
        "set_d={2,4,6}"
      ],
      "metadata": {
        "id": "x69TJSm9ZagS"
      },
      "execution_count": null,
      "outputs": []
    },
    {
      "cell_type": "code",
      "source": [
        "#Example\n",
        "ss=(set_a|set_b) | (set_c|set_d)\n",
        "print(ss)"
      ],
      "metadata": {
        "id": "6_9qF-NvZ2t5"
      },
      "execution_count": null,
      "outputs": []
    },
    {
      "cell_type": "code",
      "source": [
        "#Find False\n",
        "\n",
        "print(ss)"
      ],
      "metadata": {
        "id": "V5WJYCyqbLHy"
      },
      "execution_count": null,
      "outputs": []
    },
    {
      "cell_type": "code",
      "source": [
        "#Find True\n",
        "ss=\n",
        "print(ss)"
      ],
      "metadata": {
        "id": "rfBVGOP_bRug"
      },
      "execution_count": null,
      "outputs": []
    },
    {
      "cell_type": "code",
      "source": [
        "#Find {10, 11, 12, 13, 14, 15}\n",
        "ss=\n",
        "print(ss)"
      ],
      "metadata": {
        "id": "k7AqqyAeaOn0"
      },
      "execution_count": null,
      "outputs": []
    },
    {
      "cell_type": "code",
      "source": [
        "#Find {10, 12, 14}\n",
        "ss=\n",
        "print(ss)"
      ],
      "metadata": {
        "id": "5HftDKnUagqm"
      },
      "execution_count": null,
      "outputs": []
    },
    {
      "cell_type": "code",
      "source": [
        "#Find {1, 3, 5, 7, 9}\n",
        "ss=\n",
        "print(ss)"
      ],
      "metadata": {
        "id": "Ln6x2vJbarlG"
      },
      "execution_count": null,
      "outputs": []
    },
    {
      "cell_type": "code",
      "source": [
        "#Find set()\n",
        "ss=\n",
        "print(ss)"
      ],
      "metadata": {
        "id": "EWAGAaBAavT5"
      },
      "execution_count": null,
      "outputs": []
    },
    {
      "cell_type": "code",
      "source": [
        "#Find {1, 3, 5, 7, 9, 10, 12, 14}\n",
        "ss=\n",
        "print(ss)"
      ],
      "metadata": {
        "id": "4vmHyAvIa3Ch"
      },
      "execution_count": null,
      "outputs": []
    },
    {
      "cell_type": "code",
      "source": [
        "#Find {8, 2, 4, 6}\n",
        "ss=\n",
        "print(ss)"
      ],
      "metadata": {
        "id": "2wp0N7VsbtQr"
      },
      "execution_count": null,
      "outputs": []
    },
    {
      "cell_type": "code",
      "source": [
        "#Find {8}\n",
        "set_d={2,4,6}\n",
        "ss=\n",
        "print(ss)"
      ],
      "metadata": {
        "id": "dK8T9Y59cCje"
      },
      "execution_count": null,
      "outputs": []
    },
    {
      "cell_type": "code",
      "source": [
        "#Find {2, 4, 6}\n",
        "ss=\n",
        "print(ss)"
      ],
      "metadata": {
        "id": "bnGCKWU5clXk"
      },
      "execution_count": null,
      "outputs": []
    }
  ]
}