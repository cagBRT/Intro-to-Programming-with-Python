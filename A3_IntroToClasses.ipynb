{
  "nbformat": 4,
  "nbformat_minor": 0,
  "metadata": {
    "colab": {
      "name": "A3 IntroToClasses.ipynb",
      "private_outputs": true,
      "provenance": [],
      "authorship_tag": "ABX9TyMiNv8cGcOti1Kd+7MOw25a",
      "include_colab_link": true
    },
    "kernelspec": {
      "name": "python3",
      "display_name": "Python 3"
    },
    "language_info": {
      "name": "python"
    }
  },
  "cells": [
    {
      "cell_type": "markdown",
      "metadata": {
        "id": "view-in-github",
        "colab_type": "text"
      },
      "source": [
        "<a href=\"https://colab.research.google.com/github/cagBRT/Intro-to-Programming-with-Python/blob/master/A3_IntroToClasses.ipynb\" target=\"_parent\"><img src=\"https://colab.research.google.com/assets/colab-badge.svg\" alt=\"Open In Colab\"/></a>"
      ]
    },
    {
      "cell_type": "code",
      "metadata": {
        "id": "PEsxZYhJltDp"
      },
      "source": [
        "# Clone the entire repo.\n",
        "!git clone -l -s https://github.com/cagBRT/Intro-to-Programming-with-Python.git cloned-repo\n",
        "%cd /content/cloned-repo/advanced_content"
      ],
      "execution_count": null,
      "outputs": []
    },
    {
      "cell_type": "code",
      "metadata": {
        "id": "ku3YeL5Dl4Hs"
      },
      "source": [
        "from IPython.display import Image\n",
        "def page(num):\n",
        "    return Image(\"classes\"+str(num)+ \".png\" , width=640)\n"
      ],
      "execution_count": null,
      "outputs": []
    },
    {
      "cell_type": "markdown",
      "metadata": {
        "id": "rtRDlTOVcfP5"
      },
      "source": [
        "# **Introduction to Object Oriented Programming**"
      ]
    },
    {
      "cell_type": "markdown",
      "metadata": {
        "id": "G2jjv8cygJKH"
      },
      "source": [
        "**Question**: <br>\n",
        "How would you structure the following information?<br>\n",
        ">Car1<br>\n",
        ">>Make: Toyota<br>\n",
        "Model: Rav4<br>\n",
        "Style: 4 door<br>\n",
        "Color: Silver<br>\n",
        "\n",
        "\n",
        ">Car2<br>\n",
        ">>Make: Toyota<br>\n",
        "Model: Rav4-electric<br>\n",
        "Style: 4 door<br>\n",
        "Color: Grey<br>\n",
        "\n",
        ">Car3<br>\n",
        ">>Make: Toyota<br>\n",
        "Model: Rav4<br>\n",
        "Style: 4 door<br>\n",
        "Color: Green<br>\n",
        "\n",
        ">Car4<br>\n",
        ">>Make: Toyota<br>\n",
        "Model: Rav4<br>\n",
        "Style: 2 door<br>\n",
        "Color: Grey<br>"
      ]
    },
    {
      "cell_type": "markdown",
      "metadata": {
        "id": "d3VPIup-mR-j"
      },
      "source": [
        "We could make a list of lists...."
      ]
    },
    {
      "cell_type": "code",
      "metadata": {
        "id": "YzBeIPtqgv-K"
      },
      "source": [
        "cars=[[\"toyota\",\"rav4\",\"4 door\",\"silver\"],[\"toyota\",\"rav4-electric\",\"4 door\",\"grey\"],\n",
        "      [\"toyota\",\"rav4\",\"4 door\",\"green\"],[\"toyota\",\"rav4\",\"2 door\",\"silver\"]]\n",
        "cars"
      ],
      "execution_count": null,
      "outputs": []
    },
    {
      "cell_type": "markdown",
      "metadata": {
        "id": "6O2g1ZHRhPv5"
      },
      "source": [
        "**Assignment 1**<br>\n",
        "1. Add another car to the list\n",
        "2. Change the color of the first car to green\n",
        "3. Change the car2 to a rav4-ex"
      ]
    },
    {
      "cell_type": "code",
      "metadata": {
        "id": "-UGQOJSNj-Zg"
      },
      "source": [
        "#Assignment 1"
      ],
      "execution_count": null,
      "outputs": []
    },
    {
      "cell_type": "markdown",
      "metadata": {
        "id": "plCQXEHUj9ei"
      },
      "source": [
        "Wouldn't it be nice be able to treat each car as an individual? <br>\n",
        "Where all the data was part of the car?<br>\n",
        "And we could change it as necessary?"
      ]
    },
    {
      "cell_type": "markdown",
      "metadata": {
        "id": "iv69iHchkUih"
      },
      "source": [
        "Well, we can. <br>\n",
        "We can use OOP."
      ]
    },
    {
      "cell_type": "markdown",
      "metadata": {
        "id": "oOaTmT_OctFk"
      },
      "source": [
        "Object oriented programming (OOP) is a programming model that organizes software design based on objects. <br>\n",
        "\n",
        "The objects are defined with classes, which contain the object and data and functions associated with the object."
      ]
    },
    {
      "cell_type": "markdown",
      "metadata": {
        "id": "r5d2W3sOmXs0"
      },
      "source": [
        "We can make an object called cars <br>\n",
        "Then store all the information about each car into each car object. <br>\n",
        "The treat each object as an individual datapoint."
      ]
    },
    {
      "cell_type": "code",
      "metadata": {
        "id": "izw-LmqMhPC1"
      },
      "source": [
        "Image(\"classes.png\")"
      ],
      "execution_count": null,
      "outputs": []
    },
    {
      "cell_type": "code",
      "metadata": {
        "cellView": "form",
        "id": "vX422cy-pzGM"
      },
      "source": [
        "#@title Cars Class\n",
        "class Cars:\n",
        "  \"class for cars\"\n",
        "  def __init__(self, make, model, style,color ):\n",
        "    self.make=make\n",
        "    self.model=model\n",
        "    self.style=style\n",
        "    self.color=color\n",
        "\n",
        "  def print_info(self):\n",
        "    print(self.make,self.model,self.style,self.color)\n",
        "  def print_make(self):\n",
        "    print(self.make)\n",
        "  def print_make(self):\n",
        "    print(self.make)\n"
      ],
      "execution_count": null,
      "outputs": []
    },
    {
      "cell_type": "code",
      "metadata": {
        "id": "qYjqrwUAsM2J"
      },
      "source": [
        "car1=Cars(\"toyota\",\"rav4\",\"4 door\",\"silver\")\n",
        "car2=Cars(\"toyota\",\"rav4-electric\",\"4 door\",\"grey\")\n",
        "car3=Cars(\"toyota\",\"rav4\",\"4 door\",\"green\")\n",
        "car4=Cars(\"toyota\",\"rav4\",\"2 door\",\"silver\")\n",
        "\n",
        "print(\"car1 color:\", car1.color)\n",
        "print(\"car2 make:\", car1.make)"
      ],
      "execution_count": null,
      "outputs": []
    },
    {
      "cell_type": "markdown",
      "metadata": {
        "id": "_4JL6RYHeCWL"
      },
      "source": [
        "## **Basic Principles of OOP**<br>\n",
        "- **Encapsulation**: each object is defined by a class and maintains a private state within the class. The object and any data related to it can only be modified by the public methods defined within the class.\n",
        "- **Abstraction**: the details associated with each object is hidden until requested. <br>\n",
        "- **Inheritance**: one object can acquire the properties of another object. <br>\n",
        "Similar to a child inheriting a parents hair color or height.\n",
        "- **Polymorphism**: we can treat classes as themselves or as their parent class."
      ]
    },
    {
      "cell_type": "markdown",
      "metadata": {
        "id": "u75rPTRmgnQa"
      },
      "source": [
        "# **Creating a simple class**"
      ]
    },
    {
      "cell_type": "markdown",
      "metadata": {
        "id": "CxZBu5jM1Gjn"
      },
      "source": [
        "**Class constructor**<br>\n",
        "Every time you create an instance of the class, the constructor is called and executed.<br>\n",
        "\n",
        " > #The class constructor<br>\n",
        "  def __init__(self, name):<br>\n",
        "    >>self.name = name"
      ]
    },
    {
      "cell_type": "code",
      "metadata": {
        "id": "OimS_PnQZVj_"
      },
      "source": [
        "class CourseNames:\n",
        "  \"class that prints names\" #optional comment\n",
        "\n",
        "  #The class constructor\n",
        "  #This class has a member called 'name'\n",
        "  def __init__(self, name):\n",
        "    self.name = name"
      ],
      "execution_count": null,
      "outputs": []
    },
    {
      "cell_type": "markdown",
      "metadata": {
        "id": "oyI8CZ4SgrdT"
      },
      "source": [
        "# **Creating instances of the class**\n",
        "When an instance of a class is created, the class constructor is called\n"
      ]
    },
    {
      "cell_type": "code",
      "metadata": {
        "id": "eXmZBOHjf6T1"
      },
      "source": [
        "student1=CourseNames(\"Timmy\")"
      ],
      "execution_count": null,
      "outputs": []
    },
    {
      "cell_type": "markdown",
      "metadata": {
        "id": "eFHvRRtvhQzv"
      },
      "source": [
        "# **Accessing class data**"
      ]
    },
    {
      "cell_type": "code",
      "metadata": {
        "id": "umKw7Vxnf-KR"
      },
      "source": [
        "print(student1.name)"
      ],
      "execution_count": null,
      "outputs": []
    },
    {
      "cell_type": "code",
      "metadata": {
        "id": "odKWVO_rgMu9"
      },
      "source": [
        "student2=CourseNames(\"Lassie\")\n",
        "print(student2.name)"
      ],
      "execution_count": null,
      "outputs": []
    },
    {
      "cell_type": "markdown",
      "metadata": {
        "id": "an0LCdMczSR0"
      },
      "source": [
        "When we create a class, we are actually creating an new type of variable"
      ]
    },
    {
      "cell_type": "code",
      "metadata": {
        "id": "w7FHmozSmbNA"
      },
      "source": [
        "type(student1)"
      ],
      "execution_count": null,
      "outputs": []
    },
    {
      "cell_type": "markdown",
      "metadata": {
        "id": "7293vOIPtix8"
      },
      "source": [
        "**Assignment 1**<br>\n",
        "\n",
        "1. Create 3 more objects of the CourseNames class\n",
        "2. Print each student's information\n",
        "\n",
        "\n"
      ]
    },
    {
      "cell_type": "code",
      "metadata": {
        "id": "kRXv155Mt1B1"
      },
      "source": [
        "#Assignment 1"
      ],
      "execution_count": null,
      "outputs": []
    },
    {
      "cell_type": "markdown",
      "metadata": {
        "id": "X1OkNI3mznES"
      },
      "source": [
        "### **Create a class**\n",
        "Step 1: name the class<br>\n",
        ">class CourseNames:<br>\n",
        "\n",
        "Step 2: optional comment<br>\n",
        ">  \"class that prints names\" #optional comment\n",
        "\n",
        "Step 3: create the class constructor<br>\n",
        ">  #This class has a member called 'name'<br>\n",
        "  def __init__(self, name):<br>\n",
        "    self.name = name<br>\n"
      ]
    },
    {
      "cell_type": "markdown",
      "metadata": {
        "id": "xlV_1ud_gxIP"
      },
      "source": [
        "**Assignment 2**<br>\n",
        "1. Create a class called TeamNames with one member, name\n",
        "2. Create a class constructor\n",
        "3. Then create several instances of the class\n",
        "4. Print the names of each instance\n"
      ]
    },
    {
      "cell_type": "code",
      "metadata": {
        "id": "3mU4sGjTjD6t"
      },
      "source": [
        "#Assignment 2"
      ],
      "execution_count": null,
      "outputs": []
    },
    {
      "cell_type": "markdown",
      "metadata": {
        "id": "KzRBEAS-pZd3"
      },
      "source": [
        "# **Adding attributes to a class**"
      ]
    },
    {
      "cell_type": "markdown",
      "metadata": {
        "id": "5ftpgLgX035n"
      },
      "source": [
        "We can add more than one class member. <br>\n",
        "Just assign them in the constructor. <br>"
      ]
    },
    {
      "cell_type": "code",
      "metadata": {
        "id": "9CXrO31dpeTL"
      },
      "source": [
        "#Add multiple members to a class\n",
        "class StudentInfo:\n",
        "  \"information on students\"\n",
        "  #class suite\n",
        "\n",
        "  #class constructor\n",
        "  def __init__(self, name, studentID, major):\n",
        "    self.name=name\n",
        "    self.studentID=studentID\n",
        "    self.major=major"
      ],
      "execution_count": null,
      "outputs": []
    },
    {
      "cell_type": "code",
      "metadata": {
        "id": "BDfpyuuyqRlq"
      },
      "source": [
        "s1=StudentInfo(\"Bob Smith\", 122032, \"machine learning\")"
      ],
      "execution_count": null,
      "outputs": []
    },
    {
      "cell_type": "code",
      "metadata": {
        "id": "RxuVNMk1rElz"
      },
      "source": [
        "print(s1.name)"
      ],
      "execution_count": null,
      "outputs": []
    },
    {
      "cell_type": "code",
      "metadata": {
        "id": "FfGm66NYs9zI"
      },
      "source": [
        "print(s1.studentID)"
      ],
      "execution_count": null,
      "outputs": []
    },
    {
      "cell_type": "code",
      "metadata": {
        "id": "ME_LS8nQtWZv"
      },
      "source": [
        "print(s1.major)"
      ],
      "execution_count": null,
      "outputs": []
    },
    {
      "cell_type": "markdown",
      "metadata": {
        "id": "tzHHWOVauAmT"
      },
      "source": [
        "**Assignment 3**<br>\n",
        "1. Create 3 more instances of StudentInfo\n",
        "2. Print each of the member values for the instances"
      ]
    },
    {
      "cell_type": "code",
      "metadata": {
        "id": "8l_iwehguWcL"
      },
      "source": [],
      "execution_count": null,
      "outputs": []
    },
    {
      "cell_type": "markdown",
      "metadata": {
        "id": "aLalIoLLubDR"
      },
      "source": [
        "**Assignment 4**<br>\n",
        "1. Create a class called patientInfo\n",
        "2. The class should have 3 members\n",
        "3. Create multiple instances of patientInfo\n",
        "4. Print the members of each instance"
      ]
    },
    {
      "cell_type": "code",
      "metadata": {
        "id": "PlP5-ED7u1Qk"
      },
      "source": [
        "#Assignment 4"
      ],
      "execution_count": null,
      "outputs": []
    },
    {
      "cell_type": "markdown",
      "metadata": {
        "id": "h-_HPGwanLx_"
      },
      "source": [
        "\n",
        "\n",
        "---\n",
        "\n"
      ]
    },
    {
      "cell_type": "markdown",
      "metadata": {
        "id": "wdmd8WHmu_n5"
      },
      "source": [
        "# **Creating Class Methods**"
      ]
    },
    {
      "cell_type": "markdown",
      "metadata": {
        "id": "tvoWmt-64mW9"
      },
      "source": [
        "Class methods are functions that use the class members and are accessible through the class"
      ]
    },
    {
      "cell_type": "code",
      "metadata": {
        "id": "PR-DAbRNvHon"
      },
      "source": [
        "class Favorites:\n",
        "  \"class that tracks user favorites\"\n",
        "  def __init__(self, name, favs):\n",
        "    self.name=name\n",
        "    self.favs=favs\n",
        "\n",
        "  #define class methods\n",
        "  def printInfo(self):\n",
        "    print(self.name,\":\",self.favs)\n",
        "\n",
        "  def printOneFavs(self,index):\n",
        "    print(self.favs[index])\n",
        "\n",
        "  def printAllFavs(self):\n",
        "    print(self.favs)\n",
        "\n",
        "  def printSomeFavs(self, start, stop):\n",
        "    for i in range(start, stop):\n",
        "      print(i, self.favs[i])"
      ],
      "execution_count": null,
      "outputs": []
    },
    {
      "cell_type": "code",
      "metadata": {
        "id": "5FJgqN8tyooH"
      },
      "source": [
        "favorites=[\"cat\", \"dog\", \"eel\", \"fish\", \"horse\"]"
      ],
      "execution_count": null,
      "outputs": []
    },
    {
      "cell_type": "code",
      "metadata": {
        "id": "NFIE5Ptryktm"
      },
      "source": [
        "user1=Favorites(\"kali\", favorites)"
      ],
      "execution_count": null,
      "outputs": []
    },
    {
      "cell_type": "code",
      "metadata": {
        "id": "yV0ASSe0yzfW"
      },
      "source": [
        "user1.printInfo()"
      ],
      "execution_count": null,
      "outputs": []
    },
    {
      "cell_type": "code",
      "metadata": {
        "id": "BpNOO7IP0Ymy"
      },
      "source": [
        "user1.printOneFavs(4)"
      ],
      "execution_count": null,
      "outputs": []
    },
    {
      "cell_type": "code",
      "metadata": {
        "id": "L1LBuqFx0wDb"
      },
      "source": [
        "user1.printAllFavs()"
      ],
      "execution_count": null,
      "outputs": []
    },
    {
      "cell_type": "code",
      "metadata": {
        "id": "kNK7sCeS1VzV"
      },
      "source": [
        "user1.printSomeFavs(1,3)"
      ],
      "execution_count": null,
      "outputs": []
    },
    {
      "cell_type": "markdown",
      "metadata": {
        "id": "qkw3yAVN2C_c"
      },
      "source": [
        "**Assignment 5**<br>\n",
        "1. Create a list of favorite colors\n",
        "2. Create an instance of Favorites\n",
        "3. Access all the methods of the class"
      ]
    },
    {
      "cell_type": "code",
      "metadata": {
        "id": "B8yQ8vpk5i0w"
      },
      "source": [
        "#Assignment 5"
      ],
      "execution_count": null,
      "outputs": []
    },
    {
      "cell_type": "markdown",
      "metadata": {
        "id": "8Za8Cva23rb6"
      },
      "source": [
        "**Assignment 6**<br>\n",
        "1. Create a class that accepts a name and a list of numbers<br>\n",
        "2. Create a method for the class that doubles all the elements in the list.\n",
        "3. Create a method that prints every other element of the list.\n",
        "4. Write a program that shows the class and functions work as expected."
      ]
    },
    {
      "cell_type": "code",
      "metadata": {
        "id": "d9J2M3kl4i5q"
      },
      "source": [
        "#Assignment 6"
      ],
      "execution_count": null,
      "outputs": []
    },
    {
      "cell_type": "markdown",
      "metadata": {
        "id": "M7tnqiksnd0f"
      },
      "source": [
        "**Assignment 7**<br>\n",
        "Create a class with the following attributes:<br>\n",
        "1. name of credit card holder\n",
        "2. credit limit\n",
        "3. amount of credit card balance\n",
        "4. interest rate on card\n",
        "\n",
        "Create at least 8 instances of the class<br>\n",
        "Find and list all credit card holders where:\n",
        "1. the balance is at 75% of the limit\n",
        "2. the interest rate is greater than 10%"
      ]
    },
    {
      "cell_type": "code",
      "metadata": {
        "id": "thWKC-P7oet1"
      },
      "source": [
        "#Assignment 7"
      ],
      "execution_count": null,
      "outputs": []
    },
    {
      "cell_type": "code",
      "metadata": {
        "cellView": "form",
        "id": "8CPzo__J9aSK"
      },
      "source": [
        "#@title\n",
        "class Credit_card:\n",
        "  def __init__(self, name, limit, balance, interest):\n",
        "    self.name=name\n",
        "    self.limit=limit\n",
        "    self.balance=balance\n",
        "    self.interest=interest\n",
        "\n",
        "  #define class methods\n",
        "  def printInfo(self):\n",
        "    print(self.name,\": Bal : \",self.balance, \"  Limit : \", self.limit, \"  Interest = \", self.interest)\n",
        "\n",
        "  def highInterest (self, interest) :\n",
        "    return (interest < self.interest)\n",
        "\n",
        "  def highBalance (self, balance) :\n",
        "    return ((self.limit * balance) < self.balance)\n",
        "\n",
        "users = [\n",
        "  Credit_card (\"Adam\", 10000, 5800, 7.2),\n",
        "  Credit_card (\"Barb\", 12000, 11000, 17.2),\n",
        "  Credit_card (\"Cole\", 5000, 4800, 12.2),\n",
        "  Credit_card (\"Dawn\", 23000, 12000, 10.2),\n",
        "  Credit_card (\"Eddy\", 800, 450, 9.2),\n",
        "  Credit_card (\"Fran\", 13000, 10400, 11.4),\n",
        "  Credit_card (\"Glen\", 1800, 1500, 8.9),\n",
        "  Credit_card (\"Helen\", 100000, 92000, 5.1),\n",
        "  Credit_card (\"Irving\", 42000, 21000, 14.3)\n",
        "]\n",
        "\n",
        "print (\"All credit card holders\")\n",
        "for user in users :\n",
        "  user.printInfo()\n",
        "  if (user.highInterest(10)) :\n",
        "    print (\"High interest\")\n",
        "  if (user.highBalance(0.75)) :\n",
        "    print (\"High Balance\")"
      ],
      "execution_count": null,
      "outputs": []
    },
    {
      "cell_type": "markdown",
      "metadata": {
        "id": "Ccs7AW4d9oZp"
      },
      "source": [
        "**Assignment 8**<br>\n",
        "Create a program for teachers that\n",
        "1. Saves student name, GPA, major, year in school\n",
        "2. Identifies all students with GPAs below 2.0\n",
        "3. Identifies all students in year 3\n",
        "4. Sorts students by major\n"
      ]
    },
    {
      "cell_type": "code",
      "metadata": {
        "id": "YOCqWL6z9k3Y"
      },
      "source": [
        "#Assign 8"
      ],
      "execution_count": null,
      "outputs": []
    },
    {
      "cell_type": "code",
      "source": [
        "# @title\n",
        "class Student:\n",
        "  \"class that tracks user favorites\"\n",
        "  def __init__(self, name, GPA,major,year):\n",
        "    self.name=name\n",
        "    self.GPA=GPA\n",
        "    self.major=major\n",
        "    self.year=year\n",
        "\n",
        "  def printInfo(self):\n",
        "    print(self.name,\":\",self.GPA, self.major,self.year)\n",
        "\n",
        "studentList=[Student(\"abbey1\",4.0,\"PE\",\"freshman\"),\n",
        "             Student(\"abbey2\",4.0,\"ME\",\"sophmore\"),\n",
        "             Student(\"abbey3\",4.0,\"astrophysics\",\"freshman\"),\n",
        "             Student(\"abbey4\",4.0,\"PE\",\"junior\"),\n",
        "             Student(\"abbey5\",4.0,\"astrophysics\",\"senior\"),\n",
        "             Student(\"abbey6\",4.0,\"ME\",\"senior\"),\n",
        "             Student(\"abbey7\",4.0,\"astrophysics\",\"senior\"),]\n",
        "import operator\n",
        "sorted_majors = sorted(studentList, key=operator.attrgetter('major'))\n",
        "\n",
        "for i in range(len(sorted_majors)):\n",
        "  sorted_majors[i].printInfo()\n"
      ],
      "metadata": {
        "cellView": "form",
        "id": "WGlJpjmCFLr0"
      },
      "execution_count": null,
      "outputs": []
    },
    {
      "cell_type": "markdown",
      "source": [
        "# Python Builtin functions for use with classes"
      ],
      "metadata": {
        "id": "6x12zzAfIMC1"
      }
    },
    {
      "cell_type": "markdown",
      "source": [
        "There are Python built in functions that we can use on classes. They are listed below:<br>\n",
        "\n",
        ">**getattr**(object, attribute, default) -- get an attribute<br>\n",
        "**delattr**(object, attribute) -- delete an attribute<br>\n",
        "**hasattr**(object, attribute) --check for an attribute<br>\n",
        "**setattr**(object, attribute, value) --assign a value to an attribute"
      ],
      "metadata": {
        "id": "25lwHzJQIVxy"
      }
    },
    {
      "cell_type": "markdown",
      "source": [
        "**Example of getattr**"
      ],
      "metadata": {
        "id": "tCwG4Y3gJJaB"
      }
    },
    {
      "cell_type": "code",
      "source": [
        "class Person:\n",
        "  \"class that tracks user favorites\"\n",
        "  def __init__(self, name, age, country):\n",
        "    self.name=name\n",
        "    self.age=age\n",
        "    self.country=country\n",
        "\n",
        "  def printInfo(self):\n",
        "    print(self.name, self.age,self.country)"
      ],
      "metadata": {
        "id": "w_uwk5-7JAnb"
      },
      "execution_count": null,
      "outputs": []
    },
    {
      "cell_type": "code",
      "source": [
        "person1=Person(\"john\",32,\"norway\")\n",
        "x = getattr(person1, 'age')\n",
        "print(x)"
      ],
      "metadata": {
        "id": "gIZzZuW5Ke58"
      },
      "execution_count": null,
      "outputs": []
    },
    {
      "cell_type": "markdown",
      "source": [
        "**Example of delattr**"
      ],
      "metadata": {
        "id": "lqRvjuq2Jr_O"
      }
    },
    {
      "cell_type": "code",
      "source": [
        "person1.printInfo()\n",
        "delattr(person1,'age')\n",
        "person1.printInfo()"
      ],
      "metadata": {
        "id": "vFfnkgpNJMo1"
      },
      "execution_count": null,
      "outputs": []
    },
    {
      "cell_type": "markdown",
      "source": [
        "**Example of hasattr**"
      ],
      "metadata": {
        "id": "vFBbxco-KX5B"
      }
    },
    {
      "cell_type": "code",
      "source": [
        "person2=Person(\"tom\",3,\"guam\")\n",
        "\n",
        "m=hasattr(person2, 'age')\n",
        "print(m)\n",
        "\n",
        "q=hasattr(person1, 'age')\n",
        "print(q)"
      ],
      "metadata": {
        "id": "KeCRH2UeKYIS"
      },
      "execution_count": null,
      "outputs": []
    },
    {
      "cell_type": "markdown",
      "source": [
        "**Example setattr**"
      ],
      "metadata": {
        "id": "PWCpQEZrK9mM"
      }
    },
    {
      "cell_type": "code",
      "source": [
        "person2.printInfo()\n",
        "setattr(person2,'country','turkey')\n",
        "person2.printInfo()\n",
        "\n"
      ],
      "metadata": {
        "id": "D5yWK_J9K9yt"
      },
      "execution_count": null,
      "outputs": []
    },
    {
      "cell_type": "code",
      "source": [
        "person1.printInfo()\n",
        "setattr(person1,'age',66)\n",
        "person1.printInfo()"
      ],
      "metadata": {
        "id": "sbUCqVuMLo7a"
      },
      "execution_count": null,
      "outputs": []
    },
    {
      "cell_type": "markdown",
      "metadata": {
        "id": "gLSEbF3R4oDA"
      },
      "source": [
        "\n",
        "\n",
        "---\n",
        "\n"
      ]
    },
    {
      "cell_type": "markdown",
      "metadata": {
        "id": "E6CaApVzjJD0"
      },
      "source": [
        "# **Adding shared class attributes**\n",
        "We can add additional information to objects in the class.<br>\n",
        "For example: we can keep track of the number of students in the class<br>\n",
        "Adding a variable that is shared between all the instances"
      ]
    },
    {
      "cell_type": "code",
      "metadata": {
        "id": "ZvZrOArkgkFC"
      },
      "source": [
        "class EnrolledNames:\n",
        "  \"creats a shared class attribute\" #optional comment\n",
        "  #class suite\n",
        "  number_of_names=0\n",
        "\n",
        "  #we can keep track of the number students added to the class\n",
        "  #everytime an object is created, number_of_names is incremented\n",
        "  def __init__(self, name):\n",
        "    self.name = name\n",
        "    EnrolledNames.number_of_names += 1\n",
        "\n",
        "  def printName(self):\n",
        "    print(\"Name:\",self.name)\n",
        "\n",
        "  #Print the number of students in the class\n",
        "  def printEnrollment(self):\n",
        "    print(\"total enrollment is: \", EnrolledNames.number_of_names)"
      ],
      "execution_count": null,
      "outputs": []
    },
    {
      "cell_type": "code",
      "metadata": {
        "id": "2clLISL7k145"
      },
      "source": [
        "enrolled1=EnrolledNames(\"Kali\")"
      ],
      "execution_count": null,
      "outputs": []
    },
    {
      "cell_type": "code",
      "metadata": {
        "id": "x2sj_eJDlIis"
      },
      "source": [
        "enrolled1.printName()"
      ],
      "execution_count": null,
      "outputs": []
    },
    {
      "cell_type": "code",
      "metadata": {
        "id": "Ed3tDvS8lM6g"
      },
      "source": [
        "enrolled1.printEnrollment()"
      ],
      "execution_count": null,
      "outputs": []
    },
    {
      "cell_type": "code",
      "metadata": {
        "id": "ML_wR2UomIrm"
      },
      "source": [
        "enrolled2=EnrolledNames(\"Sammy\")\n",
        "enrolled3=EnrolledNames(\"Hari\")"
      ],
      "execution_count": null,
      "outputs": []
    },
    {
      "cell_type": "code",
      "metadata": {
        "id": "9kN2WpYvmPNB"
      },
      "source": [
        "enrolled1.printEnrollment()"
      ],
      "execution_count": null,
      "outputs": []
    },
    {
      "cell_type": "markdown",
      "metadata": {
        "id": "cWuD9geKmmMD"
      },
      "source": [
        "**Assignment 8**<br>\n",
        "1. Create a class called Shoppers\n",
        "2. The class should keep track of the shopper's name and number of shoppers created\n",
        "3. Create several objects of the Shopper class\n",
        "4. Print the total number of shoppers"
      ]
    },
    {
      "cell_type": "code",
      "metadata": {
        "id": "osr-0iJCnH-Y"
      },
      "source": [
        "#Assignment 8"
      ],
      "execution_count": null,
      "outputs": []
    }
  ]
}