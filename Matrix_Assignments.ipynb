{
  "nbformat": 4,
  "nbformat_minor": 0,
  "metadata": {
    "colab": {
      "private_outputs": true,
      "provenance": [],
      "authorship_tag": "ABX9TyODsCODRtRC7gM4yc1gsnsK",
      "include_colab_link": true
    },
    "kernelspec": {
      "name": "python3",
      "display_name": "Python 3"
    },
    "language_info": {
      "name": "python"
    }
  },
  "cells": [
    {
      "cell_type": "markdown",
      "metadata": {
        "id": "view-in-github",
        "colab_type": "text"
      },
      "source": [
        "<a href=\"https://colab.research.google.com/github/cagBRT/Intro-to-Programming-with-Python/blob/master/Matrix_Assignments.ipynb\" target=\"_parent\"><img src=\"https://colab.research.google.com/assets/colab-badge.svg\" alt=\"Open In Colab\"/></a>"
      ]
    },
    {
      "cell_type": "markdown",
      "source": [
        "Assignment 1: Use Python to find the dimensions of the following lists"
      ],
      "metadata": {
        "id": "PIqrWN_uHakI"
      }
    },
    {
      "cell_type": "code",
      "source": [
        "matrix1=[1,2,3,4,5,6,7,8]"
      ],
      "metadata": {
        "id": "IkySqJdGIIZ_"
      },
      "execution_count": null,
      "outputs": []
    },
    {
      "cell_type": "code",
      "source": [
        "matrix2=[[1,2,0],\n",
        "         [0,0,5],\n",
        "         [6,0,0],\n",
        "         [0,0,2]]"
      ],
      "metadata": {
        "id": "k0r7swoUIL9b"
      },
      "execution_count": null,
      "outputs": []
    },
    {
      "cell_type": "code",
      "source": [
        "matrix3=[[[0, 1, 2, 3, 4],\n",
        "          [5, 6, 7, 8, 9],\n",
        "          [10, 11, 12, 13, 14]],\n",
        "         [[15, 16, 17, 18, 19],\n",
        "          [20, 21, 22, 23, 24],\n",
        "          [25, 26, 27, 28, 29]]]"
      ],
      "metadata": {
        "id": "Lrn_tpDtIo7M"
      },
      "execution_count": null,
      "outputs": []
    },
    {
      "cell_type": "code",
      "source": [],
      "metadata": {
        "id": "QjtVhpe4QBy1"
      },
      "execution_count": null,
      "outputs": []
    },
    {
      "cell_type": "code",
      "source": [
        "#@title\n",
        "print(len(matrix3[0]))\n",
        "print(len(matrix3[1]))\n",
        "print(len(matrix3[2]))"
      ],
      "metadata": {
        "cellView": "form",
        "id": "bw-M5lZxHZpv"
      },
      "execution_count": null,
      "outputs": []
    },
    {
      "cell_type": "markdown",
      "source": [
        "Assignment 2: Is the matrix sparse?\n",
        "To check whether the above matrices are sparse, check the total number of elements in each matrix that are equal to zero. If this count is more than (m * n)/2, then the matrix is sparse.  "
      ],
      "metadata": {
        "id": "Iya1_4PHCWSJ"
      }
    },
    {
      "cell_type": "code",
      "source": [],
      "metadata": {
        "id": "8PSmSGzMQAR8"
      },
      "execution_count": null,
      "outputs": []
    },
    {
      "cell_type": "code",
      "source": [
        "#@title\n",
        "#prints the i,j for each value that is equal to zero\n",
        "matrix2=[[1,2,0],\n",
        "         [0,0,5],\n",
        "         [6,0,0],\n",
        "         [0,0,2]]\n",
        "counter=0\n",
        "for i in range(3) :\n",
        "  for j in range(3) :\n",
        "    if (matrix2[i][j] == 0) :\n",
        "      print(i,j,matrix2[i][j])\n",
        "      counter = counter + 1"
      ],
      "metadata": {
        "cellView": "form",
        "id": "ia3q_EVTFcak"
      },
      "execution_count": null,
      "outputs": []
    },
    {
      "cell_type": "markdown",
      "source": [
        "Assignment 3:Given the following matrices, reverse the listed element"
      ],
      "metadata": {
        "id": "HV2ff1q_S4G-"
      }
    },
    {
      "cell_type": "code",
      "source": [
        "matrix4 = [[2, 4, 6, 8, 10], \n",
        "           [3, 6, 9, 12, 15], \n",
        "           [4, 8, 12, 16, 20]]\n",
        "#Reverse the element in location 2\n"
      ],
      "metadata": {
        "id": "ULmnqEhbS4TL"
      },
      "execution_count": null,
      "outputs": []
    },
    {
      "cell_type": "code",
      "source": [
        "#@title \n",
        "matrix4[2].reverse()"
      ],
      "metadata": {
        "cellView": "form",
        "id": "npg_KeZaTs20"
      },
      "execution_count": null,
      "outputs": []
    },
    {
      "cell_type": "code",
      "source": [
        "matrix5 = [\n",
        "           [[2, 4, 6, 8, 10], \n",
        "            [3, 6, 9, 12, 15], \n",
        "            [4, 8, 12, 16, 20]],\n",
        "           [[1, 3, 5, 7, 9],\n",
        "            [11,13,15,17,19],\n",
        "            [21,23,25,27,29]]\n",
        "          ]\n",
        "#Reverse the element in location [1][2]"
      ],
      "metadata": {
        "id": "nkO03ZGIUQRt"
      },
      "execution_count": null,
      "outputs": []
    },
    {
      "cell_type": "code",
      "source": [
        "#@title\n",
        "matrix5[1][2].reverse()\n",
        "matrix5"
      ],
      "metadata": {
        "cellView": "form",
        "id": "PIqziCvRVrbQ"
      },
      "execution_count": null,
      "outputs": []
    }
  ]
}