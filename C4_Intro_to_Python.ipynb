{
  "nbformat": 4,
  "nbformat_minor": 0,
  "metadata": {
    "colab": {
      "name": "C4 Intro to Python.ipynb",
      "private_outputs": true,
      "provenance": [],
      "include_colab_link": true
    },
    "kernelspec": {
      "name": "python3",
      "display_name": "Python 3"
    }
  },
  "cells": [
    {
      "cell_type": "markdown",
      "metadata": {
        "id": "view-in-github",
        "colab_type": "text"
      },
      "source": [
        "<a href=\"https://colab.research.google.com/github/cagBRT/Intro-to-Programming-with-Python/blob/master/C4_Intro_to_Python.ipynb\" target=\"_parent\"><img src=\"https://colab.research.google.com/assets/colab-badge.svg\" alt=\"Open In Colab\"/></a>"
      ]
    },
    {
      "cell_type": "markdown",
      "source": [
        "In this notebook for loops are taught and practiced."
      ],
      "metadata": {
        "id": "oA0u-89lzE0o"
      }
    },
    {
      "cell_type": "code",
      "metadata": {
        "id": "wzaZwT_u5LIM"
      },
      "source": [
        "# Clone the entire repo.\n",
        "!git clone -l -s https://github.com/cagBRT/Intro-to-Programming-with-Python.git cloned-repo\n",
        "%cd cloned-repo\n",
        "!ls"
      ],
      "execution_count": null,
      "outputs": []
    },
    {
      "cell_type": "code",
      "metadata": {
        "id": "IvAdiM855QI2"
      },
      "source": [
        "from IPython.display import Image\n",
        "def page(num):\n",
        "    return Image(\"c4-content/c4PythonProgramming\"+str(num)+ \".png\" , width=640)"
      ],
      "execution_count": null,
      "outputs": []
    },
    {
      "cell_type": "code",
      "metadata": {
        "id": "i20WrHhndfi6"
      },
      "source": [
        "page(1)"
      ],
      "execution_count": null,
      "outputs": []
    },
    {
      "cell_type": "code",
      "metadata": {
        "id": "cthjnWIpArbC"
      },
      "source": [
        "page(2)"
      ],
      "execution_count": null,
      "outputs": []
    },
    {
      "cell_type": "markdown",
      "metadata": {
        "id": "0LCJUYrC7uI7"
      },
      "source": [
        "# For Loops\n",
        "\n",
        "There are times when you may want to execute the same task several times. Rather than writing the code over and over, you can use a 'for' loop. <br>\n"
      ]
    },
    {
      "cell_type": "markdown",
      "metadata": {
        "id": "_2uXQpJoA7Vq"
      },
      "source": [
        "A Python 'for' loop uses the form: <br><br>\n",
        "\n",
        "for iterating_var in sequence: <br>\n",
        ">   statements(s)\n"
      ]
    },
    {
      "cell_type": "code",
      "metadata": {
        "id": "fHRltgUW-LKD"
      },
      "source": [
        "for x in 'Python':\n",
        "   print ('Current Letter :', x)"
      ],
      "execution_count": null,
      "outputs": []
    },
    {
      "cell_type": "markdown",
      "metadata": {
        "id": "XO9aI9ngBLgV"
      },
      "source": [
        "# **Assignment #1**\n",
        "\n",
        "Write a program to do the following:\n",
        "1. For every letter in your name, use a for loop to\n",
        "> print (\"letter is \", letter)"
      ]
    },
    {
      "cell_type": "code",
      "metadata": {
        "id": "RSuvbTg3-LL5"
      },
      "source": [
        "#Assignment #1\n"
      ],
      "execution_count": null,
      "outputs": []
    },
    {
      "cell_type": "markdown",
      "metadata": {
        "id": "eqMpJh59SXG_"
      },
      "source": [
        "**For loops can be used with numbers.**"
      ]
    },
    {
      "cell_type": "code",
      "metadata": {
        "id": "W3hJkCzVSujN"
      },
      "source": [
        "#for loop example\n",
        "for x in range(7):\n",
        "  print(x)"
      ],
      "execution_count": null,
      "outputs": []
    },
    {
      "cell_type": "markdown",
      "metadata": {
        "id": "JqXaUNuOTqFE"
      },
      "source": [
        "# **Assignment #2**\n",
        "Use a 'for' loop to print the integers from 0 - 9"
      ]
    },
    {
      "cell_type": "code",
      "metadata": {
        "id": "q4P23vXcT8Qx"
      },
      "source": [
        "# **Assignment #2**\n"
      ],
      "execution_count": null,
      "outputs": []
    },
    {
      "cell_type": "markdown",
      "metadata": {
        "id": "oyHqUKKOUK7I"
      },
      "source": [
        "**For loops can be assigned a range and increment value.**"
      ]
    },
    {
      "cell_type": "code",
      "metadata": {
        "id": "kv5ypFUlVQZk"
      },
      "source": [
        "#Example of for loop with a range and\n",
        "#increment value\n",
        "\n",
        "#Print the every 5th integer from 10 - 50\n",
        "for x in range(10,51,5):\n",
        "  print(x)"
      ],
      "execution_count": null,
      "outputs": []
    },
    {
      "cell_type": "markdown",
      "metadata": {
        "id": "3F3n77FhVhxg"
      },
      "source": [
        "# **Assignment #3<br>**\n",
        "Use a 'for' loop to print every third integer from 30 to 60, inclusive\n"
      ]
    },
    {
      "cell_type": "code",
      "metadata": {
        "id": "z0B34x0SV6Xo"
      },
      "source": [
        "#Assignment #3\n"
      ],
      "execution_count": null,
      "outputs": []
    },
    {
      "cell_type": "markdown",
      "metadata": {
        "id": "lSotk3Z0pKde"
      },
      "source": [
        "**Debug Exercise**<br>\n",
        "Fix the code below"
      ]
    },
    {
      "cell_type": "code",
      "source": [
        "for x in range(10, 20.5, 2.5):\n",
        "    print(x)"
      ],
      "metadata": {
        "id": "ixDl5C2Q27tZ"
      },
      "execution_count": null,
      "outputs": []
    },
    {
      "cell_type": "markdown",
      "metadata": {
        "id": "nOUJULL8V-jm"
      },
      "source": [
        "**Using the 'else' statement with a for loop.**<br>\n",
        "An 'else' statement can be used with a for loop. <br>\n",
        "The example below uses an else statement, but it is not a very good example. Why?"
      ]
    },
    {
      "cell_type": "code",
      "metadata": {
        "id": "Xx2ZI6ZKWoCR"
      },
      "source": [
        "for i in range(5):\n",
        "  print(i)\n",
        "else:\n",
        "  print(\"Done\")"
      ],
      "execution_count": null,
      "outputs": []
    },
    {
      "cell_type": "markdown",
      "source": [
        "Use if statements with 'for loops'"
      ],
      "metadata": {
        "id": "EsqXkiMuRKd3"
      }
    },
    {
      "cell_type": "code",
      "source": [
        "sentence=\"Make him an offer he can't refuse\"\n",
        "count=0\n",
        "\n",
        "for letter in sentence:\n",
        "  if letter!=\" \":\n",
        "    count = count+1\n",
        "print(\"total number of letters in the sentence: \",count)"
      ],
      "metadata": {
        "id": "e6gM2Ax3RGMW"
      },
      "execution_count": null,
      "outputs": []
    },
    {
      "cell_type": "markdown",
      "metadata": {
        "id": "Fssiz_Mkb89W"
      },
      "source": [
        "# **Assignment #4**\n",
        "\n",
        "Modify the code to print the total number of characters in the sentence.\n"
      ]
    },
    {
      "cell_type": "code",
      "metadata": {
        "id": "A9s7JZH6cK8A"
      },
      "source": [
        "#Assignment #4\n",
        "number_of_a = 0\n",
        "number_of_others = 0\n",
        "sentence = \"Make him an offer he can't refuse\"\n",
        "for x in sentence:\n",
        "  if x== 'a':\n",
        "    number_of_a  = number_of_a  + 1\n",
        "  else:\n",
        "    number_of_others = number_of_others + 1\n",
        "print(number_of_a, \"a's in the sentence\")\n",
        "print(number_of_others, \"other characters in the sentence\")"
      ],
      "execution_count": null,
      "outputs": []
    },
    {
      "cell_type": "markdown",
      "metadata": {
        "id": "W849Ytrfpe1L"
      },
      "source": [
        "# **Assignment #5**\n",
        "1. Print the characters in this sentence:\n",
        ">The rain in Spain falls mainly in the plain.\n",
        "2. Count all the letters, ignoring the blank spaces\n",
        "3. Print out the number of letters in the sentence"
      ]
    },
    {
      "cell_type": "code",
      "metadata": {
        "id": "T-xIFEdsp7Nn"
      },
      "source": [
        "#Assignment 5\n"
      ],
      "execution_count": null,
      "outputs": []
    },
    {
      "cell_type": "markdown",
      "metadata": {
        "id": "zGbaj0YSbPtY"
      },
      "source": [
        "# **Quiz**"
      ]
    },
    {
      "cell_type": "code",
      "metadata": {
        "id": "E2x_KYAMc3VC"
      },
      "source": [
        "page(5)"
      ],
      "execution_count": null,
      "outputs": []
    },
    {
      "cell_type": "code",
      "metadata": {
        "id": "IrIOe6N3dOHg",
        "cellView": "form"
      },
      "source": [
        "#@title Q1\n",
        "variable_name = \"nothing, none of the scores satisfy the conditional statement\" #@param [\"every third number in scores\", \"multiples of three\", \"nothing, there is an error in the code\", \"nothing, none of the scores satisfy the conditional statement\"]\n",
        "if(variable_name == \"multiples of three\"):\n",
        "  print(\"correct\")\n",
        "else:\n",
        "  print(\"Please try again\")"
      ],
      "execution_count": null,
      "outputs": []
    },
    {
      "cell_type": "markdown",
      "metadata": {
        "id": "pF9JO7rup_G3"
      },
      "source": [
        "**Debug Exercise**\n",
        "Fix the code below\n"
      ]
    },
    {
      "cell_type": "code",
      "metadata": {
        "id": "JFkydWANqFUV"
      },
      "source": [
        "vowel_counts = []\n",
        "count = 0\n",
        "vowels=[\"a\",\"e\",\"i\",\"o\"]\n",
        "sentence = \"The quick brown fox jumps over the lazy dog\"\n",
        "for letter in sentence:\n",
        "  letter = letter.lower()\n",
        "  if vowel in vowels:\n",
        "    count = count + 1\n",
        "    vowel_counts[count]=vowel\n",
        "else:\n",
        "  print(\"\\n\",vowel_counts)"
      ],
      "execution_count": null,
      "outputs": []
    },
    {
      "cell_type": "code",
      "source": [],
      "metadata": {
        "id": "GKbCjWFF-gBD"
      },
      "execution_count": null,
      "outputs": []
    },
    {
      "cell_type": "markdown",
      "metadata": {
        "id": "VVKbTP32qeZA"
      },
      "source": [
        "# **Assignment #6**\n",
        "1. Create a List with the following words:\n",
        ">dog, cat, bunny, goat, cow, giraffe, pig, chicken\n",
        "2. Count the animals in the list.\n",
        "3. If the word giraffe is in the list print \"A giraffe is Not domesticated!\"\n",
        "\n"
      ]
    },
    {
      "cell_type": "code",
      "metadata": {
        "id": "GO8VmfkWmgPo"
      },
      "source": [
        "#Assignment #6\n"
      ],
      "execution_count": null,
      "outputs": []
    },
    {
      "cell_type": "markdown",
      "metadata": {
        "id": "kuIHQNrZmm0D"
      },
      "source": [
        "**The pass statement**\n",
        "\n",
        "When an external condition is triggered, the pass statement allows you to handle the condition without the loop being impacted in any way; all of the code will continue to be read unless a break or other statement occurs.\n",
        "\n",
        "The pass statement can act as a placeholder when working on new code and thinking on an algorithmic level before hammering out details"
      ]
    },
    {
      "cell_type": "code",
      "metadata": {
        "id": "TIvjpmGTmnAQ"
      },
      "source": [
        "#example of a pass statement\n",
        "for i in range(20, 30):\n",
        "  pass\n",
        "print(\"done\")"
      ],
      "execution_count": null,
      "outputs": []
    },
    {
      "cell_type": "code",
      "metadata": {
        "id": "fUct8_ytbje7"
      },
      "source": [
        "#Example of code that uses PASS\n",
        "number = 0\n",
        "\n",
        "for number in range(10):\n",
        "    if number == 5:\n",
        "        pass    # pass here\n",
        "    else:\n",
        "      print('Number is ' + str(number))\n",
        "print('Out of loop')\n"
      ],
      "execution_count": null,
      "outputs": []
    },
    {
      "cell_type": "code",
      "metadata": {
        "id": "BLEeJsBIwC6n"
      },
      "source": [
        "#example of a pass statement\n",
        "sentence = \"They call him the Spaniard. This is from the movie Gladiator.\"\n",
        "count_l = 0\n",
        "count_t = 0\n",
        "\n",
        "for letter in sentence:\n",
        "  if letter == \"l\":\n",
        "    count_l = count_l + 1\n",
        "  elif letter == \"t\":\n",
        "    count_t = count_t + 1\n",
        "  else:\n",
        "    pass\n",
        "print(\"number of ls = \", count_l)\n",
        "print(\"number of ts = \", count_t)\n",
        "\n"
      ],
      "execution_count": null,
      "outputs": []
    },
    {
      "cell_type": "markdown",
      "metadata": {
        "id": "Y1WmnT_gxjjb"
      },
      "source": [
        "The count of the number of 't's is incorrect. There are two 't's. What happened?\n"
      ]
    },
    {
      "cell_type": "markdown",
      "metadata": {
        "id": "YBcl5OQSx8iG"
      },
      "source": [
        "# **Assignment #7**\n",
        "Create a string variable with the value: <br>\n",
        ">\"Four score and seven years ago our fathers brought forth on this continent, a new nation, conceived in Liberty, and dedicated to the proposition that all men are created equal.\n",
        "\n",
        ">Now we are engaged in a great civil war, testing whether that nation, or any nation so conceived and so dedicated, can long endure. We are met on a great battle-field of that war. We have come to dedicate a portion of that field, as a final resting place for those who here gave their lives that that nation might live. It is altogether fitting and proper that we should do this.\n",
        "\n",
        "Count the number of times the word \"we\" is found in the string variable. <br><br>\n",
        "\n",
        "FYI: someone did this in two lines of code."
      ]
    },
    {
      "cell_type": "code",
      "metadata": {
        "id": "c-78pBrhzI2A"
      },
      "source": [
        "address = (\"Four score and seven years ago our fathers brought forth \" +\n",
        "          \"on this continent, a new nation, conceived in Liberty,\" +\n",
        "          \" and dedicated to the proposition that all men are created\" +\n",
        "          \" equal.Now we are engaged in a great civil war, testing\" +\n",
        "          \" whether that nation, or any nation so conceived and so \" +\n",
        "          \"dedicated, can long endure. We are met on a great \" +\n",
        "          \"battle-field of that war. We have come to dedicate a portion\" +\n",
        "          \" of that field, as a final resting place for those who here\" +\n",
        "          \" gave their lives that that nation might live. It is \" +\n",
        "          \"altogether fitting and proper that we should do this.?\")\n"
      ],
      "execution_count": null,
      "outputs": []
    },
    {
      "cell_type": "markdown",
      "metadata": {
        "id": "J8wHx6KkZe-P"
      },
      "source": [
        "# **Assignment #8**\n",
        "Find all the numbers between 1000 and 3000 (inclusive) that are divisible by both 5 and 9."
      ]
    },
    {
      "cell_type": "code",
      "metadata": {
        "id": "HoqVdQUXZyjS"
      },
      "source": [
        "#Assignment #8\n"
      ],
      "execution_count": null,
      "outputs": []
    },
    {
      "cell_type": "markdown",
      "metadata": {
        "id": "Kmq4TbxKZ1tT"
      },
      "source": [
        "# **Assignment #9**\n",
        "1. Find all the numbers between 0 - 100 (inclusive) that are multiples of<br>\n",
        ">Replace the number with the word FIZZ\n",
        "2. Find all the numbers between 0 - 100 (inclusive) that are multiples of 7. <br>\n",
        ">Replace the number with the word BUZZ\n",
        "3. Find all the numbers between 0 - 100 (inclusive) that are multiples of 3 and 7. <br>\n",
        ">Replace the number with the word FIZZBUZZ"
      ]
    },
    {
      "cell_type": "code",
      "source": [
        "#Assignment 9"
      ],
      "metadata": {
        "id": "98Q3DJ9ZMqBE"
      },
      "execution_count": null,
      "outputs": []
    },
    {
      "cell_type": "markdown",
      "metadata": {
        "id": "EFjNl3uIccTI"
      },
      "source": [
        "**Nested For Loops**\n",
        "Nested loops are useful when for each pass through the outer loop, you need to repeat some action on the data in the outer loop."
      ]
    },
    {
      "cell_type": "code",
      "metadata": {
        "id": "j2ro8TMKcrtX"
      },
      "source": [
        "n=5;\n",
        "#Create i rows\n",
        "for i in range(n):\n",
        "    #For each row add another character\n",
        "    for j in range(i):\n",
        "        print ('j ', end=\"\")\n",
        "    print('')"
      ],
      "execution_count": null,
      "outputs": []
    },
    {
      "cell_type": "markdown",
      "metadata": {
        "id": "75B_GA0rd7xw"
      },
      "source": [
        "# **Assignment #10**\n",
        "Using nested for loops, create the following shape:\n",
        "\n",
        "\n",
        "bbbbbbbbbb<br>\n",
        "bbbbbbbbb<br>\n",
        "bbbbbbbb<br>\n",
        "bbbbbbb<br>\n",
        "bbbbbb<br>\n",
        "bbbbb<br>\n",
        "bbbb<br>\n",
        "bbb<br>\n",
        "bb<br>\n",
        "b<br>"
      ]
    },
    {
      "cell_type": "code",
      "metadata": {
        "id": "0_veLUoolkyl"
      },
      "source": [
        "#Assignment #10"
      ],
      "execution_count": null,
      "outputs": []
    },
    {
      "cell_type": "markdown",
      "metadata": {
        "id": "3AE4EsQYl_43"
      },
      "source": [
        "# **Assignment #11**\n",
        "1. Write a program that takes two digits, m and n, from the user\n",
        "2. Create a two dimensional list matrix[m][n]\n",
        "3. Each value of matrix[m][n] should be m*n at that location.\n",
        "\n",
        "For example: <br>\n",
        "m = 4<br>\n",
        "n = 2<br>\n",
        "\n",
        "matrix[0][0] = 0<br>\n",
        "matrix[0][1] = 0<br>\n",
        "\n",
        "matrix[1][0] = 0<br>\n",
        "matrix[1][1] = 1<br>\n",
        "\n",
        "matrix[2][0] = 0<br>\n",
        "matrix[2][1] = 2<br>\n",
        "\n",
        "matrix[3][0] = 0<br>\n",
        "matrix[3][1] = 3<br>\n",
        "\n",
        "[0,0],[0,1],[0,2],[0,3]"
      ]
    },
    {
      "cell_type": "code",
      "metadata": {
        "id": "-ud3du8ynZ8s"
      },
      "source": [
        "#Assignment #11"
      ],
      "execution_count": null,
      "outputs": []
    },
    {
      "cell_type": "markdown",
      "metadata": {
        "id": "8_EVyrLYY1G5"
      },
      "source": [
        "# **Assignment #12**\n",
        "Find all the words longer than 3 letters in the following text:\n",
        "\n",
        "(I counted 154)\n",
        "\n",
        "Four score and seven years ago our fathers brought forth on this continent, a new nation, conceived in Liberty, and dedicated to the proposition that all men are created equal.\n",
        "\n",
        "Now we are engaged in a great civil war, testing whether that nation, or any nation so conceived and so dedicated, can long endure. We are met on a great battle-field of that war. We have come to dedicate a portion of that field, as a final resting place for those who here gave their lives that that nation might live. It is altogether fitting and proper that we should do this.\n",
        "\n",
        "But, in a larger sense, we can not dedicate -- we can not consecrate -- we can not hallow -- this ground. The brave men, living and dead, who struggled here, have consecrated it, far above our poor power to add or detract. The world will little note, nor long remember what we say here, but it can never forget what they did here. It is for us the living, rather, to be dedicated here to the unfinished work which they who fought here have thus far so nobly advanced. It is rather for us to be here dedicated to the great task remaining before us -- that from these honored dead we take increased devotion to that cause for which they gave the last full measure of devotion -- that we here highly resolve that these dead shall not have died in vain -- that this nation, under God, shall have a new birth of freedom -- and that government of the people, by the people, for the people, shall not perish from the earth.<br><br>\n",
        "\n",
        "Hint: <br>\n",
        "1. Use \"\"\" at the beginning and end of text to create a multiline string. <br>\n",
        "2. Use the split function on a string to separate it into words."
      ]
    },
    {
      "cell_type": "code",
      "metadata": {
        "id": "hH8MdgzHY452"
      },
      "source": [
        "#Assignment 12"
      ],
      "execution_count": null,
      "outputs": []
    },
    {
      "cell_type": "markdown",
      "metadata": {
        "id": "2t3PD1NvZAJi"
      },
      "source": [
        "# **Assignment #13**\n",
        "\n",
        "Find all the unique words in the text from Assignment #12 (The Gettysburg Address).\n",
        "<br>\n",
        "Hint: <br>\n",
        "Use the set function in Python<br>\n",
        "unique = set(text_in)"
      ]
    },
    {
      "cell_type": "code",
      "metadata": {
        "id": "zyRFn8jnY_rK"
      },
      "source": [
        "#Assignment 13\n"
      ],
      "execution_count": null,
      "outputs": []
    },
    {
      "cell_type": "markdown",
      "metadata": {
        "id": "8-EsABJmoZph"
      },
      "source": [
        "Congrats! You finished another Python Module.\n",
        "Keep up the good work....start the next module\n",
        "\n",
        "C5 Intro to ML Programming with Python\n",
        "<br><br>\n",
        "Instructions to access the notebooks:<br>\n",
        "In a Chrome or Firefox Window type on the search bar: **Google CoLab**<br>\n",
        "\n",
        "On the orange menu bar, select the menu item: **GITHUB**<br>\n",
        "\n",
        "If the orange pop-up menu does not appear, <br>\n",
        "\n",
        "In the Notebook environment, select File>Open notebook <br>\n",
        "\n",
        "The orange pop-up menu should now appear.<br>\n",
        "\n",
        "Select:  GITHUB<br>\n",
        "\n",
        "On the search bar type in: **cagBRT**  This will bring up my gitHub repository. <br>\n",
        "\n",
        "On the drop down menu select: cagBRT/<br>**Intro-To-Programming-with-Python**<br>\n",
        "\n",
        "Then select: **Intro to C5 Intro to Python.ipynb**<br>"
      ]
    },
    {
      "cell_type": "code",
      "metadata": {
        "id": "Os5BzlJg92PA",
        "cellView": "form"
      },
      "source": [
        "#@title\n",
        "r = int(input(\"Enter a digit for number of rows :\"))\n",
        "c = int(input(\"Enter a digit for number of columns :\"))\n",
        "\n",
        "a=[[0 for i in range(c)] for j in range(r)]\n",
        "print(a)\n",
        "\n",
        "for i in range(r):\n",
        "  for j in range(c):\n",
        "    a[i][j]=i*j\n",
        "print(a)"
      ],
      "execution_count": null,
      "outputs": []
    }
  ]
}