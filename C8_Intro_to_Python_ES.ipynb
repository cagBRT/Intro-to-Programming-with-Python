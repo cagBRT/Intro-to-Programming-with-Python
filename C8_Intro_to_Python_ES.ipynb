{
  "cells": [
    {
      "cell_type": "markdown",
      "metadata": {
        "id": "view-in-github",
        "colab_type": "text"
      },
      "source": [
        "<a href=\"https://colab.research.google.com/github/cagBRT/Intro-to-Programming-with-Python/blob/master/C8_Intro_to_Python_ES.ipynb\" target=\"_parent\"><img src=\"https://colab.research.google.com/assets/colab-badge.svg\" alt=\"Open In Colab\"/></a>"
      ]
    },
    {
      "cell_type": "markdown",
      "metadata": {
        "id": "K3BhuCRC2mqW"
      },
      "source": [
        "# **MatPlotlib**\n",
        "El link de abajo es una página con los ejemplos de MatplotLib<br>\n",
        "https://matplotlib.org/examples/"
      ]
    },
    {
      "cell_type": "code",
      "execution_count": null,
      "metadata": {
        "id": "ZGvK6lyz2fca",
        "vscode": {
          "languageId": "python"
        }
      },
      "outputs": [],
      "source": [
        "# Clona el repositorio entero.\n",
        "!git clone -l -s https://github.com/cagBRT/Intro-to-Programming-with-Python.git cloned-repo\n",
        "%cd cloned-repo\n",
        "!ls"
      ]
    },
    {
      "cell_type": "markdown",
      "metadata": {
        "id": "dMZ5LwNrUzZr"
      },
      "source": [
        "# **Introducción a Matplotlib**"
      ]
    },
    {
      "cell_type": "markdown",
      "metadata": {
        "id": "iI9otsKTUn_r"
      },
      "source": [
        "MatplotLib es una librería para graficar sumamente util para aquellos que trabajan con Python y NumPy. El modulo más usado de Matplotlib es Pyplot el cual otorga una interfaz como MATLAB. Usa Python y es open source (código abierto)"
      ]
    },
    {
      "cell_type": "markdown",
      "source": [
        "![picture](https://github.com/cagBRT/Intro-to-Programming-with-Python/blob/master/c8-content/c8PythonProgramming1.png?raw=1)"
      ],
      "metadata": {
        "id": "SQ7sUDo2aa9O"
      }
    },
    {
      "cell_type": "markdown",
      "metadata": {
        "id": "aKCu2D6TVb32"
      },
      "source": [
        "# **Import Matplotlib**\n",
        "Observa que Matplotlib está instalada como plt. Esto se hace para que sea más fácil escribir código.\n",
        "<br>\n",
        "En lugar de tener que añadir el nombre completo de la librería cada vez que uses un comando de matplotlib, puedes usar plt\n",
        "<br>\n",
        "El import \"as\" funciona con cualquier tipo de import"
      ]
    },
    {
      "cell_type": "code",
      "execution_count": null,
      "metadata": {
        "id": "Inu5slAUVQVf",
        "vscode": {
          "languageId": "python"
        }
      },
      "outputs": [],
      "source": [
        "import matplotlib.pyplot as plt"
      ]
    },
    {
      "cell_type": "markdown",
      "metadata": {
        "id": "fIPdMvvFVruT"
      },
      "source": [
        "# **Haz una gráfica simple**\n"
      ]
    },
    {
      "cell_type": "code",
      "execution_count": null,
      "metadata": {
        "id": "uyD1AHN2WRrR",
        "vscode": {
          "languageId": "python"
        }
      },
      "outputs": [],
      "source": [
        "#Haz na gráfica de una serie de 5 puntos en un grafico\n",
        "#plot significa graficar\n",
        "plt.plot([2,4,6,8,10], [1,3,5,7,9])\n",
        "#Usa show para imprimir el plot\n",
        "plt.show()"
      ]
    },
    {
      "cell_type": "markdown",
      "metadata": {
        "id": "-je0tjjYXQyU"
      },
      "source": [
        "# **Actividad #1**\n",
        "1. Haz una gráfica de los siguientes puntos\n",
        ">(1,7), (5,6), (10,5), (15, 4), (20, 3), (25, 2), (30,1)"
      ]
    },
    {
      "cell_type": "code",
      "execution_count": null,
      "metadata": {
        "id": "1fvunmXfhXKl",
        "vscode": {
          "languageId": "python"
        }
      },
      "outputs": [],
      "source": []
    },
    {
      "cell_type": "markdown",
      "metadata": {
        "id": "gO1VA9xKhehx"
      },
      "source": [
        "# **Plot con listas de python**"
      ]
    },
    {
      "cell_type": "code",
      "execution_count": null,
      "metadata": {
        "id": "Um7pmln9WulD",
        "vscode": {
          "languageId": "python"
        }
      },
      "outputs": [],
      "source": [
        "#Hacer una gráfica de una serie de 5 puntos\n",
        "#Los puntos pueden ser una lista\n",
        "x_coordinate = [2,4,6,8,10]\n",
        "y_coordinate = [1,3,5,7,9]\n",
        "plt.plot(x_coordinate, y_coordinate)\n",
        "#Usa show para mostrarlo en pantalla\n",
        "plt.show()"
      ]
    },
    {
      "cell_type": "markdown",
      "metadata": {
        "id": "zgIcCIBZYDaO"
      },
      "source": [
        "# **Actividad #2**\n",
        "Haz una gráfica de las siguientes listas. <br>\n",
        "list1 está en el eje x <br>\n",
        "list2 está en el eje y <br>\n",
        ">list1 = [22,33,44,55,66,77] <br>\n",
        ">list2 = [1, 4, 16, 55, 67, 98]\n"
      ]
    },
    {
      "cell_type": "code",
      "execution_count": null,
      "metadata": {
        "id": "5ZMHoGGmr8DA",
        "vscode": {
          "languageId": "python"
        }
      },
      "outputs": [],
      "source": []
    },
    {
      "cell_type": "markdown",
      "metadata": {
        "id": "3BOMB5cZXH5X"
      },
      "source": [
        "# **Añadir titulos y etiquetas**"
      ]
    },
    {
      "cell_type": "code",
      "execution_count": null,
      "metadata": {
        "id": "YwXc7c-JWuuQ",
        "vscode": {
          "languageId": "python"
        }
      },
      "outputs": [],
      "source": [
        "list1 = [22,33,44,55,66,77]\n",
        "list2 = [1, 4, 16, 20, 23, 98]\n",
        "plt.plot(list1, list2)\n",
        "\n",
        "#Dar un titulo al grafico\n",
        "plt.title(\"Simple Plot\")\n",
        "#poner etiquetas de los ejes X y Y al grafico\n",
        "plt.xlabel(\"list1\")\n",
        "plt.ylabel(\"list2\")\n",
        "plt.show()"
      ]
    },
    {
      "cell_type": "markdown",
      "metadata": {
        "id": "1Qhp7hDBZieo"
      },
      "source": [
        "# **Actividad #3**\n",
        "1. Grafica las siguientes listas\n",
        "> list_x = [33.23,34,32.65,65.4,90]<br>\n",
        ">list_y = [2.32,0.33,2.021,55.0,65.33]<br>\n",
        "2. Añade un título y etiquetas para los ejes X y Y para el gráfico"
      ]
    },
    {
      "cell_type": "markdown",
      "metadata": {
        "id": "PfnHDJ28c9AW"
      },
      "source": [
        "# **Cambia el tamaño de una figura**\n",
        "Cambia el tamaño de una figura de la siguiente manera:<br>\n",
        "plt.figure(figsize=(x dimension, y dimension)\n"
      ]
    },
    {
      "cell_type": "code",
      "execution_count": null,
      "metadata": {
        "id": "39SCVuVSc7Vt",
        "vscode": {
          "languageId": "python"
        }
      },
      "outputs": [],
      "source": [
        "list1 = [22,33,44,55,66,77]\n",
        "list2 = [1, 4, 3.4, 15.6, 3, 98]\n",
        "#plt.figure debe de ir antes del primer argumento de plt.plot\n",
        "plt.figure(figsize=(10,3))\n",
        "plt.plot(list1, list2)\n",
        "\n",
        "#add a title to the plot\n",
        "plt.title(\"Simple Plot\")\n",
        "#add x and y labels to a plot\n",
        "plt.xlabel(\"list1\")\n",
        "plt.ylabel(\"list2\")\n",
        "plt.show()"
      ]
    },
    {
      "cell_type": "markdown",
      "metadata": {
        "id": "eQJqXLjLd9pt"
      },
      "source": [
        "# **Actividad #4**\n",
        "1. Crea un grafico con una serie de 10 puntos\n",
        "2. Modifica la figura para que tenga las dimensiones de 8 x 2"
      ]
    },
    {
      "cell_type": "code",
      "execution_count": null,
      "metadata": {
        "id": "ZWyrYRQMRA3p",
        "vscode": {
          "languageId": "python"
        }
      },
      "outputs": [],
      "source": []
    },
    {
      "cell_type": "markdown",
      "metadata": {
        "id": "nC-NJu4FeZMQ"
      },
      "source": [
        "# **Cambia el formato de la linea en el grafico**\n",
        "\n",
        "Cuando graficas una linea, el color y el tipo de la linea puede ser especificado mediante:\n",
        ">plt.plot(x_points, y_points, \"color-shape\")<br>\n",
        "\n",
        "\n",
        "**Las opciones de color son**:<br>\n",
        "b = azul<br>\n",
        "g = verde<br>\n",
        "r= rojo<br>\n",
        "c = cyan<br>\n",
        "m = magenta<br>\n",
        "y = amarillo<br>\n",
        "k = negro<br>\n",
        "w = blanco<br>\n",
        "gris = '0.##' -->  # =  0-1<br>\n",
        "\n",
        "\n",
        "**O**<br>\n",
        "color='######' -->  # = 0-f numbers<br>\n",
        "<br>\n",
        "**Tipos de lineas**<br>\n",
        "o --> puntos<br>\n",
        "'-' --> --------<br>\n",
        "'-.' --> -.-.-.-.<br>\n",
        "':' --> .........<br>\n",
        "'+' --> + + + + + <br>\n",
        "'x' --> x x x x x <br>"
      ]
    },
    {
      "cell_type": "code",
      "execution_count": null,
      "metadata": {
        "id": "VDuMP7Y0gggX",
        "vscode": {
          "languageId": "python"
        }
      },
      "outputs": [],
      "source": [
        "#Cambiando el formato de linea en el graficos\n",
        "list1 = [22,33,44,55,66,77]\n",
        "list2 = [1, 4, 3.4, 15.6, 3, 98]\n",
        "list3 = [10,33,44,50,60,65]\n",
        "list4 = [10, 14, 23.4, 5.6, 30, 98]\n",
        "list5 = [1,2,31,44,50,60]\n",
        "list6 = [10,20,30,40,50,60]\n",
        "list7 = [12,22,32,42,55,63]\n",
        "list8 = [13,24,35,46,57,68]\n",
        "#plt.figure debe de ir antes del primer argumento de plt.plot\n",
        "plt.figure(figsize=(10,3))\n",
        "plt.plot(list1, list2, 'r-')\n",
        "plt.plot(list3, list4, 'b--')\n",
        "\n",
        "#'+' grafica los puntos como '+'\n",
        "plt.plot(list5, list6, 'g+')\n",
        "#la 'o' grafica puntos para cada punto\n",
        "plt.plot(list7, list8, 'mo')\n",
        "\n",
        "#dar un titulo al grafico\n",
        "plt.title(\"Simple Plot\")\n",
        "plt.show()"
      ]
    },
    {
      "cell_type": "markdown",
      "metadata": {
        "id": "jVluTEfmi8_9"
      },
      "source": [
        "Links para conocer los colores y los estilos de linea de matplotlib\n",
        "\n",
        "https://matplotlib.org/gallery/lines_bars_and_markers/line_styles_reference.html\n",
        "\n",
        "https://matplotlib.org/3.1.1/tutorials/colors/colors.html\n"
      ]
    },
    {
      "cell_type": "markdown",
      "metadata": {
        "id": "p1yTwmLbh1kB"
      },
      "source": [
        "# **Actividad #5**\n",
        "1. Grafica los siguientes puntos:\n",
        "> list_x = [13,24,35,46,57,68]<br>\n",
        ">list_y = [12,22,32,42,55,63]<br>\n",
        "\n",
        "El grafico debe de tener:\n",
        "*   Dimensiones 10, 4\n",
        "*   Un titulo\n",
        "*   Etiquetas por los ejes X y Y\n",
        "*   La línea de datos debe de ser roja\n",
        "*   La línea debe de tener la forma '--'"
      ]
    },
    {
      "cell_type": "code",
      "execution_count": null,
      "metadata": {
        "id": "HsdpULuuh5NL",
        "vscode": {
          "languageId": "python"
        }
      },
      "outputs": [],
      "source": [
        "#Actividad 5\n"
      ]
    },
    {
      "cell_type": "markdown",
      "metadata": {
        "id": "2LLL2dVJj-P4"
      },
      "source": [
        "## **Múltiples graficos en una sola figura**\n",
        "Para añadir varios gráficos en una sola figura, una la función de plt.subplot<br>\n",
        "plt.subplot(numero-de-renglones, numero-de-columnas, indice)<br><br>\n",
        "NOTA: el índice empieza en 1"
      ]
    },
    {
      "cell_type": "code",
      "execution_count": null,
      "metadata": {
        "id": "2v0qyAxIlF-b",
        "vscode": {
          "languageId": "python"
        }
      },
      "outputs": [],
      "source": [
        "#Agregando multiples graficos a una figura\n",
        "plt.subplot(1,2,1) #1 renglon, 2 columnas, primer plot (grafico)\n",
        "plt.plot([3,4,5,9],[55,44,2,8],'r--')\n",
        "plt.title(\"El 1er Subplot\")\n",
        "\n",
        "#Segundo subplot\n",
        "plt.subplot(1,2,2) #1 renglon, 2 columnas, segundo plot (grafico)\n",
        "x = [1,2,3,4,5]\n",
        "y = [3,5,7, 9, 10]\n",
        "plt.plot(x,y,'g')\n",
        "plt.title(\"El 2do Subplot\")"
      ]
    },
    {
      "cell_type": "markdown",
      "metadata": {
        "id": "5HeKyNs8mlM5"
      },
      "source": [
        "# **Actividad #6**\n",
        "1. Crea dos sets de cordenadas X, Y. Deberán haber 5 puntos en cada set.\n",
        "2. Grafica ambas lineas en graficos(plots) separados en la misma figura.\n",
        "3. Haz que primer grafico tenga una linea azul y el segundo tenga una linea roja"
      ]
    },
    {
      "cell_type": "code",
      "execution_count": null,
      "metadata": {
        "id": "i-NlfYqBnFJ_",
        "vscode": {
          "languageId": "python"
        }
      },
      "outputs": [],
      "source": []
    },
    {
      "cell_type": "markdown",
      "metadata": {
        "id": "VX44yNbHnVVi"
      },
      "source": [
        "**Graficos en una sola columna**<br>\n",
        "\n",
        "Puedes cambiar los parametros de subplot y acomodar un grafico encima de otro"
      ]
    },
    {
      "cell_type": "code",
      "execution_count": null,
      "metadata": {
        "id": "NWxCAE3Vnm5g",
        "vscode": {
          "languageId": "python"
        }
      },
      "outputs": [],
      "source": [
        "#Agregando multiples graficos en una figura\n",
        "plt.subplot(2,1,1) #2 renglones, 1 columna, primer plot (grafico)\n",
        "plt.plot([3,4,5,9],[55,44,2,8],'r--')\n",
        "plt.title(\"El 1er subplot\")\n",
        "\n",
        "#El segundo subplot\n",
        "plt.subplot(2,1,2) #2 renglones, 1 columna, segundo plot (grafico)\n",
        "x = [1,2,3,4,5]\n",
        "y = [3,5,7, 9, 10]\n",
        "plt.plot(x,y,'g')\n",
        "plt.title(\"El 2do subplot\")"
      ]
    },
    {
      "cell_type": "markdown",
      "metadata": {
        "id": "VYcc0QALo93L"
      },
      "source": [
        "#  \n",
        "Pyplot usa un método de MatPlotLib llamado bar() para generar graficos de barras. <br>Estos graficos usan categorías de datos\n",
        "<br>\n",
        "El formato del método es: <br>\n",
        ">bar(valores-eje-x, valores-eje-y, color='nombre-de-color')"
      ]
    },
    {
      "cell_type": "code",
      "execution_count": null,
      "metadata": {
        "id": "Ph7bWDkExyzp",
        "vscode": {
          "languageId": "python"
        }
      },
      "outputs": [],
      "source": [
        "#Pyplot usa un método de MatPlotLib llamado bar() para generar graficos de barras\n",
        "#bar(valores-eje-x, valores-eje-y, color='nombre-de-color')\n",
        "\n",
        "students=['Sue','Tom','Bill','Ann']\n",
        "grades=[43,85,38,97]\n",
        "\n",
        "plt.bar(students, grades)"
      ]
    },
    {
      "cell_type": "markdown",
      "metadata": {
        "id": "2iOd-llt97kX"
      },
      "source": [
        "# **Actividad #7**\n",
        "1. Crea una lista de 5 clases.\n",
        "2. Crea una lista de inscritos por clase.\n",
        "3. Crea una gráfico de barras para monstrar las inscripciones por clase."
      ]
    },
    {
      "cell_type": "markdown",
      "metadata": {
        "id": "z7mxejGozvao"
      },
      "source": [
        "# **Actividad #8**\n",
        "1. Lee el archivo csv llamado chord-progressions.csv. Se encuentra en:\n",
        ">/content/cloned-repo/data_files/chord-progressions.csv\n",
        "2. Crea un gráfico de barras usando la lista de calidad de progresión y el 4to acorde por los 5 tipos de progresión."
      ]
    },
    {
      "cell_type": "markdown",
      "metadata": {
        "id": "NKojrxx4v0bG"
      },
      "source": [
        "# **Actividad #9**\n",
        "Lee el archivo csv llamado data_files/freshman.csv. <br>\n",
        "Crea un gráfico plot de weight(Sep) vs BMI(Sep)"
      ]
    },
    {
      "cell_type": "code",
      "execution_count": null,
      "metadata": {
        "id": "48nh127pvjm3",
        "vscode": {
          "languageId": "python"
        }
      },
      "outputs": [],
      "source": [
        "#Actividad #9\n",
        "\n"
      ]
    },
    {
      "cell_type": "markdown",
      "metadata": {
        "id": "N8GjU6nASi5l"
      },
      "source": [
        "# **Actividad #10**\n",
        "Lee el archivo csv llamado: <br>\n",
        "c8-content/sitka_weather_2018_full.csv <br>\n",
        "<br>\n",
        "Grafica (plot) las temperaturas altas para el año"
      ]
    },
    {
      "cell_type": "code",
      "execution_count": null,
      "metadata": {
        "id": "CP07v7joV1s0",
        "vscode": {
          "languageId": "python"
        }
      },
      "outputs": [],
      "source": [
        "#Actividad #10"
      ]
    },
    {
      "cell_type": "code",
      "execution_count": null,
      "metadata": {
        "cellView": "form",
        "id": "anPDDgtVZEcL",
        "vscode": {
          "languageId": "python"
        }
      },
      "outputs": [],
      "source": [
        "#@title Hidden cell\n",
        "import csv\n",
        "from matplotlib import pyplot as plt\n",
        "\n",
        "filename = 'c8-content/sitka_weather_2018_full.csv'\n",
        "with open(filename) as f:\n",
        "    reader = csv.reader(f)\n",
        "    header_row = next(reader)\n",
        "    highs = []\n",
        "    for row in reader:\n",
        "        if row[8]=='':\n",
        "            continue\n",
        "        high = int(row[8],10)\n",
        "        highs.append(high)  #appending high temperatures\n",
        "\n",
        "    #Plot Data\n",
        "    fig = plt.figure(dpi = 128, figsize = (10,6))\n",
        "    plt.plot(highs, c = 'red') #Line 1\n",
        "    #Format Plot\n",
        "    plt.title(\"Daily High Temperatures, 2018\", fontsize = 24)\n",
        "    plt.xlabel('',fontsize = 16)\n",
        "    plt.ylabel(\"Temperature (F)\", fontsize = 16)\n",
        "    plt.tick_params(axis = 'both', which = 'major' , labelsize = 16)\n",
        "    plt.show()"
      ]
    },
    {
      "cell_type": "markdown",
      "metadata": {
        "id": "JpcDVR4FRhEZ"
      },
      "source": [
        "# **Imagenes y MatplotLib**\n",
        "\n",
        "***Matplotlib solo soporta imagenes PNG***<br>"
      ]
    },
    {
      "cell_type": "code",
      "execution_count": null,
      "metadata": {
        "id": "5CcuEBhBRkxh",
        "vscode": {
          "languageId": "python"
        }
      },
      "outputs": [],
      "source": [
        "#Esto combierte un inline plotting, donde el grafico va a aparecer en tu notebook\n",
        "%matplotlib inline\n",
        "import matplotlib.pyplot as plt\n",
        "import matplotlib.image as mpimg\n"
      ]
    },
    {
      "cell_type": "markdown",
      "metadata": {
        "id": "y3xKfR8lTA4u"
      },
      "source": [
        "La siguiente imagen es un PNG RGB de 24-bits (8 bit por cada R, G, B)<br>\n",
        "Dependiendo de donde obtengas tus datos, los otros tipos de imagen que puedes encontrar son las RGBA"
      ]
    },
    {
      "cell_type": "code",
      "execution_count": null,
      "metadata": {
        "id": "7CbHp_LkkMoF",
        "vscode": {
          "languageId": "python"
        }
      },
      "outputs": [],
      "source": [
        "from IPython.display import Image\n",
        "Image(\"https://matplotlib.org/_images/stinkbug.png\" , width=640)"
      ]
    },
    {
      "cell_type": "code",
      "execution_count": null,
      "metadata": {
        "id": "Hk-4Aw0ZSurz",
        "vscode": {
          "languageId": "python"
        }
      },
      "outputs": [],
      "source": [
        "#La imagen es retornada como un arreglo(array)\n",
        "img = mpimg.imread('https://matplotlib.org/_images/stinkbug.png')\n",
        "print(img)\n",
        "print(img.shape)\n",
        "#375 X 500 pixeles (8 bits por rgb)"
      ]
    },
    {
      "cell_type": "code",
      "execution_count": null,
      "metadata": {
        "id": "aNrpyKdUT3fG",
        "vscode": {
          "languageId": "python"
        }
      },
      "outputs": [],
      "source": [
        "#Graficando el arreglo\n",
        "imgplot = plt.imshow(img)"
      ]
    },
    {
      "cell_type": "code",
      "execution_count": null,
      "metadata": {
        "id": "IMYRTkf9WpZB",
        "vscode": {
          "languageId": "python"
        }
      },
      "outputs": [],
      "source": [
        "fig = plt.figure()\n",
        "a = fig.add_subplot(1, 2, 1)\n",
        "imgplot = plt.imshow(img)\n",
        "a.set_title('Antes')\n",
        "plt.colorbar(ticks=[0.1, 0.3, 0.5, 0.7], orientation='horizontal')\n",
        "a = fig.add_subplot(1, 2, 2)\n",
        "imgplot = plt.imshow(img)\n",
        "imgplot.set_clim(0.0, 0.7)\n",
        "a.set_title('Despues')\n",
        "plt.colorbar(ticks=[0.1, 0.3, 0.5, 0.7], orientation='horizontal')"
      ]
    },
    {
      "cell_type": "markdown",
      "metadata": {
        "id": "YyD_IkNRtVQu"
      },
      "source": [
        "# **Mapas de calor**\n",
        "\n",
        "Referencia: https://matplotlib.org/3.1.1/gallery/images_contours_and_fields/image_annotated_heatmap.html\n"
      ]
    },
    {
      "cell_type": "code",
      "execution_count": null,
      "metadata": {
        "id": "StrofUgPtilx",
        "vscode": {
          "languageId": "python"
        }
      },
      "outputs": [],
      "source": [
        "import numpy as np\n",
        "import numpy.random\n",
        "import matplotlib\n",
        "import matplotlib.pyplot as plt\n",
        "#from matplotlib.ticker import FormatStrFormatter"
      ]
    },
    {
      "cell_type": "code",
      "execution_count": null,
      "metadata": {
        "id": "yiOGRBnctlT6",
        "vscode": {
          "languageId": "python"
        }
      },
      "outputs": [],
      "source": [
        "vegetables = [\"cucumber\", \"tomato\", \"lettuce\", \"asparagus\",\n",
        "              \"potato\", \"wheat\", \"barley\"]\n",
        "farmers = [\"Farmer Joe\", \"Upland Bros.\", \"Smith Gardening\",\n",
        "           \"Agrifun\", \"Organiculture\", \"BioGoods Ltd.\", \"Cornylee Corp.\"]\n",
        "\n",
        "harvest = np.array([[0.8, 2.4, 2.5, 3.9, 0.0, 4.0, 0.0],\n",
        "                    [2.4, 0.0, 4.0, 1.0, 2.7, 0.0, 0.0],\n",
        "                    [1.1, 2.4, 0.8, 4.3, 1.9, 4.4, 0.0],\n",
        "                    [0.6, 0.0, 0.3, 0.0, 3.1, 0.0, 0.0],\n",
        "                    [0.7, 1.7, 0.6, 2.6, 2.2, 6.2, 0.0],\n",
        "                    [1.3, 1.2, 0.0, 0.0, 0.0, 3.2, 5.1],\n",
        "                    [0.1, 2.0, 0.0, 1.4, 0.0, 1.9, 6.3]])"
      ]
    },
    {
      "cell_type": "code",
      "execution_count": null,
      "metadata": {
        "id": "1ZCNX4s8trYb",
        "vscode": {
          "languageId": "python"
        }
      },
      "outputs": [],
      "source": [
        "fig, ax = plt.subplots()\n",
        "im = ax.imshow(harvest)\n",
        "# Queremos mostrar todas las marcas (ticks)\n",
        "ax.set_xticks(np.arange(len(farmers)))\n",
        "ax.set_yticks(np.arange(len(vegetables)))\n",
        "# ... y etiquetarlas con las respectivas lineas de entrada\n",
        "ax.set_xticklabels(farmers)\n",
        "ax.set_yticklabels(vegetables)"
      ]
    },
    {
      "cell_type": "code",
      "execution_count": null,
      "metadata": {
        "id": "UVv56NiGuiQX",
        "vscode": {
          "languageId": "python"
        }
      },
      "outputs": [],
      "source": [
        "fig, ax = plt.subplots()\n",
        "im = ax.imshow(harvest)\n",
        "\n",
        "# Queremos mostar todas las marcas (ticks)...\n",
        "ax.set_xticks(np.arange(len(farmers)))\n",
        "ax.set_yticks(np.arange(len(vegetables)))\n",
        "# ... y etiquetarlas con las respectivas lineas de entrada\n",
        "ax.set_xticklabels(farmers)\n",
        "ax.set_yticklabels(vegetables)\n",
        "\n",
        "# Rota las etiquetas de cada marca y seleciona su alineamiento\n",
        "plt.setp(ax.get_xticklabels(), rotation=45, ha=\"right\",\n",
        "         rotation_mode=\"anchor\")\n",
        "\n",
        "# Itera sobre cada dimension de datos y crea anotaciones de texto\n",
        "for i in range(len(vegetables)):\n",
        "    for j in range(len(farmers)):\n",
        "        text = ax.text(j, i, harvest[i, j],\n",
        "                       ha=\"center\", va=\"center\", color=\"w\")\n",
        "# Crea una barra de color(colorbar)\n",
        "cbarlabel = \"Legend\"\n",
        "cbar = ax.figure.colorbar(im, ax=ax)\n",
        "cbar.ax.set_ylabel(cbarlabel, rotation=-90, va=\"bottom\")\n",
        "\n",
        "ax.set_title(\"Harvest of local farmers (in tons/year)\")\n",
        "plt.figure(figsize=(40,40))\n",
        "plt.show()"
      ]
    },
    {
      "cell_type": "markdown",
      "metadata": {
        "id": "9SaHvNdZv9nO"
      },
      "source": [
        "# **Crear funciones de apoyo para Mapas de Calor**"
      ]
    },
    {
      "cell_type": "code",
      "execution_count": null,
      "metadata": {
        "id": "HFbcyUaov7v6",
        "vscode": {
          "languageId": "python"
        }
      },
      "outputs": [],
      "source": [
        "import matplotlib.ticker as ticker\n",
        "def heatmap(data, row_labels, col_labels, ax=None,\n",
        "            cbar_kw={}, cbarlabel=\"\", **kwargs):\n",
        "    \"\"\"\n",
        "    Listado de barras de color (colorbars): https://matplotlib.org/tutorials/colors/colormaps.html\n",
        "\n",
        "    Crea un mapa de calor desde un arreglo de numpy y dos listas de etiquetas.\n",
        "    Parametros\n",
        "    ----------\n",
        "    data\n",
        "        Un arreglo de numpy de dos dimensiones (N, M).\n",
        "    row_labels\n",
        "        Una lista o arreglo de tamanho N con las etiquetas de los renglones.\n",
        "    col_labels\n",
        "        Una lista o arrelgo de tamanho M con las etiquetas para las colunmnas.\n",
        "    ax\n",
        "        Una instancia de \"matplotlib.axes.Axes\" de la cual el mapa de calor es dibujado.\n",
        "        Si no se es dada, usa los ejes actuales para crear uno nuevo. Opcional.\n",
        "    cbar_kw\n",
        "        Un diccionario con los argumentos de \"matplotlib.Figure.colorbar\". Opcional\n",
        "    cbarlabel\n",
        "        La etiqueta para la barra de color. Opcional\n",
        "    **kwargs\n",
        "        Todos los argumentos que pueden ser entregados a \"imshow\"\n",
        "    \"\"\"\n",
        "\n",
        "    if not ax:\n",
        "        ax = plt.gca()\n",
        "\n",
        "    # Dibuja el mapa de calor\n",
        "    im = ax.imshow(data, **kwargs)\n",
        "\n",
        "    # Crea la barra de color\n",
        "    cbar = ax.figure.colorbar(im, ax=ax, **cbar_kw)\n",
        "    cbar.ax.set_ylabel(cbarlabel, rotation=-90, va=\"bottom\")\n",
        "\n",
        "    # Queremos mostrar todas las marcas...\n",
        "    ax.set_xticks(np.arange(data.shape[1]))\n",
        "    ax.set_yticks(np.arange(data.shape[0]))\n",
        "    # ... y etiquetarlas con las respectivas listas de entradas.\n",
        "    ax.set_xticklabels(col_labels)\n",
        "    ax.set_yticklabels(row_labels)\n",
        "\n",
        "    # Que el etiquetado de los ejes horizontales aparezca arriba\n",
        "    ax.tick_params(top=True, bottom=False,\n",
        "                   labeltop=True, labelbottom=False)\n",
        "\n",
        "    # Rota las etiquetas de las marcas y selecciona su alineamiento\n",
        "    plt.setp(ax.get_xticklabels(), rotation=-30, ha=\"right\",\n",
        "             rotation_mode=\"anchor\")\n",
        "\n",
        "    # Quita los spines y crea una cuadricula blanca\n",
        "    for edge, spine in ax.spines.items():\n",
        "        spine.set_visible(False)\n",
        "\n",
        "    ax.set_xticks(np.arange(data.shape[1]+1)-.5, minor=True)\n",
        "    ax.set_yticks(np.arange(data.shape[0]+1)-.5, minor=True)\n",
        "    ax.grid(which=\"minor\", color=\"w\", linestyle='-', linewidth=3)\n",
        "    ax.tick_params(which=\"minor\", bottom=False, left=False)\n",
        "\n",
        "    return im, cbar\n",
        "\n",
        "\n",
        "def annotate_heatmap(im, data=None, valfmt=\"{x:.2f}\",\n",
        "                     textcolors=[\"black\", \"white\"],\n",
        "                     threshold=None, **textkw):\n",
        "    \"\"\"\n",
        "    Una funcion para hacer anotaciones en un mapa de calor\n",
        "\n",
        "    Parameters\n",
        "    ----------\n",
        "    im\n",
        "        La AxesImage a ser etiquetada\n",
        "    data\n",
        "        Data used to annotate.  If None, the image's data is used.  Optional.\n",
        "        Datos usados para la anotación. Si no tiene ninguna, los datos de la imagen es usada.Opcional\n",
        "    valfmt\n",
        "        El formato de las anotaciones dentro del mapa de calor. Estas deberan o bien\n",
        "        usar el metodo de formato string, ejemplo: \"$ {x:.2f}\", o ser un\n",
        "        \"matplotlib.ticker.Formatter\". Opcional.\n",
        "    textcolors\n",
        "        Una lista o arreglo de dos colores. El primero sera usado para valores\n",
        "        por debajo del limite, y el segundo para aquellos por encima. Opcional\n",
        "    threshold\n",
        "        Valor en las unidades de datos de acuerdo con las cuales los colores de\n",
        "        los textcolors son aplicados. Si None (por defecto) usala mitad del mapa\n",
        "        de color como separacion. Opcional\n",
        "    **kwargs\n",
        "        Todos los demas argumentos que son enviados a cada llamada a \"text\" usados\n",
        "        para crear las etiquetas de texto.\n",
        "    \"\"\"\n",
        "\n",
        "    if not isinstance(data, (list, np.ndarray)):\n",
        "        data = im.get_array()\n",
        "\n",
        "    # Normaliza los limites a el rango de colores de las imagenes\n",
        "    if threshold is not None:\n",
        "        threshold = im.norm(threshold)\n",
        "    else:\n",
        "        threshold = im.norm(data.max())/2.\n",
        "\n",
        "    # Indica el alinamiento por defecto al centro, pero permite\n",
        "    # sea sobrescrito por textkw.\n",
        "    kw = dict(horizontalalignment=\"center\",\n",
        "              verticalalignment=\"center\")\n",
        "    kw.update(textkw)\n",
        "\n",
        "    # Obten el formatter en caso de que un string sea dado\n",
        "    #if isinstance(valfmt, str):\n",
        "    #   valfmt = plt.ticker.Formatter.StrMethodFormatter(valfmt)\n",
        "\n",
        "    # Itera sobre la data y crea un \"texto(text)\" para cada \"pixel\"-\n",
        "    # Cambia elcolor del texto de acuerdo con la dta\n",
        "    texts = []\n",
        "    for i in range(data.shape[0]):\n",
        "        for j in range(data.shape[1]):\n",
        "            kw.update(color=textcolors[int(im.norm(data[i, j]) > threshold)])\n",
        "            text = im.axes.text(j, i, (data[i, j], None), **kw)\n",
        "            texts.append(text)\n",
        "\n",
        "    return texts\n"
      ]
    },
    {
      "cell_type": "markdown",
      "metadata": {
        "id": "uqHl0trzwWCc"
      },
      "source": [
        "# **Usa las funciones de apoyo**"
      ]
    },
    {
      "cell_type": "code",
      "execution_count": null,
      "metadata": {
        "id": "IhZo3BxAwYkb",
        "vscode": {
          "languageId": "python"
        }
      },
      "outputs": [],
      "source": [
        "fig, ax = plt.subplots()\n",
        "\n",
        "im, cbar = heatmap(harvest, vegetables, farmers, ax=ax,\n",
        "                   cmap=\"Greens\", cbarlabel=\"harvest [t/year]\")\n",
        "plt.show()"
      ]
    },
    {
      "cell_type": "markdown",
      "metadata": {
        "id": "YNayb1BZYuS_"
      },
      "source": [
        "# **Printing de 3 dimensiones**\n"
      ]
    },
    {
      "cell_type": "markdown",
      "metadata": {
        "id": "kaCQHRnsY1Gx"
      },
      "source": [
        "Sigue el link para hacer el tutorial de 3D printing usando MatPlotLib: https://matplotlib.org/mpl_toolkits/mplot3d/tutorial.html\n"
      ]
    },
    {
      "cell_type": "markdown",
      "metadata": {
        "id": "Qzs043tnB3BV"
      },
      "source": []
    }
  ],
  "metadata": {
    "colab": {
      "private_outputs": true,
      "provenance": [],
      "include_colab_link": true
    },
    "kernelspec": {
      "display_name": "Python 3",
      "name": "python3"
    }
  },
  "nbformat": 4,
  "nbformat_minor": 0
}