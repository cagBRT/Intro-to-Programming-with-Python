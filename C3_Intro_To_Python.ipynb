{
  "nbformat": 4,
  "nbformat_minor": 0,
  "metadata": {
    "colab": {
      "name": "C3 Intro To Python.ipynb",
      "private_outputs": true,
      "provenance": [],
      "include_colab_link": true
    },
    "kernelspec": {
      "name": "python3",
      "display_name": "Python 3"
    }
  },
  "cells": [
    {
      "cell_type": "markdown",
      "metadata": {
        "id": "view-in-github",
        "colab_type": "text"
      },
      "source": [
        "<a href=\"https://colab.research.google.com/github/cagBRT/Intro-to-Programming-with-Python/blob/master/C3_Intro_To_Python.ipynb\" target=\"_parent\"><img src=\"https://colab.research.google.com/assets/colab-badge.svg\" alt=\"Open In Colab\"/></a>"
      ]
    },
    {
      "cell_type": "code",
      "metadata": {
        "id": "yHKg9HA-Tzq8"
      },
      "source": [
        "# Clone the entire repo.\n",
        "!git clone -l -s https://github.com/cagBRT/Intro-to-Programming-with-Python.git cloned-repo\n",
        "%cd cloned-repo\n",
        "!ls"
      ],
      "execution_count": null,
      "outputs": []
    },
    {
      "cell_type": "code",
      "metadata": {
        "id": "f4n4z-QTT5Sl"
      },
      "source": [
        "from IPython.display import Image\n",
        "def page(num):\n",
        "    return Image(\"c3-content/c3PythonProgramming\"+str(num)+ \".png\" , width=640)"
      ],
      "execution_count": null,
      "outputs": []
    },
    {
      "cell_type": "markdown",
      "metadata": {
        "id": "GEFERGOX1w8Z"
      },
      "source": [
        "# Data Collections\n",
        "There are times when you will want to store a series of data points as a single variable. <br>\n",
        "For example: <br>\n",
        "\n",
        "You have 3 students in one group and 2 students in another group. <br>\n",
        "Sometimes it would be nice to treat a group as a single variable. <br>\n",
        "You can use arrays to do this. <br>\n",
        "For example: <br>\n",
        "group1 = [\"Joe\",\"Susan\",\"Bob\"] <br>\n",
        "group2 = [\"Tommy\",\"Chandler\"]<br>\n",
        "\n",
        "<br>group1 is an array with 3 elements. <br>\n",
        "group2 is an array with 2 elements.\n",
        "\n",
        "<br>When you have a lot of data, arrays can make working with the data a lot easier."
      ]
    },
    {
      "cell_type": "markdown",
      "metadata": {
        "id": "qHImY66tzzxB"
      },
      "source": [
        "# Data Collections (Arrays)\n",
        "\n",
        "Python does not have arrays. <br>\n",
        "Python has lists - which can be used like arrays.<br>\n"
      ]
    },
    {
      "cell_type": "markdown",
      "metadata": {
        "id": "KdPzMt3KPV-O"
      },
      "source": [
        "# Lists<br>\n",
        "Lists are a collection of variables that are ordered and changeable. <br>\n"
      ]
    },
    {
      "cell_type": "code",
      "metadata": {
        "id": "qbmcgPgYUB24"
      },
      "source": [
        "page(1)"
      ],
      "execution_count": null,
      "outputs": []
    },
    {
      "cell_type": "markdown",
      "metadata": {
        "id": "pY15MUFuRJpM"
      },
      "source": [
        "To fully appreciate the power of lists, let's look at how to do a sorting task without lists.<br>\n",
        "Write code to sort the 5 variables from lowest number to highest number."
      ]
    },
    {
      "cell_type": "code",
      "metadata": {
        "id": "zVo__yj-RinX"
      },
      "source": [
        "#Create the variables\n",
        "score1 = 96\n",
        "score2 = 88\n",
        "score3 = 97\n",
        "score4 = 99\n",
        "score5 = 76"
      ],
      "execution_count": null,
      "outputs": []
    },
    {
      "cell_type": "code",
      "metadata": {
        "id": "am48qGun6J6Y"
      },
      "source": [
        "#Using if statements, write a program to sort the scores"
      ],
      "execution_count": null,
      "outputs": []
    },
    {
      "cell_type": "code",
      "metadata": {
        "id": "OG4IJIqQS1cR",
        "cellView": "form"
      },
      "source": [
        "#@title\n",
        "#write code to put the scores in numerical order\n",
        "if score1 > score2:\n",
        "  temp = score1\n",
        "  score1 = score2\n",
        "  score2 = temp\n",
        "\n",
        "if score1 > score3:\n",
        "  temp = score1\n",
        "  score1 = score3\n",
        "  score3 = temp\n",
        "\n",
        "if score1 > score4:\n",
        "  temp = score1\n",
        "  score1 = score4\n",
        "  score4 = temp\n",
        "\n",
        "if score1 > score5:\n",
        "  temp = score1\n",
        "  score1 = score5\n",
        "  score5 = temp\n",
        "\n",
        "#---\n",
        "\n",
        "if score2 > score3:\n",
        "  temp = score2\n",
        "  score2 = score3\n",
        "  score3 = temp\n",
        "\n",
        "if score2 > score4:\n",
        "  temp = score2\n",
        "  score2 = score4\n",
        "  score4 = temp\n",
        "\n",
        "if score2 > score5:\n",
        "  temp = score2\n",
        "  score2 = score5\n",
        "  score5 = temp\n",
        "\n",
        "#---\n",
        "\n",
        "if score3 > score4:\n",
        "  temp = score3\n",
        "  score3 = score4\n",
        "  score4 = temp\n",
        "\n",
        "if score3 > score5:\n",
        "  temp = score3\n",
        "  score3 = score5\n",
        "  score5 = temp\n",
        "\n",
        "#---\n",
        "\n",
        "if score4 > score5:\n",
        "  temp = score4\n",
        "  score4 = score5\n",
        "  score5 = temp\n",
        "\n",
        "#---\n",
        "print(score1)\n",
        "print(score2)\n",
        "print(score3)\n",
        "print(score4)\n",
        "print(score5)"
      ],
      "execution_count": null,
      "outputs": []
    },
    {
      "cell_type": "markdown",
      "metadata": {
        "id": "I9mJoC8phWo1"
      },
      "source": [
        "Sorting the numbers takes a fair amount of coding. If another number is added to the list, the program would have to be modified quite a bit to accommodate the new variable. <br>\n",
        "<br>\n",
        "Let's use a Python List to put the variables in numerical order."
      ]
    },
    {
      "cell_type": "markdown",
      "metadata": {
        "id": "qbmxt-sXUWiO"
      },
      "source": [
        "# Create a Python List\n",
        "1. create the list using the form:<br>\n",
        "      list_name = [value, value, value, value,..., value, value]<br>\n",
        "      For example: cat_names = [\"Belle\",\"Callie\",\"Bootsie\",\"Spot\"]<br>\n",
        "\n",
        "2. Sort the list using the method sort()<br>\n",
        "      For example: cat_names.sort()"
      ]
    },
    {
      "cell_type": "code",
      "metadata": {
        "id": "KKNmg5sgh_Zi"
      },
      "source": [
        "#Create a list\n",
        "score = [96,88,97,99,76]\n",
        "print(score)"
      ],
      "execution_count": null,
      "outputs": []
    },
    {
      "cell_type": "markdown",
      "metadata": {
        "id": "E32m-37UizJw"
      },
      "source": [
        "# **Assignment #1**\n",
        "\n",
        "1. Create a list called grades with the following values:\n",
        "2,43,76,98,10,33,25,37,44,33,100,1,90,23, 27, 11\n",
        "2. Print the list."
      ]
    },
    {
      "cell_type": "code",
      "metadata": {
        "id": "GyxccAnqmhR2"
      },
      "source": [
        "#Create a list with the following values:\n",
        "#2,43,76,98,10,33,25,37,44,33,100,1,90,23, 27, 11\n",
        "#TODO"
      ],
      "execution_count": null,
      "outputs": []
    },
    {
      "cell_type": "markdown",
      "metadata": {
        "id": "5HtybzdvQKld"
      },
      "source": [
        "# Choosing an element in a list\n",
        "To choose a single element in the list, use the form<br>\n",
        "List-name[index number]<br>\n",
        "For example:\n",
        "*   averages[0] ... this selects the **first** element in the list\n",
        "*   averages[4] . ... this selects the **fifth** element in the list\n",
        "\n",
        "\n",
        "\n",
        "\n"
      ]
    },
    {
      "cell_type": "code",
      "metadata": {
        "id": "azVTDnV-Qzt2"
      },
      "source": [
        "#Create a list\n",
        "score = [96,88,97,99,76]\n",
        "print(\"the first element in score is \",score[0])\n",
        "print(\"the second element in score is \",score[1])\n",
        "print(\"the third element in score is \",score[2])\n",
        "print(\"the fourth element in score is \",score[3])\n",
        "print(\"the fifth element in score is \",score[4])"
      ],
      "execution_count": null,
      "outputs": []
    },
    {
      "cell_type": "markdown",
      "metadata": {
        "id": "27GZ9HcCRQkz"
      },
      "source": [
        "# **Assignment #2**\n",
        "\n",
        "1. Create a list called grades with the following values:\n",
        "2,43,76,98,10,33,25,37,44,33,100,1,90,23, 27, 11\n",
        "2. Print the list.\n",
        "3. Print the following elements of the grades:<br>\n",
        "first element, 4th element, 10th element, last element"
      ]
    },
    {
      "cell_type": "code",
      "metadata": {
        "id": "uxHaeIR2Ri-0"
      },
      "source": [
        "#Assignment #2\n",
        "\n",
        "#1. Create a list called grades with the following values:\n",
        "#   2,43,76,98,10,33,25,37,44,33,100,1,90,23, 27, 11\n",
        "#2. Print the list.\n",
        "#3. Print the following elements of the grades:<br>\n",
        "#   first element, 4th element, 10th element, last element\n",
        "\n",
        "#TODO"
      ],
      "execution_count": null,
      "outputs": []
    },
    {
      "cell_type": "markdown",
      "metadata": {
        "id": "fSZE4lQA50NM"
      },
      "source": [
        "# Sorting Lists\n",
        "As we saw at the start of this lesson, sorting a series of variables is not a trivial task. In fact, computer science students spend quite a bit of time learning many different sort algorithms because it is such and important and compute intensive task. <br>\n",
        "<br>\n",
        "Using a Python List can make sorting a large number of variables very easy. Just use the built-in sort function. <br>\n",
        "<br>\n",
        "The form of the built-in sort function is: <br><br>\n",
        "list-name.sort()<br>\n",
        "For example: <br>\n",
        "score.sort()"
      ]
    },
    {
      "cell_type": "code",
      "metadata": {
        "id": "xG_Uuiuo53vg"
      },
      "source": [
        "#Create a list\n",
        "score = [96,88,97,99,76]\n",
        "\n",
        "#sort the list into numerical order\n",
        "score.sort()\n",
        "print(score)"
      ],
      "execution_count": null,
      "outputs": []
    },
    {
      "cell_type": "markdown",
      "metadata": {
        "id": "CHQvZT4TmpYg"
      },
      "source": [
        "# **Assignment #3**\n",
        "1. Create a list called grades with values:<br>\n",
        "  23,54,87,56,99,87,32,9,29,76,75,45\n",
        "1. Sort the list from lowest to highest number\n",
        "2. Print the list"
      ]
    },
    {
      "cell_type": "code",
      "metadata": {
        "id": "pDnuhr7_m4GY"
      },
      "source": [
        "#Assignment 3\n",
        "#Sort the list called grades\n",
        "#TODO"
      ],
      "execution_count": null,
      "outputs": []
    },
    {
      "cell_type": "markdown",
      "metadata": {
        "id": "DHCasCEvnCsw"
      },
      "source": [
        "Python lists have a number of built in methods. <br>\n",
        "There is no need to memorize the built in methods, because.... we have the internet!<br>\n",
        "Go to [this link](https://www.w3schools.com/python/python_ref_list.asp) to see the methods for lists."
      ]
    },
    {
      "cell_type": "markdown",
      "metadata": {
        "id": "e5iwsTZ4rjwd"
      },
      "source": [
        "# **Assignment #4**\n",
        "1. Create a list with 10 float values.\n",
        "2. Sort the list in ascending order.\n",
        "3. Sort the list in descending order.\n",
        "4. Print the list."
      ]
    },
    {
      "cell_type": "code",
      "metadata": {
        "id": "OpZvIRF5sL90"
      },
      "source": [
        "#Create a list of floats\n",
        "#Sort in ascending order\n",
        "#Then sort in descending order\n",
        "#TODO"
      ],
      "execution_count": null,
      "outputs": []
    },
    {
      "cell_type": "markdown",
      "metadata": {
        "id": "pOX8BkM6sXm6"
      },
      "source": [
        "# **Assignment #5**\n",
        "1. Create a list of 10 states names.\n",
        "2. Print the list.\n",
        "3. Delete the state name in the 5th position in the list. Remember lists start with position 0.\n",
        "4. Print the list.\n",
        "5. Add Hawaii to the end of the list."
      ]
    },
    {
      "cell_type": "code",
      "metadata": {
        "id": "-fuz4CsQtEoK"
      },
      "source": [
        "\n",
        "#1. Create a list of 10 states names.\n",
        "#2. Print the list.\n",
        "#3. Delete the state name in the 5th position in the list. Remember lists start with position 0.\n",
        "#4. Print the list.\n",
        "#5. Add Hawaii to the end of the list.\n",
        "#TODO"
      ],
      "execution_count": null,
      "outputs": []
    },
    {
      "cell_type": "markdown",
      "metadata": {
        "id": "-_crEztc6qgM"
      },
      "source": [
        "# **Assignment #6**\n",
        "1. Create a list of 10 floats. <br>\n",
        "Using the builtin functions at https://www.tutorialspoint.com/python/python_lists.htm perform the following tasks:\n",
        "2. Print the list\n",
        "3. Print the minimum number from the list\n",
        "4. Print the maximum number from the list\n",
        "5. Print the length of the list"
      ]
    },
    {
      "cell_type": "code",
      "metadata": {
        "id": "NLPlnq-wHp4H"
      },
      "source": [
        "#Assignment #6\n",
        "#1. Create a list of 10 floats. <br>\n",
        "#Using the builtin functions at https://www.tutorialspoint.com/python/python_lists.htm perform the following tasks:\n",
        "#2. Print the list\n",
        "#3. Print the minimum number from the list\n",
        "#4. Print the maximum number from the list\n",
        "#5. Print the length of the list\n",
        "\n",
        "#TODO\n"
      ],
      "execution_count": null,
      "outputs": []
    },
    {
      "cell_type": "markdown",
      "metadata": {
        "id": "I3jyHrr2W2R7"
      },
      "source": [
        "# Quiz"
      ]
    },
    {
      "cell_type": "code",
      "metadata": {
        "id": "YaC9J8rGTWzW"
      },
      "source": [
        "page(2)"
      ],
      "execution_count": null,
      "outputs": []
    },
    {
      "cell_type": "code",
      "metadata": {
        "id": "MrrJKqAbUEfn",
        "cellView": "form"
      },
      "source": [
        "#@title Q1: What is the output of the above code?\n",
        "variable_name = \"name\" #@param {type:\"string\"}\n",
        "variable_name = variable_name.lower()\n",
        "if variable_name == \"tim\":\n",
        "  print(\"correct!\")\n",
        "else:\n",
        "  print(\"Try again. Remember List indexes start with 0\")\n"
      ],
      "execution_count": null,
      "outputs": []
    },
    {
      "cell_type": "code",
      "metadata": {
        "id": "cnSLMl2lWQJc"
      },
      "source": [
        "page(3)"
      ],
      "execution_count": null,
      "outputs": []
    },
    {
      "cell_type": "code",
      "metadata": {
        "id": "L6EuckYsWZtg",
        "cellView": "form"
      },
      "source": [
        "#@title Q2: What is the outcome of the above code?\n",
        "\n",
        "pick_me = \"pick one\"  #@param ['pick one','77 is above 50', '77 is above 75', '77 is above 100', '77 is too small to count']\n",
        "if pick_me == \"77 is above 50\":\n",
        "  print(\"correct!\")\n",
        "else:\n",
        "  print(\"Try again, remember the first true 'elif' statement is executed\" )\n"
      ],
      "execution_count": null,
      "outputs": []
    },
    {
      "cell_type": "code",
      "metadata": {
        "id": "i560Bp3vaRRw"
      },
      "source": [
        "page(4)"
      ],
      "execution_count": null,
      "outputs": []
    },
    {
      "cell_type": "code",
      "metadata": {
        "id": "Zj5Eez0_aFu6",
        "cellView": "form"
      },
      "source": [
        "#@title Q3: What is the output of the code?\n",
        "pick_me = \"77 is above 25\"  #@param ['77 is above 25', '77 is above 50', '77 is above 75', 'is to large to count']\n",
        "if pick_me == \"77 is above 25\":\n",
        "  print(\"correct!\")\n",
        "else:\n",
        "  print(\"Try again, remember the first true 'elif' statement is executed\" )"
      ],
      "execution_count": null,
      "outputs": []
    },
    {
      "cell_type": "markdown",
      "metadata": {
        "id": "aduvcAS8bG_t"
      },
      "source": [
        "# **Assignment #7**\n",
        "Create a program that performs the following task:\n",
        "1. Create a List called scores with the following values:\n",
        "   5,4,8,7,2,2,4,9,1,3,8,6,9,8\n",
        "2. Check the 1, 3, 5, 10 index values. If all 4 values are greater than 2 and less than 7, print \"PASS\"\n",
        "3. If only 3 of the values are greater than 2 and less than 7, print \"ALMOST PASS\"\n",
        "4. If only 2 of the values are greater than 2 and less than 7, print \"ALMOST FAIL\"\n",
        "5. If only 1 of the value is greater than 2 and less than 7, print \"FAIL\""
      ]
    },
    {
      "cell_type": "code",
      "metadata": {
        "id": "WhwYroMYbGWo"
      },
      "source": [
        "#Assignment #7\n",
        "#Create a program that performs the following task:\n",
        "#1. Create a List called scores with the following values:\n",
        "#  5,4,8,7,2,2,4,9,1,3,8,6,9,8\n",
        "#2. Check the 1, 3, 5, 10 index values. If all 4 values are greater than 2 and less than 7, print \"PASS\"\n",
        "#3. If only 3 of the values are greater than 2 and less than 7, print \"ALMOST PASS\"\n",
        "#4. If only 2 of the values are greater than 2 and less than 7, print \"ALMOST FAIL\"\n",
        "#5. If only 1 of the value is greater than 2 and less than 7, print \"FAIL\"\n",
        "\n",
        "#TODO"
      ],
      "execution_count": null,
      "outputs": []
    },
    {
      "cell_type": "markdown",
      "metadata": {
        "id": "laiImYAAXjX3"
      },
      "source": [
        "# List of Lists\n",
        "https://www.dataquest.io/blog/python-list-tutorial/\n",
        "\n",
        "Let's create several Lists and see what we can do with them.<br>\n",
        "\n"
      ]
    },
    {
      "cell_type": "code",
      "metadata": {
        "id": "zr3dnd5aXMiL"
      },
      "source": [
        "#Movie title, weeks released, weekend gross, rotten tomatoes rating\n",
        "row_1 = ['Star Wars: Rise of Skywalker',3,34.5, 54]\n",
        "row_2 = ['Jumanji: The Next Level', 4, 26.2, 70 ]\n",
        "row_3 = ['Little Women', 3, 26.2, 95]\n",
        "row_4 = ['The Grudge', 1, 11.4, 16]\n",
        "\n",
        "#Make a list of lists\n",
        "data_set = [row_1, row_2, row_3, row_4]\n",
        "\n",
        "#print the data set\n",
        "print(\"The data set \",data_set)\n",
        "#notice the double row of brackets in the output\n",
        "#and the commas between the rows\n",
        "print(\"the title of the first movie:\", data_set[0][0])\n",
        "print(\"the rotten tomato value of the first movie:\", data_set[0][3])\n",
        "print(\"the title of the second movie:\", data_set[1][0])\n",
        "print(\"the rotten tomato value of the third movie:\", data_set[2][3],\"\\n\")\n",
        "\n",
        "#print the rotten tomatoes rating for the third row in the dataset\n",
        "print(row_3[3], \"is the rotten tomatoes rating for \", row_3[0])"
      ],
      "execution_count": null,
      "outputs": []
    },
    {
      "cell_type": "markdown",
      "metadata": {
        "id": "SnmkC0mQaQRK"
      },
      "source": [
        "# **Assignment #8**\n",
        "Create a List of Lists (call it dataset) for the rows shown below.\n",
        "<br>\n",
        "T-Meter is the rotten tomatoes rating\n",
        "<br><br>\n",
        "Then print the average of the weekend gross for all the listed movies."
      ]
    },
    {
      "cell_type": "code",
      "metadata": {
        "id": "xXwmWqP2bHmW"
      },
      "source": [
        "page(5)"
      ],
      "execution_count": null,
      "outputs": []
    },
    {
      "cell_type": "code",
      "metadata": {
        "id": "68JjjAlybW-2"
      },
      "source": [
        "# **Assignment #8**\n",
        "#Create a List of Lists (call it dataset) for the rows shown above.\n",
        "#Then print the average of the weekend gross for all the listed movies.\n",
        "\n",
        "#TODO"
      ],
      "execution_count": null,
      "outputs": []
    },
    {
      "cell_type": "markdown",
      "metadata": {
        "id": "AHBcEGqvoKzh"
      },
      "source": [
        "Congrats! You finished another Python Module.\n",
        "Keep up the good work....start the next module\n",
        "\n",
        "C4 Intro to ML Programming with Python\n",
        "<br><br>\n",
        "Instructions to access the notebooks:<br>\n",
        "In a Chrome or Firefox Window type on the search bar: **Google CoLab**<br>\n",
        "\n",
        "On the orange menu bar, select the menu item: **GITHUB**<br>\n",
        "\n",
        "If the orange pop-up menu does not appear, <br>\n",
        "\n",
        "In the Notebook environment, select File>Open notebook <br>\n",
        "\n",
        "The orange pop-up menu should now appear.<br>\n",
        "\n",
        "Select:  GITHUB<br>\n",
        "\n",
        "On the search bar type in: **cagBRT**  This will bring up my gitHub repository. <br>\n",
        "\n",
        "On the drop down menu select: cagBRT/<br>**Intro-To-Programming-with-Python**<br>\n",
        "\n",
        "Then select: **Intro to C4 Intro to Python.ipynb**<br>"
      ]
    }
  ]
}