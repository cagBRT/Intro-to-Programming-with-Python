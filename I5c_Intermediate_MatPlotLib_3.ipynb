{
  "nbformat": 4,
  "nbformat_minor": 0,
  "metadata": {
    "colab": {
      "private_outputs": true,
      "provenance": [],
      "authorship_tag": "ABX9TyME8DLC4CSQJ/zt/DBsgvVq",
      "include_colab_link": true
    },
    "kernelspec": {
      "name": "python3",
      "display_name": "Python 3"
    },
    "language_info": {
      "name": "python"
    }
  },
  "cells": [
    {
      "cell_type": "markdown",
      "metadata": {
        "id": "view-in-github",
        "colab_type": "text"
      },
      "source": [
        "<a href=\"https://colab.research.google.com/github/cagBRT/Intro-to-Programming-with-Python/blob/master/I5c_Intermediate_MatPlotLib_3.ipynb\" target=\"_parent\"><img src=\"https://colab.research.google.com/assets/colab-badge.svg\" alt=\"Open In Colab\"/></a>"
      ]
    },
    {
      "cell_type": "markdown",
      "source": [
        "**In this notebook we look:**<br>\n",
        "1. Annotating MatplotLib plts\n",
        "2. Creating zoom-in boxes on sections of a plot\n"
      ],
      "metadata": {
        "id": "nWxclfH3dULx"
      }
    },
    {
      "cell_type": "code",
      "source": [
        "# Clone the entire repo.\n",
        "!git clone -l -s https://github.com/cagBRT/Intro-to-Programming-with-Python.git cloned-repo\n",
        "%cd cloned-repo"
      ],
      "metadata": {
        "id": "SXYqEGt5F3UZ"
      },
      "execution_count": null,
      "outputs": []
    },
    {
      "cell_type": "code",
      "execution_count": null,
      "metadata": {
        "id": "imbHYhh8dR4y"
      },
      "outputs": [],
      "source": [
        "import pandas as pd\n",
        "import numpy as np\n",
        "\n",
        "import matplotlib.pyplot as plt\n",
        "import seaborn as sns\n",
        "import yfinance\n",
        "\n",
        "from datetime import datetime\n",
        "\n",
        "sns.set()"
      ]
    },
    {
      "cell_type": "code",
      "source": [
        "raw_data = yfinance.download (tickers = \"^GSPC\", start = '2020-01-01',\n",
        "                              end = '2022-03-31', interval = \"1d\")"
      ],
      "metadata": {
        "id": "fLbfZcWudaVj"
      },
      "execution_count": null,
      "outputs": []
    },
    {
      "cell_type": "code",
      "source": [
        "raw_data"
      ],
      "metadata": {
        "id": "XNS4KBOst2KZ"
      },
      "execution_count": null,
      "outputs": []
    },
    {
      "cell_type": "code",
      "source": [
        "fig, ax = plt.subplots(figsize=(12, 6))\n",
        "\n",
        "ax.plot(raw_data.index, raw_data.Close)\n",
        "\n",
        "plt.xlabel(\"Date\", fontweight = \"bold\", size = 20)\n",
        "plt.xticks(size = 15, rotation = 45)\n",
        "plt.ylabel(\"S&P 500\", fontweight = \"bold\", size = 20)\n",
        "plt.yticks(size = 15)\n",
        "plt.title(\"Usual Plot\", fontweight = \"bold\", size = 30)"
      ],
      "metadata": {
        "id": "enshwa6OdeUA"
      },
      "execution_count": null,
      "outputs": []
    },
    {
      "cell_type": "code",
      "source": [
        "fig, ax = plt.subplots(figsize=(13, 6))\n",
        "\n",
        "ax.plot(raw_data.index, raw_data.Close)\n",
        "\n",
        "# First peak annotation\n",
        "ax.annotate('First Wave', (datetime(2020,2,20), 3400), (datetime(2020,1,31), 4000), size=15, fontweight = \"bold\", va=\"center\", ha=\"center\",\n",
        "            arrowprops=dict(arrowstyle=\"simple\", facecolor='orange',\n",
        "                            connectionstyle=\"arc3,rad=-0.2\"))\n",
        "\n",
        "# Second peak annotation\n",
        "ax.annotate('Second Wave', xy=(datetime(2020,9,23), 3250), xytext=(datetime(2020,11,15), 2700), size=15, fontweight = \"bold\", va=\"center\", ha=\"center\",\n",
        "            arrowprops=dict(arrowstyle=\"simple\", facecolor='orange',\n",
        "                            connectionstyle=\"arc3,rad=-0.2\"))\n",
        "\n",
        "# Second peak annotation\n",
        "ax.annotate('Third Wave', xy=(datetime(2020,10,30), 3450), xytext=(datetime(2020,9,15), 4300), size=15, fontweight = \"bold\", va=\"center\", ha=\"center\",\n",
        "            arrowprops=dict(arrowstyle=\"simple\", facecolor='orange',\n",
        "                            connectionstyle=\"arc3,rad=-0.2\"))\n",
        "\n",
        "# Third peak annotation\n",
        "ax.annotate('Fourth Wave', xy=(datetime(2021,9,30), 4300), xytext=(datetime(2021,7,31), 3500), size=15, fontweight = \"bold\", va=\"center\", ha=\"center\",\n",
        "            arrowprops=dict(arrowstyle=\"simple\", facecolor='orange',\n",
        "                            connectionstyle=\"arc3,rad=0.2\"))\n",
        "\n",
        "# Fourth peak annotation\n",
        "ax.annotate('Fifth Wave', xy=(datetime(2022,1,27), 4300), xytext=(datetime(2022,2,28), 3500), size=15, fontweight = \"bold\", va=\"center\", ha=\"center\",\n",
        "            arrowprops=dict(arrowstyle=\"simple\", facecolor='orange',\n",
        "                            connectionstyle=\"arc3,rad=-0.2\"))\n",
        "\n",
        "plt.xlabel(\"Date\", fontweight = \"bold\", size = 20)\n",
        "plt.xticks(size = 15, rotation = 45)\n",
        "plt.ylabel(\"S&P 500\", fontweight = \"bold\", size = 20)\n",
        "plt.yticks(size = 15)\n",
        "plt.title(\"Annotated Plot\", fontweight = \"bold\", size = 30)"
      ],
      "metadata": {
        "id": "51uTzLv9dj4j"
      },
      "execution_count": null,
      "outputs": []
    },
    {
      "cell_type": "markdown",
      "source": [
        "## Inset Boxes"
      ],
      "metadata": {
        "id": "MCp5eBvkHTMG"
      }
    },
    {
      "cell_type": "code",
      "source": [
        "fig, ax = plt.subplots()\n",
        "ax.plot(range(10))\n",
        "axin1 = ax.inset_axes([0.8, 0.1, 0.15, 0.15])\n",
        "axin2 = ax.inset_axes(\n",
        "        [5, 7, 2.3, 2.3], transform=ax.transData)"
      ],
      "metadata": {
        "id": "x3egZ4dmZGgA"
      },
      "execution_count": null,
      "outputs": []
    },
    {
      "cell_type": "markdown",
      "source": [
        "## Zoom Region Inset Axes"
      ],
      "metadata": {
        "id": "NSMsfoACDcsq"
      }
    },
    {
      "cell_type": "code",
      "source": [
        "from matplotlib import cbook\n",
        "from matplotlib import pyplot as plt\n",
        "\n",
        "fig, ax = plt.subplots()\n",
        "\n",
        "# make data\n",
        "np_load=True\n",
        "\n",
        "Z = cbook.get_sample_data(\"/content/cloned-repo/advanced_content/bivariate_normal.npy\",np_load=True)  # 15x15 array\n",
        "Z2 = np.zeros((150, 150))\n",
        "#print(Z)\n",
        "ny, nx = Z.shape\n",
        "Z2[30:30+ny, 30:30+nx] = Z\n",
        "extent = (-3, 4, -4, 3)\n",
        "\n",
        "ax.imshow(Z2, extent=extent, origin=\"lower\")\n",
        "\n",
        "# inset axes....\n",
        "x1, x2, y1, y2 = -1.5, -0.9, -2.5, -1.9  # subregion of the original image\n",
        "axins = ax.inset_axes(\n",
        "    [0.5, 0.5, 0.47, 0.47],\n",
        "    xlim=(x1, x2), ylim=(y1, y2), xticklabels=[], yticklabels=[])\n",
        "axins.imshow(Z2, extent=extent, origin=\"lower\")\n",
        "\n",
        "ax.indicate_inset_zoom(axins, edgecolor=\"black\")\n",
        "\n",
        "plt.show()"
      ],
      "metadata": {
        "id": "4--K5gNtDc4p"
      },
      "execution_count": null,
      "outputs": []
    },
    {
      "cell_type": "markdown",
      "source": [
        "## Zoom Region Inset Axes Example 2"
      ],
      "metadata": {
        "id": "iIbzvvuSdIvt"
      }
    },
    {
      "cell_type": "code",
      "source": [
        "from math import isclose; import matplotlib.pyplot as plt\n",
        "\n",
        "# set up main fig/axes\n",
        "fig, main_ax = plt.subplots(); main_ax.set_box_aspect(0.5)\n",
        "inset_ax = main_ax.inset_axes(\n",
        "   [0.05, 0.65, 0.3, 0.3],  # [x, y, width, height] w.r.t. axes\n",
        "    xlim=[4, 5], ylim=[4, 5], # sets viewport & tells relation to main axes\n",
        "    xticklabels=[], yticklabels=[]\n",
        ")\n",
        "\n",
        "# add plot content\n",
        "for ax in main_ax, inset_ax:\n",
        "    ax.plot([0, 9], [0, 9])  # first example line\n",
        "    ax.plot([0, 9], [1, 8])  # second example line\n",
        "\n",
        "# add zoom leaders\n",
        "main_ax.indicate_inset_zoom(inset_ax, edgecolor=\"blue\")\n",
        "\n",
        "# careful! warn if aspect ratio of inset axes doesn't match main axes\n",
        "if not isclose(inset_ax._get_aspect_ratio(), main_ax._get_aspect_ratio()):\n",
        "    print(\"chosen inset x/ylim & width/height skew aspect w.r.t. main axes!\")\n"
      ],
      "metadata": {
        "id": "6cD5JYzvc9ex"
      },
      "execution_count": null,
      "outputs": []
    }
  ]
}