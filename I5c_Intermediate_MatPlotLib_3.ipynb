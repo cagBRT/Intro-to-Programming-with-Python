{
  "nbformat": 4,
  "nbformat_minor": 0,
  "metadata": {
    "colab": {
      "private_outputs": true,
      "provenance": [],
      "authorship_tag": "ABX9TyPqvr/uvbHbicwa16nRZn9+",
      "include_colab_link": true
    },
    "kernelspec": {
      "name": "python3",
      "display_name": "Python 3"
    },
    "language_info": {
      "name": "python"
    }
  },
  "cells": [
    {
      "cell_type": "markdown",
      "metadata": {
        "id": "view-in-github",
        "colab_type": "text"
      },
      "source": [
        "<a href=\"https://colab.research.google.com/github/cagBRT/Intro-to-Programming-with-Python/blob/master/I5c_Intermediate_MatPlotLib_3.ipynb\" target=\"_parent\"><img src=\"https://colab.research.google.com/assets/colab-badge.svg\" alt=\"Open In Colab\"/></a>"
      ]
    },
    {
      "cell_type": "code",
      "execution_count": null,
      "metadata": {
        "id": "imbHYhh8dR4y"
      },
      "outputs": [],
      "source": [
        "import pandas as pd\n",
        "import numpy as np\n",
        "\n",
        "import matplotlib.pyplot as plt\n",
        "import seaborn as sns\n",
        "import yfinance\n",
        "\n",
        "from datetime import datetime\n",
        "\n",
        "sns.set()"
      ]
    },
    {
      "cell_type": "code",
      "source": [
        "raw_data = yfinance.download (tickers = \"^GSPC\", start = '2020-01-01',\n",
        "                              end = '2022-03-31', interval = \"1d\")"
      ],
      "metadata": {
        "id": "fLbfZcWudaVj"
      },
      "execution_count": null,
      "outputs": []
    },
    {
      "cell_type": "code",
      "source": [
        "raw_data"
      ],
      "metadata": {
        "id": "XNS4KBOst2KZ"
      },
      "execution_count": null,
      "outputs": []
    },
    {
      "cell_type": "code",
      "source": [
        "fig, ax = plt.subplots(figsize=(12, 6))\n",
        "\n",
        "ax.plot(raw_data.index, raw_data.Close)\n",
        "\n",
        "plt.xlabel(\"Date\", fontweight = \"bold\", size = 20)\n",
        "plt.xticks(size = 15, rotation = 45)\n",
        "plt.ylabel(\"S&P 500\", fontweight = \"bold\", size = 20)\n",
        "plt.yticks(size = 15)\n",
        "plt.title(\"Usual Plot\", fontweight = \"bold\", size = 30)"
      ],
      "metadata": {
        "id": "enshwa6OdeUA"
      },
      "execution_count": null,
      "outputs": []
    },
    {
      "cell_type": "code",
      "source": [
        "fig, ax = plt.subplots(figsize=(13, 6))\n",
        "\n",
        "ax.plot(raw_data.index, raw_data.Close)\n",
        "\n",
        "# First peak annotation\n",
        "ax.annotate('First Wave', (datetime(2020,2,20), 3400), (datetime(2020,1,31), 4000), size=15, fontweight = \"bold\", va=\"center\", ha=\"center\",\n",
        "            arrowprops=dict(arrowstyle=\"simple\", facecolor='orange',\n",
        "                            connectionstyle=\"arc3,rad=-0.2\"))\n",
        "\n",
        "# Second peak annotation\n",
        "ax.annotate('Second Wave', xy=(datetime(2020,9,23), 3250), xytext=(datetime(2020,11,15), 2700), size=15, fontweight = \"bold\", va=\"center\", ha=\"center\",\n",
        "            arrowprops=dict(arrowstyle=\"simple\", facecolor='orange',\n",
        "                            connectionstyle=\"arc3,rad=-0.2\"))\n",
        "\n",
        "# Second peak annotation\n",
        "ax.annotate('Third Wave', xy=(datetime(2020,10,30), 3450), xytext=(datetime(2020,9,15), 4300), size=15, fontweight = \"bold\", va=\"center\", ha=\"center\",\n",
        "            arrowprops=dict(arrowstyle=\"simple\", facecolor='orange',\n",
        "                            connectionstyle=\"arc3,rad=-0.2\"))\n",
        "\n",
        "# Third peak annotation\n",
        "ax.annotate('Fourth Wave', xy=(datetime(2021,9,30), 4300), xytext=(datetime(2021,7,31), 3500), size=15, fontweight = \"bold\", va=\"center\", ha=\"center\",\n",
        "            arrowprops=dict(arrowstyle=\"simple\", facecolor='orange',\n",
        "                            connectionstyle=\"arc3,rad=0.2\"))\n",
        "\n",
        "# Fourth peak annotation\n",
        "ax.annotate('Fifth Wave', xy=(datetime(2022,1,27), 4300), xytext=(datetime(2022,2,28), 3500), size=15, fontweight = \"bold\", va=\"center\", ha=\"center\",\n",
        "            arrowprops=dict(arrowstyle=\"simple\", facecolor='orange',\n",
        "                            connectionstyle=\"arc3,rad=-0.2\"))\n",
        "\n",
        "plt.xlabel(\"Date\", fontweight = \"bold\", size = 20)\n",
        "plt.xticks(size = 15, rotation = 45)\n",
        "plt.ylabel(\"S&P 500\", fontweight = \"bold\", size = 20)\n",
        "plt.yticks(size = 15)\n",
        "plt.title(\"Annotated Plot\", fontweight = \"bold\", size = 30)"
      ],
      "metadata": {
        "id": "51uTzLv9dj4j"
      },
      "execution_count": null,
      "outputs": []
    }
  ]
}