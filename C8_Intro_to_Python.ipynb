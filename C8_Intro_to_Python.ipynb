{
  "nbformat": 4,
  "nbformat_minor": 0,
  "metadata": {
    "colab": {
      "name": "C8 Intro to Python.ipynb",
      "private_outputs": true,
      "provenance": [],
      "include_colab_link": true
    },
    "kernelspec": {
      "name": "python3",
      "display_name": "Python 3"
    }
  },
  "cells": [
    {
      "cell_type": "markdown",
      "metadata": {
        "id": "view-in-github",
        "colab_type": "text"
      },
      "source": [
        "<a href=\"https://colab.research.google.com/github/cagBRT/Intro-to-Programming-with-Python/blob/master/C8_Intro_to_Python.ipynb\" target=\"_parent\"><img src=\"https://colab.research.google.com/assets/colab-badge.svg\" alt=\"Open In Colab\"/></a>"
      ]
    },
    {
      "cell_type": "markdown",
      "metadata": {
        "id": "K3BhuCRC2mqW"
      },
      "source": [
        "# **MatPlotlib**<br>\n",
        "\n",
        "In this notebook we learn how to plot with MatPlotLib<br>\n",
        "The link below is a page of MatPlotLib examples<br>\n",
        "https://matplotlib.org/examples/"
      ]
    },
    {
      "cell_type": "code",
      "metadata": {
        "id": "ZGvK6lyz2fca"
      },
      "source": [
        "# Clone the entire repo.\n",
        "!git clone -l -s https://github.com/cagBRT/Intro-to-Programming-with-Python.git cloned-repo\n",
        "%cd cloned-repo\n",
        "!ls"
      ],
      "execution_count": null,
      "outputs": []
    },
    {
      "cell_type": "code",
      "metadata": {
        "id": "vRdB7f8NUfJc"
      },
      "source": [
        "from IPython.display import Image\n",
        "def page(num):\n",
        "    return Image(\"c8-content/c8PythonProgramming\"+str(num)+ \".png\" , width=640)"
      ],
      "execution_count": null,
      "outputs": []
    },
    {
      "cell_type": "markdown",
      "metadata": {
        "id": "dMZ5LwNrUzZr"
      },
      "source": [
        "# **Introduction to Matplotlib**"
      ]
    },
    {
      "cell_type": "markdown",
      "metadata": {
        "id": "iI9otsKTUn_r"
      },
      "source": [
        "Matplotlib is a very powerful plotting library useful for those working with Python and NumPy. The most used module of Matplotib is Pyplot which provides an interface like MATLAB. It uses Python and it is open source.<br>\n",
        "\n",
        "Below is an image showing the names of the more common elements of a Matplotlib plot."
      ]
    },
    {
      "cell_type": "code",
      "metadata": {
        "id": "OQmGd-IpUj-j"
      },
      "source": [
        "page(1)"
      ],
      "execution_count": null,
      "outputs": []
    },
    {
      "cell_type": "markdown",
      "metadata": {
        "id": "aKCu2D6TVb32"
      },
      "source": [
        "# **Import Matplotlib**\n",
        "Notice that Matplotlib is installed as plt. This is done to make it easier to type code. <br>\n",
        "Instead of having to add the full library name each time you use a matplotlib command, you can use plt.\n",
        "<br>\n",
        "The import \"as\" works with any import statement."
      ]
    },
    {
      "cell_type": "code",
      "metadata": {
        "id": "Inu5slAUVQVf"
      },
      "source": [
        "import matplotlib.pyplot as plt"
      ],
      "execution_count": null,
      "outputs": []
    },
    {
      "cell_type": "markdown",
      "metadata": {
        "id": "fIPdMvvFVruT"
      },
      "source": [
        "# **Make a simple plot**\n"
      ]
    },
    {
      "cell_type": "code",
      "metadata": {
        "id": "uyD1AHN2WRrR"
      },
      "source": [
        "#Plot a set of 5 points on a graph\n",
        "plt.plot([2,4,6,8,10], [1,3,5,7,9])\n",
        "#Use show to print it\n",
        "plt.show()"
      ],
      "execution_count": null,
      "outputs": []
    },
    {
      "cell_type": "markdown",
      "metadata": {
        "id": "-je0tjjYXQyU"
      },
      "source": [
        "# **Assignment #1**\n",
        "1. Plot the following points\n",
        ">(1,7), (5,6), (10,5), (15, 4), (20, 3), (25, 2), (30,1)"
      ]
    },
    {
      "cell_type": "code",
      "metadata": {
        "id": "1fvunmXfhXKl"
      },
      "source": [],
      "execution_count": null,
      "outputs": []
    },
    {
      "cell_type": "markdown",
      "metadata": {
        "id": "gO1VA9xKhehx"
      },
      "source": [
        "# **Plot from Python Lists**"
      ]
    },
    {
      "cell_type": "code",
      "metadata": {
        "id": "Um7pmln9WulD"
      },
      "source": [
        "#Plot a set of 5 points on a graph\n",
        "#The points can be lists\n",
        "x_coordinate = [2,4,6,8,10]\n",
        "y_coordinate = [1,3,5,7,9]\n",
        "plt.plot(x_coordinate, y_coordinate)\n",
        "#Use show to print it\n",
        "plt.show()"
      ],
      "execution_count": null,
      "outputs": []
    },
    {
      "cell_type": "markdown",
      "metadata": {
        "id": "zgIcCIBZYDaO"
      },
      "source": [
        "# **Assignment #2**\n",
        "Plot the following lists. <br>\n",
        "list1 along the x axis <br>\n",
        "list2 along the y axis <br>\n",
        ">list1 = [22,33,44,55,66,77] <br>\n",
        ">list2 = [1, 4, 16, 55, 67, 98]\n"
      ]
    },
    {
      "cell_type": "code",
      "metadata": {
        "id": "5ZMHoGGmr8DA"
      },
      "source": [],
      "execution_count": null,
      "outputs": []
    },
    {
      "cell_type": "markdown",
      "metadata": {
        "id": "3BOMB5cZXH5X"
      },
      "source": [
        "# **Add titles and labels**"
      ]
    },
    {
      "cell_type": "code",
      "metadata": {
        "id": "YwXc7c-JWuuQ"
      },
      "source": [
        "list1 = [22,33,44,55,66,77]\n",
        "list2 = [1, 4, 16, 20, 23, 98]\n",
        "plt.plot(list1, list2)\n",
        "\n",
        "#add a title to the plot\n",
        "plt.title(\"Simple Plot\")\n",
        "#add x and y labels to a plot\n",
        "plt.xlabel(\"list1\")\n",
        "plt.ylabel(\"list2\")\n",
        "plt.show()"
      ],
      "execution_count": null,
      "outputs": []
    },
    {
      "cell_type": "markdown",
      "metadata": {
        "id": "1Qhp7hDBZieo"
      },
      "source": [
        "# **Assignment #3**\n",
        "1. Plot the following lists\n",
        "> list_x = [33.23,34,32.65,65.4,90]<br>\n",
        ">list_y = [2.32,0.33,2.021,55.0,65.33]<br>\n",
        "2. Add a title and x and y axis labels to the plot"
      ]
    },
    {
      "cell_type": "markdown",
      "metadata": {
        "id": "PfnHDJ28c9AW"
      },
      "source": [
        "# **Change the size of a figure**\n",
        "Change the size of a figure with:<br>\n",
        "plt.figure(figsize=(x dimension, y dimension)\n"
      ]
    },
    {
      "cell_type": "code",
      "metadata": {
        "id": "39SCVuVSc7Vt"
      },
      "source": [
        "list1 = [22,33,44,55,66,77]\n",
        "list2 = [1, 4, 3.4, 15.6, 3, 98]\n",
        "#plt.figure has to come before the first plt.plot statement\n",
        "plt.figure(figsize=(10,3))\n",
        "plt.plot(list1, list2)\n",
        "\n",
        "#add a title to the plot\n",
        "plt.title(\"Simple Plot\")\n",
        "#add x and y labels to a plot\n",
        "plt.xlabel(\"list1\")\n",
        "plt.ylabel(\"list2\")\n",
        "plt.show()"
      ],
      "execution_count": null,
      "outputs": []
    },
    {
      "cell_type": "markdown",
      "metadata": {
        "id": "eQJqXLjLd9pt"
      },
      "source": [
        "# **Assignment #4**\n",
        "1. Create a plot of a set of 10 points\n",
        "2. Change the figure to have dimensions 8x2"
      ]
    },
    {
      "cell_type": "code",
      "metadata": {
        "id": "ZWyrYRQMRA3p"
      },
      "source": [],
      "execution_count": null,
      "outputs": []
    },
    {
      "cell_type": "markdown",
      "metadata": {
        "id": "nC-NJu4FeZMQ"
      },
      "source": [
        "# **Change the format of the line in a plot**\n",
        "When plotting a line, the color and the type of line can be specified using:\n",
        ">plt.plot(x_points, y_points, \"color-shape\")<br>\n",
        "**Color choices are**:<br>\n",
        "b = blue<br>\n",
        "g = green<br>\n",
        "r= red<br>\n",
        "c = cyan<br>\n",
        "m = magenta<br>\n",
        "y = yellow<br>\n",
        "k = black<br>\n",
        "w = white<br>\n",
        "grey = '0.##' -->  # =  0-1<br>\n",
        "**OR**<br>\n",
        "color='######' -->  # = 0-f numbers<br>\n",
        "<br>\n",
        "**Types of lines**<br>\n",
        "o --> point<br>\n",
        "'-' --> --------<br>\n",
        "'-.' --> -.-.-.-.<br>\n",
        "':' --> .........<br>\n",
        "'+' --> + + + + + <br>\n",
        "'x' --> x x x x x <br>"
      ]
    },
    {
      "cell_type": "code",
      "metadata": {
        "id": "VDuMP7Y0gggX"
      },
      "source": [
        "#Changing the format of a line in a plot\n",
        "list1 = [22,33,44,55,66,77]\n",
        "list2 = [1, 4, 3.4, 15.6, 3, 98]\n",
        "list3 = [10,33,44,50,60,65]\n",
        "list4 = [10, 14, 23.4, 5.6, 30, 98]\n",
        "list5 = [1,2,31,44,50,60]\n",
        "list6 = [10,20,30,40,50,60]\n",
        "list7 = [12,22,32,42,55,63]\n",
        "list8 = [13,24,35,46,57,68]\n",
        "#plt.figure has to come before the first plt.plot statement\n",
        "plt.figure(figsize=(10,3))\n",
        "plt.plot(list1, list2, 'r-')\n",
        "plt.plot(list3, list4, 'b--')\n",
        "\n",
        "#'+' plots the points as a '+'\n",
        "plt.plot(list5, list6, 'g+')\n",
        "#the 'o' plots dots for each point\n",
        "plt.plot(list7, list8, 'mo')\n",
        "\n",
        "#add a title to the plot\n",
        "plt.title(\"Simple Plot\")\n",
        "plt.show()"
      ],
      "execution_count": null,
      "outputs": []
    },
    {
      "cell_type": "markdown",
      "metadata": {
        "id": "jVluTEfmi8_9"
      },
      "source": [
        "Links to Matplotlib colors and line sytles\n",
        "\n",
        "https://matplotlib.org/gallery/lines_bars_and_markers/line_styles_reference.html\n",
        "\n",
        "https://matplotlib.org/3.1.1/tutorials/colors/colors.html\n"
      ]
    },
    {
      "cell_type": "markdown",
      "metadata": {
        "id": "p1yTwmLbh1kB"
      },
      "source": [
        "# **Assignment #5**\n",
        "1. Plot the following points:\n",
        "> list_x = [13,24,35,46,57,68]<br>\n",
        ">list_y = [12,22,32,42,55,63]<br>\n",
        "\n",
        "The plot should have:\n",
        "*   Dimensions 10, 4\n",
        "*   A title\n",
        "\n",
        "*   Labels for the x and y axis\n",
        "*   The line of the data points should be red\n",
        "\n",
        "\n",
        "*   The line should be of the form '--'\n",
        "\n",
        "\n",
        "\n",
        "\n"
      ]
    },
    {
      "cell_type": "code",
      "metadata": {
        "id": "HsdpULuuh5NL"
      },
      "source": [
        "#Assignment 5\n"
      ],
      "execution_count": null,
      "outputs": []
    },
    {
      "cell_type": "markdown",
      "metadata": {
        "id": "2LLL2dVJj-P4"
      },
      "source": [
        "## **Multiple Plots in one Figure**\n",
        "To add multiple plots in one figure, use the plt.subplot function. <br><br>\n",
        "plt.subplot(number-of-rows, number-of-columns, index)<br><br>\n",
        "Note: index begins with 1"
      ]
    },
    {
      "cell_type": "code",
      "metadata": {
        "id": "2v0qyAxIlF-b"
      },
      "source": [
        "#Adding multiplots to one figure\n",
        "plt.subplot(1,2,1) #1 row, 2 columns, first plot\n",
        "plt.plot([3,4,5,9],[55,44,2,8],'r--')\n",
        "plt.title(\"The 1st Subplot\")\n",
        "\n",
        "#The second subplot\n",
        "plt.subplot(1,2,2) #1 row, 2 columns, second plot\n",
        "x = [1,2,3,4,5]\n",
        "y = [3,5,7, 9, 10]\n",
        "plt.plot(x,y,'g')\n",
        "plt.title(\"The 2st Subplot\")"
      ],
      "execution_count": null,
      "outputs": []
    },
    {
      "cell_type": "markdown",
      "metadata": {
        "id": "5HeKyNs8mlM5"
      },
      "source": [
        "# **Assignment #6**\n",
        "1. Create two sets of x,y coordinates. There should be 5 points in each set.\n",
        "2. Plot both lines in separate plots in the same figure.\n",
        "3. Make the first plot have a blue line and the second plot should have a red line.\n",
        "\n",
        "\n"
      ]
    },
    {
      "cell_type": "code",
      "metadata": {
        "id": "i-NlfYqBnFJ_"
      },
      "source": [],
      "execution_count": null,
      "outputs": []
    },
    {
      "cell_type": "markdown",
      "metadata": {
        "id": "VX44yNbHnVVi"
      },
      "source": [
        "**Plots in a single column**<br>\n",
        "You can change the subplot input parameters and make one plot above the other.\n"
      ]
    },
    {
      "cell_type": "code",
      "metadata": {
        "id": "NWxCAE3Vnm5g"
      },
      "source": [
        "#Adding multiplots to one figure\n",
        "plt.subplot(2,1,1) #2 rows, 1 column, first plot\n",
        "plt.plot([3,4,5,9],[55,44,2,8],'r--')\n",
        "plt.title(\"The 1st Subplot\")\n",
        "\n",
        "#The second subplot\n",
        "plt.subplot(2,1,2) #2 rows, 1 column, second plot\n",
        "x = [1,2,3,4,5]\n",
        "y = [3,5,7, 9, 10]\n",
        "plt.plot(x,y,'g')"
      ],
      "execution_count": null,
      "outputs": []
    },
    {
      "cell_type": "markdown",
      "metadata": {
        "id": "VYcc0QALo93L"
      },
      "source": [
        "#\n",
        "Pyplot uses a MatPlotLib method called bar() to make bar graphs. <br>These bar graphs use catagorical data.\n",
        "<br>\n",
        "Format for the bar method is: <br>\n",
        ">bar(x-axis values, y-axis values, color='color-name')"
      ]
    },
    {
      "cell_type": "code",
      "metadata": {
        "id": "Ph7bWDkExyzp"
      },
      "source": [
        "#Pyplot uses a MatPlotLib method called bar() to make bar graphs.\n",
        "#bar(x-axis values, y-axis values, color='color-name')\n",
        "\n",
        "students=['Sue','Tom','Bill','Ann']\n",
        "grades=[43,85,38,97]\n",
        "\n",
        "plt.bar(students, grades)"
      ],
      "execution_count": null,
      "outputs": []
    },
    {
      "cell_type": "markdown",
      "metadata": {
        "id": "2iOd-llt97kX"
      },
      "source": [
        "# **Assignment #7**\n",
        "1. Create a list of 5 classes.\n",
        "2. Create a list of enrollment for the classes.\n",
        "3. Create a bar chart to show enrollment per class."
      ]
    },
    {
      "cell_type": "markdown",
      "metadata": {
        "id": "z7mxejGozvao"
      },
      "source": [
        "# **Assignment #8**\n",
        "1. Read the csv file called chord-progressions.csv. It is in\n",
        ">/content/cloned-repo/data_files/chord-progressions.csv\n",
        "2. Create a bar chart using listing the progression quality and the 4th chord for 5 types of progression.\n"
      ]
    },
    {
      "cell_type": "code",
      "source": [
        "import csv\n",
        "\n",
        "with open('/content/cloned-repo/data_files/chord-progressions.csv') as csvfile:\n",
        "  file_reader = csv.reader(csvfile, delimiter=',', quotechar='|')\n",
        "  grades_list = list(file_reader)\n",
        "grades_list"
      ],
      "metadata": {
        "id": "fgkrdJqZ9Eg3"
      },
      "execution_count": null,
      "outputs": []
    },
    {
      "cell_type": "markdown",
      "metadata": {
        "id": "NKojrxx4v0bG"
      },
      "source": [
        "# **Assignment #9**\n",
        "Read the csv file called data_files/freshman.csv. <br>\n",
        "Create a plot of weight(Sep) vs BMI(Sep)"
      ]
    },
    {
      "cell_type": "code",
      "metadata": {
        "id": "48nh127pvjm3"
      },
      "source": [
        "#Assignment #9\n",
        "\n"
      ],
      "execution_count": null,
      "outputs": []
    },
    {
      "cell_type": "markdown",
      "metadata": {
        "id": "N8GjU6nASi5l"
      },
      "source": [
        "# **Assignment #10**\n",
        "Read the csv file called: <br>\n",
        "c8-content/sitka_weather_2018_full.csv <br>\n",
        "<br>\n",
        "Plot the high temperatures for the year\n",
        "\n",
        "\n"
      ]
    },
    {
      "cell_type": "code",
      "metadata": {
        "id": "CP07v7joV1s0"
      },
      "source": [
        "#Assignment #10"
      ],
      "execution_count": null,
      "outputs": []
    },
    {
      "cell_type": "code",
      "metadata": {
        "id": "anPDDgtVZEcL",
        "cellView": "form"
      },
      "source": [
        "#@title Hidden cell\n",
        "import csv\n",
        "from matplotlib import pyplot as plt\n",
        "\n",
        "filename = 'c8-content/sitka_weather_2018_full.csv'\n",
        "with open(filename) as f:\n",
        "    reader = csv.reader(f)\n",
        "    header_row = next(reader)\n",
        "    highs = []\n",
        "    for row in reader:\n",
        "        if row[8]=='':\n",
        "            continue\n",
        "        high = int(row[8],10)\n",
        "        highs.append(high)  #appending high temperatures\n",
        "\n",
        "    #Plot Data\n",
        "    fig = plt.figure(dpi = 128, figsize = (10,6))\n",
        "    plt.plot(highs, c = 'red') #Line 1\n",
        "    #Format Plot\n",
        "    plt.title(\"Daily High Temperatures, 2018\", fontsize = 24)\n",
        "    plt.xlabel('',fontsize = 16)\n",
        "    plt.ylabel(\"Temperature (F)\", fontsize = 16)\n",
        "    plt.tick_params(axis = 'both', which = 'major' , labelsize = 16)\n",
        "    plt.show()"
      ],
      "execution_count": null,
      "outputs": []
    },
    {
      "cell_type": "markdown",
      "metadata": {
        "id": "JpcDVR4FRhEZ"
      },
      "source": [
        "# **Images and MatPlotLib**\n",
        "\n",
        "***Matplotlib only supports PNG images***<br>"
      ]
    },
    {
      "cell_type": "code",
      "metadata": {
        "id": "5CcuEBhBRkxh"
      },
      "source": [
        "#This turns on inline plotting, where plot graphics will appear in your notebook\n",
        "%matplotlib inline\n",
        "import matplotlib.pyplot as plt\n",
        "import matplotlib.image as mpimg\n",
        "from PIL import Image"
      ],
      "execution_count": null,
      "outputs": []
    },
    {
      "cell_type": "markdown",
      "metadata": {
        "id": "y3xKfR8lTA4u"
      },
      "source": [
        "The following image is a 24-bit RGB PNG image (8 bits for each of R, G, B). <br>\n",
        "Depending on where you get your data, the other kinds of image that you'll most likely encounter are RGBA images"
      ]
    },
    {
      "cell_type": "code",
      "metadata": {
        "id": "7CbHp_LkkMoF"
      },
      "source": [
        "from IPython.display import Image\n",
        "Image(\"https://matplotlib.org/_images/stinkbug.png\" , width=640)"
      ],
      "execution_count": null,
      "outputs": []
    },
    {
      "cell_type": "markdown",
      "metadata": {
        "id": "YyD_IkNRtVQu"
      },
      "source": [
        "# **Heat Maps**\n",
        "\n",
        "reference: https://matplotlib.org/3.1.1/gallery/images_contours_and_fields/image_annotated_heatmap.html\n"
      ]
    },
    {
      "cell_type": "code",
      "metadata": {
        "id": "StrofUgPtilx"
      },
      "source": [
        "import numpy as np\n",
        "import numpy.random\n",
        "import matplotlib\n",
        "import matplotlib.pyplot as plt\n",
        "#from matplotlib.ticker import FormatStrFormatter"
      ],
      "execution_count": null,
      "outputs": []
    },
    {
      "cell_type": "code",
      "metadata": {
        "id": "yiOGRBnctlT6"
      },
      "source": [
        "vegetables = [\"cucumber\", \"tomato\", \"lettuce\", \"asparagus\",\n",
        "              \"potato\", \"wheat\", \"barley\"]\n",
        "farmers = [\"Farmer Joe\", \"Upland Bros.\", \"Smith Gardening\",\n",
        "           \"Agrifun\", \"Organiculture\", \"BioGoods Ltd.\", \"Cornylee Corp.\"]\n",
        "\n",
        "harvest = np.array([[0.8, 2.4, 2.5, 3.9, 0.0, 4.0, 0.0],\n",
        "                    [2.4, 0.0, 4.0, 1.0, 2.7, 0.0, 0.0],\n",
        "                    [1.1, 2.4, 0.8, 4.3, 1.9, 4.4, 0.0],\n",
        "                    [0.6, 0.0, 0.3, 0.0, 3.1, 0.0, 0.0],\n",
        "                    [0.7, 1.7, 0.6, 2.6, 2.2, 6.2, 0.0],\n",
        "                    [1.3, 1.2, 0.0, 0.0, 0.0, 3.2, 5.1],\n",
        "                    [0.1, 2.0, 0.0, 1.4, 0.0, 1.9, 6.3]])"
      ],
      "execution_count": null,
      "outputs": []
    },
    {
      "cell_type": "code",
      "metadata": {
        "id": "1ZCNX4s8trYb"
      },
      "source": [
        "fig, ax = plt.subplots()\n",
        "im = ax.imshow(harvest)\n",
        "# We want to show all ticks...\n",
        "ax.set_xticks(np.arange(len(farmers)))\n",
        "ax.set_yticks(np.arange(len(vegetables)))\n",
        "# ... and label them with the respective list entries\n",
        "ax.set_xticklabels(farmers)\n",
        "ax.set_yticklabels(vegetables)"
      ],
      "execution_count": null,
      "outputs": []
    },
    {
      "cell_type": "code",
      "metadata": {
        "id": "UVv56NiGuiQX"
      },
      "source": [
        "fig, ax = plt.subplots()\n",
        "im = ax.imshow(harvest)\n",
        "\n",
        "# We want to show all ticks...\n",
        "ax.set_xticks(np.arange(len(farmers)))\n",
        "ax.set_yticks(np.arange(len(vegetables)))\n",
        "# ... and label them with the respective list entries\n",
        "ax.set_xticklabels(farmers)\n",
        "ax.set_yticklabels(vegetables)\n",
        "\n",
        "# Rotate the tick labels and set their alignment.\n",
        "plt.setp(ax.get_xticklabels(), rotation=45, ha=\"right\",\n",
        "         rotation_mode=\"anchor\")\n",
        "\n",
        "# Loop over data dimensions and create text annotations.\n",
        "for i in range(len(vegetables)):\n",
        "    for j in range(len(farmers)):\n",
        "        text = ax.text(j, i, harvest[i, j],\n",
        "                       ha=\"center\", va=\"center\", color=\"w\")\n",
        "# Create colorbar\n",
        "cbarlabel = \"Legend\"\n",
        "cbar = ax.figure.colorbar(im, ax=ax)\n",
        "cbar.ax.set_ylabel(cbarlabel, rotation=-90, va=\"bottom\")\n",
        "\n",
        "ax.set_title(\"Harvest of local farmers (in tons/year)\")\n",
        "plt.figure(figsize=(40,40))\n",
        "plt.show()"
      ],
      "execution_count": null,
      "outputs": []
    },
    {
      "cell_type": "markdown",
      "metadata": {
        "id": "9SaHvNdZv9nO"
      },
      "source": [
        "# **Create Helper functions for Heatmaps**"
      ]
    },
    {
      "cell_type": "code",
      "metadata": {
        "id": "HFbcyUaov7v6"
      },
      "source": [
        "import matplotlib.ticker as ticker\n",
        "def heatmap(data, row_labels, col_labels, ax=None,\n",
        "            cbar_kw={}, cbarlabel=\"\", **kwargs):\n",
        "    \"\"\"\n",
        "    Listing of colormaps: https://matplotlib.org/tutorials/colors/colormaps.html\n",
        "\n",
        "    Create a heatmap from a numpy array and two lists of labels.\n",
        "\n",
        "    Parameters\n",
        "    ----------\n",
        "    data\n",
        "        A 2D numpy array of shape (N, M).\n",
        "    row_labels\n",
        "        A list or array of length N with the labels for the rows.\n",
        "    col_labels\n",
        "        A list or array of length M with the labels for the columns.\n",
        "    ax\n",
        "        A `matplotlib.axes.Axes` instance to which the heatmap is plotted.  If\n",
        "        not provided, use current axes or create a new one.  Optional.\n",
        "    cbar_kw\n",
        "        A dictionary with arguments to `matplotlib.Figure.colorbar`.  Optional.\n",
        "    cbarlabel\n",
        "        The label for the colorbar.  Optional.\n",
        "    **kwargs\n",
        "        All other arguments are forwarded to `imshow`.\n",
        "    \"\"\"\n",
        "\n",
        "    if not ax:\n",
        "        ax = plt.gca()\n",
        "\n",
        "    # Plot the heatmap\n",
        "    im = ax.imshow(data, **kwargs)\n",
        "\n",
        "    # Create colorbar\n",
        "    cbar = ax.figure.colorbar(im, ax=ax, **cbar_kw)\n",
        "    cbar.ax.set_ylabel(cbarlabel, rotation=-90, va=\"bottom\")\n",
        "\n",
        "    # We want to show all ticks...\n",
        "    ax.set_xticks(np.arange(data.shape[1]))\n",
        "    ax.set_yticks(np.arange(data.shape[0]))\n",
        "    # ... and label them with the respective list entries.\n",
        "    ax.set_xticklabels(col_labels)\n",
        "    ax.set_yticklabels(row_labels)\n",
        "\n",
        "    # Let the horizontal axes labeling appear on top.\n",
        "    ax.tick_params(top=True, bottom=False,\n",
        "                   labeltop=True, labelbottom=False)\n",
        "\n",
        "    # Rotate the tick labels and set their alignment.\n",
        "    plt.setp(ax.get_xticklabels(), rotation=-30, ha=\"right\",\n",
        "             rotation_mode=\"anchor\")\n",
        "\n",
        "    # Turn spines off and create white grid.\n",
        "    for edge, spine in ax.spines.items():\n",
        "        spine.set_visible(False)\n",
        "\n",
        "    ax.set_xticks(np.arange(data.shape[1]+1)-.5, minor=True)\n",
        "    ax.set_yticks(np.arange(data.shape[0]+1)-.5, minor=True)\n",
        "    ax.grid(which=\"minor\", color=\"w\", linestyle='-', linewidth=3)\n",
        "    ax.tick_params(which=\"minor\", bottom=False, left=False)\n",
        "\n",
        "    return im, cbar\n",
        "\n",
        "\n",
        "def annotate_heatmap(im, data=None, valfmt=\"{x:.2f}\",\n",
        "                     textcolors=[\"black\", \"white\"],\n",
        "                     threshold=None, **textkw):\n",
        "    \"\"\"\n",
        "    A function to annotate a heatmap.\n",
        "\n",
        "    Parameters\n",
        "    ----------\n",
        "    im\n",
        "        The AxesImage to be labeled.\n",
        "    data\n",
        "        Data used to annotate.  If None, the image's data is used.  Optional.\n",
        "    valfmt\n",
        "        The format of the annotations inside the heatmap.  This should either\n",
        "        use the string format method, e.g. \"$ {x:.2f}\", or be a\n",
        "        `matplotlib.ticker.Formatter`.  Optional.\n",
        "    textcolors\n",
        "        A list or array of two color specifications.  The first is used for\n",
        "        values below a threshold, the second for those above.  Optional.\n",
        "    threshold\n",
        "        Value in data units according to which the colors from textcolors are\n",
        "        applied.  If None (the default) uses the middle of the colormap as\n",
        "        separation.  Optional.\n",
        "    **kwargs\n",
        "        All other arguments are forwarded to each call to `text` used to create\n",
        "        the text labels.\n",
        "    \"\"\"\n",
        "\n",
        "    if not isinstance(data, (list, np.ndarray)):\n",
        "        data = im.get_array()\n",
        "\n",
        "    # Normalize the threshold to the images color range.\n",
        "    if threshold is not None:\n",
        "        threshold = im.norm(threshold)\n",
        "    else:\n",
        "        threshold = im.norm(data.max())/2.\n",
        "\n",
        "    # Set default alignment to center, but allow it to be\n",
        "    # overwritten by textkw.\n",
        "    kw = dict(horizontalalignment=\"center\",\n",
        "              verticalalignment=\"center\")\n",
        "    kw.update(textkw)\n",
        "\n",
        "    # Get the formatter in case a string is supplied\n",
        "    #if isinstance(valfmt, str):\n",
        "    #   valfmt = plt.ticker.Formatter.StrMethodFormatter(valfmt)\n",
        "\n",
        "    # Loop over the data and create a `Text` for each \"pixel\".\n",
        "    # Change the text's color depending on the data.\n",
        "    texts = []\n",
        "    for i in range(data.shape[0]):\n",
        "        for j in range(data.shape[1]):\n",
        "            kw.update(color=textcolors[int(im.norm(data[i, j]) > threshold)])\n",
        "            text = im.axes.text(j, i, (data[i, j], None), **kw)\n",
        "            texts.append(text)\n",
        "\n",
        "    return texts\n"
      ],
      "execution_count": null,
      "outputs": []
    },
    {
      "cell_type": "markdown",
      "metadata": {
        "id": "uqHl0trzwWCc"
      },
      "source": [
        "# **Use the Helper functions**"
      ]
    },
    {
      "cell_type": "code",
      "metadata": {
        "id": "IhZo3BxAwYkb"
      },
      "source": [
        "fig, ax = plt.subplots()\n",
        "\n",
        "im, cbar = heatmap(harvest, vegetables, farmers, ax=ax,\n",
        "                   cmap=\"Greens\", cbarlabel=\"harvest [t/year]\")\n",
        "plt.show()"
      ],
      "execution_count": null,
      "outputs": []
    },
    {
      "cell_type": "markdown",
      "metadata": {
        "id": "YNayb1BZYuS_"
      },
      "source": [
        "# **3-Dimensional Printing**\n"
      ]
    },
    {
      "cell_type": "markdown",
      "metadata": {
        "id": "kaCQHRnsY1Gx"
      },
      "source": [
        "Follow the link to do a tutorial on 3D printing using MatPlotLib\n",
        "https://matplotlib.org/mpl_toolkits/mplot3d/tutorial.html\n"
      ]
    }
  ]
}