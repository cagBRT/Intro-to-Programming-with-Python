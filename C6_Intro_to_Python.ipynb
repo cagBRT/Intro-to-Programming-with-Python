{
  "nbformat": 4,
  "nbformat_minor": 0,
  "metadata": {
    "colab": {
      "name": "C6 Intro to Python.ipynb",
      "provenance": [],
      "private_outputs": true,
      "include_colab_link": true
    },
    "kernelspec": {
      "name": "python3",
      "display_name": "Python 3"
    }
  },
  "cells": [
    {
      "cell_type": "markdown",
      "metadata": {
        "id": "view-in-github",
        "colab_type": "text"
      },
      "source": [
        "<a href=\"https://colab.research.google.com/github/cagBRT/Intro-to-Programming-with-Python/blob/master/C6_Intro_to_Python.ipynb\" target=\"_parent\"><img src=\"https://colab.research.google.com/assets/colab-badge.svg\" alt=\"Open In Colab\"/></a>"
      ]
    },
    {
      "cell_type": "markdown",
      "metadata": {
        "id": "ybjZc5f10yl3"
      },
      "source": [
        "# **Functions**\n",
        "A function is a block of code that is only executed when you call it. <br>\n",
        "The advantage of functions is, you can call them over and over and use them in multiple programs. *italicized text*"
      ]
    },
    {
      "cell_type": "code",
      "metadata": {
        "id": "GZ91CgKbAeXq"
      },
      "source": [
        "# Clone the entire repo.\n",
        "!git clone -l -s https://github.com/cagBRT/Intro-to-Programming-with-Python.git cloned-repo\n",
        "%cd cloned-repo"
      ],
      "execution_count": null,
      "outputs": []
    },
    {
      "cell_type": "code",
      "metadata": {
        "id": "25-twnkSAiLT"
      },
      "source": [
        "from IPython.display import Image\n",
        "def page(num):\n",
        "    return Image(\"c6-content/c6PythonProgramming\"+str(num)+ \".png\" , width=640)"
      ],
      "execution_count": null,
      "outputs": []
    },
    {
      "cell_type": "code",
      "metadata": {
        "id": "8fJhi2-O0vqY"
      },
      "source": [
        "page(1)"
      ],
      "execution_count": null,
      "outputs": []
    },
    {
      "cell_type": "code",
      "metadata": {
        "id": "u2Is_pcSAwMn"
      },
      "source": [
        "page(2)"
      ],
      "execution_count": null,
      "outputs": []
    },
    {
      "cell_type": "markdown",
      "metadata": {
        "id": "fyVQeyFaAyn-"
      },
      "source": [
        "# **Creating a Function**\n",
        "Create a function using the following format:\n",
        ">def function-name():\n",
        "> > function code"
      ]
    },
    {
      "cell_type": "code",
      "metadata": {
        "id": "u1YlwGImBFXP"
      },
      "source": [
        "#Create a simple function that\n",
        "#prints a statement when called\n",
        "\n",
        "def print_function():\n",
        "  print(\"The function says hello\")"
      ],
      "execution_count": null,
      "outputs": []
    },
    {
      "cell_type": "markdown",
      "metadata": {
        "id": "Oj_x-_VBBTu5"
      },
      "source": [
        "# **Calling a Function**\n",
        "Call a function with its name."
      ]
    },
    {
      "cell_type": "code",
      "metadata": {
        "id": "QMO6AtU0BeM2"
      },
      "source": [
        "print(\"hi from the main program\")\n",
        "print_function()\n",
        "print_function()\n",
        "print(\"bye from the main function\")"
      ],
      "execution_count": null,
      "outputs": []
    },
    {
      "cell_type": "markdown",
      "metadata": {
        "id": "nxHSnIQFBtor"
      },
      "source": [
        "# **Assignment #1**\n",
        "1. Create a function that prints:\n",
        ">\"Welcome to the world of functions!\"\n",
        "2. Call the function in a program\n",
        "\n"
      ]
    },
    {
      "cell_type": "code",
      "metadata": {
        "id": "Axb9lJ8vB4c2"
      },
      "source": [
        "#Assignment #1"
      ],
      "execution_count": null,
      "outputs": []
    },
    {
      "cell_type": "markdown",
      "metadata": {
        "id": "QEZT0q_qB7pO"
      },
      "source": [
        "# **Function Parameters**\n",
        "Sometimes you want to send information to the function. You do this through function parameters.\n",
        "\n",
        ">def function-name(function parameters, go, here):\n",
        "> > function code"
      ]
    },
    {
      "cell_type": "code",
      "metadata": {
        "id": "lykhxC00B4id"
      },
      "source": [
        "#Example of function parameters\n",
        "def print_name(name):\n",
        "  print(\"My name is \", name)"
      ],
      "execution_count": null,
      "outputs": []
    },
    {
      "cell_type": "markdown",
      "metadata": {
        "id": "F6E_jQBlCvvV"
      },
      "source": [
        "Calling functions with parameters"
      ]
    },
    {
      "cell_type": "code",
      "metadata": {
        "id": "TSvg6HoXCu_Q"
      },
      "source": [
        "#A function with a string parameter\n",
        "print(\"Hello from the main program\")\n",
        "print_name(\"John Deere\")\n",
        "print_name(\"Catherine\")"
      ],
      "execution_count": null,
      "outputs": []
    },
    {
      "cell_type": "code",
      "metadata": {
        "id": "NDUYmKnaDxLn"
      },
      "source": [
        "#A function with two string parameters\n",
        "def print_name(name, address):\n",
        "  print(\"My name is \", name)\n",
        "  print(\"I live at: \", address)"
      ],
      "execution_count": null,
      "outputs": []
    },
    {
      "cell_type": "code",
      "metadata": {
        "id": "X4WanXuQD7bJ"
      },
      "source": [
        "print_name(\"Catherine\", \"Borgwood Court, San Jose, CA\")"
      ],
      "execution_count": null,
      "outputs": []
    },
    {
      "cell_type": "markdown",
      "metadata": {
        "id": "7Fb5uxzDESYS"
      },
      "source": [
        "# **Assignment #2**\n",
        "1. Create a function called 'Personal Info'\n",
        "2. It should have three input parameters: name, eye color, hair color\n",
        "3. The function should print:<br>\n",
        ">\"NAME: \" input parameter name<br>\n",
        ">EYE COLOR: input parameter eye color<br>\n",
        ">HAIR COLOR: input parameter hair color<br>\n",
        "4. Call the function several times with different values <br>\n"
      ]
    },
    {
      "cell_type": "code",
      "metadata": {
        "id": "1SUINUYDFZfh"
      },
      "source": [
        "#Assignment #2"
      ],
      "execution_count": null,
      "outputs": []
    },
    {
      "cell_type": "markdown",
      "metadata": {
        "id": "fYagmoWjYMeB"
      },
      "source": [
        "# **Debugging Functions**\n",
        "Debugging functions should be done seperately from debugging main programs. <br>\n",
        "Debug the function and clean up any errors before calling it in your program. <br>\n"
      ]
    },
    {
      "cell_type": "code",
      "metadata": {
        "id": "kG1aYTWeYogq"
      },
      "source": [
        "#Debug functions before calling them in your main program.\n",
        "function\n",
        "def print_function(dog_name, owner_name owner_phone owner_Address):\n",
        "  #the '\\t' adds a tab to the output\n",
        "  print(\"Dog:, dog_name)\n",
        "  print(\"t\",owner_name)\n",
        "  print(\"t\",owner_phone)\n",
        "  print(\"t\",owner_address)\n",
        "\n",
        "#call the function and correct errors\n",
        "print_Function(\"Rover\", Bob Smith, \"408-662-9898\" \"San Jose, CA\")"
      ],
      "execution_count": null,
      "outputs": []
    },
    {
      "cell_type": "markdown",
      "metadata": {
        "id": "M0Bbwi7za1p8"
      },
      "source": [
        "# **Assignment #3**\n",
        "1. Write a function that accepts 4 input parameters.\n",
        "<br>\n",
        "2. Then prints the 4 parameters.\n",
        "3. Call the function to test it."
      ]
    },
    {
      "cell_type": "code",
      "metadata": {
        "id": "DjRk0kmcbPgg"
      },
      "source": [
        "#Assignment #3"
      ],
      "execution_count": null,
      "outputs": []
    },
    {
      "cell_type": "markdown",
      "metadata": {
        "id": "IrwtPM3ZcQZn"
      },
      "source": [
        "**Lists as an input parameter**<br>\n",
        "You can also use a list as an input parameter."
      ]
    },
    {
      "cell_type": "code",
      "metadata": {
        "id": "JeSe-3sxcc3T"
      },
      "source": [
        "def print_list(input_list):\n",
        "  length = len(input_list)\n",
        "  print(\"There are \", length, \"items in the list\")\n",
        "  for x in input_list:\n",
        "    print (x)\n",
        "\n",
        "number_list = [1,2,3,4,5]\n",
        "print_list(number_list)"
      ],
      "execution_count": null,
      "outputs": []
    },
    {
      "cell_type": "markdown",
      "metadata": {
        "id": "jTix_KulGOmK"
      },
      "source": [
        "# **Assignment #4**\n",
        "\n",
        "1. Ask a user for the names of their favorite animals.\n",
        "2. Users enter 'q' when they are done.\n",
        "3. Write a function that prints the last name entered by the user"
      ]
    },
    {
      "cell_type": "code",
      "metadata": {
        "id": "m6kpI0F7JvHQ"
      },
      "source": [
        "#Assignment #4\n",
        "#Define the function"
      ],
      "execution_count": null,
      "outputs": []
    },
    {
      "cell_type": "code",
      "metadata": {
        "id": "p2h0IuV5IqQv"
      },
      "source": [
        "#Assignment #4\n"
      ],
      "execution_count": null,
      "outputs": []
    },
    {
      "cell_type": "markdown",
      "metadata": {
        "id": "VE6rLRI-YJ3x"
      },
      "source": [
        "# **Functions that return parameters**\n",
        "Sometimes you may want the function to do a task and return a value. <br>\n",
        "Use return to send a parameter value back to the main program."
      ]
    },
    {
      "cell_type": "code",
      "metadata": {
        "id": "Y_tGUErueQJw"
      },
      "source": [
        "#Example of a function that returns a value\n",
        "\n",
        "def sum_num(a, b):\n",
        "  addition = a + b\n",
        "  return addition\n",
        "\n",
        "#Check the function\n",
        "\n",
        "total = sum_num(6, 5)\n",
        "#total is now equal to the return\n",
        "#value from the function\n",
        "print(total)\n",
        "#or using one line:\n",
        "print(sum_num(4,2))"
      ],
      "execution_count": null,
      "outputs": []
    },
    {
      "cell_type": "code",
      "metadata": {
        "id": "s5T4i4O1evr5"
      },
      "source": [
        "#Example of the above function written differently\n",
        "def sum_num(a, b):\n",
        "  return a + b\n",
        "\n",
        "#Check the function\n",
        "\n",
        "total = sum_num(6, 5)\n",
        "#total is now equal to the return\n",
        "#value from the function\n",
        "print(total)\n",
        "#or\n",
        "print(sum_num(66,2))"
      ],
      "execution_count": null,
      "outputs": []
    },
    {
      "cell_type": "markdown",
      "metadata": {
        "id": "7yUTjHlkesg7"
      },
      "source": [
        "# **Assignment #5**\n",
        "1. Write functions that perform the following tasks (one function per task) Return the answer to the main program:\n",
        "> Sum of two numbers<br>\n",
        "> Difference of two numbers<br>\n",
        "> Multiply two numbers<br>\n",
        ">Divide two numbers<br>\n",
        "2. Test that the functions work\n",
        "3. Write a Caculator program\n",
        "> Ask the user to enter '+' '-' '*' '/'\n",
        ">then ask for two numbers\n",
        "4. print the answer\n"
      ]
    },
    {
      "cell_type": "code",
      "metadata": {
        "id": "9ITLyZIukevs"
      },
      "source": [
        "#Assignment #5"
      ],
      "execution_count": null,
      "outputs": []
    },
    {
      "cell_type": "markdown",
      "metadata": {
        "id": "S0mZk-ZpmSH3"
      },
      "source": [
        "# **Debug Exercise**\n",
        "\n"
      ]
    },
    {
      "cell_type": "code",
      "metadata": {
        "id": "G3-uQTLWm3Xu"
      },
      "source": [
        "#Debug Exercise\n",
        "def square(number)\n",
        "  return number * number\n",
        "\n",
        "def cube(number):\n",
        "  return number * number  number\n",
        "\n",
        "def slope_of_line(y2, y1, x2, x1):\n",
        "  return (y2-y1) (x2-x1)\n",
        "\n",
        "def quad(a, b, c x):\n",
        "  return a*x*x + b*x + c\n",
        "\n",
        "print(squares(4))\n",
        "print(cubes(3))\n",
        "print(slopeof_line(4,1,3,2))\n",
        "print(Quad(3,5,7,4))"
      ],
      "execution_count": null,
      "outputs": []
    },
    {
      "cell_type": "code",
      "metadata": {
        "id": "X1SM0iHEpytT"
      },
      "source": [
        "#Debug Exercise\n",
        "#Calculator Program\n",
        "\n",
        "#square 43\n",
        "#cube 8\n",
        "#find the slope of point1 = (8.7, 4.3) point2 = (9.2, -5)\n",
        "#find the quad y = 34x^2 + 9x + 95.32\n",
        "\n",
        "print(\"the square of 43 is \", square(4,3))\n",
        "print(\"the cube of 8 is \", cube(8)\n",
        "print(\"the slope of point1 = (8.7, 4.3) point2 = (9.2, -5) is \", slope_of_line(8,7, 9.2, 4.3, -5))\n",
        "print(\"y = 34x^2 + 9x + 95.32 = ,quad(34,9,95.3,2,4))\n"
      ],
      "execution_count": null,
      "outputs": []
    },
    {
      "cell_type": "markdown",
      "metadata": {
        "id": "8G-D9zG3s0KR"
      },
      "source": [
        "# **Assignment #6**\n",
        "Write a function that returns the maximum of three input parameters.\n",
        "\n",
        "https://www.w3resource.com/python-exercises/python-functions-exercise-8.php\n"
      ]
    },
    {
      "cell_type": "code",
      "metadata": {
        "id": "UOz_DbT45aeI"
      },
      "source": [
        "#Assignment #6\n"
      ],
      "execution_count": null,
      "outputs": []
    },
    {
      "cell_type": "markdown",
      "metadata": {
        "id": "b3daaq7A5nCX"
      },
      "source": [
        "# **Assignment #7**\n",
        "Write a function that reverses a string.\n",
        "<br>For example:\n",
        ">Input string = \"HelloToEveryone2020\"\n",
        ">return string = \"0202enoyrevEoTolleH\"\n"
      ]
    },
    {
      "cell_type": "code",
      "metadata": {
        "id": "yIV1wmJR6M3H"
      },
      "source": [],
      "execution_count": null,
      "outputs": []
    },
    {
      "cell_type": "markdown",
      "metadata": {
        "id": "QirXP7OC6lE5"
      },
      "source": [
        "# **Assignment #8**\n",
        "Create a function that:\n",
        "1. Accepts an input string of any length\n",
        "2. Counts the number of uppercase letters\n",
        "3. Counts the number of lowercase letters\n",
        "4. Prints the totals of uppercase and lowercase"
      ]
    },
    {
      "cell_type": "code",
      "metadata": {
        "id": "auiFp2be62SL"
      },
      "source": [],
      "execution_count": null,
      "outputs": []
    },
    {
      "cell_type": "markdown",
      "metadata": {
        "id": "ZOQ8ynqg7ESE"
      },
      "source": [
        "# **Assignment #9**\n",
        "Write a function that accepts a list that has duplicate values in it.<br>\n",
        "Then returns the list without duplicates. <br>\n",
        "For example:\n",
        ">input list = [4,4,3,5,6,7,6,3]\n",
        ">returned list = [4,3,5,6,7]\n",
        "\n"
      ]
    },
    {
      "cell_type": "markdown",
      "metadata": {
        "id": "amnn2vLV8I2U"
      },
      "source": []
    },
    {
      "cell_type": "markdown",
      "metadata": {
        "id": "fj5UW9Rk8I7V"
      },
      "source": [
        "# **Assignment #10**\n",
        "Write a function that:\n",
        "1. Accepts a list of numbers\n",
        "2. Puts the even numbers in a new list\n",
        "3. Put the odd number in a new list\n",
        "4. Prints both lists"
      ]
    },
    {
      "cell_type": "code",
      "metadata": {
        "id": "tc3svLW883jN"
      },
      "source": [],
      "execution_count": null,
      "outputs": []
    }
  ]
}