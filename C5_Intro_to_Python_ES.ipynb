{
  "nbformat": 4,
  "nbformat_minor": 0,
  "metadata": {
    "colab": {
      "private_outputs": true,
      "provenance": [],
      "include_colab_link": true
    },
    "kernelspec": {
      "name": "python3",
      "display_name": "Python 3"
    }
  },
  "cells": [
    {
      "cell_type": "markdown",
      "metadata": {
        "id": "view-in-github",
        "colab_type": "text"
      },
      "source": [
        "<a href=\"https://colab.research.google.com/github/cagBRT/Intro-to-Programming-with-Python/blob/master/C5_Intro_to_Python_ES.ipynb\" target=\"_parent\"><img src=\"https://colab.research.google.com/assets/colab-badge.svg\" alt=\"Open In Colab\"/></a>"
      ]
    },
    {
      "cell_type": "code",
      "metadata": {
        "id": "6JXn8XhtlpVC"
      },
      "source": [
        "# Clone the entire repo.\n",
        "!git clone -l -s https://github.com/cagBRT/Intro-to-Programming-with-Python.git cloned-repo\n",
        "%cd cloned-repo\n",
        "!ls"
      ],
      "execution_count": null,
      "outputs": []
    },
    {
      "cell_type": "markdown",
      "metadata": {
        "id": "NF8tHH_h0e-0"
      },
      "source": [
        "# **Ciclos While**\n",
        "\n",
        "Los ciclos **while** se usan cuando quieres repetir un bloque de código, pero tu no sabes cuantas veces se va a repetir.\n",
        "<br>\n",
        "Un ciclo **while** se va a repetir mientras que una condición en específica sea verdadera (**true**)."
      ]
    },
    {
      "cell_type": "markdown",
      "source": [
        "![picture](https://github.com/cagBRT/Intro-to-Programming-with-Python/blob/master/c5-content/c5PythonProgramming1.png?raw=1)"
      ],
      "metadata": {
        "id": "AqHjDpeWf6oH"
      }
    },
    {
      "cell_type": "markdown",
      "metadata": {
        "id": "1bpsiBdgme2P"
      },
      "source": [
        "Los ciclos while requieren una forma de \"salirse\" del ciclo.<br>\n",
        "Una de las formas es con una variable contador (**counter**)) que es incrementada o reducida entre cada ciclo.<br>\n",
        "Si lo vemos de cierta forma, esto es muy similar al ciclo **for**\n"
      ]
    },
    {
      "cell_type": "code",
      "metadata": {
        "id": "GzipWRIjmK34"
      },
      "source": [
        "# Ejemplo de un ciclo while con un contador\n",
        "# su metodo de salida\n",
        "count = 11\n",
        "while count < 10:\n",
        "  print(\"count= \",count)\n",
        "  count = count + 1"
      ],
      "execution_count": null,
      "outputs": []
    },
    {
      "cell_type": "markdown",
      "metadata": {
        "id": "zOkkaxczoZS1"
      },
      "source": [
        "# **Actividad 1**\n",
        "\n",
        "Escribe código que imprima los número del 10 al 20 utilizando un ciclo while."
      ]
    },
    {
      "cell_type": "code",
      "metadata": {
        "id": "glSBTENxpVui"
      },
      "source": [
        "# Actividad 1\n"
      ],
      "execution_count": null,
      "outputs": []
    },
    {
      "cell_type": "markdown",
      "metadata": {
        "id": "oHRuICq6qfNm"
      },
      "source": [
        "# **Actividad #2**\n",
        "Dada la siguiente lista de numeros y usando un ciclo \"while\" imprime lo siguente:\n",
        ">scores = [99, 65, 45, 89, 23,57,90, 72]\n",
        "\n",
        "si la variable *score* es menor que 70, imprima el valor de la variable y el string \"FAIL\"<br>\n",
        "si la variable *score* está en el rango de 70 a 80, imprima el valor de la variable y el string \"C\"<br>\n",
        "si la variable *score* está en el rango de 80 a 90, imprima el valor de la variable y el string \"B\"<br>\n",
        "si la variable *score* es mayor a 90, imprima la variable y el string \"A\"<br>\n"
      ]
    },
    {
      "cell_type": "code",
      "metadata": {
        "id": "YkFbIdP9FbP6"
      },
      "source": [],
      "execution_count": null,
      "outputs": []
    },
    {
      "cell_type": "markdown",
      "metadata": {
        "id": "L6LDwpAfm_LF"
      },
      "source": [
        "**Break statement**<br>\n",
        "\n",
        "Un ciclo while también puede hacer uso de la sentencia **break**. Cuando cierta condición se ha cumplido, el programa se sale del ciclo.\n"
      ]
    },
    {
      "cell_type": "code",
      "metadata": {
        "id": "1V_eCVdcnTPJ"
      },
      "source": [
        "# Ejemplo de un ciclo while con un contador\n",
        "# escape and a break statement\n",
        "count = 1\n",
        "while count < 10:\n",
        "  if count%5 == 0:\n",
        "    print(\"count= \",count)\n",
        "    break\n",
        "  print(\"count= \",count)\n",
        "  count = count + 1\n"
      ],
      "execution_count": null,
      "outputs": []
    },
    {
      "cell_type": "markdown",
      "metadata": {
        "id": "8iD3FrGxxc10"
      },
      "source": [
        "# **Actividad #3**\n",
        "Dada la siguiente lista de números: <br>\n",
        ">numbers = [2,343,654,56,782,875,980,\"6\", 54647,7980,1231,34,453,6454,29,54]\n",
        "<br>\n",
        "Imprima los números. Si se encuentra algo que no es un número, detén la impresión de los números."
      ]
    },
    {
      "cell_type": "code",
      "metadata": {
        "id": "uCqCxMmWrJTO"
      },
      "source": [
        "# Actividad #3\n",
        "numbers = [2,343,654,56,782,875,980,\"6\", 54647,7980,1231,34,453,6454,29,54]\n",
        "\n",
        "\n"
      ],
      "execution_count": null,
      "outputs": []
    },
    {
      "cell_type": "markdown",
      "metadata": {
        "id": "qiya0fdVyy00"
      },
      "source": [
        "**Los ciclos while también pueden tener sentencias *else*** <br>\n",
        "Son muy útiles cuando queremos usar sentencias **break**"
      ]
    },
    {
      "cell_type": "code",
      "metadata": {
        "id": "L9Nl0ZhezUhw"
      },
      "source": [
        "# Ejemplo de un ciclo while con una sentencia else\n",
        "# El usuario registra 10 valores de tipo entero\n",
        "\n",
        "integers = []\n",
        "i = 0\n",
        "while i < 10:\n",
        "  integer = input(\"enter an integer between 1 - 10: \")\n",
        "  integer_user = int(integer)\n",
        "  if(integer_user > 10):\n",
        "    print(\"Start again\")\n",
        "    break\n",
        "  integers.append(integer_user)\n",
        "  i += 1\n",
        "else:\n",
        "  print(\"Thanks for 10 integers!\")\n",
        "  print(integers)"
      ],
      "execution_count": null,
      "outputs": []
    },
    {
      "cell_type": "markdown",
      "metadata": {
        "id": "39ZdAxapBlwP"
      },
      "source": [
        "# **Actividad #4**\n",
        "\n",
        "1. Pide al usuario que ingrese números enteros y crea una lista de Integers a base de ellos.\n",
        "2. Cuando un número sea mayor a 20, añadelo a la lista.\n",
        "3. Cuando un número sea mayor a 50, ignóralo.\n",
        "4. Cuando el usuario ya ha registrado al menos 10 números con el rango de 20>num<50, imprime toda la lista y termina el programa.\n",
        "\n"
      ]
    },
    {
      "cell_type": "code",
      "metadata": {
        "id": "S1sa1DsbC9x6"
      },
      "source": [
        "# Actividad 4"
      ],
      "execution_count": null,
      "outputs": []
    },
    {
      "cell_type": "markdown",
      "metadata": {
        "id": "ZRELy4XSC_tO"
      },
      "source": [
        "**Ciclos while infinitos**<br>\n",
        "\n",
        "A veces solo quieres que termine el ciclo con la sentencia **break**.<br>\n",
        "A esto se le llama un ciclo infinito."
      ]
    },
    {
      "cell_type": "code",
      "metadata": {
        "id": "soxFSA-yDdMw"
      },
      "source": [
        "# Ejemplo de un código con un while infinito\n",
        "# Este programa temrina cuando el usuario digite un número mayor a 10\n",
        "integers = []\n",
        "while 1 == 1:\n",
        "  integer = input(\"enter an integer between 1 - 10: \")\n",
        "  integer_user = int(integer)\n",
        "  if(integer_user > 10):\n",
        "    print(\"Start again\")\n",
        "    break\n",
        "  else:\n",
        "    integers.append(integer_user)\n",
        "print(integers)\n"
      ],
      "execution_count": null,
      "outputs": []
    },
    {
      "cell_type": "markdown",
      "metadata": {
        "id": "pdeH2PtO33m0"
      },
      "source": [
        "# **Actividad #5**\n",
        "\n",
        "1. Pregúntale al usuario que digite sus comidas favoritas.\n",
        "2. Cuando el usuario presione 'q', se rompe el ciclo.\n",
        "3. Imprime la lista de las comidas favoritas\n",
        "4. Termina la ejecución del programa"
      ]
    },
    {
      "cell_type": "code",
      "metadata": {
        "id": "bDVyBdvz4cIp"
      },
      "source": [
        "# Actividad 5\n"
      ],
      "execution_count": null,
      "outputs": []
    },
    {
      "cell_type": "markdown",
      "metadata": {
        "id": "GFdh4hEP5rjX"
      },
      "source": [
        "# **Cuestionario**"
      ]
    },
    {
      "cell_type": "markdown",
      "source": [
        "![picture](https://github.com/cagBRT/Intro-to-Programming-with-Python/blob/master/c5-content/c5PythonProgramming4.png?raw=1)"
      ],
      "metadata": {
        "id": "ifKUfmbagBx9"
      }
    },
    {
      "cell_type": "code",
      "metadata": {
        "id": "DaowDe649iXj",
        "cellView": "form"
      },
      "source": [
        "#@title Q1 ¿Cuál es la salida del programa a continuación?\n",
        "variable_name = \"choose an answer\" #@param [\"choose an answer\",\"4,8\", \"3,7\", \"1,5\", \"3,6\"]\n",
        "\n",
        "if(variable_name == str(\"3,7\") ):\n",
        "  print(\"correct\")\n",
        "else:\n",
        "  print(\"Try again\")"
      ],
      "execution_count": null,
      "outputs": []
    },
    {
      "cell_type": "markdown",
      "metadata": {
        "id": "7GD8xY0eBElU"
      },
      "source": [
        "# **Actividad #6**\n",
        "\n",
        "1. Preguntale al usuario que digite un número menor a 1 millón.\n",
        "2. Genera la suma de cada uno de los dígitos del número.\n",
        "3. Imprime los dígitos y la suma.\n",
        "\n"
      ]
    },
    {
      "cell_type": "code",
      "metadata": {
        "id": "iU3k2nuQBkIr"
      },
      "source": [],
      "execution_count": null,
      "outputs": []
    },
    {
      "cell_type": "markdown",
      "metadata": {
        "id": "IICf1CuwsOtc"
      },
      "source": [
        "# **Debug Exercise**\n",
        "El código de abajo tiene errores, trata de corregirlos."
      ]
    },
    {
      "cell_type": "code",
      "metadata": {
        "id": "1mmP5r_wsOCV"
      },
      "source": [
        "# Programa que divide los valores de *scores* en Fail, Pass o Exceptional\n",
        "scores = [2,54,77,83,89,95,21,34,90,54,76,34,76 12,65]\n",
        "passing_scores = []\n",
        "failing_scores = []\n",
        "exceptional_scores = []\n",
        "\n",
        "length = (len)scores\n",
        "print(score)\n",
        "\n",
        "if length < 10:\n",
        "  print(\"There are missing scores\")\n",
        "else:\n",
        "  print(\"Ready to sort\")\n",
        "\n",
        "i = 0\n",
        "while (i > length and length > 10):\n",
        "  if(scores[i] < 90 and scores[i] => 70):\n",
        "    passing_scores.append(scores[i])\n",
        "  elif(scores[i] => 90):\n",
        "    exceptional_scores.append(scores[i])\n",
        "  elif(scores[i]< 70):\n",
        "    failing_scores.append(scores[i])\n",
        "i = i + 1\n",
        "\n",
        "print(\"failing scores: \" failing_scores)\n",
        "print(\"passing scores: \",passing_scores)\n",
        "print(\"exceptional scores: \" exceptional_scores)"
      ],
      "execution_count": null,
      "outputs": []
    },
    {
      "cell_type": "markdown",
      "metadata": {
        "id": "YpiHNXcWpRtj"
      },
      "source": [
        "**RegEx**<br>\n",
        "Un RegEx, o comúnmente conocidos como Expresiones Regulares, es una secuencia de caracteres que forman un patrón de búsqueda.<br>\n",
        "Se utilizan para checar si un valor de tipo String contiene el patrón que queremos.\n"
      ]
    },
    {
      "cell_type": "markdown",
      "metadata": {
        "id": "BO1gyLKdps3e"
      },
      "source": [
        "Importa la librería de expresiones regulares"
      ]
    },
    {
      "cell_type": "code",
      "metadata": {
        "id": "_xocAgb4ppgW"
      },
      "source": [
        "import re\n"
      ],
      "execution_count": null,
      "outputs": []
    },
    {
      "cell_type": "markdown",
      "metadata": {
        "id": "Oe9kLjvDp8Ah"
      },
      "source": [
        "Usa la librería de las expresiones regulares (**RegEx**) para buscar caracteres en específico, strings o grupos de caracteres<br>\n",
        "Checa el siguiente link para más información<br>\n",
        "https://www.w3schools.com/python/python_regex.asp\n"
      ]
    },
    {
      "cell_type": "code",
      "metadata": {
        "id": "ir3AOLNVqIDJ"
      },
      "source": [
        "# Ejemplo de como usar las expresiones regulares\n",
        "import re\n",
        "\n",
        "input_string = \"Call of the Wild, by Jack London\"\n",
        "# Buscar en el string la cadena de carácteres 'Jack'\n",
        "search_jack = re.search(\"Jack\", input_string)\n",
        "print(search_jack)\n",
        "# La salida muestra que se encontró el match en los caracteres 21 a 25"
      ],
      "execution_count": null,
      "outputs": []
    },
    {
      "cell_type": "code",
      "metadata": {
        "id": "8RUiqE4Nqu3G"
      },
      "source": [
        "# Ejemplo de como usar las expresiones regulares\n",
        "import re\n",
        "\n",
        "input_string = \"Call of the Wild, by Jack London\"\n",
        "# Buscar en el string la cadena de carácteres 'Jack'\n",
        "findall_lon = re.findall(\"[Lon]\", input_string)\n",
        "print(findall_lon)\n",
        "# a salida muestra que se encontró el match\n",
        "\n",
        "print(\"searching\")\n",
        "# Si utilizas la función 'search'\n",
        "search_lon = re.search(\"[Lon]\", input_string)\n",
        "# Imprime el primer match que encuentre\n",
        "print(search_lon)\n"
      ],
      "execution_count": null,
      "outputs": []
    },
    {
      "cell_type": "markdown",
      "metadata": {
        "id": "AUC6HqBloTMA"
      },
      "source": [
        "# **Actividad #7**\n",
        "\n",
        "Escribe un programa para checar si la contraseña dada por el usuario pasa por las siguientes validaciones: <br>\n",
        "Al menos una letra en el rango de [a-z] y una letra en el rango de [A-Z].<br>\n",
        "Al menos un número en el rango de [0-9].<br>\n",
        "Al menos uno de los siguientes caracteres [$#@].<br>\n",
        "Que contenga un mínimo de 6 caracteres.<br>\n",
        "Que no pase el máximo de 16 caracteres.<br>"
      ]
    },
    {
      "cell_type": "code",
      "metadata": {
        "id": "ncNi2N1fpJ77"
      },
      "source": [
        "#Assignment #7"
      ],
      "execution_count": null,
      "outputs": []
    }
  ]
}