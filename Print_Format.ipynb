{
  "nbformat": 4,
  "nbformat_minor": 0,
  "metadata": {
    "colab": {
      "private_outputs": true,
      "provenance": [],
      "authorship_tag": "ABX9TyOGoMAbhgzjjO3UF9CexkBe",
      "include_colab_link": true
    },
    "kernelspec": {
      "name": "python3",
      "display_name": "Python 3"
    },
    "language_info": {
      "name": "python"
    }
  },
  "cells": [
    {
      "cell_type": "markdown",
      "metadata": {
        "id": "view-in-github",
        "colab_type": "text"
      },
      "source": [
        "<a href=\"https://colab.research.google.com/github/cagBRT/Intro-to-Programming-with-Python/blob/master/Print_Format.ipynb\" target=\"_parent\"><img src=\"https://colab.research.google.com/assets/colab-badge.svg\" alt=\"Open In Colab\"/></a>"
      ]
    },
    {
      "cell_type": "markdown",
      "source": [
        "To do formatted output, you can use the .format function"
      ],
      "metadata": {
        "id": "3SpxNgn87bbh"
      }
    },
    {
      "cell_type": "code",
      "source": [
        "#basic print statement\n",
        "print(\"one\", \"two\")"
      ],
      "metadata": {
        "id": "cW8lWDeq7hxU"
      },
      "execution_count": null,
      "outputs": []
    },
    {
      "cell_type": "code",
      "execution_count": null,
      "metadata": {
        "id": "QhC58kwoqfUL"
      },
      "outputs": [],
      "source": [
        "print('{} {}'.format('one', 'two'))"
      ]
    },
    {
      "cell_type": "markdown",
      "source": [
        "**Assignment 1:**\n",
        "Using the format function, print your first and last name"
      ],
      "metadata": {
        "id": "WxM1yNqv7_eT"
      }
    },
    {
      "cell_type": "code",
      "source": [
        "#Assignment 1\n"
      ],
      "metadata": {
        "id": "vvz1gyw88GLd"
      },
      "execution_count": null,
      "outputs": []
    },
    {
      "cell_type": "code",
      "source": [
        "print('{} {}'.format(1, 2))"
      ],
      "metadata": {
        "id": "eOwB4pmj7qT-"
      },
      "execution_count": null,
      "outputs": []
    },
    {
      "cell_type": "markdown",
      "source": [
        "We can rearrange the order of the print by changing the order in the braces"
      ],
      "metadata": {
        "id": "0cSkcxxL73fh"
      }
    },
    {
      "cell_type": "code",
      "source": [
        "print('{1} {0}'.format(1, 2))"
      ],
      "metadata": {
        "id": "BRNlusFV7zvt"
      },
      "execution_count": null,
      "outputs": []
    },
    {
      "cell_type": "markdown",
      "source": [
        "**Assignment 2:**\n",
        "Print your last name, then your first name"
      ],
      "metadata": {
        "id": "x8o3wSbB8K1q"
      }
    },
    {
      "cell_type": "code",
      "source": [
        "#Assignment 2\n"
      ],
      "metadata": {
        "id": "XHa-Gx018RdK"
      },
      "execution_count": null,
      "outputs": []
    }
  ]
}