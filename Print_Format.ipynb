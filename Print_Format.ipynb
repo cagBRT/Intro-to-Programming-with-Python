{
  "nbformat": 4,
  "nbformat_minor": 0,
  "metadata": {
    "colab": {
      "private_outputs": true,
      "provenance": [],
      "authorship_tag": "ABX9TyMuQyqwkfVZTyve9KngJfPf",
      "include_colab_link": true
    },
    "kernelspec": {
      "name": "python3",
      "display_name": "Python 3"
    },
    "language_info": {
      "name": "python"
    }
  },
  "cells": [
    {
      "cell_type": "markdown",
      "metadata": {
        "id": "view-in-github",
        "colab_type": "text"
      },
      "source": [
        "<a href=\"https://colab.research.google.com/github/cagBRT/Intro-to-Programming-with-Python/blob/master/Print_Format.ipynb\" target=\"_parent\"><img src=\"https://colab.research.google.com/assets/colab-badge.svg\" alt=\"Open In Colab\"/></a>"
      ]
    },
    {
      "cell_type": "markdown",
      "source": [
        "To do formatted output, you can use the .format function"
      ],
      "metadata": {
        "id": "3SpxNgn87bbh"
      }
    },
    {
      "cell_type": "code",
      "source": [
        "#basic print statement\n",
        "print(\"one\", \"two\")"
      ],
      "metadata": {
        "id": "cW8lWDeq7hxU"
      },
      "execution_count": null,
      "outputs": []
    },
    {
      "cell_type": "code",
      "execution_count": null,
      "metadata": {
        "id": "QhC58kwoqfUL"
      },
      "outputs": [],
      "source": [
        "print('{} {}'.format('one', 'two'))"
      ]
    },
    {
      "cell_type": "markdown",
      "source": [
        "**Assignment 1:**\n",
        "Using the format function, print your first and last name"
      ],
      "metadata": {
        "id": "WxM1yNqv7_eT"
      }
    },
    {
      "cell_type": "code",
      "source": [
        "#Assignment 1\n"
      ],
      "metadata": {
        "id": "vvz1gyw88GLd"
      },
      "execution_count": null,
      "outputs": []
    },
    {
      "cell_type": "code",
      "source": [
        "print('{} {}'.format(1, 2))"
      ],
      "metadata": {
        "id": "eOwB4pmj7qT-"
      },
      "execution_count": null,
      "outputs": []
    },
    {
      "cell_type": "markdown",
      "source": [
        "We can rearrange the order of the print by changing the order in the braces"
      ],
      "metadata": {
        "id": "0cSkcxxL73fh"
      }
    },
    {
      "cell_type": "code",
      "source": [
        "print('{1} {0}'.format(1, 2))"
      ],
      "metadata": {
        "id": "BRNlusFV7zvt"
      },
      "execution_count": null,
      "outputs": []
    },
    {
      "cell_type": "markdown",
      "source": [
        "**Assignment 2:**\n",
        "Print your last name, then your first name"
      ],
      "metadata": {
        "id": "x8o3wSbB8K1q"
      }
    },
    {
      "cell_type": "code",
      "source": [
        "#Assignment 2\n"
      ],
      "metadata": {
        "id": "XHa-Gx018RdK"
      },
      "execution_count": null,
      "outputs": []
    },
    {
      "cell_type": "markdown",
      "source": [
        "**Padding and Aligning String Output**<br>\n",
        "Notice the output text uses 10 spaces total for the text. Align right will put the extra spaces in front of the text."
      ],
      "metadata": {
        "id": "sM6EOwKV80BU"
      }
    },
    {
      "cell_type": "code",
      "source": [
        "#To align right\n",
        "print('{:>10}'.format('right'))"
      ],
      "metadata": {
        "id": "cmue0TnN9M5A"
      },
      "execution_count": null,
      "outputs": []
    },
    {
      "cell_type": "markdown",
      "source": [
        "Notice below that the string has 16 characters in it. If we request the output use 20 characters, the extra spaces are in front of the text. "
      ],
      "metadata": {
        "id": "Zq7Slday9yN3"
      }
    },
    {
      "cell_type": "code",
      "source": [
        "print('{:>20}'.format('Catherine Gamboa'))"
      ],
      "metadata": {
        "id": "Ezf07J4d9T3B"
      },
      "execution_count": null,
      "outputs": []
    },
    {
      "cell_type": "code",
      "source": [
        "print('{:10}'.format(\"NAME:\"),  '{:>20}'.format('Catherine Gamboa'))"
      ],
      "metadata": {
        "id": "Frhyqa2GQxGm"
      },
      "execution_count": null,
      "outputs": []
    },
    {
      "cell_type": "markdown",
      "source": [
        "**Assignment 3:**<br>\n",
        "Write the following lines with this formatting:<br>\n",
        "(Indents are 4 spaces)\n",
        "\n",
        "Oceans:<br>\n",
        "\n",
        "\n",
        "> North Pacific<br>\n",
        "South Pacific<br>\n",
        "North Atlantic<br>\n",
        "South Atlatnic<br>\n",
        "Artic<br>\n",
        "Indian<br>\n",
        "Southern Ocean<br>\n",
        "\n"
      ],
      "metadata": {
        "id": "KhRkN9jF-Aks"
      }
    },
    {
      "cell_type": "code",
      "source": [
        "#Assignment 3"
      ],
      "metadata": {
        "id": "3GfRF-9cRc5W"
      },
      "execution_count": null,
      "outputs": []
    },
    {
      "cell_type": "code",
      "source": [
        "#@title \n",
        "#Assignment 3\n",
        "oceans_list=[\"North Pacific\", \"South Pacific\", \"North Atlantic\", \n",
        "             \"South Atlantic\", \"Artic\",\"Indian\",\"Southern Ocean\"]\n",
        "\n",
        "print('{:10}'.format(\"Oceans\"))\n",
        "for i in range(len(oceans_list)):\n",
        "  print('{:10}'.format(\" \"),'{:30}'.format(oceans_list[i]))"
      ],
      "metadata": {
        "cellView": "form",
        "id": "57ayiUEj-qb7"
      },
      "execution_count": null,
      "outputs": []
    },
    {
      "cell_type": "markdown",
      "source": [
        "**Let, Right, and Center Aligned**"
      ],
      "metadata": {
        "id": "ETGooJlLRvc7"
      }
    },
    {
      "cell_type": "code",
      "source": [
        "#LEFT Aligned\n",
        "print('{:10}'.format('text'))\n",
        "#CENTER Aligned\n",
        "print('{:^10}'.format('text'))\n",
        "#RIGHT Aligned\n",
        "print('{:>10}'.format('text'))"
      ],
      "metadata": {
        "id": "65MKhzBURzoW"
      },
      "execution_count": null,
      "outputs": []
    }
  ]
}