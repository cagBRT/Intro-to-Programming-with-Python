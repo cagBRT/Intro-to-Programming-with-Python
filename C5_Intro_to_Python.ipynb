{
  "nbformat": 4,
  "nbformat_minor": 0,
  "metadata": {
    "colab": {
      "name": "C5 Intro to Python.ipynb",
      "private_outputs": true,
      "provenance": [],
      "include_colab_link": true
    },
    "kernelspec": {
      "name": "python3",
      "display_name": "Python 3"
    }
  },
  "cells": [
    {
      "cell_type": "markdown",
      "metadata": {
        "id": "view-in-github",
        "colab_type": "text"
      },
      "source": [
        "<a href=\"https://colab.research.google.com/github/cagBRT/Intro-to-Programming-with-Python/blob/master/C5_Intro_to_Python.ipynb\" target=\"_parent\"><img src=\"https://colab.research.google.com/assets/colab-badge.svg\" alt=\"Open In Colab\"/></a>"
      ]
    },
    {
      "cell_type": "code",
      "metadata": {
        "id": "6JXn8XhtlpVC"
      },
      "source": [
        "# Clone the entire repo.\n",
        "!git clone -l -s https://github.com/cagBRT/Intro-to-Programming-with-Python.git cloned-repo\n",
        "%cd cloned-repo\n",
        "!ls"
      ],
      "execution_count": null,
      "outputs": []
    },
    {
      "cell_type": "markdown",
      "metadata": {
        "id": "NF8tHH_h0e-0"
      },
      "source": [
        "# **While Loops**\n",
        "\n",
        "While loops are used when you want to repeat a task, but you don't know how many to repeat.\n",
        "<br>\n",
        "A 'while' loop will repeat until a specific condition is true."
      ]
    },
    {
      "cell_type": "markdown",
      "source": [
        "![picture](https://github.com/cagBRT/Intro-to-Programming-with-Python/blob/master/c5-content/c5PythonProgramming1.png?raw=1)"
      ],
      "metadata": {
        "id": "11UXXNYQfaL2"
      }
    },
    {
      "cell_type": "markdown",
      "metadata": {
        "id": "1bpsiBdgme2P"
      },
      "source": [
        "While loops require an 'escape' from the loop. <br>\n",
        "\n",
        "The first method is to set a counter that is incremented or decremented during each pass through the loop. <br>\n",
        "This is similar to a 'for' loop.\n"
      ]
    },
    {
      "cell_type": "code",
      "metadata": {
        "id": "GzipWRIjmK34"
      },
      "source": [
        "#Example of a while loop with a counter\n",
        "#escape\n",
        "count = 1\n",
        "while count < 10:\n",
        "  print(\"count= \",count)\n",
        "  count = count + 1"
      ],
      "execution_count": null,
      "outputs": []
    },
    {
      "cell_type": "markdown",
      "metadata": {
        "id": "zOkkaxczoZS1"
      },
      "source": [
        "# **Assignment 1**\n",
        "\n",
        "Write code that prints the numbers 10 - 20."
      ]
    },
    {
      "cell_type": "code",
      "metadata": {
        "id": "glSBTENxpVui"
      },
      "source": [
        "#Assignment 1\n"
      ],
      "execution_count": null,
      "outputs": []
    },
    {
      "cell_type": "markdown",
      "metadata": {
        "id": "oHRuICq6qfNm"
      },
      "source": [
        "# **Assignment #2**\n",
        "Given the following list:\n",
        ">scores = [99, 65, 45, 89, 23,57,90, 72]\n",
        "\n",
        "Use a while loop and print the following: <br>\n",
        "if score is below 70, print the score and \"FAIL\"<br>\n",
        "if score is 70 - 80, print the score and \"C\"<br>\n",
        "if score is 80- 90, print the score and \"B\"<br>\n",
        "if score is more than 90, print the score and \"A\"<br>\n"
      ]
    },
    {
      "cell_type": "code",
      "metadata": {
        "id": "YkFbIdP9FbP6"
      },
      "source": [],
      "execution_count": null,
      "outputs": []
    },
    {
      "cell_type": "markdown",
      "metadata": {
        "id": "L6LDwpAfm_LF"
      },
      "source": [
        "**Break Statement**<br>\n",
        "A while loop can also have a break statement. When a condition is met, the program leaves the loop at that point in the code.\n"
      ]
    },
    {
      "cell_type": "code",
      "metadata": {
        "id": "1V_eCVdcnTPJ"
      },
      "source": [
        "#Example of a while loop with a counter\n",
        "#escape and a break statement\n",
        "count = 1\n",
        "while count < 10:\n",
        "  if count%5 == 0:\n",
        "    print(\"count is multiple of 5 = \",count)\n",
        "    break\n",
        "  print(\"count= \",count)\n",
        "  count = count + 1\n"
      ],
      "execution_count": null,
      "outputs": []
    },
    {
      "cell_type": "markdown",
      "metadata": {
        "id": "8iD3FrGxxc10"
      },
      "source": [
        "# **Assignment #3**\n",
        "Given the following list: <br>\n",
        ">numbers = [2,343,654,56,782,875,980,\"6\", 54647,7980,1231,34,453,6454,29,54]\n",
        "<br>\n",
        "Print the numbers. If a non-number is encountered, stop printing the list."
      ]
    },
    {
      "cell_type": "code",
      "metadata": {
        "id": "uCqCxMmWrJTO"
      },
      "source": [
        "#Assignment #3\n",
        "numbers = [2,343,654,56,782,875,980,\"6\", 54647,7980,1231,34,453,6454,29,54]\n",
        "\n",
        "\n"
      ],
      "execution_count": null,
      "outputs": []
    },
    {
      "cell_type": "markdown",
      "metadata": {
        "id": "qiya0fdVyy00"
      },
      "source": [
        "**While loops can have else statements** <br>\n",
        "These are especially useful when using break statements."
      ]
    },
    {
      "cell_type": "code",
      "metadata": {
        "id": "L9Nl0ZhezUhw"
      },
      "source": [
        "#Example of while loop with else statement\n",
        "#Collecting 10 integers from the user\n",
        "\n",
        "integers = []\n",
        "i = 0\n",
        "while i < 10:\n",
        "  integer = input(\"enter an integer between 1 - 10: \")\n",
        "  integer_user = int(integer)\n",
        "  if(integer_user > 10):\n",
        "    print(\"Start again\")\n",
        "    break\n",
        "  integers.append(integer_user)\n",
        "  i += 1\n",
        "else:\n",
        "  print(\"Thanks for 10 integers!\")\n",
        "  print(integers)"
      ],
      "execution_count": null,
      "outputs": []
    },
    {
      "cell_type": "markdown",
      "metadata": {
        "id": "39ZdAxapBlwP"
      },
      "source": [
        "# **Assignment #4**\n",
        "1. Create a list of integers by asking the user to enter them.\n",
        "2. When the integer is greater than 20, add it to the list.\n",
        "3. if the number is greater than 50, do not add it to the list.\n",
        "4. When the user has entered at least 10 numbers >20 and <50, stop accepting user input and print the full list.  \n"
      ]
    },
    {
      "cell_type": "code",
      "metadata": {
        "id": "S1sa1DsbC9x6"
      },
      "source": [
        "#Assignment 4"
      ],
      "execution_count": null,
      "outputs": []
    },
    {
      "cell_type": "markdown",
      "metadata": {
        "id": "ZRELy4XSC_tO"
      },
      "source": [
        "**Infinite while loops**<br>\n",
        "Sometimes you don't want to end loop except through a break statement. <br>\n",
        "This is called an infinite loop."
      ]
    },
    {
      "cell_type": "code",
      "metadata": {
        "id": "soxFSA-yDdMw"
      },
      "source": [
        "#Code example of an infinte loop\n",
        "#This code runs until the user enters\n",
        "#a number larger than 10\n",
        "integers = []\n",
        "while 1 == 1:\n",
        "  integer = input(\"enter an integer between 1 - 10: \")\n",
        "  integer_user = int(integer)\n",
        "  if(integer_user > 10):\n",
        "    print(\"Start again\")\n",
        "    break\n",
        "  else:\n",
        "    integers.append(integer_user)\n",
        "print(integers)\n"
      ],
      "execution_count": null,
      "outputs": []
    },
    {
      "cell_type": "markdown",
      "metadata": {
        "id": "pdeH2PtO33m0"
      },
      "source": [
        "# **Assignment #5**\n",
        "1. Ask the user to enter their favorite foods.\n",
        "2. When the user enters 'q', exit the loop\n",
        "3. Print the list of favorite foods\n",
        "4. Quit the program"
      ]
    },
    {
      "cell_type": "code",
      "metadata": {
        "id": "bDVyBdvz4cIp"
      },
      "source": [
        "#Code example of an infinte loop\n",
        "#This code runs until the user enters\n",
        "#a number larger than 10\n"
      ],
      "execution_count": null,
      "outputs": []
    },
    {
      "cell_type": "markdown",
      "metadata": {
        "id": "GFdh4hEP5rjX"
      },
      "source": [
        "# **QUIZ**"
      ]
    },
    {
      "cell_type": "markdown",
      "source": [
        "![picture](https://github.com/cagBRT/Intro-to-Programming-with-Python/blob/master/c5-content/c5PythonProgramming4.png?raw=1)"
      ],
      "metadata": {
        "id": "5cDhTkZGfpKD"
      }
    },
    {
      "cell_type": "code",
      "metadata": {
        "id": "DaowDe649iXj",
        "cellView": "form"
      },
      "source": [
        "#@title Q1 What is the last line of the output of the above code\n",
        "variable_name = \"choose an answer\" #@param [\"choose an answer\",\"4,8\", \"3,7\", \"1,5\", \"3,6\"]\n",
        "\n",
        "if(variable_name == str(\"3,7\") ):\n",
        "  print(\"correct\")\n",
        "else:\n",
        "  print(\"Try again\")"
      ],
      "execution_count": null,
      "outputs": []
    },
    {
      "cell_type": "markdown",
      "metadata": {
        "id": "7GD8xY0eBElU"
      },
      "source": [
        "# **Assignment #6**\n",
        "\n",
        "1. Ask the user to enter a number that is less than 1 million.\n",
        "2. Add all the digits in the number together\n",
        "3. Print the digits and the sum\n",
        "\n"
      ]
    },
    {
      "cell_type": "code",
      "metadata": {
        "id": "iU3k2nuQBkIr"
      },
      "source": [],
      "execution_count": null,
      "outputs": []
    },
    {
      "cell_type": "markdown",
      "metadata": {
        "id": "IICf1CuwsOtc"
      },
      "source": [
        "# **Debug Exercise**\n",
        "The code below has errors, your job is to fix them."
      ]
    },
    {
      "cell_type": "code",
      "metadata": {
        "id": "1mmP5r_wsOCV"
      },
      "source": [
        "#Program to sort scores into Fail, Pass, Exceptional\n",
        "scores = [2,54,77,83,89,95,21,34,90,54,76,34,76 12,65]\n",
        "passing_scores = []\n",
        "failing_scores = []\n",
        "exceptional_scores = []\n",
        "\n",
        "length = (len)scores\n",
        "print(score)\n",
        "\n",
        "if length < 10:\n",
        "  print(\"There are missing scores\")\n",
        "else:\n",
        "  print(\"Ready to sort\")\n",
        "\n",
        "i = 0\n",
        "while (i > length and length > 10):\n",
        "  if(scores[i] < 90 and scores[i] => 70):\n",
        "    passing_scores.append(scores[i])\n",
        "  elif(scores[i] => 90):\n",
        "    exceptional_scores.append(scores[i])\n",
        "  elif(scores[i]< 70):\n",
        "    failing_scores.append(scores[i])\n",
        "i = i + 1\n",
        "\n",
        "print(\"failing scores: \" failing_scores)\n",
        "print(\"passing scores: \",passing_scores)\n",
        "print(\"exceptional scores: \" exceptional_scores)"
      ],
      "execution_count": null,
      "outputs": []
    },
    {
      "cell_type": "markdown",
      "metadata": {
        "id": "YpiHNXcWpRtj"
      },
      "source": [
        "**Using Regex**<br>\n",
        "A RegEx, or Regular Expression, is a sequence of characters that forms a search pattern.<br>\n",
        "\n",
        "RegEx can be used to check if a string contains the specified search pattern."
      ]
    },
    {
      "cell_type": "markdown",
      "metadata": {
        "id": "BO1gyLKdps3e"
      },
      "source": [
        "Step 1: Import the regex library"
      ]
    },
    {
      "cell_type": "code",
      "metadata": {
        "id": "_xocAgb4ppgW"
      },
      "source": [
        "import re\n"
      ],
      "execution_count": null,
      "outputs": []
    },
    {
      "cell_type": "markdown",
      "metadata": {
        "id": "Oe9kLjvDp8Ah"
      },
      "source": [
        "Use the Regex library to search for specific characters, strings, or groups of characters<br>\n",
        "Check out the link for more information<br>\n",
        "https://www.w3schools.com/python/python_regex.asp\n"
      ]
    },
    {
      "cell_type": "code",
      "metadata": {
        "id": "ir3AOLNVqIDJ"
      },
      "source": [
        "#Example of using Regex\n",
        "import re\n",
        "\n",
        "input_string = \"Call of the Wild, by Jack London\"\n",
        "#Seach for the name Jack\n",
        "search_jack = re.search(\"Jack\", input_string)\n",
        "print(search_jack)\n",
        "#The output shows there is a match at characters 21 - 25"
      ],
      "execution_count": null,
      "outputs": []
    },
    {
      "cell_type": "code",
      "metadata": {
        "id": "8RUiqE4Nqu3G"
      },
      "source": [
        "#Example of using Regex\n",
        "import re\n",
        "\n",
        "input_string = \"Call of the Wild, by Jack London\"\n",
        "#Seach for the name Jack\n",
        "findall_lon = re.findall(\"[Lon]\", input_string)\n",
        "print(findall_lon)\n",
        "#The output shows there is a match\n",
        "\n",
        "print(\"searching\")\n",
        "#If you use the search function\n",
        "search_lon = re.search(\"[Lon]\", input_string)\n",
        "#It prints the first incidene it finds\n",
        "print(search_lon)\n"
      ],
      "execution_count": null,
      "outputs": []
    },
    {
      "cell_type": "markdown",
      "metadata": {
        "id": "AUC6HqBloTMA"
      },
      "source": [
        "# **Assignment #7**\n",
        "Write a program to check the validity of password input by users. <br>\n",
        "Validation :<br>\n",
        "At least 1 letter between [a-z] and 1 letter between [A-Z].<br>\n",
        "At least 1 number between [0-9].<br>\n",
        "At least 1 character from [$#@].<br>\n",
        "Minimum length 6 characters.<br>\n",
        "Maximum length 16 characters.<br>"
      ]
    },
    {
      "cell_type": "code",
      "metadata": {
        "id": "ncNi2N1fpJ77"
      },
      "source": [
        "#Assignment #8"
      ],
      "execution_count": null,
      "outputs": []
    }
  ]
}