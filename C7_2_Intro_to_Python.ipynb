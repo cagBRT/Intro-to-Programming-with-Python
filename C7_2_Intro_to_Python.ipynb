{
  "nbformat": 4,
  "nbformat_minor": 0,
  "metadata": {
    "colab": {
      "name": "C7_2 Intro to Python.ipynb",
      "provenance": [],
      "private_outputs": true,
      "include_colab_link": true
    },
    "kernelspec": {
      "name": "python3",
      "display_name": "Python 3"
    },
    "accelerator": "GPU"
  },
  "cells": [
    {
      "cell_type": "markdown",
      "metadata": {
        "id": "view-in-github",
        "colab_type": "text"
      },
      "source": [
        "<a href=\"https://colab.research.google.com/github/cagBRT/Intro-to-Programming-with-Python/blob/master/C7_2_Intro_to_Python.ipynb\" target=\"_parent\"><img src=\"https://colab.research.google.com/assets/colab-badge.svg\" alt=\"Open In Colab\"/></a>"
      ]
    },
    {
      "cell_type": "markdown",
      "metadata": {
        "id": "TM5zaZimbs77"
      },
      "source": [
        "https://people.sc.fsu.edu/~jburkardt/data/csv/csv.html"
      ]
    },
    {
      "cell_type": "code",
      "metadata": {
        "id": "YxtF92RT1CyW"
      },
      "source": [
        "# Clone the entire repo.\n",
        "!git clone -l -s https://github.com/cagBRT/Intro-to-Programming-with-Python.git cloned-repo\n",
        "%cd cloned-repo\n",
        "!ls\n",
        "#https://realpython.com/python-csv/"
      ],
      "execution_count": null,
      "outputs": []
    },
    {
      "cell_type": "markdown",
      "metadata": {
        "id": "JG4_Kb0a1GGa"
      },
      "source": [
        "# **Interacting with Files**"
      ]
    },
    {
      "cell_type": "markdown",
      "metadata": {
        "id": "55S0rYXN-KTF"
      },
      "source": [
        "# **Reading CSV Files**\n",
        "\n",
        "https://people.sc.fsu.edu/~jburkardt/data/csv/csv.html\n",
        "\n",
        "A CSV file (Comma Separated Values file) is a type of plain text file that uses specific structuring to arrange tabular data. Because it’s a plain text file, it can contain only actual text data—in other words, printable ASCII or Unicode characters.<br><br>\n",
        "\n",
        "CSV = Comma Separated Values<br>\n",
        "For example: <br>\n",
        ">John,Doe,120 jefferson st.,Riverside, NJ, 08075<br>\n",
        "\n",
        "This is an example of a line from a CSV file. <br>\n",
        "The each value is separated by a comma.\n",
        "This file has 6 values on each row."
      ]
    },
    {
      "cell_type": "markdown",
      "metadata": {
        "id": "oJLBHoE-_DWf"
      },
      "source": [
        "**Python Imports**<br>\n",
        "Python has many libraries that are can help you code. <br>\n",
        "Libraries are collections of functions related to a single topic. <br>\n",
        "For example:\n",
        "> Python's csv library has functions for reading CSV files."
      ]
    },
    {
      "cell_type": "markdown",
      "metadata": {
        "id": "50FgcTXj_bcR"
      },
      "source": [
        "To use a library you need to import it."
      ]
    },
    {
      "cell_type": "code",
      "metadata": {
        "id": "6TpfsrQX_BPG"
      },
      "source": [
        "import csv\n",
        "print(\"done\")"
      ],
      "execution_count": null,
      "outputs": []
    },
    {
      "cell_type": "markdown",
      "metadata": {
        "id": "K5M8fyKl_zYQ"
      },
      "source": [
        "Now you can use the csv library to interact with csv files.<br>\n",
        "[csv library](https://docs.python.org/3/library/csv.html)"
      ]
    },
    {
      "cell_type": "markdown",
      "metadata": {
        "id": "8NU_zxuwAeci"
      },
      "source": [
        "Step 1: get a csv file<br>\n",
        "You loaded a csv file called grades.csv into the Google drive. <br>\n",
        "Click on the link to look at the file:\n",
        "[grades](https://people.sc.fsu.edu/~jburkardt/data/csv/grades.csv)"
      ]
    },
    {
      "cell_type": "markdown",
      "metadata": {
        "id": "VSKOgIALzNdL"
      },
      "source": [
        "**Listing Drive Contents**<br>\n",
        "There are two ways to see the contents of the drive:\n",
        "1. Expand the sidebar menu on the left > Select **Files**\n",
        "2. Use OS commands<br>\n",
        "To use operating system commands, preface the command with an '!'\n",
        "\n"
      ]
    },
    {
      "cell_type": "code",
      "metadata": {
        "id": "mqFI_iu4Jnys"
      },
      "source": [
        "#To list the contents of the\n",
        "#current working directory\n",
        "!ls"
      ],
      "execution_count": null,
      "outputs": []
    },
    {
      "cell_type": "code",
      "metadata": {
        "id": "OOdit1011cjR"
      },
      "source": [
        "#To list the contents of\n",
        "#a specific directory\n",
        "!ls c7-content"
      ],
      "execution_count": null,
      "outputs": []
    },
    {
      "cell_type": "code",
      "metadata": {
        "id": "ooMi25qyvIXa"
      },
      "source": [
        "#Print the path of the current directory\n",
        "!pwd"
      ],
      "execution_count": null,
      "outputs": []
    },
    {
      "cell_type": "markdown",
      "metadata": {
        "id": "d2TlR1cGhag6"
      },
      "source": [
        "# **Assignment #1**\n",
        "1. List the contents of the directory called \"data_files\""
      ]
    },
    {
      "cell_type": "code",
      "metadata": {
        "id": "kFYPf943hj06"
      },
      "source": [],
      "execution_count": null,
      "outputs": []
    },
    {
      "cell_type": "markdown",
      "metadata": {
        "id": "ifxvb_Zr2ch8"
      },
      "source": [
        "**Examining the data**<br>\n",
        "You use the following code to look at the file."
      ]
    },
    {
      "cell_type": "code",
      "metadata": {
        "id": "ACtGXJLkvO4K"
      },
      "source": [
        "import csv\n",
        "with open('/content/cloned-repo/c7-content/grades.csv') as csvfile:\n",
        "  file_reader = csv.reader(csvfile, delimiter=',', quotechar='|')\n",
        "  for row in file_reader:\n",
        "    print(', '.join(row))"
      ],
      "execution_count": null,
      "outputs": []
    },
    {
      "cell_type": "markdown",
      "metadata": {
        "id": "2k-gLKnDjsUy"
      },
      "source": [
        "# **Quiz**"
      ]
    },
    {
      "cell_type": "code",
      "metadata": {
        "id": "5epwO7IZjuRe",
        "cellView": "form"
      },
      "source": [
        "#@title Which of the following cities are not in cities.csv?\n",
        "variable_name = \"Reading, PA\" #@param [\"Santa Ana, CA\",\"Victoria, TX\", \"Los Angeles, CA\", \"Reading, PA\"]\n",
        "if(variable_name == \"Los Angeles, CA\"):\n",
        "  print(\"Correct!\")\n",
        "else:\n",
        "  print(\"Try again\")"
      ],
      "execution_count": null,
      "outputs": []
    },
    {
      "cell_type": "markdown",
      "metadata": {
        "id": "jY7ZGyl7l-4y"
      },
      "source": [
        "# **Read the file as a List.**"
      ]
    },
    {
      "cell_type": "code",
      "metadata": {
        "id": "VBBTU6R42-jN"
      },
      "source": [
        "import csv\n",
        "\n",
        "with open('/content/cloned-repo/c7-content/grades.csv') as csvfile:\n",
        "  file_reader = csv.reader(csvfile, delimiter=',', quotechar='|')\n",
        "  grades_list = list(file_reader)\n",
        "  print(\"done\")"
      ],
      "execution_count": null,
      "outputs": []
    },
    {
      "cell_type": "markdown",
      "metadata": {
        "id": "wsxXHcak9zLT"
      },
      "source": [
        "The CSV file is now a Python List. <br>\n",
        "You can access data using list commands."
      ]
    },
    {
      "cell_type": "code",
      "metadata": {
        "id": "3r3Et8-99pPh"
      },
      "source": [
        "print(grades_list[0])"
      ],
      "execution_count": null,
      "outputs": []
    },
    {
      "cell_type": "code",
      "metadata": {
        "id": "yqTHWmjq-GId"
      },
      "source": [
        "print(grades_list[1])"
      ],
      "execution_count": null,
      "outputs": []
    },
    {
      "cell_type": "markdown",
      "metadata": {
        "id": "VySmw2Yu-NVx"
      },
      "source": [
        "# **Assignment #1**\n",
        "Write a program that calculates the average grade for Test1."
      ]
    },
    {
      "cell_type": "code",
      "metadata": {
        "id": "lGF6PNub-Jrr"
      },
      "source": [
        "#Assignment #1"
      ],
      "execution_count": null,
      "outputs": []
    },
    {
      "cell_type": "markdown",
      "metadata": {
        "id": "p1mTg8vZ-d_1"
      },
      "source": [
        "# **Assignment #2**\n",
        "1. Read the CSV file called **freshman_lbs.csv**. It is in the same directory as grades.csv\n",
        "2. Load the file into a list.\n",
        "3. Caluclate: <br>\n",
        "the average weight of female freshmen, in Sept and the average weight in April. <br>\n",
        "4. Calculate the average weight gain/loss for freshmen."
      ]
    },
    {
      "cell_type": "code",
      "metadata": {
        "id": "DBHxXlgyWybk"
      },
      "source": [],
      "execution_count": null,
      "outputs": []
    },
    {
      "cell_type": "markdown",
      "metadata": {
        "id": "mzMYN3zsF2dp"
      },
      "source": [
        "**Read the column names and count the number of lines processed**\n"
      ]
    },
    {
      "cell_type": "code",
      "metadata": {
        "id": "m_EFzxGbWR_2"
      },
      "source": [
        "with open('/content/cloned-repo/c7-content/addresses.csv') as csv_file:\n",
        "    csv_reader = csv.reader(csv_file, delimiter=',')\n",
        "    line_count = 0\n",
        "    for row in csv_reader:\n",
        "        if line_count == 0:\n",
        "            print(f'Column names are {\", \".join(row)}')\n",
        "            line_count += 1\n",
        "        else:\n",
        "            print(f'\\t{row[0]}  {row[1]}  {row[2]} {row[3]} {row[4]} {row[5]}')\n",
        "            line_count += 1\n",
        "    print(f'Processed {line_count} lines.')"
      ],
      "execution_count": null,
      "outputs": []
    },
    {
      "cell_type": "markdown",
      "metadata": {
        "id": "ABXEki5OiYaL"
      },
      "source": [
        "# **Quiz**\n",
        "How many cities are listed in cities.csv?"
      ]
    },
    {
      "cell_type": "code",
      "metadata": {
        "id": "4X3EDC3gikf_",
        "cellView": "form"
      },
      "source": [
        "#@title How many cities are listed in cities.csv?\n",
        "variable_name =  0#@param {type:\"integer\"}\n",
        "if(variable_name == 128):\n",
        "  print(\"Correct!\")\n",
        "else:\n",
        "  print(\"Try again\")\n"
      ],
      "execution_count": null,
      "outputs": []
    },
    {
      "cell_type": "markdown",
      "metadata": {
        "id": "ht1HgneC7NWJ"
      },
      "source": [
        "# **Assignment #3**\n",
        "\n",
        "1. Read the CSV file called **faithful.csv** It is in the same directory as the other files.\n",
        "2. While reading the file, <br>\n",
        "print out the column names<br>\n",
        "count and print the number of lines in the file\n",
        "\n"
      ]
    },
    {
      "cell_type": "code",
      "metadata": {
        "id": "m88v4iI6ar-A"
      },
      "source": [],
      "execution_count": null,
      "outputs": []
    },
    {
      "cell_type": "markdown",
      "metadata": {
        "id": "q0V0t-suiPxT"
      },
      "source": [
        "# **Writing CSV Files**\n",
        "\n"
      ]
    },
    {
      "cell_type": "code",
      "metadata": {
        "id": "1Y9KxqaZER2h"
      },
      "source": [
        "import csv\n",
        "\n",
        "with open ('student_data.csv', mode = 'w+') as student_data:\n",
        "  file_writer = csv.writer(student_data, delimiter=',', quotechar = '\"', quoting = csv.QUOTE_MINIMAL)\n",
        "  file_writer.writerow(['Jack','Smith', 90, 45, 89])\n",
        "  file_writer.writerow(['Bob','Steen', 67, 77, 89])\n",
        "  file_writer.writerow(['Sandy', 'Calhoun', 58, 96, 71])\n",
        "  file_writer.writerow(['Tom','Brown', 23, 57, 85])\n",
        "  file_writer.writerow(['Sandy', 'Calhoun', 65, 69, 69])\n",
        "  file_writer.writerow(['Tim', 'James', 98, 77, 89])"
      ],
      "execution_count": null,
      "outputs": []
    },
    {
      "cell_type": "code",
      "metadata": {
        "id": "pBwV-mQzKTDd"
      },
      "source": [
        "#To view the file, use the linux command 'cat'\n",
        "!cat student_data.csv"
      ],
      "execution_count": null,
      "outputs": []
    },
    {
      "cell_type": "markdown",
      "metadata": {
        "id": "L4S2lojtNtaF"
      },
      "source": [
        "# **Assignment #4**\n",
        "\n",
        "1. Create a file called \"test_file.csv\"\n",
        "2. Write 5 rows of data. Each row should have 6 comma separated values.\n",
        "3. Use cat to view the file.\n"
      ]
    },
    {
      "cell_type": "code",
      "metadata": {
        "id": "hsL4UtmUNrhR"
      },
      "source": [],
      "execution_count": null,
      "outputs": []
    }
  ]
}