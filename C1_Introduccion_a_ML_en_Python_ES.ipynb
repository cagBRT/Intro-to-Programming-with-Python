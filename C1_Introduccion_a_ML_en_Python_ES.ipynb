{
  "nbformat": 4,
  "nbformat_minor": 0,
  "metadata": {
    "colab": {
      "provenance": [],
      "private_outputs": true,
      "include_colab_link": true
    },
    "kernelspec": {
      "name": "python3",
      "display_name": "Python 3"
    }
  },
  "cells": [
    {
      "cell_type": "markdown",
      "metadata": {
        "id": "view-in-github",
        "colab_type": "text"
      },
      "source": [
        "<a href=\"https://colab.research.google.com/github/cagBRT/Intro-to-Programming-with-Python/blob/master/C1_Introduccion_a_ML_en_Python_ES.ipynb\" target=\"_parent\"><img src=\"https://colab.research.google.com/assets/colab-badge.svg\" alt=\"Open In Colab\"/></a>"
      ]
    },
    {
      "cell_type": "code",
      "metadata": {
        "id": "NG_bC5qLDIdI"
      },
      "source": [
        "# Clonar todo el repositorio.\n",
        "!git clone -l -s https://github.com/cagBRT/Intro-to-Programming-with-Python.git cloned-repo\n",
        "%cd cloned-repo\n",
        "!ls\n"
      ],
      "execution_count": null,
      "outputs": []
    },
    {
      "cell_type": "code",
      "metadata": {
        "id": "9zrDQ-JGt9Ca"
      },
      "source": [
        "from IPython.display import Image\n",
        "def page(num):\n",
        "    return Image(\"c1-content/c1PythonProgramming\"+str(num)+ \".png\" , width=640)"
      ],
      "execution_count": null,
      "outputs": []
    },
    {
      "cell_type": "code",
      "metadata": {
        "id": "Bm1W8MyU7ugA"
      },
      "source": [
        "page(7)"
      ],
      "execution_count": null,
      "outputs": []
    },
    {
      "cell_type": "markdown",
      "metadata": {
        "id": "x7u-ofjQI0l5"
      },
      "source": [
        "# **Introducción a la programación de Machine Learning con Python**"
      ]
    },
    {
      "cell_type": "markdown",
      "metadata": {
        "id": "Ia07M95OwEX7"
      },
      "source": [
        "El lenguaje de programación Python se destaca por su código conciso y fácil de leer. Si bien los algoritmos o flujos de trabajo detrás del uso de Machine Learning y la Inteligencia Artificial son complejos, la simplicidad de Python nos permite a nosotros los desarrolladores escribir sistemas viables y escalables. Los desarrolladores en este lenguaje a menudo suelen poner todo su esfuerzo en resolver un problema de Machine Learning en lugar de preocuparse por las partes técnicas del lenguaje."
      ]
    },
    {
      "cell_type": "code",
      "metadata": {
        "id": "2p3XCkuwIvY7"
      },
      "source": [
        "# Imprime un String\n",
        "print(\"hello world!\")"
      ],
      "execution_count": null,
      "outputs": []
    },
    {
      "cell_type": "markdown",
      "metadata": {
        "id": "q7Kdx548lTUg"
      },
      "source": [
        "# **Actividad #0**\n",
        "1. Escribe código en Python que imprima lo siguiente:\n",
        "<br> Hello world, it's me, *your_name*\n"
      ]
    },
    {
      "cell_type": "code",
      "metadata": {
        "id": "8dSd5_oKJR0G"
      },
      "source": [
        "# Actividad 0\n",
        "# Escribe comentarios para describir como funciona tu código.\n",
        "# Los comentarios empiezan la línea con el símbolo de hashtag,\n",
        "# también conocido como gato o número (#)\n",
        "\n",
        "# TODO - cuando veas un comentario con <TODO>\n",
        "# es donde se indica que se debería agregar código."
      ],
      "execution_count": null,
      "outputs": []
    },
    {
      "cell_type": "markdown",
      "metadata": {
        "id": "_MdQdSKzMMqB"
      },
      "source": [
        "Python fue diseñado con el objetivo de ser fácil de leer.\n",
        "El código que debemos programar debe ser entendible para todos.\n",
        "\n",
        "**La indentación en Python es muy importante**\n",
        "\n",
        "En la mayoría de los lenguajes de progamación, la indentación solamente es usada para que el código sea más legible. Pero en Python es diferente, la indentación es necesaria para indicar a que bloque de código le pertenece cada línea programada.\n"
      ]
    },
    {
      "cell_type": "markdown",
      "source": [],
      "metadata": {
        "id": "JMVukxw_jgfO"
      }
    },
    {
      "cell_type": "code",
      "metadata": {
        "id": "Hq2g62vyk5qW"
      },
      "source": [
        "page(1)"
      ],
      "execution_count": null,
      "outputs": []
    },
    {
      "cell_type": "code",
      "metadata": {
        "id": "Q7XllYUYlHyB"
      },
      "source": [
        "page(2)"
      ],
      "execution_count": null,
      "outputs": []
    },
    {
      "cell_type": "code",
      "metadata": {
        "id": "yJY0iNBVg2QG"
      },
      "source": [
        "# Ejemplo de la indentación en Python\n",
        "# Estas líneas no tienen indentación\n",
        "print(\"indenting has meaning in Python\")\n",
        "print(\"no indent\") "
      ],
      "execution_count": null,
      "outputs": []
    },
    {
      "cell_type": "code",
      "metadata": {
        "id": "XgBOjehbhT0T"
      },
      "source": [
        "# Otro ejemplo de la indentación en Python\n",
        "# Una de las siguientes líneas tiene indentación que no debería tener,\n",
        "# por lo tanto, Python no compilará el código de este bloque y arrojará un error.\n",
        "print(\"indenting has meaning in Python\")\n",
        "  print(\"no indent\")"
      ],
      "execution_count": null,
      "outputs": []
    },
    {
      "cell_type": "markdown",
      "metadata": {
        "id": "92boKm1MEOEl"
      },
      "source": [
        "# Variables"
      ]
    },
    {
      "cell_type": "markdown",
      "metadata": {
        "id": "fOwPNAuZMZPd"
      },
      "source": [
        "Las variables sirven como contenedores para guardar nuestros datos."
      ]
    },
    {
      "cell_type": "code",
      "metadata": {
        "id": "y1rVfWFpLp_H"
      },
      "source": [
        "# Asignación de variables\n",
        "first_name = \"John\"\n",
        "last_name = \"Deere\"\n",
        "print(first_name, last_name)"
      ],
      "execution_count": null,
      "outputs": []
    },
    {
      "cell_type": "markdown",
      "metadata": {
        "id": "FrAgqakRNSpy"
      },
      "source": [
        "# **Actividad #1**\n",
        "1. Agrega un comentario que contenga escrito tu nombre y el número de la actividad.\n",
        "2. Asigna una variable llamada *first_name* con el valor de tu primer nombre.\n",
        "3. Asigna una variable llamada *last_name* con el valor de tu apellido.\n",
        "4. Imprime las variables en la misma línea.\n"
      ]
    },
    {
      "cell_type": "code",
      "metadata": {
        "id": "Qw9CGcwZOEVe"
      },
      "source": [
        "# Añade el comentario y las variables\n",
        "# Imprime el nombre\n",
        "#TODO"
      ],
      "execution_count": null,
      "outputs": []
    },
    {
      "cell_type": "markdown",
      "metadata": {
        "id": "WVf7WE2oOGeA"
      },
      "source": [
        "En el nombre de las variables importan las minúsculas y las mayúsculas. <br>\n",
        "La variable *firstName* es una variable completamente diferente a una llamada *FirstName*."
      ]
    },
    {
      "cell_type": "code",
      "metadata": {
        "id": "zcOXKKmVOUvI"
      },
      "source": [
        "# En el nombre de las variables importan las minúscilas y las mayúsculas.\n",
        "first_name = \"Cali\"\n",
        "First_Name = \"Janice\"\n",
        "print(first_name)\n",
        "print(First_Name)"
      ],
      "execution_count": null,
      "outputs": []
    },
    {
      "cell_type": "markdown",
      "metadata": {
        "id": "ySFRluvOOs-o"
      },
      "source": [
        "# **Actividad #2**\n",
        "Crea dos variables: *last_name* y *Last_Name*<br>\n",
        "Asignale el valor de tu apellido a las variables<br>\n",
        "Imprimime las variables en líneas separadas"
      ]
    },
    {
      "cell_type": "code",
      "metadata": {
        "id": "hRAoAYr3PUpp"
      },
      "source": [
        "#TODO"
      ],
      "execution_count": null,
      "outputs": []
    },
    {
      "cell_type": "markdown",
      "metadata": {
        "id": "3O0PXaO6PV7B"
      },
      "source": [
        "# ¡Usa el Internet cuando programas!\n",
        "Cuando uno está programando, el Internet es nuestro mejor amigo.<br>\n",
        "Hay muchos ejemplos de código en Python disponibles en Internet.<br>\n",
        "1. Cuando busques en Internet, escribe 'Python' primero<br>\n",
        "Por ejemplo: \"python assign multiple variables on one line\" (se recomienda buscarlo en Inglés por ser el lenguaje universal en la programación)\n",
        "2. Checa los resultados, usualmente el primer o segundo resultado te dirán como crear varias variables en una sola línea.\n",
        "\n",
        "\n"
      ]
    },
    {
      "cell_type": "markdown",
      "metadata": {
        "id": "NKRoxiBnMHIj"
      },
      "source": [
        "**Para aprender Python, visita**: \n",
        "\n",
        "\n",
        "*   [https://www.w3schools.com/python/python_operators.asp](https://www.w3schools.com/python/python_operators.asp)\n",
        "<br><br>\n",
        "\n",
        "**Para encontrar soluciones a preguntas específicas, intenta con**: \n",
        "\n",
        "*   Stack Overflow\n",
        "<br><br>\n",
        "\n",
        "**Para los standards de programación en Python, checa:**\n",
        "\n",
        "\n",
        "*   http://google.github.io/styleguide/pyguide.html\n",
        "*   https://sphinxcontrib-napoleon.readthedocs.io/en/latest/example_google.html\n",
        "\n",
        "\n",
        "\n",
        "\n",
        "\n",
        "\n"
      ]
    },
    {
      "cell_type": "markdown",
      "metadata": {
        "id": "k40h1u9YQl13"
      },
      "source": [
        "# **Actividad #3**\n",
        "Crea y asigna variables en una sola línea.<br>\n",
        "Imprime el valor de las variables.\n",
        "\n",
        "* El nombre de una variable debe empezar con una letra o con un guión bajo '_'.\n",
        "* El nombre de una variable no puede empezar con un número.\n",
        "* El nombre de una variable solamente puede contener carácteres alfa-numéricos y guiones bajos\n",
        "* Las mayúsculas y las minúsculas en las variables hacen una diferencia (age, Age y AGe son tres variables diferentes)\n"
      ]
    },
    {
      "cell_type": "code",
      "metadata": {
        "id": "JGgwXg8DRBIo"
      },
      "source": [
        "# Busca en Internet para encontrar la respuesta\n",
        "# ¿Cómo asignar 3 variables en una sola línea de código?\n",
        "\n",
        "#TODO"
      ],
      "execution_count": null,
      "outputs": []
    },
    {
      "cell_type": "markdown",
      "metadata": {
        "id": "k9p_4UHQRNEf"
      },
      "source": [
        "Imprime el nombre de la variable y su valor de la siguiente manera: <br>\n",
        "variableName = value <br>"
      ]
    },
    {
      "cell_type": "code",
      "metadata": {
        "id": "rF68R6cIRl_P"
      },
      "source": [
        "# Ejemplo de como imprimir el nombre de la variable y su valor\n",
        "variable1 = 'Paul'\n",
        "variable2 = 'Bunyon'\n",
        "\n",
        "# Imprime un String y luego el valor de la variable\n",
        "print(\"variable1 = \" , variable1)\n",
        "print(\"variable2 = \" , variable2)"
      ],
      "execution_count": null,
      "outputs": []
    },
    {
      "cell_type": "markdown",
      "metadata": {
        "id": "DnfW331iS2w3"
      },
      "source": [
        "# **Actividad #4**\n",
        "Crea y asigna valores a dos variables<br>\n",
        "Imprime el nombre de esas variables y sus valores."
      ]
    },
    {
      "cell_type": "code",
      "metadata": {
        "id": "uO7l_lQv9vpP"
      },
      "source": [
        "# Imprime un String y luego el valor de la variable\n",
        "\n",
        "#TODO"
      ],
      "execution_count": null,
      "outputs": []
    },
    {
      "cell_type": "markdown",
      "metadata": {
        "id": "pKQbUwTPTJp5"
      },
      "source": [
        "Las variables pueden ser Strings: <br>\n",
        "\n",
        "\n",
        "> name = \"Blue River\"<br>\n",
        "\n",
        "\n",
        "\n",
        "también pueden ser variables numéricas:<br>\n",
        "\n",
        "\n",
        ">   length = 6<br>\n",
        "  width = 4.5\n",
        "\n"
      ]
    },
    {
      "cell_type": "markdown",
      "metadata": {
        "id": "wnuGVmtLUWpD"
      },
      "source": [
        "Las variables numéricas pueden ser: \n",
        "\n",
        "\n",
        "> Integers (que son números enteros)\n",
        "\n",
        "\n",
        "> Floating Point Numbers (que son números reales)\n",
        "\n",
        "\n",
        "\n"
      ]
    },
    {
      "cell_type": "code",
      "metadata": {
        "id": "mMprazYaUuyR"
      },
      "source": [
        "# Asignación de variables tipo Integer\n",
        "number_of_customers = 65\n",
        "number_of_shopping_carts = 60\n",
        "print(number_of_customers, number_of_shopping_carts)"
      ],
      "execution_count": null,
      "outputs": []
    },
    {
      "cell_type": "code",
      "metadata": {
        "id": "5z771zx1VUcW"
      },
      "source": [
        "# Asignación de variables tipo Float\n",
        "mpg = 24.5\n",
        "miles = 100.5\n",
        "print(mpg, miles)"
      ],
      "execution_count": null,
      "outputs": []
    },
    {
      "cell_type": "markdown",
      "metadata": {
        "id": "miTOcS4eV68w"
      },
      "source": [
        "# **Actividad #5**\n",
        "Crea dos variables de tipo Integer<br>\n",
        "Crea dos variables de tipo Float<br>\n",
        "Imprime el nombre de las variables y sus valores."
      ]
    },
    {
      "cell_type": "code",
      "metadata": {
        "id": "jeNcIiSdWSEf"
      },
      "source": [
        "# Imprime el nombre de las variables Int y Float con sus respectivos valores"
      ],
      "execution_count": null,
      "outputs": []
    },
    {
      "cell_type": "markdown",
      "metadata": {
        "id": "CGFrEZOqVxuu"
      },
      "source": [
        "Puedes \"sumar\" variables de tipo String o sumar números usando el símbolo de '+'."
      ]
    },
    {
      "cell_type": "code",
      "metadata": {
        "id": "T0dUm_zbV59D"
      },
      "source": [
        "# \"Sumar\" dos variables de tipo String\n",
        "first_statement = \"I want to go to the movies\"\n",
        "second_statement = \"tonight\"\n",
        "# Imprime las dos variables juntas\n",
        "print(first_statement, second_statement)\n",
        "# \"Suma\" las dos variables y asigna el resultado a una nueva variable\n",
        "complete_statement = first_statement + second_statement\n",
        "print(complete_statement)"
      ],
      "execution_count": null,
      "outputs": []
    },
    {
      "cell_type": "markdown",
      "metadata": {
        "id": "aGfaidgSXMQR"
      },
      "source": [
        "# **Actividad #6**\n",
        "Cuando dos variables de tipo String son \"sumadas\", no se agrega ningún espacio entre ellas. <br>\n",
        "Vuelve a escribir el código para añadir un espacio (\" \") entre \"*movies*\" y \"*tonight*\" en la variable *completeStatement*."
      ]
    },
    {
      "cell_type": "code",
      "metadata": {
        "id": "ncbpUujrXxOa"
      },
      "source": [
        "# Vuelve a escribir el código de la Actividad #5 para añadir un espacio entre las\n",
        "# variables de tipo String y asignar el resultado en completeStatement"
      ],
      "execution_count": null,
      "outputs": []
    },
    {
      "cell_type": "markdown",
      "metadata": {
        "id": "J0hyHwPt-s2s"
      },
      "source": [
        "Las variables de tipo String solamente pueden ser \"sumadas\" (también conocido como concatenadas).<br>\n",
        "Cualquier otra operación matemáticas producirá un error."
      ]
    },
    {
      "cell_type": "code",
      "metadata": {
        "id": "Fc3Havab_AE1"
      },
      "source": [
        "# Los Strings solamente pueden ser concatenados\n",
        "string1 = \"hello\"\n",
        "string2 = \"bye\"\n",
        "string3 = string1 + \" \" + string2\n",
        "# La siguiente línea producirá un error\n",
        "string4 = string1 - string2"
      ],
      "execution_count": null,
      "outputs": []
    },
    {
      "cell_type": "markdown",
      "metadata": {
        "id": "nSUf1fSjEXis"
      },
      "source": [
        "# Operadores"
      ]
    },
    {
      "cell_type": "markdown",
      "metadata": {
        "id": "6lQJcW_N__li"
      },
      "source": [
        "Python tiene cierto número de operadores aritméticos. <br>"
      ]
    },
    {
      "cell_type": "code",
      "metadata": {
        "id": "_DkDdl0KDXZv"
      },
      "source": [
        "page(3)"
      ],
      "execution_count": null,
      "outputs": []
    },
    {
      "cell_type": "markdown",
      "metadata": {
        "id": "UzvVsIm0m3RP"
      },
      "source": [
        "# **Tomando valores de entrada desde los usuarios**<br>\n",
        "A veces querrás que el usuario ingrese sus propios datos durante la ejecución de tu programa, podrás hacerlo con el código que se muestra abajo."
      ]
    },
    {
      "cell_type": "code",
      "metadata": {
        "id": "HhB80idrmMKd"
      },
      "source": [
        "# Pregunta al usuario que ingrese dos veces los datos que el desee\n",
        "# Los datos ingresados serán asignados como Strings\n",
        "integer1 = input(\"integer1 =  \")\n",
        "integer2 = input(\"integer2 =  \")\n",
        "# Queremos que nuestros datos ingresados sean de tipo Integer\n",
        "# Así que los convertiremos a Integer\n",
        "integer1 = int(integer1)\n",
        "integer2 = int(integer2)\n"
      ],
      "execution_count": null,
      "outputs": []
    },
    {
      "cell_type": "markdown",
      "metadata": {
        "id": "8mWt6yFi3Q7z"
      },
      "source": [
        "**Pregunta al usuario por un dato**<br>\n",
        "Escribe el código para preguntarle al usuario que ingrese un dato de tipo String"
      ]
    },
    {
      "cell_type": "code",
      "metadata": {
        "id": "M1BVK0Xh3QYM"
      },
      "source": [
        "# Pregunta a los usuarios por los datos\n",
        "# Pregunta por el valor de first_name\n",
        "# Pregunta por el valor de last_name\n",
        "# Imprime Hello, first_name last_name"
      ],
      "execution_count": null,
      "outputs": []
    },
    {
      "cell_type": "markdown",
      "metadata": {
        "id": "GCmfeB6U30E5"
      },
      "source": [
        "Pregunta al usuario que que ingrese un dato de tipo Integer"
      ]
    },
    {
      "cell_type": "code",
      "metadata": {
        "id": "E-7nBaHP36vf"
      },
      "source": [
        "# Pregunta los usuarios por dos variables de tipo Integer: \n",
        "# Imprime las dos variables"
      ],
      "execution_count": null,
      "outputs": []
    },
    {
      "cell_type": "code",
      "metadata": {
        "id": "2odORhY-Nb7Y"
      },
      "source": [
        "# Ahora puedes usar las dos variables ingresadas por el usuario\n",
        "# para demostrar las operaciones aritméticas\n",
        "sum = integer1 + integer2\n",
        "difference = integer1 - integer2\n",
        "product = integer1 * integer2\n",
        "div = integer1 / integer2\n",
        "mod = integer1 % integer2\n",
        "exponent = integer1 ** integer2\n",
        "floor = integer1 // integer2\n",
        "\n",
        "print(\"sum = \", sum)\n",
        "print(\"difference = \", difference)\n",
        "print(\"product = \", product)\n",
        "print(\"div = \", div)\n",
        "print(\"mod = \", mod)\n",
        "print(\"exponent = \", exponent)\n",
        "print(\"floor = \", floor)"
      ],
      "execution_count": null,
      "outputs": []
    },
    {
      "cell_type": "markdown",
      "metadata": {
        "id": "mF1zBdqzPGvK"
      },
      "source": [
        "# **Actividad #7**\n",
        "Escribe un programa que calcule e imprima el área de un triángulo. <br>\n",
        "El triángulo tiene las siguientes medidas: <br>\n",
        "base = 12 <br>\n",
        "altura = 32 <br>\n",
        "\n",
        "El área de un triángulo es A = 1/2(base * altura)\n",
        "\n",
        "La salida del programa debe tener el siguiente formato: <br>\n",
        "*The area of the triangle is: ##*"
      ]
    },
    {
      "cell_type": "code",
      "metadata": {
        "id": "pRgcxgPcN4sD"
      },
      "source": [
        "# Actividad #7\n",
        "# Calcula el área de un triángulo\n",
        "#TODO\n"
      ],
      "execution_count": null,
      "outputs": []
    },
    {
      "cell_type": "markdown",
      "metadata": {
        "id": "GfNMO7MyQ1W0"
      },
      "source": [
        "Python tiene varios operadores de asignación <br>\n",
        "Los *operadores de asignación* son usados para asignar valores a las variables."
      ]
    },
    {
      "cell_type": "code",
      "metadata": {
        "id": "vagRaxI6TMh5"
      },
      "source": [
        "page(4)"
      ],
      "execution_count": null,
      "outputs": []
    },
    {
      "cell_type": "code",
      "metadata": {
        "id": "_01hNLG6UrH_"
      },
      "source": [
        "# Se muestra que el operador aritmético y el operador de asisgnación\n",
        "# producen el mismo resultado\n",
        "x = 7\n",
        "x *= 3\n",
        "print(\"x *= 3 \",x)\n",
        "\n",
        "x = 7\n",
        "x = x * 3\n",
        "print(\"x * 3 =\",x)"
      ],
      "execution_count": null,
      "outputs": []
    },
    {
      "cell_type": "markdown",
      "metadata": {
        "id": "NjLor84USULZ"
      },
      "source": [
        "# **Actividad #8**\n",
        "Escribe un programa para demostrar que los operadores aritméticos producen los mismos valores que los operadores de asignación.<br>\n",
        "Por ejemplo:<br>"
      ]
    },
    {
      "cell_type": "code",
      "metadata": {
        "id": "WWuvuF6P3CXz"
      },
      "source": [
        "# Actividad 8\n",
        "#TODO"
      ],
      "execution_count": null,
      "outputs": []
    },
    {
      "cell_type": "markdown",
      "metadata": {
        "id": "sbvPpeqw_1ZT"
      },
      "source": [
        "Las variables también pueden tener los valores de True/False (también llamados valores Booleanos). <br>\n",
        "Los valores Booleanos solamente pueden ser True o False. <br>\n",
        "Usualmente son usados con operadores de comparación, lógicos y de identidad."
      ]
    },
    {
      "cell_type": "markdown",
      "metadata": {
        "id": "eLDEYYXAD4Su"
      },
      "source": [
        "# Operadores de comparación"
      ]
    },
    {
      "cell_type": "code",
      "metadata": {
        "id": "hST_y4aqCg9B"
      },
      "source": [
        "page(5)"
      ],
      "execution_count": null,
      "outputs": []
    },
    {
      "cell_type": "code",
      "metadata": {
        "id": "Y2UicGGFEi_6"
      },
      "source": [
        "# Ejemplo de operadores de comparación\n",
        "x = 9\n",
        "y = 9\n",
        "z = (x==y)\n",
        "print(z)\n",
        "\n",
        "w = 9.0\n",
        "print(x==w)\n",
        "\n",
        "v = 9.5\n",
        "print(x==v)"
      ],
      "execution_count": null,
      "outputs": []
    },
    {
      "cell_type": "markdown",
      "metadata": {
        "id": "Tu82y6dLE3Ke"
      },
      "source": [
        "# **Actividad #9**\n",
        "Escribe un programa que produzca un valor True y luego un False para cada operador de comparación.<br>"
      ]
    },
    {
      "cell_type": "code",
      "metadata": {
        "id": "UIN9s_sGFen2"
      },
      "source": [
        "# Actividad #9\n",
        "#TODO"
      ],
      "execution_count": null,
      "outputs": []
    },
    {
      "cell_type": "markdown",
      "metadata": {
        "id": "uqwOWrhkECSx"
      },
      "source": [
        "# Operadores lógicos"
      ]
    },
    {
      "cell_type": "code",
      "metadata": {
        "id": "PutrSh13DMsV"
      },
      "source": [
        "page(6)"
      ],
      "execution_count": null,
      "outputs": []
    },
    {
      "cell_type": "code",
      "metadata": {
        "id": "vRtrX8jbGC-E",
        "cellView": "code"
      },
      "source": [
        "# Ejemplo usando 'and'\n",
        "x = 9\n",
        "y = 4\n",
        "z = (x < 10) and (x > 8)\n",
        "print(z)"
      ],
      "execution_count": null,
      "outputs": []
    },
    {
      "cell_type": "markdown",
      "metadata": {
        "id": "0OQjvC5xHY_j"
      },
      "source": [
        "# **Actividad #10**\n",
        "Escribe un programa que produzca un valor True para cada operador lógico y después un valor False para cada operador lógico tomando en cuenta lo siguiente:\n",
        "\n",
        "*   x = 32\n",
        "*   y = 89\n"
      ]
    },
    {
      "cell_type": "code",
      "metadata": {
        "id": "uxWQGRxsHFWk"
      },
      "source": [
        "# Actividad 10\n",
        "# Imprime un ejemplo de una condición True o False para cada operador lógico\n",
        "\n",
        "#TODO"
      ],
      "execution_count": null,
      "outputs": []
    },
    {
      "cell_type": "markdown",
      "metadata": {
        "id": "QXU59uFHmQ8r"
      },
      "source": [
        "# Tipos de datos en Python <br>\n",
        "A lo largo de este notebook, has visto que las variables pueden tener diferentes tipos de datos. <br>\n",
        "En el Machine Learning a veces es necesario saber que tipo de dato es una variable o cuando cambiar ese tipo de dato."
      ]
    },
    {
      "cell_type": "code",
      "metadata": {
        "id": "6lGIFMX2lJYQ"
      },
      "source": [
        "# El tipo de una variable es definido cuando se asigna un valor a esta variable\n",
        "# Utiliza la función type() para saber el tipo de dato de una variable\n",
        "x = 439\n",
        "print(type(x))"
      ],
      "execution_count": null,
      "outputs": []
    },
    {
      "cell_type": "markdown",
      "metadata": {
        "id": "kAqSQorippyZ"
      },
      "source": [
        "# **Actividad 11**\n",
        "1. Agrega un comentario anotando tu nombre y el número de la actividad\n",
        "2. Asigna a una variable el valor de 10.23\n",
        "3. Asigna a una variable el valor de \"John Deere\"\n",
        "4. Asigna a una variable el valor de 897\n",
        "5. Imprime el tipo de dato de cada una de las variables"
      ]
    },
    {
      "cell_type": "code",
      "metadata": {
        "id": "VAQoMueqpDHb"
      },
      "source": [
        "#TODO "
      ],
      "execution_count": null,
      "outputs": []
    },
    {
      "cell_type": "markdown",
      "metadata": {
        "id": "Nrn-csyLp_pN"
      },
      "source": [
        "**Conversión de tipos de dato**\n",
        "Convertir el tipo de dato de una variable a otro tipo de dato.\n"
      ]
    },
    {
      "cell_type": "code",
      "metadata": {
        "id": "rExT2-ubqgWB"
      },
      "source": [
        "# Ejemplo: se convierte una variable de tipo Float a una variable de tipo Int\n",
        "\n",
        "# Asignación de la variable de tipo Float\n",
        "variable2 = 3/4\n",
        "print(variable2)\n",
        "\n",
        "# Convierte el tipo de valor a Integer\n",
        "variable3 = int(variable2)\n",
        "print(variable3)"
      ],
      "execution_count": null,
      "outputs": []
    },
    {
      "cell_type": "markdown",
      "metadata": {
        "id": "8JWGQK4EvxQ5"
      },
      "source": [
        "Cuando el tipo de dato es cambiado, la variable ahora interpreta que es ese tipo de dato."
      ]
    },
    {
      "cell_type": "code",
      "metadata": {
        "id": "CxMZOqmzteKm"
      },
      "source": [
        "# Convierte un String a un Integer\n",
        "str_variable = \"30\"\n",
        "int_variable = int(str_variable)\n",
        "print(\"string = \" + str_variable)\n",
        "print(\"integer = \", int_variable)"
      ],
      "execution_count": null,
      "outputs": []
    },
    {
      "cell_type": "code",
      "metadata": {
        "id": "mUu-ev2Otgy_"
      },
      "source": [
        "sum_of_strings = str_variable + str_variable\n",
        "print(\"sum of strings = \" + sum_of_strings)"
      ],
      "execution_count": null,
      "outputs": []
    },
    {
      "cell_type": "code",
      "metadata": {
        "id": "axyx7Bs9tsYO"
      },
      "source": [
        "sum_of_integers = int_variable + int_variable\n",
        "print(\"sum of integers = \", sum_of_integers)"
      ],
      "execution_count": null,
      "outputs": []
    },
    {
      "cell_type": "markdown",
      "metadata": {
        "id": "pIytfiXiyw1S"
      },
      "source": [
        "# Actividad #12\n",
        "1. Agrega un comentario anotando tu nombre y el número de la actividad\n",
        "2. Crea dos variables de tipo float\n",
        "3. Imprime la suma de las variables de tipo float\n",
        "4. Convierte las variables a tipo String\n",
        "5. Imprime la suma de las variables de tipo string"
      ]
    },
    {
      "cell_type": "code",
      "metadata": {
        "id": "2NKXSJ4RysX0"
      },
      "source": [
        "# Crea variables de tipo flotante e imprime la suma\n",
        "# Convierte las variables de tipo float a tipo string y vuelve a imprimir la suma\n",
        "#TODO"
      ],
      "execution_count": null,
      "outputs": []
    },
    {
      "cell_type": "markdown",
      "metadata": {
        "id": "q-tqgO44gdcU"
      },
      "source": [
        "# Ejercicio de depuración\n",
        "\n",
        "Depurar (o arreglar) el código de alguien más es una buena manera de aprender Python.\n",
        "El código de abajo está lleno de errores, la siguiente actividad es arreglar todos los errores que contiene el código."
      ]
    },
    {
      "cell_type": "code",
      "metadata": {
        "id": "QJkQjRLJghly"
      },
      "source": [
        "# Arregla los errores en el código\n",
        "# para que pueda correr sin problemas\n",
        "\n",
        "number_1 = 45;\n",
        "number_2 = 2;\n",
        "\n",
        "print(\"number_1 + number_2 = \" number_1 + number_2)\n",
        "print(\"number_1/number_2 = \" number_1/number_2)\n",
        "\n",
        "string_2 = George Washington\n",
        "string_1 = \"My name is \" + string_2\n",
        "\n",
        "string_3 = string-1 + string-2 \n",
        "print(string_3)\n",
        "\n",
        "string_4 = 3\n",
        "string_5 = 55\n",
        "\n",
        "Add two strings together\n",
        "sum == string_4 + string_5\n",
        "print \"sum = \", sum\n",
        "\n",
        "Subtract two strings\n",
        "diff = string_4 - string_5\n",
        "print(\"diff = \" diff)\n",
        "\n",
        "x = 34\n",
        "y = 35\n",
        "z = (x = y)\n",
        "print(x,\" ==\" y \" is \" z)\n",
        "\n",
        "xx = 9\n",
        "yy = 4\n",
        "zz = (xx < 10) and (xx > 8)\n",
        "print(xx,  < 10 and , xx, > 8 is , zz)\n",
        "\n",
        "str_variable = 50\"\n",
        "int_variable = 4\n",
        "\n",
        "print(\"string = \"  str_variable)\n",
        "print(\"integer = \" int_variable)\n",
        "\n",
        "print(str_variable + int_variable)\n"
      ],
      "execution_count": null,
      "outputs": []
    },
    {
      "cell_type": "markdown",
      "metadata": {
        "id": "09OPR3fXmqSF"
      },
      "source": [
        "¡Felicidades! Haz terminado tu primer módulo de Python, ¡sigue continuando con el siguiente módulo para que seas todo un experto!\n",
        "\n",
        "C2 Introducción al Machine Learning con Python\n",
        "<br><br>\n",
        "Instrucciones para acceder a los notebooks:<br>\n",
        "En una ventana de Chrome o Firefox, en la barra de búsqueda escribe: **Google Colab**<br>\n",
        "En el pop-up naranja, selecciona el apartado: **Github**\n",
        "\n",
        "*Si el pop-up naranja no aparece...*<br>\n",
        "En la barra de herramientas del Notebook, selecciona Archivo > Abrir Notebook; el pop-up naranja ya debería aparecer en pantalla.\n",
        "\n",
        "Selecciona el apartado de GITHUB<br>\n",
        "\n",
        "En la barra de búsqueda escribre: **cagBRT**. En los resultados aparecerá el repositorio de Github<br>\n",
        "\n",
        "En el menú drop-down selecciona: cagBRT/**Intro-To-Programming-with-Python**<br>\n",
        "\n",
        "Y luego selecciona: **C2 Intro to Machine Learning in Python**<br> \n",
        "\n"
      ]
    },
    {
      "cell_type": "markdown",
      "metadata": {
        "id": "iyn8Jdo9ncj6"
      },
      "source": []
    }
  ]
}