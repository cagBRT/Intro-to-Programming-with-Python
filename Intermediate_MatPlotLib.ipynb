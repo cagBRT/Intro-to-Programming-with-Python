{
  "nbformat": 4,
  "nbformat_minor": 0,
  "metadata": {
    "colab": {
      "private_outputs": true,
      "provenance": [],
      "authorship_tag": "ABX9TyO+eTz+rJvMg+oo4N/DG1im",
      "include_colab_link": true
    },
    "kernelspec": {
      "name": "python3",
      "display_name": "Python 3"
    },
    "language_info": {
      "name": "python"
    }
  },
  "cells": [
    {
      "cell_type": "markdown",
      "metadata": {
        "id": "view-in-github",
        "colab_type": "text"
      },
      "source": [
        "<a href=\"https://colab.research.google.com/github/cagBRT/Intro-to-Programming-with-Python/blob/master/Intermediate_MatPlotLib.ipynb\" target=\"_parent\"><img src=\"https://colab.research.google.com/assets/colab-badge.svg\" alt=\"Open In Colab\"/></a>"
      ]
    },
    {
      "cell_type": "code",
      "source": [
        "# Clone the entire repo.\n",
        "!git clone -l -s https://github.com/cagBRT/Intro-to-Programming-with-Python.git cloned-repo\n",
        "%cd cloned-repo"
      ],
      "metadata": {
        "id": "Ril2HqYweYgM"
      },
      "execution_count": null,
      "outputs": []
    },
    {
      "cell_type": "code",
      "source": [
        "# Importing libs\n",
        "import pandas as pd\n",
        "import numpy as np\n",
        "from sklearn.preprocessing import StandardScaler\n",
        "from sklearn.cluster import KMeans, AffinityPropagation\n",
        "import matplotlib.pyplot as plt\n",
        "import seaborn as sns\n",
        "%matplotlib inline\n",
        "import warnings\n",
        "warnings.filterwarnings(\"ignore\")\n",
        "import plotly as py\n",
        "import plotly.graph_objs as go\n",
        "import os\n",
        "py.offline.init_notebook_mode(connected = True)\n",
        "#print(os.listdir(\"../input\"))\n",
        "import datetime as dt\n",
        "import missingno as msno\n",
        "plt.rcParams['figure.dpi'] = 140"
      ],
      "metadata": {
        "id": "yJRaB3WPdRVB"
      },
      "execution_count": null,
      "outputs": []
    },
    {
      "cell_type": "code",
      "source": [
        "df = pd.read_csv('/content/cloned-repo/data_files/netflix_titles.csv')\n",
        "df.head(3)"
      ],
      "metadata": {
        "id": "7Pe_RVMIdUS4"
      },
      "execution_count": null,
      "outputs": []
    },
    {
      "cell_type": "markdown",
      "source": [
        "5 columns have missing values, with Director missing 1/3 of the time"
      ],
      "metadata": {
        "id": "wWbCDKNFezAe"
      }
    },
    {
      "cell_type": "code",
      "source": [
        "for i in df.columns:\n",
        "    null_rate = df[i].isna().sum() / len(df) * 100\n",
        "    if null_rate > 0 :\n",
        "        print(\"{} null rate: {}%\".format(i,round(null_rate,2)))"
      ],
      "metadata": {
        "id": "17NTraETevG9"
      },
      "execution_count": null,
      "outputs": []
    },
    {
      "cell_type": "code",
      "source": [
        "# Replacments\n",
        "\n",
        "df['country'] = df['country'].fillna(df['country'].mode()[0])\n",
        "\n",
        "\n",
        "df['cast'].replace(np.nan, 'No Data',inplace  = True)\n",
        "df['director'].replace(np.nan, 'No Data',inplace  = True)\n",
        "\n",
        "# Drops\n",
        "\n",
        "df.dropna(inplace=True)\n",
        "\n",
        "# Drop Duplicates\n",
        "\n",
        "df.drop_duplicates(inplace= True)"
      ],
      "metadata": {
        "id": "5VzpakQgwA8v"
      },
      "execution_count": null,
      "outputs": []
    },
    {
      "cell_type": "code",
      "source": [
        "df.isnull().sum()"
      ],
      "metadata": {
        "id": "GnjkWRy_wDUn"
      },
      "execution_count": null,
      "outputs": []
    },
    {
      "cell_type": "code",
      "source": [
        "df.info()\n"
      ],
      "metadata": {
        "id": "c6WdB6kywFOu"
      },
      "execution_count": null,
      "outputs": []
    },
    {
      "cell_type": "code",
      "source": [
        "df[\"date_added\"] = pd.to_datetime(df['date_added'])\n",
        "\n",
        "df['month_added']=df['date_added'].dt.month\n",
        "df['month_name_added']=df['date_added'].dt.month_name()\n",
        "df['year_added'] = df['date_added'].dt.year\n",
        "\n",
        "df.head(3)"
      ],
      "metadata": {
        "id": "4wezgR0BwIHY"
      },
      "execution_count": null,
      "outputs": []
    },
    {
      "cell_type": "code",
      "source": [
        "# Palette\n",
        "sns.palplot(['#221f1f', '#b20710', '#e50914','#f5f5f1'])\n",
        "\n",
        "plt.title(\"Netflix brand palette \",loc='left',fontfamily='serif',fontsize=15,y=1.2)\n",
        "plt.show()\n"
      ],
      "metadata": {
        "id": "RtpyyRHuwLsA"
      },
      "execution_count": null,
      "outputs": []
    },
    {
      "cell_type": "code",
      "source": [
        "# Timeline code from Subin An's awesome notebook\n",
        "# https://www.kaggle.com/subinium/awesome-visualization-with-titanic-dataset\n",
        "\n",
        "\n",
        "from datetime import datetime\n",
        "\n",
        "## these go on the numbers below\n",
        "tl_dates = [\n",
        "    \"1997\\nFounded\",\n",
        "    \"1998\\nMail Service\",\n",
        "    \"2003\\nGoes Public\",\n",
        "    \"2007\\nStreaming service\",\n",
        "    \"2016\\nGoes Global\",\n",
        "    \"2021\\nNetflix & Chill\"\n",
        "]\n",
        "\n",
        "tl_x = [1, 2, 4, 5.3, 8,9]\n",
        "\n",
        "## these go on the numbers\n",
        "tl_sub_x = [1.5,3,5,6.5,7]\n",
        "\n",
        "tl_sub_times = [\n",
        "    \"1998\",\"2000\",\"2006\",\"2010\",\"2012\"\n",
        "]\n",
        "\n",
        "tl_text = [\n",
        "    \"Netflix.com launched\",\n",
        "    \"Starts\\nPersonal\\nRecommendations\",\"Billionth DVD Delivery\",\"Canadian\\nLaunch\",\"UK Launch\\n(my birthplace)\"]\n",
        "\n",
        "\n",
        "\n",
        "# Set figure & Axes\n",
        "fig, ax = plt.subplots(figsize=(15, 4), constrained_layout=True)\n",
        "ax.set_ylim(-2, 1.75)\n",
        "ax.set_xlim(0, 10)\n",
        "\n",
        "\n",
        "# Timeline : line\n",
        "ax.axhline(0, xmin=0.1, xmax=0.9, c='#4a4a4a', zorder=1)\n",
        "\n",
        "# Timeline : Date Points\n",
        "ax.scatter(tl_x, np.zeros(len(tl_x)), s=120, c='#4a4a4a', zorder=2)\n",
        "ax.scatter(tl_x, np.zeros(len(tl_x)), s=30, c='#fafafa', zorder=3)\n",
        "# Timeline : Time Points\n",
        "ax.scatter(tl_sub_x, np.zeros(len(tl_sub_x)), s=50, c='#4a4a4a',zorder=4)\n",
        "\n",
        "# Date Text\n",
        "for x, date in zip(tl_x, tl_dates):\n",
        "    ax.text(x, -0.55, date, ha='center',\n",
        "            fontfamily='serif', fontweight='bold',\n",
        "            color='#4a4a4a',fontsize=12)\n",
        "\n",
        "\n",
        "# Stemplot : vertical line\n",
        "levels = np.zeros(len(tl_sub_x))\n",
        "levels[::2] = 0.3\n",
        "levels[1::2] = -0.3\n",
        "markerline, stemline, baseline = ax.stem(tl_sub_x, levels, use_line_collection=True)\n",
        "plt.setp(baseline, zorder=0)\n",
        "plt.setp(markerline, marker=',', color='#4a4a4a')\n",
        "plt.setp(stemline, color='#4a4a4a')\n",
        "\n",
        "# Text\n",
        "for idx, x, time, txt in zip(range(1, len(tl_sub_x)+1), tl_sub_x, tl_sub_times, tl_text):\n",
        "    ax.text(x, 1.3*(idx%2)-0.5, time, ha='center',\n",
        "            fontfamily='serif', fontweight='bold',\n",
        "            color='#4a4a4a' if idx!=len(tl_sub_x) else '#b20710', fontsize=11)\n",
        "\n",
        "    ax.text(x, 1.3*(idx%2)-0.6, txt, va='top', ha='center',\n",
        "        fontfamily='serif',color='#4a4a4a' if idx!=len(tl_sub_x) else '#b20710')\n",
        "\n",
        "\n",
        "# Spine\n",
        "for spine in [\"left\", \"top\", \"right\", \"bottom\"]:\n",
        "    ax.spines[spine].set_visible(False)\n",
        "\n",
        "# Ticks\n",
        "ax.set_xticks([])\n",
        "ax.set_yticks([])\n",
        "\n",
        "# Title\n",
        "ax.set_title(\"Netflix through the years\", fontweight=\"bold\", fontfamily='serif', fontsize=16, color='#4a4a4a')\n",
        "ax.text(2.4,1.57,\"From DVD rentals to a global audience of over 150m people - is it time for Netflix to Chill?\", fontfamily='serif', fontsize=12, color='#4a4a4a')\n",
        "\n",
        "plt.show()\n"
      ],
      "metadata": {
        "id": "UfcbYfZlwLt3"
      },
      "execution_count": null,
      "outputs": []
    },
    {
      "cell_type": "code",
      "source": [
        "# For viz: Ratio of Movies & TV shows\n",
        "\n",
        "x=df.groupby(['type'])['type'].count()\n",
        "y=len(df)\n",
        "r=((x/y)).round(2)\n",
        "\n",
        "mf_ratio = pd.DataFrame(r).T"
      ],
      "metadata": {
        "id": "DnUvZOGDwvec"
      },
      "execution_count": null,
      "outputs": []
    },
    {
      "cell_type": "code",
      "source": [
        "fig, ax = plt.subplots(1,1,figsize=(6.5, 2.5))\n",
        "\n",
        "ax.barh(mf_ratio.index, mf_ratio['Movie'],\n",
        "        color='#b20710', alpha=0.9, label='Male')\n",
        "ax.barh(mf_ratio.index, mf_ratio['TV Show'], left=mf_ratio['Movie'],\n",
        "        color='#221f1f', alpha=0.9, label='Female')\n",
        "\n",
        "ax.set_xlim(0, 1)\n",
        "ax.set_xticks([])\n",
        "ax.set_yticks([])\n",
        "#ax.set_yticklabels(mf_ratio.index, fontfamily='serif', fontsize=11)\n",
        "\n",
        "\n",
        "# movie percentage\n",
        "for i in mf_ratio.index:\n",
        "    ax.annotate(f\"{int(mf_ratio['Movie'][i]*100)}%\",\n",
        "                   xy=(mf_ratio['Movie'][i]/2, i),\n",
        "                   va = 'center', ha='center',fontsize=40, fontweight='light', fontfamily='serif',\n",
        "                   color='white')\n",
        "    ax.annotate(\"Movie\",\n",
        "                   xy=(mf_ratio['Movie'][i]/2, -0.25),\n",
        "                   va = 'center', ha='center',fontsize=15, fontweight='light', fontfamily='serif',\n",
        "                   color='white')\n",
        "\n",
        "\n",
        "for i in mf_ratio.index:\n",
        "    ax.annotate(f\"{int(mf_ratio['TV Show'][i]*100)}%\",\n",
        "                   xy=(mf_ratio['Movie'][i]+mf_ratio['TV Show'][i]/2, i),\n",
        "                   va = 'center', ha='center',fontsize=40, fontweight='light', fontfamily='serif',\n",
        "                   color='white')\n",
        "    ax.annotate(\"TV Show\",\n",
        "                   xy=(mf_ratio['Movie'][i]+mf_ratio['TV Show'][i]/2, -0.25),\n",
        "                   va = 'center', ha='center',fontsize=15, fontweight='light', fontfamily='serif',\n",
        "                   color='white')\n",
        "\n",
        "# Title & Subtitle\n",
        "fig.text(0.125,1.03,'Movie & TV Show distribution', fontfamily='serif',fontsize=15, fontweight='bold')\n",
        "fig.text(0.125,0.92,'We see vastly more movies than TV shows on Netflix.',fontfamily='serif',fontsize=12)\n",
        "\n",
        "for s in ['top', 'left', 'right', 'bottom']:\n",
        "    ax.spines[s].set_visible(False)\n",
        "\n",
        "\n",
        "\n",
        "#ax.legend(loc='lower center', ncol=3, bbox_to_anchor=(0.5, -0.06))\n",
        "\n",
        "# Removing legend due to labelled plot\n",
        "ax.legend().set_visible(False)\n",
        "plt.show()"
      ],
      "metadata": {
        "id": "wG9q9vpPw8VJ"
      },
      "execution_count": null,
      "outputs": []
    },
    {
      "cell_type": "code",
      "source": [
        "# Quick feature engineering\n",
        "\n",
        "# Helper column for various plots\n",
        "df['count'] = 1\n",
        "\n",
        "# Many productions have several countries listed - this will skew our results , we'll grab the first one mentioned\n",
        "\n",
        "# Lets retrieve just the first country\n",
        "df['first_country'] = df['country'].apply(lambda x: x.split(\",\")[0])\n",
        "df['first_country'].head()\n",
        "\n",
        "# Rating ages from this notebook: https://www.kaggle.com/andreshg/eda-beginner-to-expert-plotly (thank you!)\n",
        "\n",
        "ratings_ages = {\n",
        "    'TV-PG': 'Older Kids',\n",
        "    'TV-MA': 'Adults',\n",
        "    'TV-Y7-FV': 'Older Kids',\n",
        "    'TV-Y7': 'Older Kids',\n",
        "    'TV-14': 'Teens',\n",
        "    'R': 'Adults',\n",
        "    'TV-Y': 'Kids',\n",
        "    'NR': 'Adults',\n",
        "       'PG-13': 'Teens',\n",
        "    'TV-G': 'Kids',\n",
        "    'PG': 'Older Kids',\n",
        "    'G': 'Kids',\n",
        "    'UR': 'Adults',\n",
        "    'NC-17': 'Adults'\n",
        "}\n",
        "\n",
        "df['target_ages'] = df['rating'].replace(ratings_ages)\n",
        "df['target_ages'].unique()\n",
        "\n",
        "# Genre\n",
        "\n",
        "df['genre'] = df['listed_in'].apply(lambda x :  x.replace(' ,',',').replace(', ',',').split(','))\n",
        "\n",
        "# Reducing name length\n",
        "\n",
        "df['first_country'].replace('United States', 'USA', inplace=True)\n",
        "df['first_country'].replace('United Kingdom', 'UK',inplace=True)\n",
        "df['first_country'].replace('South Korea', 'S. Korea',inplace=True)"
      ],
      "metadata": {
        "id": "4xmGH867xHFf"
      },
      "execution_count": null,
      "outputs": []
    },
    {
      "cell_type": "code",
      "source": [
        "data = df.groupby('first_country')['count'].sum().sort_values(ascending=False)[:10]\n",
        "\n",
        "# Plot\n",
        "\n",
        "color_map = ['#f5f5f1' for _ in range(10)]\n",
        "color_map[0] = color_map[1] = color_map[2] =  '#b20710' # color highlight\n",
        "\n",
        "fig, ax = plt.subplots(1,1, figsize=(12, 6))\n",
        "ax.bar(data.index, data, width=0.5,\n",
        "       edgecolor='darkgray',\n",
        "       linewidth=0.6,color=color_map)\n",
        "\n",
        "#annotations\n",
        "for i in data.index:\n",
        "    ax.annotate(f\"{data[i]}\",\n",
        "                   xy=(i, data[i] + 150), #i like to change this to roughly 5% of the highest cat\n",
        "                   va = 'center', ha='center',fontweight='light', fontfamily='serif')\n",
        "# Remove border from plot\n",
        "\n",
        "for s in ['top', 'left', 'right']:\n",
        "    ax.spines[s].set_visible(False)\n",
        "\n",
        "# Tick labels\n",
        "\n",
        "ax.set_xticklabels(data.index, fontfamily='serif', rotation=0)\n",
        "\n",
        "# Title and sub-title\n",
        "\n",
        "fig.text(0.09, 1, 'Top 10 countries on Netflix', fontsize=15, fontweight='bold', fontfamily='serif')\n",
        "fig.text(0.09, 0.95, 'The three most frequent countries have been highlighted.', fontsize=12, fontweight='light', fontfamily='serif')\n",
        "\n",
        "fig.text(1.1, 1.01, 'Insight', fontsize=15, fontweight='bold', fontfamily='serif')\n",
        "\n",
        "fig.text(1.1, 0.67, '''\n",
        "The most prolific producers of\n",
        "content for Netflix are, primarily,\n",
        "the USA, with India and the UK\n",
        "a significant distance behind.\n",
        "\n",
        "It makes sense that the USA produces\n",
        "the most content as, afterall,\n",
        "Netflix is a US company.\n",
        "'''\n",
        "         , fontsize=12, fontweight='light', fontfamily='serif')\n",
        "\n",
        "ax.grid(axis='y', linestyle='-', alpha=0.4)\n",
        "\n",
        "grid_y_ticks = np.arange(0, 4000, 500) # y ticks, min, max, then step\n",
        "ax.set_yticks(grid_y_ticks)\n",
        "ax.set_axisbelow(True)\n",
        "\n",
        "#Axis labels\n",
        "\n",
        "#plt.xlabel(\"Country\", fontsize=12, fontweight='light', fontfamily='serif',loc='left',y=-1.5)\n",
        "#plt.ylabel(\"Count\", fontsize=12, fontweight='light', fontfamily='serif')\n",
        " #plt.legend(loc='upper right')\n",
        "\n",
        "# thicken the bottom line if you want to\n",
        "plt.axhline(y = 0, color = 'black', linewidth = 1.3, alpha = .7)\n",
        "\n",
        "ax.tick_params(axis='both', which='major', labelsize=12)\n",
        "\n",
        "\n",
        "import matplotlib.lines as lines\n",
        "l1 = lines.Line2D([1, 1], [0, 1], transform=fig.transFigure, figure=fig,color='black',lw=0.2)\n",
        "fig.lines.extend([l1])\n",
        "\n",
        "ax.tick_params(axis=u'both', which=u'both',length=0)\n",
        "\n",
        "plt.show()"
      ],
      "metadata": {
        "id": "OfVW1hORxN-9"
      },
      "execution_count": null,
      "outputs": []
    },
    {
      "cell_type": "markdown",
      "source": [
        "As predicted, the USA dominates.\n",
        "\n",
        "The UK is a top contender too, but still some way behind India.\n",
        "\n",
        "How does content by country vary?"
      ],
      "metadata": {
        "id": "EWUP9xQ1xaVq"
      }
    },
    {
      "cell_type": "code",
      "source": [],
      "metadata": {
        "id": "ZG9ExAEaxceA"
      },
      "execution_count": null,
      "outputs": []
    },
    {
      "cell_type": "code",
      "source": [
        "country_order = df['first_country'].value_counts()[:11].index\n",
        "data_q2q3 = df[['type', 'first_country']].groupby('first_country')['type'].value_counts().unstack().loc[country_order]\n",
        "data_q2q3['sum'] = data_q2q3.sum(axis=1)\n",
        "data_q2q3_ratio = (data_q2q3.T / data_q2q3['sum']).T[['Movie', 'TV Show']].sort_values(by='Movie',ascending=False)[::-1]\n",
        "\n",
        "fig, ax = plt.subplots(1,1,figsize=(15, 8),)\n",
        "\n",
        "ax.barh(data_q2q3_ratio.index, data_q2q3_ratio['Movie'],\n",
        "        color='#b20710', alpha=0.8, label='Movie')\n",
        "ax.barh(data_q2q3_ratio.index, data_q2q3_ratio['TV Show'], left=data_q2q3_ratio['Movie'],\n",
        "        color='#221f1f', alpha=0.8, label='TV Show')\n",
        "\n",
        "\n",
        "ax.set_xlim(0, 1)\n",
        "ax.set_xticks([])\n",
        "ax.set_yticklabels(data_q2q3_ratio.index, fontfamily='serif', fontsize=11)\n",
        "\n",
        "# male percentage\n",
        "for i in data_q2q3_ratio.index:\n",
        "    ax.annotate(f\"{data_q2q3_ratio['Movie'][i]*100:.3}%\",\n",
        "                   xy=(data_q2q3_ratio['Movie'][i]/2, i),\n",
        "                   va = 'center', ha='center',fontsize=12, fontweight='light', fontfamily='serif',\n",
        "                   color='white')\n",
        "\n",
        "for i in data_q2q3_ratio.index:\n",
        "    ax.annotate(f\"{data_q2q3_ratio['TV Show'][i]*100:.3}%\",\n",
        "                   xy=(data_q2q3_ratio['Movie'][i]+data_q2q3_ratio['TV Show'][i]/2, i),\n",
        "                   va = 'center', ha='center',fontsize=12, fontweight='light', fontfamily='serif',\n",
        "                   color='white')\n",
        "\n",
        "\n",
        "fig.text(0.13, 0.93, 'Top 10 countries Movie & TV Show split', fontsize=15, fontweight='bold', fontfamily='serif')\n",
        "fig.text(0.131, 0.89, 'Percent Stacked Bar Chart', fontsize=12,fontfamily='serif')\n",
        "\n",
        "for s in ['top', 'left', 'right', 'bottom']:\n",
        "    ax.spines[s].set_visible(False)\n",
        "\n",
        "#ax.legend(loc='lower center', ncol=3, bbox_to_anchor=(0.5, -0.06))\n",
        "fig.text(0.75,0.9,\"Movie\", fontweight=\"bold\", fontfamily='serif', fontsize=15, color='#b20710')\n",
        "fig.text(0.81,0.9,\"|\", fontweight=\"bold\", fontfamily='serif', fontsize=15, color='black')\n",
        "fig.text(0.82,0.9,\"TV Show\", fontweight=\"bold\", fontfamily='serif', fontsize=15, color='#221f1f')\n",
        "\n",
        "\n",
        "fig.text(1.1, 0.93, 'Insight', fontsize=15, fontweight='bold', fontfamily='serif')\n",
        "\n",
        "fig.text(1.1, 0.44, '''\n",
        "Interestingly, Netflix in India\n",
        "is made up nearly entirely of Movies.\n",
        "\n",
        "Bollywood is big business, and perhaps\n",
        "the main focus of this industry is Movies\n",
        "and not TV Shows.\n",
        "\n",
        "South Korean Netflix on the other hand is\n",
        "almost entirely TV Shows.\n",
        "\n",
        "The underlying resons for the difference\n",
        "in content must be due to market research\n",
        "conducted by Netflix.\n",
        "'''\n",
        "         , fontsize=12, fontweight='light', fontfamily='serif')\n",
        "\n",
        "\n",
        "\n",
        "import matplotlib.lines as lines\n",
        "l1 = lines.Line2D([1, 1], [0, 1], transform=fig.transFigure, figure=fig,color='black',lw=0.2)\n",
        "fig.lines.extend([l1])\n",
        "\n",
        "ax.tick_params(axis='both', which='major', labelsize=12)\n",
        "ax.tick_params(axis=u'both', which=u'both',length=0)\n",
        "\n",
        "plt.show()"
      ],
      "metadata": {
        "id": "55uf8CZuxcfY"
      },
      "execution_count": null,
      "outputs": []
    },
    {
      "cell_type": "markdown",
      "source": [
        "As I've noted in the insights on the plot, it is really interesting to see how the split of TV Shows and Movies varies by country.\n",
        "\n",
        "South Korea is dominated by TV Shows - why is this? I am a huge fan of South Korean cinema so I know they have a great movie selection.\n",
        "\n",
        "Equally, India is dominated by Movies. I think this might be due to Bollywood - comment below if you have any other ideas!"
      ],
      "metadata": {
        "id": "DD78nY1bxuq4"
      }
    },
    {
      "cell_type": "markdown",
      "source": [
        "Ratings\n",
        "Let's briefly check out how ratings are distributed"
      ],
      "metadata": {
        "id": "71VeQ20fxzIC"
      }
    },
    {
      "cell_type": "code",
      "source": [
        "order = pd.DataFrame(df.groupby('rating')['count'].sum().sort_values(ascending=False).reset_index())\n",
        "rating_order = list(order['rating'])"
      ],
      "metadata": {
        "id": "KFegOQqZxvS7"
      },
      "execution_count": null,
      "outputs": []
    },
    {
      "cell_type": "code",
      "source": [
        "mf = df.groupby('type')['rating'].value_counts().unstack().sort_index().fillna(0).astype(int)[rating_order]\n",
        "\n",
        "movie = mf.loc['Movie']\n",
        "tv = - mf.loc['TV Show']\n",
        "\n",
        "\n",
        "fig, ax = plt.subplots(1,1, figsize=(12, 6))\n",
        "ax.bar(movie.index, movie, width=0.5, color='#b20710', alpha=0.8, label='Movie')\n",
        "ax.bar(tv.index, tv, width=0.5, color='#221f1f', alpha=0.8, label='TV Show')\n",
        "#ax.set_ylim(-35, 50)\n",
        "\n",
        "# Annotations\n",
        "for i in tv.index:\n",
        "    ax.annotate(f\"{-tv[i]}\",\n",
        "                   xy=(i, tv[i] - 60),\n",
        "                   va = 'center', ha='center',fontweight='light', fontfamily='serif',\n",
        "                   color='#4a4a4a')\n",
        "for i in movie.index:\n",
        "    ax.annotate(f\"{movie[i]}\",\n",
        "                   xy=(i, movie[i] + 60),\n",
        "                   va = 'center', ha='center',fontweight='light', fontfamily='serif',\n",
        "                   color='#4a4a4a')\n",
        "\n",
        "\n",
        "\n",
        "for s in ['top', 'left', 'right', 'bottom']:\n",
        "    ax.spines[s].set_visible(False)\n",
        "\n",
        "ax.set_xticklabels(mf.columns, fontfamily='serif')\n",
        "ax.set_yticks([])\n",
        "\n",
        "ax.legend().set_visible(False)\n",
        "fig.text(0.16, 1, 'Rating distribution by Film & TV Show', fontsize=15, fontweight='bold', fontfamily='serif')\n",
        "fig.text(0.16, 0.89,\n",
        "'''We observe that some ratings are only applicable to Movies.\n",
        "The most common for both Movies & TV Shows are TV-MA and TV-14.\n",
        "'''\n",
        "\n",
        ", fontsize=12, fontweight='light', fontfamily='serif')\n",
        "\n",
        "\n",
        "fig.text(0.755,0.924,\"Movie\", fontweight=\"bold\", fontfamily='serif', fontsize=15, color='#b20710')\n",
        "fig.text(0.815,0.924,\"|\", fontweight=\"bold\", fontfamily='serif', fontsize=15, color='black')\n",
        "fig.text(0.825,0.924,\"TV Show\", fontweight=\"bold\", fontfamily='serif', fontsize=15, color='#221f1f')\n",
        "\n",
        "plt.show()\n"
      ],
      "metadata": {
        "id": "N4A6doXMx4pf"
      },
      "execution_count": null,
      "outputs": []
    },
    {
      "cell_type": "markdown",
      "source": [
        "How has content been added over the years?\n",
        "As we saw in the timeline at the start of this analysis, Netflix went global in 2016 - and it is extremely noticeable in this plot.\n",
        "\n",
        "The increase is Movie content is remarkable."
      ],
      "metadata": {
        "id": "Bltt4pMPyA2B"
      }
    },
    {
      "cell_type": "code",
      "source": [
        "fig, ax = plt.subplots(1, 1, figsize=(12, 6))\n",
        "color = [\"#b20710\", \"#221f1f\"]\n",
        "\n",
        "for i, mtv in enumerate(df['type'].value_counts().index):\n",
        "    mtv_rel = df[df['type']==mtv]['year_added'].value_counts().sort_index()\n",
        "    ax.plot(mtv_rel.index, mtv_rel, color=color[i], label=mtv)\n",
        "    ax.fill_between(mtv_rel.index, 0, mtv_rel, color=color[i], alpha=0.9)\n",
        "\n",
        "ax.yaxis.tick_right()\n",
        "\n",
        "ax.axhline(y = 0, color = 'black', linewidth = 1.3, alpha = .7)\n",
        "\n",
        "#ax.set_ylim(0, 50)\n",
        "#ax.legend(loc='upper left')\n",
        "for s in ['top', 'right','bottom','left']:\n",
        "    ax.spines[s].set_visible(False)\n",
        "\n",
        "ax.grid(False)\n",
        "\n",
        "ax.set_xlim(2008,2020)\n",
        "plt.xticks(np.arange(2008, 2021, 1))\n",
        "\n",
        "fig.text(0.13, 0.85, 'Movies & TV Shows added over time', fontsize=15, fontweight='bold', fontfamily='serif')\n",
        "fig.text(0.13, 0.59,\n",
        "'''We see a slow start for Netflix over several years.\n",
        "Things begin to pick up in 2015 and then there is a\n",
        "rapid increase from 2016.\n",
        "\n",
        "It looks like content additions have slowed down in 2020,\n",
        "likely due to the COVID-19 pandemic.\n",
        "'''\n",
        "\n",
        ", fontsize=12, fontweight='light', fontfamily='serif')\n",
        "\n",
        "\n",
        "fig.text(0.13,0.2,\"Movie\", fontweight=\"bold\", fontfamily='serif', fontsize=15, color='#b20710')\n",
        "fig.text(0.19,0.2,\"|\", fontweight=\"bold\", fontfamily='serif', fontsize=15, color='black')\n",
        "fig.text(0.2,0.2,\"TV Show\", fontweight=\"bold\", fontfamily='serif', fontsize=15, color='#221f1f')\n",
        "\n",
        "ax.tick_params(axis=u'both', which=u'both',length=0)\n",
        "\n",
        "plt.show()"
      ],
      "metadata": {
        "id": "fFNWQ84FyF8m"
      },
      "execution_count": null,
      "outputs": []
    },
    {
      "cell_type": "markdown",
      "source": [
        "We can view the same plot, but as a cumulative total..."
      ],
      "metadata": {
        "id": "uxe10-2dyMpJ"
      }
    },
    {
      "cell_type": "code",
      "source": [
        "data_sub = df.groupby('type')['year_added'].value_counts().unstack().fillna(0).loc[['TV Show','Movie']].cumsum(axis=0).T\n",
        "\n",
        "fig, ax = plt.subplots(1, 1, figsize=(12, 6))\n",
        "color = [\"#b20710\", \"#221f1f\"]\n",
        "\n",
        "for i, mtv in enumerate(df['type'].value_counts().index):\n",
        "    mtv_rel = data_sub[mtv]\n",
        "    ax.fill_between(mtv_rel.index, 0, mtv_rel, color=color[i], label=mtv,alpha=0.9)\n",
        "\n",
        "\n",
        "\n",
        "ax.yaxis.tick_right()\n",
        "\n",
        "ax.axhline(y = 0, color = 'black', linewidth = 1.3, alpha = .7)\n",
        "\n",
        "#ax.set_ylim(0, 50)\n",
        "#ax.legend(loc='upper left')\n",
        "for s in ['top', 'right','bottom','left']:\n",
        "    ax.spines[s].set_visible(False)\n",
        "\n",
        "ax.grid(False)\n",
        "ax.set_xlim(2008,2020)\n",
        "plt.xticks(np.arange(2008, 2021, 1))\n",
        "\n",
        "fig.text(0.13, 0.85, 'Movies & TV Shows added over time [Cumulative Total]', fontsize=15, fontweight='bold', fontfamily='serif')\n",
        "fig.text(0.13, 0.58,\n",
        "'''Netflix peak global content amount was in 2019.\n",
        "\n",
        "It appears that Netflix has focused more attention\n",
        "on increasing Movie content that TV Shows.\n",
        "Movies have increased much more dramatically\n",
        "than TV shows.\n",
        "'''\n",
        "\n",
        ", fontsize=12, fontweight='light', fontfamily='serif')\n",
        "\n",
        "\n",
        "fig.text(0.13,0.2,\"Movie\", fontweight=\"bold\", fontfamily='serif', fontsize=15, color='#b20710')\n",
        "fig.text(0.19,0.2,\"|\", fontweight=\"bold\", fontfamily='serif', fontsize=15, color='black')\n",
        "fig.text(0.2,0.2,\"TV Show\", fontweight=\"bold\", fontfamily='serif', fontsize=15, color='#221f1f')\n",
        "\n",
        "ax.tick_params(axis=u'both', which=u'both',length=0)\n",
        "\n",
        "\n",
        "plt.show()"
      ],
      "metadata": {
        "id": "n7wYWkHnyNOv"
      },
      "execution_count": null,
      "outputs": []
    },
    {
      "cell_type": "markdown",
      "source": [
        "Month-by-Month\n",
        "We've seen how content has increased over the years, but are there certain months that, on average, tend to enjoy more content being added?\n",
        "\n",
        "I'll show this in a couple of ways - a cumulative year view, and also as a radial plot..."
      ],
      "metadata": {
        "id": "lTGFapETyWcc"
      }
    },
    {
      "cell_type": "code",
      "source": [
        "month_order = ['January',\n",
        " 'February',\n",
        " 'March',\n",
        " 'April',\n",
        " 'May',\n",
        " 'June',\n",
        " 'July',\n",
        " 'August',\n",
        " 'September',\n",
        " 'October',\n",
        " 'November',\n",
        " 'December']\n",
        "\n",
        "df['month_name_added'] = pd.Categorical(df['month_name_added'], categories=month_order, ordered=True)"
      ],
      "metadata": {
        "id": "_6wCy760yW8q"
      },
      "execution_count": null,
      "outputs": []
    },
    {
      "cell_type": "code",
      "source": [
        "data_sub = df.groupby('type')['month_name_added'].value_counts().unstack().fillna(0).loc[['TV Show','Movie']].cumsum(axis=0).T\n",
        "\n",
        "fig, ax = plt.subplots(1, 1, figsize=(12, 6))\n",
        "color = [\"#b20710\", \"#221f1f\"]\n",
        "\n",
        "for i, mtv in enumerate(df['type'].value_counts().index):\n",
        "    mtv_rel = data_sub[mtv]\n",
        "    ax.fill_between(mtv_rel.index, 0, mtv_rel, color=color[i], label=mtv,alpha=0.9)\n",
        "\n",
        "\n",
        "\n",
        "ax.yaxis.tick_right()\n",
        "\n",
        "ax.axhline(y = 0, color = 'black', linewidth = 1.3, alpha = .4)\n",
        "\n",
        "#ax.set_ylim(0, 50)\n",
        "#ax.legend(loc='upper left')\n",
        "for s in ['top', 'right','bottom','left']:\n",
        "    ax.spines[s].set_visible(False)\n",
        "\n",
        "ax.grid(False)\n",
        "ax.set_xticklabels(data_sub.index, fontfamily='serif', rotation=0)\n",
        "ax.margins(x=0) # remove white spaces next to margins\n",
        "\n",
        "#ax.set_xlim(2008,2020)\n",
        "#plt.xticks(np.arange(2008, 2021, 1))\n",
        "\n",
        "fig.text(0.13, 0.95, 'Content added by month [Cumulative Total]', fontsize=15, fontweight='bold', fontfamily='serif')\n",
        "fig.text(0.13, 0.905,\n",
        "\"The end & beginnings of each year seem to be Netflix's preference for adding content.\"\n",
        "\n",
        ", fontsize=12, fontweight='light', fontfamily='serif')\n",
        "\n",
        "\n",
        "\n",
        "fig.text(0.13,0.855,\"Movie\", fontweight=\"bold\", fontfamily='serif', fontsize=15, color='#b20710')\n",
        "fig.text(0.19,0.855,\"|\", fontweight=\"bold\", fontfamily='serif', fontsize=15, color='black')\n",
        "fig.text(0.2,0.855,\"TV Show\", fontweight=\"bold\", fontfamily='serif', fontsize=15, color='#221f1f')\n",
        "\n",
        "ax.tick_params(axis=u'both', which=u'both',length=0)\n",
        "\n",
        "plt.show()"
      ],
      "metadata": {
        "id": "qVZ8Bwx_ycmd"
      },
      "execution_count": null,
      "outputs": []
    },
    {
      "cell_type": "markdown",
      "source": [
        "What about a more interesting way to view how content is added across the year?\n",
        "Sometimes visualizations should be eye-catching & attention grabbing - I think this visual acheives that, even if it isn't the most precise.\n",
        "\n",
        "By highlighting certain months, the reader's eye is drawn exactly where we want it."
      ],
      "metadata": {
        "id": "n-WfOMHKyk7o"
      }
    },
    {
      "cell_type": "code",
      "source": [
        "data_sub2 = data_sub\n",
        "\n",
        "data_sub2['Value'] = data_sub2['Movie'] + data_sub2['TV Show']\n",
        "data_sub2 = data_sub2.reset_index()\n",
        "\n",
        "df_polar = data_sub2.sort_values(by='month_name_added',ascending=False)\n",
        "\n",
        "\n",
        "color_map = ['#221f1f' for _ in range(12)]\n",
        "color_map[0] = color_map[11] =  '#b20710' # color highlight\n",
        "\n",
        "\n",
        "# initialize the figure\n",
        "plt.figure(figsize=(8,8))\n",
        "ax = plt.subplot(111, polar=True)\n",
        "plt.axis('off')\n",
        "\n",
        "# Constants = parameters controling the plot layout:\n",
        "upperLimit = 30\n",
        "lowerLimit = 1\n",
        "labelPadding = 30\n",
        "# Compute max and min in the dataset\n",
        "max = df_polar['Value'].max()\n",
        "\n",
        "# Let's compute heights: they are a conversion of each item value in those new coordinates\n",
        "# In our example, 0 in the dataset will be converted to the lowerLimit (10)\n",
        "# The maximum will be converted to the upperLimit (100)\n",
        "slope = (max - lowerLimit) / max\n",
        "heights = slope * df_polar.Value + lowerLimit\n",
        "\n",
        "# Compute the width of each bar. In total we have 2*Pi = 360°\n",
        "width = 2*np.pi / len(df_polar.index)\n",
        "\n",
        "# Compute the angle each bar is centered on:\n",
        "indexes = list(range(1, len(df_polar.index)+1))\n",
        "angles = [element * width for element in indexes]\n",
        "angles\n",
        "\n",
        "# Draw bars\n",
        "bars = ax.bar(\n",
        "    x=angles,\n",
        "    height=heights,\n",
        "    width=width,\n",
        "    bottom=lowerLimit,\n",
        "    linewidth=2,\n",
        "    edgecolor=\"white\",\n",
        "    color=color_map,alpha=0.8\n",
        ")\n",
        "\n",
        "# Add labels\n",
        "for bar, angle, height, label in zip(bars,angles, heights, df_polar[\"month_name_added\"]):\n",
        "\n",
        "    # Labels are rotated. Rotation must be specified in degrees :(\n",
        "    rotation = np.rad2deg(angle)\n",
        "\n",
        "    # Flip some labels upside down\n",
        "    alignment = \"\"\n",
        "    if angle >= np.pi/2 and angle < 3*np.pi/2:\n",
        "        alignment = \"right\"\n",
        "        rotation = rotation + 180\n",
        "    else:\n",
        "      alignment = \"left\"\n",
        "\n",
        "    # Finally add the labels\n",
        "    ax.text(\n",
        "        x=angle,\n",
        "        y=lowerLimit + bar.get_height() + labelPadding,\n",
        "        s=label,\n",
        "        ha=alignment, fontsize=10,fontfamily='serif',\n",
        "        va='center',\n",
        "        rotation=rotation,\n",
        "        rotation_mode=\"anchor\")"
      ],
      "metadata": {
        "id": "UwI5XYhxyl_p"
      },
      "execution_count": null,
      "outputs": []
    },
    {
      "cell_type": "markdown",
      "source": [
        "Yes, December & January are definitely the best months for new content. Maybe Netflix knows that people have a lot of time off from work over this period and that it is a good time to reel people in?\n",
        "\n",
        "February is the worst - why might this be? Ideas welcomed!"
      ],
      "metadata": {
        "id": "CHY57GT_yyKC"
      }
    },
    {
      "cell_type": "markdown",
      "source": [
        "Movie Genres\n",
        "Let's now explore movie genres a little..."
      ],
      "metadata": {
        "id": "rhisfi55y11u"
      }
    },
    {
      "cell_type": "code",
      "source": [
        "# Genres\n",
        "from sklearn.preprocessing import MultiLabelBinarizer\n",
        "\n",
        "import matplotlib.colors\n",
        "\n",
        "\n",
        "# Custom colour map based on Netflix palette\n",
        "cmap = matplotlib.colors.LinearSegmentedColormap.from_list(\"\", ['#221f1f', '#b20710','#f5f5f1'])\n",
        "\n",
        "\n",
        "\n",
        "def genre_heatmap(df, title):\n",
        "    df['genre'] = df['listed_in'].apply(lambda x :  x.replace(' ,',',').replace(', ',',').split(','))\n",
        "    Types = []\n",
        "    for i in df['genre']: Types += i\n",
        "    Types = set(Types)\n",
        "    print(\"There are {} types in the Netflix {} Dataset\".format(len(Types),title))\n",
        "    test = df['genre']\n",
        "    mlb = MultiLabelBinarizer()\n",
        "    res = pd.DataFrame(mlb.fit_transform(test), columns=mlb.classes_, index=test.index)\n",
        "    corr = res.corr()\n",
        "    mask = np.zeros_like(corr, dtype=np.bool)\n",
        "    mask[np.triu_indices_from(mask)] = True\n",
        "    fig, ax = plt.subplots(figsize=(10, 7))\n",
        "    fig.text(.54,.88,'Genre correlation', fontfamily='serif',fontweight='bold',fontsize=15)\n",
        "    fig.text(.75,.665,\n",
        "            '''\n",
        "             It is interesting that Independant Movies\n",
        "             tend to be Dramas.\n",
        "\n",
        "             Another observation is that\n",
        "             Internatinal Movies are rarely\n",
        "             in the Children's genre.\n",
        "             ''', fontfamily='serif',fontsize=12,ha='right')\n",
        "    pl = sns.heatmap(corr, mask=mask, cmap=cmap, vmax=.3, vmin=-.3, center=0, square=True, linewidths=2.5)\n",
        "\n",
        "    plt.show()\n"
      ],
      "metadata": {
        "id": "SitTUkf4yyxo"
      },
      "execution_count": null,
      "outputs": []
    },
    {
      "cell_type": "code",
      "source": [
        "df_tv = df[df[\"type\"] == \"TV Show\"]\n",
        "df_movies = df[df[\"type\"] == \"Movie\"]\n",
        "\n",
        "\n",
        "genre_heatmap(df_movies, 'Movie')\n",
        "plt.show()"
      ],
      "metadata": {
        "id": "h2xRWCjqy1DW"
      },
      "execution_count": null,
      "outputs": []
    },
    {
      "cell_type": "markdown",
      "source": [
        "Target Ages\n",
        "Does Netflix uniformly target certain demographics? Or does this vary by country?"
      ],
      "metadata": {
        "id": "XXEqWhNKzLA1"
      }
    },
    {
      "cell_type": "code",
      "source": [
        "data = df.groupby('first_country')[['first_country','count']].sum().sort_values(by='count',ascending=False).reset_index()[:10]\n",
        "data = data['first_country']"
      ],
      "metadata": {
        "id": "Bm-5fUhczlcM"
      },
      "execution_count": null,
      "outputs": []
    },
    {
      "cell_type": "code",
      "source": [
        "df_heatmap = df.loc[df['first_country'].isin(data)]"
      ],
      "metadata": {
        "id": "hoTV2jJB80JO"
      },
      "execution_count": null,
      "outputs": []
    },
    {
      "cell_type": "code",
      "source": [
        "df_heatmap = pd.crosstab(df_heatmap['first_country'],df_heatmap['target_ages'],normalize = \"index\").T"
      ],
      "metadata": {
        "id": "Yx4of2Uq8lEQ"
      },
      "execution_count": null,
      "outputs": []
    },
    {
      "cell_type": "code",
      "source": [
        "fig, ax = plt.subplots(1, 1, figsize=(12, 12))\n",
        "\n",
        "country_order2 = ['USA', 'India', 'UK', 'Canada', 'Japan', 'France', 'S. Korea', 'Spain',\n",
        "       'Mexico', 'Turkey']\n",
        "\n",
        "age_order = ['Kids','Older Kids','Teens','Adults']\n",
        "\n",
        "sns.heatmap(df_heatmap.loc[age_order,country_order2],cmap=cmap,square=True, linewidth=2.5,cbar=False,\n",
        "            annot=True,fmt='1.0%',vmax=.6,vmin=0.05,ax=ax,annot_kws={\"fontsize\":12})\n",
        "\n",
        "ax.spines['top'].set_visible(True)\n",
        "\n",
        "\n",
        "fig.text(.99, .725, 'Target ages proportion of total content by country', fontweight='bold', fontfamily='serif', fontsize=15,ha='right')\n",
        "fig.text(0.99, 0.7, 'Here we see interesting differences between countries. Most shows in India are targeted to teens, for instance.',ha='right', fontsize=12,fontfamily='serif')\n",
        "\n",
        "ax.set_yticklabels(ax.get_yticklabels(), fontfamily='serif', rotation = 0, fontsize=11)\n",
        "\n",
        "\n",
        "ax.set_ylabel('')\n",
        "ax.set_xlabel('')\n",
        "ax.tick_params(axis=u'both', which=u'both',length=0)\n",
        "plt.tight_layout()\n",
        "plt.show()"
      ],
      "metadata": {
        "id": "vsUWxUcGzLPd"
      },
      "execution_count": null,
      "outputs": []
    },
    {
      "cell_type": "markdown",
      "source": [
        "Very interesting results.\n",
        "\n",
        "It is also interesting to note similarities between culturally similar countries - the US & UK are closey aligned with their Netflix target ages, yet vastly different to say, India or Japan!"
      ],
      "metadata": {
        "id": "lPYAERoT9Aro"
      }
    },
    {
      "cell_type": "markdown",
      "source": [
        "Let's have a quick look at the lag between when content is released and when it is added on Netflix\n",
        "Spain looks to have a lot of new content. Great for them!"
      ],
      "metadata": {
        "id": "QOyhCxK69DAo"
      }
    },
    {
      "cell_type": "code",
      "source": [
        "df_movies\n",
        "df_tv\n",
        "\n",
        "### Relevant groupings\n",
        "\n",
        "data = df_movies.groupby('first_country')[['first_country','count']].sum().sort_values(by='count',ascending=False).reset_index()[:10]\n",
        "data = data['first_country']\n",
        "df_loli = df_movies.loc[df_movies['first_country'].isin(data)]\n",
        "\n",
        "loli = df_loli.groupby('first_country')['release_year','year_added'].mean().round()\n",
        "\n",
        "\n",
        "# Reorder it following the values of the first value\n",
        "ordered_df = loli.sort_values(by='release_year')\n",
        "\n",
        "ordered_df_rev = loli.sort_values(by='release_year',ascending=False)\n",
        "\n",
        "my_range=range(1,len(loli.index)+1)\n",
        "\n",
        "\n",
        "fig, ax = plt.subplots(1, 1, figsize=(7, 5))\n",
        "\n",
        "fig.text(0.13, 0.9, 'How old are the movies? [Average]', fontsize=15, fontweight='bold', fontfamily='serif')\n",
        "plt.hlines(y=my_range, xmin=ordered_df['release_year'], xmax=ordered_df['year_added'], color='grey', alpha=0.4)\n",
        "plt.scatter(ordered_df['release_year'], my_range, color='#221f1f',s=100, alpha=0.9, label='Average release date')\n",
        "plt.scatter(ordered_df['year_added'], my_range, color='#b20710',s=100, alpha=0.9 , label='Average added date')\n",
        "#plt.legend()\n",
        "\n",
        "for s in ['top', 'left', 'right', 'bottom']:\n",
        "    ax.spines[s].set_visible(False)\n",
        "\n",
        "\n",
        "# Removes the tick marks but keeps the labels\n",
        "ax.tick_params(axis=u'both', which=u'both',length=0)\n",
        "# Move Y axis to the right side\n",
        "ax.yaxis.tick_right()\n",
        "\n",
        "plt.yticks(my_range, ordered_df.index)\n",
        "plt.yticks(fontname = \"serif\",fontsize=12)\n",
        "\n",
        "# Custome legend\n",
        "fig.text(0.19,0.175,\"Released\", fontweight=\"bold\", fontfamily='serif', fontsize=12, color='#221f1f')\n",
        "fig.text(0.76,0.175,\"Added\", fontweight=\"bold\", fontfamily='serif', fontsize=12, color='#b20710')\n",
        "fig.text(0.13, 0.46,\n",
        "'''The average gap between when\n",
        "content is released, and when it\n",
        "is then added on Netflix varies\n",
        "by country.\n",
        "\n",
        "In Spain, Netflix appears to be\n",
        "dominated by newer movies\n",
        "whereas Egypt & India have\n",
        "an older average movie.\n",
        "'''\n",
        "\n",
        ", fontsize=12, fontweight='light', fontfamily='serif')\n",
        "\n",
        "\n",
        "#plt.xlabel('Year')\n",
        "#plt.ylabel('Country')\n",
        "plt.show()"
      ],
      "metadata": {
        "id": "tRZKT67K9BHz"
      },
      "execution_count": null,
      "outputs": []
    },
    {
      "cell_type": "code",
      "source": [
        "data = df_tv.groupby('first_country')[['first_country','count']].sum().sort_values(by='count',ascending=False).reset_index()[:10]\n",
        "data = data['first_country']\n",
        "df_loli = df_tv.loc[df_tv['first_country'].isin(data)]\n",
        "\n",
        "loli = df_loli.groupby('first_country')['release_year','year_added'].mean().round()\n",
        "\n",
        "\n",
        "# Reorder it following the values of the first value:\n",
        "ordered_df = loli.sort_values(by='release_year')\n",
        "\n",
        "ordered_df_rev = loli.sort_values(by='release_year',ascending=False)\n",
        "\n",
        "my_range=range(1,len(loli.index)+1)\n",
        "\n",
        "\n",
        "fig, ax = plt.subplots(1, 1, figsize=(7, 5))\n",
        "\n",
        "fig.text(0.13, 0.9, 'How old are the TV shows? [Average]', fontsize=15, fontweight='bold', fontfamily='serif')\n",
        "plt.hlines(y=my_range, xmin=ordered_df['release_year'], xmax=ordered_df['year_added'], color='grey', alpha=0.4)\n",
        "plt.scatter(ordered_df['release_year'], my_range, color='#221f1f',s=100, alpha=0.9, label='Average release date')\n",
        "plt.scatter(ordered_df['year_added'], my_range, color='#b20710',s=100, alpha=0.9 , label='Average added date')\n",
        "#plt.legend()\n",
        "for s in ['top', 'left', 'right', 'bottom']:\n",
        "    ax.spines[s].set_visible(False)\n",
        "\n",
        "ax.yaxis.tick_right()\n",
        "plt.yticks(my_range, ordered_df.index)\n",
        "plt.yticks(fontname = \"serif\",fontsize=12)\n",
        "\n",
        "\n",
        "fig.text(0.19,0.175,\"Released\", fontweight=\"bold\", fontfamily='serif', fontsize=12, color='#221f1f')\n",
        "\n",
        "fig.text(0.47,0.175,\"Added\", fontweight=\"bold\", fontfamily='serif', fontsize=12, color='#b20710')\n",
        "\n",
        "fig.text(0.13, 0.42,\n",
        "'''The gap for TV shows seems\n",
        "more regular than for movies.\n",
        "\n",
        "This is likely due to subsequent\n",
        "series being released\n",
        "year-on-year.\n",
        "\n",
        "Spain seems to have\n",
        "the newest content\n",
        "overall.\n",
        "'''\n",
        "\n",
        ", fontsize=12, fontweight='light', fontfamily='serif')\n",
        "\n",
        "\n",
        "ax.tick_params(axis=u'both', which=u'both',length=0)\n",
        "#plt.xlabel('Value of the variables')\n",
        "#plt.ylabel('Group')\n",
        "plt.show()"
      ],
      "metadata": {
        "id": "mkUluP-39QEq"
      },
      "execution_count": null,
      "outputs": []
    },
    {
      "cell_type": "code",
      "source": [
        "us_ind = df[(df['first_country'] == 'USA') | (df['first_country'] == 'India' )]\n",
        "\n",
        "data_sub = df.groupby('first_country')['year_added'].value_counts().unstack().fillna(0).loc[['USA','India']].cumsum(axis=0).T"
      ],
      "metadata": {
        "id": "yfkQb2-X9aTM"
      },
      "execution_count": null,
      "outputs": []
    },
    {
      "cell_type": "markdown",
      "source": [
        "USA & India¶\n",
        "As the two largest content countries, it might be fun to compare the two"
      ],
      "metadata": {
        "id": "OUlEaZJi9dbI"
      }
    },
    {
      "cell_type": "code",
      "source": [
        "fig, ax = plt.subplots(1, 1, figsize=(12, 6))\n",
        "color = ['#221f1f', '#b20710','#f5f5f1']\n",
        "\n",
        "for i, hs in enumerate(us_ind['first_country'].value_counts().index):\n",
        "    hs_built = us_ind[us_ind['first_country']==hs]['year_added'].value_counts().sort_index()\n",
        "    ax.plot(hs_built.index, hs_built, color=color[i], label=hs)\n",
        "    #ax.fill_between(hs_built.index, 0, hs_built, color=color[i], alpha=0.4)\n",
        "    ax.fill_between(hs_built.index, 0, hs_built, color=color[i], label=hs)\n",
        "\n",
        "\n",
        "ax.set_ylim(0, 1000)\n",
        "#ax.legend(loc='upper left')\n",
        "for s in ['top', 'right']:\n",
        "    ax.spines[s].set_visible(False)\n",
        "\n",
        "ax.yaxis.tick_right()\n",
        "\n",
        "ax.axhline(y = 0, color = 'black', linewidth = 1.3, alpha = .4)\n",
        "\n",
        "#ax.set_ylim(0, 50)\n",
        "#ax.legend(loc='upper left')\n",
        "for s in ['top', 'right','bottom','left']:\n",
        "    ax.spines[s].set_visible(False)\n",
        "    ax.grid(False)\n",
        "ax.set_xticklabels(data_sub.index, fontfamily='serif', rotation=0)\n",
        "ax.margins(x=0) # remove white spaces next to margins\n",
        "\n",
        "ax.set_xlim(2008,2020)\n",
        "plt.xticks(np.arange(2008, 2021, 1))\n",
        "\n",
        "fig.text(0.13, 0.85, 'USA vs. India: When was content added?', fontsize=15, fontweight='bold', fontfamily='serif')\n",
        "fig.text(0.13, 0.58,\n",
        "'''\n",
        "We know from our work above that Netflix is dominated by the USA & India.\n",
        "It would also be reasonable to assume that, since Netflix is an American\n",
        "compnany, Netflix increased content first in the USA, before\n",
        "other nations.\n",
        "\n",
        "That is exactly what we see here; a slow and then rapid\n",
        "increase in content for the USA, followed by Netflix\n",
        "being launched to the Indian market in 2016.'''\n",
        "\n",
        ", fontsize=12, fontweight='light', fontfamily='serif')\n",
        "\n",
        "fig.text(0.13,0.15,\"India\", fontweight=\"bold\", fontfamily='serif', fontsize=15, color='#b20710')\n",
        "fig.text(0.188,0.15,\"|\", fontweight=\"bold\", fontfamily='serif', fontsize=15, color='black')\n",
        "fig.text(0.198,0.15,\"USA\", fontweight=\"bold\", fontfamily='serif', fontsize=15, color='#221f1f')\n",
        "\n",
        "\n",
        "ax.tick_params(axis=u'both', which=u'both',length=0)\n",
        "\n",
        "\n",
        "plt.show()"
      ],
      "metadata": {
        "id": "AkAPa7Br98ha"
      },
      "execution_count": null,
      "outputs": []
    },
    {
      "cell_type": "code",
      "source": [
        "us_ind = df[(df['first_country'] == 'USA') | (df['first_country'] == 'India' )]\n",
        "\n",
        "data_sub = df.groupby('first_country')['year_added'].value_counts().unstack().fillna(0).loc[['USA','India']].cumsum(axis=0).T\n",
        "data_sub.insert(0, \"base\", np.zeros(len(data_sub)))\n",
        "\n",
        "data_sub = data_sub.add(-us_ind['year_added'].value_counts()/2, axis=0)"
      ],
      "metadata": {
        "id": "9zmtUHnY-XLG"
      },
      "execution_count": null,
      "outputs": []
    },
    {
      "cell_type": "markdown",
      "source": [
        "So the USA dominates. But is there a plot that can convey this in another way?"
      ],
      "metadata": {
        "id": "qSjK4cT7-Zxx"
      }
    },
    {
      "cell_type": "code",
      "source": [
        "fig, ax = plt.subplots(1, 1, figsize=(14, 6))\n",
        "color = ['#b20710','#221f1f'][::-1]\n",
        "hs_list = data_sub.columns\n",
        "hs_built = data_sub[hs]\n",
        "\n",
        "for i, hs in enumerate(hs_list):\n",
        "    if i == 0 : continue\n",
        "    ax.fill_between(hs_built.index, data_sub.iloc[:,i-1], data_sub.iloc[:,i], color=color[i-1])\n",
        "\n",
        "for s in ['top', 'right', 'bottom', 'left']:\n",
        "    ax.spines[s].set_visible(False)\n",
        "ax.set_axisbelow(True)\n",
        "ax.set_yticks([])\n",
        "#ax.legend(loc='upper left')\n",
        "ax.grid(False)\n",
        "\n",
        "fig.text(0.16, 0.76, 'USA vs. India: Stream graph of new content added', fontsize=15, fontweight='bold', fontfamily='serif')\n",
        "fig.text(0.16, 0.575,\n",
        "'''\n",
        "Seeing the data displayed like this helps\n",
        "us to realise just how much content is added in the USA.\n",
        "Remember, India has the second largest amount of\n",
        "content yet is dwarfed by the USA.'''\n",
        ", fontsize=12, fontweight='light', fontfamily='serif')\n",
        "\n",
        "fig.text(0.16,0.41,\"India\", fontweight=\"bold\", fontfamily='serif', fontsize=15, color='#b20710')\n",
        "fig.text(0.208,0.41,\"|\", fontweight=\"bold\", fontfamily='serif', fontsize=15, color='black')\n",
        "fig.text(0.218,0.41,\"USA\", fontweight=\"bold\", fontfamily='serif', fontsize=15, color='#221f1f')\n",
        "\n",
        "\n",
        "ax.tick_params(axis=u'y', which=u'both',length=0)\n",
        "\n",
        "plt.show()"
      ],
      "metadata": {
        "id": "h9nfr29f-aIt"
      },
      "execution_count": null,
      "outputs": []
    },
    {
      "cell_type": "markdown",
      "source": [
        "Lastly, we can view a wordcloud to get an overview of Netflix titles\n",
        "It is interesting to note that many films share the same key words in their titles."
      ],
      "metadata": {
        "id": "C6SP0Gvk-la6"
      }
    },
    {
      "cell_type": "code",
      "source": [
        "def transform_zeros(val):\n",
        "    if val == 0:\n",
        "        return 255\n",
        "    else:\n",
        "        return val"
      ],
      "metadata": {
        "id": "O0Re7JHpFa7W"
      },
      "execution_count": null,
      "outputs": []
    },
    {
      "cell_type": "code",
      "source": [
        "from wordcloud import WordCloud\n",
        "import random\n",
        "from PIL import Image\n",
        "import matplotlib\n",
        "\n",
        "# Custom colour map based on Netflix palette\n",
        "cmap = matplotlib.colors.LinearSegmentedColormap.from_list(\"\", ['#221f1f', '#b20710'])\n",
        "\n",
        "text = str(list(df['title'])).replace(',', '').replace('[', '').replace(\"'\", '').replace(']', '').replace('.', '')\n",
        "\n",
        "mask = np.array(Image.open('/content/cloned-repo/cloned-repo/advanced_content/4375011_logo_netflix_icon.png'))"
      ],
      "metadata": {
        "id": "3i0PsaZIGELY"
      },
      "execution_count": null,
      "outputs": []
    },
    {
      "cell_type": "code",
      "source": [
        "maskable_image = np.ndarray((mask.shape[0],mask.shape[1]), np.int32)"
      ],
      "metadata": {
        "id": "sFmLihkkG3I8"
      },
      "execution_count": null,
      "outputs": []
    },
    {
      "cell_type": "code",
      "source": [
        "for i in range(len(mask)):\n",
        "  #print(mask[i])\n",
        "  if mask[i].any()==0:\n",
        "    mask[i]=255\n",
        "    maskable_image[i] = list(map(transform_zeros, mask[i]))"
      ],
      "metadata": {
        "id": "4WODACLCGS7C"
      },
      "execution_count": null,
      "outputs": []
    },
    {
      "cell_type": "code",
      "source": [
        "wordcloud = WordCloud(background_color = 'white', width = 900,  height = 900,colormap=cmap, max_words = 150, mask = mask).generate(text)\n",
        "\n",
        "plt.figure( figsize=(5,5))\n",
        "plt.imshow(wordcloud, interpolation = 'bilinear')\n",
        "plt.axis('off')\n",
        "plt.tight_layout(pad=0)\n",
        "plt.show()"
      ],
      "metadata": {
        "id": "WUMUIJLi-mHc"
      },
      "execution_count": null,
      "outputs": []
    },
    {
      "cell_type": "markdown",
      "source": [
        "Word Clouds<br>\n",
        "https://www.holisticseo.digital/python-seo/word-cloud/\n"
      ],
      "metadata": {
        "id": "Iw0UPvJZu9rs"
      }
    }
  ]
}