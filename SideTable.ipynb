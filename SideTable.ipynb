{
  "nbformat": 4,
  "nbformat_minor": 0,
  "metadata": {
    "colab": {
      "name": "SideTable.ipynb",
      "provenance": [],
      "include_colab_link": true
    },
    "kernelspec": {
      "name": "python3",
      "display_name": "Python 3"
    },
    "accelerator": "GPU"
  },
  "cells": [
    {
      "cell_type": "markdown",
      "metadata": {
        "id": "view-in-github",
        "colab_type": "text"
      },
      "source": [
        "<a href=\"https://colab.research.google.com/github/cagBRT/Intro-to-Programming-with-Python/blob/master/SideTable.ipynb\" target=\"_parent\"><img src=\"https://colab.research.google.com/assets/colab-badge.svg\" alt=\"Open In Colab\"/></a>"
      ]
    },
    {
      "cell_type": "markdown",
      "metadata": {
        "id": "Tv3fSOgAC88T"
      },
      "source": [
        "This notebook demonstrates some of the uses of Sidetable, a Python library.\n",
        "https://pbpython.com/sidetable.html\n"
      ]
    },
    {
      "cell_type": "markdown",
      "source": [
        "Sidetable started as a supercharged combination of pandas value_counts plus crosstab that builds simple but useful summary tables of your pandas DataFrame.\n",
        "\n",
        "It has since expanded to provide support for common and useful pandas tasks such as adding subtotals to your DataFrame or flattening hierarchical columns."
      ],
      "metadata": {
        "id": "sVPdrnhiHOAT"
      }
    },
    {
      "cell_type": "code",
      "metadata": {
        "id": "KzHWIf8uBGWT",
        "outputId": "f4914a4d-4189-41d8-a5fb-2bde15d00177",
        "colab": {
          "base_uri": "https://localhost:8080/",
          "height": 380
        }
      },
      "source": [
        "# Clone the entire repo.\n",
        "!git clone -l -s https://github.com/cagBRT/Intro-to-Programming-with-Python.git cloned-repo\n",
        "%cd cloned-repo\n",
        "!ls"
      ],
      "execution_count": null,
      "outputs": [
        {
          "output_type": "stream",
          "text": [
            "Cloning into 'cloned-repo'...\n",
            "warning: --local is ignored\n",
            "remote: Enumerating objects: 691, done.\u001b[K\n",
            "remote: Total 691 (delta 0), reused 0 (delta 0), pack-reused 691\u001b[K\n",
            "Receiving objects: 100% (691/691), 12.16 MiB | 13.92 MiB/s, done.\n",
            "Resolving deltas: 100% (377/377), done.\n",
            "/content/cloned-repo\n",
            "C10_Intro_to_Python.ipynb      C6_Intro_to_Python.ipynb\n",
            "C_11_Intro_to_Python.ipynb     C7_1_Intro_to_Python.ipynb\n",
            "c1-content\t\t       C7_2_Intro_to_Python.ipynb\n",
            "C1_Intro_to_Python.ipynb       c7-content\n",
            "c2-content\t\t       c8-content\n",
            "C2_IntroToMLProgramming.ipynb  C8_Intro_to_Python.ipynb\n",
            "c3-content\t\t       C9_Intro_to_Python.ipynb\n",
            "C3_Intro_To_Python.ipynb       data_files\n",
            "c4-content\t\t       Hitters.csv\n",
            "C4_Intro_to_Python.ipynb       README.md\n",
            "c5-content\t\t       SideTable.ipynb\n",
            "C5_Intro_to_Python.ipynb       stinkbug.png\n",
            "C6_2_Intro_to_Python.ipynb     USA_cars_datasets.csv\n",
            "c6-content\n"
          ],
          "name": "stdout"
        }
      ]
    },
    {
      "cell_type": "markdown",
      "metadata": {
        "id": "9rUn7YiPimsI"
      },
      "source": [
        "**Install sidetable**\n"
      ]
    },
    {
      "cell_type": "code",
      "metadata": {
        "id": "1drI-pTog080",
        "outputId": "dda686de-e6a9-427a-b913-716419a4dc32",
        "colab": {
          "base_uri": "https://localhost:8080/",
          "height": 279
        }
      },
      "source": [
        "!pip install sidetable"
      ],
      "execution_count": null,
      "outputs": [
        {
          "output_type": "stream",
          "text": [
            "Collecting sidetable\n",
            "  Downloading https://files.pythonhosted.org/packages/45/cf/d9d6ea5785788b0e748336657f60d0e73e372b4b4f25e461f0096d11b850/sidetable-0.3.0.tar.gz\n",
            "Requirement already satisfied: pandas>=1.0 in /usr/local/lib/python3.6/dist-packages (from sidetable) (1.0.4)\n",
            "Requirement already satisfied: pytz>=2017.2 in /usr/local/lib/python3.6/dist-packages (from pandas>=1.0->sidetable) (2018.9)\n",
            "Requirement already satisfied: numpy>=1.13.3 in /usr/local/lib/python3.6/dist-packages (from pandas>=1.0->sidetable) (1.18.5)\n",
            "Requirement already satisfied: python-dateutil>=2.6.1 in /usr/local/lib/python3.6/dist-packages (from pandas>=1.0->sidetable) (2.8.1)\n",
            "Requirement already satisfied: six>=1.5 in /usr/local/lib/python3.6/dist-packages (from python-dateutil>=2.6.1->pandas>=1.0->sidetable) (1.12.0)\n",
            "Building wheels for collected packages: sidetable\n",
            "  Building wheel for sidetable (setup.py) ... \u001b[?25l\u001b[?25hdone\n",
            "  Created wheel for sidetable: filename=sidetable-0.3.0-cp36-none-any.whl size=9391 sha256=9353299debc97f8b78f813d075631d47c92f86b282713a03784918219aaff462\n",
            "  Stored in directory: /root/.cache/pip/wheels/cb/89/c8/8523a369438a97da6e37ade1cf5bb7ba6f7638a42ebc22594c\n",
            "Successfully built sidetable\n",
            "Installing collected packages: sidetable\n",
            "Successfully installed sidetable-0.3.0\n"
          ],
          "name": "stdout"
        }
      ]
    },
    {
      "cell_type": "code",
      "metadata": {
        "id": "0i9bRaA5g-ff"
      },
      "source": [
        "import pandas as pd\n",
        "import sidetable"
      ],
      "execution_count": null,
      "outputs": []
    },
    {
      "cell_type": "markdown",
      "metadata": {
        "id": "eXEVOwD3BSP5"
      },
      "source": [
        "**Get data**\n",
        "<br>Load the data as a pandas dataframe"
      ]
    },
    {
      "cell_type": "code",
      "metadata": {
        "id": "Fz3UeRgGhCJW",
        "outputId": "f3d0493b-90a9-4b35-e080-cafade0e55b0",
        "colab": {
          "base_uri": "https://localhost:8080/",
          "height": 198
        }
      },
      "source": [
        "df = pd.read_csv(\"USA_cars_datasets.csv\")\n",
        "df.head()"
      ],
      "execution_count": null,
      "outputs": [
        {
          "output_type": "execute_result",
          "data": {
            "text/html": [
              "<div>\n",
              "<style scoped>\n",
              "    .dataframe tbody tr th:only-of-type {\n",
              "        vertical-align: middle;\n",
              "    }\n",
              "\n",
              "    .dataframe tbody tr th {\n",
              "        vertical-align: top;\n",
              "    }\n",
              "\n",
              "    .dataframe thead th {\n",
              "        text-align: right;\n",
              "    }\n",
              "</style>\n",
              "<table border=\"1\" class=\"dataframe\">\n",
              "  <thead>\n",
              "    <tr style=\"text-align: right;\">\n",
              "      <th></th>\n",
              "      <th>Unnamed: 0</th>\n",
              "      <th>price</th>\n",
              "      <th>brand</th>\n",
              "      <th>model</th>\n",
              "      <th>year</th>\n",
              "      <th>title_status</th>\n",
              "      <th>mileage</th>\n",
              "      <th>color</th>\n",
              "      <th>vin</th>\n",
              "      <th>lot</th>\n",
              "      <th>state</th>\n",
              "      <th>country</th>\n",
              "      <th>condition</th>\n",
              "    </tr>\n",
              "  </thead>\n",
              "  <tbody>\n",
              "    <tr>\n",
              "      <th>0</th>\n",
              "      <td>0</td>\n",
              "      <td>6300</td>\n",
              "      <td>toyota</td>\n",
              "      <td>cruiser</td>\n",
              "      <td>2008</td>\n",
              "      <td>clean vehicle</td>\n",
              "      <td>274117.0</td>\n",
              "      <td>black</td>\n",
              "      <td>jtezu11f88k007763</td>\n",
              "      <td>159348797</td>\n",
              "      <td>new jersey</td>\n",
              "      <td>usa</td>\n",
              "      <td>10 days left</td>\n",
              "    </tr>\n",
              "    <tr>\n",
              "      <th>1</th>\n",
              "      <td>1</td>\n",
              "      <td>2899</td>\n",
              "      <td>ford</td>\n",
              "      <td>se</td>\n",
              "      <td>2011</td>\n",
              "      <td>clean vehicle</td>\n",
              "      <td>190552.0</td>\n",
              "      <td>silver</td>\n",
              "      <td>2fmdk3gc4bbb02217</td>\n",
              "      <td>166951262</td>\n",
              "      <td>tennessee</td>\n",
              "      <td>usa</td>\n",
              "      <td>6 days left</td>\n",
              "    </tr>\n",
              "    <tr>\n",
              "      <th>2</th>\n",
              "      <td>2</td>\n",
              "      <td>5350</td>\n",
              "      <td>dodge</td>\n",
              "      <td>mpv</td>\n",
              "      <td>2018</td>\n",
              "      <td>clean vehicle</td>\n",
              "      <td>39590.0</td>\n",
              "      <td>silver</td>\n",
              "      <td>3c4pdcgg5jt346413</td>\n",
              "      <td>167655728</td>\n",
              "      <td>georgia</td>\n",
              "      <td>usa</td>\n",
              "      <td>2 days left</td>\n",
              "    </tr>\n",
              "    <tr>\n",
              "      <th>3</th>\n",
              "      <td>3</td>\n",
              "      <td>25000</td>\n",
              "      <td>ford</td>\n",
              "      <td>door</td>\n",
              "      <td>2014</td>\n",
              "      <td>clean vehicle</td>\n",
              "      <td>64146.0</td>\n",
              "      <td>blue</td>\n",
              "      <td>1ftfw1et4efc23745</td>\n",
              "      <td>167753855</td>\n",
              "      <td>virginia</td>\n",
              "      <td>usa</td>\n",
              "      <td>22 hours left</td>\n",
              "    </tr>\n",
              "    <tr>\n",
              "      <th>4</th>\n",
              "      <td>4</td>\n",
              "      <td>27700</td>\n",
              "      <td>chevrolet</td>\n",
              "      <td>1500</td>\n",
              "      <td>2018</td>\n",
              "      <td>clean vehicle</td>\n",
              "      <td>6654.0</td>\n",
              "      <td>red</td>\n",
              "      <td>3gcpcrec2jg473991</td>\n",
              "      <td>167763266</td>\n",
              "      <td>florida</td>\n",
              "      <td>usa</td>\n",
              "      <td>22 hours left</td>\n",
              "    </tr>\n",
              "  </tbody>\n",
              "</table>\n",
              "</div>"
            ],
            "text/plain": [
              "   Unnamed: 0  price      brand  ...       state  country      condition\n",
              "0           0   6300     toyota  ...  new jersey      usa   10 days left\n",
              "1           1   2899       ford  ...   tennessee      usa    6 days left\n",
              "2           2   5350      dodge  ...     georgia      usa    2 days left\n",
              "3           3  25000       ford  ...    virginia      usa  22 hours left\n",
              "4           4  27700  chevrolet  ...     florida      usa  22 hours left\n",
              "\n",
              "[5 rows x 13 columns]"
            ]
          },
          "metadata": {
            "tags": []
          },
          "execution_count": 4
        }
      ]
    },
    {
      "cell_type": "markdown",
      "metadata": {
        "id": "NIhHA_jUFiVq"
      },
      "source": [
        "Assignment 1<br>\n",
        "Load the dataset phoenix_uber_trips.csv into a Pandas dataframe"
      ]
    },
    {
      "cell_type": "code",
      "metadata": {
        "id": "myG2jqpAFvfa",
        "colab": {
          "base_uri": "https://localhost:8080/",
          "height": 218
        },
        "outputId": "a4a53093-e34d-4491-c806-06574b349418"
      },
      "source": [
        "df_hitter = pd.read_csv(\"Hitters.csv\")\n",
        "df_hitter.head()"
      ],
      "execution_count": null,
      "outputs": [
        {
          "output_type": "execute_result",
          "data": {
            "text/html": [
              "<div>\n",
              "<style scoped>\n",
              "    .dataframe tbody tr th:only-of-type {\n",
              "        vertical-align: middle;\n",
              "    }\n",
              "\n",
              "    .dataframe tbody tr th {\n",
              "        vertical-align: top;\n",
              "    }\n",
              "\n",
              "    .dataframe thead th {\n",
              "        text-align: right;\n",
              "    }\n",
              "</style>\n",
              "<table border=\"1\" class=\"dataframe\">\n",
              "  <thead>\n",
              "    <tr style=\"text-align: right;\">\n",
              "      <th></th>\n",
              "      <th>AtBat</th>\n",
              "      <th>Hits</th>\n",
              "      <th>HmRun</th>\n",
              "      <th>Runs</th>\n",
              "      <th>RBI</th>\n",
              "      <th>Walks</th>\n",
              "      <th>Years</th>\n",
              "      <th>CAtBat</th>\n",
              "      <th>CHits</th>\n",
              "      <th>CHmRun</th>\n",
              "      <th>CRuns</th>\n",
              "      <th>CRBI</th>\n",
              "      <th>CWalks</th>\n",
              "      <th>League</th>\n",
              "      <th>Division</th>\n",
              "      <th>PutOuts</th>\n",
              "      <th>Assists</th>\n",
              "      <th>Errors</th>\n",
              "      <th>Salary</th>\n",
              "      <th>NewLeague</th>\n",
              "    </tr>\n",
              "  </thead>\n",
              "  <tbody>\n",
              "    <tr>\n",
              "      <th>0</th>\n",
              "      <td>293</td>\n",
              "      <td>66</td>\n",
              "      <td>1</td>\n",
              "      <td>30</td>\n",
              "      <td>29</td>\n",
              "      <td>14</td>\n",
              "      <td>1</td>\n",
              "      <td>293</td>\n",
              "      <td>66</td>\n",
              "      <td>1</td>\n",
              "      <td>30</td>\n",
              "      <td>29</td>\n",
              "      <td>14</td>\n",
              "      <td>A</td>\n",
              "      <td>E</td>\n",
              "      <td>446</td>\n",
              "      <td>33</td>\n",
              "      <td>20</td>\n",
              "      <td>NaN</td>\n",
              "      <td>A</td>\n",
              "    </tr>\n",
              "    <tr>\n",
              "      <th>1</th>\n",
              "      <td>315</td>\n",
              "      <td>81</td>\n",
              "      <td>7</td>\n",
              "      <td>24</td>\n",
              "      <td>38</td>\n",
              "      <td>39</td>\n",
              "      <td>14</td>\n",
              "      <td>3449</td>\n",
              "      <td>835</td>\n",
              "      <td>69</td>\n",
              "      <td>321</td>\n",
              "      <td>414</td>\n",
              "      <td>375</td>\n",
              "      <td>N</td>\n",
              "      <td>W</td>\n",
              "      <td>632</td>\n",
              "      <td>43</td>\n",
              "      <td>10</td>\n",
              "      <td>475.0</td>\n",
              "      <td>N</td>\n",
              "    </tr>\n",
              "    <tr>\n",
              "      <th>2</th>\n",
              "      <td>479</td>\n",
              "      <td>130</td>\n",
              "      <td>18</td>\n",
              "      <td>66</td>\n",
              "      <td>72</td>\n",
              "      <td>76</td>\n",
              "      <td>3</td>\n",
              "      <td>1624</td>\n",
              "      <td>457</td>\n",
              "      <td>63</td>\n",
              "      <td>224</td>\n",
              "      <td>266</td>\n",
              "      <td>263</td>\n",
              "      <td>A</td>\n",
              "      <td>W</td>\n",
              "      <td>880</td>\n",
              "      <td>82</td>\n",
              "      <td>14</td>\n",
              "      <td>480.0</td>\n",
              "      <td>A</td>\n",
              "    </tr>\n",
              "    <tr>\n",
              "      <th>3</th>\n",
              "      <td>496</td>\n",
              "      <td>141</td>\n",
              "      <td>20</td>\n",
              "      <td>65</td>\n",
              "      <td>78</td>\n",
              "      <td>37</td>\n",
              "      <td>11</td>\n",
              "      <td>5628</td>\n",
              "      <td>1575</td>\n",
              "      <td>225</td>\n",
              "      <td>828</td>\n",
              "      <td>838</td>\n",
              "      <td>354</td>\n",
              "      <td>N</td>\n",
              "      <td>E</td>\n",
              "      <td>200</td>\n",
              "      <td>11</td>\n",
              "      <td>3</td>\n",
              "      <td>500.0</td>\n",
              "      <td>N</td>\n",
              "    </tr>\n",
              "    <tr>\n",
              "      <th>4</th>\n",
              "      <td>321</td>\n",
              "      <td>87</td>\n",
              "      <td>10</td>\n",
              "      <td>39</td>\n",
              "      <td>42</td>\n",
              "      <td>30</td>\n",
              "      <td>2</td>\n",
              "      <td>396</td>\n",
              "      <td>101</td>\n",
              "      <td>12</td>\n",
              "      <td>48</td>\n",
              "      <td>46</td>\n",
              "      <td>33</td>\n",
              "      <td>N</td>\n",
              "      <td>E</td>\n",
              "      <td>805</td>\n",
              "      <td>40</td>\n",
              "      <td>4</td>\n",
              "      <td>91.5</td>\n",
              "      <td>N</td>\n",
              "    </tr>\n",
              "  </tbody>\n",
              "</table>\n",
              "</div>"
            ],
            "text/plain": [
              "   AtBat  Hits  HmRun  Runs  RBI  ...  PutOuts  Assists  Errors  Salary  NewLeague\n",
              "0    293    66      1    30   29  ...      446       33      20     NaN          A\n",
              "1    315    81      7    24   38  ...      632       43      10   475.0          N\n",
              "2    479   130     18    66   72  ...      880       82      14   480.0          A\n",
              "3    496   141     20    65   78  ...      200       11       3   500.0          N\n",
              "4    321    87     10    39   42  ...      805       40       4    91.5          N\n",
              "\n",
              "[5 rows x 20 columns]"
            ]
          },
          "metadata": {
            "tags": []
          },
          "execution_count": 5
        }
      ]
    },
    {
      "cell_type": "markdown",
      "metadata": {
        "id": "0IZiLp7hGHn2"
      },
      "source": [
        "**Assignment 2**<br>\n",
        "How many rows are in the Uber Hitters dataset?"
      ]
    },
    {
      "cell_type": "code",
      "metadata": {
        "id": "tlGfn0P4GB2-",
        "colab": {
          "base_uri": "https://localhost:8080/",
          "height": 35
        },
        "outputId": "719fa30b-01c3-4796-9ca6-76a673dffeb8"
      },
      "source": [
        "df_hitter.shape"
      ],
      "execution_count": null,
      "outputs": [
        {
          "output_type": "execute_result",
          "data": {
            "text/plain": [
              "(322, 20)"
            ]
          },
          "metadata": {
            "tags": []
          },
          "execution_count": 7
        }
      ]
    },
    {
      "cell_type": "markdown",
      "metadata": {
        "id": "XNWulH0hBoSy"
      },
      "source": [
        "Use sidetable to determine the top 10 most frequently listed brands"
      ]
    },
    {
      "cell_type": "code",
      "metadata": {
        "id": "BvGNiZh3h0i4",
        "outputId": "8aab9b37-17ce-4fe7-b2e6-1fb2910f62f7",
        "colab": {
          "base_uri": "https://localhost:8080/",
          "height": 348
        }
      },
      "source": [
        "df.stb.freq(['brand'])[:10]"
      ],
      "execution_count": null,
      "outputs": [
        {
          "output_type": "execute_result",
          "data": {
            "text/html": [
              "<div>\n",
              "<style scoped>\n",
              "    .dataframe tbody tr th:only-of-type {\n",
              "        vertical-align: middle;\n",
              "    }\n",
              "\n",
              "    .dataframe tbody tr th {\n",
              "        vertical-align: top;\n",
              "    }\n",
              "\n",
              "    .dataframe thead th {\n",
              "        text-align: right;\n",
              "    }\n",
              "</style>\n",
              "<table border=\"1\" class=\"dataframe\">\n",
              "  <thead>\n",
              "    <tr style=\"text-align: right;\">\n",
              "      <th></th>\n",
              "      <th>brand</th>\n",
              "      <th>Count</th>\n",
              "      <th>Percent</th>\n",
              "      <th>Cumulative Count</th>\n",
              "      <th>Cumulative Percent</th>\n",
              "    </tr>\n",
              "  </thead>\n",
              "  <tbody>\n",
              "    <tr>\n",
              "      <th>0</th>\n",
              "      <td>ford</td>\n",
              "      <td>1235</td>\n",
              "      <td>0.494198</td>\n",
              "      <td>1235</td>\n",
              "      <td>0.494198</td>\n",
              "    </tr>\n",
              "    <tr>\n",
              "      <th>1</th>\n",
              "      <td>dodge</td>\n",
              "      <td>432</td>\n",
              "      <td>0.172869</td>\n",
              "      <td>1667</td>\n",
              "      <td>0.667067</td>\n",
              "    </tr>\n",
              "    <tr>\n",
              "      <th>2</th>\n",
              "      <td>nissan</td>\n",
              "      <td>312</td>\n",
              "      <td>0.124850</td>\n",
              "      <td>1979</td>\n",
              "      <td>0.791917</td>\n",
              "    </tr>\n",
              "    <tr>\n",
              "      <th>3</th>\n",
              "      <td>chevrolet</td>\n",
              "      <td>297</td>\n",
              "      <td>0.118848</td>\n",
              "      <td>2276</td>\n",
              "      <td>0.910764</td>\n",
              "    </tr>\n",
              "    <tr>\n",
              "      <th>4</th>\n",
              "      <td>gmc</td>\n",
              "      <td>42</td>\n",
              "      <td>0.016807</td>\n",
              "      <td>2318</td>\n",
              "      <td>0.927571</td>\n",
              "    </tr>\n",
              "    <tr>\n",
              "      <th>5</th>\n",
              "      <td>jeep</td>\n",
              "      <td>30</td>\n",
              "      <td>0.012005</td>\n",
              "      <td>2348</td>\n",
              "      <td>0.939576</td>\n",
              "    </tr>\n",
              "    <tr>\n",
              "      <th>6</th>\n",
              "      <td>chrysler</td>\n",
              "      <td>18</td>\n",
              "      <td>0.007203</td>\n",
              "      <td>2366</td>\n",
              "      <td>0.946779</td>\n",
              "    </tr>\n",
              "    <tr>\n",
              "      <th>7</th>\n",
              "      <td>bmw</td>\n",
              "      <td>17</td>\n",
              "      <td>0.006803</td>\n",
              "      <td>2383</td>\n",
              "      <td>0.953581</td>\n",
              "    </tr>\n",
              "    <tr>\n",
              "      <th>8</th>\n",
              "      <td>hyundai</td>\n",
              "      <td>15</td>\n",
              "      <td>0.006002</td>\n",
              "      <td>2398</td>\n",
              "      <td>0.959584</td>\n",
              "    </tr>\n",
              "    <tr>\n",
              "      <th>9</th>\n",
              "      <td>kia</td>\n",
              "      <td>13</td>\n",
              "      <td>0.005202</td>\n",
              "      <td>2411</td>\n",
              "      <td>0.964786</td>\n",
              "    </tr>\n",
              "  </tbody>\n",
              "</table>\n",
              "</div>"
            ],
            "text/plain": [
              "       brand  Count   Percent  Cumulative Count  Cumulative Percent\n",
              "0       ford   1235  0.494198              1235            0.494198\n",
              "1      dodge    432  0.172869              1667            0.667067\n",
              "2     nissan    312  0.124850              1979            0.791917\n",
              "3  chevrolet    297  0.118848              2276            0.910764\n",
              "4        gmc     42  0.016807              2318            0.927571\n",
              "5       jeep     30  0.012005              2348            0.939576\n",
              "6   chrysler     18  0.007203              2366            0.946779\n",
              "7        bmw     17  0.006803              2383            0.953581\n",
              "8    hyundai     15  0.006002              2398            0.959584\n",
              "9        kia     13  0.005202              2411            0.964786"
            ]
          },
          "metadata": {
            "tags": []
          },
          "execution_count": 8
        }
      ]
    },
    {
      "cell_type": "markdown",
      "metadata": {
        "id": "kXQMhALrGV7K"
      },
      "source": [
        "**Assignment 3**"
      ]
    },
    {
      "cell_type": "markdown",
      "metadata": {
        "id": "APLrqWnAJWhD"
      },
      "source": [
        "Use sidetable to how many players have hit 4 homeruns"
      ]
    },
    {
      "cell_type": "code",
      "metadata": {
        "id": "fiqIfu_fIh29",
        "colab": {
          "base_uri": "https://localhost:8080/",
          "height": 348
        },
        "outputId": "4926aef4-9b9b-4d5b-e540-5eff4c556602"
      },
      "source": [
        "df_hitter.stb.freq(['Salary'])[:10]"
      ],
      "execution_count": null,
      "outputs": [
        {
          "output_type": "execute_result",
          "data": {
            "text/html": [
              "<div>\n",
              "<style scoped>\n",
              "    .dataframe tbody tr th:only-of-type {\n",
              "        vertical-align: middle;\n",
              "    }\n",
              "\n",
              "    .dataframe tbody tr th {\n",
              "        vertical-align: top;\n",
              "    }\n",
              "\n",
              "    .dataframe thead th {\n",
              "        text-align: right;\n",
              "    }\n",
              "</style>\n",
              "<table border=\"1\" class=\"dataframe\">\n",
              "  <thead>\n",
              "    <tr style=\"text-align: right;\">\n",
              "      <th></th>\n",
              "      <th>Salary</th>\n",
              "      <th>Count</th>\n",
              "      <th>Percent</th>\n",
              "      <th>Cumulative Count</th>\n",
              "      <th>Cumulative Percent</th>\n",
              "    </tr>\n",
              "  </thead>\n",
              "  <tbody>\n",
              "    <tr>\n",
              "      <th>0</th>\n",
              "      <td>750.0</td>\n",
              "      <td>8</td>\n",
              "      <td>0.030418</td>\n",
              "      <td>8</td>\n",
              "      <td>0.030418</td>\n",
              "    </tr>\n",
              "    <tr>\n",
              "      <th>1</th>\n",
              "      <td>250.0</td>\n",
              "      <td>6</td>\n",
              "      <td>0.022814</td>\n",
              "      <td>14</td>\n",
              "      <td>0.053232</td>\n",
              "    </tr>\n",
              "    <tr>\n",
              "      <th>2</th>\n",
              "      <td>100.0</td>\n",
              "      <td>6</td>\n",
              "      <td>0.022814</td>\n",
              "      <td>20</td>\n",
              "      <td>0.076046</td>\n",
              "    </tr>\n",
              "    <tr>\n",
              "      <th>3</th>\n",
              "      <td>90.0</td>\n",
              "      <td>6</td>\n",
              "      <td>0.022814</td>\n",
              "      <td>26</td>\n",
              "      <td>0.098859</td>\n",
              "    </tr>\n",
              "    <tr>\n",
              "      <th>4</th>\n",
              "      <td>700.0</td>\n",
              "      <td>5</td>\n",
              "      <td>0.019011</td>\n",
              "      <td>31</td>\n",
              "      <td>0.117871</td>\n",
              "    </tr>\n",
              "    <tr>\n",
              "      <th>5</th>\n",
              "      <td>450.0</td>\n",
              "      <td>5</td>\n",
              "      <td>0.019011</td>\n",
              "      <td>36</td>\n",
              "      <td>0.136882</td>\n",
              "    </tr>\n",
              "    <tr>\n",
              "      <th>6</th>\n",
              "      <td>300.0</td>\n",
              "      <td>5</td>\n",
              "      <td>0.019011</td>\n",
              "      <td>41</td>\n",
              "      <td>0.155894</td>\n",
              "    </tr>\n",
              "    <tr>\n",
              "      <th>7</th>\n",
              "      <td>75.0</td>\n",
              "      <td>5</td>\n",
              "      <td>0.019011</td>\n",
              "      <td>46</td>\n",
              "      <td>0.174905</td>\n",
              "    </tr>\n",
              "    <tr>\n",
              "      <th>8</th>\n",
              "      <td>70.0</td>\n",
              "      <td>5</td>\n",
              "      <td>0.019011</td>\n",
              "      <td>51</td>\n",
              "      <td>0.193916</td>\n",
              "    </tr>\n",
              "    <tr>\n",
              "      <th>9</th>\n",
              "      <td>875.0</td>\n",
              "      <td>4</td>\n",
              "      <td>0.015209</td>\n",
              "      <td>55</td>\n",
              "      <td>0.209125</td>\n",
              "    </tr>\n",
              "  </tbody>\n",
              "</table>\n",
              "</div>"
            ],
            "text/plain": [
              "   Salary  Count   Percent  Cumulative Count  Cumulative Percent\n",
              "0   750.0      8  0.030418                 8            0.030418\n",
              "1   250.0      6  0.022814                14            0.053232\n",
              "2   100.0      6  0.022814                20            0.076046\n",
              "3    90.0      6  0.022814                26            0.098859\n",
              "4   700.0      5  0.019011                31            0.117871\n",
              "5   450.0      5  0.019011                36            0.136882\n",
              "6   300.0      5  0.019011                41            0.155894\n",
              "7    75.0      5  0.019011                46            0.174905\n",
              "8    70.0      5  0.019011                51            0.193916\n",
              "9   875.0      4  0.015209                55            0.209125"
            ]
          },
          "metadata": {
            "tags": []
          },
          "execution_count": 10
        }
      ]
    },
    {
      "cell_type": "markdown",
      "metadata": {
        "id": "m9f8azVhCOOi"
      },
      "source": [
        "Use sidetable to determine top three brands vs other brands"
      ]
    },
    {
      "cell_type": "code",
      "metadata": {
        "id": "K7ZrIt02iB9_",
        "outputId": "b3b30530-de68-4fce-88ce-53fb9d31282c",
        "colab": {
          "base_uri": "https://localhost:8080/",
          "height": 168
        }
      },
      "source": [
        "df.stb.freq(['brand'], thresh=.8, other_label='other brands')"
      ],
      "execution_count": null,
      "outputs": [
        {
          "output_type": "execute_result",
          "data": {
            "text/html": [
              "<div>\n",
              "<style scoped>\n",
              "    .dataframe tbody tr th:only-of-type {\n",
              "        vertical-align: middle;\n",
              "    }\n",
              "\n",
              "    .dataframe tbody tr th {\n",
              "        vertical-align: top;\n",
              "    }\n",
              "\n",
              "    .dataframe thead th {\n",
              "        text-align: right;\n",
              "    }\n",
              "</style>\n",
              "<table border=\"1\" class=\"dataframe\">\n",
              "  <thead>\n",
              "    <tr style=\"text-align: right;\">\n",
              "      <th></th>\n",
              "      <th>brand</th>\n",
              "      <th>Count</th>\n",
              "      <th>Percent</th>\n",
              "      <th>Cumulative Count</th>\n",
              "      <th>Cumulative Percent</th>\n",
              "    </tr>\n",
              "  </thead>\n",
              "  <tbody>\n",
              "    <tr>\n",
              "      <th>0</th>\n",
              "      <td>ford</td>\n",
              "      <td>1235</td>\n",
              "      <td>0.494198</td>\n",
              "      <td>1235</td>\n",
              "      <td>0.494198</td>\n",
              "    </tr>\n",
              "    <tr>\n",
              "      <th>1</th>\n",
              "      <td>dodge</td>\n",
              "      <td>432</td>\n",
              "      <td>0.172869</td>\n",
              "      <td>1667</td>\n",
              "      <td>0.667067</td>\n",
              "    </tr>\n",
              "    <tr>\n",
              "      <th>2</th>\n",
              "      <td>nissan</td>\n",
              "      <td>312</td>\n",
              "      <td>0.124850</td>\n",
              "      <td>1979</td>\n",
              "      <td>0.791917</td>\n",
              "    </tr>\n",
              "    <tr>\n",
              "      <th>3</th>\n",
              "      <td>other brands</td>\n",
              "      <td>520</td>\n",
              "      <td>0.208083</td>\n",
              "      <td>2499</td>\n",
              "      <td>1.000000</td>\n",
              "    </tr>\n",
              "  </tbody>\n",
              "</table>\n",
              "</div>"
            ],
            "text/plain": [
              "          brand  Count   Percent  Cumulative Count  Cumulative Percent\n",
              "0          ford   1235  0.494198              1235            0.494198\n",
              "1         dodge    432  0.172869              1667            0.667067\n",
              "2        nissan    312  0.124850              1979            0.791917\n",
              "3  other brands    520  0.208083              2499            1.000000"
            ]
          },
          "metadata": {
            "tags": []
          },
          "execution_count": 39
        }
      ]
    },
    {
      "cell_type": "code",
      "metadata": {
        "id": "o3mBEgqaiMeO"
      },
      "source": [
        "df.stb.freq(['brand','year'], thresh=.5)"
      ],
      "execution_count": null,
      "outputs": []
    },
    {
      "cell_type": "code",
      "metadata": {
        "id": "W1KfMZ5-iQe3"
      },
      "source": [
        "df[df.brand == 'ford'].stb.freq(['year'], thresh=.9)"
      ],
      "execution_count": null,
      "outputs": []
    },
    {
      "cell_type": "code",
      "metadata": {
        "id": "R91F7yVKiTtX"
      },
      "source": [
        "df.stb.freq(['brand'], value='price', thresh=.95)"
      ],
      "execution_count": null,
      "outputs": []
    },
    {
      "cell_type": "code",
      "metadata": {
        "id": "XSiwqII5idim"
      },
      "source": [
        "df.stb.freq(['brand'], value='price', thresh=.95, style=True)"
      ],
      "execution_count": null,
      "outputs": []
    }
  ]
}